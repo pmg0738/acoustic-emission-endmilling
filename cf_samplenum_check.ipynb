{
 "cells": [
  {
   "cell_type": "code",
   "execution_count": 1,
   "metadata": {},
   "outputs": [],
   "source": [
    "import numpy as np\n",
    "import matplotlib.pyplot as plt\n",
    "from loadTDMS import *\n",
    "from tqdm import tqdm"
   ]
  },
  {
   "cell_type": "code",
   "execution_count": 8,
   "metadata": {
    "scrolled": true
   },
   "outputs": [
    {
     "name": "stdout",
     "output_type": "stream",
     "text": [
      "7693788\n"
     ]
    },
    {
     "data": {
      "text/plain": [
       "[<matplotlib.lines.Line2D at 0x1ee4e01f220>]"
      ]
     },
     "execution_count": 8,
     "metadata": {},
     "output_type": "execute_result"
    }
   ],
   "source": [
    "%matplotlib qt\n",
    "# num = 201\n",
    "# path = rf\"C:\\Users\\pmg07\\Desktop\\aaa\\Dynamometer_{num}.tdms\"\n",
    "# path = rf\"C:\\Users\\pmg07\\Desktop\\aaa\\AE_{num}.tdms\"\n",
    "path = rf\"Z:\\100 Raw_data\\20230123---切削実験\\raw\\Dynamometer\\Dynamometer_89.tdms\"\n",
    "\n",
    "# path = rf\"Z:\\100 Raw_data\\20230117---切削実験\\raw\\Dynamometer\\1-5000\\Dynamometer_{num}.tdms\"\n",
    "# path = rf\"Y:\\park\\100 Raw_data\\20221027---切削実験\\Dynamometer\\Cutting\\Dynamo_2.tdms\"\n",
    "cd = load_tdms(path, ch_num=3)\n",
    "print(len(cd[1]))\n",
    "plt.plot(cd[1])"
   ]
  },
  {
   "cell_type": "code",
   "execution_count": null,
   "metadata": {},
   "outputs": [],
   "source": []
  },
  {
   "cell_type": "code",
   "execution_count": null,
   "metadata": {},
   "outputs": [],
   "source": []
  },
  {
   "cell_type": "code",
   "execution_count": 10,
   "metadata": {},
   "outputs": [
    {
     "data": {
      "text/plain": [
       "955851"
      ]
     },
     "execution_count": 10,
     "metadata": {},
     "output_type": "execute_result"
    }
   ],
   "source": [
    "9970000 - (8790000+(784149-560000))"
   ]
  },
  {
   "cell_type": "code",
   "execution_count": 11,
   "metadata": {},
   "outputs": [
    {
     "data": {
      "text/plain": [
       "8870419"
      ]
     },
     "execution_count": 11,
     "metadata": {},
     "output_type": "execute_result"
    }
   ],
   "source": [
    "9970000 - (1099581)"
   ]
  },
  {
   "cell_type": "code",
   "execution_count": null,
   "metadata": {},
   "outputs": [],
   "source": []
  },
  {
   "cell_type": "code",
   "execution_count": null,
   "metadata": {},
   "outputs": [],
   "source": []
  },
  {
   "cell_type": "code",
   "execution_count": 44,
   "metadata": {},
   "outputs": [
    {
     "name": "stdout",
     "output_type": "stream",
     "text": [
      "10488216\n",
      "659098\n",
      "10485599\n",
      "659040\n",
      "10488385\n",
      "659161\n",
      "1603019\n",
      "2697992\n",
      "1867858\n",
      "2698335\n",
      "1029387\n",
      "707754\n",
      "8310040\n",
      "659064\n",
      "10487006\n",
      "659077\n",
      "10485178\n",
      "659105\n",
      "10484754\n"
     ]
    }
   ],
   "source": [
    "num_list = np.arange(194,213)\n",
    "for i in num_list:\n",
    "    path = rf\"Z:\\100 Raw_data\\20230113---切削実験\\raw\\Dynamometer\\1-5000\\Dynamometer_{i}.tdms\"\n",
    "    cd = load_tdms(path, ch_num=3)\n",
    "#     print(f\"{i}.tdms : {len(cd[1])}\")\n",
    "    print(len(cd[1]))"
   ]
  },
  {
   "cell_type": "markdown",
   "metadata": {},
   "source": [
    "### 切削抵抗の有効なサンプル数：10200000"
   ]
  },
  {
   "cell_type": "code",
   "execution_count": 51,
   "metadata": {},
   "outputs": [
    {
     "data": {
      "text/plain": [
       "[<matplotlib.lines.Line2D at 0x15305f7ae20>]"
      ]
     },
     "execution_count": 51,
     "metadata": {},
     "output_type": "execute_result"
    }
   ],
   "source": [
    "%matplotlib qt\n",
    "plt.figure()\n",
    "plt.plot(cd[1])"
   ]
  },
  {
   "cell_type": "code",
   "execution_count": 22,
   "metadata": {},
   "outputs": [
    {
     "data": {
      "text/plain": [
       "[<matplotlib.lines.Line2D at 0x1d9991a5430>]"
      ]
     },
     "execution_count": 22,
     "metadata": {},
     "output_type": "execute_result"
    }
   ],
   "source": [
    "%matplotlib qt\n",
    "fig = plt.figure()\n",
    "# start = 323830\n",
    "# interval = 8170\n",
    "\n",
    "\n",
    "# for i in range(len(cd[1])):\n",
    "#     line_n = start + interval*i\n",
    "# #     print(line_n)\n",
    "#     plt.axvline(cd[1][line_n], color = 'b', label = 'axvline - full height')\n",
    "# plt.plot(cd[1][start:start+interval*8],cd[1][start:start+interval*8])\n",
    "ax = fig.add_subplot()\n",
    "ax.set_xticks(np.arange(0, 8170*5, 8170))\n",
    "ax.set_xticklabels(np.arange(0,8170*5,8170))\n",
    "\n",
    "\n",
    "plt.plot(cd[1][:8170*5])"
   ]
  },
  {
   "cell_type": "code",
   "execution_count": null,
   "metadata": {},
   "outputs": [],
   "source": []
  },
  {
   "cell_type": "code",
   "execution_count": null,
   "metadata": {},
   "outputs": [],
   "source": []
  },
  {
   "cell_type": "code",
   "execution_count": null,
   "metadata": {},
   "outputs": [],
   "source": []
  },
  {
   "cell_type": "code",
   "execution_count": null,
   "metadata": {},
   "outputs": [],
   "source": []
  },
  {
   "cell_type": "markdown",
   "metadata": {},
   "source": [
    "# FFT(切削中試し）"
   ]
  },
  {
   "cell_type": "code",
   "execution_count": 2,
   "metadata": {},
   "outputs": [],
   "source": [
    "from loadTDMS import *\n",
    "from fft_test import *\n",
    "import numpy as np\n",
    "import matplotlib.pyplot as plt\n",
    "from tqdm import tqdm"
   ]
  },
  {
   "cell_type": "code",
   "execution_count": 4,
   "metadata": {},
   "outputs": [
    {
     "data": {
      "text/plain": [
       "0"
      ]
     },
     "execution_count": 4,
     "metadata": {},
     "output_type": "execute_result"
    }
   ],
   "source": [
    "%matplotlib qt\n",
    "num = 54\n",
    "date = 20230120\n",
    "load_path = rf\"Z:\\100 Raw_data\\{date}---切削実験\\AE\\Cutting\\AE_{num}.tdms\"\n",
    "\n",
    "d = load_tdms(load_path, ch_num=3)\n",
    "start = 15000000\n",
    "d_w = d[0][start:start+25000]\n",
    "d_s = d[1][start:start+25000]\n",
    "\n",
    "    \n",
    "dt = 1/10**6\n",
    "split_t_r = 0.1 # 1つの枠で全体のどの割合のデータを分析するか。\n",
    "overlap = 0.5  # オーバーラップ率\n",
    "window_F = \"hamming\"  # 窓関数選択: hanning, hamming, blackman\n",
    "y_label = \"amplitude\"\n",
    "y_unit = \"V\"\n",
    "N = len(d_w)\n",
    "fq = np.linspace(0, N*dt, N)  # 周波数軸　linspace(開始,終了,分割数)\n",
    "\n",
    "\n",
    "fq_w, amp_w = FFT_main(fq, d_w, dt, split_t_r, overlap, window_F)\n",
    "fq_s, amp_s = FFT_main(fq, d_s, dt, split_t_r, overlap, window_F)\n",
    "\n",
    "    \n",
    "output_FN_w = rf\"Z:\\200 Produced_data\\20230120\\FFT\\work\\focus_on_one_rotation\\FFT2_{num}_w\"\n",
    "output_FN_s = rf\"Z:\\200 Produced_data\\20230120\\FFT\\work\\focus_on_one_rotation\\FFT2_{num}_s\"\n",
    "\n",
    "plot_FFT(fq_w, amp_w, output_FN_w, y_label, y_unit, num)\n",
    "plot_FFT(fq_s, amp_s, output_FN_s, y_label, y_unit, num)"
   ]
  },
  {
   "cell_type": "code",
   "execution_count": null,
   "metadata": {},
   "outputs": [],
   "source": []
  },
  {
   "cell_type": "code",
   "execution_count": null,
   "metadata": {},
   "outputs": [],
   "source": []
  }
 ],
 "metadata": {
  "kernelspec": {
   "display_name": "Python 3",
   "language": "python",
   "name": "python3"
  },
  "language_info": {
   "codemirror_mode": {
    "name": "ipython",
    "version": 3
   },
   "file_extension": ".py",
   "mimetype": "text/x-python",
   "name": "python",
   "nbconvert_exporter": "python",
   "pygments_lexer": "ipython3",
   "version": "3.8.3"
  }
 },
 "nbformat": 4,
 "nbformat_minor": 4
}
