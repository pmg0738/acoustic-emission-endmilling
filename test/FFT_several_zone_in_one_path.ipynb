{
 "cells": [
  {
   "cell_type": "code",
   "execution_count": 1,
   "metadata": {},
   "outputs": [],
   "source": [
    "from loadTDMS import *\n",
    "from fft_test import *\n",
    "import numpy as np\n",
    "import pandas as pd\n",
    "import matplotlib.pyplot as plt\n",
    "from tqdm import tqdm"
   ]
  },
  {
   "cell_type": "code",
   "execution_count": 9,
   "metadata": {},
   "outputs": [],
   "source": [
    "for i in range(0,15):\n",
    "    num = 4\n",
    "    load_path = rf\"Z:\\100 Raw_data\\20221027---切削実験\\AE\\Cutting\\AE_{num}.tdms\"\n",
    "    d = load_tdms(load_path, ch_num=3)\n",
    "    d = d[0][i*1000000:i*1000000+16384]\n",
    "\n",
    "    dt = 1/10**6\n",
    "    split_t_r = 0.1 # 1つの枠で全体のどの割合のデータを分析するか。\n",
    "    overlap = 0.5  # オーバーラップ率\n",
    "    window_F = \"hamming\"  # 窓関数選択: hanning, hamming, blackman\n",
    "    y_label = \"amplitude\"\n",
    "    y_unit = \"V\"\n",
    "    N = len(d)\n",
    "    fq = np.linspace(0, N*dt, N)  # 周波数軸　linspace(開始,終了,分割数)\n",
    "\n",
    "\n",
    "    fq_, amp_ = FFT_main(fq, d, dt, split_t_r, overlap, window_F)\n",
    "\n",
    "    #fig保存ー正規化前\n",
    "    output_FN = fr\"Z:\\200 Produced_data\\20221027\\FFTonePath_Focus\\fig\\FFT_{num}_{i}M\"\n",
    "    plot_FFT(fq_, amp_, output_FN, y_label, y_unit,num)\n",
    "\n",
    "    #dBに変換してcsv保存ー正規化前\n",
    "    amp_db = pd.DataFrame({'db': 20*np.log10(amp_)})\n",
    "    output_csv = fr\"Z:\\200 Produced_data\\20221027\\FFTonePath_Focus\\csv\\FFT_{num}_{i}M.csv\"\n",
    "    amp_db.to_csv(output_csv, header=False, index=False)"
   ]
  },
  {
   "cell_type": "code",
   "execution_count": 7,
   "metadata": {},
   "outputs": [
    {
     "data": {
      "text/plain": [
       "15727369"
      ]
     },
     "execution_count": 7,
     "metadata": {},
     "output_type": "execute_result"
    }
   ],
   "source": [
    "load_path = rf\"Z:\\100 Raw_data\\20221027---切削実験\\AE\\Cutting\\AE_4.tdms\"\n",
    "d = load_tdms(load_path, ch_num=3)\n",
    "len(d[0])"
   ]
  },
  {
   "cell_type": "code",
   "execution_count": 15,
   "metadata": {},
   "outputs": [],
   "source": [
    "def fft_integrated(num):\n",
    "    load_path = rf\"Z:\\100 Raw_data\\20221027---切削実験\\AE\\Cutting\\AE_{num}.tdms\"\n",
    "    d = load_tdms(load_path, ch_num=3)\n",
    "    d = d[0][x:x+16384]\n",
    "    \n",
    "    dt = 1/10**6\n",
    "    split_t_r = 0.1 # 1つの枠で全体のどの割合のデータを分析するか。\n",
    "    overlap = 0.5  # オーバーラップ率\n",
    "    window_F = \"hamming\"  # 窓関数選択: hanning, hamming, blackman\n",
    "    y_label = \"amplitude\"\n",
    "    y_unit = \"V\"\n",
    "    N = len(d)\n",
    "    fq = np.linspace(0, N*dt, N)  # 周波数軸　linspace(開始,終了,分割数)\n",
    "    \n",
    "    \n",
    "    fq_, amp_ = FFT_main(fq, d, dt, split_t_r, overlap, window_F)\n",
    "\n",
    "    #fig保存ー正規化前\n",
    "    output_FN = fr\"Z:\\200 Produced_data\\20221027\\FFTonePath_Focus\\fig\\FFT_{num}_{x}\"\n",
    "    plot_FFT(fq_, amp_, output_FN, y_label, y_unit,num)\n",
    "\n",
    "    #dBに変換してcsv保存ー正規化前\n",
    "    amp_db = pd.DataFrame({'db': 20*np.log10(amp_)})\n",
    "    output_csv = fr\"Z:\\200 Produced_data\\20221027\\FFTonePath_Focus\\csv\\FFT_{num}_{x}.csv\"\n",
    "    amp_db.to_csv(output_csv, header=False, index=False)"
   ]
  },
  {
   "cell_type": "code",
   "execution_count": 16,
   "metadata": {},
   "outputs": [],
   "source": [
    "for i in range(0,10):\n",
    "    x = 9_100_000 + 10_000 * i\n",
    "    fft_integrated(4)"
   ]
  },
  {
   "cell_type": "code",
   "execution_count": null,
   "metadata": {},
   "outputs": [],
   "source": [
    "import os\n",
    "\n",
    "for i in tqdm(range(2,170)):\n",
    "    path = rf\"Z:\\200 Produced_data\\20221027\\FFTonePath_Focus\\{i}\"\n",
    "    os.mkdir(path)"
   ]
  },
  {
   "cell_type": "code",
   "execution_count": null,
   "metadata": {},
   "outputs": [],
   "source": []
  },
  {
   "cell_type": "markdown",
   "metadata": {},
   "source": [
    "## ここから　1回転のガチのやつ\n",
    "fft_integrated_one_rotationは17時間かかる"
   ]
  },
  {
   "cell_type": "code",
   "execution_count": 112,
   "metadata": {},
   "outputs": [],
   "source": [
    "def fft_integrated_one_rotation(start,end,num,j):\n",
    "    load_path = rf\"Z:\\100 Raw_data\\20221027---切削実験\\AE\\Cutting\\AE_{num}.tdms\"\n",
    "    d = load_tdms(load_path, ch_num=3)\n",
    "    d = d[0][start:end]\n",
    "    \n",
    "    dt = 1/10**6\n",
    "    split_t_r = 0.1 # 1つの枠で全体のどの割合のデータを分析するか。\n",
    "    overlap = 0.5  # オーバーラップ率\n",
    "    window_F = \"hamming\"  # 窓関数選択: hanning, hamming, blackman\n",
    "    y_label = \"amplitude\"\n",
    "    y_unit = \"V\"\n",
    "    N = len(d)\n",
    "    fq = np.linspace(0, N*dt, N)  # 周波数軸　linspace(開始,終了,分割数)\n",
    "    \n",
    "    \n",
    "    fq_, amp_ = FFT_main(fq, d, dt, split_t_r, overlap, window_F)\n",
    "\n",
    "#     return 20*np.log(amp_)\n",
    "\n",
    "    #dBに変換してcsv保存ー正規化前\n",
    "    amp_db = pd.DataFrame({'db': 20*np.log10(amp_)})\n",
    "    output_csv = rf\"Z:\\200 Produced_data\\20221027\\FFTonePath_Focus\\{num}\\AE_FFT_{num}_{j}.csv\"\n",
    "    amp_db.to_csv(output_csv, header=False, index=False)"
   ]
  },
  {
   "cell_type": "code",
   "execution_count": 127,
   "metadata": {},
   "outputs": [],
   "source": [
    "def fft_integrated_one_rotation_do_not_to_csv(start,end,num,j):\n",
    "    load_path = rf\"Z:\\100 Raw_data\\20221027---切削実験\\AE\\Cutting\\AE_{num}.tdms\"\n",
    "    d = load_tdms(load_path, ch_num=3)\n",
    "    d = d[0][start:end]\n",
    "    \n",
    "    dt = 1/10**6\n",
    "    split_t_r = 0.1 # 1つの枠で全体のどの割合のデータを分析するか。\n",
    "    overlap = 0.5  # オーバーラップ率\n",
    "    window_F = \"hamming\"  # 窓関数選択: hanning, hamming, blackman\n",
    "    y_label = \"amplitude\"\n",
    "    y_unit = \"V\"\n",
    "    N = len(d)\n",
    "    fq = np.linspace(0, N*dt, N)  # 周波数軸　linspace(開始,終了,分割数)\n",
    "    \n",
    "    \n",
    "    fq_, amp_ = FFT_main(fq, d, dt, split_t_r, overlap, window_F)\n",
    "\n",
    "    return 20*np.log10(amp_) +85\n",
    "\n",
    "    #dBに変換してcsv保存ー正規化前\n",
    "#     amp_db = pd.DataFrame({'db': 20*np.log10(amp_)})\n",
    "#     output_csv = rf\"Z:\\200 Produced_data\\20221027\\FFTonePath_Focus\\{num}\\AE_FFT_{num}_{j}.csv\"\n",
    "#     amp_db.to_csv(output_csv, header=False, index=False)"
   ]
  },
  {
   "cell_type": "code",
   "execution_count": null,
   "metadata": {},
   "outputs": [],
   "source": []
  },
  {
   "cell_type": "code",
   "execution_count": 21,
   "metadata": {},
   "outputs": [
    {
     "name": "stderr",
     "output_type": "stream",
     "text": [
      "100%|██████████| 5/5 [00:03<00:00,  1.47it/s]\n",
      "100%|██████████| 5/5 [00:03<00:00,  1.36it/s]\n",
      "100%|██████████| 5/5 [00:03<00:00,  1.40it/s]\n"
     ]
    }
   ],
   "source": [
    "for i in range(1,2):\n",
    "    for j in tqdm(range(0,164)):\n",
    "        num = i\n",
    "        sample_num = 2**14\n",
    "        start = j * sample_num\n",
    "        end = (j+1) * sample_num\n",
    "        fft_integrated_one_rotation(start,end,num,j)"
   ]
  },
  {
   "cell_type": "code",
   "execution_count": 22,
   "metadata": {},
   "outputs": [
    {
     "data": {
      "text/html": [
       "<div>\n",
       "<style scoped>\n",
       "    .dataframe tbody tr th:only-of-type {\n",
       "        vertical-align: middle;\n",
       "    }\n",
       "\n",
       "    .dataframe tbody tr th {\n",
       "        vertical-align: top;\n",
       "    }\n",
       "\n",
       "    .dataframe thead th {\n",
       "        text-align: right;\n",
       "    }\n",
       "</style>\n",
       "<table border=\"1\" class=\"dataframe\">\n",
       "  <thead>\n",
       "    <tr style=\"text-align: right;\">\n",
       "      <th></th>\n",
       "      <th>-9.10000749875837</th>\n",
       "    </tr>\n",
       "  </thead>\n",
       "  <tbody>\n",
       "    <tr>\n",
       "      <th>0</th>\n",
       "      <td>-11.016135</td>\n",
       "    </tr>\n",
       "    <tr>\n",
       "      <th>1</th>\n",
       "      <td>-14.734926</td>\n",
       "    </tr>\n",
       "    <tr>\n",
       "      <th>2</th>\n",
       "      <td>-23.412497</td>\n",
       "    </tr>\n",
       "    <tr>\n",
       "      <th>3</th>\n",
       "      <td>-23.969392</td>\n",
       "    </tr>\n",
       "    <tr>\n",
       "      <th>4</th>\n",
       "      <td>-19.662293</td>\n",
       "    </tr>\n",
       "    <tr>\n",
       "      <th>...</th>\n",
       "      <td>...</td>\n",
       "    </tr>\n",
       "    <tr>\n",
       "      <th>814</th>\n",
       "      <td>-73.564000</td>\n",
       "    </tr>\n",
       "    <tr>\n",
       "      <th>815</th>\n",
       "      <td>-71.328450</td>\n",
       "    </tr>\n",
       "    <tr>\n",
       "      <th>816</th>\n",
       "      <td>-71.798203</td>\n",
       "    </tr>\n",
       "    <tr>\n",
       "      <th>817</th>\n",
       "      <td>-74.217963</td>\n",
       "    </tr>\n",
       "    <tr>\n",
       "      <th>818</th>\n",
       "      <td>-73.933405</td>\n",
       "    </tr>\n",
       "  </tbody>\n",
       "</table>\n",
       "<p>819 rows × 1 columns</p>\n",
       "</div>"
      ],
      "text/plain": [
       "     -9.10000749875837\n",
       "0           -11.016135\n",
       "1           -14.734926\n",
       "2           -23.412497\n",
       "3           -23.969392\n",
       "4           -19.662293\n",
       "..                 ...\n",
       "814         -73.564000\n",
       "815         -71.328450\n",
       "816         -71.798203\n",
       "817         -74.217963\n",
       "818         -73.933405\n",
       "\n",
       "[819 rows x 1 columns]"
      ]
     },
     "execution_count": 22,
     "metadata": {},
     "output_type": "execute_result"
    }
   ],
   "source": [
    "num = 1\n",
    "d = pd.read_csv(rf\"Z:\\200 Produced_data\\20221027\\FFTonePath_Focus\\{num}\\AE_FFT_{num}_{j}.csv\")\n"
   ]
  },
  {
   "cell_type": "code",
   "execution_count": 34,
   "metadata": {},
   "outputs": [],
   "source": [
    "d1 = pd.read_csv(rf\"Z:\\200 Produced_data\\20221027\\FFTonePath_Focus\\csv\\FFT_4_9140000.csv\")\n",
    "d2 = pd.read_csv(rf\"Z:\\200 Produced_data\\20221027\\FFTonePath_Focus\\csv\\FFT_4_9150000.csv\")\n",
    "d3 = pd.read_csv(rf\"Z:\\200 Produced_data\\20221027\\FFTonePath_Focus\\csv\\FFT_4_9160000.csv\")"
   ]
  },
  {
   "cell_type": "code",
   "execution_count": 63,
   "metadata": {},
   "outputs": [],
   "source": [
    "import csv\n",
    "# import pprint\n",
    "import time\n",
    "\n",
    "with open(rf\"Z:\\200 Produced_data\\20221027\\FFTonePath_Focus\\csv\\FFT_4_9140000.csv\") as f:\n",
    "    readers = csv.reader(f, delimiter=' ')"
   ]
  },
  {
   "cell_type": "code",
   "execution_count": 80,
   "metadata": {},
   "outputs": [],
   "source": [
    "import csv \n",
    "\n",
    "items = []\n",
    "\n",
    "nums = [9140000,9150000,9160000]\n",
    "\n",
    "for num in nums:\n",
    "    with open(rf\"Z:\\200 Produced_data\\20221027\\FFTonePath_Focus\\csv\\FFT_4_{num}.csv\") as csvfile:    \n",
    "        csvReader = csv.reader(csvfile)\n",
    "        item = []\n",
    "        for row in csvReader:        \n",
    "            item.append(float(row[0]) +85)\n",
    "        items.append(item)\n",
    "\n",
    "mensekis = np.array(items)"
   ]
  },
  {
   "cell_type": "code",
   "execution_count": 90,
   "metadata": {},
   "outputs": [
    {
     "data": {
      "text/plain": [
       "(3, 820)"
      ]
     },
     "execution_count": 90,
     "metadata": {},
     "output_type": "execute_result"
    }
   ],
   "source": [
    "mensekis.shape"
   ]
  },
  {
   "cell_type": "markdown",
   "metadata": {},
   "source": [
    "## 積分関数"
   ]
  },
  {
   "cell_type": "code",
   "execution_count": 86,
   "metadata": {},
   "outputs": [],
   "source": [
    "def time_hist_integrator_rect(dt, dx_dt):\n",
    "    xt = 0.\n",
    "    x = []\n",
    "    for dxt_dt in dx_dt:\n",
    "        xt += dxt_dt * dt\n",
    "        x.append(xt)        \n",
    "    return x[-1]"
   ]
  },
  {
   "cell_type": "markdown",
   "metadata": {},
   "source": [
    "### ジェットコースター、過渡期、通常型の面積のだいたいの数値"
   ]
  },
  {
   "cell_type": "code",
   "execution_count": 87,
   "metadata": {
    "scrolled": true
   },
   "outputs": [
    {
     "name": "stdout",
     "output_type": "stream",
     "text": [
      "15172.878227997664\n",
      "12997.617396135027\n",
      "11295.576761808934\n"
     ]
    }
   ],
   "source": [
    "for menseki in mensekis:\n",
    "    print(time_hist_integrator_rect(1,menseki))\n",
    "# print(time_hist_integrator_trap(1,dxt))\n",
    "# print(time_hist_integrator_simp(1,dxt))"
   ]
  },
  {
   "cell_type": "markdown",
   "metadata": {},
   "source": [
    "# 各パスの915分割ごとの面積をnpyに保存する部分\n",
    "fft_integrated_one_rotationでデータが作り終わると、これを実行するはずだけど、\n",
    "fftと面積出す部分統合検討なう"
   ]
  },
  {
   "cell_type": "code",
   "execution_count": 116,
   "metadata": {},
   "outputs": [
    {
     "name": "stderr",
     "output_type": "stream",
     "text": [
      "100%|██████████| 914/914 [00:10<00:00, 88.51it/s]\n"
     ]
    }
   ],
   "source": [
    "for num in [1]:\n",
    "    mensekis = []\n",
    "    for i in tqdm(range(0,914)):\n",
    "        with open(rf\"Z:\\200 Produced_data\\20221027\\FFTonePath_Focus\\{num}\\AE_FFT_{num}_{i}.csv\") as csvfile:    \n",
    "            csvReader = csv.reader(csvfile)\n",
    "            x = []\n",
    "            for row in csvReader:        \n",
    "                x.append(float(row[0]) +85)\n",
    "            menseki = time_hist_integrator_rect(1,x)\n",
    "            \n",
    "        mensekis.append(menseki)\n",
    "    np.array(mensekis)\n",
    "    np.save(rf\"Z:\\200 Produced_data\\20221027\\FFTonePath_Focus\\menseki\\{num}_test\", mensekis)"
   ]
  },
  {
   "cell_type": "code",
   "execution_count": 99,
   "metadata": {},
   "outputs": [
    {
     "name": "stdout",
     "output_type": "stream",
     "text": [
      "4\n",
      "----\n",
      "4\n",
      "----\n",
      "4\n",
      "----\n"
     ]
    }
   ],
   "source": [
    "for num in [1,2,3]:\n",
    "    d = np.load(rf\"Z:\\200 Produced_data\\20221027\\FFTonePath_Focus\\menseki\\{num}.npy\")\n",
    "#     for i in range()d.shape[0]\n",
    "    \n",
    "#     time_hist_integrator_rect(1,)"
   ]
  },
  {
   "cell_type": "code",
   "execution_count": 117,
   "metadata": {},
   "outputs": [
    {
     "data": {
      "text/plain": [
       "(914,)"
      ]
     },
     "execution_count": 117,
     "metadata": {},
     "output_type": "execute_result"
    }
   ],
   "source": [
    "d = np.load(rf\"Z:\\200 Produced_data\\20221027\\FFTonePath_Focus\\menseki\\1_test.npy\")\n",
    "d.shape"
   ]
  },
  {
   "cell_type": "code",
   "execution_count": 119,
   "metadata": {},
   "outputs": [
    {
     "data": {
      "text/plain": [
       "[<matplotlib.lines.Line2D at 0x1c93b40bb50>]"
      ]
     },
     "execution_count": 119,
     "metadata": {},
     "output_type": "execute_result"
    }
   ],
   "source": [
    "%matplotlib qt\n",
    "plt.figure()\n",
    "plt.plot(d[:195])"
   ]
  },
  {
   "cell_type": "code",
   "execution_count": 120,
   "metadata": {},
   "outputs": [
    {
     "data": {
      "text/plain": [
       "<matplotlib.axes._subplots.AxesSubplot at 0x1c93b431880>"
      ]
     },
     "execution_count": 120,
     "metadata": {},
     "output_type": "execute_result"
    }
   ],
   "source": [
    "import seaborn as sns\n",
    "sns.boxplot(data=d)"
   ]
  },
  {
   "cell_type": "code",
   "execution_count": 121,
   "metadata": {},
   "outputs": [
    {
     "data": {
      "text/plain": [
       "<matplotlib.axes._subplots.AxesSubplot at 0x1c93b49a8b0>"
      ]
     },
     "execution_count": 121,
     "metadata": {},
     "output_type": "execute_result"
    }
   ],
   "source": [
    "sns.distplot(d,kde=False, rug=False)"
   ]
  },
  {
   "cell_type": "code",
   "execution_count": null,
   "metadata": {},
   "outputs": [],
   "source": []
  },
  {
   "cell_type": "code",
   "execution_count": null,
   "metadata": {},
   "outputs": [],
   "source": []
  },
  {
   "cell_type": "code",
   "execution_count": null,
   "metadata": {},
   "outputs": [],
   "source": []
  },
  {
   "cell_type": "code",
   "execution_count": 135,
   "metadata": {},
   "outputs": [
    {
     "name": "stderr",
     "output_type": "stream",
     "text": [
      "100%|██████████| 50/50 [00:17<00:00,  2.86it/s]\n",
      "100%|██████████| 50/50 [00:17<00:00,  2.81it/s]\n"
     ]
    }
   ],
   "source": [
    "for i in range(1,3):\n",
    "    mensekis = []\n",
    "    for j in tqdm(range(0,50)):\n",
    "        num = i\n",
    "        sample_num = 2**14\n",
    "        start = j * sample_num\n",
    "        end = (j+1) * sample_num\n",
    "        fft_result = fft_integrated_one_rotation_do_not_to_csv(start,end,num,j)\n",
    "        menseki = time_hist_integrator_rect(1,fft_result)\n",
    "        mensekis.append(menseki)\n",
    "    d = np.array(mensekis)\n",
    "    np.save(rf\"Z:\\200 Produced_data\\20221027\\FFTonePath_Focus\\menseki\\{num}_test_integrated_test___\", mensekis)\n",
    "    histogram_pic = sns.distplot(d, kde=False, rug=False)\n",
    "    figure = histogram_pic.get_figure()\n",
    "    figure.savefig(rf\"Z:\\200 Produced_data\\20221027\\FFTonePath_Focus\\menseki\\1.png\")"
   ]
  },
  {
   "cell_type": "code",
   "execution_count": 123,
   "metadata": {},
   "outputs": [
    {
     "data": {
      "text/plain": [
       "array([], dtype=float64)"
      ]
     },
     "execution_count": 123,
     "metadata": {},
     "output_type": "execute_result"
    }
   ],
   "source": [
    "d"
   ]
  },
  {
   "cell_type": "code",
   "execution_count": 134,
   "metadata": {},
   "outputs": [],
   "source": [
    "histogram_pic = sns.distplot(d, kde=False, rug=False)\n",
    "figure = histogram_pic.get_figure()\n",
    "figure.savefig(rf\"Z:\\200 Produced_data\\20221027\\FFTonePath_Focus\\menseki\\1.png\")"
   ]
  },
  {
   "cell_type": "code",
   "execution_count": 2,
   "metadata": {},
   "outputs": [],
   "source": [
    "from tqdm import tqdm"
   ]
  },
  {
   "cell_type": "code",
   "execution_count": 6,
   "metadata": {},
   "outputs": [
    {
     "name": "stderr",
     "output_type": "stream",
     "text": [
      "100%|██████████| 1/1 [00:00<00:00,  3.76it/s]\n"
     ]
    },
    {
     "data": {
      "image/png": "[encoded data removed]",
      "text/plain": [
       "<Figure size 432x288 with 1 Axes>"
      ]
     },
     "metadata": {
      "needs_background": "light"
     },
     "output_type": "display_data"
    }
   ],
   "source": [
    "for num in tqdm([1]):\n",
    "    fig = plt.figure()\n",
    "    dd = np.load(rf\"Z:\\200 Produced_data\\20221027\\FFTonePath_Focus\\menseki\\Aligned\\{num}.npy\")\n",
    "    \n",
    "    ax = fig.add_subplot(ylim=(11000,18000))\n",
    "\n",
    "    plt.plot(dd)\n",
    "    fig.savefig(rf\"Z:\\200 Produced_data\\20221027\\FFTonePath_Focus\\menseki\\Aligned\\推移\\{num}.png\")"
   ]
  },
  {
   "cell_type": "code",
   "execution_count": null,
   "metadata": {},
   "outputs": [],
   "source": []
  },
  {
   "cell_type": "code",
   "execution_count": 2,
   "metadata": {},
   "outputs": [],
   "source": [
    "num = 4\n",
    "load_path = rf\"Z:\\100 Raw_data\\20221027---切削実験\\AE\\Cutting\\AE_{num}.tdms\"\n",
    "d = load_tdms(load_path, ch_num=3)"
   ]
  },
  {
   "cell_type": "code",
   "execution_count": null,
   "metadata": {},
   "outputs": [],
   "source": [
    "%matplotlib qt\n",
    "plt.figure()\n",
    "plt.plot(d)"
   ]
  },
  {
   "cell_type": "code",
   "execution_count": null,
   "metadata": {},
   "outputs": [],
   "source": []
  },
  {
   "cell_type": "code",
   "execution_count": null,
   "metadata": {},
   "outputs": [],
   "source": []
  },
  {
   "cell_type": "code",
   "execution_count": null,
   "metadata": {},
   "outputs": [],
   "source": []
  }
 ],
 "metadata": {
  "kernelspec": {
   "display_name": "Python 3",
   "language": "python",
   "name": "python3"
  },
  "language_info": {
   "codemirror_mode": {
    "name": "ipython",
    "version": 3
   },
   "file_extension": ".py",
   "mimetype": "text/x-python",
   "name": "python",
   "nbconvert_exporter": "python",
   "pygments_lexer": "ipython3",
   "version": "3.8.3"
  }
 },
 "nbformat": 4,
 "nbformat_minor": 4
}
