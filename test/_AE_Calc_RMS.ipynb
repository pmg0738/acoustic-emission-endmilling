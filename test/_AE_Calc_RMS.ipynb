{
 "cells": [
  {
   "cell_type": "code",
   "execution_count": 3,
   "metadata": {},
   "outputs": [],
   "source": [
    "import sys\n",
    "from loadTDMS import *\n",
    "import numpy as np\n",
    "import matplotlib.pyplot as plt\n",
    "import pandas as pd\n",
    "from tqdm import tqdm"
   ]
  },
  {
   "cell_type": "code",
   "execution_count": 5,
   "metadata": {
    "scrolled": true
   },
   "outputs": [
    {
     "name": "stderr",
     "output_type": "stream",
     "text": [
      "100%|██████████| 169/169 [05:52<00:00,  2.09s/it]"
     ]
    },
    {
     "name": "stdout",
     "output_type": "stream",
     "text": [
      "Wall time: 5min 52s\n"
     ]
    },
    {
     "name": "stderr",
     "output_type": "stream",
     "text": [
      "\n"
     ]
    }
   ],
   "source": [
    "%%time\n",
    "ae_rms = []\n",
    "cutting_distance = []\n",
    "output_FN_rms = f\"./AE_IFFT/rms.png\"\n",
    "final_graph = 1\n",
    "IDN = \"ave\"\n",
    "\n",
    "#２の17乗\n",
    "N = 2**\n",
    "dt = 1/10**6\n",
    "\n",
    "for i in tqdm(range(1,170)):\n",
    "    path = rf'Z:\\100 Raw_data\\20221027---切削実験\\AE\\Cutting\\AE_{i}.tdms'\n",
    "    d = load_tdms(path, ch_num=3)\n",
    "    y = d[0][5000000:5000000+N]\n",
    "    \n",
    "    N = len(y)\n",
    "    f = y\n",
    "    freq = np.fft.fftfreq(N, d = dt)\n",
    "    F = np.fft.fft(y)\n",
    "    F2 = np.copy(F)\n",
    "    ind = (freq<300000) & (freq>-300000)\n",
    "    F2[ind] = 0\n",
    "    Z2 = np.fft.ifft(F2)\n",
    "    avg = np.average(np.abs(Z2.real))\n",
    "    \n",
    "    ae_rms.append(avg)\n",
    "    cutting_distance.append(i*49/1000)\n",
    "    \n",
    "#     print(path_num, cutting_distance[num], ae_rms[num])"
   ]
  },
  {
   "cell_type": "code",
   "execution_count": 7,
   "metadata": {},
   "outputs": [],
   "source": [
    "dict1 = dict(cutting_distance = cutting_distance[:], ae_rms = ae_rms[:])\n",
    "df1 = pd.DataFrame(data=dict1)\n",
    "df1.to_csv(rf'Z:\\200 Produced_data\\20221027\\RMS\\AE_RMS.csv')"
   ]
  },
  {
   "cell_type": "code",
   "execution_count": 13,
   "metadata": {},
   "outputs": [],
   "source": [
    "%matplotlib qt\n",
    "\n",
    "df = pd.read_csv(rf'Z:\\200 Produced_data\\20221027\\RMS\\AE_RMS.csv')\n",
    "\n",
    "plt.xlabel('cutting distance [m]', fontsize=16)\n",
    "plt.ylabel(\"AE RMS ×$10^-4$ [V]\", fontsize=16)\n",
    "\n",
    "plt.plot(df[\"cutting_distance\"],df[\"ae_rms\"]*10000)\n",
    "\n",
    "p = plt.tick_params(labelsize=16)\n",
    "plt.tight_layout()\n",
    "\n",
    "plt.savefig(rf\"Z:\\200 Produced_data\\20221027\\RMS\\AE_RMS.png\", format=\"png\", dpi=300)"
   ]
  },
  {
   "cell_type": "code",
   "execution_count": null,
   "metadata": {},
   "outputs": [],
   "source": []
  },
  {
   "cell_type": "markdown",
   "metadata": {},
   "source": [
    "## 長谷亜蘭風\n",
    "AE 実効値と切削力は，工具が被削材に接触した時間のみ 5～10 回転分の変動の平均値をプロットした"
   ]
  },
  {
   "cell_type": "code",
   "execution_count": 4,
   "metadata": {},
   "outputs": [],
   "source": [
    "path = rf'Z:\\100 Raw_data\\20221027---切削実験\\AE\\Cutting\\AE_1.tdms'\n",
    "d = load_tdms(path, ch_num=3)\n",
    "y = d[0][:1000000]"
   ]
  },
  {
   "cell_type": "code",
   "execution_count": 6,
   "metadata": {},
   "outputs": [
    {
     "data": {
      "text/plain": [
       "[<matplotlib.lines.Line2D at 0x1b6088d5790>]"
      ]
     },
     "execution_count": 6,
     "metadata": {},
     "output_type": "execute_result"
    }
   ],
   "source": [
    "%matplotlib qt\n",
    "fig = plt.figure()\n",
    "plt.plot(y)"
   ]
  },
  {
   "cell_type": "code",
   "execution_count": null,
   "metadata": {},
   "outputs": [],
   "source": []
  }
 ],
 "metadata": {
  "kernelspec": {
   "display_name": "Python 3",
   "language": "python",
   "name": "python3"
  },
  "language_info": {
   "codemirror_mode": {
    "name": "ipython",
    "version": 3
   },
   "file_extension": ".py",
   "mimetype": "text/x-python",
   "name": "python",
   "nbconvert_exporter": "python",
   "pygments_lexer": "ipython3",
   "version": "3.8.3"
  }
 },
 "nbformat": 4,
 "nbformat_minor": 4
}
