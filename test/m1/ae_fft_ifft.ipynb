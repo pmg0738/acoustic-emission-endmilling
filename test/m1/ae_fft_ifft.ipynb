{
 "cells": [
  {
   "cell_type": "code",
   "execution_count": 1,
   "metadata": {},
   "outputs": [],
   "source": [
    "import numpy as np\n",
    "import matplotlib.pyplot as plt\n",
    "import pandas as pd\n",
    "import codecs\n",
    "import array\n",
    "import sys\n",
    "import os\n",
    "from loadTDMS import *\n",
    "import time\n",
    "\n",
    "# import holoviews as hv\n",
    "# from holoviews import opts\n",
    "# hv.extension('bokeh')"
   ]
  },
  {
   "cell_type": "code",
   "execution_count": 2,
   "metadata": {},
   "outputs": [],
   "source": [
    "def FFT_main(t, x, dt, split_t_r, overlap, window_F, output_FN, y_label, y_unit):\n",
    "\n",
    "    # データをオーバーラップして分割する。\n",
    "    split_data = data_split(t, x, split_t_r, overlap)\n",
    "\n",
    "    # FFTを行う.\n",
    "    FFT_result_list = []\n",
    "    for split_data_cont in split_data:\n",
    "        FFT_result_cont = FFT(split_data_cont, dt, window_F)\n",
    "        FFT_result_list.append(FFT_result_cont)\n",
    "\n",
    "    # 平均化\n",
    "    fq_ave = FFT_result_list[0][0]\n",
    "    F_abs_amp_ave = np.zeros(len(fq_ave))\n",
    "    for i in range(len(FFT_result_list)):\n",
    "        F_abs_amp_ave = F_abs_amp_ave + FFT_result_list[i][1]\n",
    "    F_abs_amp_ave = F_abs_amp_ave/(i+1)\n",
    "\n",
    "#     plot_FFT(t, x, fq_ave, F_abs_amp_ave, output_FN, \"ave\", 1, y_label, y_unit)\n",
    "\n",
    "    return fq_ave, F_abs_amp_ave"
   ]
  },
  {
   "cell_type": "code",
   "execution_count": 3,
   "metadata": {},
   "outputs": [],
   "source": [
    "def FFT(data_input, dt, window_F):\n",
    "\n",
    "    N = len(data_input[0])\n",
    "\n",
    "    # 窓の用意\n",
    "    if window_F == \"hanning\":\n",
    "        window = np.hanning(N)          # ハニング窓\n",
    "    elif window_F == \"hamming\":\n",
    "        window = np.hamming(N)          # ハミング窓\n",
    "    elif window_F == \"blackman\":\n",
    "        window = np.blackman(N)         # ブラックマン窓\n",
    "    else:\n",
    "        print(\"Error: input window function name is not sapported. Your input: \", window_F)\n",
    "        print(\"Hanning window function is used.\")\n",
    "        hanning = np.hanning(N)          # ハニング窓\n",
    "\n",
    "    # 窓関数後の信号\n",
    "    x_windowed = data_input[1]*window\n",
    "\n",
    "    # FFT計算\n",
    "    F = np.fft.fft(x_windowed)\n",
    "    F_abs = np.abs(F)\n",
    "    F_abs_amp = F_abs / N * 2\n",
    "    fq = np.linspace(0, 1.0/dt, N)\n",
    "#     fq = np.linspace(0, N*dt, N)\n",
    "\n",
    "    # 窓補正\n",
    "    acf = 1/(sum(window)/N)\n",
    "    F_abs_amp = acf*F_abs_amp\n",
    "\n",
    "    # ナイキスト定数まで抽出\n",
    "    fq_out = fq[:int(N/2)+1]\n",
    "    F_abs_amp_out = F_abs_amp[:int(N/2)+1]\n",
    "\n",
    "    return [fq_out, F_abs_amp_out]"
   ]
  },
  {
   "cell_type": "code",
   "execution_count": 4,
   "metadata": {},
   "outputs": [],
   "source": [
    "def data_split(t, x, split_t_r, overlap):\n",
    "\n",
    "    split_data = []\n",
    "    one_frame_N = int(len(t)*split_t_r)  # 1フレームのサンプル数\n",
    "    overlap_N = int(one_frame_N*overlap)  # オーバーラップするサンプル数\n",
    "    start_S = 0\n",
    "    end_S = start_S + one_frame_N\n",
    "\n",
    "    while True:\n",
    "        t_cont = t[start_S:end_S]\n",
    "        x_cont = x[start_S:end_S]\n",
    "        split_data.append([t_cont, x_cont])\n",
    "\n",
    "        start_S = start_S + (one_frame_N - overlap_N)\n",
    "        end_S = start_S + one_frame_N\n",
    "\n",
    "        if end_S > len(t):\n",
    "            break\n",
    "\n",
    "    return np.array(split_data)"
   ]
  },
  {
   "cell_type": "code",
   "execution_count": 5,
   "metadata": {},
   "outputs": [],
   "source": [
    "def plot_FFT(t, x, fq, F_abs_amp, output_FN, IDN, final_graph, y_label, y_unit):\n",
    "\n",
    "    fig = plt.figure()\n",
    "    ax = fig.add_subplot(111)\n",
    "\n",
    "    plt.xlabel('freqency(kHz)', fontsize=16)\n",
    "\n",
    "    plt.ylabel(y_label+\"[dB]\", fontsize=16)\n",
    "\n",
    "    ax.set_xlim(0,500000)\n",
    "    ax.set_xticklabels([ 0 ,100, 200, 300, 400, 500])\n",
    "\n",
    "    plt.plot(fq, 20 * np.log10(F_abs_amp))\n",
    "\n",
    "    p = plt.tick_params(labelsize=16)\n",
    "    plt.tight_layout()\n",
    "\n",
    "    if final_graph == 0:\n",
    "        plt.savefig(output_FN[:-4]+\"_\"+str(IDN) +\n",
    "                    \"_FFTtemp\"+output_FN[-4:], dpi=300)\n",
    "    elif final_graph == 1:\n",
    "        plt.savefig(output_FN, dpi=300)\n",
    "    return 0"
   ]
  },
  {
   "cell_type": "code",
   "execution_count": 7,
   "metadata": {
    "scrolled": true
   },
   "outputs": [
    {
     "name": "stdout",
     "output_type": "stream",
     "text": [
      "24 15613420\n",
      "0.0 0.0003843461686815762\n",
      "25 15610254\n",
      "0.049 0.00038395077948658317\n",
      "26 15622646\n",
      "0.098 0.00038215399395366204\n",
      "27 15631908\n",
      "0.147 0.000373081838310015\n",
      "28 15641171\n",
      "0.196 0.0003568536852268479\n",
      "29 15632477\n",
      "0.245 0.0003744580070878395\n",
      "30 15637412\n",
      "0.294 0.0003903214672746934\n",
      "31 15616925\n",
      "0.343 0.00037892266037904405\n",
      "32 15602872\n",
      "0.392 0.00037034143103263336\n",
      "33 15638633\n",
      "0.441 0.00036982433888836506\n",
      "34 15631031\n",
      "0.49 0.00037087970653845996\n",
      "35 15643367\n",
      "0.539 0.0003511427509984\n",
      "36 15638968\n",
      "0.588 0.00038302833591221665\n",
      "37 15620762\n",
      "0.637 0.0003776433620695361\n",
      "38 15637198\n",
      "0.686 0.0003597143264177124\n",
      "39 15634476\n",
      "0.735 0.00037000273385702574\n",
      "40 15645665\n",
      "0.784 0.0003473267635393532\n",
      "41 15650124\n",
      "0.833 0.0003429944331469942\n",
      "42 15629649\n",
      "0.882 0.0003470620016255135\n",
      "43 15643488\n",
      "0.931 0.00036500223264338114\n",
      "44 15651635\n",
      "0.98 0.0003532683543480672\n",
      "45 15617914\n",
      "1.029 0.00034782339854561636\n",
      "46 15648190\n",
      "1.078 0.0003439247179748327\n",
      "47 15615748\n",
      "1.127 0.00035284659494192545\n",
      "48 15652460\n",
      "1.176 0.0003516014004986741\n",
      "49 15647591\n",
      "1.225 0.0003552741139399493\n",
      "50 15645409\n",
      "1.274 0.00035381239341190343\n",
      "51 15651426\n",
      "1.323 0.00035372375156191005\n",
      "52 15652479\n",
      "1.372 0.0003626837486916613\n",
      "53 15641693\n",
      "1.421 0.00035584054527819213\n",
      "54 15650386\n",
      "1.47 0.0003562518093294972\n",
      "55 15641418\n",
      "1.519 0.0003566884487164665\n",
      "56 15647196\n",
      "1.568 0.0003616584508592305\n",
      "57 15638034\n",
      "1.617 0.00035790325949422046\n",
      "58 15643054\n",
      "1.666 0.00035829081261795674\n",
      "59 15639868\n",
      "1.715 0.00035295697257207135\n",
      "60 15628404\n",
      "1.764 0.00034657600892309357\n",
      "61 15646830\n",
      "1.813 0.00034334978491999105\n",
      "62 15644141\n",
      "1.862 0.00034530741221405374\n",
      "63 15653646\n",
      "1.911 0.0003467818339658084\n",
      "64 15637644\n",
      "1.96 0.0003423618702462071\n",
      "65 15634031\n",
      "2.009 0.00033738409228433705\n",
      "66 15636212\n",
      "2.058 0.0003407018871749584\n",
      "67 15633691\n",
      "2.107 0.00034915265853011605\n",
      "68 15652186\n",
      "2.156 0.0003505909562145567\n",
      "69 15651554\n",
      "2.205 0.0003589051004096688\n",
      "70 15653415\n",
      "2.254 0.0003706211837326732\n",
      "71 15637022\n",
      "2.303 0.00033310841896676816\n",
      "72 15632386\n",
      "2.352 0.00034110086307660855\n",
      "73 15634345\n",
      "2.401 0.00033659421268566504\n",
      "74 15643456\n",
      "2.45 0.00035812904144052153\n",
      "75 15650562\n",
      "2.499 0.0003527150691636171\n",
      "76 15647553\n",
      "2.548 0.0003600140793678182\n",
      "77 15654053\n",
      "2.597 0.0003466251272420183\n",
      "78 15649422\n",
      "2.646 0.00034582546513645053\n",
      "79 15628150\n",
      "2.695 0.00034613729475157834\n",
      "80 15618778\n",
      "2.744 0.00033995418985493224\n",
      "81 15649683\n",
      "2.793 0.00033491219379228255\n",
      "82 15592203\n",
      "2.842 0.0003351872372714524\n",
      "83 15628431\n",
      "2.891 0.0003295818323979359\n",
      "84 15654926\n",
      "2.94 0.0003281282155405131\n",
      "85 15610946\n",
      "2.989 0.00034652765003307626\n",
      "86 15605988\n",
      "3.038 0.0003552773813736111\n",
      "87 15604199\n",
      "3.087 0.00035047973910864116\n",
      "88 15615527\n",
      "3.136 0.00034218756370228123\n",
      "89 15597266\n",
      "3.185 0.00034648585305048404\n",
      "90 15595976\n",
      "3.234 0.0003223536338442103\n",
      "91 15596061\n",
      "3.283 0.0003411522457742738\n",
      "92 15593001\n",
      "3.332 0.0003272216873036786\n",
      "93 15592314\n",
      "3.381 0.0003260463585046655\n",
      "94 15587652\n",
      "3.43 0.00032112133161114827\n",
      "95 15586392\n",
      "3.479 0.0003099686113466302\n",
      "96 15639872\n",
      "3.528 0.0003163818844094864\n",
      "97 15639419\n",
      "3.577 0.0003220147382754173\n",
      "98 15602218\n",
      "3.626 0.00032280349909442896\n",
      "99 15612917\n",
      "3.675 0.0002980395616068097\n",
      "100 15641846\n",
      "3.724 0.0003135002950738444\n",
      "101 15641032\n",
      "3.773 0.00031549410562529306\n",
      "102 15644294\n",
      "3.822 0.0003001834942556084\n",
      "103 15637013\n",
      "3.871 0.00031791048070374734\n",
      "104 15646387\n",
      "3.92 0.00030626486213307245\n",
      "105 15644728\n",
      "3.969 0.00031533493970940964\n",
      "106 15643870\n",
      "4.018 0.0003209001229213402\n",
      "107 15638463\n",
      "4.067 0.00032958937567890056\n",
      "108 15648900\n",
      "4.116 0.00030230349299596905\n",
      "109 15645323\n",
      "4.165 0.00030803325631986847\n",
      "110 15645655\n",
      "4.214 0.0003099212332577602\n",
      "111 15640453\n",
      "4.263 0.00030563828188058\n",
      "112 15641084\n",
      "4.312 0.00030745680747309875\n",
      "113 15641672\n",
      "4.361 0.00033695911484750023\n",
      "114 15645034\n",
      "4.41 0.00031057599313815917\n",
      "115 15639923\n",
      "4.459 0.0003172033897851142\n",
      "116 15643850\n",
      "4.508 0.0003020418850579102\n",
      "117 15643071\n",
      "4.557 0.00031335343098052855\n",
      "118 15642512\n",
      "4.606 0.00030825984480260354\n",
      "119 15640563\n",
      "4.655 0.0003005739283195958\n",
      "120 15652553\n",
      "4.704 0.0003025756325568208\n",
      "121 15650755\n",
      "4.753 0.00030877004857963883\n",
      "122 15643202\n",
      "4.802 0.00031138994426740973\n",
      "123 15634790\n",
      "4.851 0.0003101302253435977\n",
      "124 15646213\n",
      "4.9 0.00025057953969496067\n",
      "125 15648568\n",
      "4.949 0.0002459400971231851\n",
      "126 15628051\n",
      "4.998 0.0002447035605961306\n",
      "127 15647677\n",
      "5.047 0.000244212655755024\n",
      "128 15635812\n",
      "5.096 0.0002444772093180624\n",
      "129 15637075\n",
      "5.145 0.0002480172798200099\n",
      "130 15626633\n",
      "5.194 0.0002459907475622146\n",
      "131 15640737\n",
      "5.243 0.0002567767345133128\n",
      "132 15641936\n",
      "5.292 0.00024388391990507678\n",
      "133 15643183\n",
      "5.341 0.00025498544137594176\n",
      "134 15642573\n",
      "5.39 0.0002381875331853777\n",
      "135 15640141\n",
      "5.439 0.0002572804290692971\n",
      "136 15638311\n",
      "5.488 0.00024702255181127393\n",
      "137 15645590\n",
      "5.537 0.0002456036582024971\n",
      "138 15640910\n",
      "5.586 0.0002509391922066407\n",
      "139 15638844\n",
      "5.635 0.00026569534823325027\n",
      "140 15646960\n",
      "5.684 0.0002582384776507078\n",
      "141 15648459\n",
      "5.733 0.0002863533669376211\n",
      "142 15647529\n",
      "5.782 0.00026805680190209114\n",
      "143 15645880\n",
      "5.831 0.00026392095876852763\n",
      "144 15643725\n",
      "5.88 0.00027596335597770066\n",
      "145 15644402\n",
      "5.929 0.0002815039782796256\n",
      "146 15646117\n",
      "5.978 0.00027770498219981994\n",
      "147 15651758\n",
      "6.027 0.00027414228653984985\n",
      "148 15648393\n",
      "6.076 0.00028039787103987493\n",
      "149 15646509\n",
      "6.125 0.000280664518545748\n",
      "150 15648774\n",
      "6.174 0.0002774314623576932\n",
      "151 15651494\n",
      "6.223 0.0002768255190156884\n",
      "152 15651467\n",
      "6.272 0.0002674871200633736\n",
      "153 15652159\n",
      "6.321 0.0002867334510355526\n",
      "154 15650012\n",
      "6.37 0.0002832223913002274\n",
      "155 15642562\n",
      "6.419 0.00027845839940492177\n",
      "156 15643191\n",
      "6.468 0.0002733213394319319\n",
      "157 15642887\n",
      "6.517 0.0002860988177411118\n",
      "158 15648735\n",
      "6.566 0.0002761714608843001\n",
      "159 15652688\n",
      "6.615 0.00027349129025742975\n",
      "160 15649236\n",
      "6.664 0.00026231681447909605\n",
      "161 15654694\n",
      "6.713 0.00026644501455393\n",
      "162 15637202\n",
      "6.762 0.00027034016037137307\n",
      "163 15642158\n",
      "6.811 0.00026966019435557034\n",
      "164 15637431\n",
      "6.86 0.0002684492421690992\n",
      "165 15635850\n",
      "6.909 0.0002626660198394617\n",
      "166 15632963\n",
      "6.958 0.000268093875009064\n",
      "167 15631017\n",
      "7.007 0.0002904525101104212\n",
      "168 15662703\n",
      "7.056 0.00027850301055257106\n",
      "169 15636653\n",
      "7.105 0.0002856692581915229\n",
      "170 15630651\n",
      "7.154 0.00028502374777433597\n",
      "171 15644668\n",
      "7.203 0.00026898169660900155\n",
      "172 15661923\n",
      "7.252 0.00026699152146033276\n",
      "173 15649026\n",
      "7.301 0.0002702783974007836\n",
      "174 15645603\n",
      "7.35 0.0002479675383036402\n",
      "175 15644755\n",
      "7.399 0.0002459654615593356\n",
      "176 15645948\n",
      "7.448 0.0002567681148000464\n",
      "177 15647685\n",
      "7.497 0.0002483135629251986\n",
      "178 15646180\n",
      "7.546 0.00024967716347104157\n",
      "179 15646685\n",
      "7.595 0.0002505161943188574\n",
      "180 15647819\n",
      "7.644 0.00024147220280829965\n",
      "181 15646167\n",
      "7.693 0.0002452461911319468\n",
      "182 15647927\n",
      "7.742 0.00024456886522554894\n",
      "183 15647873\n",
      "7.791 0.00024553844564705095\n",
      "184 15646380\n",
      "7.84 0.0002497230755414476\n",
      "185 15643739\n",
      "7.889 0.0002557546859168124\n",
      "186 15643564\n",
      "7.938 0.00025471054554125383\n",
      "187 15644382\n",
      "7.987 0.0002572376366462884\n",
      "188 15649253\n",
      "8.036 0.0002442741923973092\n",
      "189 15646727\n",
      "8.085 0.00025110290553198794\n",
      "190 15647632\n",
      "8.134 0.00024589523201559276\n",
      "191 15644887\n",
      "8.183 0.00025428151656175276\n",
      "192 15643455\n",
      "8.232 0.00024316689234651052\n",
      "193 15644254\n",
      "8.281 0.0002500813830949032\n",
      "194 15639693\n",
      "8.33 0.000258382588018578\n",
      "195 15640111\n",
      "8.379 0.0002723757962515778\n",
      "196 15646607\n",
      "8.428 0.00024253341703532868\n",
      "197 15642201\n",
      "8.477 0.00025107500929238215\n",
      "198 15645123\n",
      "8.526 0.0002682751333711128\n",
      "199 15643087\n",
      "8.575 0.0002518815308284669\n",
      "200 15644131\n",
      "8.624 0.00025420770388446797\n",
      "201 15643985\n",
      "8.673 0.00024506067828007465\n",
      "202 15646143\n",
      "8.722 0.00024806243046682013\n",
      "203 15645216\n",
      "8.771 0.0002412102607590582\n",
      "204 15634742\n",
      "8.82 0.00025018016443622204\n",
      "205 15642547\n",
      "8.869 0.00024683898705318656\n",
      "206 15641279\n",
      "8.918 0.0002433075224933715\n",
      "207 15640539\n",
      "8.967 0.00023658936239404836\n",
      "208 15642401\n",
      "9.016 0.000255269830543715\n",
      "209 15646147\n",
      "9.065 0.0002465686365182272\n",
      "210 15627532\n",
      "9.114 0.0002478046009787342\n",
      "211 15612511\n",
      "9.163 0.00025182010103140604\n",
      "212 15608286\n",
      "9.212 0.00024800037767626956\n",
      "213 15602948\n",
      "9.261 0.00024916648284914575\n",
      "214 15637618\n",
      "9.31 0.00025777404145908974\n",
      "215 15621864\n",
      "9.359 0.0002574649718890776\n",
      "216 15617018\n",
      "9.408 0.0002518184369657165\n",
      "217 15631264\n",
      "9.457 0.0002691202835052384\n",
      "218 15626547\n",
      "9.506 0.00026773128983854103\n",
      "219 15633431\n",
      "9.555 0.00025542612712110835\n",
      "220 15632954\n",
      "9.604 0.0002559312662008112\n",
      "221 15626205\n",
      "9.653 0.0002693335750494038\n",
      "222 15631219\n",
      "9.702 0.0002460868539862846\n",
      "223 15629696\n",
      "9.751 0.00028133535695245974\n",
      "224 15626442\n",
      "9.8 0.0002528147852295715\n"
     ]
    },
    {
     "name": "stdout",
     "output_type": "stream",
     "text": [
      "225 15629970\n",
      "9.849 0.0002713508921998876\n",
      "226 15627803\n",
      "9.898 0.00024877367422948\n",
      "227 15623775\n",
      "9.947 0.00026025889368840087\n",
      "228 15630847\n",
      "9.996 0.00026372438729296214\n",
      "229 15634788\n",
      "10.045 0.0002603442132672308\n",
      "230 15632131\n",
      "10.094 0.0002498729038154979\n",
      "231 15632355\n",
      "10.143 0.0002492486112613309\n",
      "232 15632333\n",
      "10.192 0.00027076255001464854\n",
      "233 15630510\n",
      "10.241 0.0002515582161852489\n",
      "234 15632490\n",
      "10.29 0.00025977211477077244\n",
      "235 15629955\n",
      "10.339 0.00026253380900368665\n",
      "236 15631199\n",
      "10.388 0.0002721211176448949\n",
      "237 15632219\n",
      "10.437 0.0002496637448220924\n",
      "238 15633584\n",
      "10.486 0.00024808249782660465\n",
      "239 15636131\n",
      "10.535 0.0002596754896313846\n",
      "240 15637257\n",
      "10.584 0.0002563463840414524\n",
      "241 15633961\n",
      "10.633 0.00027325158937875843\n"
     ]
    },
    {
     "ename": "FileNotFoundError",
     "evalue": "[Errno 2] No such file or directory: 'Z:\\\\100 実験データ（RAW）\\\\20211115---切削実験---AE+切削抵抗\\\\AE\\\\1-5000\\\\AE_506.tdms'",
     "output_type": "error",
     "traceback": [
      "\u001b[1;31m---------------------------------------------------------------------------\u001b[0m",
      "\u001b[1;31mFileNotFoundError\u001b[0m                         Traceback (most recent call last)",
      "\u001b[1;32m<ipython-input-7-1fe41985dad6>\u001b[0m in \u001b[0;36m<module>\u001b[1;34m\u001b[0m\n\u001b[0;32m     11\u001b[0m     \u001b[0mdata_num\u001b[0m \u001b[1;33m=\u001b[0m \u001b[1;36m24\u001b[0m \u001b[1;33m+\u001b[0m \u001b[1;36m2\u001b[0m\u001b[1;33m*\u001b[0m\u001b[1;33m(\u001b[0m\u001b[0mpath_num\u001b[0m\u001b[1;33m-\u001b[0m\u001b[1;36m1\u001b[0m\u001b[1;33m)\u001b[0m\u001b[1;33m\u001b[0m\u001b[1;33m\u001b[0m\u001b[0m\n\u001b[0;32m     12\u001b[0m     \u001b[0mpath\u001b[0m \u001b[1;33m=\u001b[0m \u001b[1;34mrf'Z:\\100 実験データ（RAW）\\20211115---切削実験---AE+切削抵抗\\AE\\1-5000\\AE_{data_num}.tdms'\u001b[0m\u001b[1;33m\u001b[0m\u001b[1;33m\u001b[0m\u001b[0m\n\u001b[1;32m---> 13\u001b[1;33m     \u001b[0md\u001b[0m \u001b[1;33m=\u001b[0m \u001b[0mload_tdms\u001b[0m\u001b[1;33m(\u001b[0m\u001b[0mpath\u001b[0m\u001b[1;33m,\u001b[0m \u001b[0mch_num\u001b[0m\u001b[1;33m=\u001b[0m\u001b[1;36m3\u001b[0m\u001b[1;33m)\u001b[0m\u001b[1;33m\u001b[0m\u001b[1;33m\u001b[0m\u001b[0m\n\u001b[0m\u001b[0;32m     14\u001b[0m \u001b[1;33m\u001b[0m\u001b[0m\n\u001b[0;32m     15\u001b[0m     \u001b[1;31m# 1サンプリングするのにかかる時間\u001b[0m\u001b[1;33m\u001b[0m\u001b[1;33m\u001b[0m\u001b[1;33m\u001b[0m\u001b[0m\n",
      "\u001b[1;32m~\\M1\\pr1\\loadTDMS.py\u001b[0m in \u001b[0;36mload_tdms\u001b[1;34m(path, ch_num)\u001b[0m\n\u001b[0;32m      8\u001b[0m \u001b[1;32mdef\u001b[0m \u001b[0mload_tdms\u001b[0m\u001b[1;33m(\u001b[0m\u001b[0mpath\u001b[0m\u001b[1;33m,\u001b[0m \u001b[0mch_num\u001b[0m\u001b[1;33m)\u001b[0m\u001b[1;33m:\u001b[0m\u001b[1;33m\u001b[0m\u001b[1;33m\u001b[0m\u001b[0m\n\u001b[0;32m      9\u001b[0m     \u001b[0mch\u001b[0m \u001b[1;33m=\u001b[0m \u001b[1;33m[\u001b[0m\u001b[1;33m[\u001b[0m\u001b[1;33m]\u001b[0m \u001b[1;32mfor\u001b[0m \u001b[0m_\u001b[0m \u001b[1;32min\u001b[0m \u001b[0mrange\u001b[0m\u001b[1;33m(\u001b[0m\u001b[0mch_num\u001b[0m\u001b[1;33m)\u001b[0m\u001b[1;33m]\u001b[0m\u001b[1;33m\u001b[0m\u001b[1;33m\u001b[0m\u001b[0m\n\u001b[1;32m---> 10\u001b[1;33m     \u001b[1;32mwith\u001b[0m \u001b[0mcodecs\u001b[0m\u001b[1;33m.\u001b[0m\u001b[0mopen\u001b[0m\u001b[1;33m(\u001b[0m\u001b[0mpath\u001b[0m\u001b[1;33m,\u001b[0m \u001b[1;34m'rb'\u001b[0m\u001b[1;33m)\u001b[0m \u001b[1;32mas\u001b[0m \u001b[0mf\u001b[0m\u001b[1;33m:\u001b[0m\u001b[1;33m\u001b[0m\u001b[1;33m\u001b[0m\u001b[0m\n\u001b[0m\u001b[0;32m     11\u001b[0m         \u001b[1;32mwhile\u001b[0m \u001b[1;32mTrue\u001b[0m\u001b[1;33m:\u001b[0m\u001b[1;33m\u001b[0m\u001b[1;33m\u001b[0m\u001b[0m\n\u001b[0;32m     12\u001b[0m             \u001b[1;31m# リードインと呼ばれる部分の読み込み\u001b[0m\u001b[1;33m\u001b[0m\u001b[1;33m\u001b[0m\u001b[1;33m\u001b[0m\u001b[0m\n",
      "\u001b[1;32m~\\anaconda3\\lib\\codecs.py\u001b[0m in \u001b[0;36mopen\u001b[1;34m(filename, mode, encoding, errors, buffering)\u001b[0m\n\u001b[0;32m    903\u001b[0m         \u001b[1;31m# Force opening of the file in binary mode\u001b[0m\u001b[1;33m\u001b[0m\u001b[1;33m\u001b[0m\u001b[1;33m\u001b[0m\u001b[0m\n\u001b[0;32m    904\u001b[0m         \u001b[0mmode\u001b[0m \u001b[1;33m=\u001b[0m \u001b[0mmode\u001b[0m \u001b[1;33m+\u001b[0m \u001b[1;34m'b'\u001b[0m\u001b[1;33m\u001b[0m\u001b[1;33m\u001b[0m\u001b[0m\n\u001b[1;32m--> 905\u001b[1;33m     \u001b[0mfile\u001b[0m \u001b[1;33m=\u001b[0m \u001b[0mbuiltins\u001b[0m\u001b[1;33m.\u001b[0m\u001b[0mopen\u001b[0m\u001b[1;33m(\u001b[0m\u001b[0mfilename\u001b[0m\u001b[1;33m,\u001b[0m \u001b[0mmode\u001b[0m\u001b[1;33m,\u001b[0m \u001b[0mbuffering\u001b[0m\u001b[1;33m)\u001b[0m\u001b[1;33m\u001b[0m\u001b[1;33m\u001b[0m\u001b[0m\n\u001b[0m\u001b[0;32m    906\u001b[0m     \u001b[1;32mif\u001b[0m \u001b[0mencoding\u001b[0m \u001b[1;32mis\u001b[0m \u001b[1;32mNone\u001b[0m\u001b[1;33m:\u001b[0m\u001b[1;33m\u001b[0m\u001b[1;33m\u001b[0m\u001b[0m\n\u001b[0;32m    907\u001b[0m         \u001b[1;32mreturn\u001b[0m \u001b[0mfile\u001b[0m\u001b[1;33m\u001b[0m\u001b[1;33m\u001b[0m\u001b[0m\n",
      "\u001b[1;31mFileNotFoundError\u001b[0m: [Errno 2] No such file or directory: 'Z:\\\\100 実験データ（RAW）\\\\20211115---切削実験---AE+切削抵抗\\\\AE\\\\1-5000\\\\AE_506.tdms'"
     ]
    }
   ],
   "source": [
    "ae_rms = []\n",
    "start = time.time()\n",
    "num = 0\n",
    "cutting_distance = []\n",
    "output_FN_rms = f\"./AE_IFFT/rms.png\"\n",
    "final_graph = 1\n",
    "IDN = \"ave\"\n",
    "\n",
    "for i in range(24,502):\n",
    "    path_num = i\n",
    "    data_num = 24 + 2*(path_num-1)\n",
    "    path = rf'Z:\\100 実験データ（RAW）\\20211115---切削実験---AE+切削抵抗\\AE\\1-5000\\AE_{data_num}.tdms'\n",
    "    d = load_tdms(path, ch_num=3)\n",
    "\n",
    "    # 1サンプリングするのにかかる時間\n",
    "    dt = 1/10**6\n",
    "    last_t = 0\n",
    "    print(i,len(d[0]))\n",
    "    if i == 1:\n",
    "        y = d[0][0:16285]\n",
    "    else:\n",
    "#         y=d[0][5000000:5000000+512]\n",
    "        y = d[0][5000000:5016385]\n",
    "#         y = d[0][5000000:5000000+32768]\n",
    "#         y = d[0][5000000:5000000+65536]\n",
    "#         y = d[0][5000000:5000000+131072]\n",
    "#         y = d[0][5000000:5000000+262144]\n",
    "#         y = d[0][5000000:5000000+524288]\n",
    "    N = len(y)\n",
    "    f = y\n",
    "#     fq = np.linspace(0, N*dt, N)  # 周波数軸　linspace(開始,終了,分割数)\n",
    "\n",
    "#     output_FN = f\"./AE_IFFT/FFT_{data_num}.png\"\n",
    "#     split_t_r = 0.1  # 1つの枠で全体のどの割合のデータを分析するか。\n",
    "#     overlap = 0.5  # オーバーラップ率\n",
    "#     window_F = \"hanning\"  # 窓関数選択: hanning, hamming, blackman\n",
    "#     y_label = \"amplitude\"\n",
    "#     y_unit = \"V\"\n",
    "\n",
    "#     abcd = FFT_main(fq, f, dt, split_t_r, overlap, window_F, output_FN, y_label, y_unit)\n",
    "    \n",
    "    freq = np.fft.fftfreq(N, d =dt)\n",
    "    F = np.fft.fft(y)\n",
    "    F2 = np.copy(F)\n",
    "    ind = (freq<300000) & (freq>-300000)\n",
    "    F2[ind] = 0\n",
    "    Z2 = np.fft.ifft(F2)\n",
    "    avg = np.average(np.abs(Z2.real))\n",
    "#     plt.plot(Z.real)\n",
    "    ae_rms.append(avg)\n",
    "    cutting_distance.append(num*49/1000)\n",
    "    \n",
    "    print(cutting_distance[num], ae_rms[num])\n",
    "    num = num+1\n",
    "\n",
    "    \n",
    "ae_rms_m = [n*10000 for n in ae_rms]\n",
    "\n",
    "fig = plt.figure()\n",
    "ax = fig.add_subplot(111)\n",
    "\n",
    "plt.xlabel('cutting distance [m]', fontsize=16)\n",
    "\n",
    "plt.ylabel(\"AE RMS ×$10^-4$ [V]\", fontsize=16)\n",
    "\n",
    "# ax.set_xlim(0,500000)\n",
    "# ax.set_xticklabels([0, 2, 4, 6, 8, 11])\n",
    "\n",
    "plt.plot(cutting_distance, ae_rms_m)\n",
    "\n",
    "p = plt.tick_params(labelsize=16)\n",
    "plt.tight_layout()\n",
    "\n",
    "if final_graph == 0:\n",
    "    plt.savefig(output_FN_rms[:-4]+\"_\"+str(IDN) +\n",
    "                \"_FFTtemp\"+output_FN_rms[-4:], dpi=300)\n",
    "elif final_graph == 1:\n",
    "    plt.savefig(output_FN, dpi=300)\n",
    "\n",
    "# print(ae_rms)\n",
    "# plt.plot(ae_rms)\n",
    "\n",
    "end = time.time()\n",
    "print(end - start)"
   ]
  },
  {
   "cell_type": "code",
   "execution_count": 9,
   "metadata": {
    "scrolled": true
   },
   "outputs": [
    {
     "ename": "NameError",
     "evalue": "name 'output_FN' is not defined",
     "output_type": "error",
     "traceback": [
      "\u001b[1;31m---------------------------------------------------------------------------\u001b[0m",
      "\u001b[1;31mNameError\u001b[0m                                 Traceback (most recent call last)",
      "\u001b[1;32m<ipython-input-9-b8eeab37956b>\u001b[0m in \u001b[0;36m<module>\u001b[1;34m\u001b[0m\n\u001b[0;32m     20\u001b[0m                 \"_FFTtemp\"+output_FN_rms[-4:], dpi=300)\n\u001b[0;32m     21\u001b[0m \u001b[1;32melif\u001b[0m \u001b[0mfinal_graph\u001b[0m \u001b[1;33m==\u001b[0m \u001b[1;36m1\u001b[0m\u001b[1;33m:\u001b[0m\u001b[1;33m\u001b[0m\u001b[1;33m\u001b[0m\u001b[0m\n\u001b[1;32m---> 22\u001b[1;33m     \u001b[0mplt\u001b[0m\u001b[1;33m.\u001b[0m\u001b[0msavefig\u001b[0m\u001b[1;33m(\u001b[0m\u001b[0moutput_FN\u001b[0m\u001b[1;33m,\u001b[0m \u001b[0mdpi\u001b[0m\u001b[1;33m=\u001b[0m\u001b[1;36m300\u001b[0m\u001b[1;33m)\u001b[0m\u001b[1;33m\u001b[0m\u001b[1;33m\u001b[0m\u001b[0m\n\u001b[0m",
      "\u001b[1;31mNameError\u001b[0m: name 'output_FN' is not defined"
     ]
    },
    {
     "data": {
      "image/png": "[encoded data removed]",
      "text/plain": [
       "<Figure size 432x288 with 1 Axes>"
      ]
     },
     "metadata": {
      "needs_background": "light"
     },
     "output_type": "display_data"
    }
   ],
   "source": [
    "ae_rms_m = [n*10000 for n in ae_rms]\n",
    "\n",
    "fig = plt.figure()\n",
    "ax = fig.add_subplot(111)\n",
    "\n",
    "plt.xlabel('cutting distance [m]', fontsize=16)\n",
    "\n",
    "plt.ylabel(\"AE RMS ×$10^-4$ [V]\", fontsize=16)\n",
    "\n",
    "# ax.set_xlim(0,500000)\n",
    "# ax.set_xticklabels([0, 2, 4, 6, 8, 11])\n",
    "\n",
    "plt.plot(cutting_distance, ae_rms_m)\n",
    "\n",
    "p = plt.tick_params(labelsize=16)\n",
    "plt.tight_layout()\n",
    "\n",
    "if final_graph == 0:\n",
    "    plt.savefig(output_FN_rms[:-4]+\"_\"+str(IDN) +\n",
    "                \"_FFTtemp\"+output_FN_rms[-4:], dpi=300)\n",
    "elif final_graph == 1:\n",
    "    plt.savefig(output_FN, dpi=300)"
   ]
  },
  {
   "cell_type": "code",
   "execution_count": 102,
   "metadata": {},
   "outputs": [
    {
     "data": {
      "text/plain": [
       "820"
      ]
     },
     "execution_count": 102,
     "metadata": {},
     "output_type": "execute_result"
    }
   ],
   "source": [
    "len(abcd[1])"
   ]
  },
  {
   "cell_type": "code",
   "execution_count": 105,
   "metadata": {
    "scrolled": false
   },
   "outputs": [],
   "source": [
    "haha = np.copy(abcd)\n",
    "low_amp = np.where(haha[0]<300000)\n",
    "# low_amp = np.where(haha[0]<0.1)\n",
    "for low in low_amp:\n",
    "    haha[1][low] = 0"
   ]
  },
  {
   "cell_type": "code",
   "execution_count": 106,
   "metadata": {},
   "outputs": [
    {
     "data": {
      "text/plain": [
       "[<matplotlib.lines.Line2D at 0x1b1324001c0>]"
      ]
     },
     "execution_count": 106,
     "metadata": {},
     "output_type": "execute_result"
    },
    {
     "data": {
      "image/png": "[encoded data removed]",
      "text/plain": [
       "<Figure size 432x288 with 1 Axes>"
      ]
     },
     "metadata": {
      "needs_background": "light"
     },
     "output_type": "display_data"
    }
   ],
   "source": [
    "plt.plot(haha[0], haha[1])"
   ]
  },
  {
   "cell_type": "code",
   "execution_count": null,
   "metadata": {},
   "outputs": [],
   "source": [
    "np.fft.ifft()"
   ]
  },
  {
   "cell_type": "code",
   "execution_count": 107,
   "metadata": {},
   "outputs": [
    {
     "name": "stdout",
     "output_type": "stream",
     "text": [
      "16385\n"
     ]
    },
    {
     "data": {
      "text/plain": [
       "[<matplotlib.lines.Line2D at 0x1b13244f5e0>]"
      ]
     },
     "execution_count": 107,
     "metadata": {},
     "output_type": "execute_result"
    },
    {
     "data": {
      "image/png": "[encoded data removed]",
      "text/plain": [
       "<Figure size 432x288 with 1 Axes>"
      ]
     },
     "metadata": {
      "needs_background": "light"
     },
     "output_type": "display_data"
    }
   ],
   "source": [
    "dx = 1/10**6\n",
    "N = len(y)\n",
    "print(N)\n",
    "plt.plot(y)"
   ]
  },
  {
   "cell_type": "code",
   "execution_count": null,
   "metadata": {},
   "outputs": [],
   "source": []
  },
  {
   "cell_type": "code",
   "execution_count": 108,
   "metadata": {},
   "outputs": [
    {
     "data": {
      "text/plain": [
       "[<matplotlib.lines.Line2D at 0x1b1324a3d30>]"
      ]
     },
     "execution_count": 108,
     "metadata": {},
     "output_type": "execute_result"
    },
    {
     "data": {
      "image/png": "[encoded data removed]",
      "text/plain": [
       "<Figure size 432x288 with 1 Axes>"
      ]
     },
     "metadata": {
      "needs_background": "light"
     },
     "output_type": "display_data"
    }
   ],
   "source": [
    "freq = np.fft.fftfreq(N, d =dx)\n",
    "F = np.fft.fft(y)\n",
    "plt.plot(freq[1:int(len(F)/2)], 20 * np.log10(np.abs(F/N*2)[1:int(len(F)/2)]))"
   ]
  },
  {
   "cell_type": "code",
   "execution_count": 109,
   "metadata": {},
   "outputs": [],
   "source": [
    "F2 = np.copy(F)\n",
    "ind = (freq<300000) & (freq>-300000)\n",
    "# F2[ind] = 0.001\n",
    "F2[ind] = 0\n",
    "Z2 = np.fft.ifft(F2)\n",
    "# print(len(F2))\n",
    "# print(F2[100:500])\n",
    "# plt.plot(freq[1:int(len(F2)/2)], 20 * np.log10(np.abs(F2/N*2)[1:int(len(F2)/2)]))"
   ]
  },
  {
   "cell_type": "code",
   "execution_count": 110,
   "metadata": {},
   "outputs": [
    {
     "data": {
      "text/plain": [
       "[<matplotlib.lines.Line2D at 0x1b132644a00>]"
      ]
     },
     "execution_count": 110,
     "metadata": {},
     "output_type": "execute_result"
    },
    {
     "data": {
      "image/png": "[encoded data removed]",
      "text/plain": [
       "<Figure size 432x288 with 1 Axes>"
      ]
     },
     "metadata": {
      "needs_background": "light"
     },
     "output_type": "display_data"
    }
   ],
   "source": [
    "plt.plot(Z2.real)"
   ]
  },
  {
   "cell_type": "code",
   "execution_count": 111,
   "metadata": {},
   "outputs": [
    {
     "data": {
      "text/plain": [
       "[<matplotlib.lines.Line2D at 0x1b132ecbaf0>]"
      ]
     },
     "execution_count": 111,
     "metadata": {},
     "output_type": "execute_result"
    },
    {
     "data": {
      "image/png": "[encoded data removed]",
      "text/plain": [
       "<Figure size 432x288 with 1 Axes>"
      ]
     },
     "metadata": {
      "needs_background": "light"
     },
     "output_type": "display_data"
    }
   ],
   "source": [
    "plt.plot(y)"
   ]
  },
  {
   "cell_type": "code",
   "execution_count": 15,
   "metadata": {},
   "outputs": [
    {
     "name": "stdout",
     "output_type": "stream",
     "text": [
      "0.0009341015552361275\n"
     ]
    }
   ],
   "source": [
    "F3 = np.copy(F)\n",
    "ind = (freq>300000) & (freq<-300000)\n",
    "# F2[ind] = 0.001\n",
    "F3[ind] = 0\n",
    "Z3 = np.fft.ifft(F3)\n",
    "# print(len(F2))\n",
    "# print(F2[100:500])\n",
    "# plt.plot(freq[1:int(len(F2)/2)], 20 * np.log10(np.abs(F2/N*2)[1:int(len(F2)/2)]))\n",
    "print(np.average(Z3.real))"
   ]
  },
  {
   "cell_type": "code",
   "execution_count": 113,
   "metadata": {},
   "outputs": [
    {
     "data": {
      "text/plain": [
       "[<matplotlib.lines.Line2D at 0x1b1331ebca0>]"
      ]
     },
     "execution_count": 113,
     "metadata": {},
     "output_type": "execute_result"
    },
    {
     "data": {
      "image/png": "[encoded data removed]",
      "text/plain": [
       "<Figure size 432x288 with 1 Axes>"
      ]
     },
     "metadata": {
      "needs_background": "light"
     },
     "output_type": "display_data"
    }
   ],
   "source": [
    "plt.plot(y)"
   ]
  },
  {
   "cell_type": "code",
   "execution_count": 23,
   "metadata": {},
   "outputs": [
    {
     "data": {
      "text/plain": [
       "[2, 4, 6, 8, 10, 12, 14, 16, 18]"
      ]
     },
     "execution_count": 23,
     "metadata": {},
     "output_type": "execute_result"
    }
   ],
   "source": [
    "mylist = [1,2,3,4,5,6,7,8,9]\n",
    "newlist = [n*2 for n in mylist]\n",
    "newlist"
   ]
  },
  {
   "cell_type": "code",
   "execution_count": null,
   "metadata": {},
   "outputs": [],
   "source": []
  }
 ],
 "metadata": {
  "kernelspec": {
   "display_name": "Python 3",
   "language": "python",
   "name": "python3"
  },
  "language_info": {
   "codemirror_mode": {
    "name": "ipython",
    "version": 3
   },
   "file_extension": ".py",
   "mimetype": "text/x-python",
   "name": "python",
   "nbconvert_exporter": "python",
   "pygments_lexer": "ipython3",
   "version": "3.8.3"
  }
 },
 "nbformat": 4,
 "nbformat_minor": 4
}
