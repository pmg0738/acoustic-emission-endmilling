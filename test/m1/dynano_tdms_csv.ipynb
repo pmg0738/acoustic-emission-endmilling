{
 "cells": [
  {
   "cell_type": "code",
   "execution_count": 1,
   "metadata": {},
   "outputs": [],
   "source": [
    "import numpy as np\n",
    "import codecs\n",
    "import array\n",
    "import sys\n",
    "import pandas as pd"
   ]
  },
  {
   "cell_type": "code",
   "execution_count": 2,
   "metadata": {},
   "outputs": [],
   "source": [
    "def load_tdms(path, ch_num):\n",
    "    ch = [[] for _ in range(ch_num)]\n",
    "    with codecs.open(path, 'rb') as f:\n",
    "        while True:\n",
    "            # リードインと呼ばれる部分の読み込み\n",
    "            tdms = f.read(28) \n",
    "            # print(f.tell())\n",
    "            # print(tdms)\n",
    "            #if b'TDSm' != tdms[:4]:\n",
    "            #    continue\n",
    "\n",
    "            # ファイルを最後まで読み込んだら終了\n",
    "            if tdms==b'': \n",
    "                break\n",
    "\n",
    "            # データとその区切りを取得\n",
    "            # 次のセグメントの位置を抽出\n",
    "            seg_ofs = tdms[12:20]\n",
    "            by1 = array.array('l')\n",
    "            by1.frombytes( seg_ofs )\n",
    "            seg_ofs = np.asarray(by1)[0]\n",
    "            # データの位置を抽出\n",
    "            data_ofs= tdms[20:28] \n",
    "            by2 = array.array('l')\n",
    "            by2.frombytes( data_ofs )\n",
    "            data_ofs = np.asarray(by2)[0]\n",
    "\n",
    "            # データのある部分まで読み飛ばす\n",
    "            tdms = f.read(data_ofs)\n",
    "            #print(tdms[:200], len(tdms))\n",
    "            #if len(ch[0])==2:\n",
    "            #    exit()\n",
    "            #if len(ch[0])==0:\n",
    "            #    head=tdms\n",
    "            # データ部分の読み込み\n",
    "            tdms = f.read(seg_ofs-data_ofs)\n",
    "            by = array.array('f')\n",
    "            by.frombytes( tdms )\n",
    "            data = np.asarray( by )\n",
    "            # print(data.shape)\n",
    "\n",
    "            # 各チャンネルを取得\n",
    "            for i in range(ch_num):\n",
    "                ch[i].append( data[i::ch_num].reshape(-1,1) )\n",
    "\n",
    "    for i in range(ch_num):\n",
    "        ch[i] = np.vstack(ch[i])[:,0]\n",
    "\n",
    "    return ch"
   ]
  },
  {
   "cell_type": "code",
   "execution_count": 3,
   "metadata": {},
   "outputs": [
    {
     "name": "stdout",
     "output_type": "stream",
     "text": [
      "[0.18145561 0.18113136 0.18080902 0.18080902 0.18048477 0.18016243\n",
      " 0.17951393 0.17919159 0.17919159 0.17854309] [-0.19867516 -0.1989975  -0.199646   -0.19996834 -0.20029259 -0.20093918\n",
      " -0.20126343 -0.20191002 -0.20223427 -0.20255661]\n",
      "[-0.9114647  -0.91178703 -0.91178703 -0.91178703 -0.9121113  -0.91243553\n",
      " -0.9127579  -0.9130821  -0.91340446 -0.9137287 ] [-0.5559578  -0.5553112  -0.55498695 -0.5546646  -0.55434036 -0.5536938\n",
      " -0.5536938  -0.5533695  -0.5530472  -0.55272293]\n",
      "[-0.3420601  -0.3414135  -0.3407669  -0.33947372 -0.33882523 -0.33850288\n",
      " -0.33817863 -0.33753204 -0.3365612  -0.3359146 ] [-0.00013733  0.00083351  0.00115776  0.0014801   0.00212669  0.00245094\n",
      "  0.00309753  0.00309753  0.00374413  0.00439262]\n"
     ]
    }
   ],
   "source": [
    "if __name__ == '__main__':\n",
    "    path = r'C:\\Users\\pmg07\\M1\\pr1\\Dynamometer_127.tdms'\n",
    "    # ch_numにはチャンネル数を渡す. AE_Signal, AE_Noise, AE_AF で3チャンネル.\n",
    "    # data[0]にAE_Signal, data[1]にAE_Noise, data[2]にAE_AFのデータが入る.\n",
    "    data = load_tdms(path, ch_num=3)\n",
    "    # 例：各データの前方・後方10データずつ表示\n",
    "    print( data[0][:10], data[0][-10:] )\n",
    "    print( data[1][:10], data[1][-10:] )\n",
    "    print( data[2][:10], data[2][-10:] )"
   ]
  },
  {
   "cell_type": "code",
   "execution_count": 4,
   "metadata": {},
   "outputs": [
    {
     "data": {
      "text/plain": [
       "5529602"
      ]
     },
     "execution_count": 4,
     "metadata": {},
     "output_type": "execute_result"
    }
   ],
   "source": [
    "len(data[0])"
   ]
  },
  {
   "cell_type": "code",
   "execution_count": 44,
   "metadata": {},
   "outputs": [],
   "source": [
    "time_length = 16.668\n",
    "\n",
    "# 時間を表す配列を作る\n",
    "time_d = []\n",
    "# 1サンプリングするのにかかる時間\n",
    "sample_rate = 1/(10**6)*3\n",
    "\n",
    "# 時間を表す配列を作るために、16,548,822(flatten_all_dataの長さ)分だけ\n",
    "# sample_rate × i をする。ただし、16.668(time_length)を超えない時まで\n",
    "for i in range(1, len(data[0])+1):\n",
    "    if(time_length < sample_rate*(i-1)):\n",
    "        break\n",
    "    time_d.append(sample_rate*(i-1))"
   ]
  },
  {
   "cell_type": "code",
   "execution_count": 51,
   "metadata": {},
   "outputs": [],
   "source": [
    "dict1 = dict(time=time_d[:3000000], x=data[0][:3000000], y=data[1][:3000000], z=data[2][:3000000])\n",
    "dict2 = dict(time=time_d[3000000:], x=data[0][3000000:], y=data[1][3000000:], z=data[2][3000000:])"
   ]
  },
  {
   "cell_type": "code",
   "execution_count": 54,
   "metadata": {},
   "outputs": [
    {
     "name": "stdout",
     "output_type": "stream",
     "text": [
      "2529602\n",
      "2529602\n"
     ]
    }
   ],
   "source": [
    "print(len(dict2['time']))\n",
    "print(len(dict2['z']))"
   ]
  },
  {
   "cell_type": "code",
   "execution_count": 55,
   "metadata": {
    "scrolled": true
   },
   "outputs": [],
   "source": [
    "df1 = pd.DataFrame(data=dict1)\n",
    "df2 = pd.DataFrame(data=dict2)"
   ]
  },
  {
   "cell_type": "code",
   "execution_count": 56,
   "metadata": {},
   "outputs": [],
   "source": [
    "df1.to_csv('Dynano_tdms_to_csv_with_ishidaSan.csv')\n",
    "df2.to_csv('Dynano_tdms_to_csv_with_ishidaSan.csv', mode='a', header=False)"
   ]
  },
  {
   "cell_type": "code",
   "execution_count": null,
   "metadata": {},
   "outputs": [],
   "source": []
  }
 ],
 "metadata": {
  "kernelspec": {
   "display_name": "Python 3",
   "language": "python",
   "name": "python3"
  },
  "language_info": {
   "codemirror_mode": {
    "name": "ipython",
    "version": 3
   },
   "file_extension": ".py",
   "mimetype": "text/x-python",
   "name": "python",
   "nbconvert_exporter": "python",
   "pygments_lexer": "ipython3",
   "version": "3.8.3"
  }
 },
 "nbformat": 4,
 "nbformat_minor": 4
}
