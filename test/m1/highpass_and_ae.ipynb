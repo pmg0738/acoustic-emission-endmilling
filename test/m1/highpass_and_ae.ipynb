{
 "cells": [
  {
   "cell_type": "code",
   "execution_count": 1,
   "metadata": {},
   "outputs": [],
   "source": [
    "import numpy as np\n",
    "from scipy import signal\n",
    "from scipy import fftpack\n",
    "from matplotlib import pyplot as plt\n",
    "from loadTDMS import *"
   ]
  },
  {
   "cell_type": "code",
   "execution_count": 96,
   "metadata": {},
   "outputs": [],
   "source": [
    "#バターワースフィルタ（ハイパス）\n",
    "def highpass(x, samplerate, fp, fs, gpass, gstop):\n",
    "    fn = samplerate / 2#ナイキスト周波数\n",
    "    wp = fp / fn                                  #ナイキスト周波数で通過域端周波数を正規化\n",
    "    ws = fs / fn                                  #ナイキスト周波数で阻止域端周波数を正規化\n",
    "    print(wp,ws)\n",
    "    N, Wn = signal.buttord(wp, ws, gpass, gstop)  #オーダーとバターワースの正規化周波数を計算\n",
    "    print(N,Wn)\n",
    "    b, a = signal.butter(N, Wn, \"high\")           #フィルタ伝達関数の分子と分母を計算\n",
    "    print(b,a)\n",
    "    y = signal.filtfilt(b, a, x)                #信号に対してフィルタをかける\n",
    "    print(y)\n",
    "    return y                                      #フィルタ後の信号を返す\n",
    "\n",
    "# オーバーラップ処理\n",
    "def ov(data, samplerate, Fs, overlap):\n",
    "#     print(\"data\", data)\n",
    "#     print(\"samplerate\", samplerate)\n",
    "#     print(\"Fs\", Fs)\n",
    "#     print(\"overlap\", overlap)\n",
    "    Ts = len(data) / samplerate                                                # 全データ長\n",
    "    print(\"Ts\", Ts)\n",
    "    Fc = Fs / samplerate                                                       # フレーム周期\n",
    "    print(\"Fc\", Fc)\n",
    "    x_ol = Fs * (1 - (overlap / 100))                                          # オーバーラップ時のフレームずらし幅\n",
    "    N_ave = int((Ts - (Fc * (overlap / 100))) / (Fc * (1 - (overlap / 100))))  # 抽出するフレーム数（平均化に使うデータ個数）\n",
    "    print(\"x_ol\", x_ol)\n",
    "    print(\"N_ave\", N_ave)\n",
    "    array = []                                                                 # 抽出したデータを入れる空配列の定義\n",
    " \n",
    "    # forループでデータを抽出\n",
    "    for i in range(N_ave):\n",
    "        ps = int(x_ol * i)                                                     # 切り出し位置をループ毎に更新\n",
    "        array.append(data[ps:ps + Fs:1])                                       # 切り出し位置psからフレームサイズ分抽出して配列に追加\n",
    "    return array, N_ave                                                        # オーバーラップ抽出されたデータ配列とデータ個数を戻り値にする\n",
    " \n",
    "# 窓関数処理（ハニング窓）\n",
    "def hanning(data_array, Fs, N_ave):\n",
    "    han = signal.hann(Fs)                    # ハニング窓作成\n",
    "    acf = 1 / (sum(han) / Fs)                # 振幅補正係数(Amplitude Correction Factor)\n",
    "#     print('aaaa', data_array)\n",
    "    # オーバーラップされた複数時間波形全てに窓関数をかける\n",
    "    for i in range(N_ave):\n",
    "        data_array[i] = data_array[i] * han  # 窓関数をかける\n",
    " \n",
    "    return data_array, acf"
   ]
  },
  {
   "cell_type": "code",
   "execution_count": 74,
   "metadata": {},
   "outputs": [],
   "source": [
    "# FFT処理\n",
    "def fft_ave(data_array, samplerate, Fs, N_ave, acf):\n",
    "    fft_array = []\n",
    "#     print(data_array, samplerate, Fs, N_ave, acf)\n",
    "    for i in range(N_ave):\n",
    "        fft_array.append(acf * np.abs(fftpack.fft(data_array[i]) / (Fs / 2)))  # FFTをして配列に追加、窓関数補正値をかけ、(Fs/2)の正規化を実施。\n",
    " \n",
    "    fft_axis = np.linspace(0, samplerate, Fs)                                  # 周波数軸を作成\n",
    "    fft_array = np.array(fft_array)                                            # 型をndarrayに変換\n",
    "    fft_mean = np.mean(fft_array, axis=0)                                      # 全てのFFT波形の平均を計算\n",
    " \n",
    "    return fft_array, fft_mean, fft_axis"
   ]
  },
  {
   "cell_type": "code",
   "execution_count": 48,
   "metadata": {},
   "outputs": [],
   "source": [
    "#リニア値からdBへ変換\n",
    "def db(x, dBref):\n",
    "    y = 20 * np.log10(x / dBref)     #変換式\n",
    "    return y                         #dB値を返す"
   ]
  },
  {
   "cell_type": "code",
   "execution_count": 94,
   "metadata": {},
   "outputs": [
    {
     "name": "stdout",
     "output_type": "stream",
     "text": [
      "0.8 0.6\n",
      "12 0.861310474693027\n",
      "[ 2.56342909e-09 -3.07611491e-08  1.69186320e-07 -5.63954401e-07\n",
      "  1.26889740e-06 -2.03023584e-06  2.36860848e-06 -2.03023584e-06\n",
      "  1.26889740e-06 -5.63954401e-07  1.69186320e-07 -3.07611491e-08\n",
      "  2.56342909e-09] [1.00000000e+00 8.66310526e+00 3.47548190e+01 8.53038776e+01\n",
      " 1.42559667e+02 1.70787101e+02 1.50312030e+02 9.78775107e+01\n",
      " 4.67797740e+01 1.59979906e+01 3.71469874e+00 5.25668192e-01\n",
      " 3.42747473e-02]\n",
      "[ 3.70241616e-06  6.77518662e-05 -1.34174147e-04 ...  6.13829300e-05\n",
      " -1.76651892e-05 -2.53456350e-05]\n",
      "16385\n"
     ]
    }
   ],
   "source": [
    "# ここからサンプル波形生成とフィルタ処理をする-------------------------------------------\n",
    "path = r'C:\\Users\\pmg07\\Desktop\\2021_1115_切削実験\\ae\\AE_368.tdms'\n",
    "samplerate = 10**6\n",
    "data = load_tdms(path, ch_num=3)    # ガウシアンノイズを生成\n",
    "N = len(data[0][5000000:5016385])\n",
    "x = np.linspace(0, N/samplerate, N)\n",
    "\n",
    "fp = 4*10**5                                               # 通過域端周波数[Hz]\n",
    "fs = 3*10**5                                               # 阻止域端周波数[Hz]\n",
    "gpass = 40                                               # 通過域端最大損失[dB]\n",
    "gstop = 120                                              # 阻止域端最小損失[dB]\n",
    " \n",
    "# ハイパスをかける関数を実行\n",
    "data_filt = highpass(data[0][5000000:5016385], samplerate, fp, fs, gpass, gstop)\n",
    "print(len(data_filt))"
   ]
  },
  {
   "cell_type": "code",
   "execution_count": 97,
   "metadata": {
    "scrolled": true
   },
   "outputs": [
    {
     "name": "stdout",
     "output_type": "stream",
     "text": [
      "Ts 3e-06\n",
      "Fc 0.004096\n",
      "x_ol 2048.0\n",
      "N_ave 0\n",
      "[] 0\n",
      "Ts 0.016385\n",
      "Fc 0.004096\n",
      "x_ol 2048.0\n",
      "N_ave 7\n"
     ]
    },
    {
     "name": "stderr",
     "output_type": "stream",
     "text": [
      "C:\\Users\\pmg07\\anaconda3\\lib\\site-packages\\numpy\\core\\fromnumeric.py:3334: RuntimeWarning: Mean of empty slice.\n",
      "  return _methods._mean(a, axis=axis, dtype=dtype,\n",
      "C:\\Users\\pmg07\\anaconda3\\lib\\site-packages\\numpy\\core\\_methods.py:161: RuntimeWarning: invalid value encountered in double_scalars\n",
      "  ret = ret.dtype.type(ret / rcount)\n"
     ]
    }
   ],
   "source": [
    "# ここから平均化フーリエ変換とデシベル変換を行う----------------------------------------------\n",
    "Fs = 4096                               # フレームサイズ\n",
    "overlap = 50                            # オーバーラップ率\n",
    " \n",
    "# 作成した関数を実行：オーバーラップ抽出された時間波形配列\n",
    "t_array_org, N_ave_org = ov(data, samplerate, Fs, overlap)\n",
    "print(t_array_org, N_ave_org)\n",
    "t_array_filt, N_ave_filt = ov(data_filt, samplerate, Fs, overlap)\n",
    "# print(t_array_filt, N_ave_filt)\n",
    "\n",
    "# 作成した関数を実行：ハニング窓関数をかける\n",
    "t_array_org, acf_org = hanning(t_array_org, Fs, N_ave_org)\n",
    "t_array_filt, acf_filt = hanning(t_array_filt, Fs, N_ave_filt)\n",
    "\n",
    "# print(t_array_org)\n",
    "# print(acf_filt)\n",
    "# 作成した関数を実行：FFTをかける\n",
    "fft_array_org, fft_mean_org, fft_axis_org = fft_ave(t_array_org, samplerate, Fs, N_ave_org, acf_org)\n",
    "fft_array_filt, fft_mean_filt, fft_axis_filt = fft_ave(t_array_filt, samplerate, Fs, N_ave_filt, acf_filt)\n",
    "\n",
    "# print(fft_array_org)\n",
    "\n",
    "# dB変換する\n",
    "fft_mean_org = db(fft_mean_org, 2e-5)\n",
    "fft_mean_filt = db(fft_mean_filt, 2e-5)"
   ]
  },
  {
   "cell_type": "code",
   "execution_count": 56,
   "metadata": {},
   "outputs": [
    {
     "name": "stdout",
     "output_type": "stream",
     "text": [
      "[]\n"
     ]
    }
   ],
   "source": [
    "print(fft_array_org)"
   ]
  },
  {
   "cell_type": "code",
   "execution_count": 57,
   "metadata": {},
   "outputs": [
    {
     "ename": "ValueError",
     "evalue": "x and y must have same first dimension, but have shapes (16385,) and (15649026,)",
     "output_type": "error",
     "traceback": [
      "\u001b[1;31m---------------------------------------------------------------------------\u001b[0m",
      "\u001b[1;31mValueError\u001b[0m                                Traceback (most recent call last)",
      "\u001b[1;32m<ipython-input-57-240b2b4f2697>\u001b[0m in \u001b[0;36m<module>\u001b[1;34m\u001b[0m\n\u001b[0;32m     24\u001b[0m \u001b[1;33m\u001b[0m\u001b[0m\n\u001b[0;32m     25\u001b[0m \u001b[1;31m# データプロットの準備とともに、ラベルと線の太さ、凡例の設置を行う。\u001b[0m\u001b[1;33m\u001b[0m\u001b[1;33m\u001b[0m\u001b[1;33m\u001b[0m\u001b[0m\n\u001b[1;32m---> 26\u001b[1;33m \u001b[0max1\u001b[0m\u001b[1;33m.\u001b[0m\u001b[0mplot\u001b[0m\u001b[1;33m(\u001b[0m\u001b[0mx\u001b[0m\u001b[1;33m,\u001b[0m \u001b[0mdata\u001b[0m\u001b[1;33m[\u001b[0m\u001b[1;36m0\u001b[0m\u001b[1;33m]\u001b[0m\u001b[1;33m,\u001b[0m \u001b[0mlabel\u001b[0m\u001b[1;33m=\u001b[0m\u001b[1;34m'original'\u001b[0m\u001b[1;33m,\u001b[0m \u001b[0mlw\u001b[0m\u001b[1;33m=\u001b[0m\u001b[1;36m1\u001b[0m\u001b[1;33m)\u001b[0m\u001b[1;33m\u001b[0m\u001b[1;33m\u001b[0m\u001b[0m\n\u001b[0m\u001b[0;32m     27\u001b[0m \u001b[0max1\u001b[0m\u001b[1;33m.\u001b[0m\u001b[0mplot\u001b[0m\u001b[1;33m(\u001b[0m\u001b[0mx\u001b[0m\u001b[1;33m,\u001b[0m \u001b[0mdata_filt\u001b[0m\u001b[1;33m,\u001b[0m \u001b[0mlabel\u001b[0m\u001b[1;33m=\u001b[0m\u001b[1;34m'filtered'\u001b[0m\u001b[1;33m,\u001b[0m \u001b[0mlw\u001b[0m\u001b[1;33m=\u001b[0m\u001b[1;36m1\u001b[0m\u001b[1;33m)\u001b[0m\u001b[1;33m\u001b[0m\u001b[1;33m\u001b[0m\u001b[0m\n\u001b[0;32m     28\u001b[0m \u001b[0max2\u001b[0m\u001b[1;33m.\u001b[0m\u001b[0mplot\u001b[0m\u001b[1;33m(\u001b[0m\u001b[0mfft_axis_org\u001b[0m\u001b[1;33m)\u001b[0m\u001b[1;33m\u001b[0m\u001b[1;33m\u001b[0m\u001b[0m\n",
      "\u001b[1;32m~\\anaconda3\\lib\\site-packages\\matplotlib\\axes\\_axes.py\u001b[0m in \u001b[0;36mplot\u001b[1;34m(self, scalex, scaley, data, *args, **kwargs)\u001b[0m\n\u001b[0;32m   1645\u001b[0m         \"\"\"\n\u001b[0;32m   1646\u001b[0m         \u001b[0mkwargs\u001b[0m \u001b[1;33m=\u001b[0m \u001b[0mcbook\u001b[0m\u001b[1;33m.\u001b[0m\u001b[0mnormalize_kwargs\u001b[0m\u001b[1;33m(\u001b[0m\u001b[0mkwargs\u001b[0m\u001b[1;33m,\u001b[0m \u001b[0mmlines\u001b[0m\u001b[1;33m.\u001b[0m\u001b[0mLine2D\u001b[0m\u001b[1;33m)\u001b[0m\u001b[1;33m\u001b[0m\u001b[1;33m\u001b[0m\u001b[0m\n\u001b[1;32m-> 1647\u001b[1;33m         \u001b[0mlines\u001b[0m \u001b[1;33m=\u001b[0m \u001b[1;33m[\u001b[0m\u001b[1;33m*\u001b[0m\u001b[0mself\u001b[0m\u001b[1;33m.\u001b[0m\u001b[0m_get_lines\u001b[0m\u001b[1;33m(\u001b[0m\u001b[1;33m*\u001b[0m\u001b[0margs\u001b[0m\u001b[1;33m,\u001b[0m \u001b[0mdata\u001b[0m\u001b[1;33m=\u001b[0m\u001b[0mdata\u001b[0m\u001b[1;33m,\u001b[0m \u001b[1;33m**\u001b[0m\u001b[0mkwargs\u001b[0m\u001b[1;33m)\u001b[0m\u001b[1;33m]\u001b[0m\u001b[1;33m\u001b[0m\u001b[1;33m\u001b[0m\u001b[0m\n\u001b[0m\u001b[0;32m   1648\u001b[0m         \u001b[1;32mfor\u001b[0m \u001b[0mline\u001b[0m \u001b[1;32min\u001b[0m \u001b[0mlines\u001b[0m\u001b[1;33m:\u001b[0m\u001b[1;33m\u001b[0m\u001b[1;33m\u001b[0m\u001b[0m\n\u001b[0;32m   1649\u001b[0m             \u001b[0mself\u001b[0m\u001b[1;33m.\u001b[0m\u001b[0madd_line\u001b[0m\u001b[1;33m(\u001b[0m\u001b[0mline\u001b[0m\u001b[1;33m)\u001b[0m\u001b[1;33m\u001b[0m\u001b[1;33m\u001b[0m\u001b[0m\n",
      "\u001b[1;32m~\\anaconda3\\lib\\site-packages\\matplotlib\\axes\\_base.py\u001b[0m in \u001b[0;36m__call__\u001b[1;34m(self, *args, **kwargs)\u001b[0m\n\u001b[0;32m    214\u001b[0m                 \u001b[0mthis\u001b[0m \u001b[1;33m+=\u001b[0m \u001b[0margs\u001b[0m\u001b[1;33m[\u001b[0m\u001b[1;36m0\u001b[0m\u001b[1;33m]\u001b[0m\u001b[1;33m,\u001b[0m\u001b[1;33m\u001b[0m\u001b[1;33m\u001b[0m\u001b[0m\n\u001b[0;32m    215\u001b[0m                 \u001b[0margs\u001b[0m \u001b[1;33m=\u001b[0m \u001b[0margs\u001b[0m\u001b[1;33m[\u001b[0m\u001b[1;36m1\u001b[0m\u001b[1;33m:\u001b[0m\u001b[1;33m]\u001b[0m\u001b[1;33m\u001b[0m\u001b[1;33m\u001b[0m\u001b[0m\n\u001b[1;32m--> 216\u001b[1;33m             \u001b[1;32myield\u001b[0m \u001b[1;32mfrom\u001b[0m \u001b[0mself\u001b[0m\u001b[1;33m.\u001b[0m\u001b[0m_plot_args\u001b[0m\u001b[1;33m(\u001b[0m\u001b[0mthis\u001b[0m\u001b[1;33m,\u001b[0m \u001b[0mkwargs\u001b[0m\u001b[1;33m)\u001b[0m\u001b[1;33m\u001b[0m\u001b[1;33m\u001b[0m\u001b[0m\n\u001b[0m\u001b[0;32m    217\u001b[0m \u001b[1;33m\u001b[0m\u001b[0m\n\u001b[0;32m    218\u001b[0m     \u001b[1;32mdef\u001b[0m \u001b[0mget_next_color\u001b[0m\u001b[1;33m(\u001b[0m\u001b[0mself\u001b[0m\u001b[1;33m)\u001b[0m\u001b[1;33m:\u001b[0m\u001b[1;33m\u001b[0m\u001b[1;33m\u001b[0m\u001b[0m\n",
      "\u001b[1;32m~\\anaconda3\\lib\\site-packages\\matplotlib\\axes\\_base.py\u001b[0m in \u001b[0;36m_plot_args\u001b[1;34m(self, tup, kwargs)\u001b[0m\n\u001b[0;32m    340\u001b[0m \u001b[1;33m\u001b[0m\u001b[0m\n\u001b[0;32m    341\u001b[0m         \u001b[1;32mif\u001b[0m \u001b[0mx\u001b[0m\u001b[1;33m.\u001b[0m\u001b[0mshape\u001b[0m\u001b[1;33m[\u001b[0m\u001b[1;36m0\u001b[0m\u001b[1;33m]\u001b[0m \u001b[1;33m!=\u001b[0m \u001b[0my\u001b[0m\u001b[1;33m.\u001b[0m\u001b[0mshape\u001b[0m\u001b[1;33m[\u001b[0m\u001b[1;36m0\u001b[0m\u001b[1;33m]\u001b[0m\u001b[1;33m:\u001b[0m\u001b[1;33m\u001b[0m\u001b[1;33m\u001b[0m\u001b[0m\n\u001b[1;32m--> 342\u001b[1;33m             raise ValueError(f\"x and y must have same first dimension, but \"\n\u001b[0m\u001b[0;32m    343\u001b[0m                              f\"have shapes {x.shape} and {y.shape}\")\n\u001b[0;32m    344\u001b[0m         \u001b[1;32mif\u001b[0m \u001b[0mx\u001b[0m\u001b[1;33m.\u001b[0m\u001b[0mndim\u001b[0m \u001b[1;33m>\u001b[0m \u001b[1;36m2\u001b[0m \u001b[1;32mor\u001b[0m \u001b[0my\u001b[0m\u001b[1;33m.\u001b[0m\u001b[0mndim\u001b[0m \u001b[1;33m>\u001b[0m \u001b[1;36m2\u001b[0m\u001b[1;33m:\u001b[0m\u001b[1;33m\u001b[0m\u001b[1;33m\u001b[0m\u001b[0m\n",
      "\u001b[1;31mValueError\u001b[0m: x and y must have same first dimension, but have shapes (16385,) and (15649026,)"
     ]
    },
    {
     "data": {
      "image/png": "[encoded data removed]",
      "text/plain": [
       "<Figure size 432x288 with 2 Axes>"
      ]
     },
     "metadata": {
      "needs_background": "light"
     },
     "output_type": "display_data"
    }
   ],
   "source": [
    "# ここからグラフ描画---------------------------------------------------------------------\n",
    "# フォントの種類とサイズを設定する。\n",
    "plt.rcParams['font.size'] = 14\n",
    "plt.rcParams['font.family'] = 'Times New Roman'\n",
    " \n",
    "# 目盛を内側にする。\n",
    "plt.rcParams['xtick.direction'] = 'in'\n",
    "plt.rcParams['ytick.direction'] = 'in'\n",
    " \n",
    "# グラフの上下左右に目盛線を付ける。\n",
    "fig = plt.figure()\n",
    "ax1 = fig.add_subplot(211)\n",
    "ax1.yaxis.set_ticks_position('both')\n",
    "ax1.xaxis.set_ticks_position('both')\n",
    "ax2 = fig.add_subplot(212)\n",
    "ax2.yaxis.set_ticks_position('both')\n",
    "ax2.xaxis.set_ticks_position('both')\n",
    " \n",
    "# 軸のラベルを設定する。\n",
    "ax1.set_xlabel('Time [s]')\n",
    "ax1.set_ylabel('Amplitude[V]')\n",
    "ax2.set_xlabel('Frequency [Hz]')\n",
    "ax2.set_ylabel('Amplitude[dB]')\n",
    "\n",
    "# データプロットの準備とともに、ラベルと線の太さ、凡例の設置を行う。\n",
    "ax1.plot(x, data[0], label='original', lw=1)\n",
    "ax1.plot(x, data_filt, label='filtered', lw=1)\n",
    "ax2.plot(fft_axis_org)\n",
    "ax2.plot(fft_axis_org, fft_mean_org, label='original', lw=1)\n",
    "ax2.plot(fft_axis_filt, fft_mean_filt, label='filtered', lw=1)\n",
    "plt.legend()\n",
    " \n",
    "# 軸のリミットを設定する。\n",
    "ax2.set_xlim(0, max(fft_axis_org)/2)\n",
    "ax2.set_ylim(-20, 100)\n",
    " \n",
    "# レイアウト設定\n",
    "fig.tight_layout()"
   ]
  },
  {
   "cell_type": "code",
   "execution_count": null,
   "metadata": {},
   "outputs": [],
   "source": []
  }
 ],
 "metadata": {
  "kernelspec": {
   "display_name": "Python 3",
   "language": "python",
   "name": "python3"
  },
  "language_info": {
   "codemirror_mode": {
    "name": "ipython",
    "version": 3
   },
   "file_extension": ".py",
   "mimetype": "text/x-python",
   "name": "python",
   "nbconvert_exporter": "python",
   "pygments_lexer": "ipython3",
   "version": "3.8.3"
  }
 },
 "nbformat": 4,
 "nbformat_minor": 4
}
