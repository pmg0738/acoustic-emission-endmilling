{
 "cells": [
  {
   "cell_type": "code",
   "execution_count": 1,
   "metadata": {},
   "outputs": [],
   "source": [
    "import numpy as np\n",
    "import matplotlib.pyplot as plt\n",
    "import pandas as pd\n",
    "import codecs\n",
    "import array\n",
    "import sys\n",
    "import os\n",
    "\n",
    "def load_tdms(path, ch_num):\n",
    "    ch = [[] for _ in range(ch_num)]\n",
    "    with codecs.open(path, 'rb') as f:\n",
    "        while True:\n",
    "            tdms = f.read(28) \n",
    "\n",
    "            if tdms==b'': \n",
    "                break\n",
    "\n",
    "            seg_ofs = tdms[12:20]\n",
    "            by1 = array.array('l')\n",
    "            by1.frombytes( seg_ofs )\n",
    "            seg_ofs = np.asarray(by1)[0]\n",
    "            data_ofs= tdms[20:28] \n",
    "            by2 = array.array('l')\n",
    "            by2.frombytes( data_ofs )\n",
    "            data_ofs = np.asarray(by2)[0]\n",
    "            tdms = f.read(data_ofs)\n",
    "\n",
    "            tdms = f.read(seg_ofs-data_ofs)\n",
    "            by = array.array('f')\n",
    "            by.frombytes( tdms )\n",
    "            data = np.asarray( by )\n",
    "\n",
    "            for i in range(ch_num):\n",
    "                ch[i].append( data[i::ch_num].reshape(-1,1) )\n",
    "\n",
    "    for i in range(ch_num):\n",
    "        ch[i] = np.vstack(ch[i])[:,0]\n",
    "\n",
    "    return ch"
   ]
  },
  {
   "cell_type": "code",
   "execution_count": 4,
   "metadata": {},
   "outputs": [],
   "source": [
    "def data_split(t, x, split_t_r, overlap):\n",
    "\n",
    "    split_data = []\n",
    "    one_frame_N = int(len(t)*split_t_r)  # 1フレームのサンプル数\n",
    "    overlap_N = int(one_frame_N*overlap)  # オーバーラップするサンプル数\n",
    "    start_S = 0\n",
    "    end_S = start_S + one_frame_N\n",
    "\n",
    "    while True:\n",
    "        t_cont = t[start_S:end_S]\n",
    "        x_cont = x[start_S:end_S]\n",
    "        split_data.append([t_cont, x_cont])\n",
    "\n",
    "        start_S = start_S + (one_frame_N - overlap_N)\n",
    "        end_S = start_S + one_frame_N\n",
    "\n",
    "        if end_S > len(t):\n",
    "            break\n",
    "\n",
    "    return np.array(split_data)"
   ]
  },
  {
   "cell_type": "code",
   "execution_count": 2,
   "metadata": {},
   "outputs": [],
   "source": [
    "def FFT_main(t, x, dt, split_t_r, overlap, window_F, output_FN, y_label, y_unit):\n",
    "\n",
    "    # データをオーバーラップして分割する。\n",
    "    split_data = data_split(t, x, split_t_r, overlap)\n",
    "\n",
    "    # FFTを行う。\b\n",
    "    FFT_result_list = []\n",
    "    for split_data_cont in split_data:\n",
    "        FFT_result_cont = FFT(split_data_cont, dt, window_F)\n",
    "        FFT_result_list.append(FFT_result_cont)\n",
    "\n",
    "    # 平均化\n",
    "    fq_ave = FFT_result_list[0][0]\n",
    "    F_abs_amp_ave = np.zeros(len(fq_ave))\n",
    "    for i in range(len(FFT_result_list)):\n",
    "        F_abs_amp_ave = F_abs_amp_ave + FFT_result_list[i][1]\n",
    "    F_abs_amp_ave = F_abs_amp_ave/(i+1)\n",
    "\n",
    "    plot_FFT(t, x, fq_ave, F_abs_amp_ave, output_FN, \"ave\", 1, y_label, y_unit)\n",
    "\n",
    "    return fq_ave, F_abs_amp_ave"
   ]
  },
  {
   "cell_type": "code",
   "execution_count": 3,
   "metadata": {},
   "outputs": [],
   "source": [
    "def FFT(data_input, dt, window_F):\n",
    "\n",
    "    N = len(data_input[0])\n",
    "\n",
    "    # 窓の用意\n",
    "    if window_F == \"hanning\":\n",
    "        window = np.hanning(N)          # ハニング窓\n",
    "    elif window_F == \"hamming\":\n",
    "        window = np.hamming(N)          # ハミング窓\n",
    "    elif window_F == \"blackman\":\n",
    "        window = np.blackman(N)         # ブラックマン窓\n",
    "    else:\n",
    "        print(\"Error: input window function name is not sapported. Your input: \", window_F)\n",
    "        print(\"Hanning window function is used.\")\n",
    "        hanning = np.hanning(N)          # ハニング窓\n",
    "\n",
    "    # 窓関数後の信号\n",
    "    x_windowed = data_input[1]*window\n",
    "\n",
    "    # FFT計算\n",
    "    F = np.fft.fft(x_windowed)\n",
    "    F_abs = np.abs(F)\n",
    "    F_abs_amp = F_abs / N * 2\n",
    "    fq = np.linspace(0, 1.0/dt, N)\n",
    "#     fq = np.linspace(0, N*dt, N)\n",
    "\n",
    "\n",
    "    # 窓補正\n",
    "    acf = 1/(sum(window)/N)\n",
    "    F_abs_amp = acf*F_abs_amp\n",
    "\n",
    "    # ナイキスト定数まで抽出\n",
    "    fq_out = fq[:int(N/2)+1]\n",
    "    F_abs_amp_out = F_abs_amp[:int(N/2)+1]\n",
    "\n",
    "    return [fq_out, F_abs_amp_out]"
   ]
  },
  {
   "cell_type": "code",
   "execution_count": 6,
   "metadata": {},
   "outputs": [],
   "source": [
    "def plot_FFT(t, x, fq, F_abs_amp, output_FN, IDN, final_graph, y_label, y_unit):\n",
    "\n",
    "    fig = plt.figure()\n",
    "    ax = fig.add_subplot(111)\n",
    "\n",
    "    plt.xlabel('freqency(kHz)', fontsize=16)\n",
    "    plt.ylabel(y_label+\"[dB]\", fontsize=16)\n",
    "\n",
    "    ax.set_xlim(0,500000)\n",
    "    ax.set_xticklabels([ 0 ,100, 200, 300, 400, 500])\n",
    "    \n",
    "    plt.plot(fq, 20 * np.log10(F_abs_amp))\n",
    "    \n",
    "    p = plt.tick_params(labelsize=16)\n",
    "    plt.tight_layout()\n",
    "\n",
    "    if final_graph == 0:\n",
    "        plt.savefig(output_FN[:-4]+\"_\"+str(IDN) +\n",
    "                    \"_FFTtemp\"+output_FN[-4:], dpi=300)\n",
    "    elif final_graph == 1:\n",
    "        plt.savefig(output_FN, dpi=300)\n",
    "\n",
    "    return 0"
   ]
  },
  {
   "cell_type": "code",
   "execution_count": 12,
   "metadata": {},
   "outputs": [
    {
     "name": "stdout",
     "output_type": "stream",
     "text": [
      "[8.09294962e-05 8.08759505e-05 8.07182718e-05 ... 8.04651310e-05\n",
      " 8.07182718e-05 8.08759505e-05]\n",
      "[0.02388436 0.02181957]\n"
     ]
    },
    {
     "data": {
      "image/png": "[encoded data removed]",
      "text/plain": [
       "<Figure size 432x288 with 1 Axes>"
      ]
     },
     "metadata": {
      "needs_background": "light"
     },
     "output_type": "display_data"
    }
   ],
   "source": [
    "path = r'C:\\Users\\pmg07\\Desktop\\2021_1115_切削実験\\ae\\AE_368.tdms'\n",
    "d = load_tdms(path, ch_num=3)\n",
    "dt = 1/10**6\n",
    "last_t = 0\n",
    "y = d[0][5000000:5016385]\n",
    "\n",
    "# y = d[0][:]\n",
    "N = len(y)\n",
    "f = y\n",
    "fq = np.linspace(0, N*dt, N)\n",
    "\n",
    "# fft_data = np.abs(np.fft.rfft(y))\n",
    "# freqList = np.fft.rfftfreq(len(s), 1.0 / rate)  # 横軸\n",
    "# plt.loglog(freqList, 10 * np.log(fft_data))\n",
    "# plt.xlabel('Frequency')\n",
    "# plt.ylabel('Power')\n",
    "# plt.show()\n",
    "\n",
    "output_FN = \"./AE_FFT/AE_FFT_368.png\"\n",
    "split_t_r = 0.1\n",
    "overlap = 0.5\n",
    "window_F = \"hanning\" \n",
    "y_label = \"amplitude\"\n",
    "y_unit = \"V\"\n",
    "\n",
    "fft_r = FFT_main(fq, f, dt, split_t_r, overlap, window_F, output_FN, y_label, y_unit)\n",
    "print(np.fft.irfft(fft_r[1],len(y)))\n",
    "print(fft_r[1][10:12])"
   ]
  },
  {
   "cell_type": "code",
   "execution_count": null,
   "metadata": {},
   "outputs": [],
   "source": []
  },
  {
   "cell_type": "code",
   "execution_count": null,
   "metadata": {},
   "outputs": [],
   "source": []
  }
 ],
 "metadata": {
  "kernelspec": {
   "display_name": "Python 3",
   "language": "python",
   "name": "python3"
  },
  "language_info": {
   "codemirror_mode": {
    "name": "ipython",
    "version": 3
   },
   "file_extension": ".py",
   "mimetype": "text/x-python",
   "name": "python",
   "nbconvert_exporter": "python",
   "pygments_lexer": "ipython3",
   "version": "3.8.3"
  }
 },
 "nbformat": 4,
 "nbformat_minor": 4
}
