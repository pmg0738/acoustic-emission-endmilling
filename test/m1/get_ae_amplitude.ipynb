{
 "cells": [
  {
   "cell_type": "code",
   "execution_count": 2,
   "metadata": {},
   "outputs": [],
   "source": [
    "import numpy as np\n",
    "import codecs\n",
    "import array\n",
    "import sys\n",
    "import pandas as pd\n",
    "import matplotlib.pyplot as plt\n",
    "from loadTDMS import *"
   ]
  },
  {
   "cell_type": "code",
   "execution_count": 4,
   "metadata": {},
   "outputs": [
    {
     "name": "stdout",
     "output_type": "stream",
     "text": [
      "15628431\n",
      "15654926\n",
      "15610946\n",
      "15605988\n",
      "15604199\n",
      "15615527\n",
      "15597266\n",
      "15595976\n",
      "15596061\n"
     ]
    }
   ],
   "source": [
    "for i in range(83,92):\n",
    "    path_num = i\n",
    "    data_num = 24 + 2*(path_num-1)\n",
    "    if path_num == 1:\n",
    "        pre_data_num = 24\n",
    "    else:\n",
    "        pre_data_num = 24 + 2*(path_num-2)\n",
    "    path = rf'C:\\Users\\pmg07\\Desktop\\2021_1115_切削実験\\ae\\AE_{data_num}.tdms'\n",
    "    pre_path = rf'C:\\Users\\pmg07\\Desktop\\2021_1115_切削実験\\ae\\AE_{pre_data_num}.tdms'\n",
    "    d = load_tdms(path, ch_num=3)\n",
    "    pre_d = load_tdms(pre_path, ch_num=3)\n",
    "\n",
    "    # 1サンプリングするのにかかる時間\n",
    "    dt = 1/10**6\n",
    "    last_t = 0\n",
    "\n",
    "    N = len(d[0])\n",
    "    print(N)\n",
    "    t_d = np.linspace(last_t, last_t + N*dt, N)  # 周波数軸　linspace(開始,終了,分割数)\n",
    "    cd_d = t_d*(190/60)/1000 + (path_num-1)*49/1000\n",
    "\n",
    "    dict1 = dict(time=t_d[0:25001]*1000, cd_d = cd_d[0:25001], ae_amp=d[0][0:25001])\n",
    "\n",
    "    df1 = pd.DataFrame(data=dict1)\n",
    "    df1.to_csv(f'AE_Amplitude/AE_Amplitude_10000_{data_num}.csv')\n",
    "\n",
    "    df = pd.read_csv(f'AE_Amplitude/AE_Amplitude_10000_{data_num}.csv')\n",
    "    fig = plt.figure()\n",
    "    ax = fig.add_subplot(111)\n",
    "    p = plt.plot(df['time'], df['ae_amp'])\n",
    "    ax.set_xlim(0,25)\n",
    "    ax.set_ylim(-0.5,0.5)\n",
    "    p = ax.set_xlabel(\"Time[ms]\", fontsize=16)\n",
    "    p = ax.set_ylabel(\"AE Amplitude[V]\", fontsize=16)\n",
    "    if path_num == 1:\n",
    "        plt.title(\"Cutting Distance: 0m\", fontsize=20)\n",
    "    else:\n",
    "        plt.title(f\"Cutting Distance: {(i-1)*49/1000}m\", fontsize=20)\n",
    "    p = plt.tick_params(labelsize=16)\n",
    "    p = plt.hlines([0],0,25)\n",
    "    plt.tight_layout()\n",
    "    fig.savefig(f'AE_Amplitude/AE_amp_{data_num}.png', dpi=300)"
   ]
  },
  {
   "cell_type": "code",
   "execution_count": null,
   "metadata": {},
   "outputs": [],
   "source": []
  }
 ],
 "metadata": {
  "kernelspec": {
   "display_name": "Python 3",
   "language": "python",
   "name": "python3"
  },
  "language_info": {
   "codemirror_mode": {
    "name": "ipython",
    "version": 3
   },
   "file_extension": ".py",
   "mimetype": "text/x-python",
   "name": "python",
   "nbconvert_exporter": "python",
   "pygments_lexer": "ipython3",
   "version": "3.8.3"
  }
 },
 "nbformat": 4,
 "nbformat_minor": 4
}
