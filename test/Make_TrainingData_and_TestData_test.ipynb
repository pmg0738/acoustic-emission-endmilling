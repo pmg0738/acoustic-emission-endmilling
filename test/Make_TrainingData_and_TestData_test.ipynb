{
 "cells": [
  {
   "cell_type": "code",
   "execution_count": 2,
   "metadata": {},
   "outputs": [],
   "source": [
    "from loadTDMS import *\n",
    "# from fft_test import *\n",
    "from fft_test_split1overlap1 import *\n",
    "\n",
    "import numpy as np\n",
    "import pandas as pd\n",
    "from dask import dataframe as dd\n",
    "import matplotlib.pyplot as plt\n",
    "import itertools\n",
    "import os"
   ]
  },
  {
   "cell_type": "markdown",
   "metadata": {},
   "source": [
    "## ファイル名変更 ex) AE_18.tdms -> AE_1.tdms\n",
    "### プログラム書きやすいように"
   ]
  },
  {
   "cell_type": "code",
   "execution_count": 35,
   "metadata": {},
   "outputs": [],
   "source": [
    "# os.rename(変更前ファイル、変更後ファイル)\n",
    "\n",
    "for i in range(1261,1533,2):\n",
    "    num = int((i-15)/2) - 22\n",
    "    old_name = rf\"Z:\\100 実験データ（RAW）\\20220630---切削実験---AE+切削抵抗\\AE\\1-5000\\AE_{i}.tdms\"\n",
    "    new_name = rf\"Z:\\100 実験データ（RAW）\\20220630---切削実験---AE+切削抵抗\\AE\\1-5000\\OnlyCuttingData\\AE_{num}.tdms\"\n",
    "    os.rename(old_name, new_name)\n",
    "#     print(i,num)"
   ]
  },
  {
   "cell_type": "markdown",
   "metadata": {},
   "source": [
    "# ①生データ から2^14個取ってくる\n",
    "## 中間データ①"
   ]
  },
  {
   "cell_type": "code",
   "execution_count": 41,
   "metadata": {},
   "outputs": [],
   "source": [
    "# AE_{num}.tdms -> AE_extract_{num}.csv\n",
    "# 生データ から2^14個取ってくる\n",
    "\n",
    "def extract_16384(num):\n",
    "    load_path = rf\"Z:\\100 実験データ（RAW）\\20220630---切削実験---AE+切削抵抗\\AE\\1-5000\\OnlyCuttingData\\AE_{num}.tdms\"\n",
    "    save_path = rf\"Z:\\200 実験データ加工\\20220630\\TrainingData\\extract\\AE_extract_{num}.csv\"\n",
    "    d = load_tdms(load_path, ch_num=3)\n",
    "    d = d[0][5000000:5000000+16384]\n",
    "    pd.DataFrame(d).to_csv(save_path)"
   ]
  },
  {
   "cell_type": "code",
   "execution_count": 45,
   "metadata": {
    "scrolled": true
   },
   "outputs": [],
   "source": [
    "for i in range(1,737):\n",
    "    extract_16384(i)"
   ]
  },
  {
   "cell_type": "markdown",
   "metadata": {},
   "source": [
    "# ②正規化する前のFFT\n",
    "## 中間データ②作成"
   ]
  },
  {
   "cell_type": "code",
   "execution_count": 3,
   "metadata": {},
   "outputs": [],
   "source": [
    "def FFT_withoutNorm(num):\n",
    "    \n",
    "    #データ読み込み\n",
    "#     d = pd.read_csv(rf'Z:\\200 Produced_data\\20220630\\TrainingData\\extract\\AE_extract_{num}.csv')\n",
    "#     d = d['0']\n",
    "    \n",
    "    \n",
    "    #inoue_source\n",
    "    d = pd.read_csv(rf\"Z:\\inoue_source\\2020\\A_30m_破断なし\\AE信号\\AE_{num}.csv\")\n",
    "    d = d[100000:100000+16384]\n",
    "    d = d.to_numpy()\n",
    "    d = d.reshape(-1)\n",
    "    \n",
    "#     print(d.shape)\n",
    "    \n",
    "    #FFT条件\n",
    "    dt = 1/10**6\n",
    "    split_t_r = 1 # 1つの枠で全体のどの割合のデータを分析するか。\n",
    "    overlap = 1  # オーバーラップ率\n",
    "    window_F = \"hamming\"  # 窓関数選択: hanning, hamming, blackman\n",
    "    y_label = \"amplitude\"\n",
    "    y_unit = \"V\"\n",
    "    N = len(d)\n",
    "    fq = np.linspace(0, N*dt, N)  # 周波数軸　linspace(開始,終了,分割数)\n",
    "    \n",
    "\n",
    "    #FFT実行\n",
    "#     fq_, amp_ = FFT_main(fq, d, dt, split_t_r, overlap, window_F)\n",
    "    fq_, amp_ = FFT(fq,d,dt,window_F)\n",
    "\n",
    "    #fig保存ー正規化前\n",
    "    output_FN = fr\"Z:\\200 Produced_data\\inoue2020_A\\FFT\\split1,overlap1\\fig\\FFT_{num}\"\n",
    "    plot_FFT(fq_, amp_, output_FN, y_label, y_unit,num)\n",
    "\n",
    "    #dBに変換してcsv保存ー正規化前\n",
    "    amp_db = pd.DataFrame({'db': 20*np.log10(amp_)})\n",
    "    output_csv = fr\"Z:\\200 Produced_data\\inoue2020_A\\FFT\\split1,overlap1\\csv\\FFT_{num}.csv\"\n",
    "    amp_db.to_csv(output_csv, header=False, index=False)\n"
   ]
  },
  {
   "cell_type": "code",
   "execution_count": 4,
   "metadata": {
    "scrolled": true
   },
   "outputs": [
    {
     "name": "stdout",
     "output_type": "stream",
     "text": [
      "334\n",
      "335\n",
      "Wall time: 10.2 s\n"
     ]
    }
   ],
   "source": [
    "%%time\n",
    "for i in range(334,336):\n",
    "    print(i)\n",
    "    FFT_withoutNorm(i)"
   ]
  },
  {
   "cell_type": "markdown",
   "metadata": {},
   "source": [
    "# FFT(正規化）\n",
    "## 学習（trarin）データ作成"
   ]
  },
  {
   "cell_type": "code",
   "execution_count": 49,
   "metadata": {},
   "outputs": [],
   "source": [
    "#学習データから最大最小を算出\n",
    "#今回は2022年6月の200path-300path\n",
    "def get_minmax(start,end):\n",
    "    all_data = []\n",
    "    for i in range(start,end+1):\n",
    "        d = pd.read_csv(rf\"Z:\\200 実験データ加工\\20220630\\TrainingData\\FFT\\csv\\FFT_{i}.csv\")\n",
    "        d = d.to_numpy()\n",
    "        d = np.ravel(d)\n",
    "        all_data.append(d[:])\n",
    "    all_data = np.array(all_data)\n",
    "    all_data = all_data.ravel()\n",
    "    min_d = all_data.min()\n",
    "    max_d = all_data.max()\n",
    "    return min_d, max_d\n",
    "\n",
    "#正規化_minmax\n",
    "def normalize_minmax(min_, max_, d):\n",
    "    min_max_d = (d - min_) / (max_ - min_)\n",
    "    return min_max_d    "
   ]
  },
  {
   "cell_type": "code",
   "execution_count": 50,
   "metadata": {},
   "outputs": [],
   "source": [
    "min_, max_ = get_minmax(200,300)"
   ]
  },
  {
   "cell_type": "code",
   "execution_count": 55,
   "metadata": {
    "scrolled": true
   },
   "outputs": [
    {
     "name": "stdout",
     "output_type": "stream",
     "text": [
      "Wall time: 62 ms\n"
     ]
    }
   ],
   "source": [
    "%%time\n",
    "for i in range(736,737):\n",
    "    d = np.loadtxt(rf\"Z:\\200 実験データ加工\\20220630\\TrainingData\\FFT\\csv\\FFT_{i}.csv\", delimiter=',')  # 区切り文字としてカンマを指定\n",
    "    d_norm = normalize_minmax(min_,max_,d)\n",
    "    amp_db_norm = pd.DataFrame({'db': d_norm})\n",
    "    output_csv = rf\"Z:\\200 実験データ加工\\20220630\\TrainingData\\FFT_Norm\\csv\\FFT_Norm_{i}.csv\"\n",
    "    amp_db_norm.to_csv(output_csv, header=False, index=False)"
   ]
  },
  {
   "cell_type": "markdown",
   "metadata": {},
   "source": [
    "# -------------------------------------------------------------------------------------\n",
    "# --------------------------------------------------------------------------------------\n",
    "# 2021年11月"
   ]
  },
  {
   "cell_type": "markdown",
   "metadata": {},
   "source": [
    "# 検証データ(test data)作成"
   ]
  },
  {
   "cell_type": "markdown",
   "metadata": {},
   "source": [
    "## ファイル名変更 ex) AE_18.tdms -> AE_1.tdms\n",
    "### プログラム書きやすいように"
   ]
  },
  {
   "cell_type": "code",
   "execution_count": 59,
   "metadata": {},
   "outputs": [],
   "source": [
    "for i in range(24,506,2):\n",
    "    num = int((i-22)/2)\n",
    "    old_name = rf\"Z:\\100 実験データ（RAW）\\20211115---切削実験---AE+切削抵抗\\AE\\1-5000\\AE_{i}.tdms\"\n",
    "    new_name = rf\"Z:\\100 実験データ（RAW）\\20211115---切削実験---AE+切削抵抗\\AE\\1-5000\\OnlyCuttingData\\AE_{num}.tdms\"\n",
    "    os.rename(old_name, new_name)\n",
    "#     print(i,num)"
   ]
  },
  {
   "cell_type": "markdown",
   "metadata": {},
   "source": [
    "# ①生データ から2^14個取ってくる\n",
    "## 中間データ①"
   ]
  },
  {
   "cell_type": "code",
   "execution_count": 63,
   "metadata": {},
   "outputs": [],
   "source": [
    "# AE_{num}.tdms -> AE_extract_{num}.csv\n",
    "# 生データ から2^14個取ってくる\n",
    "\n",
    "def extract_16384(num):\n",
    "    load_path = rf\"Z:\\100 実験データ（RAW）\\20211115---切削実験---AE+切削抵抗\\AE\\1-5000\\OnlyCuttingData\\AE_{num}.tdms\"\n",
    "    save_path = rf\"Z:\\200 実験データ加工\\20211115---切削実験---AE+切削抵抗\\TrainingData\\extract\\AE_extract_{num}.csv\"\n",
    "    d = load_tdms(load_path, ch_num=3)\n",
    "    d = d[0][5000000:5000000+16384]\n",
    "    pd.DataFrame(d).to_csv(save_path)"
   ]
  },
  {
   "cell_type": "code",
   "execution_count": 65,
   "metadata": {},
   "outputs": [
    {
     "name": "stdout",
     "output_type": "stream",
     "text": [
      "Wall time: 9min 41s\n"
     ]
    }
   ],
   "source": [
    "%%time\n",
    "for i in range(1,242):\n",
    "    extract_16384(i)"
   ]
  },
  {
   "cell_type": "markdown",
   "metadata": {},
   "source": [
    "# ②正規化する前のFFT\n",
    "## 中間データ②作成"
   ]
  },
  {
   "cell_type": "code",
   "execution_count": 66,
   "metadata": {},
   "outputs": [],
   "source": [
    "def FFT_withoutNorm(num):\n",
    "    \n",
    "    #データ読み込み\n",
    "    d = pd.read_csv(rf'Z:\\200 実験データ加工\\20211115---切削実験---AE+切削抵抗\\TrainingData\\extract\\AE_extract_{num}.csv')\n",
    "    d = d['0']\n",
    "    \n",
    "    #FFT条件\n",
    "    dt = 1/10**6\n",
    "    split_t_r = 0.1 # 1つの枠で全体のどの割合のデータを分析するか。\n",
    "    overlap = 0.5  # オーバーラップ率\n",
    "    window_F = \"hamming\"  # 窓関数選択: hanning, hamming, blackman\n",
    "    y_label = \"amplitude\"\n",
    "    y_unit = \"V\"\n",
    "    N = len(d)\n",
    "    fq = np.linspace(0, N*dt, N)  # 周波数軸　linspace(開始,終了,分割数)\n",
    "    \n",
    "\n",
    "    #FFT実行\n",
    "    fq_, amp_ = FFT_main(fq, d, dt, split_t_r, overlap, window_F)\n",
    "\n",
    "    #fig保存ー正規化前\n",
    "    output_FN = rf\"Z:\\200 実験データ加工\\20211115---切削実験---AE+切削抵抗\\TrainingData\\FFT\\fig\\FFT_{num}\"\n",
    "    plot_FFT(fq_, amp_, output_FN, y_label, y_unit,num)\n",
    "\n",
    "    #dBに変換してcsv保存ー正規化前\n",
    "    amp_db = pd.DataFrame({'db': 20*np.log10(amp_)})\n",
    "    output_csv = rf\"Z:\\200 実験データ加工\\20211115---切削実験---AE+切削抵抗\\TrainingData\\FFT\\csv\\FFT_{num}.csv\"\n",
    "    amp_db.to_csv(output_csv, header=False, index=False)"
   ]
  },
  {
   "cell_type": "code",
   "execution_count": 67,
   "metadata": {},
   "outputs": [
    {
     "name": "stdout",
     "output_type": "stream",
     "text": [
      "Wall time: 2min 6s\n"
     ]
    }
   ],
   "source": [
    "%%time\n",
    "for i in range(1,242):\n",
    "    FFT_withoutNorm(i)"
   ]
  },
  {
   "cell_type": "markdown",
   "metadata": {},
   "source": [
    "# FFT(正規化）\n",
    "## 検証（test）データ作成"
   ]
  },
  {
   "cell_type": "code",
   "execution_count": 68,
   "metadata": {},
   "outputs": [],
   "source": [
    "#学習データから最大最小を算出\n",
    "#今回は2022年6月の200path-300path\n",
    "def get_minmax(start,end):\n",
    "    all_data = []\n",
    "    for i in range(start,end+1):\n",
    "        d = pd.read_csv(rf\"Z:\\200 実験データ加工\\20220630\\TrainingData\\FFT\\csv\\FFT_{i}.csv\")\n",
    "        d = d.to_numpy()\n",
    "        d = np.ravel(d)\n",
    "        all_data.append(d[:])\n",
    "    all_data = np.array(all_data)\n",
    "    all_data = all_data.ravel()\n",
    "    min_d = all_data.min()\n",
    "    max_d = all_data.max()\n",
    "    return min_d, max_d\n",
    "\n",
    "#正規化_minmax\n",
    "def normalize_minmax(min_, max_, d):\n",
    "    min_max_d = (d - min_) / (max_ - min_)\n",
    "    return min_max_d    "
   ]
  },
  {
   "cell_type": "code",
   "execution_count": 69,
   "metadata": {},
   "outputs": [],
   "source": [
    "min_, max_ = get_minmax(200,300)"
   ]
  },
  {
   "cell_type": "code",
   "execution_count": 70,
   "metadata": {},
   "outputs": [
    {
     "name": "stdout",
     "output_type": "stream",
     "text": [
      "Wall time: 6.42 s\n"
     ]
    }
   ],
   "source": [
    "%%time\n",
    "for i in range(1,242):\n",
    "    d = np.loadtxt(rf\"Z:\\200 実験データ加工\\20211115---切削実験---AE+切削抵抗\\TrainingData\\FFT\\csv\\FFT_{i}.csv\", delimiter=',')  # 区切り文字としてカンマを指定\n",
    "    d_norm = normalize_minmax(min_,max_,d)\n",
    "    amp_db_norm = pd.DataFrame({'db': d_norm})\n",
    "    output_csv = rf\"Z:\\200 実験データ加工\\20211115---切削実験---AE+切削抵抗\\TrainingData\\FFT_Norm\\csv\\FFT_Norm_{i}.csv\"\n",
    "    amp_db_norm.to_csv(output_csv, header=False, index=False)"
   ]
  },
  {
   "cell_type": "code",
   "execution_count": null,
   "metadata": {},
   "outputs": [],
   "source": []
  },
  {
   "cell_type": "code",
   "execution_count": 8,
   "metadata": {},
   "outputs": [
    {
     "data": {
      "text/html": [
       "<div>\n",
       "<style scoped>\n",
       "    .dataframe tbody tr th:only-of-type {\n",
       "        vertical-align: middle;\n",
       "    }\n",
       "\n",
       "    .dataframe tbody tr th {\n",
       "        vertical-align: top;\n",
       "    }\n",
       "\n",
       "    .dataframe thead th {\n",
       "        text-align: right;\n",
       "    }\n",
       "</style>\n",
       "<table border=\"1\" class=\"dataframe\">\n",
       "  <thead>\n",
       "    <tr style=\"text-align: right;\">\n",
       "      <th></th>\n",
       "      <th>-2.372684329748153687e-02</th>\n",
       "    </tr>\n",
       "  </thead>\n",
       "  <tbody>\n",
       "    <tr>\n",
       "      <th>0</th>\n",
       "      <td>-0.021137</td>\n",
       "    </tr>\n",
       "    <tr>\n",
       "      <th>1</th>\n",
       "      <td>-0.018223</td>\n",
       "    </tr>\n",
       "    <tr>\n",
       "      <th>2</th>\n",
       "      <td>-0.015309</td>\n",
       "    </tr>\n",
       "    <tr>\n",
       "      <th>3</th>\n",
       "      <td>-0.013042</td>\n",
       "    </tr>\n",
       "    <tr>\n",
       "      <th>4</th>\n",
       "      <td>-0.011099</td>\n",
       "    </tr>\n",
       "    <tr>\n",
       "      <th>...</th>\n",
       "      <td>...</td>\n",
       "    </tr>\n",
       "    <tr>\n",
       "      <th>5049630</th>\n",
       "      <td>0.011241</td>\n",
       "    </tr>\n",
       "    <tr>\n",
       "      <th>5049631</th>\n",
       "      <td>0.009299</td>\n",
       "    </tr>\n",
       "    <tr>\n",
       "      <th>5049632</th>\n",
       "      <td>0.008975</td>\n",
       "    </tr>\n",
       "    <tr>\n",
       "      <th>5049633</th>\n",
       "      <td>0.008975</td>\n",
       "    </tr>\n",
       "    <tr>\n",
       "      <th>5049634</th>\n",
       "      <td>0.008651</td>\n",
       "    </tr>\n",
       "  </tbody>\n",
       "</table>\n",
       "<p>5049635 rows × 1 columns</p>\n",
       "</div>"
      ],
      "text/plain": [
       "         -2.372684329748153687e-02\n",
       "0                        -0.021137\n",
       "1                        -0.018223\n",
       "2                        -0.015309\n",
       "3                        -0.013042\n",
       "4                        -0.011099\n",
       "...                            ...\n",
       "5049630                   0.011241\n",
       "5049631                   0.009299\n",
       "5049632                   0.008975\n",
       "5049633                   0.008975\n",
       "5049634                   0.008651\n",
       "\n",
       "[5049635 rows x 1 columns]"
      ]
     },
     "execution_count": 8,
     "metadata": {},
     "output_type": "execute_result"
    }
   ],
   "source": []
  },
  {
   "cell_type": "code",
   "execution_count": 2,
   "metadata": {},
   "outputs": [],
   "source": [
    "import seaborn"
   ]
  },
  {
   "cell_type": "code",
   "execution_count": 4,
   "metadata": {},
   "outputs": [
    {
     "data": {
      "text/html": [
       "<div>\n",
       "<style scoped>\n",
       "    .dataframe tbody tr th:only-of-type {\n",
       "        vertical-align: middle;\n",
       "    }\n",
       "\n",
       "    .dataframe tbody tr th {\n",
       "        vertical-align: top;\n",
       "    }\n",
       "\n",
       "    .dataframe thead th {\n",
       "        text-align: right;\n",
       "    }\n",
       "</style>\n",
       "<table border=\"1\" class=\"dataframe\">\n",
       "  <thead>\n",
       "    <tr style=\"text-align: right;\">\n",
       "      <th></th>\n",
       "      <th>mpg</th>\n",
       "      <th>cylinders</th>\n",
       "      <th>displacement</th>\n",
       "      <th>horsepower</th>\n",
       "      <th>weight</th>\n",
       "      <th>acceleration</th>\n",
       "      <th>model_year</th>\n",
       "      <th>origin</th>\n",
       "      <th>name</th>\n",
       "    </tr>\n",
       "  </thead>\n",
       "  <tbody>\n",
       "    <tr>\n",
       "      <th>0</th>\n",
       "      <td>18.0</td>\n",
       "      <td>8</td>\n",
       "      <td>307.0</td>\n",
       "      <td>130.0</td>\n",
       "      <td>3504</td>\n",
       "      <td>12.0</td>\n",
       "      <td>70</td>\n",
       "      <td>usa</td>\n",
       "      <td>chevrolet chevelle malibu</td>\n",
       "    </tr>\n",
       "    <tr>\n",
       "      <th>1</th>\n",
       "      <td>15.0</td>\n",
       "      <td>8</td>\n",
       "      <td>350.0</td>\n",
       "      <td>165.0</td>\n",
       "      <td>3693</td>\n",
       "      <td>11.5</td>\n",
       "      <td>70</td>\n",
       "      <td>usa</td>\n",
       "      <td>buick skylark 320</td>\n",
       "    </tr>\n",
       "    <tr>\n",
       "      <th>2</th>\n",
       "      <td>18.0</td>\n",
       "      <td>8</td>\n",
       "      <td>318.0</td>\n",
       "      <td>150.0</td>\n",
       "      <td>3436</td>\n",
       "      <td>11.0</td>\n",
       "      <td>70</td>\n",
       "      <td>usa</td>\n",
       "      <td>plymouth satellite</td>\n",
       "    </tr>\n",
       "    <tr>\n",
       "      <th>3</th>\n",
       "      <td>16.0</td>\n",
       "      <td>8</td>\n",
       "      <td>304.0</td>\n",
       "      <td>150.0</td>\n",
       "      <td>3433</td>\n",
       "      <td>12.0</td>\n",
       "      <td>70</td>\n",
       "      <td>usa</td>\n",
       "      <td>amc rebel sst</td>\n",
       "    </tr>\n",
       "    <tr>\n",
       "      <th>4</th>\n",
       "      <td>17.0</td>\n",
       "      <td>8</td>\n",
       "      <td>302.0</td>\n",
       "      <td>140.0</td>\n",
       "      <td>3449</td>\n",
       "      <td>10.5</td>\n",
       "      <td>70</td>\n",
       "      <td>usa</td>\n",
       "      <td>ford torino</td>\n",
       "    </tr>\n",
       "    <tr>\n",
       "      <th>...</th>\n",
       "      <td>...</td>\n",
       "      <td>...</td>\n",
       "      <td>...</td>\n",
       "      <td>...</td>\n",
       "      <td>...</td>\n",
       "      <td>...</td>\n",
       "      <td>...</td>\n",
       "      <td>...</td>\n",
       "      <td>...</td>\n",
       "    </tr>\n",
       "    <tr>\n",
       "      <th>393</th>\n",
       "      <td>27.0</td>\n",
       "      <td>4</td>\n",
       "      <td>140.0</td>\n",
       "      <td>86.0</td>\n",
       "      <td>2790</td>\n",
       "      <td>15.6</td>\n",
       "      <td>82</td>\n",
       "      <td>usa</td>\n",
       "      <td>ford mustang gl</td>\n",
       "    </tr>\n",
       "    <tr>\n",
       "      <th>394</th>\n",
       "      <td>44.0</td>\n",
       "      <td>4</td>\n",
       "      <td>97.0</td>\n",
       "      <td>52.0</td>\n",
       "      <td>2130</td>\n",
       "      <td>24.6</td>\n",
       "      <td>82</td>\n",
       "      <td>europe</td>\n",
       "      <td>vw pickup</td>\n",
       "    </tr>\n",
       "    <tr>\n",
       "      <th>395</th>\n",
       "      <td>32.0</td>\n",
       "      <td>4</td>\n",
       "      <td>135.0</td>\n",
       "      <td>84.0</td>\n",
       "      <td>2295</td>\n",
       "      <td>11.6</td>\n",
       "      <td>82</td>\n",
       "      <td>usa</td>\n",
       "      <td>dodge rampage</td>\n",
       "    </tr>\n",
       "    <tr>\n",
       "      <th>396</th>\n",
       "      <td>28.0</td>\n",
       "      <td>4</td>\n",
       "      <td>120.0</td>\n",
       "      <td>79.0</td>\n",
       "      <td>2625</td>\n",
       "      <td>18.6</td>\n",
       "      <td>82</td>\n",
       "      <td>usa</td>\n",
       "      <td>ford ranger</td>\n",
       "    </tr>\n",
       "    <tr>\n",
       "      <th>397</th>\n",
       "      <td>31.0</td>\n",
       "      <td>4</td>\n",
       "      <td>119.0</td>\n",
       "      <td>82.0</td>\n",
       "      <td>2720</td>\n",
       "      <td>19.4</td>\n",
       "      <td>82</td>\n",
       "      <td>usa</td>\n",
       "      <td>chevy s-10</td>\n",
       "    </tr>\n",
       "  </tbody>\n",
       "</table>\n",
       "<p>398 rows × 9 columns</p>\n",
       "</div>"
      ],
      "text/plain": [
       "      mpg  cylinders  displacement  horsepower  weight  acceleration  \\\n",
       "0    18.0          8         307.0       130.0    3504          12.0   \n",
       "1    15.0          8         350.0       165.0    3693          11.5   \n",
       "2    18.0          8         318.0       150.0    3436          11.0   \n",
       "3    16.0          8         304.0       150.0    3433          12.0   \n",
       "4    17.0          8         302.0       140.0    3449          10.5   \n",
       "..    ...        ...           ...         ...     ...           ...   \n",
       "393  27.0          4         140.0        86.0    2790          15.6   \n",
       "394  44.0          4          97.0        52.0    2130          24.6   \n",
       "395  32.0          4         135.0        84.0    2295          11.6   \n",
       "396  28.0          4         120.0        79.0    2625          18.6   \n",
       "397  31.0          4         119.0        82.0    2720          19.4   \n",
       "\n",
       "     model_year  origin                       name  \n",
       "0            70     usa  chevrolet chevelle malibu  \n",
       "1            70     usa          buick skylark 320  \n",
       "2            70     usa         plymouth satellite  \n",
       "3            70     usa              amc rebel sst  \n",
       "4            70     usa                ford torino  \n",
       "..          ...     ...                        ...  \n",
       "393          82     usa            ford mustang gl  \n",
       "394          82  europe                  vw pickup  \n",
       "395          82     usa              dodge rampage  \n",
       "396          82     usa                ford ranger  \n",
       "397          82     usa                 chevy s-10  \n",
       "\n",
       "[398 rows x 9 columns]"
      ]
     },
     "execution_count": 4,
     "metadata": {},
     "output_type": "execute_result"
    }
   ],
   "source": [
    "seaborn.load_dataset(name='mpg')"
   ]
  },
  {
   "cell_type": "code",
   "execution_count": null,
   "metadata": {},
   "outputs": [],
   "source": []
  }
 ],
 "metadata": {
  "kernelspec": {
   "display_name": "Python 3",
   "language": "python",
   "name": "python3"
  },
  "language_info": {
   "codemirror_mode": {
    "name": "ipython",
    "version": 3
   },
   "file_extension": ".py",
   "mimetype": "text/x-python",
   "name": "python",
   "nbconvert_exporter": "python",
   "pygments_lexer": "ipython3",
   "version": "3.8.3"
  }
 },
 "nbformat": 4,
 "nbformat_minor": 4
}
