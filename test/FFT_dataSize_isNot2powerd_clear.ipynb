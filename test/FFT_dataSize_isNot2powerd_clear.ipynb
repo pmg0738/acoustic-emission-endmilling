{
 "cells": [
  {
   "cell_type": "code",
   "execution_count": 1,
   "metadata": {},
   "outputs": [],
   "source": [
    "from loadTDMS import *\n",
    "import numpy as np\n",
    "import matplotlib.pyplot as plt\n",
    "# from tqdm import tqdm\n",
    "# from fft_test import *\n",
    "# from fft_test_not2power import *"
   ]
  },
  {
   "cell_type": "code",
   "execution_count": 9,
   "metadata": {},
   "outputs": [
    {
     "name": "stdout",
     "output_type": "stream",
     "text": [
      "32768\n",
      "32768\n"
     ]
    },
    {
     "data": {
      "text/plain": [
       "[<matplotlib.lines.Line2D at 0x24ab8f41700>]"
      ]
     },
     "execution_count": 9,
     "metadata": {},
     "output_type": "execute_result"
    }
   ],
   "source": [
    "%matplotlib qt\n",
    "\n",
    "path = rf'Z:\\100 Raw_data\\20221027---切削実験\\AE\\Cutting\\AE_2.tdms'\n",
    "d = load_tdms(path, ch_num=3)\n",
    "d = d[0]\n",
    "d = d[:25000]\n",
    "x = np.concatenate([d,np.zeros(2**15 - 25000)])\n",
    "print(len(x))\n",
    "print(2**15)\n",
    "\n",
    "plt.plot(d)\n",
    "# plt.plot(x)"
   ]
  },
  {
   "cell_type": "code",
   "execution_count": 3,
   "metadata": {},
   "outputs": [],
   "source": [
    "def FFT_main(t, x, dt, split_t_r, overlap, window_F):\n",
    "#   FFT_main(t, d, dt, split_t_r, overlap, window_F)\n",
    "#       \n",
    "    \n",
    "    # データをオーバーラップして分割する。\n",
    "    split_data = data_split(t, x, split_t_r, overlap)\n",
    "\n",
    "    # FFTを行う。\b\n",
    "    FFT_result_list = []\n",
    "    for split_data_cont in split_data:\n",
    "        FFT_result_cont = FFT(split_data_cont, dt, window_F)\n",
    "        FFT_result_list.append(FFT_result_cont)\n",
    "\n",
    "    # 平均化\n",
    "    fq_ave = FFT_result_list[0][0]\n",
    "    F_abs_amp_ave = np.zeros(len(fq_ave))\n",
    "    for i in range(len(FFT_result_list)):\n",
    "        F_abs_amp_ave = F_abs_amp_ave + FFT_result_list[i][1]\n",
    "    F_abs_amp_ave = F_abs_amp_ave/(i+1)\n",
    "\n",
    "    return fq_ave, F_abs_amp_ave\n",
    "\n",
    "\n",
    "def FFT(data_input, dt, window_F):\n",
    "\n",
    "    N = len(data_input[0])\n",
    "    \n",
    "    # 窓の用意\n",
    "    if window_F == \"hanning\":\n",
    "        window = np.hanning(N)          # ハニング窓\n",
    "    elif window_F == \"hamming\":\n",
    "        window = np.hamming(N)          # ハミング窓\n",
    "    elif window_F == \"blackman\":\n",
    "        window = np.blackman(N)         # ブラックマン窓\n",
    "    else:\n",
    "        print(\"Error: input window function name is not sapported. Your input: \", window_F)\n",
    "        print(\"Hanning window function is used.\")\n",
    "        hanning = np.hanning(N)          # ハニング窓\n",
    "\n",
    "\n",
    "    # 窓関数後の信号\n",
    "    x_windowed = data_input[1]*window\n",
    "\n",
    "    # FFT計算\n",
    "    F = np.fft.fft(x_windowed)\n",
    "    F_abs = np.abs(F)\n",
    "    F_abs_amp = F_abs / N * 2\n",
    "    fq = np.linspace(0, 1.0/dt, N)\n",
    "#     fq = np.linspace(0, N*dt, N)\n",
    "\n",
    "    # 窓補正\n",
    "    acf = 1/(sum(window)/N)\n",
    "    F_abs_amp = acf*F_abs_amp\n",
    "\n",
    "    # ナイキスト定数まで抽出\n",
    "    fq_out = fq[:int(N/2)+1]\n",
    "    F_abs_amp_out = F_abs_amp[:int(N/2)+1]\n",
    "\n",
    "    return [fq_out, F_abs_amp_out]\n",
    "\n",
    "def data_split(t, x, split_t_r, overlap):\n",
    "\n",
    "    split_data = []\n",
    "    one_frame_N = int(len(t)*split_t_r)  # 1フレームのサンプル数\n",
    "    overlap_N = int(one_frame_N*overlap)  # オーバーラップするサンプル数\n",
    "    start_S = 0\n",
    "    end_S = start_S + one_frame_N\n",
    "\n",
    "    while True:\n",
    "        t_cont = t[start_S:end_S]\n",
    "        x_cont = x[start_S:end_S]\n",
    "        split_data.append([t_cont, x_cont])\n",
    "\n",
    "        start_S = start_S + (one_frame_N - overlap_N)\n",
    "        end_S = start_S + one_frame_N\n",
    "\n",
    "        if end_S > len(t):\n",
    "            break\n",
    "\n",
    "    return np.array(split_data)"
   ]
  },
  {
   "cell_type": "code",
   "execution_count": 5,
   "metadata": {},
   "outputs": [],
   "source": [
    "dt = 1/10**6\n",
    "split_t_r = 0.1 # 1つの枠で全体のどの割合のデータを分析するか。\n",
    "overlap = 0.5  # オーバーラップ率\n",
    "window_F = \"hamming\"  # 窓関数選択: hanning, hamming, blackman\n",
    "y_label = \"amplitude\"\n",
    "y_unit = \"V\"\n",
    "N_d = len(d)\n",
    "N_x = len(x)\n",
    "t_d = np.linspace(0, N_d*dt, N_d)  # 周波数軸　linspace(開始,終了,分割数)\n",
    "t_x = np.linspace(0, N_x*dt, N_x)\n",
    "\n",
    "fq_d, amp_d = FFT_main(t_d, d, dt, split_t_r, overlap, window_F)\n",
    "fq_x, amp_x = FFT_main(t_x, x, dt, split_t_r, overlap, window_F)"
   ]
  },
  {
   "cell_type": "code",
   "execution_count": 6,
   "metadata": {},
   "outputs": [
    {
     "name": "stdout",
     "output_type": "stream",
     "text": [
      "1251\n",
      "1639\n"
     ]
    }
   ],
   "source": [
    "print(len(amp_d))\n",
    "print(len(amp_x))"
   ]
  },
  {
   "cell_type": "code",
   "execution_count": 7,
   "metadata": {},
   "outputs": [],
   "source": [
    "fig = plt.figure()\n",
    "ax = fig.add_subplot(111)\n",
    "plt.xlabel('freqency[kHz]', fontsize=16)\n",
    "plt.ylabel(y_label+\"[dB]\", fontsize=16)\n",
    "ax.set_xlim(0, 500000)\n",
    "ax.set_xticklabels([0, 100, 200, 300, 400, 500])\n",
    "ax.set_ylim(-120, 0)\n",
    "ax.set_yticklabels([-120,-100, -80, -60, -40, -20,0])\n",
    "# plt.title(rf'{num}path')\n",
    "\n",
    "plt.plot(fq_d, 20 * np.log10(amp_d))\n",
    "plt.plot(fq_x, 20 * np.log10(amp_x))\n",
    "\n",
    "ax.grid()\n",
    "p = plt.tick_params(labelsize=16)\n",
    "plt.tight_layout()"
   ]
  },
  {
   "cell_type": "code",
   "execution_count": 8,
   "metadata": {},
   "outputs": [
    {
     "data": {
      "text/plain": [
       "<matplotlib.legend.Legend at 0x24ab5546220>"
      ]
     },
     "execution_count": 8,
     "metadata": {},
     "output_type": "execute_result"
    }
   ],
   "source": [
    "%matplotlib qt\n",
    "\n",
    "fig = plt.figure()\n",
    "ax = fig.add_subplot(111)\n",
    "plt.xlabel('freqency[kHz]', fontsize=16)\n",
    "plt.ylabel(y_label+\"[dB]\", fontsize=16)\n",
    "ax.set_xlim(0, 500000)\n",
    "ax.set_xticklabels([0, 100, 200, 300, 400, 500])\n",
    "ax.set_ylim(-120, 0)\n",
    "ax.set_yticklabels([-120,-100, -80, -60, -40, -20,0])\n",
    "# plt.title(rf'{num}path')\n",
    "\n",
    "plt.plot(fq_d, 20 * np.log10(amp_d), label=\"25000\")\n",
    "plt.plot(fq_x, 20 * np.log10(amp_x), label=\"zero padding\")\n",
    "\n",
    "ax.grid()\n",
    "p = plt.tick_params(labelsize=16)\n",
    "plt.tight_layout()\n",
    "plt.legend()"
   ]
  },
  {
   "cell_type": "code",
   "execution_count": null,
   "metadata": {},
   "outputs": [],
   "source": []
  }
 ],
 "metadata": {
  "kernelspec": {
   "display_name": "Python 3",
   "language": "python",
   "name": "python3"
  },
  "language_info": {
   "codemirror_mode": {
    "name": "ipython",
    "version": 3
   },
   "file_extension": ".py",
   "mimetype": "text/x-python",
   "name": "python",
   "nbconvert_exporter": "python",
   "pygments_lexer": "ipython3",
   "version": "3.8.3"
  }
 },
 "nbformat": 4,
 "nbformat_minor": 4
}
