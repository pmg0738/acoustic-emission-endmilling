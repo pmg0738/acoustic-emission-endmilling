{
 "cells": [
  {
   "cell_type": "markdown",
   "metadata": {},
   "source": [
    "# ----------------------------\n",
    "# import zone"
   ]
  },
  {
   "cell_type": "code",
   "execution_count": 9,
   "metadata": {},
   "outputs": [],
   "source": [
    "from loadTDMS import *\n",
    "from fft_test import *\n",
    "import numpy as np\n",
    "import pandas as pd\n",
    "# from dask import dataframe as dd\n",
    "import matplotlib.pyplot as plt\n",
    "import itertools\n",
    "import os\n",
    "from tqdm import tqdm"
   ]
  },
  {
   "cell_type": "markdown",
   "metadata": {},
   "source": [
    "# -----------------------------\n",
    "# 関数まとめzone"
   ]
  },
  {
   "cell_type": "markdown",
   "metadata": {},
   "source": [
    "## ①extract_16384\n",
    "### 生データ から2^14個取ってくる (中間データ①)"
   ]
  },
  {
   "cell_type": "code",
   "execution_count": 4,
   "metadata": {},
   "outputs": [],
   "source": [
    "# AE_{num}.tdms -> AE_extract_{num}.csv\n",
    "# 生データ から2^14個取ってくる\n",
    "\n",
    "def extract_16384(num):\n",
    "    load_path = rf\"Z:\\100 Raw_data\\20221027---切削実験\\AE\\Cutting\\AE_{num}.tdms\"\n",
    "    save_path = rf\"Z:\\200 Produced_data\\20221027\\extract\\AE_extract_{num}.csv\"\n",
    "    d = load_tdms(load_path, ch_num=3)\n",
    "    d = d[0][5000000:5000000+16384]\n",
    "    pd.DataFrame(d).to_csv(save_path)"
   ]
  },
  {
   "cell_type": "markdown",
   "metadata": {},
   "source": [
    "## ②FFT_withoutNorm\n",
    "### FFT(中間データ②)"
   ]
  },
  {
   "cell_type": "code",
   "execution_count": 11,
   "metadata": {},
   "outputs": [],
   "source": [
    "def FFT_withoutNorm(num):\n",
    "    \n",
    "    #データ読み込み\n",
    "    d = pd.read_csv(rf'Z:\\200 Produced_data\\20221027\\extract\\AE_extract_{num}.csv')\n",
    "    d = d['0']\n",
    "    \n",
    "    #FFT条件\n",
    "    dt = 1/10**6\n",
    "    split_t_r = 0.1 # 1つの枠で全体のどの割合のデータを分析するか。\n",
    "    overlap = 0.5  # オーバーラップ率\n",
    "    window_F = \"hamming\"  # 窓関数選択: hanning, hamming, blackman\n",
    "    y_label = \"amplitude\"\n",
    "    y_unit = \"V\"\n",
    "    N = len(d)\n",
    "    fq = np.linspace(0, N*dt, N)  # 周波数軸　linspace(開始,終了,分割数)\n",
    "    \n",
    "\n",
    "    #FFT実行\n",
    "    fq_, amp_ = FFT_main(fq, d, dt, split_t_r, overlap, window_F)\n",
    "\n",
    "    #fig保存ー正規化前\n",
    "    output_FN = fr\"Z:\\200 Produced_data\\20221027\\FFT\\fig\\FFT_{num}\"\n",
    "    plot_FFT(fq_, amp_, output_FN, y_label, y_unit,num)\n",
    "\n",
    "    #dBに変換してcsv保存ー正規化前\n",
    "    amp_db = pd.DataFrame({'db': 20*np.log10(amp_)})\n",
    "    output_csv = fr\"Z:\\200 Produced_data\\20221027\\FFT\\csv\\FFT_{num}.csv\"\n",
    "    amp_db.to_csv(output_csv, header=False, index=False)"
   ]
  },
  {
   "cell_type": "markdown",
   "metadata": {},
   "source": [
    "## ③正規化\n",
    "### FFTを正規化\n",
    "### 学習（trarin）データ作成（中間データ③）"
   ]
  },
  {
   "cell_type": "code",
   "execution_count": 49,
   "metadata": {},
   "outputs": [],
   "source": [
    "#学習データから最大最小を算出\n",
    "#今回は2022年6月の200path-300path\n",
    "def get_minmax(start,end):\n",
    "    all_data = []\n",
    "    for i in range(start,end+1):\n",
    "        d = pd.read_csv(rf\"Z:\\200 Produced_data\\20221027\\FFT\\csv\\FFT_{i}.csv\")\n",
    "        d = d.to_numpy()\n",
    "        d = np.ravel(d)\n",
    "        all_data.append(d[:])\n",
    "    all_data = np.array(all_data)\n",
    "    all_data = all_data.ravel()\n",
    "    min_d = all_data.min()\n",
    "    max_d = all_data.max()\n",
    "    return min_d, max_d\n",
    "\n",
    "#正規化_minmax\n",
    "def normalize_minmax(min_, max_, d):\n",
    "    min_max_d = (d - min_) / (max_ - min_)\n",
    "    return min_max_d    "
   ]
  },
  {
   "cell_type": "markdown",
   "metadata": {},
   "source": [
    "# ----------------------------------------\n",
    "# 実行zone"
   ]
  },
  {
   "cell_type": "markdown",
   "metadata": {},
   "source": [
    "## extract_16384, FFT_withoutNorm"
   ]
  },
  {
   "cell_type": "code",
   "execution_count": null,
   "metadata": {},
   "outputs": [],
   "source": [
    "%%time\n",
    "for i in tqdm(range(1,170)):\n",
    "    extract_16384(i)\n",
    "    \n",
    "%%time\n",
    "for i in tqdm(range(1,170)):\n",
    "    FFT_withoutNorm(i)"
   ]
  },
  {
   "cell_type": "markdown",
   "metadata": {},
   "source": [
    "## get_minmax\n",
    "RMSを見て、定常摩耗域を推定して、推定したpathの領域のminmaxを取る"
   ]
  },
  {
   "cell_type": "code",
   "execution_count": null,
   "metadata": {},
   "outputs": [],
   "source": [
    "min_, max_ = get_minmax(200,300)"
   ]
  },
  {
   "cell_type": "markdown",
   "metadata": {},
   "source": [
    "## normalize_minmax"
   ]
  },
  {
   "cell_type": "code",
   "execution_count": null,
   "metadata": {},
   "outputs": [],
   "source": [
    "%%time\n",
    "for i in tqdm(range(1,341)):\n",
    "    d = np.loadtxt(rf\"Z:\\200 Produced_data\\20221027\\FFT\\csv\\FFT_{i}.csv\", delimiter=',')  # 区切り文字としてカンマを指定\n",
    "    d_norm = normalize_minmax(min_,max_,d)\n",
    "    amp_db_norm = pd.DataFrame({'db': d_norm})\n",
    "    output_csv = rf\"Z:\\200 Produced_data\\20221027\\FFT_Norm\\csv\\FFT_Norm_{i}.csv\"\n",
    "    amp_db_norm.to_csv(output_csv, header=False, index=False)"
   ]
  },
  {
   "cell_type": "markdown",
   "metadata": {},
   "source": [
    "# -------------------------------------------------------------------------------------\n",
    "# --------------------------------------------------------------------------------------\n",
    "# 2021年11月"
   ]
  },
  {
   "cell_type": "markdown",
   "metadata": {},
   "source": [
    "# 検証データ(test data)作成"
   ]
  },
  {
   "cell_type": "markdown",
   "metadata": {},
   "source": [
    "# ①生データ から2^14個取ってくる\n",
    "## 中間データ①"
   ]
  },
  {
   "cell_type": "code",
   "execution_count": 63,
   "metadata": {},
   "outputs": [],
   "source": [
    "# AE_{num}.tdms -> AE_extract_{num}.csv\n",
    "# 生データ から2^14個取ってくる\n",
    "\n",
    "def extract_16384(num):\n",
    "    load_path = rf\"Z:\\100 実験データ（RAW）\\20211115---切削実験---AE+切削抵抗\\AE\\1-5000\\OnlyCuttingData\\AE_{num}.tdms\"\n",
    "    save_path = rf\"Z:\\200 実験データ加工\\20211115---切削実験---AE+切削抵抗\\TrainingData\\extract\\AE_extract_{num}.csv\"\n",
    "    d = load_tdms(load_path, ch_num=3)\n",
    "    d = d[0][5000000:5000000+16384]\n",
    "    pd.DataFrame(d).to_csv(save_path)"
   ]
  },
  {
   "cell_type": "code",
   "execution_count": 65,
   "metadata": {},
   "outputs": [
    {
     "name": "stdout",
     "output_type": "stream",
     "text": [
      "Wall time: 9min 41s\n"
     ]
    }
   ],
   "source": [
    "%%time\n",
    "for i in range(1,242):\n",
    "    extract_16384(i)"
   ]
  },
  {
   "cell_type": "markdown",
   "metadata": {},
   "source": [
    "# ②正規化する前のFFT\n",
    "## 中間データ②作成"
   ]
  },
  {
   "cell_type": "code",
   "execution_count": 66,
   "metadata": {},
   "outputs": [],
   "source": [
    "def FFT_withoutNorm(num):\n",
    "    \n",
    "    #データ読み込み\n",
    "    d = pd.read_csv(rf'Z:\\200 実験データ加工\\20211115---切削実験---AE+切削抵抗\\TrainingData\\extract\\AE_extract_{num}.csv')\n",
    "    d = d['0']\n",
    "    \n",
    "    #FFT条件\n",
    "    dt = 1/10**6\n",
    "    split_t_r = 0.1 # 1つの枠で全体のどの割合のデータを分析するか。\n",
    "    overlap = 0.5  # オーバーラップ率\n",
    "    window_F = \"hamming\"  # 窓関数選択: hanning, hamming, blackman\n",
    "    y_label = \"amplitude\"\n",
    "    y_unit = \"V\"\n",
    "    N = len(d)\n",
    "    fq = np.linspace(0, N*dt, N)  # 周波数軸　linspace(開始,終了,分割数)\n",
    "    \n",
    "\n",
    "    #FFT実行\n",
    "    fq_, amp_ = FFT_main(fq, d, dt, split_t_r, overlap, window_F)\n",
    "\n",
    "    #fig保存ー正規化前\n",
    "    output_FN = rf\"Z:\\200 実験データ加工\\20211115---切削実験---AE+切削抵抗\\TrainingData\\FFT\\fig\\FFT_{num}\"\n",
    "    plot_FFT(fq_, amp_, output_FN, y_label, y_unit,num)\n",
    "\n",
    "    #dBに変換してcsv保存ー正規化前\n",
    "    amp_db = pd.DataFrame({'db': 20*np.log10(amp_)})\n",
    "    output_csv = rf\"Z:\\200 実験データ加工\\20211115---切削実験---AE+切削抵抗\\TrainingData\\FFT\\csv\\FFT_{num}.csv\"\n",
    "    amp_db.to_csv(output_csv, header=False, index=False)"
   ]
  },
  {
   "cell_type": "code",
   "execution_count": 67,
   "metadata": {},
   "outputs": [
    {
     "name": "stdout",
     "output_type": "stream",
     "text": [
      "Wall time: 2min 6s\n"
     ]
    }
   ],
   "source": [
    "%%time\n",
    "for i in range(1,242):\n",
    "    FFT_withoutNorm(i)"
   ]
  },
  {
   "cell_type": "markdown",
   "metadata": {},
   "source": [
    "# FFT(正規化）\n",
    "## 検証（test）データ作成"
   ]
  },
  {
   "cell_type": "code",
   "execution_count": 68,
   "metadata": {},
   "outputs": [],
   "source": [
    "#学習データから最大最小を算出\n",
    "#今回は2022年6月の200path-300path\n",
    "def get_minmax(start,end):\n",
    "    all_data = []\n",
    "    for i in range(start,end+1):\n",
    "        d = pd.read_csv(rf\"Z:\\200 実験データ加工\\20220630\\TrainingData\\FFT\\csv\\FFT_{i}.csv\")\n",
    "        d = d.to_numpy()\n",
    "        d = np.ravel(d)\n",
    "        all_data.append(d[:])\n",
    "    all_data = np.array(all_data)\n",
    "    all_data = all_data.ravel()\n",
    "    min_d = all_data.min()\n",
    "    max_d = all_data.max()\n",
    "    return min_d, max_d\n",
    "\n",
    "#正規化_minmax\n",
    "def normalize_minmax(min_, max_, d):\n",
    "    min_max_d = (d - min_) / (max_ - min_)\n",
    "    return min_max_d"
   ]
  },
  {
   "cell_type": "code",
   "execution_count": 69,
   "metadata": {},
   "outputs": [],
   "source": [
    "min_, max_ = get_minmax(200,300)"
   ]
  },
  {
   "cell_type": "code",
   "execution_count": 70,
   "metadata": {},
   "outputs": [
    {
     "name": "stdout",
     "output_type": "stream",
     "text": [
      "Wall time: 6.42 s\n"
     ]
    }
   ],
   "source": [
    "%%time\n",
    "for i in range(1,242):\n",
    "    d = np.loadtxt(rf\"Z:\\200 実験データ加工\\20211115---切削実験---AE+切削抵抗\\TrainingData\\FFT\\csv\\FFT_{i}.csv\", delimiter=',')  # 区切り文字としてカンマを指定\n",
    "    d_norm = normalize_minmax(min_,max_,d)\n",
    "    amp_db_norm = pd.DataFrame({'db': d_norm})\n",
    "    output_csv = rf\"Z:\\200 実験データ加工\\20211115---切削実験---AE+切削抵抗\\TrainingData\\FFT_Norm\\csv\\FFT_Norm_{i}.csv\"\n",
    "    amp_db_norm.to_csv(output_csv, header=False, index=False)"
   ]
  },
  {
   "cell_type": "code",
   "execution_count": null,
   "metadata": {},
   "outputs": [],
   "source": []
  }
 ],
 "metadata": {
  "kernelspec": {
   "display_name": "Python 3",
   "language": "python",
   "name": "python3"
  },
  "language_info": {
   "codemirror_mode": {
    "name": "ipython",
    "version": 3
   },
   "file_extension": ".py",
   "mimetype": "text/x-python",
   "name": "python",
   "nbconvert_exporter": "python",
   "pygments_lexer": "ipython3",
   "version": "3.8.3"
  }
 },
 "nbformat": 4,
 "nbformat_minor": 4
}
