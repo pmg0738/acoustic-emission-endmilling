{
 "cells": [
  {
   "cell_type": "code",
   "execution_count": 2,
   "metadata": {},
   "outputs": [],
   "source": [
    "from moviepy.editor import *\n",
    "from pathlib import Path"
   ]
  },
  {
   "cell_type": "code",
   "execution_count": 15,
   "metadata": {},
   "outputs": [
    {
     "name": "stderr",
     "output_type": "stream",
     "text": [
      "t:  43%|████▎     | 3496/8112 [16:17<02:22, 32.29it/s, now=None]\n",
      "t:   0%|          | 0/41 [00:00<?, ?it/s, now=None]\u001b[A"
     ]
    },
    {
     "name": "stdout",
     "output_type": "stream",
     "text": [
      "Moviepy - Building video Z:\\200 Produced_data\\20221027\\CF\\menseki\\fig\\output_video0.01.mp4.\n",
      "Moviepy - Writing video Z:\\200 Produced_data\\20221027\\CF\\menseki\\fig\\output_video0.01.mp4\n",
      "\n"
     ]
    },
    {
     "name": "stderr",
     "output_type": "stream",
     "text": [
      "\n",
      "t:   7%|▋         | 3/41 [00:00<00:05,  7.45it/s, now=None]\u001b[A\n",
      "t:  15%|█▍        | 6/41 [00:00<00:03,  9.53it/s, now=None]\u001b[A\n",
      "t:  22%|██▏       | 9/41 [00:00<00:02, 11.97it/s, now=None]\u001b[A\n",
      "t:  29%|██▉       | 12/41 [00:00<00:01, 14.59it/s, now=None]\u001b[A\n",
      "t:  37%|███▋      | 15/41 [00:00<00:01, 16.72it/s, now=None]\u001b[A\n",
      "t:  44%|████▍     | 18/41 [00:00<00:01, 18.78it/s, now=None]\u001b[A\n",
      "t:  51%|█████     | 21/41 [00:01<00:01, 19.88it/s, now=None]\u001b[A\n",
      "t:  59%|█████▊    | 24/41 [00:01<00:00, 21.58it/s, now=None]\u001b[A\n",
      "t:  66%|██████▌   | 27/41 [00:01<00:00, 22.50it/s, now=None]\u001b[A\n",
      "t:  73%|███████▎  | 30/41 [00:01<00:00, 24.09it/s, now=None]\u001b[A\n",
      "t:  80%|████████  | 33/41 [00:01<00:00, 23.44it/s, now=None]\u001b[A\n",
      "t:  88%|████████▊ | 36/41 [00:01<00:00, 22.50it/s, now=None]\u001b[A\n",
      "t:  95%|█████████▌| 39/41 [00:01<00:00, 23.98it/s, now=None]\u001b[A\n",
      "t:  43%|████▎     | 3496/8112 [16:19<02:22, 32.29it/s, now=None]"
     ]
    },
    {
     "name": "stdout",
     "output_type": "stream",
     "text": [
      "Moviepy - Done !\n",
      "Moviepy - video ready Z:\\200 Produced_data\\20221027\\CF\\menseki\\fig\\output_video0.01.mp4\n"
     ]
    }
   ],
   "source": [
    "img_clips = []\n",
    "path_list=[]\n",
    "#accessing path of each image\n",
    "for num in range(1,170):\n",
    "    path_list.append(rf'Z:\\200 Produced_data\\20221027\\CF\\menseki\\fig\\{num}.png')\n",
    "\n",
    "\n",
    "#creating slide for each image\n",
    "for img_path in path_list:\n",
    "#     print(img_path)\n",
    "    slide = ImageClip(img_path,duration=0.01)\n",
    "    img_clips.append(slide)\n",
    "#concatenating slides\n",
    "video_slides = concatenate_videoclips(img_clips, method='compose')\n",
    "#exporting final video\n",
    "video_slides.write_videofile(rf\"Z:\\200 Produced_data\\20221027\\CF\\menseki\\fig\\output_video0.01.mp4\", fps=24)"
   ]
  },
  {
   "cell_type": "code",
   "execution_count": null,
   "metadata": {},
   "outputs": [],
   "source": []
  }
 ],
 "metadata": {
  "kernelspec": {
   "display_name": "Python 3",
   "language": "python",
   "name": "python3"
  }
 },
 "nbformat": 4,
 "nbformat_minor": 4
}
