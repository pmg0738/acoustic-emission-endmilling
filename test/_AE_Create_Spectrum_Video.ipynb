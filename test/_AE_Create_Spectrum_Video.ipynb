{
 "cells": [
  {
   "cell_type": "code",
   "execution_count": 1,
   "metadata": {},
   "outputs": [],
   "source": [
    "from moviepy.editor import *\n",
    "from pathlib import Path"
   ]
  },
  {
   "cell_type": "code",
   "execution_count": 3,
   "metadata": {},
   "outputs": [
    {
     "name": "stderr",
     "output_type": "stream",
     "text": [
      "\r",
      "t:   0%|          | 0/137 [00:00<?, ?it/s, now=None]"
     ]
    },
    {
     "name": "stdout",
     "output_type": "stream",
     "text": [
      "Moviepy - Building video C:\\Users\\pmg07\\Desktop\\久留米学会\\fig\\output_video0.3.mp4.\n",
      "Moviepy - Writing video C:\\Users\\pmg07\\Desktop\\久留米学会\\fig\\output_video0.3.mp4\n",
      "\n"
     ]
    },
    {
     "name": "stderr",
     "output_type": "stream",
     "text": [
      "                                                              \r"
     ]
    },
    {
     "name": "stdout",
     "output_type": "stream",
     "text": [
      "Moviepy - Done !\n",
      "Moviepy - video ready C:\\Users\\pmg07\\Desktop\\久留米学会\\fig\\output_video0.3.mp4\n"
     ]
    }
   ],
   "source": [
    "img_clips = []\n",
    "path_list=[]\n",
    "#accessing path of each image\n",
    "for num in range(1,20):\n",
    "    path_list.append(rf'C:\\Users\\pmg07\\Desktop\\久留米学会\\fig\\{num}.png')\n",
    "\n",
    "#creating slide for each image\n",
    "for img_path in path_list:\n",
    "#     print(img_path)\n",
    "    slide = ImageClip(img_path,duration=0.3)\n",
    "    img_clips.append(slide)\n",
    "#concatenating slides\n",
    "video_slides = concatenate_videoclips(img_clips, method='compose')\n",
    "#exporting final video\n",
    "video_slides.write_videofile(rf\"C:\\Users\\pmg07\\Desktop\\久留米学会\\fig\\output_video0.3.mp4\", fps=24)"
   ]
  },
  {
   "cell_type": "code",
   "execution_count": 6,
   "metadata": {},
   "outputs": [
    {
     "name": "stderr",
     "output_type": "stream",
     "text": [
      "t:   0%|          | 2/404 [00:00<00:21, 18.36it/s, now=None]"
     ]
    },
    {
     "name": "stdout",
     "output_type": "stream",
     "text": [
      "Moviepy - Building video C:\\Users\\pmg07\\M2\\acoustic-emission-endmilling\\test\\fig\\a\\output_video0.1.mp4.\n",
      "Moviepy - Writing video C:\\Users\\pmg07\\M2\\acoustic-emission-endmilling\\test\\fig\\a\\output_video0.1.mp4\n",
      "\n"
     ]
    },
    {
     "name": "stderr",
     "output_type": "stream",
     "text": [
      "                                                              "
     ]
    },
    {
     "name": "stdout",
     "output_type": "stream",
     "text": [
      "Moviepy - Done !\n",
      "Moviepy - video ready C:\\Users\\pmg07\\M2\\acoustic-emission-endmilling\\test\\fig\\a\\output_video0.1.mp4\n"
     ]
    },
    {
     "name": "stderr",
     "output_type": "stream",
     "text": [
      "\r"
     ]
    }
   ],
   "source": [
    "img_clips = []\n",
    "path_list=[]\n",
    "#accessing path of each image\n",
    "for num in range(1,169):\n",
    "    path_list.append(rf'C:\\Users\\pmg07\\M2\\acoustic-emission-endmilling\\test\\fig\\a\\{num}.png')\n",
    "\n",
    "#creating slide for each image\n",
    "for img_path in path_list:\n",
    "#     print(img_path)\n",
    "    slide = ImageClip(img_path,duration=0.1)\n",
    "    img_clips.append(slide)\n",
    "#concatenating slides\n",
    "video_slides = concatenate_videoclips(img_clips, method='compose')\n",
    "#exporting final video\n",
    "video_slides.write_videofile(rf\"C:\\Users\\pmg07\\M2\\acoustic-emission-endmilling\\test\\fig\\a\\output_video0.1.mp4\", fps=24)"
   ]
  },
  {
   "cell_type": "code",
   "execution_count": null,
   "metadata": {},
   "outputs": [],
   "source": []
  }
 ],
 "metadata": {
  "kernelspec": {
   "display_name": "Python 3",
   "language": "python",
   "name": "python3"
  },
  "language_info": {
   "codemirror_mode": {
    "name": "ipython",
    "version": 3
   },
   "file_extension": ".py",
   "mimetype": "text/x-python",
   "name": "python",
   "nbconvert_exporter": "python",
   "pygments_lexer": "ipython3",
   "version": "3.8.3"
  }
 },
 "nbformat": 4,
 "nbformat_minor": 4
}
