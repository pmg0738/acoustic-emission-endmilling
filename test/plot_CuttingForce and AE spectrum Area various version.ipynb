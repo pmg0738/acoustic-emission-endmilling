{
 "cells": [
  {
   "cell_type": "code",
   "execution_count": 1,
   "metadata": {},
   "outputs": [],
   "source": [
    "import numpy as np\n",
    "import pandas as pd\n",
    "import matplotlib.pyplot as plt\n",
    "from loadTDMS import *\n",
    "from tqdm import tqdm"
   ]
  },
  {
   "cell_type": "code",
   "execution_count": 5,
   "metadata": {},
   "outputs": [],
   "source": [
    "# 1回転ごとの切削抵抗の最大値\n",
    "cf_all = np.load(rf\"Z:\\200 Produced_data\\20221027\\CF\\recalculate\\max1_rotation\\All.npy\")"
   ]
  },
  {
   "cell_type": "code",
   "execution_count": 6,
   "metadata": {
    "scrolled": true
   },
   "outputs": [
    {
     "data": {
      "text/plain": [
       "(99408,)"
      ]
     },
     "execution_count": 6,
     "metadata": {},
     "output_type": "execute_result"
    }
   ],
   "source": [
    "cf_all.shape"
   ]
  },
  {
   "cell_type": "markdown",
   "metadata": {},
   "source": [
    "## 切削抵抗の全体像↓ぐちゃぐちゃ"
   ]
  },
  {
   "cell_type": "code",
   "execution_count": 7,
   "metadata": {},
   "outputs": [
    {
     "data": {
      "text/plain": [
       "[<matplotlib.lines.Line2D at 0x25decfdd520>]"
      ]
     },
     "execution_count": 7,
     "metadata": {},
     "output_type": "execute_result"
    }
   ],
   "source": [
    "%matplotlib qt\n",
    "plt.figure()\n",
    "plt.plot(cf_all)"
   ]
  },
  {
   "cell_type": "markdown",
   "metadata": {},
   "source": [
    "## 切削抵抗の全体像と移動平均"
   ]
  },
  {
   "cell_type": "code",
   "execution_count": 8,
   "metadata": {},
   "outputs": [
    {
     "data": {
      "text/plain": [
       "[<matplotlib.lines.Line2D at 0x25df238a6a0>]"
      ]
     },
     "execution_count": 8,
     "metadata": {},
     "output_type": "execute_result"
    }
   ],
   "source": [
    "%matplotlib qt\n",
    "fig = plt.figure()\n",
    "\n",
    "ax = fig.add_subplot()\n",
    "ax.set_xticks(np.arange(1, 169*591, 591*10))\n",
    "ax.set_xticklabels(np.arange(0,170,10))\n",
    "\n",
    "ax.tick_params(axis = 'x', labelsize = 18)\n",
    "ax.tick_params(axis = 'y', labelsize = 18)\n",
    "\n",
    "ax.set_xlabel(xlabel='Path Number', size=20, labelpad=20)\n",
    "ax.set_ylabel(ylabel='Cutting Force[N]', size=20, labelpad=20)\n",
    "\n",
    "\n",
    "w_size = 592*1\n",
    "v = np.ones(w_size) / w_size\n",
    "\n",
    "\n",
    "#vを正規分布にする\n",
    "# x = np.linspace(0, 1, w_size)  # 区間[-10,10]を100等分する101点\n",
    "# v = np.exp(-x**2 / 2) / np.sqrt(2 * np.pi)\n",
    "# v = np.sort(v)[::-1] / w_size\n",
    "\n",
    "\n",
    "cf_moving_avg = np.convolve(cf_all,v, mode='valid')\n",
    "# ax.plot(cf_all, lineWidth=\"2\")\n",
    "ax.plot(cf_moving_avg, lineWidth=\"5\", label=\"Cutting Force\")"
   ]
  },
  {
   "cell_type": "code",
   "execution_count": 9,
   "metadata": {},
   "outputs": [],
   "source": [
    "w_size = 591*10\n",
    "v = np.ones(w_size) / w_size\n",
    "\n",
    "\n",
    "#vを正規分布にする\n",
    "x = np.linspace(-1, 1, w_size)  # 区間[-10,10]を100等分する101点\n",
    "v = np.exp(-x**2 / 2) / np.sqrt(2 * np.pi)"
   ]
  },
  {
   "cell_type": "code",
   "execution_count": 14,
   "metadata": {},
   "outputs": [
    {
     "data": {
      "text/plain": [
       "[<matplotlib.lines.Line2D at 0x1694ba176d0>]"
      ]
     },
     "execution_count": 14,
     "metadata": {},
     "output_type": "execute_result"
    }
   ],
   "source": [
    "plt.plot(np.sort(v)[::-1])"
   ]
  },
  {
   "cell_type": "code",
   "execution_count": 27,
   "metadata": {},
   "outputs": [
    {
     "data": {
      "text/plain": [
       "array([3.        , 4.        , 4.        , 3.33333333, 3.        ])"
      ]
     },
     "execution_count": 27,
     "metadata": {},
     "output_type": "execute_result"
    }
   ],
   "source": [
    " n = 3\n",
    "    \n",
    "# 配列生成\n",
    "data = np.array([ 1,  2,  6,  4,  2,  4,  3])\n",
    "\n",
    "# コンボリューション積分で移動平均の計算\n",
    "ave = np.convolve(data, np.ones(n)/float(n), 'valid')\n",
    "\n",
    "ave"
   ]
  },
  {
   "cell_type": "code",
   "execution_count": null,
   "metadata": {},
   "outputs": [],
   "source": []
  }
 ],
 "metadata": {
  "kernelspec": {
   "display_name": "Python 3",
   "language": "python",
   "name": "python3"
  },
  "language_info": {
   "codemirror_mode": {
    "name": "ipython",
    "version": 3
   },
   "file_extension": ".py",
   "mimetype": "text/x-python",
   "name": "python",
   "nbconvert_exporter": "python",
   "pygments_lexer": "ipython3",
   "version": "3.8.3"
  }
 },
 "nbformat": 4,
 "nbformat_minor": 4
}
