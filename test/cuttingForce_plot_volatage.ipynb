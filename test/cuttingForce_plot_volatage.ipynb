{
 "cells": [
  {
   "cell_type": "code",
   "execution_count": 1,
   "metadata": {},
   "outputs": [],
   "source": [
    "import numpy as np\n",
    "import pandas as pd\n",
    "import matplotlib.pyplot as plt\n",
    "from loadTDMS import *\n",
    "from tqdm import tqdm"
   ]
  },
  {
   "cell_type": "code",
   "execution_count": 122,
   "metadata": {},
   "outputs": [],
   "source": [
    "date = 20221027\n",
    "num = 4\n",
    "# path = rf\"Z:\\100 Raw_data\\{date}---切削実験\\Dynamometer\\Cutting\\Dynamo_{num}.tdms\"\n",
    "path = rf\"Z:\\100 Raw_data\\{date}---切削実験\\Dynamometer\\Cutting\\Dynamo_{num}.tdms\"\n",
    "c_d = load_tdms(path, ch_num=3)"
   ]
  },
  {
   "cell_type": "code",
   "execution_count": 123,
   "metadata": {},
   "outputs": [
    {
     "data": {
      "text/plain": [
       "[<matplotlib.lines.Line2D at 0x234b2e18bb0>]"
      ]
     },
     "execution_count": 123,
     "metadata": {},
     "output_type": "execute_result"
    }
   ],
   "source": [
    "%matplotlib qt\n",
    "plt.figure()\n",
    "plt.plot(c_d[1])"
   ]
  },
  {
   "cell_type": "code",
   "execution_count": 124,
   "metadata": {},
   "outputs": [
    {
     "data": {
      "text/plain": [
       "5242457"
      ]
     },
     "execution_count": 124,
     "metadata": {},
     "output_type": "execute_result"
    }
   ],
   "source": [
    "len(c_d[0])"
   ]
  },
  {
   "cell_type": "code",
   "execution_count": 23,
   "metadata": {
    "scrolled": true
   },
   "outputs": [
    {
     "data": {
      "text/plain": [
       "0.7961518"
      ]
     },
     "execution_count": 23,
     "metadata": {},
     "output_type": "execute_result"
    }
   ],
   "source": [
    "a = np.array(c_d[1])\n",
    "np.average(a)"
   ]
  },
  {
   "cell_type": "markdown",
   "metadata": {},
   "source": [
    "### Non-Cuttingの平均電圧調べ"
   ]
  },
  {
   "cell_type": "code",
   "execution_count": 2,
   "metadata": {},
   "outputs": [],
   "source": [
    "def get_average(num, non_cutting_avg):\n",
    "    date = 20221027\n",
    "    path = rf\"Z:\\100 Raw_data\\{date}---切削実験\\Dynamometer\\Non-Cutting\\Dynamo_{num}.tdms\"\n",
    "    c_d = load_tdms(path, ch_num=3)\n",
    "    a = np.array(c_d[1])\n",
    "    non_cutting_avg.append(np.average(a))"
   ]
  },
  {
   "cell_type": "code",
   "execution_count": 3,
   "metadata": {},
   "outputs": [
    {
     "name": "stderr",
     "output_type": "stream",
     "text": [
      "100%|██████████| 169/169 [00:34<00:00,  4.93it/s]\n"
     ]
    }
   ],
   "source": [
    "non_cutting_avg = []\n",
    "for i in tqdm(range(1,170)):\n",
    "    get_average(i, non_cutting_avg)"
   ]
  },
  {
   "cell_type": "code",
   "execution_count": 6,
   "metadata": {},
   "outputs": [
    {
     "data": {
      "text/plain": [
       "list"
      ]
     },
     "execution_count": 6,
     "metadata": {},
     "output_type": "execute_result"
    }
   ],
   "source": [
    "non_cutting_avg"
   ]
  },
  {
   "cell_type": "code",
   "execution_count": null,
   "metadata": {},
   "outputs": [],
   "source": []
  },
  {
   "cell_type": "code",
   "execution_count": 18,
   "metadata": {},
   "outputs": [],
   "source": [
    "# dict1 = dict(voltage = non_cutting_avg[:])\n",
    "df = pd.DataFrame(non_cutting_avg, columns=[\"voltage_avg\"])\n",
    "df.index = df.index + 1\n",
    "df.to_csv(rf'Z:\\200 Produced_data\\20221027\\CF\\non-cuting-volatage-avg.csv')"
   ]
  },
  {
   "cell_type": "code",
   "execution_count": 3,
   "metadata": {},
   "outputs": [],
   "source": [
    "a = pd.read_csv(rf'Z:\\200 Produced_data\\20221027\\CF\\non-cuting-volatage-avg.csv')"
   ]
  },
  {
   "cell_type": "code",
   "execution_count": 4,
   "metadata": {},
   "outputs": [
    {
     "data": {
      "text/plain": [
       "count    169.000000\n",
       "mean       0.752490\n",
       "std        0.022281\n",
       "min        0.723667\n",
       "25%        0.732379\n",
       "50%        0.747739\n",
       "75%        0.770774\n",
       "max        0.798063\n",
       "Name: voltage_avg, dtype: float64"
      ]
     },
     "execution_count": 4,
     "metadata": {},
     "output_type": "execute_result"
    }
   ],
   "source": [
    "a['voltage_avg'].describe()"
   ]
  },
  {
   "cell_type": "code",
   "execution_count": 5,
   "metadata": {
    "scrolled": true
   },
   "outputs": [
    {
     "data": {
      "text/plain": [
       "[<matplotlib.lines.Line2D at 0x248d15d86d0>]"
      ]
     },
     "execution_count": 5,
     "metadata": {},
     "output_type": "execute_result"
    }
   ],
   "source": [
    "%matplotlib qt\n",
    "fig = plt.figure()\n",
    "ax = fig.add_subplot(xlim=(1,169))\n",
    "ax.set_xlabel(xlabel='Path Number', size=20, labelpad=20)\n",
    "ax.set_ylabel(ylabel='Average Voltage[V]', size=20, labelpad=20)\n",
    "ax.tick_params(axis = 'x', labelsize =18)\n",
    "ax.tick_params(axis = 'y', labelsize =18)\n",
    "plt.plot(range(1,170),a['voltage_avg'], linewidth = 3)"
   ]
  },
  {
   "cell_type": "markdown",
   "metadata": {},
   "source": [
    "### ドリフト考慮なし"
   ]
  },
  {
   "cell_type": "code",
   "execution_count": null,
   "metadata": {},
   "outputs": [],
   "source": [
    "def get_max10_min10_avg(num):\n",
    "    date = 20221027\n",
    "    path = rf\"Z:\\100 Raw_data\\{date}---切削実験\\Dynamometer\\Cutting\\Dynamo_{num}.tdms\"\n",
    "    c_d = load_tdms(path, ch_num=3)\n",
    "    \n",
    "    a = np.array(c_d[1][:4930000])\n",
    "    \n",
    "    \n",
    "    cutting_max.append(sorted(a)[-10:])\n",
    "    cutting_min.append(sorted(a)[:10])\n",
    "    cutting_avg.append(np.average(a))"
   ]
  },
  {
   "cell_type": "markdown",
   "metadata": {},
   "source": [
    "### ドリフト考慮あり"
   ]
  },
  {
   "cell_type": "code",
   "execution_count": 18,
   "metadata": {},
   "outputs": [
    {
     "data": {
      "text/plain": [
       "[[2, -1000], [3, -30], [5, 1]]"
      ]
     },
     "execution_count": 18,
     "metadata": {},
     "output_type": "execute_result"
    }
   ],
   "source": [
    "myList = [200,40,-1000,-30,555555,1]\n",
    "\n",
    "# hehe = sorted(enumerate(myList))\n",
    "# hehe\n",
    "list(map(list, sorted(enumerate(myList), key=lambda x: x[1])))[:3]\n"
   ]
  },
  {
   "cell_type": "code",
   "execution_count": 59,
   "metadata": {},
   "outputs": [
    {
     "name": "stdout",
     "output_type": "stream",
     "text": [
      "[0 2 1]\n",
      "[2 0 1]\n",
      "[2 3 5]\n"
     ]
    }
   ],
   "source": [
    "a = [3,100,23]\n",
    "#小さい順（昇順）\n",
    "print(np.argsort(a))\n",
    "#大きい順（降順）\n",
    "print(np.argsort(a[::-1]))\n",
    "\n",
    "#小さい順で３つ、そのインデクスを取得\n",
    "b = [200,40,-1000,-30,555555,1]\n",
    "print(np.argsort(b)[:3])"
   ]
  },
  {
   "cell_type": "code",
   "execution_count": 18,
   "metadata": {},
   "outputs": [],
   "source": [
    "def get_max10_min10_avg(num):\n",
    "    date = 20221027\n",
    "    path = rf\"Z:\\100 Raw_data\\{date}---切削実験\\Dynamometer\\Cutting\\Dynamo_{num}.tdms\"\n",
    "    nc_path = rf\"Z:\\100 Raw_data\\{date}---切削実験\\Dynamometer\\Non-Cutting\\Dynamo_{num}.tdms\"\n",
    "    c_d = load_tdms(path, ch_num=3)\n",
    "    nc_d = load_tdms(nc_path, ch_num=3)\n",
    "    \n",
    "    cd = np.array(c_d[1][:4930000])\n",
    "    ncd = np.array(c_d[1][:4930000])\n",
    "\n",
    "    cutting_min_v = list(map(list, sorted(enumerate(cd), key=lambda x: x[1])))[:100]    \n",
    "    cutting_min_v.sort()\n",
    "    \n",
    "    c_min_v = np.array(cutting_min_v).T\n",
    "#     c_min_v[0] = c_min_v[0] / len(cd) * 0.049 + (num-1) * 0.049\n",
    "\n",
    "    c_min_cf = np.array(cutting_min_v).T\n",
    "    c_min_cf[0] = c_min_cf[0] / len(cd) * 0.049 + (num-1) * 0.049\n",
    "    c_min_cf[1] = c_min_cf[1] -np.average(ncd) * (-500)\n",
    "    \n",
    "    \n",
    "    \n",
    "    return c_min_v, c_min_cf"
   ]
  },
  {
   "cell_type": "code",
   "execution_count": 23,
   "metadata": {
    "scrolled": true
   },
   "outputs": [
    {
     "name": "stderr",
     "output_type": "stream",
     "text": [
      "100%|██████████| 168/168 [39:00<00:00, 13.93s/it]\n"
     ]
    }
   ],
   "source": [
    "c_min_v, c_min_cf = get_max10_min10_avg(1)\n",
    "dict1 = dict(d = c_min_cf[0], v = c_min_v[1], cf = c_min_cf[1])\n",
    "df1 = pd.DataFrame(data=dict1)\n",
    "\n",
    "\n",
    "for i in tqdm(range(2,170)):\n",
    "    c_min_v, c_min_cf = get_max10_min10_avg(i)\n",
    "    dict1 = dict(d = c_min_cf[0], v = c_min_v[1], cf = c_min_cf[1])\n",
    "    df2 = pd.DataFrame(data=dict1)\n",
    "    df1 = pd.concat([df1,df2], ignore_index=True)\n",
    "\n",
    "df1.index = df1.index + 1\n",
    "df1.to_csv(rf'Z:\\200 Produced_data\\20221027\\CF\\cf_100points_in_1path.csv')"
   ]
  },
  {
   "cell_type": "code",
   "execution_count": 143,
   "metadata": {
    "scrolled": true
   },
   "outputs": [
    {
     "data": {
      "text/plain": [
       "{'d': array([0.16547419, 0.1654742 , 0.16547421, 0.16547422, 0.16547423,\n",
       "        0.16547424, 0.16547425, 0.16547426, 0.16547427, 0.16547428,\n",
       "        0.16547429, 0.1654743 , 0.16547431, 0.16547432, 0.16547433,\n",
       "        0.16547434, 0.16547435, 0.16547436, 0.16547437, 0.16547438,\n",
       "        0.16547439, 0.1654744 , 0.16547441, 0.16547442, 0.16547443,\n",
       "        0.16547444, 0.16547445, 0.16547446, 0.16547447, 0.16547448,\n",
       "        0.16547449, 0.1654745 , 0.16547451, 0.16992317, 0.16992318,\n",
       "        0.16992319, 0.16992322, 0.16992323, 0.16992324, 0.16992325,\n",
       "        0.16992326, 0.16992327, 0.16992328, 0.16992329, 0.1699233 ,\n",
       "        0.16992331, 0.16992332, 0.16992333, 0.16992334, 0.16992335,\n",
       "        0.16992336, 0.16992337, 0.16992338, 0.16992339, 0.1699234 ,\n",
       "        0.16992341, 0.16992342, 0.16992343, 0.16992344, 0.16992345,\n",
       "        0.16992346, 0.16992347, 0.16992348, 0.16992349, 0.1699235 ,\n",
       "        0.16992351, 0.16992352, 0.16992353, 0.16992354, 0.16992355,\n",
       "        0.16992356, 0.16992357, 0.16992358, 0.16992359, 0.1699236 ,\n",
       "        0.16992361, 0.16992362, 0.17518142, 0.17518143, 0.17518144,\n",
       "        0.17518145, 0.17518146, 0.17518147, 0.17518148, 0.17518149,\n",
       "        0.1751815 , 0.17518151, 0.17518152, 0.17518153, 0.17518154,\n",
       "        0.17518155, 0.17518156, 0.17518157, 0.17518158, 0.17518159,\n",
       "        0.1751816 , 0.17518161, 0.17518162, 0.17518163, 0.17518164]),\n",
       " 'v': array([-0.23409271, -0.23441696, -0.23603439, -0.23700523, -0.23765182,\n",
       "        -0.23862267, -0.23894501, -0.23991585, -0.24088669, -0.24121094,\n",
       "        -0.24217987, -0.24250412, -0.24282837, -0.2437973 , -0.2437973 ,\n",
       "        -0.24315071, -0.24315071, -0.24315071, -0.24282837, -0.24250412,\n",
       "        -0.24217987, -0.24185753, -0.24153328, -0.24153328, -0.24185753,\n",
       "        -0.24153328, -0.24088669, -0.2402401 , -0.23894501, -0.23797607,\n",
       "        -0.23700523, -0.23571014, -0.23506355, -0.23409271, -0.23409271,\n",
       "        -0.23409271, -0.23409271, -0.23603439, -0.23797607, -0.2402401 ,\n",
       "        -0.24217987, -0.2437973 , -0.24412155, -0.24347496, -0.24315071,\n",
       "        -0.24185753, -0.24121094, -0.24185753, -0.24282837, -0.2437973 ,\n",
       "        -0.24541473, -0.24638557, -0.24768066, -0.24768066, -0.24638557,\n",
       "        -0.24541473, -0.24412155, -0.24282837, -0.24217987, -0.24250412,\n",
       "        -0.24315071, -0.24412155, -0.24541473, -0.24509239, -0.24509239,\n",
       "        -0.24347496, -0.24185753, -0.23926926, -0.23765182, -0.23668098,\n",
       "        -0.23603439, -0.23635864, -0.23668098, -0.23732758, -0.23668098,\n",
       "        -0.23635864, -0.23441696, -0.23441696, -0.23506355, -0.23571014,\n",
       "        -0.23668098, -0.23732758, -0.23829842, -0.23862267, -0.23894501,\n",
       "        -0.23926926, -0.23862267, -0.23862267, -0.23829842, -0.23829842,\n",
       "        -0.23829842, -0.23829842, -0.23894501, -0.23862267, -0.23862267,\n",
       "        -0.23797607, -0.23732758, -0.23700523, -0.23571014, -0.23474121]),\n",
       " 'cf': array([275.37849998, 275.37817574, 275.3765583 , 275.37558746,\n",
       "        275.37494087, 275.37397003, 275.37364769, 275.37267685,\n",
       "        275.37170601, 275.37138176, 275.37041283, 275.37008858,\n",
       "        275.36976433, 275.36879539, 275.36879539, 275.36944199,\n",
       "        275.36944199, 275.36944199, 275.36976433, 275.37008858,\n",
       "        275.37041283, 275.37073517, 275.37105942, 275.37105942,\n",
       "        275.37073517, 275.37105942, 275.37170601, 275.3723526 ,\n",
       "        275.37364769, 275.37461662, 275.37558746, 275.37688255,\n",
       "        275.37752914, 275.37849998, 275.37849998, 275.37849998,\n",
       "        275.37849998, 275.3765583 , 275.37461662, 275.3723526 ,\n",
       "        275.37041283, 275.36879539, 275.36847115, 275.36911774,\n",
       "        275.36944199, 275.37073517, 275.37138176, 275.37073517,\n",
       "        275.36976433, 275.36879539, 275.36717796, 275.36620712,\n",
       "        275.36491203, 275.36491203, 275.36620712, 275.36717796,\n",
       "        275.36847115, 275.36976433, 275.37041283, 275.37008858,\n",
       "        275.36944199, 275.36847115, 275.36717796, 275.36750031,\n",
       "        275.36750031, 275.36911774, 275.37073517, 275.37332344,\n",
       "        275.37494087, 275.37591171, 275.3765583 , 275.37623405,\n",
       "        275.37591171, 275.37526512, 275.37591171, 275.37623405,\n",
       "        275.37817574, 275.37817574, 275.37752914, 275.37688255,\n",
       "        275.37591171, 275.37526512, 275.37429428, 275.37397003,\n",
       "        275.37364769, 275.37332344, 275.37397003, 275.37397003,\n",
       "        275.37429428, 275.37429428, 275.37429428, 275.37429428,\n",
       "        275.37364769, 275.37397003, 275.37397003, 275.37461662,\n",
       "        275.37526512, 275.37558746, 275.37688255, 275.37785149])}"
      ]
     },
     "execution_count": 143,
     "metadata": {},
     "output_type": "execute_result"
    }
   ],
   "source": [
    "df1 = pd.DataFrame(data=dict1)\n",
    "\n",
    "\n",
    "df1.to_csv(fr'\\\\DAISY05\\users\\park\\200 実験データ加工\\20220630\\切削抵抗/cuttingForce_allData_{num}_2.csv')"
   ]
  },
  {
   "cell_type": "code",
   "execution_count": 2,
   "metadata": {},
   "outputs": [],
   "source": [
    "aa = pd.read_csv(rf'Z:\\200 Produced_data\\20221027\\CF\\cf_100points_in_1path.csv')"
   ]
  },
  {
   "cell_type": "code",
   "execution_count": 27,
   "metadata": {
    "scrolled": true
   },
   "outputs": [
    {
     "data": {
      "text/html": [
       "<div>\n",
       "<style scoped>\n",
       "    .dataframe tbody tr th:only-of-type {\n",
       "        vertical-align: middle;\n",
       "    }\n",
       "\n",
       "    .dataframe tbody tr th {\n",
       "        vertical-align: top;\n",
       "    }\n",
       "\n",
       "    .dataframe thead th {\n",
       "        text-align: right;\n",
       "    }\n",
       "</style>\n",
       "<table border=\"1\" class=\"dataframe\">\n",
       "  <thead>\n",
       "    <tr style=\"text-align: right;\">\n",
       "      <th></th>\n",
       "      <th>Unnamed: 0</th>\n",
       "      <th>d</th>\n",
       "      <th>v</th>\n",
       "      <th>cf</th>\n",
       "    </tr>\n",
       "  </thead>\n",
       "  <tbody>\n",
       "    <tr>\n",
       "      <th>0</th>\n",
       "      <td>1</td>\n",
       "      <td>0.035131</td>\n",
       "      <td>-0.049709</td>\n",
       "      <td>286.408127</td>\n",
       "    </tr>\n",
       "    <tr>\n",
       "      <th>1</th>\n",
       "      <td>2</td>\n",
       "      <td>0.035131</td>\n",
       "      <td>-0.049709</td>\n",
       "      <td>286.408127</td>\n",
       "    </tr>\n",
       "    <tr>\n",
       "      <th>2</th>\n",
       "      <td>3</td>\n",
       "      <td>0.035131</td>\n",
       "      <td>-0.049709</td>\n",
       "      <td>286.408127</td>\n",
       "    </tr>\n",
       "    <tr>\n",
       "      <th>3</th>\n",
       "      <td>4</td>\n",
       "      <td>0.035131</td>\n",
       "      <td>-0.049709</td>\n",
       "      <td>286.408127</td>\n",
       "    </tr>\n",
       "    <tr>\n",
       "      <th>4</th>\n",
       "      <td>5</td>\n",
       "      <td>0.035131</td>\n",
       "      <td>-0.049709</td>\n",
       "      <td>286.408127</td>\n",
       "    </tr>\n",
       "    <tr>\n",
       "      <th>...</th>\n",
       "      <td>...</td>\n",
       "      <td>...</td>\n",
       "      <td>...</td>\n",
       "      <td>...</td>\n",
       "    </tr>\n",
       "    <tr>\n",
       "      <th>16895</th>\n",
       "      <td>16896</td>\n",
       "      <td>8.242650</td>\n",
       "      <td>-0.175867</td>\n",
       "      <td>341.711518</td>\n",
       "    </tr>\n",
       "    <tr>\n",
       "      <th>16896</th>\n",
       "      <td>16897</td>\n",
       "      <td>8.242650</td>\n",
       "      <td>-0.174250</td>\n",
       "      <td>341.713135</td>\n",
       "    </tr>\n",
       "    <tr>\n",
       "      <th>16897</th>\n",
       "      <td>16898</td>\n",
       "      <td>8.242650</td>\n",
       "      <td>-0.171986</td>\n",
       "      <td>341.715399</td>\n",
       "    </tr>\n",
       "    <tr>\n",
       "      <th>16898</th>\n",
       "      <td>16899</td>\n",
       "      <td>8.242650</td>\n",
       "      <td>-0.170368</td>\n",
       "      <td>341.717016</td>\n",
       "    </tr>\n",
       "    <tr>\n",
       "      <th>16899</th>\n",
       "      <td>16900</td>\n",
       "      <td>8.242650</td>\n",
       "      <td>-0.168427</td>\n",
       "      <td>341.718958</td>\n",
       "    </tr>\n",
       "  </tbody>\n",
       "</table>\n",
       "<p>16900 rows × 4 columns</p>\n",
       "</div>"
      ],
      "text/plain": [
       "       Unnamed: 0         d         v          cf\n",
       "0               1  0.035131 -0.049709  286.408127\n",
       "1               2  0.035131 -0.049709  286.408127\n",
       "2               3  0.035131 -0.049709  286.408127\n",
       "3               4  0.035131 -0.049709  286.408127\n",
       "4               5  0.035131 -0.049709  286.408127\n",
       "...           ...       ...       ...         ...\n",
       "16895       16896  8.242650 -0.175867  341.711518\n",
       "16896       16897  8.242650 -0.174250  341.713135\n",
       "16897       16898  8.242650 -0.171986  341.715399\n",
       "16898       16899  8.242650 -0.170368  341.717016\n",
       "16899       16900  8.242650 -0.168427  341.718958\n",
       "\n",
       "[16900 rows x 4 columns]"
      ]
     },
     "execution_count": 27,
     "metadata": {},
     "output_type": "execute_result"
    }
   ],
   "source": [
    "aa"
   ]
  },
  {
   "cell_type": "code",
   "execution_count": 3,
   "metadata": {},
   "outputs": [],
   "source": [
    "v_d = aa['v'].tolist()\n",
    "d_d = aa['d'].tolist()\n",
    "cf_d = v_d * (-500)"
   ]
  },
  {
   "cell_type": "code",
   "execution_count": null,
   "metadata": {},
   "outputs": [],
   "source": []
  },
  {
   "cell_type": "markdown",
   "metadata": {},
   "source": [
    "## 切削抵抗の推移とその移動平均100"
   ]
  },
  {
   "cell_type": "code",
   "execution_count": 34,
   "metadata": {},
   "outputs": [],
   "source": [
    "%matplotlib qt\n",
    "fig = plt.figure()\n",
    "\n",
    "ax = fig.add_subplot()\n",
    "ax.tick_params(axis = 'x', labelsize =18)\n",
    "ax.tick_params(axis = 'y', labelsize =18)\n",
    "ax.set_xlabel(xlabel='Cutting Distance[m]', size=20, labelpad=20)\n",
    "ax.set_ylabel(ylabel='Average Voltage[V]', size=20, labelpad=20)\n",
    "\n",
    "\n",
    "plt.plot(aa['d'],aa['v']*-500, linewidth=3)\n",
    "\n",
    "a = aa['v']*-500\n",
    "w_size = 100\n",
    "v = np.ones(w_size) / w_size\n",
    "out = np.convolve(a, v, mode='same')\n",
    "\n",
    "# plt.plot(aa['d'],out, linewidth=4, color='r',label=rf\"moving_avg{w_size}\",  linestyle=\"dotted\")\n",
    "# plt.legend(bbox_to_anchor=(0, 1), loc='upper left', fontsize=18)\n",
    "# plt.tight_layout()\n"
   ]
  },
  {
   "cell_type": "markdown",
   "metadata": {},
   "source": [
    "## ドリフト考慮あり　切削抵抗のみ \n",
    "#### 半回転の最大値 1pathに592回転=1184半回転\n",
    "以下のコードは半回転ごとにしたら、増減が激しかったので、1回転ごとにした"
   ]
  },
  {
   "cell_type": "code",
   "execution_count": 13,
   "metadata": {},
   "outputs": [],
   "source": [
    "def get_min_drift(num):\n",
    "    date = 20221027\n",
    "    path = rf\"Z:\\100 Raw_data\\{date}---切削実験\\Dynamometer\\Cutting\\Dynamo_{num}.tdms\"\n",
    "    nc_path = rf\"Z:\\100 Raw_data\\{date}---切削実験\\Dynamometer\\Non-Cutting\\Dynamo_{num}.tdms\"\n",
    "    c_d = load_tdms(path, ch_num=3)\n",
    "    nc_d = load_tdms(nc_path, ch_num=3)\n",
    "    \n",
    "    # 最後のpath以外\n",
    "    cd = np.array(c_d[1][:4930000])\n",
    "    ncd = np.array(c_d[1][:4930000])\n",
    "    \n",
    "    # 最後のpath\n",
    "    cd = np.array(c_d[1][:1000000])\n",
    "    ncd = np.array(c_d[1][:1000000])    \n",
    "    \n",
    "\n",
    "    cf = ( cd - np.average(ncd) ) * (-500)\n",
    "    \n",
    "    cf_max = []\n",
    "#     for dot in range(0,1183):\n",
    "    for dot in range(0,119):\n",
    "        start = dot*8333\n",
    "        end = start + 8333\n",
    "        cf_max.append(np.max(cf[start:end]))\n",
    "\n",
    "    cf_max = np.array(cf_max)\n",
    "    \n",
    "    np.save(rf\"Z:\\200 Produced_data\\20221027\\CF\\max_1rotation\\{num}\",cf_max)"
   ]
  },
  {
   "cell_type": "code",
   "execution_count": null,
   "metadata": {},
   "outputs": [
    {
     "name": "stderr",
     "output_type": "stream",
     "text": [
      "\n",
      "  0%|          | 0/168 [00:00<?, ?it/s]\u001b[A\n",
      "  1%|          | 1/168 [00:00<02:32,  1.10it/s]\u001b[A\n",
      "  1%|          | 2/168 [00:01<02:29,  1.11it/s]\u001b[A\n",
      "  2%|▏         | 3/168 [00:02<02:26,  1.12it/s]\u001b[A\n",
      "  2%|▏         | 4/168 [00:03<02:24,  1.13it/s]\u001b[A\n",
      "  3%|▎         | 5/168 [00:04<02:26,  1.12it/s]\u001b[A\n",
      "  4%|▎         | 6/168 [00:05<02:24,  1.12it/s]\u001b[A\n",
      "  4%|▍         | 7/168 [00:06<02:26,  1.10it/s]\u001b[A\n",
      "  5%|▍         | 8/168 [00:07<02:27,  1.09it/s]\u001b[A\n",
      "  5%|▌         | 9/168 [00:08<02:27,  1.07it/s]\u001b[A\n",
      "  6%|▌         | 10/168 [00:09<02:26,  1.08it/s]\u001b[A\n",
      "  7%|▋         | 11/168 [00:10<02:29,  1.05it/s]\u001b[A\n",
      "  7%|▋         | 12/168 [00:11<02:34,  1.01it/s]\u001b[A\n",
      "  8%|▊         | 13/168 [00:12<02:29,  1.04it/s]\u001b[A\n",
      "  8%|▊         | 14/168 [00:13<02:28,  1.04it/s]\u001b[A\n",
      "  9%|▉         | 15/168 [00:13<02:24,  1.06it/s]\u001b[A\n",
      " 10%|▉         | 16/168 [00:14<02:25,  1.05it/s]\u001b[A\n",
      " 10%|█         | 17/168 [00:15<02:22,  1.06it/s]\u001b[A\n",
      " 11%|█         | 18/168 [00:16<02:21,  1.06it/s]\u001b[A\n",
      " 11%|█▏        | 19/168 [00:17<02:25,  1.03it/s]\u001b[A\n",
      " 12%|█▏        | 20/168 [00:18<02:22,  1.04it/s]\u001b[A\n",
      " 12%|█▎        | 21/168 [00:19<02:24,  1.02it/s]\u001b[A\n",
      " 13%|█▎        | 22/168 [00:20<02:22,  1.02it/s]\u001b[A\n",
      " 14%|█▎        | 23/168 [00:21<02:22,  1.02it/s]\u001b[A\n",
      " 14%|█▍        | 24/168 [00:22<02:20,  1.02it/s]\u001b[A\n",
      " 15%|█▍        | 25/168 [00:23<02:22,  1.00it/s]\u001b[A\n",
      " 15%|█▌        | 26/168 [00:24<02:18,  1.03it/s]\u001b[A\n",
      " 16%|█▌        | 27/168 [00:25<02:17,  1.02it/s]\u001b[A\n",
      " 17%|█▋        | 28/168 [00:26<02:22,  1.02s/it]\u001b[A\n",
      " 17%|█▋        | 29/168 [00:27<02:22,  1.02s/it]\u001b[A\n",
      " 18%|█▊        | 30/168 [00:28<02:24,  1.05s/it]\u001b[A\n",
      " 18%|█▊        | 31/168 [00:29<02:19,  1.02s/it]\u001b[A\n",
      " 19%|█▉        | 32/168 [00:30<02:14,  1.01it/s]\u001b[A\n",
      " 20%|█▉        | 33/168 [00:31<02:11,  1.03it/s]\u001b[A\n",
      " 20%|██        | 34/168 [00:32<02:08,  1.04it/s]\u001b[A\n",
      " 21%|██        | 35/168 [00:33<02:07,  1.04it/s]\u001b[A\n",
      " 21%|██▏       | 36/168 [00:34<02:04,  1.06it/s]\u001b[A\n",
      " 22%|██▏       | 37/168 [00:35<02:01,  1.07it/s]\u001b[A\n",
      " 23%|██▎       | 38/168 [00:36<02:00,  1.08it/s]\u001b[A\n",
      " 23%|██▎       | 39/168 [00:37<02:01,  1.06it/s]\u001b[A\n",
      " 24%|██▍       | 40/168 [00:38<02:02,  1.04it/s]\u001b[AException ignored in: <function tqdm.__del__ at 0x00000297C3E5D790>\n",
      "Traceback (most recent call last):\n",
      "  File \"C:\\Users\\pmg07\\anaconda3\\lib\\site-packages\\tqdm\\std.py\", line 1086, in __del__\n",
      "    self.close()\n",
      "  File \"C:\\Users\\pmg07\\anaconda3\\lib\\site-packages\\tqdm\\std.py\", line 1293, in close\n",
      "    self.display(pos=0)\n",
      "  File \"C:\\Users\\pmg07\\anaconda3\\lib\\site-packages\\tqdm\\std.py\", line 1471, in display\n",
      "    self.sp(self.__repr__() if msg is None else msg)\n",
      "  File \"C:\\Users\\pmg07\\anaconda3\\lib\\site-packages\\tqdm\\std.py\", line 1089, in __repr__\n",
      "    return self.format_meter(**self.format_dict)\n",
      "  File \"C:\\Users\\pmg07\\anaconda3\\lib\\site-packages\\tqdm\\std.py\", line 423, in format_meter\n",
      "    bool_prefix_colon_already = (prefix[-2:] == \": \")\n",
      "TypeError: 'int' object is not subscriptable\n",
      "\n",
      " 24%|██▍       | 41/168 [00:39<02:16,  1.07s/it]\u001b[A\n",
      " 25%|██▌       | 42/168 [00:40<02:09,  1.03s/it]\u001b[A\n",
      " 26%|██▌       | 43/168 [00:41<02:05,  1.01s/it]\u001b[A\n",
      " 26%|██▌       | 44/168 [00:42<02:00,  1.02it/s]\u001b[A\n",
      " 27%|██▋       | 45/168 [00:43<01:59,  1.03it/s]\u001b[A\n",
      " 27%|██▋       | 46/168 [00:44<02:04,  1.02s/it]\u001b[A\n",
      " 28%|██▊       | 47/168 [00:45<02:03,  1.02s/it]\u001b[A\n",
      " 29%|██▊       | 48/168 [00:46<02:04,  1.04s/it]\u001b[A\n",
      " 29%|██▉       | 49/168 [00:47<02:04,  1.05s/it]\u001b[A\n",
      " 30%|██▉       | 50/168 [00:48<02:02,  1.04s/it]\u001b[A\n",
      " 30%|███       | 51/168 [00:49<01:59,  1.02s/it]\u001b[A\n",
      " 31%|███       | 52/168 [00:50<01:59,  1.03s/it]\u001b[A\n",
      " 32%|███▏      | 53/168 [00:51<01:54,  1.01it/s]\u001b[A\n",
      " 32%|███▏      | 54/168 [00:52<01:49,  1.04it/s]\u001b[A\n",
      " 33%|███▎      | 55/168 [00:53<01:47,  1.05it/s]\u001b[A\n",
      " 33%|███▎      | 56/168 [00:54<01:47,  1.04it/s]\u001b[A\n",
      " 34%|███▍      | 57/168 [00:55<01:45,  1.05it/s]\u001b[A\n",
      " 35%|███▍      | 58/168 [00:56<01:42,  1.07it/s]\u001b[A\n",
      " 35%|███▌      | 59/168 [00:57<01:41,  1.08it/s]\u001b[A\n",
      " 36%|███▌      | 60/168 [00:58<01:41,  1.07it/s]\u001b[A\n",
      " 36%|███▋      | 61/168 [00:59<01:40,  1.07it/s]\u001b[A\n",
      " 37%|███▋      | 62/168 [01:00<01:42,  1.04it/s]\u001b[A\n",
      " 38%|███▊      | 63/168 [01:01<01:41,  1.03it/s]\u001b[A\n",
      " 38%|███▊      | 64/168 [01:02<01:39,  1.05it/s]\u001b[A\n",
      " 39%|███▊      | 65/168 [01:03<01:39,  1.04it/s]\u001b[A\n",
      " 39%|███▉      | 66/168 [01:03<01:36,  1.05it/s]\u001b[A\n",
      " 40%|███▉      | 67/168 [01:04<01:35,  1.06it/s]\u001b[A\n",
      " 40%|████      | 68/168 [01:05<01:33,  1.07it/s]\u001b[A\n",
      " 41%|████      | 69/168 [01:06<01:31,  1.08it/s]\u001b[A\n",
      " 42%|████▏     | 70/168 [01:07<01:30,  1.08it/s]\u001b[A\n",
      " 42%|████▏     | 71/168 [01:08<01:31,  1.06it/s]\u001b[A\n",
      " 43%|████▎     | 72/168 [01:09<01:30,  1.06it/s]\u001b[A\n",
      " 43%|████▎     | 73/168 [01:10<01:29,  1.06it/s]\u001b[A\n",
      " 44%|████▍     | 74/168 [01:11<01:31,  1.02it/s]\u001b[A\n",
      " 45%|████▍     | 75/168 [01:12<01:31,  1.02it/s]\u001b[A\n",
      " 45%|████▌     | 76/168 [01:13<01:29,  1.03it/s]\u001b[A\n",
      " 46%|████▌     | 77/168 [01:14<01:26,  1.05it/s]\u001b[A\n",
      " 46%|████▋     | 78/168 [01:15<01:25,  1.06it/s]\u001b[A\n",
      " 47%|████▋     | 79/168 [01:16<01:26,  1.03it/s]\u001b[A\n",
      " 48%|████▊     | 80/168 [01:17<01:24,  1.05it/s]\u001b[A\n",
      " 48%|████▊     | 81/168 [01:18<01:22,  1.06it/s]\u001b[A\n",
      " 49%|████▉     | 82/168 [01:19<01:21,  1.05it/s]\u001b[A\n",
      " 49%|████▉     | 83/168 [01:20<01:21,  1.05it/s]\u001b[A\n",
      " 50%|█████     | 84/168 [01:21<01:23,  1.01it/s]\u001b[A\n",
      " 51%|█████     | 85/168 [01:22<01:24,  1.02s/it]\u001b[A\n",
      " 51%|█████     | 86/168 [01:23<01:25,  1.04s/it]\u001b[A\n",
      " 52%|█████▏    | 87/168 [01:24<01:23,  1.03s/it]\u001b[A\n",
      " 52%|█████▏    | 88/168 [01:25<01:23,  1.04s/it]\u001b[A\n",
      " 53%|█████▎    | 89/168 [01:26<01:21,  1.03s/it]\u001b[A\n",
      " 54%|█████▎    | 90/168 [01:27<01:20,  1.03s/it]\u001b[A\n",
      " 54%|█████▍    | 91/168 [01:28<01:19,  1.03s/it]\u001b[A\n",
      " 55%|█████▍    | 92/168 [01:29<01:18,  1.03s/it]\u001b[A\n",
      " 55%|█████▌    | 93/168 [01:30<01:16,  1.02s/it]\u001b[A\n",
      " 56%|█████▌    | 94/168 [01:31<01:16,  1.04s/it]\u001b[A\n",
      " 57%|█████▋    | 95/168 [01:32<01:16,  1.05s/it]\u001b[A\n",
      " 57%|█████▋    | 96/168 [01:33<01:16,  1.06s/it]\u001b[A\n",
      " 58%|█████▊    | 97/168 [01:34<01:14,  1.05s/it]\u001b[A\n",
      " 58%|█████▊    | 98/168 [01:35<01:11,  1.02s/it]\u001b[A\n",
      " 59%|█████▉    | 99/168 [01:36<01:07,  1.02it/s]\u001b[A\n",
      " 60%|█████▉    | 100/168 [01:37<01:05,  1.05it/s]\u001b[A\n",
      " 60%|██████    | 101/168 [01:38<01:03,  1.06it/s]\u001b[A\n",
      " 61%|██████    | 102/168 [01:39<01:01,  1.07it/s]\u001b[A\n",
      " 61%|██████▏   | 103/168 [01:40<01:00,  1.07it/s]\u001b[A\n",
      " 62%|██████▏   | 104/168 [01:41<00:59,  1.08it/s]\u001b[A\n",
      " 62%|██████▎   | 105/168 [01:42<00:58,  1.08it/s]\u001b[A\n",
      " 63%|██████▎   | 106/168 [01:43<00:57,  1.09it/s]\u001b[A\n",
      " 64%|██████▎   | 107/168 [01:43<00:56,  1.08it/s]\u001b[A\n",
      " 64%|██████▍   | 108/168 [01:44<00:56,  1.07it/s]\u001b[A\n",
      " 65%|██████▍   | 109/168 [01:45<00:55,  1.06it/s]\u001b[A\n",
      " 65%|██████▌   | 110/168 [01:47<00:59,  1.03s/it]\u001b[A\n",
      " 66%|██████▌   | 111/168 [01:48<00:57,  1.01s/it]\u001b[A\n",
      " 67%|██████▋   | 112/168 [01:49<00:56,  1.00s/it]\u001b[A\n",
      " 67%|██████▋   | 113/168 [01:50<00:56,  1.03s/it]\u001b[A\n",
      " 68%|██████▊   | 114/168 [01:51<00:55,  1.02s/it]\u001b[A\n",
      " 68%|██████▊   | 115/168 [01:52<00:53,  1.00s/it]\u001b[A\n",
      " 69%|██████▉   | 116/168 [01:53<00:51,  1.01it/s]\u001b[A\n",
      " 70%|██████▉   | 117/168 [01:54<00:49,  1.03it/s]\u001b[A\n",
      " 70%|███████   | 118/168 [01:55<00:50,  1.00s/it]\u001b[A\n",
      " 71%|███████   | 119/168 [01:55<00:47,  1.03it/s]\u001b[A\n",
      " 71%|███████▏  | 120/168 [01:56<00:46,  1.03it/s]\u001b[A\n",
      " 72%|███████▏  | 121/168 [01:58<00:46,  1.00it/s]\u001b[A\n",
      " 73%|███████▎  | 122/168 [01:58<00:44,  1.04it/s]\u001b[A\n",
      " 73%|███████▎  | 123/168 [01:59<00:44,  1.02it/s]\u001b[A\n",
      " 74%|███████▍  | 124/168 [02:00<00:43,  1.01it/s]\u001b[A\n",
      " 74%|███████▍  | 125/168 [02:01<00:42,  1.02it/s]\u001b[A\n",
      " 75%|███████▌  | 126/168 [02:02<00:40,  1.04it/s]\u001b[A\n",
      " 76%|███████▌  | 127/168 [02:03<00:38,  1.05it/s]\u001b[A\n",
      " 76%|███████▌  | 128/168 [02:04<00:38,  1.03it/s]\u001b[A\n",
      " 77%|███████▋  | 129/168 [02:05<00:37,  1.05it/s]\u001b[A\n",
      " 77%|███████▋  | 130/168 [02:06<00:36,  1.04it/s]\u001b[A\n",
      " 78%|███████▊  | 131/168 [02:07<00:36,  1.02it/s]\u001b[A\n",
      " 79%|███████▊  | 132/168 [02:08<00:34,  1.04it/s]\u001b[A\n",
      " 79%|███████▉  | 133/168 [02:09<00:33,  1.05it/s]\u001b[A\n",
      " 80%|███████▉  | 134/168 [02:10<00:33,  1.02it/s]\u001b[A\n",
      " 80%|████████  | 135/168 [02:11<00:31,  1.03it/s]\u001b[A\n",
      " 81%|████████  | 136/168 [02:12<00:30,  1.04it/s]\u001b[A\n",
      " 82%|████████▏ | 137/168 [02:13<00:29,  1.06it/s]\u001b[A\n",
      " 82%|████████▏ | 138/168 [02:14<00:28,  1.07it/s]\u001b[A\n",
      " 83%|████████▎ | 139/168 [02:15<00:27,  1.07it/s]\u001b[A\n",
      " 83%|████████▎ | 140/168 [02:16<00:25,  1.08it/s]\u001b[A\n",
      " 84%|████████▍ | 141/168 [02:17<00:24,  1.08it/s]\u001b[A\n",
      " 85%|████████▍ | 142/168 [02:18<00:24,  1.05it/s]\u001b[A\n",
      " 85%|████████▌ | 143/168 [02:18<00:23,  1.08it/s]\u001b[A\n",
      " 86%|████████▌ | 144/168 [02:19<00:22,  1.08it/s]\u001b[A\n",
      " 86%|████████▋ | 145/168 [02:20<00:21,  1.08it/s]\u001b[A\n",
      " 87%|████████▋ | 146/168 [02:21<00:20,  1.08it/s]\u001b[A\n",
      " 88%|████████▊ | 147/168 [02:22<00:19,  1.07it/s]\u001b[A\n",
      " 88%|████████▊ | 148/168 [02:23<00:18,  1.08it/s]\u001b[A\n",
      " 89%|████████▊ | 149/168 [02:24<00:17,  1.06it/s]\u001b[A\n",
      " 89%|████████▉ | 150/168 [02:25<00:17,  1.03it/s]\u001b[A\n",
      " 90%|████████▉ | 151/168 [02:26<00:16,  1.03it/s]\u001b[A\n",
      " 90%|█████████ | 152/168 [02:27<00:15,  1.00it/s]\u001b[A\n",
      " 91%|█████████ | 153/168 [02:28<00:15,  1.00s/it]\u001b[A\n",
      " 92%|█████████▏| 154/168 [02:29<00:14,  1.07s/it]\u001b[A\n",
      " 92%|█████████▏| 155/168 [02:30<00:14,  1.08s/it]\u001b[A\n",
      " 93%|█████████▎| 156/168 [02:31<00:12,  1.03s/it]\u001b[A\n",
      " 93%|█████████▎| 157/168 [02:32<00:11,  1.01s/it]\u001b[A\n",
      " 94%|█████████▍| 158/168 [02:33<00:09,  1.01it/s]\u001b[A\n",
      " 95%|█████████▍| 159/168 [02:34<00:09,  1.00s/it]\u001b[A\n",
      " 95%|█████████▌| 160/168 [02:35<00:07,  1.01it/s]\u001b[A\n",
      " 96%|█████████▌| 161/168 [02:36<00:06,  1.01it/s]\u001b[A\n",
      " 96%|█████████▋| 162/168 [02:37<00:05,  1.03it/s]\u001b[A\n",
      " 97%|█████████▋| 163/168 [02:38<00:04,  1.04it/s]\u001b[A\n",
      " 98%|█████████▊| 164/168 [02:39<00:03,  1.04it/s]\u001b[A\n",
      " 98%|█████████▊| 165/168 [02:40<00:02,  1.03it/s]\u001b[A\n",
      " 99%|█████████▉| 166/168 [02:41<00:01,  1.03it/s]\u001b[A\n",
      " 99%|█████████▉| 167/168 [02:42<00:00,  1.04it/s]\u001b[A\n",
      "100%|██████████| 168/168 [02:43<00:00,  1.04it/s]\u001b[A"
     ]
    }
   ],
   "source": [
    "for i in tqdm(range(1,169)):\n",
    "    get_min_drift(i)"
   ]
  },
  {
   "cell_type": "code",
   "execution_count": 14,
   "metadata": {},
   "outputs": [],
   "source": [
    "get_min_drift(169)"
   ]
  },
  {
   "cell_type": "code",
   "execution_count": 15,
   "metadata": {
    "scrolled": true
   },
   "outputs": [
    {
     "name": "stderr",
     "output_type": "stream",
     "text": [
      "100%|██████████| 168/168 [00:00<00:00, 237.32it/s]\n"
     ]
    }
   ],
   "source": [
    "d1 = np.load(rf\"Z:\\200 Produced_data\\20221027\\CF\\max_1rotation\\1.npy\")\n",
    "\n",
    "for num in tqdm(range(2,170)):\n",
    "    d2 = np.load(rf\"Z:\\200 Produced_data\\20221027\\CF\\max_1rotation\\{num}.npy\")\n",
    "    d1 = np.concatenate([d1, d2], axis=0)\n",
    "\n",
    "np.save(rf\"Z:\\200 Produced_data\\20221027\\CF\\max_1rotation\\All\",d1)"
   ]
  },
  {
   "cell_type": "code",
   "execution_count": 16,
   "metadata": {},
   "outputs": [
    {
     "data": {
      "text/plain": [
       "(99407,)"
      ]
     },
     "execution_count": 16,
     "metadata": {},
     "output_type": "execute_result"
    }
   ],
   "source": [
    "d1.shape"
   ]
  },
  {
   "cell_type": "markdown",
   "metadata": {},
   "source": [
    "## ドリフト考慮あり　切削抵抗計算やりなおし（1回転&半回転ごとの最大値）\n",
    "半回転の場合：4166でわる\n",
    "1回転の場合：8333でわる"
   ]
  },
  {
   "cell_type": "code",
   "execution_count": 4,
   "metadata": {},
   "outputs": [],
   "source": [
    "def get_min_drift(num):\n",
    "    date = 20221027\n",
    "    path = rf\"Z:\\100 Raw_data\\{date}---切削実験\\Dynamometer\\Cutting\\Dynamo_{num}.tdms\"\n",
    "    nc_path = rf\"Z:\\100 Raw_data\\{date}---切削実験\\Dynamometer\\Non-Cutting\\Dynamo_{num}.tdms\"\n",
    "    c_d = load_tdms(path, ch_num=3)\n",
    "    nc_d = load_tdms(nc_path, ch_num=3)\n",
    "    \n",
    "    if num ==169:\n",
    "        # 最後のpath\n",
    "        cd = np.array(c_d[1][:1000000])\n",
    "        ncd = np.array(c_d[1][:1000000])  \n",
    "    else:\n",
    "        # 最後のpath以外\n",
    "        cd = np.array(c_d[1][:4930000])\n",
    "        ncd = np.array(c_d[1][:4930000])\n",
    "    \n",
    "    cf = ( cd - np.average(ncd) ) * (-500)\n",
    "    cf_max = []\n",
    "    \n",
    "    for rot in range(0,int(len(cd)/ 4166)):\n",
    "        start = rot*4166\n",
    "        end = start + 4166\n",
    "        cf_max.append(np.max(cf[start:end]))\n",
    "    \n",
    "    cf_max = np.array(cf_max)\n",
    "    np.save(rf\"Z:\\200 Produced_data\\20221027\\CF\\recalculate\\max_0.5rotation\\{num}\",cf_max)"
   ]
  },
  {
   "cell_type": "code",
   "execution_count": 5,
   "metadata": {
    "scrolled": true
   },
   "outputs": [
    {
     "name": "stderr",
     "output_type": "stream",
     "text": [
      "  0%|          | 0/169 [00:00<?, ?it/s]Exception ignored in: <generator object tqdm.__iter__ at 0x000001E19A71A9E0>\n",
      "Traceback (most recent call last):\n",
      "  File \"C:\\Users\\pmg07\\anaconda3\\lib\\site-packages\\tqdm\\std.py\", line 1130, in __iter__\n",
      "    yield obj\n",
      "KeyboardInterrupt: \n"
     ]
    },
    {
     "ename": "FileNotFoundError",
     "evalue": "[Errno 2] No such file or directory: 'Z:\\\\100 Raw_data\\\\20221027---切削実験\\\\Dynamometer\\\\Cutting\\\\Dynamo_1.tdms'",
     "output_type": "error",
     "traceback": [
      "\u001b[1;31m---------------------------------------------------------------------------\u001b[0m",
      "\u001b[1;31mFileNotFoundError\u001b[0m                         Traceback (most recent call last)",
      "\u001b[1;32m<ipython-input-5-abeabe973b73>\u001b[0m in \u001b[0;36m<module>\u001b[1;34m\u001b[0m\n\u001b[0;32m      1\u001b[0m \u001b[1;32mfor\u001b[0m \u001b[0mi\u001b[0m \u001b[1;32min\u001b[0m \u001b[0mtqdm\u001b[0m\u001b[1;33m(\u001b[0m\u001b[0mrange\u001b[0m\u001b[1;33m(\u001b[0m\u001b[1;36m1\u001b[0m\u001b[1;33m,\u001b[0m\u001b[1;36m170\u001b[0m\u001b[1;33m)\u001b[0m\u001b[1;33m)\u001b[0m\u001b[1;33m:\u001b[0m\u001b[1;33m\u001b[0m\u001b[1;33m\u001b[0m\u001b[0m\n\u001b[1;32m----> 2\u001b[1;33m     \u001b[0mget_min_drift\u001b[0m\u001b[1;33m(\u001b[0m\u001b[0mi\u001b[0m\u001b[1;33m)\u001b[0m\u001b[1;33m\u001b[0m\u001b[1;33m\u001b[0m\u001b[0m\n\u001b[0m",
      "\u001b[1;32m<ipython-input-4-1942725baccd>\u001b[0m in \u001b[0;36mget_min_drift\u001b[1;34m(num)\u001b[0m\n\u001b[0;32m      3\u001b[0m     \u001b[0mpath\u001b[0m \u001b[1;33m=\u001b[0m \u001b[1;34mrf\"Z:\\100 Raw_data\\{date}---切削実験\\Dynamometer\\Cutting\\Dynamo_{num}.tdms\"\u001b[0m\u001b[1;33m\u001b[0m\u001b[1;33m\u001b[0m\u001b[0m\n\u001b[0;32m      4\u001b[0m     \u001b[0mnc_path\u001b[0m \u001b[1;33m=\u001b[0m \u001b[1;34mrf\"Z:\\100 Raw_data\\{date}---切削実験\\Dynamometer\\Non-Cutting\\Dynamo_{num}.tdms\"\u001b[0m\u001b[1;33m\u001b[0m\u001b[1;33m\u001b[0m\u001b[0m\n\u001b[1;32m----> 5\u001b[1;33m     \u001b[0mc_d\u001b[0m \u001b[1;33m=\u001b[0m \u001b[0mload_tdms\u001b[0m\u001b[1;33m(\u001b[0m\u001b[0mpath\u001b[0m\u001b[1;33m,\u001b[0m \u001b[0mch_num\u001b[0m\u001b[1;33m=\u001b[0m\u001b[1;36m3\u001b[0m\u001b[1;33m)\u001b[0m\u001b[1;33m\u001b[0m\u001b[1;33m\u001b[0m\u001b[0m\n\u001b[0m\u001b[0;32m      6\u001b[0m     \u001b[0mnc_d\u001b[0m \u001b[1;33m=\u001b[0m \u001b[0mload_tdms\u001b[0m\u001b[1;33m(\u001b[0m\u001b[0mnc_path\u001b[0m\u001b[1;33m,\u001b[0m \u001b[0mch_num\u001b[0m\u001b[1;33m=\u001b[0m\u001b[1;36m3\u001b[0m\u001b[1;33m)\u001b[0m\u001b[1;33m\u001b[0m\u001b[1;33m\u001b[0m\u001b[0m\n\u001b[0;32m      7\u001b[0m \u001b[1;33m\u001b[0m\u001b[0m\n",
      "\u001b[1;32m~\\m2\\acoustic-emission-endmilling\\test\\loadTDMS.py\u001b[0m in \u001b[0;36mload_tdms\u001b[1;34m(path, ch_num)\u001b[0m\n\u001b[0;32m      8\u001b[0m \u001b[1;32mdef\u001b[0m \u001b[0mload_tdms\u001b[0m\u001b[1;33m(\u001b[0m\u001b[0mpath\u001b[0m\u001b[1;33m,\u001b[0m \u001b[0mch_num\u001b[0m\u001b[1;33m)\u001b[0m\u001b[1;33m:\u001b[0m\u001b[1;33m\u001b[0m\u001b[1;33m\u001b[0m\u001b[0m\n\u001b[0;32m      9\u001b[0m     \u001b[0mch\u001b[0m \u001b[1;33m=\u001b[0m \u001b[1;33m[\u001b[0m\u001b[1;33m[\u001b[0m\u001b[1;33m]\u001b[0m \u001b[1;32mfor\u001b[0m \u001b[0m_\u001b[0m \u001b[1;32min\u001b[0m \u001b[0mrange\u001b[0m\u001b[1;33m(\u001b[0m\u001b[0mch_num\u001b[0m\u001b[1;33m)\u001b[0m\u001b[1;33m]\u001b[0m\u001b[1;33m\u001b[0m\u001b[1;33m\u001b[0m\u001b[0m\n\u001b[1;32m---> 10\u001b[1;33m     \u001b[1;32mwith\u001b[0m \u001b[0mcodecs\u001b[0m\u001b[1;33m.\u001b[0m\u001b[0mopen\u001b[0m\u001b[1;33m(\u001b[0m\u001b[0mpath\u001b[0m\u001b[1;33m,\u001b[0m \u001b[1;34m'rb'\u001b[0m\u001b[1;33m)\u001b[0m \u001b[1;32mas\u001b[0m \u001b[0mf\u001b[0m\u001b[1;33m:\u001b[0m\u001b[1;33m\u001b[0m\u001b[1;33m\u001b[0m\u001b[0m\n\u001b[0m\u001b[0;32m     11\u001b[0m         \u001b[1;32mwhile\u001b[0m \u001b[1;32mTrue\u001b[0m\u001b[1;33m:\u001b[0m\u001b[1;33m\u001b[0m\u001b[1;33m\u001b[0m\u001b[0m\n\u001b[0;32m     12\u001b[0m             \u001b[1;31m# リードインと呼ばれる部分の読み込み\u001b[0m\u001b[1;33m\u001b[0m\u001b[1;33m\u001b[0m\u001b[1;33m\u001b[0m\u001b[0m\n",
      "\u001b[1;32m~\\anaconda3\\lib\\codecs.py\u001b[0m in \u001b[0;36mopen\u001b[1;34m(filename, mode, encoding, errors, buffering)\u001b[0m\n\u001b[0;32m    903\u001b[0m         \u001b[1;31m# Force opening of the file in binary mode\u001b[0m\u001b[1;33m\u001b[0m\u001b[1;33m\u001b[0m\u001b[1;33m\u001b[0m\u001b[0m\n\u001b[0;32m    904\u001b[0m         \u001b[0mmode\u001b[0m \u001b[1;33m=\u001b[0m \u001b[0mmode\u001b[0m \u001b[1;33m+\u001b[0m \u001b[1;34m'b'\u001b[0m\u001b[1;33m\u001b[0m\u001b[1;33m\u001b[0m\u001b[0m\n\u001b[1;32m--> 905\u001b[1;33m     \u001b[0mfile\u001b[0m \u001b[1;33m=\u001b[0m \u001b[0mbuiltins\u001b[0m\u001b[1;33m.\u001b[0m\u001b[0mopen\u001b[0m\u001b[1;33m(\u001b[0m\u001b[0mfilename\u001b[0m\u001b[1;33m,\u001b[0m \u001b[0mmode\u001b[0m\u001b[1;33m,\u001b[0m \u001b[0mbuffering\u001b[0m\u001b[1;33m)\u001b[0m\u001b[1;33m\u001b[0m\u001b[1;33m\u001b[0m\u001b[0m\n\u001b[0m\u001b[0;32m    906\u001b[0m     \u001b[1;32mif\u001b[0m \u001b[0mencoding\u001b[0m \u001b[1;32mis\u001b[0m \u001b[1;32mNone\u001b[0m\u001b[1;33m:\u001b[0m\u001b[1;33m\u001b[0m\u001b[1;33m\u001b[0m\u001b[0m\n\u001b[0;32m    907\u001b[0m         \u001b[1;32mreturn\u001b[0m \u001b[0mfile\u001b[0m\u001b[1;33m\u001b[0m\u001b[1;33m\u001b[0m\u001b[0m\n",
      "\u001b[1;31mFileNotFoundError\u001b[0m: [Errno 2] No such file or directory: 'Z:\\\\100 Raw_data\\\\20221027---切削実験\\\\Dynamometer\\\\Cutting\\\\Dynamo_1.tdms'"
     ]
    }
   ],
   "source": [
    "for i in tqdm(range(1,170)):\n",
    "    get_min_drift(i)"
   ]
  },
  {
   "cell_type": "code",
   "execution_count": 101,
   "metadata": {},
   "outputs": [
    {
     "name": "stderr",
     "output_type": "stream",
     "text": [
      "100%|██████████| 168/168 [00:00<00:00, 210.63it/s]\n"
     ]
    }
   ],
   "source": [
    "d1 = np.load(rf\"Z:\\200 Produced_data\\20221027\\CF\\recalculate\\max_1rotation\\1.npy\")\n",
    "\n",
    "for num in tqdm(range(2,170)):\n",
    "    d2 = np.load(rf\"Z:\\200 Produced_data\\20221027\\CF\\recalculate\\max_1rotation\\{num}.npy\")\n",
    "    d1 = np.concatenate([d1, d2], axis=0)\n",
    "\n",
    "np.save(rf\"Z:\\200 Produced_data\\20221027\\CF\\recalculate\\max_1rotation\\All\",d1)"
   ]
  },
  {
   "cell_type": "code",
   "execution_count": null,
   "metadata": {},
   "outputs": [],
   "source": []
  },
  {
   "cell_type": "code",
   "execution_count": null,
   "metadata": {},
   "outputs": [],
   "source": []
  },
  {
   "cell_type": "code",
   "execution_count": 102,
   "metadata": {},
   "outputs": [
    {
     "name": "stdout",
     "output_type": "stream",
     "text": [
      "(591,)\n",
      "(120,)\n",
      "(99408,)\n"
     ]
    }
   ],
   "source": [
    "cf_1 = np.load(rf\"Z:\\200 Produced_data\\20221027\\CF\\recalculate\\max_1rotation\\1.npy\")\n",
    "cf_169 = np.load(rf\"Z:\\200 Produced_data\\20221027\\CF\\recalculate\\max_1rotation\\169.npy\")\n",
    "cf_all = np.load(rf\"Z:\\200 Produced_data\\20221027\\CF\\recalculate\\max_1rotation\\All.npy\")\n",
    "\n",
    "print(cf_1.shape)\n",
    "print(cf_169.shape)\n",
    "print(cf_all.shape)"
   ]
  },
  {
   "cell_type": "code",
   "execution_count": 98,
   "metadata": {},
   "outputs": [
    {
     "data": {
      "text/plain": [
       "120"
      ]
     },
     "execution_count": 98,
     "metadata": {},
     "output_type": "execute_result"
    }
   ],
   "source": [
    "int(1000000/8333)"
   ]
  },
  {
   "cell_type": "code",
   "execution_count": 90,
   "metadata": {},
   "outputs": [
    {
     "name": "stdout",
     "output_type": "stream",
     "text": [
      "4924803\n"
     ]
    }
   ],
   "source": [
    "for i in range(0,int(4930000/8333)):\n",
    "        start = i*8333\n",
    "        end = start + 8333\n",
    "print(end)"
   ]
  },
  {
   "cell_type": "code",
   "execution_count": null,
   "metadata": {},
   "outputs": [],
   "source": []
  },
  {
   "cell_type": "code",
   "execution_count": null,
   "metadata": {},
   "outputs": [],
   "source": []
  },
  {
   "cell_type": "code",
   "execution_count": null,
   "metadata": {},
   "outputs": [],
   "source": []
  },
  {
   "cell_type": "code",
   "execution_count": null,
   "metadata": {},
   "outputs": [],
   "source": []
  },
  {
   "cell_type": "code",
   "execution_count": null,
   "metadata": {},
   "outputs": [],
   "source": []
  },
  {
   "cell_type": "code",
   "execution_count": null,
   "metadata": {},
   "outputs": [],
   "source": []
  },
  {
   "cell_type": "code",
   "execution_count": null,
   "metadata": {},
   "outputs": [],
   "source": []
  },
  {
   "cell_type": "code",
   "execution_count": null,
   "metadata": {},
   "outputs": [],
   "source": []
  },
  {
   "cell_type": "markdown",
   "metadata": {},
   "source": [
    "## AEspectrum Area & 切削抵抗"
   ]
  },
  {
   "cell_type": "code",
   "execution_count": 3,
   "metadata": {},
   "outputs": [],
   "source": [
    "cf_all = np.load(rf\"Z:\\200 Produced_data\\20221027\\CF\\recalculate\\max1_rotation\\All.npy\")\n",
    "# ae_all = np.load(rf\"Z:\\200 Produced_data\\20221027\\FFTonePath_Focus\\menseki\\Aligned\\All.npy\")\n",
    "# ae_all = ae_all.ravel()[:99408]"
   ]
  },
  {
   "cell_type": "code",
   "execution_count": 121,
   "metadata": {},
   "outputs": [
    {
     "name": "stdout",
     "output_type": "stream",
     "text": [
      "(99408,)\n"
     ]
    }
   ],
   "source": [
    "print(cf_all.shape)"
   ]
  },
  {
   "cell_type": "code",
   "execution_count": 4,
   "metadata": {},
   "outputs": [],
   "source": [
    "ae_0_50 = np.load(rf\"Z:\\200 Produced_data\\20221027\\FFTonePath_Focus\\menseki\\100kHz\\AllNorm_0-50khz_test.npy\")\n",
    "# ae_50_100 = np.load(rf\"Z:\\200 Produced_data\\20221027\\FFTonePath_Focus\\menseki\\100kHz\\AllNorm_50-100khz_test.npy\")\n",
    "# ae_100_150 = np.load(rf\"Z:\\200 Produced_data\\20221027\\FFTonePath_Focus\\menseki\\100kHz\\AllNorm_100-150khz_test.npy\")\n",
    "# ae_150_200 = np.load(rf\"Z:\\200 Produced_data\\20221027\\FFTonePath_Focus\\menseki\\100kHz\\AllNorm_150-200khz_test.npy\")\n",
    "# ae_200_250 = np.load(rf\"Z:\\200 Produced_data\\20221027\\FFTonePath_Focus\\menseki\\100kHz\\AllNorm_200-250khz_test.npy\")\n",
    "# ae_250_300 = np.load(rf\"Z:\\200 Produced_data\\20221027\\FFTonePath_Focus\\menseki\\100kHz\\AllNorm_250-300khz_test.npy\")\n",
    "# ae_300_350 = np.load(rf\"Z:\\200 Produced_data\\20221027\\FFTonePath_Focus\\menseki\\100kHz\\AllNorm_300-350khz_test.npy\")\n",
    "# ae_350_400 = np.load(rf\"Z:\\200 Produced_data\\20221027\\FFTonePath_Focus\\menseki\\100kHz\\AllNorm_350-400khz_test.npy\")\n",
    "ae_400_450 = np.load(rf\"Z:\\200 Produced_data\\20221027\\FFTonePath_Focus\\menseki\\100kHz\\AllNorm_400-450khz_test.npy\")\n",
    "# ae_450_500 = np.load(rf\"Z:\\200 Produced_data\\20221027\\FFTonePath_Focus\\menseki\\100kHz\\AllNorm_450-500khz_test.npy\")\n",
    "\n",
    "ae_0_50 = ae_0_50.ravel()[:99408]\n",
    "# ae_50_100 = ae_50_100.ravel()[:99408]\n",
    "# ae_100_150 = ae_100_150.ravel()[:99408]\n",
    "# ae_150_200 = ae_150_200.ravel()[:99408]\n",
    "# ae_200_250 = ae_200_250.ravel()[:99408]\n",
    "# ae_250_300 = ae_250_300.ravel()[:99408]\n",
    "# ae_300_350 = ae_300_350.ravel()[:99408]\n",
    "# ae_350_400 = ae_350_400.ravel()[:99408]\n",
    "ae_400_450 = ae_400_450.ravel()[:99408]\n",
    "# ae_400_450 = ae_400_450.ravel()\n",
    "# ae_450_500 = ae_450_500.ravel()[:99408]"
   ]
  },
  {
   "cell_type": "code",
   "execution_count": 85,
   "metadata": {},
   "outputs": [],
   "source": [
    "#微分\n",
    "def derivative(func, a, h):\n",
    "    return (func(a + h) - func(a - h)) / (2 * h)\n",
    "h = 1e-5\n",
    "\n",
    "x = np.linspace()\n",
    "\n",
    "dfunc = derivative(cf_all, x, h)\n"
   ]
  },
  {
   "cell_type": "code",
   "execution_count": 14,
   "metadata": {},
   "outputs": [
    {
     "data": {
      "text/plain": [
       "<matplotlib.legend.Legend at 0x1532771aaf0>"
      ]
     },
     "execution_count": 14,
     "metadata": {},
     "output_type": "execute_result"
    }
   ],
   "source": [
    "%matplotlib qt\n",
    "fig = plt.figure(figsize=(11.69*0.9,8.27*0.9), dpi=100)\n",
    "# fig = plt.figure()\n",
    "\n",
    "ax = fig.add_subplot()\n",
    "ax.set_xticks(np.arange(1, 169*591, 591*20))\n",
    "ax.set_xticklabels(np.arange(0,170,20))\n",
    "ax.set_xlabel(xlabel='Path Number', size=18, labelpad=18)\n",
    "ax.set_ylabel(ylabel='Cutting Force[N]', size=18, labelpad=18)\n",
    "\n",
    "\n",
    "\n",
    "\n",
    "\n",
    "# ax.spines['left'].set(position=('outward', -10))\n",
    "# ax.spines['bottom'].set(position=('outward', -10))\n",
    "\n",
    "\n",
    "ax.tick_params(axis = 'x', labelsize = 18)\n",
    "ax.tick_params(axis = 'y', labelsize = 18)\n",
    "\n",
    "ax2 = ax.twinx()\n",
    "# ax3 = ax.twinx()\n",
    "# ax4 = ax.twinx()\n",
    "# ax5 = ax.twinx()\n",
    "# ax6 = ax.twinx()\n",
    "# ax7 = ax.twinx()\n",
    "# ax8 = ax.twinx()\n",
    "# ax9 = ax.twinx()\n",
    "# ax10 = ax.twinx()\n",
    "# ax11 = ax.twinx()\n",
    "\n",
    "\n",
    "\n",
    "# ax2.tick_params(axis = 'y', labelsize = 18)\n",
    "# ax3.tick_params(axis = 'y', labelsize = 32)\n",
    "# ax4.tick_params(axis = 'y', labelsize = 32)\n",
    "# ax5.tick_params(axis = 'y', labelsize = 32)\n",
    "\n",
    "ax2.set_ylabel(ylabel='S (AE spectrum area)', size=18, labelpad=13)\n",
    "\n",
    "\n",
    "# ax3 = ax2.twiny()\n",
    "# ax4 = ax2.twiny()\n",
    "# ax5 = ax2.twiny()\n",
    "# ax6 = ax2.twiny()\n",
    "# ax7 = ax2.twiny()\n",
    "# ax8 = ax2.twiny()\n",
    "# ax9 = ax2.twiny()\n",
    "# ax10 = ax2.twiny()\n",
    "# ax11 = ax2.twiny()\n",
    "\n",
    "\n",
    "\n",
    "# ax3.set_ylabel(ylabel='S (50-100kHz)', size=32, labelpad=13)\n",
    "# ax4.set_ylabel(ylabel='S (200-250kHz)', size=32, labelpad=13)\n",
    "# ax5.set_ylabel(ylabel='S (450-500kHz)', size=32, labelpad=13)\n",
    "\n",
    "\n",
    "# ax2.set_yticks(np.arange(1, 169*591, 591*20))\n",
    "# ax2.set_yticklabels(np.arange(120,170,20))\n",
    "\n",
    "\n",
    "w_size = 591*10\n",
    "x = np.linspace(-1,1,w_size)\n",
    "v = np.exp(-x**2 / 2) / np.sqrt(2 * np.pi)\n",
    "v = v / np.sum(v)\n",
    "v = np.sort(v)[::-1]\n",
    "\n",
    "# v = np.ones(w_size) / w_size\n",
    "# v = [0.125,0.125,0.5,0.125,0.125]\n",
    "# v2 = np.ones(w2_size) / w2_size\n",
    "\n",
    "w2_size = 591*10\n",
    "x2 = np.linspace(-1,1,w2_size)\n",
    "v2 = np.exp(-x2**2 / 2) / np.sqrt(2 * np.pi)\n",
    "v2 = v2 / np.sum(v2)\n",
    "v2 = np.sort(v2)[::-1]\n",
    "\n",
    "\n",
    "#vを正規分布にする\n",
    "# x = np.linspace(-1, 1, w_size)  # 区間[-10,10]を100等分する101点\n",
    "# v = np.exp(-x**2 / 2) / np.sqrt(2 * np.pi)\n",
    "\n",
    "\n",
    "\n",
    "cf_moving_avg = np.convolve(cf_all,v, mode='valid')\n",
    "\n",
    "ae_0_50_moving_avg = np.convolve(ae_0_50,v, mode='valid')\n",
    "# ae_50_100_moving_avg = np.convolve(ae_50_100,v, mode='valid')\n",
    "# ae_100_150_moving_avg = np.convolve(ae_100_150,v, mode='valid')\n",
    "# ae_150_200_moving_avg = np.convolve(ae_150_200,v, mode='valid')\n",
    "# ae_200_250_moving_avg = np.convolve(ae_200_250,v, mode='valid')\n",
    "# ae_250_300_moving_avg = np.convolve(ae_250_300,v, mode='valid')\n",
    "# ae_300_350_moving_avg = np.convolve(ae_300_350,v, mode='valid')\n",
    "# ae_350_400_moving_avg = np.convolve(ae_350_400,v, mode='valid')\n",
    "ae_400_450_moving_avg = np.convolve(ae_400_450,v, mode='valid')\n",
    "# ae_400_450_moving_avg = np.convolve(ae_400_450,v2, mode='valid')\n",
    "# ae_450_500_moving_avg = np.convolve(ae_450_500,v, mode='valid')\n",
    "\n",
    "\n",
    "# plt.plot(d1, lineWidth=\"2\")\n",
    "ax.plot(cf_moving_avg, lineWidth=\"5\", color=\"blue\", label=\"Cutting Force\")\n",
    "\n",
    "\n",
    "# ax2.plot(ae_0_50_moving_avg, lineWidth=\"5\", lineStyle=\"dashdot\", color=\"g\", label=\"S (0-50kHz)\")\n",
    "# ax2.plot(ae_50_100_moving_avg, color=\"r\", lineStyle=\"dotted\", lineWidth=\"3.5\",label=\"S (50-100kHz)\")\n",
    "# ax2.plot(ae_200_250_moving_avg, lineWidth=\"2\", color=\"k\", label=\"S (200-250kHz)\")\n",
    "# ax2.plot(ae_450_500_moving_avg, lineStyle=\"dashdot\",label=\"S (450-500kHz)\")\n",
    "\n",
    "\n",
    "\n",
    "# ax2.plot(ae_0_50_moving_avg, lineStyle=\"dashdot\",label=\"0-50kHz\")\n",
    "# ax3.plot(ae_50_100_moving_avg, lineStyle=\"dashdot\",label=\"50-100kHz\")\n",
    "\n",
    "# ax4.plot(ae_100_150_moving_avg, lineStyle=\"dashdot\",label=\"100-150kHz\")\n",
    "# ax5.plot(ae_150_200_moving_avg, lineStyle=\"dashdot\",label=\"150-200kHz\")\n",
    "# ax6.plot(ae_200_250_moving_avg, lineStyle=\"dashdot\",label=\"200-250kHz\")\n",
    "# ax7.plot(ae_250_300_moving_avg, lineStyle=\"dashdot\",label=\"250-300kHz\")\n",
    "# ax8.plot(ae_300_350_moving_avg, lineStyle=\"dashdot\",label=\"300-350kHz\")\n",
    "# ax9.plot(ae_350_400_moving_avg, lineStyle=\"dashdot\",label=\"350-400kHz\")\n",
    "\n",
    "# ax10.plot(ae_400_450_moving_avg, lineStyle=\"dashdot\",label=\"400-450kHz\")\n",
    "# ax11.plot(ae_450_500_moving_avg, lineStyle=\"dashdot\",label=\"450-500kHz\")\n",
    "\n",
    "\n",
    "\n",
    "ax2.plot(ae_0_50_moving_avg, lineWidth=\"3\", lineStyle=\"dashdot\", color=\"magenta\", label=\"S (0-50kHz)\")\n",
    "# ax2.plot(ae_400_450_moving_avg,lineWidth=\"3\", lineStyle=\"dashdot\", color=\"magenta\",label=\"400-450kHz\")\n",
    "# ax2.plot(ae_450_500_moving_avg,lineWidth=\"3\", lineStyle=\"dashdot\", color=\"red\",label=\"450-500kHz\")\n",
    "\n",
    "\n",
    "\n",
    "\n",
    "# plt.tight_layout()\n",
    "\n",
    "fig.legend(fontsize=26, loc=(0.18,0.75))"
   ]
  },
  {
   "cell_type": "code",
   "execution_count": 79,
   "metadata": {},
   "outputs": [
    {
     "data": {
      "text/plain": [
       "[<matplotlib.lines.Line2D at 0x194d82bf790>]"
      ]
     },
     "execution_count": 79,
     "metadata": {},
     "output_type": "execute_result"
    }
   ],
   "source": [
    "w_size = 591*10\n",
    "x = np.linspace(-1, 1, w_size)  # 区間[-10,10]を100等分する101点\n",
    "v = np.exp(-x**2 / 2) / np.sqrt(2 * np.pi)\n",
    "plt.plot(v)"
   ]
  },
  {
   "cell_type": "code",
   "execution_count": null,
   "metadata": {},
   "outputs": [],
   "source": []
  },
  {
   "cell_type": "code",
   "execution_count": null,
   "metadata": {},
   "outputs": [],
   "source": []
  },
  {
   "cell_type": "code",
   "execution_count": null,
   "metadata": {},
   "outputs": [],
   "source": []
  },
  {
   "cell_type": "code",
   "execution_count": null,
   "metadata": {},
   "outputs": [],
   "source": []
  },
  {
   "cell_type": "code",
   "execution_count": 64,
   "metadata": {},
   "outputs": [
    {
     "data": {
      "text/plain": [
       "array([[1.        , 0.27603558],\n",
       "       [0.27603558, 1.        ]])"
      ]
     },
     "execution_count": 64,
     "metadata": {},
     "output_type": "execute_result"
    }
   ],
   "source": [
    "np.corrcoef(cf_moving_avg, ae_moving_avg)"
   ]
  },
  {
   "cell_type": "code",
   "execution_count": 67,
   "metadata": {},
   "outputs": [],
   "source": [
    "cf_moving_avg"
   ]
  },
  {
   "cell_type": "code",
   "execution_count": 68,
   "metadata": {},
   "outputs": [
    {
     "data": {
      "text/plain": [
       "(93498,)"
      ]
     },
     "execution_count": 68,
     "metadata": {},
     "output_type": "execute_result"
    }
   ],
   "source": []
  },
  {
   "cell_type": "code",
   "execution_count": 62,
   "metadata": {},
   "outputs": [
    {
     "data": {
      "text/plain": [
       "[<matplotlib.lines.Line2D at 0x1613f453760>]"
      ]
     },
     "execution_count": 62,
     "metadata": {},
     "output_type": "execute_result"
    }
   ],
   "source": [
    "%matplotlib qt\n",
    "fig = plt.figure()\n",
    "\n",
    "ax = fig.add_subplot()\n",
    "ax.set_xticks(np.arange(1, 169*591, 591*10))\n",
    "ax.set_xticklabels(np.arange(0,170,10))\n",
    "\n",
    "ax.tick_params(axis = 'x', labelsize = 18)\n",
    "ax.tick_params(axis = 'y', labelsize = 18)\n",
    "\n",
    "ax.set_xlabel(xlabel='Path Number', size=20, labelpad=20)\n",
    "ax.set_ylabel(ylabel='Cutting Force[N]', size=20, labelpad=20)\n",
    "\n",
    "\n",
    "w_size = 591*10\n",
    "v = np.ones(w_size) / w_size\n",
    "cf_moving_avg = np.convolve(cf_all,v, mode='valid')\n",
    "ax.plot(cf_all, lineWidth=\"2\")\n",
    "ax.plot(cf_moving_avg, lineWidth=\"5\", label=\"Cutting Force\")"
   ]
  },
  {
   "cell_type": "code",
   "execution_count": null,
   "metadata": {},
   "outputs": [],
   "source": []
  },
  {
   "cell_type": "code",
   "execution_count": null,
   "metadata": {},
   "outputs": [],
   "source": []
  },
  {
   "cell_type": "code",
   "execution_count": null,
   "metadata": {},
   "outputs": [],
   "source": []
  },
  {
   "cell_type": "code",
   "execution_count": 141,
   "metadata": {},
   "outputs": [
    {
     "data": {
      "text/plain": [
       "[<matplotlib.lines.Line2D at 0x2ba19e24a60>]"
      ]
     },
     "execution_count": 141,
     "metadata": {},
     "output_type": "execute_result"
    }
   ],
   "source": [
    "%matplotlib qt\n",
    "plt.figure()\n",
    "plt.plot(c_min_cf[0],c_min_v[0])"
   ]
  },
  {
   "cell_type": "code",
   "execution_count": 61,
   "metadata": {},
   "outputs": [],
   "source": [
    "cmax = np.array(cutting_max).ravel()\n",
    "cmin = np.array(cutting_min).ravel()"
   ]
  },
  {
   "cell_type": "code",
   "execution_count": 121,
   "metadata": {},
   "outputs": [],
   "source": [
    "%matplotlib qt\n",
    "fig = plt.figure()\n",
    "# plt.plot(cmax)\n",
    "# ax = fig.add_subplot(xlabel='path number', ylabel='cutting force[N]')\n",
    "ax = fig.add_subplot(xlim=(1,169))\n",
    "ax.set_xlabel(xlabel='path number', size=20, labelpad=20)\n",
    "ax.set_ylabel(ylabel='cutting force[N]', size=20, labelpad=20)\n",
    "plt.plot(cmin_avg*(-500), linewidth = 5 ,label = \"avg\" )\n",
    "# v = np.ones(3)/3.0\n",
    "v = np.array([0.1,0.8,0.1])\n",
    "plt.plot(np.convolve(cmin_avg*(-500),v, mode='same'), 'r' , linewidth = 2, label = \"mv_avg(3)\")\n",
    "plt.legend(fontsize=18)\n",
    "ax.tick_params(axis = 'x', labelsize =18)\n",
    "ax.tick_params(axis = 'y', labelsize =18)\n",
    "\n",
    "# plt.plot(cutting_max)"
   ]
  },
  {
   "cell_type": "code",
   "execution_count": 66,
   "metadata": {},
   "outputs": [],
   "source": [
    "cmin_avg = np.average(cutting_min,axis=1)"
   ]
  },
  {
   "cell_type": "markdown",
   "metadata": {},
   "source": [
    "## AE信号FFT　ジェットコースター　　過渡期　通常型　区間の　切削抵抗を見る"
   ]
  },
  {
   "cell_type": "code",
   "execution_count": 15,
   "metadata": {},
   "outputs": [],
   "source": [
    "date = 20221027\n",
    "num = 4\n",
    "path = rf\"Z:\\100 Raw_data\\{date}---切削実験\\Dynamometer\\Cutting\\Dynamo_{num}.tdms\"\n",
    "c_d = load_tdms(path, ch_num=3)"
   ]
  },
  {
   "cell_type": "code",
   "execution_count": 134,
   "metadata": {},
   "outputs": [
    {
     "data": {
      "text/plain": [
       "[<matplotlib.lines.Line2D at 0x2349f511d00>]"
      ]
     },
     "execution_count": 134,
     "metadata": {},
     "output_type": "execute_result"
    }
   ],
   "source": [
    "%matplotlib qt\n",
    "fig = plt.figure()\n",
    "ax = fig.add_subplot()\n",
    "ax.axvspan(3_046_667, 3_053_334, color = \"coral\")\n",
    "plt.plot(c_d[1])"
   ]
  },
  {
   "cell_type": "code",
   "execution_count": 16,
   "metadata": {},
   "outputs": [],
   "source": [
    "date = 20221027\n",
    "num = 4\n",
    "cf_path = rf\"Z:\\100 Raw_data\\{date}---切削実験\\Dynamometer\\Cutting\\Dynamo_{num}.tdms\"\n",
    "ae_path = rf\"Z:\\100 Raw_data\\{date}---切削実験\\AE\\Cutting\\AE_{num}.tdms\"\n",
    "\n",
    "cf_d = load_tdms(cf_path, ch_num=3)\n",
    "ae_d = load_tdms(ae_path, ch_num=3)\n",
    "\n",
    "cf_d_sample_num = len(cf_d[1])\n",
    "ae_d_sample_num = len(ae_d[1])\n",
    "\n",
    "ae_xstart = 9_140_000\n",
    "ae_xend = 9_160_000\n",
    "\n",
    "cf_start = (ae_xstart / ae_d_sample_num) * cf_d_sample_num\n",
    "cf_end = (ae_xend / ae_d_sample_num) * cf_d_sample_num"
   ]
  },
  {
   "cell_type": "code",
   "execution_count": 17,
   "metadata": {},
   "outputs": [
    {
     "data": {
      "text/plain": [
       "[<matplotlib.lines.Line2D at 0x2978cd169a0>]"
      ]
     },
     "execution_count": 17,
     "metadata": {},
     "output_type": "execute_result"
    }
   ],
   "source": [
    "%matplotlib qt\n",
    "fig = plt.figure()\n",
    "ax = fig.add_subplot()\n",
    "ax.axvspan(cf_start, cf_end, color = \"coral\")\n",
    "plt.hlines(0,0,len(c_d[1]), color='r', linestyles='dotted')\n",
    "plt.plot(c_d[1])"
   ]
  },
  {
   "cell_type": "code",
   "execution_count": null,
   "metadata": {},
   "outputs": [],
   "source": []
  },
  {
   "cell_type": "code",
   "execution_count": null,
   "metadata": {},
   "outputs": [],
   "source": []
  },
  {
   "cell_type": "code",
   "execution_count": null,
   "metadata": {},
   "outputs": [],
   "source": []
  },
  {
   "cell_type": "code",
   "execution_count": null,
   "metadata": {},
   "outputs": [],
   "source": []
  },
  {
   "cell_type": "code",
   "execution_count": null,
   "metadata": {},
   "outputs": [],
   "source": []
  },
  {
   "cell_type": "code",
   "execution_count": null,
   "metadata": {},
   "outputs": [],
   "source": []
  },
  {
   "cell_type": "code",
   "execution_count": null,
   "metadata": {},
   "outputs": [],
   "source": []
  },
  {
   "cell_type": "code",
   "execution_count": null,
   "metadata": {},
   "outputs": [],
   "source": []
  },
  {
   "cell_type": "code",
   "execution_count": null,
   "metadata": {},
   "outputs": [],
   "source": []
  },
  {
   "cell_type": "code",
   "execution_count": null,
   "metadata": {},
   "outputs": [],
   "source": []
  },
  {
   "cell_type": "code",
   "execution_count": null,
   "metadata": {},
   "outputs": [],
   "source": []
  },
  {
   "cell_type": "code",
   "execution_count": null,
   "metadata": {},
   "outputs": [],
   "source": []
  },
  {
   "cell_type": "code",
   "execution_count": 90,
   "metadata": {},
   "outputs": [],
   "source": [
    "fig = plt.figure(facecolor='skyblue')\n",
    "ax1 = fig.add_subplot(1, 1, 1)  # 2行3列の1番目\n",
    "ax2 = fig.add_subplot(2, 2, 3)  # 2行2列の3番目\n",
    "ax3 = fig.add_subplot(1, 4, 3)  # 1行4列の4番目\n",
    "\n",
    "fig.savefig('2-1_a.png', facecolor=fig.get_facecolor())"
   ]
  },
  {
   "cell_type": "code",
   "execution_count": 92,
   "metadata": {},
   "outputs": [],
   "source": [
    "fig, axes = plt.subplots(\n",
    "    2,\n",
    "    3,\n",
    "    facecolor=\"skyblue\",\n",
    "    sharex=\"col\",\n",
    "    sharey=True,\n",
    "    subplot_kw=dict(facecolor=\"gray\"),\n",
    ")\n",
    "\n",
    "axes[0, 0].set_xlim(0, 10)  # 一番左上のグラフのx軸の範囲を0～10に設定\n",
    "axes[1, 1].set_xlim(10, 20)\n",
    "axes[1, 2].set_xlim(2, 3)  # 一番右下のグラフのx軸の範囲を2～3に設定\n",
    "axes[0, 1].set_ylim(0, 100)  # 上段中央のグラフのy軸の範囲を0～100に設定\n",
    "\n",
    "fig.savefig(\"2-2_b.png\", facecolor=fig.get_facecolor())"
   ]
  },
  {
   "cell_type": "code",
   "execution_count": 95,
   "metadata": {},
   "outputs": [
    {
     "data": {
      "text/plain": [
       "[None]"
      ]
     },
     "execution_count": 95,
     "metadata": {},
     "output_type": "execute_result"
    }
   ],
   "source": [
    "fig = plt.figure(figsize=(12, 4))\n",
    "ax1 = fig.add_subplot(141, fc='skyblue', xlim=(-5, 10), title='axis1')\n",
    "ax1.spines['left'].set(position=('outward', 10))\n",
    "ax1.spines['bottom'].set(position=('outward', 10))\n",
    "\n",
    "ax2 = fig.add_subplot(142, fc='skyblue', xlim=(-5, 10), title='axis2')\n",
    "ax2.spines['left'].set(position=('axes', 1))\n",
    "ax2.spines['bottom'].set(position=('axes', 1))\n",
    "\n",
    "ax3 = fig.add_subplot(143, fc='skyblue', xlim=(-5, 10), title='axis3')\n",
    "ax3.spines['left'].set(position=('data', -3))\n",
    "ax3.spines['bottom'].set(position=('data', 0.1))\n",
    "\n",
    "ax4 = fig.add_subplot(144, fc='skyblue', xlim=(-5, 10), title='axis4')\n",
    "ax4.spines['left'].set(position='zero')\n",
    "ax4.spines['bottom'].set(position='center')"
   ]
  },
  {
   "cell_type": "code",
   "execution_count": 4,
   "metadata": {},
   "outputs": [
    {
     "data": {
      "text/plain": [
       "[<matplotlib.lines.Line2D at 0x16157301610>]"
      ]
     },
     "execution_count": 4,
     "metadata": {},
     "output_type": "execute_result"
    }
   ],
   "source": [
    "%matplotlib qt\n",
    "fig = plt.figure()\n",
    "\n",
    "\n",
    "\n",
    "date = 20221027\n",
    "path = rf\"Z:\\100 Raw_data\\{date}---切削実験\\Dynamometer\\Cutting\\Dynamo_169.tdms\"\n",
    "c_d = load_tdms(path, ch_num=3)\n",
    "plt.plot(c_d[1])"
   ]
  },
  {
   "cell_type": "code",
   "execution_count": null,
   "metadata": {},
   "outputs": [],
   "source": []
  }
 ],
 "metadata": {
  "kernelspec": {
   "display_name": "Python 3",
   "language": "python",
   "name": "python3"
  },
  "language_info": {
   "codemirror_mode": {
    "name": "ipython",
    "version": 3
   },
   "file_extension": ".py",
   "mimetype": "text/x-python",
   "name": "python",
   "nbconvert_exporter": "python",
   "pygments_lexer": "ipython3",
   "version": "3.8.3"
  }
 },
 "nbformat": 4,
 "nbformat_minor": 4
}
