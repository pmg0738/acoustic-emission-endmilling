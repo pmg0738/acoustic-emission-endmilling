{
 "cells": [
  {
   "cell_type": "code",
   "execution_count": 1,
   "metadata": {},
   "outputs": [],
   "source": [
    "from loadTDMS import *\n",
    "import numpy as np\n",
    "import matplotlib.pyplot as plt\n",
    "# import pandas as pd\n",
    "from tqdm import tqdm\n",
    "from fft_test import *\n",
    "from fft_test_not2power import *"
   ]
  },
  {
   "cell_type": "code",
   "execution_count": 2,
   "metadata": {},
   "outputs": [],
   "source": [
    "x = np.random.rand(25000)"
   ]
  },
  {
   "cell_type": "code",
   "execution_count": 3,
   "metadata": {},
   "outputs": [
    {
     "data": {
      "text/plain": [
       "[<matplotlib.lines.Line2D at 0x1c62e5b1220>]"
      ]
     },
     "execution_count": 3,
     "metadata": {},
     "output_type": "execute_result"
    },
    {
     "data": {
      "image/png": "[encoded data removed]",
      "text/plain": [
       "<Figure size 432x288 with 1 Axes>"
      ]
     },
     "metadata": {
      "needs_background": "light"
     },
     "output_type": "display_data"
    }
   ],
   "source": [
    "plt.plot(x)"
   ]
  },
  {
   "cell_type": "code",
   "execution_count": 30,
   "metadata": {},
   "outputs": [
    {
     "data": {
      "text/plain": [
       "[<matplotlib.lines.Line2D at 0x1c6381a9760>]"
      ]
     },
     "execution_count": 30,
     "metadata": {},
     "output_type": "execute_result"
    }
   ],
   "source": [
    "N = 2**14 # データ数\n",
    "N2 = 2**14 - 1000\n",
    "\n",
    "\n",
    "n = np.arange(N)\n",
    "n2 = np.arange(N2)\n",
    "f1 = 2 # 周期\n",
    "f2 = 6 \n",
    "f3 = 150000\n",
    "f = np.sin(f1 * 2 * np.pi * (n/N)) + np.sin(f2 * 2 * np.pi * (n/N))  + 3*np.sin(f3 * 2 * np.pi * (n/N))\n",
    "f2 = np.sin(f1 * 2 * np.pi * (n2/N2)) + np.sin(f2 * 2 * np.pi * (n2/N2))  + 3*np.sin(f3 * 2 * np.pi * (n2/N2))\n",
    "\n",
    "\n",
    "# グラフ表示\n",
    "plt.figure(figsize=(8, 4))\n",
    "plt.xlabel('n')\n",
    "plt.ylabel('Signal')\n",
    "# plt.plot(f)\n",
    "plt.plot(f2)"
   ]
  },
  {
   "cell_type": "code",
   "execution_count": 33,
   "metadata": {},
   "outputs": [
    {
     "name": "stdout",
     "output_type": "stream",
     "text": [
      "15384\n",
      "16384\n"
     ]
    },
    {
     "data": {
      "text/plain": [
       "[<matplotlib.lines.Line2D at 0x1c63b69bdf0>]"
      ]
     },
     "execution_count": 33,
     "metadata": {},
     "output_type": "execute_result"
    }
   ],
   "source": [
    "%matplotlib qt\n",
    "\n",
    "# 高速フーリエ変換(FFT)\n",
    "F = np.fft.fft(f2)\n",
    "F2 = np.fft.fft(f2,N)\n",
    "\n",
    "print(len(F))\n",
    "print(len(F2))\n",
    "\n",
    "# FFT結果（複素数）を絶対値に変換\n",
    "F_abs = np.abs(F)\n",
    "F_abs2 = np.abs(F2)\n",
    "\n",
    "# 振幅を元に信号に揃える\n",
    "F_abs_amp = F_abs / N2 * 2 # 交流成分はデータ数で割って2倍する\n",
    "F_abs_amp2 = F_abs2 / N * 2\n",
    "\n",
    "# グラフ表示（データ数の半分の周期を表示）\n",
    "plt.plot(F_abs_amp[:int(N2/2)+1])\n",
    "plt.plot(F_abs_amp2[:int(N/2+1)])"
   ]
  },
  {
   "cell_type": "code",
   "execution_count": 6,
   "metadata": {},
   "outputs": [
    {
     "data": {
      "text/plain": [
       "16385"
      ]
     },
     "execution_count": 6,
     "metadata": {},
     "output_type": "execute_result"
    }
   ],
   "source": [
    "path = rf'Z:\\100 Raw_data\\20221027---切削実験\\AE\\Cutting\\AE_3.tdms'\n",
    "d = load_tdms(path, ch_num=3)\n",
    "d = d[0]\n",
    "d = d[:25000]\n",
    "N = len(d)\n",
    "dt = 1/10**6\n",
    "# fq = np.linspace(0, N*dt, N)  # 周波数軸　linspace(開始,終了,分割数)\n",
    "fq = np.linspace(0, 1.0/dt, N)\n",
    "fq2 = np.linspace(0, 1.0/dt, 2**15)\n",
    "\n",
    "fq_out = fq[:int(N/2)+1]\n",
    "fq_out2 = fq2[:int(2**15/2)+1]\n",
    "len(fq_out2)"
   ]
  },
  {
   "cell_type": "code",
   "execution_count": 38,
   "metadata": {},
   "outputs": [
    {
     "data": {
      "text/plain": [
       "[<matplotlib.lines.Line2D at 0x1c63b727670>]"
      ]
     },
     "execution_count": 38,
     "metadata": {},
     "output_type": "execute_result"
    }
   ],
   "source": [
    "plt.plot(d)"
   ]
  },
  {
   "cell_type": "code",
   "execution_count": 10,
   "metadata": {},
   "outputs": [
    {
     "data": {
      "text/plain": [
       "[<matplotlib.lines.Line2D at 0x1dfc8c34af0>]"
      ]
     },
     "execution_count": 10,
     "metadata": {},
     "output_type": "execute_result"
    }
   ],
   "source": [
    "%matplotlib qt\n",
    "\n",
    "F = np.fft.fft(d)\n",
    "F2 = np.fft.fft(d,2**15)\n",
    "F_abs = np.abs(F)\n",
    "F_abs2 = np.abs(F2)\n",
    "F_abs_amp = F_abs / N * 2\n",
    "F_abs_amp2 = F_abs2 / 2**15 * 2\n",
    "\n",
    "# window = np.hanning(N)\n",
    "\n",
    "plt.plot(fq_out, 20 * np.log10(F_abs_amp[:int(N/2)+1]))\n",
    "plt.plot(fq_out2, 20 * np.log10(F_abs_amp2[:int(2**15/2)+1]))\n"
   ]
  },
  {
   "cell_type": "code",
   "execution_count": 2,
   "metadata": {},
   "outputs": [],
   "source": [
    "load_path = rf\"Z:\\100 Raw_data\\20221027---切削実験\\AE\\Cutting\\AE_3.tdms\"\n",
    "d = load_tdms(load_path, ch_num=3)\n",
    "d = d[0]\n",
    "d = d[:25000]"
   ]
  },
  {
   "cell_type": "code",
   "execution_count": 3,
   "metadata": {},
   "outputs": [
    {
     "name": "stdout",
     "output_type": "stream",
     "text": [
      "32768\n",
      "32768\n",
      "32768\n",
      "32768\n",
      "32768\n",
      "32768\n",
      "32768\n",
      "32768\n",
      "32768\n",
      "32768\n",
      "32768\n",
      "32768\n",
      "32768\n",
      "32768\n",
      "32768\n",
      "32768\n",
      "32768\n",
      "32768\n",
      "32768\n",
      "fq_ave1251\n"
     ]
    }
   ],
   "source": [
    "num = 3\n",
    "dt = 1/10**6\n",
    "split_t_r = 0.1 # 1つの枠で全体のどの割合のデータを分析するか。\n",
    "overlap = 0.5  # オーバーラップ率\n",
    "window_F = \"hamming\"  # 窓関数選択: hanning, hamming, blackman\n",
    "y_label = \"amplitude\"\n",
    "y_unit = \"V\"\n",
    "N = len(d)\n",
    "fq = np.linspace(0, N*dt, N)  # 周波数軸　linspace(開始,終了,分割数)\n",
    "output_FN = rf\"C:\\Users\\pmg07\\Desktop\\testFFT\"\n",
    "\n",
    "fq_, amp_ = FFT_main(fq, d, dt, split_t_r, overlap, window_F)\n",
    "fq2_, amp2_ = FFT_main2(fq, d, dt, split_t_r, overlap, window_F)\n",
    "# plot_FFT(fq_, amp_, output_FN, y_label, y_unit,num)\n"
   ]
  },
  {
   "cell_type": "code",
   "execution_count": 6,
   "metadata": {},
   "outputs": [
    {
     "name": "stdout",
     "output_type": "stream",
     "text": [
      "1251\n",
      "1251\n"
     ]
    }
   ],
   "source": [
    "print(len(amp_))\n",
    "print(len(amp2_))"
   ]
  },
  {
   "cell_type": "code",
   "execution_count": 71,
   "metadata": {},
   "outputs": [],
   "source": [
    "fig = plt.figure()\n",
    "ax = fig.add_subplot(111)\n",
    "\n",
    "plt.xlabel('freqency[kHz]', fontsize=16)\n",
    "\n",
    "plt.ylabel(y_label+\"[dB]\", fontsize=16)\n",
    "\n",
    "ax.set_xlim(0, 500000)\n",
    "ax.set_xticklabels([0, 100, 200, 300, 400, 500])\n",
    "ax.set_ylim(-120, 0)\n",
    "ax.set_yticklabels([-120,-100, -80, -60, -40, -20,0])\n",
    "\n",
    "plt.title(rf'{num}path')\n",
    "\n",
    "plt.plot(fq_, 20 * np.log10(amp_))\n",
    "# plt.plot(fq_out, 20 * np.log10(F_abs_amp[:int(N/2)+1]))\n",
    "plt.plot(fq2_, 20 * np.log10(amp2_))\n",
    "plt\n",
    "\n",
    "ax.grid()\n",
    "p = plt.tick_params(labelsize=16)\n",
    "plt.tight_layout()"
   ]
  },
  {
   "cell_type": "code",
   "execution_count": null,
   "metadata": {},
   "outputs": [],
   "source": []
  }
 ],
 "metadata": {
  "kernelspec": {
   "display_name": "Python 3",
   "language": "python",
   "name": "python3"
  },
  "language_info": {
   "codemirror_mode": {
    "name": "ipython",
    "version": 3
   },
   "file_extension": ".py",
   "mimetype": "text/x-python",
   "name": "python",
   "nbconvert_exporter": "python",
   "pygments_lexer": "ipython3",
   "version": "3.8.3"
  }
 },
 "nbformat": 4,
 "nbformat_minor": 4
}
