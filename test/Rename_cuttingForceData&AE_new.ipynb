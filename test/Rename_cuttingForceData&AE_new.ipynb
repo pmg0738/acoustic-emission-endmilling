{
 "cells": [
  {
   "cell_type": "markdown",
   "metadata": {},
   "source": [
    "# Rename cutting force data\n",
    "\n",
    "- 100 Raw_data\n",
    "    - AE\n",
    "    - Dynamometer\n",
    "        - Cutting\n",
    "            - Dynamo_1.tdms\n",
    "            - Dynamo_2.tdms\n",
    "            - ・・・・\n",
    "        - Non-Cutting\n",
    "            - Dynamo_1.tdms\n",
    "            - Dynamo_2.tdms\n",
    "            - ・・・・"
   ]
  },
  {
   "cell_type": "code",
   "execution_count": 2,
   "metadata": {},
   "outputs": [],
   "source": [
    "import os\n",
    "from tqdm import tqdm"
   ]
  },
  {
   "cell_type": "code",
   "execution_count": 4,
   "metadata": {},
   "outputs": [
    {
     "name": "stderr",
     "output_type": "stream",
     "text": [
      "100%|██████████████████████████████████████| 368/368 [00:21<00:00, 16.95it/s]\n"
     ]
    }
   ],
   "source": [
    "# os.rename(変更前ファイル、変更後ファイル)\n",
    "for i in tqdm(range(1,736)):\n",
    "    old_name = rf\"Y:\\park\\100 Raw_data\\20220630---切削実験\\Dynamometer\\renamed\\Dynamometer_{i}_nc.tdms\"\n",
    "    new_name = rf\"Y:\\park\\100 Raw_data\\20220630---切削実験\\Dynamometer\\Non-Cutting\\Dynamo_{i}.tdms\"\n",
    "    os.rename(old_name, new_name)"
   ]
  },
  {
   "cell_type": "code",
   "execution_count": 5,
   "metadata": {},
   "outputs": [
    {
     "name": "stderr",
     "output_type": "stream",
     "text": [
      "100%|██████████████████████████████████████| 735/735 [00:34<00:00, 21.56it/s]\n"
     ]
    }
   ],
   "source": [
    "# os.rename(変更前ファイル、変更後ファイル)\n",
    "for i in tqdm(range(1,736)):\n",
    "    old_name = rf\"Y:\\park\\100 Raw_data\\20220630---切削実験\\Dynamometer\\renamed\\Dynamometer_{i}.tdms\"\n",
    "    new_name = rf\"Y:\\park\\100 Raw_data\\20220630---切削実験\\Dynamometer\\Cutting\\Dynamo_{i}.tdms\"\n",
    "    os.rename(old_name, new_name)"
   ]
  },
  {
   "cell_type": "code",
   "execution_count": 6,
   "metadata": {},
   "outputs": [
    {
     "name": "stderr",
     "output_type": "stream",
     "text": [
      "100%|██████████████████████████████████████| 368/368 [00:13<00:00, 27.65it/s]\n"
     ]
    }
   ],
   "source": [
    "# os.rename(変更前ファイル、変更後ファイル)\n",
    "for i in tqdm(range(2,738,2)):\n",
    "    old_name = rf\"Y:\\park\\100 Raw_data\\20220630---切削実験\\Dynamometer\\Non-Cutting\\Dynamometer_{i}_nc.tdms\"\n",
    "    new_name = rf\"Y:\\park\\100 Raw_data\\20220630---切削実験\\Dynamometer\\Non-Cutting\\Dynamo_{i}.tdms\"\n",
    "    os.rename(old_name, new_name)"
   ]
  },
  {
   "cell_type": "code",
   "execution_count": 19,
   "metadata": {},
   "outputs": [
    {
     "name": "stderr",
     "output_type": "stream",
     "text": [
      "100%|██████████████████████████████████████| 369/369 [00:13<00:00, 27.19it/s]\n"
     ]
    }
   ],
   "source": [
    "# os.rename(変更前ファイル、変更後ファイル)\n",
    "for i in tqdm(range(23,392)):\n",
    "    if(i%2==1):\n",
    "        num = int((i-23)/2 + 1)\n",
    "        old_name = rf\"Y:\\park\\100 Raw_data\\20220120---切削実験\\Dynamometer\\1-5000\\Dynamometer_{i}.tdms\"\n",
    "        new_name = rf\"Y:\\park\\100 Raw_data\\20220120---切削実験\\Dynamometer\\Cutting\\Dynamo_{num}.tdms\"\n",
    "        os.rename(old_name, new_name)\n",
    "    if(i%2==0):\n",
    "        num = int((i-24)/2 + 1)\n",
    "        old_name = rf\"Y:\\park\\100 Raw_data\\20220120---切削実験\\Dynamometer\\1-5000\\Dynamometer_{i}.tdms\"\n",
    "        new_name = rf\"Y:\\park\\100 Raw_data\\20220120---切削実験\\Dynamometer\\Non-Cutting\\Dynamo_{num}.tdms\"\n",
    "        os.rename(old_name, new_name)"
   ]
  },
  {
   "cell_type": "code",
   "execution_count": 55,
   "metadata": {
    "scrolled": true
   },
   "outputs": [
    {
     "name": "stderr",
     "output_type": "stream",
     "text": [
      "100%|████████████████████████████████████████| 54/54 [00:01<00:00, 32.84it/s]\n"
     ]
    }
   ],
   "source": [
    "# os.rename(変更前ファイル、変更後ファイル)\n",
    "for i in tqdm(range(119,173)):\n",
    "#     print(i)\n",
    "    if(i%2==1):\n",
    "        num = int((i-119)/2 +1)\n",
    "#         old_name = rf\"Y:\\park\\100 Raw_data\\20211025---切削実験\\AE\\AE_{i}.tdms\"\n",
    "#         new_name = rf\"Y:\\park\\100 Raw_data\\20211025---切削実験\\AE\\Cutting\\AE_{num}.tdms\"\n",
    "#         os.rename(old_name, new_name)\n",
    "        old = rf\"Y:\\park\\100 Raw_data\\20211025---切削実験\\Dynamometer\\Cutting\\Dynamo_{i}.tdms\"\n",
    "        new = rf\"Y:\\park\\100 Raw_data\\20211025---切削実験\\Dynamometer\\Cutting\\Dynamo_{num}.tdms\"\n",
    "        os.rename(old, new)\n",
    "#         print(num,\"cut\")\n",
    "    if(i%2==0):\n",
    "        num = int((i-120)/2 +1)\n",
    "#         old_name = rf\"Y:\\park\\100 Raw_data\\20211025---切削実験\\AE\\AE_{i}.tdms\"\n",
    "#         new_name = rf\"Y:\\park\\100 Raw_data\\20211025---切削実験\\Ae\\Non-Cutting\\AE_{num}.tdms\"\n",
    "#         os.rename(old_name, new_name)\n",
    "        old = rf\"Y:\\park\\100 Raw_data\\20211025---切削実験\\Dynamometer\\Non-Cutting\\Dynamo_{i}.tdms\"\n",
    "        new = rf\"Y:\\park\\100 Raw_data\\20211025---切削実験\\Dynamometer\\Non-Cutting\\Dynamo_{num}.tdms\"\n",
    "        os.rename(old, new)\n",
    "#         print(num,\"non-cut\")"
   ]
  },
  {
   "cell_type": "markdown",
   "metadata": {},
   "source": [
    "## 2022 11/15"
   ]
  },
  {
   "cell_type": "code",
   "execution_count": 7,
   "metadata": {},
   "outputs": [
    {
     "name": "stderr",
     "output_type": "stream",
     "text": [
      "100%|██████████| 481/481 [00:02<00:00, 185.41it/s]\n"
     ]
    }
   ],
   "source": [
    "for i in tqdm(range(24,505)):\n",
    "#     print(i)\n",
    "    if(i%2 == 0):\n",
    "        num = int((i-24)/2 + 1)\n",
    "#         print(num)\n",
    "        old = rf\"Z:\\100 Raw_data\\20211115---切削実験\\Dynamometer\\1-5000\\Dynamometer_{i}.tdms\"\n",
    "        new = rf\"Z:\\100 Raw_data\\20211115---切削実験\\Dynamometer\\Cutting\\Dynamo_{num}.tdms\"\n",
    "        os.rename(old, new)\n",
    "#         print(num)\n",
    "    if(i%2 == 1):\n",
    "        num = int((i-24)/2 + 1)\n",
    "#         print(num)\n",
    "        old = rf\"Z:\\100 Raw_data\\20211115---切削実験\\Dynamometer\\1-5000\\Dynamometer_{i}.tdms\"\n",
    "        new = rf\"Z:\\100 Raw_data\\20211115---切削実験\\Dynamometer\\Non-Cutting\\Dynamo_{num}.tdms\"\n",
    "        os.rename(old, new)\n",
    "#         print(num)"
   ]
  },
  {
   "cell_type": "code",
   "execution_count": 4,
   "metadata": {},
   "outputs": [
    {
     "data": {
      "text/plain": [
       "240"
      ]
     },
     "execution_count": 4,
     "metadata": {},
     "output_type": "execute_result"
    }
   ],
   "source": [
    "int((503-24)/2 + 1)"
   ]
  },
  {
   "cell_type": "markdown",
   "metadata": {},
   "source": [
    "## 2022 10/27"
   ]
  },
  {
   "cell_type": "code",
   "execution_count": 8,
   "metadata": {},
   "outputs": [
    {
     "name": "stderr",
     "output_type": "stream",
     "text": [
      "  2%|▏         | 6/338 [00:00<00:05, 59.00it/s]"
     ]
    },
    {
     "name": "stdout",
     "output_type": "stream",
     "text": [
      "3\n",
      "4\n",
      "5\n",
      "6\n",
      "7\n",
      "8\n",
      "9\n",
      "10\n",
      "11\n",
      "12\n",
      "13\n"
     ]
    },
    {
     "name": "stderr",
     "output_type": "stream",
     "text": [
      "  5%|▌         | 18/338 [00:00<00:05, 57.39it/s]"
     ]
    },
    {
     "name": "stdout",
     "output_type": "stream",
     "text": [
      "14\n",
      "15\n",
      "16\n",
      "17\n",
      "18\n",
      "19\n",
      "20\n",
      "21\n",
      "22\n",
      "23\n",
      "24\n",
      "25\n"
     ]
    },
    {
     "name": "stderr",
     "output_type": "stream",
     "text": [
      "  9%|▉         | 31/338 [00:00<00:05, 60.92it/s]"
     ]
    },
    {
     "name": "stdout",
     "output_type": "stream",
     "text": [
      "26\n",
      "27\n",
      "28\n",
      "29\n",
      "30\n",
      "31\n",
      "32\n",
      "33\n",
      "34\n",
      "35\n",
      "36\n",
      "37\n",
      "38\n"
     ]
    },
    {
     "name": "stderr",
     "output_type": "stream",
     "text": [
      " 13%|█▎        | 44/338 [00:00<00:05, 57.52it/s]"
     ]
    },
    {
     "name": "stdout",
     "output_type": "stream",
     "text": [
      "39\n",
      "40\n",
      "41\n",
      "42\n",
      "43\n",
      "44\n",
      "45\n",
      "46\n",
      "47\n",
      "48\n",
      "49\n",
      "50\n",
      "51\n"
     ]
    },
    {
     "name": "stderr",
     "output_type": "stream",
     "text": [
      " 18%|█▊        | 60/338 [00:00<00:04, 62.59it/s]"
     ]
    },
    {
     "name": "stdout",
     "output_type": "stream",
     "text": [
      "52\n",
      "53\n",
      "54\n",
      "55\n",
      "56\n",
      "57\n",
      "58\n",
      "59\n",
      "60\n",
      "61\n",
      "62\n",
      "63\n",
      "64\n",
      "65\n"
     ]
    },
    {
     "name": "stderr",
     "output_type": "stream",
     "text": [
      " 22%|██▏       | 74/338 [00:01<00:04, 63.58it/s]"
     ]
    },
    {
     "name": "stdout",
     "output_type": "stream",
     "text": [
      "66\n",
      "67\n",
      "68\n",
      "69\n",
      "70\n",
      "71\n",
      "72\n",
      "73\n",
      "74\n",
      "75\n",
      "76\n"
     ]
    },
    {
     "name": "stderr",
     "output_type": "stream",
     "text": [
      "\r",
      " 24%|██▍       | 82/338 [00:01<00:03, 64.88it/s]"
     ]
    },
    {
     "name": "stdout",
     "output_type": "stream",
     "text": [
      "77\n",
      "78\n",
      "79\n",
      "80\n",
      "81\n",
      "82\n",
      "83\n",
      "84\n",
      "85\n",
      "86\n",
      "87\n",
      "88\n",
      "89\n",
      "90\n",
      "91\n"
     ]
    },
    {
     "name": "stderr",
     "output_type": "stream",
     "text": [
      " 29%|██▉       | 98/338 [00:01<00:03, 68.71it/s]"
     ]
    },
    {
     "name": "stdout",
     "output_type": "stream",
     "text": [
      "92\n",
      "93\n",
      "94\n",
      "95\n",
      "96\n",
      "97\n",
      "98\n",
      "99\n",
      "100\n",
      "101\n",
      "102\n",
      "103\n",
      "104\n"
     ]
    },
    {
     "name": "stderr",
     "output_type": "stream",
     "text": [
      " 35%|███▍      | 118/338 [00:01<00:02, 79.17it/s]"
     ]
    },
    {
     "name": "stdout",
     "output_type": "stream",
     "text": [
      "105\n",
      "106\n",
      "107\n",
      "108\n",
      "109\n",
      "110\n",
      "111\n",
      "112\n",
      "113\n",
      "114\n",
      "115\n",
      "116\n",
      "117\n",
      "118\n",
      "119\n",
      "120\n",
      "121\n",
      "122\n",
      "123\n"
     ]
    },
    {
     "name": "stderr",
     "output_type": "stream",
     "text": [
      " 41%|████      | 138/338 [00:01<00:02, 85.14it/s]"
     ]
    },
    {
     "name": "stdout",
     "output_type": "stream",
     "text": [
      "124\n",
      "125\n",
      "126\n",
      "127\n",
      "128\n",
      "129\n",
      "130\n",
      "131\n",
      "132\n",
      "133\n",
      "134\n",
      "135\n",
      "136\n",
      "137\n",
      "138\n",
      "139\n",
      "140\n",
      "141\n",
      "142\n",
      "143\n",
      "144\n",
      "145"
     ]
    },
    {
     "name": "stderr",
     "output_type": "stream",
     "text": [
      " 47%|████▋     | 160/338 [00:02<00:01, 90.69it/s]"
     ]
    },
    {
     "name": "stdout",
     "output_type": "stream",
     "text": [
      "\n",
      "146\n",
      "147\n",
      "148\n",
      "149\n",
      "150\n",
      "151\n",
      "152\n",
      "153\n",
      "154\n",
      "155\n",
      "156\n",
      "157\n",
      "158\n",
      "159\n",
      "160\n",
      "161\n",
      "162\n",
      "163\n",
      "164\n"
     ]
    },
    {
     "name": "stderr",
     "output_type": "stream",
     "text": [
      "\r",
      " 51%|█████     | 172/338 [00:02<00:01, 95.94it/s]"
     ]
    },
    {
     "name": "stdout",
     "output_type": "stream",
     "text": [
      "165\n",
      "166\n",
      "167\n",
      "168\n",
      "169\n",
      "170\n",
      "171\n",
      "172\n",
      "173\n",
      "174\n",
      "175\n",
      "176\n",
      "177\n",
      "178\n",
      "179\n",
      "180\n",
      "181\n",
      "182\n",
      "183\n",
      "184\n",
      "185\n"
     ]
    },
    {
     "name": "stderr",
     "output_type": "stream",
     "text": [
      " 58%|█████▊    | 197/338 [00:02<00:01, 106.64it/s]"
     ]
    },
    {
     "name": "stdout",
     "output_type": "stream",
     "text": [
      "186\n",
      "187\n",
      "188\n",
      "189\n",
      "190\n",
      "191\n",
      "192\n",
      "193\n",
      "194\n",
      "195\n",
      "196\n",
      "197\n",
      "198\n",
      "199\n",
      "200\n",
      "201\n",
      "202\n",
      "203\n",
      "204\n",
      "205\n",
      "206\n",
      "207"
     ]
    },
    {
     "name": "stderr",
     "output_type": "stream",
     "text": [
      " 65%|██████▌   | 220/338 [00:02<00:01, 109.68it/s]"
     ]
    },
    {
     "name": "stdout",
     "output_type": "stream",
     "text": [
      "\n",
      "208\n",
      "209\n",
      "210\n",
      "211\n",
      "212\n",
      "213\n",
      "214\n",
      "215\n",
      "216\n",
      "217\n",
      "218\n",
      "219\n",
      "220\n",
      "221\n",
      "222\n",
      "223\n",
      "224\n",
      "225\n",
      "226\n",
      "227\n",
      "228\n",
      "229\n"
     ]
    },
    {
     "name": "stderr",
     "output_type": "stream",
     "text": [
      " 74%|███████▍  | 250/338 [00:02<00:00, 122.15it/s]"
     ]
    },
    {
     "name": "stdout",
     "output_type": "stream",
     "text": [
      "230\n",
      "231\n",
      "232\n",
      "233\n",
      "234\n",
      "235\n",
      "236\n",
      "237\n",
      "238\n",
      "239\n",
      "240\n",
      "241\n",
      "242\n",
      "243\n",
      "244\n",
      "245\n",
      "246\n",
      "247\n",
      "248\n",
      "249\n",
      "250\n",
      "251\n",
      "252\n",
      "253\n",
      "254\n"
     ]
    },
    {
     "name": "stderr",
     "output_type": "stream",
     "text": [
      " 82%|████████▏ | 276/338 [00:03<00:00, 125.75it/s]"
     ]
    },
    {
     "name": "stdout",
     "output_type": "stream",
     "text": [
      "255\n",
      "256\n",
      "257\n",
      "258\n",
      "259\n",
      "260\n",
      "261\n",
      "262\n",
      "263\n",
      "264\n",
      "265\n",
      "266\n",
      "267\n",
      "268\n",
      "269\n",
      "270\n",
      "271\n",
      "272\n",
      "273\n",
      "274\n",
      "275\n",
      "276\n",
      "277\n",
      "278\n"
     ]
    },
    {
     "name": "stderr",
     "output_type": "stream",
     "text": [
      "\r",
      " 86%|████████▌ | 291/338 [00:03<00:00, 130.17it/s]"
     ]
    },
    {
     "name": "stdout",
     "output_type": "stream",
     "text": [
      "279\n",
      "280\n",
      "281\n",
      "282\n",
      "283\n",
      "284\n",
      "285\n",
      "286\n",
      "287\n",
      "288\n",
      "289\n",
      "290\n",
      "291\n",
      "292\n",
      "293\n",
      "294\n",
      "295\n",
      "296\n",
      "297\n",
      "298\n",
      "299\n",
      "300\n",
      "301\n",
      "302\n",
      "303\n",
      "304\n",
      "305\n",
      "306\n",
      "307\n"
     ]
    },
    {
     "name": "stderr",
     "output_type": "stream",
     "text": [
      " 96%|█████████▌| 325/338 [00:03<00:00, 144.84it/s]"
     ]
    },
    {
     "name": "stdout",
     "output_type": "stream",
     "text": [
      "308\n",
      "309\n",
      "310\n",
      "311\n",
      "312\n",
      "313\n",
      "314\n",
      "315\n",
      "316\n",
      "317\n",
      "318\n",
      "319\n",
      "320\n",
      "321\n",
      "322\n",
      "323\n",
      "324\n",
      "325\n",
      "326\n",
      "327\n",
      "328\n",
      "329\n",
      "330\n",
      "331\n",
      "332\n",
      "333\n",
      "334\n",
      "335\n",
      "336\n",
      "337\n",
      "338"
     ]
    },
    {
     "name": "stderr",
     "output_type": "stream",
     "text": [
      "\r",
      "100%|██████████| 338/338 [00:03<00:00, 95.90it/s] "
     ]
    },
    {
     "name": "stdout",
     "output_type": "stream",
     "text": [
      "\n",
      "339\n",
      "340\n"
     ]
    },
    {
     "name": "stderr",
     "output_type": "stream",
     "text": [
      "\n"
     ]
    }
   ],
   "source": [
    "for i in tqdm(range(3,341)):\n",
    "    print(i)\n",
    "    if(i%2 == 0):\n",
    "        num = int((i-4)/2 + 1)\n",
    "        old = rf\"Z:\\100 Raw_data\\20221027---切削実験\\AE\\AE_{i}.tdms\"\n",
    "        new = rf\"Z:\\100 Raw_data\\20221027---切削実験\\AE\\Cutting\\AE_{num}.tdms\"\n",
    "        os.rename(old, new)\n",
    "#         print(num)\n",
    "    if(i%2 == 1):\n",
    "        num = int((i-3)/2 + 1)\n",
    "        old = rf\"Z:\\100 Raw_data\\20221027---切削実験\\AE\\AE_{i}.tdms\"\n",
    "        new = rf\"Z:\\100 Raw_data\\20221027---切削実験\\AE\\Non-Cutting\\AE_{num}.tdms\"\n",
    "        os.rename(old, new)\n",
    "#         print(num)"
   ]
  },
  {
   "cell_type": "code",
   "execution_count": 9,
   "metadata": {},
   "outputs": [
    {
     "name": "stderr",
     "output_type": "stream",
     "text": [
      "100%|██████████| 338/338 [00:03<00:00, 105.17it/s]\n"
     ]
    }
   ],
   "source": [
    "for i in tqdm(range(3,341)):\n",
    "    if(i%2 == 0):\n",
    "        num = int((i-4)/2 + 1)\n",
    "        old = rf\"Z:\\100 Raw_data\\20221027---切削実験\\Dynamometer\\Dynamometer_{i}.tdms\"\n",
    "        new = rf\"Z:\\100 Raw_data\\20221027---切削実験\\Dynamometer\\Cutting\\Dynamo_{num}.tdms\"\n",
    "        os.rename(old, new)\n",
    "\n",
    "    if(i%2 == 1):\n",
    "        num = int((i-3)/2 + 1)\n",
    "        old = rf\"Z:\\100 Raw_data\\20221027---切削実験\\Dynamometer\\Dynamometer_{i}.tdms\"\n",
    "        new = rf\"Z:\\100 Raw_data\\20221027---切削実験\\Dynamometer\\Non-Cutting\\Dynamo_{num}.tdms\"\n",
    "        os.rename(old, new)"
   ]
  },
  {
   "cell_type": "markdown",
   "metadata": {},
   "source": [
    "## 20230113"
   ]
  },
  {
   "cell_type": "code",
   "execution_count": 13,
   "metadata": {},
   "outputs": [
    {
     "name": "stderr",
     "output_type": "stream",
     "text": [
      "  5%|▍         | 9/181 [00:00<00:02, 83.26it/s]"
     ]
    },
    {
     "name": "stdout",
     "output_type": "stream",
     "text": [
      "19.tdms ====> 1path (non-cutting)\n",
      "20.tdms ====> 1path\n",
      "21.tdms ====> 2path (non-cutting)\n",
      "22.tdms ====> 2path\n",
      "23.tdms ====> 3path (non-cutting)\n",
      "24.tdms ====> 3path\n",
      "25.tdms ====> 4path (non-cutting)\n",
      "26.tdms ====> 4path\n",
      "27.tdms ====> 5path (non-cutting)\n",
      "28.tdms ====> 5path\n",
      "29.tdms ====> 6path (non-cutting)\n",
      "30.tdms ====> 6path\n",
      "31.tdms ====> 7path (non-cutting)\n",
      "32.tdms ====> 7path\n",
      "33.tdms ====> 8path (non-cutting)\n",
      "34.tdms ====> 8path\n",
      "35.tdms ====> 9path (non-cutting)\n",
      "36.tdms ====> 9path\n",
      "37.tdms ====> 10path (non-cutting)\n"
     ]
    },
    {
     "name": "stderr",
     "output_type": "stream",
     "text": [
      " 17%|█▋        | 31/181 [00:00<00:01, 92.11it/s]"
     ]
    },
    {
     "name": "stdout",
     "output_type": "stream",
     "text": [
      "38.tdms ====> 10path\n",
      "39.tdms ====> 11path (non-cutting)\n",
      "40.tdms ====> 11path\n",
      "41.tdms ====> 12path (non-cutting)\n",
      "42.tdms ====> 12path\n",
      "43.tdms ====> 13path (non-cutting)\n",
      "44.tdms ====> 13path\n",
      "45.tdms ====> 14path (non-cutting)\n",
      "46.tdms ====> 14path\n",
      "47.tdms ====> 15path (non-cutting)\n",
      "48.tdms ====> 15path\n",
      "49.tdms ====> 16path (non-cutting)\n",
      "50.tdms ====> 16path\n",
      "51.tdms ====> 17path (non-cutting)\n",
      "52.tdms ====> 17path\n",
      "53.tdms ====> 18path (non-cutting)\n",
      "54.tdms ====> 18path\n",
      "55.tdms ====> 19path (non-cutting)\n",
      "56.tdms ====> 19path\n",
      "57.tdms ====> 20path (non-cutting)\n"
     ]
    },
    {
     "name": "stderr",
     "output_type": "stream",
     "text": [
      " 28%|██▊       | 50/181 [00:00<00:01, 91.11it/s]"
     ]
    },
    {
     "name": "stdout",
     "output_type": "stream",
     "text": [
      "58.tdms ====> 20path\n",
      "59.tdms ====> 21path (non-cutting)\n",
      "60.tdms ====> 21path\n",
      "61.tdms ====> 22path (non-cutting)\n",
      "62.tdms ====> 22path\n",
      "63.tdms ====> 23path (non-cutting)\n",
      "64.tdms ====> 23path\n",
      "65.tdms ====> 24path (non-cutting)\n",
      "66.tdms ====> 24path\n",
      "67.tdms ====> 25path (non-cutting)\n",
      "68.tdms ====> 25path\n",
      "69.tdms ====> 26path (non-cutting)\n",
      "70.tdms ====> 26path\n",
      "71.tdms ====> 27path (non-cutting)\n",
      "72.tdms ====> 27path\n",
      "73.tdms ====> 28path (non-cutting)\n",
      "74.tdms ====> 28path\n"
     ]
    },
    {
     "name": "stderr",
     "output_type": "stream",
     "text": [
      " 40%|███▉      | 72/181 [00:00<00:01, 94.49it/s]"
     ]
    },
    {
     "name": "stdout",
     "output_type": "stream",
     "text": [
      "75.tdms ====> 29path (non-cutting)\n",
      "76.tdms ====> 29path\n",
      "77.tdms ====> 30path (non-cutting)\n",
      "78.tdms ====> 30path\n",
      "79.tdms ====> 31path (non-cutting)\n",
      "80.tdms ====> 31path\n",
      "81.tdms ====> 32path (non-cutting)\n",
      "82.tdms ====> 32path\n",
      "83.tdms ====> 33path (non-cutting)\n",
      "84.tdms ====> 33path\n",
      "85.tdms ====> 34path (non-cutting)\n",
      "86.tdms ====> 34path\n",
      "87.tdms ====> 35path (non-cutting)\n",
      "88.tdms ====> 35path\n",
      "89.tdms ====> 36path (non-cutting)\n",
      "90.tdms ====> 36path\n",
      "91.tdms ====> 37path (non-cutting)\n",
      "92.tdms ====> 37path\n",
      "93.tdms ====> 38path (non-cutting)\n"
     ]
    },
    {
     "name": "stderr",
     "output_type": "stream",
     "text": [
      " 50%|████▉     | 90/181 [00:00<00:01, 88.34it/s]"
     ]
    },
    {
     "name": "stdout",
     "output_type": "stream",
     "text": [
      "94.tdms ====> 38path\n",
      "95.tdms ====> 39path (non-cutting)\n",
      "96.tdms ====> 39path\n",
      "97.tdms ====> 40path (non-cutting)\n",
      "98.tdms ====> 40path\n",
      "99.tdms ====> 41path (non-cutting)\n",
      "100.tdms ====> 41path\n",
      "101.tdms ====> 42path (non-cutting)\n",
      "102.tdms ====> 42path\n",
      "103.tdms ====> 43path (non-cutting)\n",
      "104.tdms ====> 43path\n",
      "105.tdms ====> 44path (non-cutting)\n",
      "106.tdms ====> 44path\n",
      "107.tdms ====> 45path (non-cutting)\n",
      "108.tdms ====> 45path\n",
      "109.tdms ====> 46path (non-cutting)\n",
      "110.tdms ====> 46path\n"
     ]
    },
    {
     "name": "stderr",
     "output_type": "stream",
     "text": [
      " 60%|█████▉    | 108/181 [00:01<00:00, 86.52it/s]"
     ]
    },
    {
     "name": "stdout",
     "output_type": "stream",
     "text": [
      "111.tdms ====> 47path (non-cutting)\n",
      "112.tdms ====> 47path\n",
      "113.tdms ====> 48path (non-cutting)\n",
      "114.tdms ====> 48path\n",
      "115.tdms ====> 49path (non-cutting)\n",
      "116.tdms ====> 49path\n",
      "117.tdms ====> 50path (non-cutting)\n",
      "118.tdms ====> 50path\n",
      "119.tdms ====> 51path (non-cutting)\n",
      "120.tdms ====> 51path\n",
      "121.tdms ====> 52path (non-cutting)\n",
      "122.tdms ====> 52path\n",
      "123.tdms ====> 53path (non-cutting)\n",
      "124.tdms ====> 53path\n",
      "125.tdms ====> 54path (non-cutting)\n",
      "126.tdms ====> 54path\n",
      "127.tdms ====> 55path (non-cutting)\n",
      "128.tdms ====> 55path"
     ]
    },
    {
     "name": "stderr",
     "output_type": "stream",
     "text": [
      "\r",
      " 65%|██████▌   | 118/181 [00:01<00:00, 88.88it/s]"
     ]
    },
    {
     "name": "stdout",
     "output_type": "stream",
     "text": [
      "\n",
      "129.tdms ====> 56path (non-cutting)\n",
      "130.tdms ====> 56path\n",
      "131.tdms ====> 57path (non-cutting)\n",
      "132.tdms ====> 57path\n",
      "133.tdms ====> 58path (non-cutting)\n",
      "134.tdms ====> 58path\n",
      "135.tdms ====> 59path (non-cutting)\n",
      "136.tdms ====> 59path\n",
      "137.tdms ====> 60path (non-cutting)\n",
      "138.tdms ====> 60path\n",
      "139.tdms ====> 61path (non-cutting)\n",
      "140.tdms ====> 61path\n",
      "141.tdms ====> 62path (non-cutting)\n",
      "142.tdms ====> 62path\n",
      "143.tdms ====> 63path (non-cutting)\n",
      "144.tdms ====> 63path\n",
      "145.tdms ====> 64path (non-cutting)\n",
      "146.tdms ====> 64path\n"
     ]
    },
    {
     "name": "stderr",
     "output_type": "stream",
     "text": [
      " 77%|███████▋  | 140/181 [00:01<00:00, 94.51it/s]"
     ]
    },
    {
     "name": "stdout",
     "output_type": "stream",
     "text": [
      "147.tdms ====> 65path (non-cutting)\n",
      "148.tdms ====> 65path\n",
      "149.tdms ====> 66path (non-cutting)\n",
      "150.tdms ====> 66path\n",
      "151.tdms ====> 67path (non-cutting)\n",
      "152.tdms ====> 67path\n",
      "153.tdms ====> 68path (non-cutting)\n",
      "154.tdms ====> 68path\n",
      "155.tdms ====> 69path (non-cutting)\n",
      "156.tdms ====> 69path\n",
      "157.tdms ====> 70path (non-cutting)\n",
      "158.tdms ====> 70path\n",
      "159.tdms ====> 71path (non-cutting)\n",
      "160.tdms ====> 71path\n",
      "161.tdms ====> 72path (non-cutting)\n",
      "162.tdms ====> 72path\n",
      "163.tdms ====> 73path (non-cutting)\n",
      "164.tdms ====> 73path\n"
     ]
    },
    {
     "name": "stderr",
     "output_type": "stream",
     "text": [
      " 88%|████████▊ | 160/181 [00:01<00:00, 89.35it/s]"
     ]
    },
    {
     "name": "stdout",
     "output_type": "stream",
     "text": [
      "165.tdms ====> 74path (non-cutting)\n",
      "166.tdms ====> 74path\n",
      "167.tdms ====> 75path (non-cutting)\n",
      "168.tdms ====> 75path\n",
      "169.tdms ====> 76path (non-cutting)\n",
      "170.tdms ====> 76path\n",
      "171.tdms ====> 77path (non-cutting)\n",
      "172.tdms ====> 77path\n",
      "173.tdms ====> 78path (non-cutting)\n",
      "174.tdms ====> 78path\n",
      "175.tdms ====> 79path (non-cutting)\n",
      "176.tdms ====> 79path\n",
      "177.tdms ====> 80path (non-cutting)\n",
      "178.tdms ====> 80path\n",
      "179.tdms ====> 81path (non-cutting)\n",
      "180.tdms ====> 81path\n",
      "181.tdms ====> 82path (non-cutting)\n"
     ]
    },
    {
     "name": "stderr",
     "output_type": "stream",
     "text": [
      "\r",
      " 95%|█████████▌| 172/181 [00:01<00:00, 93.87it/s]"
     ]
    },
    {
     "name": "stdout",
     "output_type": "stream",
     "text": [
      "182.tdms ====> 82path\n",
      "183.tdms ====> 83path (non-cutting)\n",
      "184.tdms ====> 83path\n",
      "185.tdms ====> 84path (non-cutting)\n",
      "186.tdms ====> 84path\n",
      "187.tdms ====> 85path (non-cutting)\n",
      "188.tdms ====> 85path\n",
      "189.tdms ====> 86path (non-cutting)\n",
      "190.tdms ====> 86path\n",
      "191.tdms ====> 87path (non-cutting)\n",
      "192.tdms ====> 87path\n",
      "193.tdms ====> 88path (non-cutting)\n",
      "194.tdms ====> 88path\n",
      "195.tdms ====> 89path (non-cutting)\n",
      "196.tdms ====> 89path\n",
      "197.tdms ====> 90path (non-cutting)\n",
      "198.tdms ====> 90path\n",
      "199.tdms ====> 91path (non-cutting)\n"
     ]
    },
    {
     "name": "stderr",
     "output_type": "stream",
     "text": [
      "100%|██████████| 181/181 [00:01<00:00, 92.70it/s]\n"
     ]
    }
   ],
   "source": [
    "# os.rename(変更前ファイル、変更後ファイル)\n",
    "for i in tqdm(range(19,200)):\n",
    "    if(i%2 == 1):\n",
    "        num = int((i - 17)/2)\n",
    "        print(f\"{int(i)}.tdms ====> {int(num)}path (non-cutting)\")\n",
    "        old_name = rf\"Z:\\100 Raw_data\\20230113---切削実験\\raw\\AE\\1-5000\\AE_{i}.tdms\"\n",
    "        new_name = rf\"Z:\\100 Raw_data\\20230113---切削実験\\AE\\Non-Cutting\\AE_{num}.tdms\"\n",
    "        os.rename(old_name, new_name)\n",
    "        \n",
    "        old_name_cf = rf\"Z:\\100 Raw_data\\20230113---切削実験\\raw\\Dynamometer\\1-5000\\Dynamometer_{i}.tdms\"\n",
    "        new_name_cf = rf\"Z:\\100 Raw_data\\20230113---切削実験\\Dynamometer\\Non-Cutting\\Dynamo_{num}.tdms\"\n",
    "        os.rename(old_name_cf, new_name_cf)\n",
    "        \n",
    "    if(i%2 == 0):\n",
    "        num = int((i- 18)/2)\n",
    "        print(f\"{int(i)}.tdms ====> {int(num)}path\")\n",
    "        old_name = rf\"Z:\\100 Raw_data\\20230113---切削実験\\raw\\AE\\1-5000\\AE_{i}.tdms\"\n",
    "        new_name = rf\"Z:\\100 Raw_data\\20230113---切削実験\\AE\\Cutting\\AE_{num}.tdms\"\n",
    "        os.rename(old_name, new_name)\n",
    "        \n",
    "        old_name_cf = rf\"Z:\\100 Raw_data\\20230113---切削実験\\raw\\Dynamometer\\1-5000\\Dynamometer_{i}.tdms\"\n",
    "        new_name_cf = rf\"Z:\\100 Raw_data\\20230113---切削実験\\Dynamometer\\Cutting\\Dynamo_{num}.tdms\"\n",
    "        os.rename(old_name_cf, new_name_cf)"
   ]
  },
  {
   "cell_type": "code",
   "execution_count": 16,
   "metadata": {},
   "outputs": [
    {
     "name": "stderr",
     "output_type": "stream",
     "text": [
      " 15%|█▍        | 8/54 [00:00<00:00, 69.54it/s]"
     ]
    },
    {
     "name": "stdout",
     "output_type": "stream",
     "text": [
      "207.tdms ====> 94path (non-cutting)\n",
      "208.tdms ====> 94path\n",
      "209.tdms ====> 95path (non-cutting)\n",
      "210.tdms ====> 95path\n",
      "211.tdms ====> 96path (non-cutting)\n",
      "212.tdms ====> 96path\n",
      "213.tdms ====> 97path (non-cutting)\n",
      "214.tdms ====> 97path\n",
      "215.tdms ====> 98path (non-cutting)\n",
      "216.tdms ====> 98path\n",
      "217.tdms ====> 99path (non-cutting)\n",
      "218.tdms ====> 99path\n",
      "219.tdms ====> 100path (non-cutting)\n",
      "220.tdms ====> 100path\n",
      "221.tdms ====> 101path (non-cutting)\n"
     ]
    },
    {
     "name": "stderr",
     "output_type": "stream",
     "text": [
      " 54%|█████▎    | 29/54 [00:00<00:00, 81.63it/s]"
     ]
    },
    {
     "name": "stdout",
     "output_type": "stream",
     "text": [
      "222.tdms ====> 101path\n",
      "223.tdms ====> 102path (non-cutting)\n",
      "224.tdms ====> 102path\n",
      "225.tdms ====> 103path (non-cutting)\n",
      "226.tdms ====> 103path\n",
      "227.tdms ====> 104path (non-cutting)\n",
      "228.tdms ====> 104path\n",
      "229.tdms ====> 105path (non-cutting)\n",
      "230.tdms ====> 105path\n",
      "231.tdms ====> 106path (non-cutting)\n",
      "232.tdms ====> 106path\n",
      "233.tdms ====> 107path (non-cutting)\n",
      "234.tdms ====> 107path\n",
      "235.tdms ====> 108path (non-cutting)\n",
      "236.tdms ====> 108path\n",
      "237.tdms ====> 109path (non-cutting)\n",
      "238.tdms ====> 109path\n",
      "239.tdms ====> 110path (non-cutting)\n",
      "240.tdms ====> 110path\n",
      "241.tdms ====> 111path (non-cutting)\n"
     ]
    },
    {
     "name": "stderr",
     "output_type": "stream",
     "text": [
      " 94%|█████████▍| 51/54 [00:00<00:00, 90.76it/s]"
     ]
    },
    {
     "name": "stdout",
     "output_type": "stream",
     "text": [
      "242.tdms ====> 111path\n",
      "243.tdms ====> 112path (non-cutting)\n",
      "244.tdms ====> 112path\n",
      "245.tdms ====> 113path (non-cutting)\n",
      "246.tdms ====> 113path\n",
      "247.tdms ====> 114path (non-cutting)\n",
      "248.tdms ====> 114path\n",
      "249.tdms ====> 115path (non-cutting)\n",
      "250.tdms ====> 115path\n",
      "251.tdms ====> 116path (non-cutting)\n",
      "252.tdms ====> 116path\n",
      "253.tdms ====> 117path (non-cutting)\n",
      "254.tdms ====> 117path\n",
      "255.tdms ====> 118path (non-cutting)\n",
      "256.tdms ====> 118path\n",
      "257.tdms ====> 119path (non-cutting)\n",
      "258.tdms ====> 119path\n",
      "259.tdms ====> 120path (non-cutting)\n",
      "260.tdms ====> 120path\n"
     ]
    },
    {
     "name": "stderr",
     "output_type": "stream",
     "text": [
      "100%|██████████| 54/54 [00:00<00:00, 92.67it/s]\n"
     ]
    }
   ],
   "source": [
    "# os.rename(変更前ファイル、変更後ファイル)\n",
    "for i in tqdm(range(207,261)):\n",
    "    if(i%2 == 1):\n",
    "        num = int((i - 205)/2) + 93\n",
    "        print(f\"{int(i)}.tdms ====> {int(num)}path (non-cutting)\")\n",
    "        old_name = rf\"Z:\\100 Raw_data\\20230113---切削実験\\raw\\AE\\1-5000\\AE_{i}.tdms\"\n",
    "        new_name = rf\"Z:\\100 Raw_data\\20230113---切削実験\\AE\\Non-Cutting\\AE_{num}.tdms\"\n",
    "        os.rename(old_name, new_name)\n",
    "        \n",
    "        old_name_cf = rf\"Z:\\100 Raw_data\\20230113---切削実験\\raw\\Dynamometer\\1-5000\\Dynamometer_{i}.tdms\"\n",
    "        new_name_cf = rf\"Z:\\100 Raw_data\\20230113---切削実験\\Dynamometer\\Non-Cutting\\Dynamo_{num}.tdms\"\n",
    "        os.rename(old_name_cf, new_name_cf)\n",
    "        \n",
    "    if(i%2 == 0):\n",
    "        num = int((i- 206)/2) +93\n",
    "        print(f\"{int(i)}.tdms ====> {int(num)}path\")\n",
    "        old_name = rf\"Z:\\100 Raw_data\\20230113---切削実験\\raw\\AE\\1-5000\\AE_{i}.tdms\"\n",
    "        new_name = rf\"Z:\\100 Raw_data\\20230113---切削実験\\AE\\Cutting\\AE_{num}.tdms\"\n",
    "        os.rename(old_name, new_name)\n",
    "        \n",
    "        old_name_cf = rf\"Z:\\100 Raw_data\\20230113---切削実験\\raw\\Dynamometer\\1-5000\\Dynamometer_{i}.tdms\"\n",
    "        new_name_cf = rf\"Z:\\100 Raw_data\\20230113---切削実験\\Dynamometer\\Cutting\\Dynamo_{num}.tdms\"\n",
    "        os.rename(old_name_cf, new_name_cf)"
   ]
  },
  {
   "cell_type": "code",
   "execution_count": null,
   "metadata": {},
   "outputs": [],
   "source": [
    "# os.rename(変更前ファイル、変更後ファイル)\n",
    "for i in tqdm(range(22,202)):\n",
    "    if(i%2 == 1):\n",
    "        num = int((i - 205)/2) + 93\n",
    "        print(f\"{int(i)}.tdms ====> {int(num)}path (non-cutting)\")\n",
    "        old_name = rf\"Z:\\100 Raw_data\\20230113---切削実験\\raw\\AE\\1-5000\\AE_{i}.tdms\"\n",
    "        new_name = rf\"Z:\\100 Raw_data\\20230113---切削実験\\AE\\Non-Cutting\\AE_{num}.tdms\"\n",
    "        os.rename(old_name, new_name)\n",
    "        \n",
    "        old_name_cf = rf\"Z:\\100 Raw_data\\20230113---切削実験\\raw\\Dynamometer\\1-5000\\Dynamometer_{i}.tdms\"\n",
    "        new_name_cf = rf\"Z:\\100 Raw_data\\20230113---切削実験\\Dynamometer\\Non-Cutting\\Dynamo_{num}.tdms\"\n",
    "        os.rename(old_name_cf, new_name_cf)\n",
    "        \n",
    "    if(i%2 == 0):\n",
    "        num = int((i- 206)/2) +93\n",
    "        print(f\"{int(i)}.tdms ====> {int(num)}path\")\n",
    "        old_name = rf\"Z:\\100 Raw_data\\20230113---切削実験\\raw\\AE\\1-5000\\AE_{i}.tdms\"\n",
    "        new_name = rf\"Z:\\100 Raw_data\\20230113---切削実験\\AE\\Cutting\\AE_{num}.tdms\"\n",
    "        os.rename(old_name, new_name)\n",
    "        \n",
    "        old_name_cf = rf\"Z:\\100 Raw_data\\20230113---切削実験\\raw\\Dynamometer\\1-5000\\Dynamometer_{i}.tdms\"\n",
    "        new_name_cf = rf\"Z:\\100 Raw_data\\20230113---切削実験\\Dynamometer\\Cutting\\Dynamo_{num}.tdms\"\n",
    "        os.rename(old_name_cf, new_name_cf)"
   ]
  },
  {
   "cell_type": "markdown",
   "metadata": {},
   "source": [
    "## 20230117"
   ]
  },
  {
   "cell_type": "markdown",
   "metadata": {},
   "source": [
    "### 121path - 211path"
   ]
  },
  {
   "cell_type": "code",
   "execution_count": 15,
   "metadata": {},
   "outputs": [
    {
     "name": "stderr",
     "output_type": "stream",
     "text": [
      "  5%|▍         | 9/182 [00:00<00:02, 83.78it/s]"
     ]
    },
    {
     "name": "stdout",
     "output_type": "stream",
     "text": [
      "21.tdms ====> 121path (non-cutting)\n",
      "22.tdms ====> 121path (cutting)\n",
      "23.tdms ====> 122path (non-cutting)\n",
      "24.tdms ====> 122path (cutting)\n",
      "25.tdms ====> 123path (non-cutting)\n",
      "26.tdms ====> 123path (cutting)\n",
      "27.tdms ====> 124path (non-cutting)\n",
      "28.tdms ====> 124path (cutting)\n",
      "29.tdms ====> 125path (non-cutting)\n",
      "30.tdms ====> 125path (cutting)\n",
      "31.tdms ====> 126path (non-cutting)\n",
      "32.tdms ====> 126path (cutting)\n",
      "33.tdms ====> 127path (non-cutting)\n",
      "34.tdms ====> 127path (cutting)\n",
      "35.tdms ====> 128path (non-cutting)\n",
      "36.tdms ====> 128path (cutting)\n",
      "37.tdms ====> 129path (non-cutting)"
     ]
    },
    {
     "name": "stderr",
     "output_type": "stream",
     "text": [
      " 16%|█▋        | 30/182 [00:00<00:01, 91.19it/s]"
     ]
    },
    {
     "name": "stdout",
     "output_type": "stream",
     "text": [
      "\n",
      "38.tdms ====> 129path (cutting)\n",
      "39.tdms ====> 130path (non-cutting)\n",
      "40.tdms ====> 130path (cutting)\n",
      "41.tdms ====> 131path (non-cutting)\n",
      "42.tdms ====> 131path (cutting)\n",
      "43.tdms ====> 132path (non-cutting)\n",
      "44.tdms ====> 132path (cutting)\n",
      "45.tdms ====> 133path (non-cutting)\n",
      "46.tdms ====> 133path (cutting)\n",
      "47.tdms ====> 134path (non-cutting)\n",
      "48.tdms ====> 134path (cutting)\n",
      "49.tdms ====> 135path (non-cutting)\n",
      "50.tdms ====> 135path (cutting)\n",
      "51.tdms ====> 136path (non-cutting)\n",
      "52.tdms ====> 136path (cutting)\n",
      "53.tdms ====> 137path (non-cutting)\n",
      "54.tdms ====> 137path (cutting)\n",
      "55.tdms ====> 138path (non-cutting)\n",
      "56.tdms ====> 138path (cutting)\n"
     ]
    },
    {
     "name": "stderr",
     "output_type": "stream",
     "text": [
      " 27%|██▋       | 50/182 [00:00<00:01, 94.92it/s]"
     ]
    },
    {
     "name": "stdout",
     "output_type": "stream",
     "text": [
      "57.tdms ====> 139path (non-cutting)\n",
      "58.tdms ====> 139path (cutting)\n",
      "59.tdms ====> 140path (non-cutting)\n",
      "60.tdms ====> 140path (cutting)\n",
      "61.tdms ====> 141path (non-cutting)\n",
      "62.tdms ====> 141path (cutting)\n",
      "63.tdms ====> 142path (non-cutting)\n",
      "64.tdms ====> 142path (cutting)\n",
      "65.tdms ====> 143path (non-cutting)\n",
      "66.tdms ====> 143path (cutting)\n",
      "67.tdms ====> 144path (non-cutting)\n",
      "68.tdms ====> 144path (cutting)\n",
      "69.tdms ====> 145path (non-cutting)\n",
      "70.tdms ====> 145path (cutting)\n",
      "71.tdms ====> 146path (non-cutting)\n",
      "72.tdms ====> 146path (cutting)\n",
      "73.tdms ====> 147path (non-cutting)\n",
      "74.tdms ====> 147path (cutting)\n",
      "75.tdms ====> 148path (non-cutting)\n",
      "76.tdms ====> 148path (cutting)\n"
     ]
    },
    {
     "name": "stderr",
     "output_type": "stream",
     "text": [
      " 39%|███▉      | 71/182 [00:00<00:01, 99.79it/s]"
     ]
    },
    {
     "name": "stdout",
     "output_type": "stream",
     "text": [
      "77.tdms ====> 149path (non-cutting)\n",
      "78.tdms ====> 149path (cutting)\n",
      "79.tdms ====> 150path (non-cutting)\n",
      "80.tdms ====> 150path (cutting)\n",
      "81.tdms ====> 151path (non-cutting)\n",
      "82.tdms ====> 151path (cutting)\n",
      "83.tdms ====> 152path (non-cutting)\n",
      "84.tdms ====> 152path (cutting)\n",
      "85.tdms ====> 153path (non-cutting)\n",
      "86.tdms ====> 153path (cutting)\n",
      "87.tdms ====> 154path (non-cutting)\n",
      "88.tdms ====> 154path (cutting)\n",
      "89.tdms ====> 155path (non-cutting)\n",
      "90.tdms ====> 155path (cutting)\n",
      "91.tdms ====> 156path (non-cutting)\n",
      "92.tdms ====> 156path (cutting)\n",
      "93.tdms ====> 157path (non-cutting)\n",
      "94.tdms ====> 157path (cutting)\n",
      "95.tdms ====> 158path (non-cutting)\n"
     ]
    },
    {
     "name": "stderr",
     "output_type": "stream",
     "text": [
      " 51%|█████     | 92/182 [00:00<00:00, 100.52it/s]"
     ]
    },
    {
     "name": "stdout",
     "output_type": "stream",
     "text": [
      "96.tdms ====> 158path (cutting)\n",
      "97.tdms ====> 159path (non-cutting)\n",
      "98.tdms ====> 159path (cutting)\n",
      "99.tdms ====> 160path (non-cutting)\n",
      "100.tdms ====> 160path (cutting)\n",
      "101.tdms ====> 161path (non-cutting)\n",
      "102.tdms ====> 161path (cutting)\n",
      "103.tdms ====> 162path (non-cutting)\n",
      "104.tdms ====> 162path (cutting)\n",
      "105.tdms ====> 163path (non-cutting)\n",
      "106.tdms ====> 163path (cutting)\n",
      "107.tdms ====> 164path (non-cutting)\n",
      "108.tdms ====> 164path (cutting)\n",
      "109.tdms ====> 165path (non-cutting)\n",
      "110.tdms ====> 165path (cutting)\n",
      "111.tdms ====> 166path (non-cutting)\n",
      "112.tdms ====> 166path (cutting)\n",
      "113.tdms ====> 167path (non-cutting)\n",
      "114.tdms ====> 167path (cutting)\n"
     ]
    },
    {
     "name": "stderr",
     "output_type": "stream",
     "text": [
      "\r",
      " 56%|█████▌    | 102/182 [00:01<00:00, 94.66it/s]"
     ]
    },
    {
     "name": "stdout",
     "output_type": "stream",
     "text": [
      "115.tdms ====> 168path (non-cutting)\n",
      "116.tdms ====> 168path (cutting)\n",
      "117.tdms ====> 169path (non-cutting)\n",
      "118.tdms ====> 169path (cutting)\n",
      "119.tdms ====> 170path (non-cutting)\n",
      "120.tdms ====> 170path (cutting)\n",
      "121.tdms ====> 171path (non-cutting)\n",
      "122.tdms ====> 171path (cutting)\n",
      "123.tdms ====> 172path (non-cutting)\n",
      "124.tdms ====> 172path (cutting)\n",
      "125.tdms ====> 173path (non-cutting)\n",
      "126.tdms ====> 173path (cutting)\n",
      "127.tdms ====> 174path (non-cutting)\n",
      "128.tdms ====> 174path (cutting)\n",
      "129.tdms ====> 175path (non-cutting)\n",
      "130.tdms ====> 175path (cutting)\n",
      "131.tdms ====> 176path (non-cutting)"
     ]
    },
    {
     "name": "stderr",
     "output_type": "stream",
     "text": [
      " 68%|██████▊   | 123/182 [00:01<00:00, 97.16it/s]"
     ]
    },
    {
     "name": "stdout",
     "output_type": "stream",
     "text": [
      "\n",
      "132.tdms ====> 176path (cutting)\n",
      "133.tdms ====> 177path (non-cutting)\n",
      "134.tdms ====> 177path (cutting)\n",
      "135.tdms ====> 178path (non-cutting)\n",
      "136.tdms ====> 178path (cutting)\n",
      "137.tdms ====> 179path (non-cutting)\n",
      "138.tdms ====> 179path (cutting)\n",
      "139.tdms ====> 180path (non-cutting)\n",
      "140.tdms ====> 180path (cutting)\n",
      "141.tdms ====> 181path (non-cutting)\n",
      "142.tdms ====> 181path (cutting)\n",
      "143.tdms ====> 182path (non-cutting)\n",
      "144.tdms ====> 182path (cutting)\n",
      "145.tdms ====> 183path (non-cutting)\n",
      "146.tdms ====> 183path (cutting)\n",
      "147.tdms ====> 184path (non-cutting)\n",
      "148.tdms ====> 184path (cutting)\n",
      "149.tdms ====> 185path (non-cutting)\n"
     ]
    },
    {
     "name": "stderr",
     "output_type": "stream",
     "text": [
      " 79%|███████▊  | 143/182 [00:01<00:00, 96.47it/s]"
     ]
    },
    {
     "name": "stdout",
     "output_type": "stream",
     "text": [
      "150.tdms ====> 185path (cutting)\n",
      "151.tdms ====> 186path (non-cutting)\n",
      "152.tdms ====> 186path (cutting)\n",
      "153.tdms ====> 187path (non-cutting)\n",
      "154.tdms ====> 187path (cutting)\n",
      "155.tdms ====> 188path (non-cutting)\n",
      "156.tdms ====> 188path (cutting)\n",
      "157.tdms ====> 189path (non-cutting)\n",
      "158.tdms ====> 189path (cutting)\n",
      "159.tdms ====> 190path (non-cutting)\n",
      "160.tdms ====> 190path (cutting)\n",
      "161.tdms ====> 191path (non-cutting)\n",
      "162.tdms ====> 191path (cutting)\n",
      "163.tdms ====> 192path (non-cutting)\n",
      "164.tdms ====> 192path (cutting)\n",
      "165.tdms ====> 193path (non-cutting)\n",
      "166.tdms ====> 193path (cutting)\n",
      "167.tdms ====> 194path (non-cutting)\n"
     ]
    },
    {
     "name": "stderr",
     "output_type": "stream",
     "text": [
      " 90%|█████████ | 164/182 [00:01<00:00, 98.79it/s]"
     ]
    },
    {
     "name": "stdout",
     "output_type": "stream",
     "text": [
      "168.tdms ====> 194path (cutting)\n",
      "169.tdms ====> 195path (non-cutting)\n",
      "170.tdms ====> 195path (cutting)\n",
      "171.tdms ====> 196path (non-cutting)\n",
      "172.tdms ====> 196path (cutting)\n",
      "173.tdms ====> 197path (non-cutting)\n",
      "174.tdms ====> 197path (cutting)\n",
      "175.tdms ====> 198path (non-cutting)\n",
      "176.tdms ====> 198path (cutting)\n",
      "177.tdms ====> 199path (non-cutting)\n",
      "178.tdms ====> 199path (cutting)\n",
      "179.tdms ====> 200path (non-cutting)\n",
      "180.tdms ====> 200path (cutting)\n",
      "181.tdms ====> 201path (non-cutting)\n",
      "182.tdms ====> 201path (cutting)\n",
      "183.tdms ====> 202path (non-cutting)\n",
      "184.tdms ====> 202path (cutting)\n",
      "185.tdms ====> 203path (non-cutting)\n",
      "186.tdms ====> 203path (cutting)\n",
      "187.tdms ====> 204path (non-cutting)"
     ]
    },
    {
     "name": "stderr",
     "output_type": "stream",
     "text": [
      "100%|██████████| 182/182 [00:01<00:00, 98.06it/s]"
     ]
    },
    {
     "name": "stdout",
     "output_type": "stream",
     "text": [
      "\n",
      "188.tdms ====> 204path (cutting)\n",
      "189.tdms ====> 205path (non-cutting)\n",
      "190.tdms ====> 205path (cutting)\n",
      "191.tdms ====> 206path (non-cutting)\n",
      "192.tdms ====> 206path (cutting)\n",
      "193.tdms ====> 207path (non-cutting)\n",
      "194.tdms ====> 207path (cutting)\n",
      "195.tdms ====> 208path (non-cutting)\n",
      "196.tdms ====> 208path (cutting)\n",
      "197.tdms ====> 209path (non-cutting)\n",
      "198.tdms ====> 209path (cutting)\n",
      "199.tdms ====> 210path (non-cutting)\n",
      "200.tdms ====> 210path (cutting)\n",
      "201.tdms ====> 211path (non-cutting)\n",
      "202.tdms ====> 211path (cutting)\n"
     ]
    },
    {
     "name": "stderr",
     "output_type": "stream",
     "text": [
      "\n"
     ]
    }
   ],
   "source": [
    "# os.rename(変更前ファイル、変更後ファイル)\n",
    "for i in tqdm(range(21,203)):\n",
    "    if(i%2 == 1):\n",
    "        num = int((i - 19)/2) + 120\n",
    "        print(f\"{int(i)}.tdms ====> {int(num)}path (non-cutting)\")\n",
    "        old_name = rf\"Z:\\100 Raw_data\\20230117---切削実験\\raw\\AE\\1-5000\\AE_{i}.tdms\"\n",
    "        new_name = rf\"Z:\\100 Raw_data\\20230117---切削実験\\AE\\Non-Cutting\\AE_{num}.tdms\"\n",
    "        os.rename(old_name, new_name)\n",
    "        \n",
    "        old_name_cf = rf\"Z:\\100 Raw_data\\20230117---切削実験\\raw\\Dynamometer\\1-5000\\Dynamometer_{i}.tdms\"\n",
    "        new_name_cf = rf\"Z:\\100 Raw_data\\20230117---切削実験\\Dynamometer\\Non-Cutting\\Dynamo_{num}.tdms\"\n",
    "        os.rename(old_name_cf, new_name_cf)\n",
    "        \n",
    "    if(i%2 == 0):\n",
    "        num = int((i - 20)/2) + 120\n",
    "        print(f\"{int(i)}.tdms ====> {int(num)}path (cutting)\")\n",
    "        old_name = rf\"Z:\\100 Raw_data\\20230117---切削実験\\raw\\AE\\1-5000\\AE_{i}.tdms\"\n",
    "        new_name = rf\"Z:\\100 Raw_data\\20230117---切削実験\\AE\\Cutting\\AE_{num}.tdms\"\n",
    "        os.rename(old_name, new_name)\n",
    "        \n",
    "        old_name_cf = rf\"Z:\\100 Raw_data\\20230117---切削実験\\raw\\Dynamometer\\1-5000\\Dynamometer_{i}.tdms\"\n",
    "        new_name_cf = rf\"Z:\\100 Raw_data\\20230117---切削実験\\Dynamometer\\Cutting\\Dynamo_{num}.tdms\"\n",
    "        os.rename(old_name_cf, new_name_cf)"
   ]
  },
  {
   "cell_type": "markdown",
   "metadata": {},
   "source": [
    "### 215path - 313path"
   ]
  },
  {
   "cell_type": "code",
   "execution_count": 17,
   "metadata": {},
   "outputs": [
    {
     "name": "stderr",
     "output_type": "stream",
     "text": [
      "  5%|▌         | 10/198 [00:00<00:01, 96.41it/s]"
     ]
    },
    {
     "name": "stdout",
     "output_type": "stream",
     "text": [
      "210.tdms ====> 215path (non-cutting)\n",
      "211.tdms ====> 215path (cutting)\n",
      "212.tdms ====> 216path (non-cutting)\n",
      "213.tdms ====> 216path (cutting)\n",
      "214.tdms ====> 217path (non-cutting)\n",
      "215.tdms ====> 217path (cutting)\n",
      "216.tdms ====> 218path (non-cutting)\n",
      "217.tdms ====> 218path (cutting)\n",
      "218.tdms ====> 219path (non-cutting)\n",
      "219.tdms ====> 219path (cutting)\n",
      "220.tdms ====> 220path (non-cutting)\n",
      "221.tdms ====> 220path (cutting)\n",
      "222.tdms ====> 221path (non-cutting)\n",
      "223.tdms ====> 221path (cutting)\n",
      "224.tdms ====> 222path (non-cutting)\n",
      "225.tdms ====> 222path (cutting)\n",
      "226.tdms ====> 223path (non-cutting)\n",
      "227.tdms ====> 223path (cutting)\n",
      "228.tdms ====> 224path (non-cutting)\n"
     ]
    },
    {
     "name": "stderr",
     "output_type": "stream",
     "text": [
      " 15%|█▌        | 30/198 [00:00<00:01, 96.63it/s]"
     ]
    },
    {
     "name": "stdout",
     "output_type": "stream",
     "text": [
      "229.tdms ====> 224path (cutting)\n",
      "230.tdms ====> 225path (non-cutting)\n",
      "231.tdms ====> 225path (cutting)\n",
      "232.tdms ====> 226path (non-cutting)\n",
      "233.tdms ====> 226path (cutting)\n",
      "234.tdms ====> 227path (non-cutting)\n",
      "235.tdms ====> 227path (cutting)\n",
      "236.tdms ====> 228path (non-cutting)\n",
      "237.tdms ====> 228path (cutting)\n",
      "238.tdms ====> 229path (non-cutting)\n",
      "239.tdms ====> 229path (cutting)\n",
      "240.tdms ====> 230path (non-cutting)\n",
      "241.tdms ====> 230path (cutting)\n",
      "242.tdms ====> 231path (non-cutting)\n",
      "243.tdms ====> 231path (cutting)\n",
      "244.tdms ====> 232path (non-cutting)\n",
      "245.tdms ====> 232path (cutting)\n",
      "246.tdms ====> 233path (non-cutting)\n"
     ]
    },
    {
     "name": "stderr",
     "output_type": "stream",
     "text": [
      " 24%|██▍       | 48/198 [00:00<00:01, 90.70it/s]"
     ]
    },
    {
     "name": "stdout",
     "output_type": "stream",
     "text": [
      "247.tdms ====> 233path (cutting)\n",
      "248.tdms ====> 234path (non-cutting)\n",
      "249.tdms ====> 234path (cutting)\n",
      "250.tdms ====> 235path (non-cutting)\n",
      "251.tdms ====> 235path (cutting)\n",
      "252.tdms ====> 236path (non-cutting)\n",
      "253.tdms ====> 236path (cutting)\n",
      "254.tdms ====> 237path (non-cutting)\n",
      "255.tdms ====> 237path (cutting)\n",
      "256.tdms ====> 238path (non-cutting)\n",
      "257.tdms ====> 238path (cutting)\n",
      "258.tdms ====> 239path (non-cutting)\n",
      "259.tdms ====> 239path (cutting)\n",
      "260.tdms ====> 240path (non-cutting)\n",
      "261.tdms ====> 240path (cutting)\n",
      "262.tdms ====> 241path (non-cutting)\n",
      "263.tdms ====> 241path (cutting)\n"
     ]
    },
    {
     "name": "stderr",
     "output_type": "stream",
     "text": [
      " 35%|███▍      | 69/198 [00:00<00:01, 95.58it/s]"
     ]
    },
    {
     "name": "stdout",
     "output_type": "stream",
     "text": [
      "264.tdms ====> 242path (non-cutting)\n",
      "265.tdms ====> 242path (cutting)\n",
      "266.tdms ====> 243path (non-cutting)\n",
      "267.tdms ====> 243path (cutting)\n",
      "268.tdms ====> 244path (non-cutting)\n",
      "269.tdms ====> 244path (cutting)\n",
      "270.tdms ====> 245path (non-cutting)\n",
      "271.tdms ====> 245path (cutting)\n",
      "272.tdms ====> 246path (non-cutting)\n",
      "273.tdms ====> 246path (cutting)\n",
      "274.tdms ====> 247path (non-cutting)\n",
      "275.tdms ====> 247path (cutting)\n",
      "276.tdms ====> 248path (non-cutting)\n",
      "277.tdms ====> 248path (cutting)\n",
      "278.tdms ====> 249path (non-cutting)\n",
      "279.tdms ====> 249path (cutting)\n",
      "280.tdms ====> 250path (non-cutting)\n",
      "281.tdms ====> 250path (cutting)\n",
      "282.tdms ====> 251path (non-cutting)\n",
      "283.tdms ====> 251path (cutting)"
     ]
    },
    {
     "name": "stderr",
     "output_type": "stream",
     "text": [
      " 44%|████▍     | 88/198 [00:00<00:01, 93.38it/s]"
     ]
    },
    {
     "name": "stdout",
     "output_type": "stream",
     "text": [
      "\n",
      "284.tdms ====> 252path (non-cutting)\n",
      "285.tdms ====> 252path (cutting)\n",
      "286.tdms ====> 253path (non-cutting)\n",
      "287.tdms ====> 253path (cutting)\n",
      "288.tdms ====> 254path (non-cutting)\n",
      "289.tdms ====> 254path (cutting)\n",
      "290.tdms ====> 255path (non-cutting)\n",
      "291.tdms ====> 255path (cutting)\n",
      "292.tdms ====> 256path (non-cutting)\n",
      "293.tdms ====> 256path (cutting)\n",
      "294.tdms ====> 257path (non-cutting)\n",
      "295.tdms ====> 257path (cutting)\n",
      "296.tdms ====> 258path (non-cutting)\n",
      "297.tdms ====> 258path (cutting)\n",
      "298.tdms ====> 259path (non-cutting)\n",
      "299.tdms ====> 259path (cutting)\n",
      "300.tdms ====> 260path (non-cutting)\n"
     ]
    },
    {
     "name": "stderr",
     "output_type": "stream",
     "text": [
      " 54%|█████▎    | 106/198 [00:01<00:01, 90.15it/s]"
     ]
    },
    {
     "name": "stdout",
     "output_type": "stream",
     "text": [
      "301.tdms ====> 260path (cutting)\n",
      "302.tdms ====> 261path (non-cutting)\n",
      "303.tdms ====> 261path (cutting)\n",
      "304.tdms ====> 262path (non-cutting)\n",
      "305.tdms ====> 262path (cutting)\n",
      "306.tdms ====> 263path (non-cutting)\n",
      "307.tdms ====> 263path (cutting)\n",
      "308.tdms ====> 264path (non-cutting)\n",
      "309.tdms ====> 264path (cutting)\n",
      "310.tdms ====> 265path (non-cutting)\n",
      "311.tdms ====> 265path (cutting)\n",
      "312.tdms ====> 266path (non-cutting)\n",
      "313.tdms ====> 266path (cutting)\n",
      "314.tdms ====> 267path (non-cutting)\n",
      "315.tdms ====> 267path (cutting)\n",
      "316.tdms ====> 268path (non-cutting)\n",
      "317.tdms ====> 268path (cutting)\n",
      "318.tdms ====> 269path (non-cutting)\n"
     ]
    },
    {
     "name": "stderr",
     "output_type": "stream",
     "text": [
      "\r",
      " 59%|█████▊    | 116/198 [00:01<00:00, 91.11it/s]"
     ]
    },
    {
     "name": "stdout",
     "output_type": "stream",
     "text": [
      "319.tdms ====> 269path (cutting)\n",
      "320.tdms ====> 270path (non-cutting)\n",
      "321.tdms ====> 270path (cutting)\n",
      "322.tdms ====> 271path (non-cutting)\n",
      "323.tdms ====> 271path (cutting)\n",
      "324.tdms ====> 272path (non-cutting)\n",
      "325.tdms ====> 272path (cutting)\n",
      "326.tdms ====> 273path (non-cutting)\n",
      "327.tdms ====> 273path (cutting)\n",
      "328.tdms ====> 274path (non-cutting)\n",
      "329.tdms ====> 274path (cutting)\n",
      "330.tdms ====> 275path (non-cutting)\n",
      "331.tdms ====> 275path (cutting)\n",
      "332.tdms ====> 276path (non-cutting)\n",
      "333.tdms ====> 276path (cutting)\n",
      "334.tdms ====> 277path (non-cutting)\n",
      "335.tdms ====> 277path (cutting)\n"
     ]
    },
    {
     "name": "stderr",
     "output_type": "stream",
     "text": [
      " 69%|██████▊   | 136/198 [00:01<00:00, 93.40it/s]"
     ]
    },
    {
     "name": "stdout",
     "output_type": "stream",
     "text": [
      "336.tdms ====> 278path (non-cutting)\n",
      "337.tdms ====> 278path (cutting)\n",
      "338.tdms ====> 279path (non-cutting)\n",
      "339.tdms ====> 279path (cutting)\n",
      "340.tdms ====> 280path (non-cutting)\n",
      "341.tdms ====> 280path (cutting)\n",
      "342.tdms ====> 281path (non-cutting)\n",
      "343.tdms ====> 281path (cutting)\n",
      "344.tdms ====> 282path (non-cutting)\n",
      "345.tdms ====> 282path (cutting)\n",
      "346.tdms ====> 283path (non-cutting)\n",
      "347.tdms ====> 283path (cutting)\n",
      "348.tdms ====> 284path (non-cutting)\n",
      "349.tdms ====> 284path (cutting)\n",
      "350.tdms ====> 285path (non-cutting)\n",
      "351.tdms ====> 285path (cutting)\n",
      "352.tdms ====> 286path (non-cutting)\n",
      "353.tdms ====> 286path (cutting)\n",
      "354.tdms ====> 287path (non-cutting)\n",
      "355.tdms ====> 287path (cutting)\n",
      "356.tdms ====> 288path (non-cutting)\n"
     ]
    },
    {
     "name": "stderr",
     "output_type": "stream",
     "text": [
      " 79%|███████▉  | 157/198 [00:01<00:00, 94.33it/s]"
     ]
    },
    {
     "name": "stdout",
     "output_type": "stream",
     "text": [
      "357.tdms ====> 288path (cutting)\n",
      "358.tdms ====> 289path (non-cutting)\n",
      "359.tdms ====> 289path (cutting)\n",
      "360.tdms ====> 290path (non-cutting)\n",
      "361.tdms ====> 290path (cutting)\n",
      "362.tdms ====> 291path (non-cutting)\n",
      "363.tdms ====> 291path (cutting)\n",
      "364.tdms ====> 292path (non-cutting)\n",
      "365.tdms ====> 292path (cutting)\n",
      "366.tdms ====> 293path (non-cutting)\n",
      "367.tdms ====> 293path (cutting)\n",
      "368.tdms ====> 294path (non-cutting)\n",
      "369.tdms ====> 294path (cutting)\n",
      "370.tdms ====> 295path (non-cutting)\n",
      "371.tdms ====> 295path (cutting)\n",
      "372.tdms ====> 296path (non-cutting)\n",
      "373.tdms ====> 296path (cutting)\n",
      "374.tdms ====> 297path (non-cutting)"
     ]
    },
    {
     "name": "stderr",
     "output_type": "stream",
     "text": [
      " 89%|████████▉ | 177/198 [00:01<00:00, 90.52it/s]"
     ]
    },
    {
     "name": "stdout",
     "output_type": "stream",
     "text": [
      "\n",
      "375.tdms ====> 297path (cutting)\n",
      "376.tdms ====> 298path (non-cutting)\n",
      "377.tdms ====> 298path (cutting)\n",
      "378.tdms ====> 299path (non-cutting)\n",
      "379.tdms ====> 299path (cutting)\n",
      "380.tdms ====> 300path (non-cutting)\n",
      "381.tdms ====> 300path (cutting)\n",
      "382.tdms ====> 301path (non-cutting)\n",
      "383.tdms ====> 301path (cutting)\n",
      "384.tdms ====> 302path (non-cutting)\n",
      "385.tdms ====> 302path (cutting)\n",
      "386.tdms ====> 303path (non-cutting)\n",
      "387.tdms ====> 303path (cutting)\n",
      "388.tdms ====> 304path (non-cutting)\n",
      "389.tdms ====> 304path (cutting)\n",
      "390.tdms ====> 305path (non-cutting)\n",
      "391.tdms ====> 305path (cutting)\n"
     ]
    },
    {
     "name": "stderr",
     "output_type": "stream",
     "text": [
      "100%|██████████| 198/198 [00:02<00:00, 94.58it/s]"
     ]
    },
    {
     "name": "stdout",
     "output_type": "stream",
     "text": [
      "392.tdms ====> 306path (non-cutting)\n",
      "393.tdms ====> 306path (cutting)\n",
      "394.tdms ====> 307path (non-cutting)\n",
      "395.tdms ====> 307path (cutting)\n",
      "396.tdms ====> 308path (non-cutting)\n",
      "397.tdms ====> 308path (cutting)\n",
      "398.tdms ====> 309path (non-cutting)\n",
      "399.tdms ====> 309path (cutting)\n",
      "400.tdms ====> 310path (non-cutting)\n",
      "401.tdms ====> 310path (cutting)\n",
      "402.tdms ====> 311path (non-cutting)\n",
      "403.tdms ====> 311path (cutting)\n",
      "404.tdms ====> 312path (non-cutting)\n",
      "405.tdms ====> 312path (cutting)\n",
      "406.tdms ====> 313path (non-cutting)\n",
      "407.tdms ====> 313path (cutting)\n"
     ]
    },
    {
     "name": "stderr",
     "output_type": "stream",
     "text": [
      "\n"
     ]
    }
   ],
   "source": [
    "# os.rename(変更前ファイル、変更後ファイル)\n",
    "for i in tqdm(range(210,408)):\n",
    "    if(i%2 == 0):\n",
    "        num = int((i - 208)/2) + 214\n",
    "        print(f\"{int(i)}.tdms ====> {int(num)}path (non-cutting)\")\n",
    "        old_name = rf\"Z:\\100 Raw_data\\20230117---切削実験\\raw\\AE\\1-5000\\AE_{i}.tdms\"\n",
    "        new_name = rf\"Z:\\100 Raw_data\\20230117---切削実験\\AE\\Non-Cutting\\AE_{num}.tdms\"\n",
    "        os.rename(old_name, new_name)\n",
    "        \n",
    "        old_name_cf = rf\"Z:\\100 Raw_data\\20230117---切削実験\\raw\\Dynamometer\\1-5000\\Dynamometer_{i}.tdms\"\n",
    "        new_name_cf = rf\"Z:\\100 Raw_data\\20230117---切削実験\\Dynamometer\\Non-Cutting\\Dynamo_{num}.tdms\"\n",
    "        os.rename(old_name_cf, new_name_cf)\n",
    "        \n",
    "    if(i%2 == 1):\n",
    "        num = int((i - 209)/2) + 214\n",
    "        print(f\"{int(i)}.tdms ====> {int(num)}path (cutting)\")\n",
    "        old_name = rf\"Z:\\100 Raw_data\\20230117---切削実験\\raw\\AE\\1-5000\\AE_{i}.tdms\"\n",
    "        new_name = rf\"Z:\\100 Raw_data\\20230117---切削実験\\AE\\Cutting\\AE_{num}.tdms\"\n",
    "        os.rename(old_name, new_name)\n",
    "        \n",
    "        old_name_cf = rf\"Z:\\100 Raw_data\\20230117---切削実験\\raw\\Dynamometer\\1-5000\\Dynamometer_{i}.tdms\"\n",
    "        new_name_cf = rf\"Z:\\100 Raw_data\\20230117---切削実験\\Dynamometer\\Cutting\\Dynamo_{num}.tdms\"\n",
    "        os.rename(old_name_cf, new_name_cf)"
   ]
  },
  {
   "cell_type": "markdown",
   "metadata": {},
   "source": [
    "### 317path-370path"
   ]
  },
  {
   "cell_type": "code",
   "execution_count": 18,
   "metadata": {},
   "outputs": [
    {
     "name": "stderr",
     "output_type": "stream",
     "text": [
      "  9%|▉         | 10/108 [00:00<00:01, 93.96it/s]"
     ]
    },
    {
     "name": "stdout",
     "output_type": "stream",
     "text": [
      "415.tdms ====> 317path (non-cutting)\n",
      "416.tdms ====> 317path (cutting)\n",
      "417.tdms ====> 318path (non-cutting)\n",
      "418.tdms ====> 318path (cutting)\n",
      "419.tdms ====> 319path (non-cutting)\n",
      "420.tdms ====> 319path (cutting)\n",
      "421.tdms ====> 320path (non-cutting)\n",
      "422.tdms ====> 320path (cutting)\n",
      "423.tdms ====> 321path (non-cutting)\n",
      "424.tdms ====> 321path (cutting)\n",
      "425.tdms ====> 322path (non-cutting)\n",
      "426.tdms ====> 322path (cutting)\n",
      "427.tdms ====> 323path (non-cutting)\n",
      "428.tdms ====> 323path (cutting)\n",
      "429.tdms ====> 324path (non-cutting)\n",
      "430.tdms ====> 324path (cutting)\n",
      "431.tdms ====> 325path (non-cutting)\n",
      "432.tdms ====> 325path (cutting)\n"
     ]
    },
    {
     "name": "stderr",
     "output_type": "stream",
     "text": [
      " 28%|██▊       | 30/108 [00:00<00:00, 96.78it/s]"
     ]
    },
    {
     "name": "stdout",
     "output_type": "stream",
     "text": [
      "433.tdms ====> 326path (non-cutting)\n",
      "434.tdms ====> 326path (cutting)\n",
      "435.tdms ====> 327path (non-cutting)\n",
      "436.tdms ====> 327path (cutting)\n",
      "437.tdms ====> 328path (non-cutting)\n",
      "438.tdms ====> 328path (cutting)\n",
      "439.tdms ====> 329path (non-cutting)\n",
      "440.tdms ====> 329path (cutting)\n",
      "441.tdms ====> 330path (non-cutting)\n",
      "442.tdms ====> 330path (cutting)\n",
      "443.tdms ====> 331path (non-cutting)\n",
      "444.tdms ====> 331path (cutting)\n",
      "445.tdms ====> 332path (non-cutting)\n",
      "446.tdms ====> 332path (cutting)\n",
      "447.tdms ====> 333path (non-cutting)\n",
      "448.tdms ====> 333path (cutting)\n",
      "449.tdms ====> 334path (non-cutting)\n",
      "450.tdms ====> 334path (cutting)\n"
     ]
    },
    {
     "name": "stderr",
     "output_type": "stream",
     "text": [
      " 47%|████▋     | 51/108 [00:00<00:00, 98.30it/s]"
     ]
    },
    {
     "name": "stdout",
     "output_type": "stream",
     "text": [
      "451.tdms ====> 335path (non-cutting)\n",
      "452.tdms ====> 335path (cutting)\n",
      "453.tdms ====> 336path (non-cutting)\n",
      "454.tdms ====> 336path (cutting)\n",
      "455.tdms ====> 337path (non-cutting)\n",
      "456.tdms ====> 337path (cutting)\n",
      "457.tdms ====> 338path (non-cutting)\n",
      "458.tdms ====> 338path (cutting)\n",
      "459.tdms ====> 339path (non-cutting)\n",
      "460.tdms ====> 339path (cutting)\n",
      "461.tdms ====> 340path (non-cutting)\n",
      "462.tdms ====> 340path (cutting)\n",
      "463.tdms ====> 341path (non-cutting)\n",
      "464.tdms ====> 341path (cutting)\n",
      "465.tdms ====> 342path (non-cutting)\n",
      "466.tdms ====> 342path (cutting)\n",
      "467.tdms ====> 343path (non-cutting)\n",
      "468.tdms ====> 343path (cutting)\n",
      "469.tdms ====> 344path (non-cutting)\n"
     ]
    },
    {
     "name": "stderr",
     "output_type": "stream",
     "text": [
      " 67%|██████▋   | 72/108 [00:00<00:00, 98.36it/s]"
     ]
    },
    {
     "name": "stdout",
     "output_type": "stream",
     "text": [
      "470.tdms ====> 344path (cutting)\n",
      "471.tdms ====> 345path (non-cutting)\n",
      "472.tdms ====> 345path (cutting)\n",
      "473.tdms ====> 346path (non-cutting)\n",
      "474.tdms ====> 346path (cutting)\n",
      "475.tdms ====> 347path (non-cutting)\n",
      "476.tdms ====> 347path (cutting)\n",
      "477.tdms ====> 348path (non-cutting)\n",
      "478.tdms ====> 348path (cutting)\n",
      "479.tdms ====> 349path (non-cutting)\n",
      "480.tdms ====> 349path (cutting)\n",
      "481.tdms ====> 350path (non-cutting)\n",
      "482.tdms ====> 350path (cutting)\n",
      "483.tdms ====> 351path (non-cutting)\n",
      "484.tdms ====> 351path (cutting)\n",
      "485.tdms ====> 352path (non-cutting)\n",
      "486.tdms ====> 352path (cutting)\n",
      "487.tdms ====> 353path (non-cutting)\n",
      "488.tdms ====> 353path (cutting)"
     ]
    },
    {
     "name": "stderr",
     "output_type": "stream",
     "text": [
      "\r",
      " 76%|███████▌  | 82/108 [00:00<00:00, 96.01it/s]"
     ]
    },
    {
     "name": "stdout",
     "output_type": "stream",
     "text": [
      "\n",
      "489.tdms ====> 354path (non-cutting)\n",
      "490.tdms ====> 354path (cutting)\n",
      "491.tdms ====> 355path (non-cutting)\n",
      "492.tdms ====> 355path (cutting)\n",
      "493.tdms ====> 356path (non-cutting)\n",
      "494.tdms ====> 356path (cutting)\n",
      "495.tdms ====> 357path (non-cutting)\n",
      "496.tdms ====> 357path (cutting)\n",
      "497.tdms ====> 358path (non-cutting)\n",
      "498.tdms ====> 358path (cutting)\n",
      "499.tdms ====> 359path (non-cutting)\n",
      "500.tdms ====> 359path (cutting)\n",
      "501.tdms ====> 360path (non-cutting)\n",
      "502.tdms ====> 360path (cutting)\n",
      "503.tdms ====> 361path (non-cutting)\n",
      "504.tdms ====> 361path (cutting)\n",
      "505.tdms ====> 362path (non-cutting)\n"
     ]
    },
    {
     "name": "stderr",
     "output_type": "stream",
     "text": [
      " 94%|█████████▍| 102/108 [00:01<00:00, 93.88it/s]"
     ]
    },
    {
     "name": "stdout",
     "output_type": "stream",
     "text": [
      "506.tdms ====> 362path (cutting)\n",
      "507.tdms ====> 363path (non-cutting)\n",
      "508.tdms ====> 363path (cutting)\n",
      "509.tdms ====> 364path (non-cutting)\n",
      "510.tdms ====> 364path (cutting)\n",
      "511.tdms ====> 365path (non-cutting)\n",
      "512.tdms ====> 365path (cutting)\n",
      "513.tdms ====> 366path (non-cutting)\n",
      "514.tdms ====> 366path (cutting)\n",
      "515.tdms ====> 367path (non-cutting)\n",
      "516.tdms ====> 367path (cutting)\n",
      "517.tdms ====> 368path (non-cutting)\n",
      "518.tdms ====> 368path (cutting)\n",
      "519.tdms ====> 369path (non-cutting)\n",
      "520.tdms ====> 369path (cutting)\n",
      "521.tdms ====> 370path (non-cutting)\n"
     ]
    },
    {
     "name": "stderr",
     "output_type": "stream",
     "text": [
      "\r",
      "100%|██████████| 108/108 [00:01<00:00, 94.70it/s]"
     ]
    },
    {
     "name": "stdout",
     "output_type": "stream",
     "text": [
      "522.tdms ====> 370path (cutting)\n"
     ]
    },
    {
     "name": "stderr",
     "output_type": "stream",
     "text": [
      "\n"
     ]
    }
   ],
   "source": [
    "# os.rename(変更前ファイル、変更後ファイル)\n",
    "for i in tqdm(range(415, 523)):\n",
    "    if(i%2 == 1):\n",
    "        num = int((i - 413)/2) + 316\n",
    "        print(f\"{int(i)}.tdms ====> {int(num)}path (non-cutting)\")\n",
    "        old_name = rf\"Z:\\100 Raw_data\\20230117---切削実験\\raw\\AE\\1-5000\\AE_{i}.tdms\"\n",
    "        new_name = rf\"Z:\\100 Raw_data\\20230117---切削実験\\AE\\Non-Cutting\\AE_{num}.tdms\"\n",
    "        os.rename(old_name, new_name)\n",
    "        \n",
    "        old_name_cf = rf\"Z:\\100 Raw_data\\20230117---切削実験\\raw\\Dynamometer\\1-5000\\Dynamometer_{i}.tdms\"\n",
    "        new_name_cf = rf\"Z:\\100 Raw_data\\20230117---切削実験\\Dynamometer\\Non-Cutting\\Dynamo_{num}.tdms\"\n",
    "        os.rename(old_name_cf, new_name_cf)\n",
    "        \n",
    "    if(i%2 == 0):\n",
    "        num = int((i - 414)/2) + 316\n",
    "        print(f\"{int(i)}.tdms ====> {int(num)}path (cutting)\")\n",
    "        old_name = rf\"Z:\\100 Raw_data\\20230117---切削実験\\raw\\AE\\1-5000\\AE_{i}.tdms\"\n",
    "        new_name = rf\"Z:\\100 Raw_data\\20230117---切削実験\\AE\\Cutting\\AE_{num}.tdms\"\n",
    "        os.rename(old_name, new_name)\n",
    "        \n",
    "        old_name_cf = rf\"Z:\\100 Raw_data\\20230117---切削実験\\raw\\Dynamometer\\1-5000\\Dynamometer_{i}.tdms\"\n",
    "        new_name_cf = rf\"Z:\\100 Raw_data\\20230117---切削実験\\Dynamometer\\Cutting\\Dynamo_{num}.tdms\"\n",
    "        os.rename(old_name_cf, new_name_cf)"
   ]
  },
  {
   "cell_type": "markdown",
   "metadata": {},
   "source": [
    "### 372path - 389path"
   ]
  },
  {
   "cell_type": "code",
   "execution_count": 19,
   "metadata": {},
   "outputs": [
    {
     "name": "stderr",
     "output_type": "stream",
     "text": [
      " 22%|██▏       | 8/36 [00:00<00:00, 73.81it/s]"
     ]
    },
    {
     "name": "stdout",
     "output_type": "stream",
     "text": [
      "527.tdms ====> 372path (non-cutting)\n",
      "528.tdms ====> 372path (cutting)\n",
      "529.tdms ====> 373path (non-cutting)\n",
      "530.tdms ====> 373path (cutting)\n",
      "531.tdms ====> 374path (non-cutting)\n",
      "532.tdms ====> 374path (cutting)\n",
      "533.tdms ====> 375path (non-cutting)\n",
      "534.tdms ====> 375path (cutting)\n",
      "535.tdms ====> 376path (non-cutting)\n",
      "536.tdms ====> 376path (cutting)\n",
      "537.tdms ====> 377path (non-cutting)\n",
      "538.tdms ====> 377path (cutting)\n",
      "539.tdms ====> 378path (non-cutting)\n",
      "540.tdms ====> 378path (cutting)\n",
      "541.tdms ====> 379path (non-cutting)\n",
      "542.tdms ====> 379path (cutting)\n",
      "543.tdms ====> 380path (non-cutting)\n"
     ]
    },
    {
     "name": "stderr",
     "output_type": "stream",
     "text": [
      " 83%|████████▎ | 30/36 [00:00<00:00, 86.12it/s]"
     ]
    },
    {
     "name": "stdout",
     "output_type": "stream",
     "text": [
      "544.tdms ====> 380path (cutting)\n",
      "545.tdms ====> 381path (non-cutting)\n",
      "546.tdms ====> 381path (cutting)\n",
      "547.tdms ====> 382path (non-cutting)\n",
      "548.tdms ====> 382path (cutting)\n",
      "549.tdms ====> 383path (non-cutting)\n",
      "550.tdms ====> 383path (cutting)\n",
      "551.tdms ====> 384path (non-cutting)\n",
      "552.tdms ====> 384path (cutting)\n",
      "553.tdms ====> 385path (non-cutting)\n",
      "554.tdms ====> 385path (cutting)\n",
      "555.tdms ====> 386path (non-cutting)\n",
      "556.tdms ====> 386path (cutting)\n",
      "557.tdms ====> 387path (non-cutting)\n",
      "558.tdms ====> 387path (cutting)\n",
      "559.tdms ====> 388path (non-cutting)\n",
      "560.tdms ====> 388path (cutting)\n",
      "561.tdms ====> 389path (non-cutting)\n",
      "562.tdms ====> 389path (cutting)\n"
     ]
    },
    {
     "name": "stderr",
     "output_type": "stream",
     "text": [
      "100%|██████████| 36/36 [00:00<00:00, 93.58it/s]\n"
     ]
    }
   ],
   "source": [
    "# os.rename(変更前ファイル、変更後ファイル)\n",
    "for i in tqdm(range(527, 563)):\n",
    "    if(i%2 == 1):\n",
    "        num = int((i - 525)/2) + 371\n",
    "        print(f\"{int(i)}.tdms ====> {int(num)}path (non-cutting)\")\n",
    "        old_name = rf\"Z:\\100 Raw_data\\20230117---切削実験\\raw\\AE\\1-5000\\AE_{i}.tdms\"\n",
    "        new_name = rf\"Z:\\100 Raw_data\\20230117---切削実験\\AE\\Non-Cutting\\AE_{num}.tdms\"\n",
    "        os.rename(old_name, new_name)\n",
    "        \n",
    "        old_name_cf = rf\"Z:\\100 Raw_data\\20230117---切削実験\\raw\\Dynamometer\\1-5000\\Dynamometer_{i}.tdms\"\n",
    "        new_name_cf = rf\"Z:\\100 Raw_data\\20230117---切削実験\\Dynamometer\\Non-Cutting\\Dynamo_{num}.tdms\"\n",
    "        os.rename(old_name_cf, new_name_cf)\n",
    "        \n",
    "    if(i%2 == 0):\n",
    "        num = int((i - 526)/2) + 371\n",
    "        print(f\"{int(i)}.tdms ====> {int(num)}path (cutting)\")\n",
    "        old_name = rf\"Z:\\100 Raw_data\\20230117---切削実験\\raw\\AE\\1-5000\\AE_{i}.tdms\"\n",
    "        new_name = rf\"Z:\\100 Raw_data\\20230117---切削実験\\AE\\Cutting\\AE_{num}.tdms\"\n",
    "        os.rename(old_name, new_name)\n",
    "        \n",
    "        old_name_cf = rf\"Z:\\100 Raw_data\\20230117---切削実験\\raw\\Dynamometer\\1-5000\\Dynamometer_{i}.tdms\"\n",
    "        new_name_cf = rf\"Z:\\100 Raw_data\\20230117---切削実験\\Dynamometer\\Cutting\\Dynamo_{num}.tdms\"\n",
    "        os.rename(old_name_cf, new_name_cf)"
   ]
  },
  {
   "cell_type": "markdown",
   "metadata": {},
   "source": [
    "### 391path - 437path"
   ]
  },
  {
   "cell_type": "code",
   "execution_count": 20,
   "metadata": {},
   "outputs": [
    {
     "name": "stderr",
     "output_type": "stream",
     "text": [
      " 11%|█         | 10/94 [00:00<00:00, 96.49it/s]"
     ]
    },
    {
     "name": "stdout",
     "output_type": "stream",
     "text": [
      "566.tdms ====> 391path (non-cutting)\n",
      "567.tdms ====> 391path (cutting)\n",
      "568.tdms ====> 392path (non-cutting)\n",
      "569.tdms ====> 392path (cutting)\n",
      "570.tdms ====> 393path (non-cutting)\n",
      "571.tdms ====> 393path (cutting)\n",
      "572.tdms ====> 394path (non-cutting)\n",
      "573.tdms ====> 394path (cutting)\n",
      "574.tdms ====> 395path (non-cutting)\n",
      "575.tdms ====> 395path (cutting)\n",
      "576.tdms ====> 396path (non-cutting)\n",
      "577.tdms ====> 396path (cutting)\n",
      "578.tdms ====> 397path (non-cutting)\n",
      "579.tdms ====> 397path (cutting)\n",
      "580.tdms ====> 398path (non-cutting)\n",
      "581.tdms ====> 398path (cutting)\n",
      "582.tdms ====> 399path (non-cutting)\n",
      "583.tdms ====> 399path (cutting)\n"
     ]
    },
    {
     "name": "stderr",
     "output_type": "stream",
     "text": [
      " 32%|███▏      | 30/94 [00:00<00:00, 96.57it/s]"
     ]
    },
    {
     "name": "stdout",
     "output_type": "stream",
     "text": [
      "584.tdms ====> 400path (non-cutting)\n",
      "585.tdms ====> 400path (cutting)\n",
      "586.tdms ====> 401path (non-cutting)\n",
      "587.tdms ====> 401path (cutting)\n",
      "588.tdms ====> 402path (non-cutting)\n",
      "589.tdms ====> 402path (cutting)\n",
      "590.tdms ====> 403path (non-cutting)\n",
      "591.tdms ====> 403path (cutting)\n",
      "592.tdms ====> 404path (non-cutting)\n",
      "593.tdms ====> 404path (cutting)\n",
      "594.tdms ====> 405path (non-cutting)\n",
      "595.tdms ====> 405path (cutting)\n",
      "596.tdms ====> 406path (non-cutting)\n",
      "597.tdms ====> 406path (cutting)\n",
      "598.tdms ====> 407path (non-cutting)\n",
      "599.tdms ====> 407path (cutting)\n",
      "600.tdms ====> 408path (non-cutting)\n",
      "601.tdms ====> 408path (cutting)\n",
      "602.tdms ====> 409path (non-cutting)\n",
      "603.tdms ====> 409path (cutting)\n"
     ]
    },
    {
     "name": "stderr",
     "output_type": "stream",
     "text": [
      " 54%|█████▍    | 51/94 [00:00<00:00, 98.40it/s]"
     ]
    },
    {
     "name": "stdout",
     "output_type": "stream",
     "text": [
      "604.tdms ====> 410path (non-cutting)\n",
      "605.tdms ====> 410path (cutting)\n",
      "606.tdms ====> 411path (non-cutting)\n",
      "607.tdms ====> 411path (cutting)\n",
      "608.tdms ====> 412path (non-cutting)\n",
      "609.tdms ====> 412path (cutting)\n",
      "610.tdms ====> 413path (non-cutting)\n",
      "611.tdms ====> 413path (cutting)\n",
      "612.tdms ====> 414path (non-cutting)\n",
      "613.tdms ====> 414path (cutting)\n",
      "614.tdms ====> 415path (non-cutting)\n",
      "615.tdms ====> 415path (cutting)\n",
      "616.tdms ====> 416path (non-cutting)\n",
      "617.tdms ====> 416path (cutting)\n",
      "618.tdms ====> 417path (non-cutting)\n",
      "619.tdms ====> 417path (cutting)\n",
      "620.tdms ====> 418path (non-cutting)\n",
      "621.tdms ====> 418path (cutting)\n",
      "622.tdms ====> 419path (non-cutting)"
     ]
    },
    {
     "name": "stderr",
     "output_type": "stream",
     "text": [
      " 77%|███████▋  | 72/94 [00:00<00:00, 99.27it/s]"
     ]
    },
    {
     "name": "stdout",
     "output_type": "stream",
     "text": [
      "\n",
      "623.tdms ====> 419path (cutting)\n",
      "624.tdms ====> 420path (non-cutting)\n",
      "625.tdms ====> 420path (cutting)\n",
      "626.tdms ====> 421path (non-cutting)\n",
      "627.tdms ====> 421path (cutting)\n",
      "628.tdms ====> 422path (non-cutting)\n",
      "629.tdms ====> 422path (cutting)\n",
      "630.tdms ====> 423path (non-cutting)\n",
      "631.tdms ====> 423path (cutting)\n",
      "632.tdms ====> 424path (non-cutting)\n",
      "633.tdms ====> 424path (cutting)\n",
      "634.tdms ====> 425path (non-cutting)\n",
      "635.tdms ====> 425path (cutting)\n",
      "636.tdms ====> 426path (non-cutting)\n",
      "637.tdms ====> 426path (cutting)\n",
      "638.tdms ====> 427path (non-cutting)\n",
      "639.tdms ====> 427path (cutting)\n",
      "640.tdms ====> 428path (non-cutting)\n"
     ]
    },
    {
     "name": "stderr",
     "output_type": "stream",
     "text": [
      " 99%|█████████▉| 93/94 [00:00<00:00, 99.29it/s]"
     ]
    },
    {
     "name": "stdout",
     "output_type": "stream",
     "text": [
      "641.tdms ====> 428path (cutting)\n",
      "642.tdms ====> 429path (non-cutting)\n",
      "643.tdms ====> 429path (cutting)\n",
      "644.tdms ====> 430path (non-cutting)\n",
      "645.tdms ====> 430path (cutting)\n",
      "646.tdms ====> 431path (non-cutting)\n",
      "647.tdms ====> 431path (cutting)\n",
      "648.tdms ====> 432path (non-cutting)\n",
      "649.tdms ====> 432path (cutting)\n",
      "650.tdms ====> 433path (non-cutting)\n",
      "651.tdms ====> 433path (cutting)\n",
      "652.tdms ====> 434path (non-cutting)\n",
      "653.tdms ====> 434path (cutting)\n",
      "654.tdms ====> 435path (non-cutting)\n",
      "655.tdms ====> 435path (cutting)\n",
      "656.tdms ====> 436path (non-cutting)\n",
      "657.tdms ====> 436path (cutting)\n",
      "658.tdms ====> 437path (non-cutting)\n"
     ]
    },
    {
     "name": "stderr",
     "output_type": "stream",
     "text": [
      "\r",
      "100%|██████████| 94/94 [00:00<00:00, 97.97it/s]"
     ]
    },
    {
     "name": "stdout",
     "output_type": "stream",
     "text": [
      "659.tdms ====> 437path (cutting)\n"
     ]
    },
    {
     "name": "stderr",
     "output_type": "stream",
     "text": [
      "\n"
     ]
    }
   ],
   "source": [
    "# os.rename(変更前ファイル、変更後ファイル)\n",
    "for i in tqdm(range(566, 660)):\n",
    "    if(i%2 == 0):\n",
    "        num = int((i - 564)/2) + 390\n",
    "        print(f\"{int(i)}.tdms ====> {int(num)}path (non-cutting)\")\n",
    "        old_name = rf\"Z:\\100 Raw_data\\20230117---切削実験\\raw\\AE\\1-5000\\AE_{i}.tdms\"\n",
    "        new_name = rf\"Z:\\100 Raw_data\\20230117---切削実験\\AE\\Non-Cutting\\AE_{num}.tdms\"\n",
    "        os.rename(old_name, new_name)\n",
    "        \n",
    "        old_name_cf = rf\"Z:\\100 Raw_data\\20230117---切削実験\\raw\\Dynamometer\\1-5000\\Dynamometer_{i}.tdms\"\n",
    "        new_name_cf = rf\"Z:\\100 Raw_data\\20230117---切削実験\\Dynamometer\\Non-Cutting\\Dynamo_{num}.tdms\"\n",
    "        os.rename(old_name_cf, new_name_cf)\n",
    "        \n",
    "    if(i%2 == 1):\n",
    "        num = int((i - 564)/2) + 390\n",
    "        print(f\"{int(i)}.tdms ====> {int(num)}path (cutting)\")\n",
    "        old_name = rf\"Z:\\100 Raw_data\\20230117---切削実験\\raw\\AE\\1-5000\\AE_{i}.tdms\"\n",
    "        new_name = rf\"Z:\\100 Raw_data\\20230117---切削実験\\AE\\Cutting\\AE_{num}.tdms\"\n",
    "        os.rename(old_name, new_name)\n",
    "        \n",
    "        old_name_cf = rf\"Z:\\100 Raw_data\\20230117---切削実験\\raw\\Dynamometer\\1-5000\\Dynamometer_{i}.tdms\"\n",
    "        new_name_cf = rf\"Z:\\100 Raw_data\\20230117---切削実験\\Dynamometer\\Cutting\\Dynamo_{num}.tdms\"\n",
    "        os.rename(old_name_cf, new_name_cf)"
   ]
  },
  {
   "cell_type": "markdown",
   "metadata": {},
   "source": [
    "### 438path - 460path"
   ]
  },
  {
   "cell_type": "code",
   "execution_count": 21,
   "metadata": {},
   "outputs": [
    {
     "name": "stderr",
     "output_type": "stream",
     "text": [
      " 17%|█▋        | 8/46 [00:00<00:00, 76.97it/s]"
     ]
    },
    {
     "name": "stdout",
     "output_type": "stream",
     "text": [
      "661.tdms ====> 438path (non-cutting)\n",
      "662.tdms ====> 438path (cutting)\n",
      "663.tdms ====> 439path (non-cutting)\n",
      "664.tdms ====> 439path (cutting)\n",
      "665.tdms ====> 440path (non-cutting)\n",
      "666.tdms ====> 440path (cutting)\n",
      "667.tdms ====> 441path (non-cutting)\n",
      "668.tdms ====> 441path (cutting)\n",
      "669.tdms ====> 442path (non-cutting)\n",
      "670.tdms ====> 442path (cutting)\n",
      "671.tdms ====> 443path (non-cutting)\n",
      "672.tdms ====> 443path (cutting)\n",
      "673.tdms ====> 444path (non-cutting)\n",
      "674.tdms ====> 444path (cutting)\n",
      "675.tdms ====> 445path (non-cutting)\n",
      "676.tdms ====> 445path (cutting)\n"
     ]
    },
    {
     "name": "stderr",
     "output_type": "stream",
     "text": [
      " 63%|██████▎   | 29/46 [00:00<00:00, 87.43it/s]"
     ]
    },
    {
     "name": "stdout",
     "output_type": "stream",
     "text": [
      "677.tdms ====> 446path (non-cutting)\n",
      "678.tdms ====> 446path (cutting)\n",
      "679.tdms ====> 447path (non-cutting)\n",
      "680.tdms ====> 447path (cutting)\n",
      "681.tdms ====> 448path (non-cutting)\n",
      "682.tdms ====> 448path (cutting)\n",
      "683.tdms ====> 449path (non-cutting)\n",
      "684.tdms ====> 449path (cutting)\n",
      "685.tdms ====> 450path (non-cutting)\n",
      "686.tdms ====> 450path (cutting)\n",
      "687.tdms ====> 451path (non-cutting)\n",
      "688.tdms ====> 451path (cutting)\n",
      "689.tdms ====> 452path (non-cutting)\n",
      "690.tdms ====> 452path (cutting)\n",
      "691.tdms ====> 453path (non-cutting)\n",
      "692.tdms ====> 453path (cutting)\n",
      "693.tdms ====> 454path (non-cutting)\n",
      "694.tdms ====> 454path (cutting)\n",
      "695.tdms ====> 455path (non-cutting)\n"
     ]
    },
    {
     "name": "stderr",
     "output_type": "stream",
     "text": [
      "100%|██████████| 46/46 [00:00<00:00, 93.72it/s]"
     ]
    },
    {
     "name": "stdout",
     "output_type": "stream",
     "text": [
      "696.tdms ====> 455path (cutting)\n",
      "697.tdms ====> 456path (non-cutting)\n",
      "698.tdms ====> 456path (cutting)\n",
      "699.tdms ====> 457path (non-cutting)\n",
      "700.tdms ====> 457path (cutting)\n",
      "701.tdms ====> 458path (non-cutting)\n",
      "702.tdms ====> 458path (cutting)\n",
      "703.tdms ====> 459path (non-cutting)\n",
      "704.tdms ====> 459path (cutting)\n",
      "705.tdms ====> 460path (non-cutting)\n",
      "706.tdms ====> 460path (cutting)\n"
     ]
    },
    {
     "name": "stderr",
     "output_type": "stream",
     "text": [
      "\n"
     ]
    }
   ],
   "source": [
    "# os.rename(変更前ファイル、変更後ファイル)\n",
    "for i in tqdm(range(661, 707)):\n",
    "    if(i%2 == 1):\n",
    "        num = int((i - 659)/2) + 437\n",
    "        print(f\"{int(i)}.tdms ====> {int(num)}path (non-cutting)\")\n",
    "        old_name = rf\"Z:\\100 Raw_data\\20230117---切削実験\\raw\\AE\\1-5000\\AE_{i}.tdms\"\n",
    "        new_name = rf\"Z:\\100 Raw_data\\20230117---切削実験\\AE\\Non-Cutting\\AE_{num}.tdms\"\n",
    "        os.rename(old_name, new_name)\n",
    "        \n",
    "        old_name_cf = rf\"Z:\\100 Raw_data\\20230117---切削実験\\raw\\Dynamometer\\1-5000\\Dynamometer_{i}.tdms\"\n",
    "        new_name_cf = rf\"Z:\\100 Raw_data\\20230117---切削実験\\Dynamometer\\Non-Cutting\\Dynamo_{num}.tdms\"\n",
    "        os.rename(old_name_cf, new_name_cf)\n",
    "        \n",
    "    if(i%2 == 0):\n",
    "        num = int((i - 660)/2) + 437\n",
    "        print(f\"{int(i)}.tdms ====> {int(num)}path (cutting)\")\n",
    "        old_name = rf\"Z:\\100 Raw_data\\20230117---切削実験\\raw\\AE\\1-5000\\AE_{i}.tdms\"\n",
    "        new_name = rf\"Z:\\100 Raw_data\\20230117---切削実験\\AE\\Cutting\\AE_{num}.tdms\"\n",
    "        os.rename(old_name, new_name)\n",
    "        \n",
    "        old_name_cf = rf\"Z:\\100 Raw_data\\20230117---切削実験\\raw\\Dynamometer\\1-5000\\Dynamometer_{i}.tdms\"\n",
    "        new_name_cf = rf\"Z:\\100 Raw_data\\20230117---切削実験\\Dynamometer\\Cutting\\Dynamo_{num}.tdms\"\n",
    "        os.rename(old_name_cf, new_name_cf)"
   ]
  },
  {
   "cell_type": "markdown",
   "metadata": {},
   "source": [
    "# --------------------------------------------------------------\n",
    "# 20230120"
   ]
  },
  {
   "cell_type": "code",
   "execution_count": 5,
   "metadata": {},
   "outputs": [
    {
     "name": "stderr",
     "output_type": "stream",
     "text": [
      "  1%|          | 6/920 [00:00<00:18, 49.16it/s]"
     ]
    },
    {
     "name": "stdout",
     "output_type": "stream",
     "text": [
      "42.tdms ====> 1path (cutting)\n",
      "43.tdms ====> 1path (non-cutting)\n",
      "44.tdms ====> 2path (cutting)\n",
      "45.tdms ====> 2path (non-cutting)\n",
      "46.tdms ====> 3path (cutting)\n",
      "47.tdms ====> 3path (non-cutting)\n",
      "48.tdms ====> 4path (cutting)\n",
      "49.tdms ====> 4path (non-cutting)\n",
      "50.tdms ====> 5path (cutting)\n",
      "51.tdms ====> 5path (non-cutting)\n",
      "52.tdms ====> 6path (cutting)\n",
      "53.tdms ====> 6path (non-cutting)\n"
     ]
    },
    {
     "name": "stderr",
     "output_type": "stream",
     "text": [
      "  3%|▎         | 25/920 [00:00<00:13, 64.21it/s]"
     ]
    },
    {
     "name": "stdout",
     "output_type": "stream",
     "text": [
      "54.tdms ====> 7path (cutting)\n",
      "55.tdms ====> 7path (non-cutting)\n",
      "56.tdms ====> 8path (cutting)\n",
      "57.tdms ====> 8path (non-cutting)\n",
      "58.tdms ====> 9path (cutting)\n",
      "59.tdms ====> 9path (non-cutting)\n",
      "60.tdms ====> 10path (cutting)\n",
      "61.tdms ====> 10path (non-cutting)\n",
      "62.tdms ====> 11path (cutting)\n",
      "63.tdms ====> 11path (non-cutting)\n",
      "64.tdms ====> 12path (cutting)\n",
      "65.tdms ====> 12path (non-cutting)\n",
      "66.tdms ====> 13path (cutting)\n",
      "67.tdms ====> 13path (non-cutting)\n",
      "68.tdms ====> 14path (cutting)\n",
      "69.tdms ====> 14path (non-cutting)\n",
      "70.tdms ====> 15path (cutting)\n",
      "71.tdms ====> 15path (non-cutting)\n"
     ]
    },
    {
     "name": "stderr",
     "output_type": "stream",
     "text": [
      "  4%|▍         | 40/920 [00:00<00:13, 67.49it/s]"
     ]
    },
    {
     "name": "stdout",
     "output_type": "stream",
     "text": [
      "72.tdms ====> 16path (cutting)\n",
      "73.tdms ====> 16path (non-cutting)\n",
      "74.tdms ====> 17path (cutting)\n",
      "75.tdms ====> 17path (non-cutting)\n",
      "76.tdms ====> 18path (cutting)\n",
      "77.tdms ====> 18path (non-cutting)\n",
      "78.tdms ====> 19path (cutting)\n",
      "79.tdms ====> 19path (non-cutting)\n",
      "80.tdms ====> 20path (cutting)\n",
      "81.tdms ====> 20path (non-cutting)\n",
      "82.tdms ====> 21path (cutting)\n",
      "83.tdms ====> 21path (non-cutting)\n",
      "84.tdms ====> 22path (cutting)\n",
      "85.tdms ====> 22path (non-cutting)\n",
      "86.tdms ====> 23path (cutting)\n",
      "87.tdms ====> 23path (non-cutting)\n"
     ]
    },
    {
     "name": "stderr",
     "output_type": "stream",
     "text": [
      "  7%|▋         | 61/920 [00:00<00:10, 80.95it/s]"
     ]
    },
    {
     "name": "stdout",
     "output_type": "stream",
     "text": [
      "88.tdms ====> 24path (cutting)\n",
      "89.tdms ====> 24path (non-cutting)\n",
      "90.tdms ====> 25path (cutting)\n",
      "91.tdms ====> 25path (non-cutting)\n",
      "92.tdms ====> 26path (cutting)\n",
      "93.tdms ====> 26path (non-cutting)\n",
      "94.tdms ====> 27path (cutting)\n",
      "95.tdms ====> 27path (non-cutting)\n",
      "96.tdms ====> 28path (cutting)\n",
      "97.tdms ====> 28path (non-cutting)\n",
      "98.tdms ====> 29path (cutting)\n",
      "99.tdms ====> 29path (non-cutting)\n",
      "100.tdms ====> 30path (cutting)\n",
      "101.tdms ====> 30path (non-cutting)\n",
      "102.tdms ====> 31path (cutting)\n",
      "103.tdms ====> 31path (non-cutting)\n",
      "104.tdms ====> 32path (cutting)\n",
      "105.tdms ====> 32path (non-cutting)\n",
      "106.tdms ====> 33path (cutting)\n"
     ]
    },
    {
     "name": "stderr",
     "output_type": "stream",
     "text": [
      "  9%|▊         | 80/920 [00:00<00:09, 86.74it/s]"
     ]
    },
    {
     "name": "stdout",
     "output_type": "stream",
     "text": [
      "107.tdms ====> 33path (non-cutting)\n",
      "108.tdms ====> 34path (cutting)\n",
      "109.tdms ====> 34path (non-cutting)\n",
      "110.tdms ====> 35path (cutting)\n",
      "111.tdms ====> 35path (non-cutting)\n",
      "112.tdms ====> 36path (cutting)\n",
      "113.tdms ====> 36path (non-cutting)\n",
      "114.tdms ====> 37path (cutting)\n",
      "115.tdms ====> 37path (non-cutting)\n",
      "116.tdms ====> 38path (cutting)\n",
      "117.tdms ====> 38path (non-cutting)\n",
      "118.tdms ====> 39path (cutting)\n",
      "119.tdms ====> 39path (non-cutting)\n",
      "120.tdms ====> 40path (cutting)\n",
      "121.tdms ====> 40path (non-cutting)\n",
      "122.tdms ====> 41path (cutting)\n",
      "123.tdms ====> 41path (non-cutting)\n",
      "124.tdms ====> 42path (cutting)\n",
      "125.tdms ====> 42path (non-cutting)"
     ]
    },
    {
     "name": "stderr",
     "output_type": "stream",
     "text": [
      "\r",
      " 10%|▉         | 89/920 [00:01<00:11, 72.74it/s]"
     ]
    },
    {
     "name": "stdout",
     "output_type": "stream",
     "text": [
      "\n",
      "126.tdms ====> 43path (cutting)\n",
      "127.tdms ====> 43path (non-cutting)\n",
      "128.tdms ====> 44path (cutting)\n",
      "129.tdms ====> 44path (non-cutting)\n",
      "130.tdms ====> 45path (cutting)\n",
      "131.tdms ====> 45path (non-cutting)\n",
      "132.tdms ====> 46path (cutting)\n"
     ]
    },
    {
     "name": "stderr",
     "output_type": "stream",
     "text": [
      "\r",
      " 11%|█         | 97/920 [00:01<00:13, 63.25it/s]"
     ]
    },
    {
     "name": "stdout",
     "output_type": "stream",
     "text": [
      "133.tdms ====> 46path (non-cutting)\n",
      "134.tdms ====> 47path (cutting)\n",
      "135.tdms ====> 47path (non-cutting)\n",
      "136.tdms ====> 48path (cutting)\n",
      "137.tdms ====> 48path (non-cutting)\n",
      "138.tdms ====> 49path (cutting)\n",
      "139.tdms ====> 49path (non-cutting)\n",
      "140.tdms ====> 50path (cutting)\n",
      "141.tdms ====> 50path (non-cutting)\n",
      "142.tdms ====> 51path (cutting)\n",
      "143.tdms ====> 51path (non-cutting)\n",
      "144.tdms ====> 52path (cutting)\n",
      "145.tdms ====> 52path (non-cutting)\n",
      "146.tdms ====> 53path (cutting)"
     ]
    },
    {
     "name": "stderr",
     "output_type": "stream",
     "text": [
      " 12%|█▏        | 114/920 [00:01<00:11, 70.15it/s]"
     ]
    },
    {
     "name": "stdout",
     "output_type": "stream",
     "text": [
      "\n",
      "147.tdms ====> 53path (non-cutting)\n",
      "148.tdms ====> 54path (cutting)\n",
      "149.tdms ====> 54path (non-cutting)\n",
      "150.tdms ====> 55path (cutting)\n",
      "151.tdms ====> 55path (non-cutting)\n",
      "152.tdms ====> 56path (cutting)\n",
      "153.tdms ====> 56path (non-cutting)\n",
      "154.tdms ====> 57path (cutting)\n",
      "155.tdms ====> 57path (non-cutting)\n",
      "156.tdms ====> 58path (cutting)\n",
      "157.tdms ====> 58path (non-cutting)\n",
      "158.tdms ====> 59path (cutting)\n",
      "159.tdms ====> 59path (non-cutting)\n",
      "160.tdms ====> 60path (cutting)"
     ]
    },
    {
     "name": "stderr",
     "output_type": "stream",
     "text": [
      "\r",
      " 13%|█▎        | 122/920 [00:01<00:11, 68.10it/s]"
     ]
    },
    {
     "name": "stdout",
     "output_type": "stream",
     "text": [
      "\n",
      "161.tdms ====> 60path (non-cutting)\n",
      "162.tdms ====> 61path (cutting)\n",
      "163.tdms ====> 61path (non-cutting)\n",
      "164.tdms ====> 62path (cutting)\n",
      "165.tdms ====> 62path (non-cutting)\n",
      "166.tdms ====> 63path (cutting)\n",
      "167.tdms ====> 63path (non-cutting)\n",
      "168.tdms ====> 64path (cutting)\n",
      "169.tdms ====> 64path (non-cutting)\n",
      "170.tdms ====> 65path (cutting)\n"
     ]
    },
    {
     "name": "stderr",
     "output_type": "stream",
     "text": [
      " 15%|█▌        | 140/920 [00:01<00:10, 72.36it/s]"
     ]
    },
    {
     "name": "stdout",
     "output_type": "stream",
     "text": [
      "171.tdms ====> 65path (non-cutting)\n",
      "172.tdms ====> 66path (cutting)\n",
      "173.tdms ====> 66path (non-cutting)\n",
      "174.tdms ====> 67path (cutting)\n",
      "175.tdms ====> 67path (non-cutting)\n",
      "176.tdms ====> 68path (cutting)\n",
      "177.tdms ====> 68path (non-cutting)\n",
      "178.tdms ====> 69path (cutting)\n",
      "179.tdms ====> 69path (non-cutting)\n",
      "180.tdms ====> 70path (cutting)\n",
      "181.tdms ====> 70path (non-cutting)\n",
      "182.tdms ====> 71path (cutting)\n",
      "183.tdms ====> 71path (non-cutting)\n",
      "184.tdms ====> 72path (cutting)\n",
      "185.tdms ====> 72path (non-cutting)\n",
      "186.tdms ====> 73path (cutting)\n",
      "187.tdms ====> 73path (non-cutting)\n",
      "188.tdms ====> 74path (cutting)\n",
      "189.tdms ====> 74path (non-cutting)"
     ]
    },
    {
     "name": "stderr",
     "output_type": "stream",
     "text": [
      " 18%|█▊        | 161/920 [00:02<00:09, 83.96it/s]"
     ]
    },
    {
     "name": "stdout",
     "output_type": "stream",
     "text": [
      "\n",
      "190.tdms ====> 75path (cutting)\n",
      "191.tdms ====> 75path (non-cutting)\n",
      "192.tdms ====> 76path (cutting)\n",
      "193.tdms ====> 76path (non-cutting)\n",
      "194.tdms ====> 77path (cutting)\n",
      "195.tdms ====> 77path (non-cutting)\n",
      "196.tdms ====> 78path (cutting)\n",
      "197.tdms ====> 78path (non-cutting)\n",
      "198.tdms ====> 79path (cutting)\n",
      "199.tdms ====> 79path (non-cutting)\n",
      "200.tdms ====> 80path (cutting)\n",
      "201.tdms ====> 80path (non-cutting)\n",
      "202.tdms ====> 81path (cutting)\n",
      "203.tdms ====> 81path (non-cutting)\n",
      "204.tdms ====> 82path (cutting)\n",
      "205.tdms ====> 82path (non-cutting)\n",
      "206.tdms ====> 83path (cutting)"
     ]
    },
    {
     "name": "stderr",
     "output_type": "stream",
     "text": [
      "\r",
      " 18%|█▊        | 170/920 [00:02<00:11, 66.55it/s]"
     ]
    },
    {
     "name": "stdout",
     "output_type": "stream",
     "text": [
      "\n",
      "207.tdms ====> 83path (non-cutting)\n",
      "208.tdms ====> 84path (cutting)\n",
      "209.tdms ====> 84path (non-cutting)\n",
      "210.tdms ====> 85path (cutting)\n",
      "211.tdms ====> 85path (non-cutting)\n",
      "212.tdms ====> 86path (cutting)\n",
      "213.tdms ====> 86path (non-cutting)\n",
      "214.tdms ====> 87path (cutting)\n",
      "215.tdms ====> 87path (non-cutting)"
     ]
    },
    {
     "name": "stderr",
     "output_type": "stream",
     "text": [
      " 21%|██        | 189/920 [00:02<00:09, 76.44it/s]"
     ]
    },
    {
     "name": "stdout",
     "output_type": "stream",
     "text": [
      "\n",
      "216.tdms ====> 88path (cutting)\n",
      "217.tdms ====> 88path (non-cutting)\n",
      "218.tdms ====> 89path (cutting)\n",
      "219.tdms ====> 89path (non-cutting)\n",
      "220.tdms ====> 90path (cutting)\n",
      "221.tdms ====> 90path (non-cutting)\n",
      "222.tdms ====> 91path (cutting)\n",
      "223.tdms ====> 91path (non-cutting)\n",
      "224.tdms ====> 92path (cutting)\n",
      "225.tdms ====> 92path (non-cutting)\n",
      "226.tdms ====> 93path (cutting)\n",
      "227.tdms ====> 93path (non-cutting)\n",
      "228.tdms ====> 94path (cutting)\n",
      "229.tdms ====> 94path (non-cutting)\n",
      "230.tdms ====> 95path (cutting)\n",
      "231.tdms ====> 95path (non-cutting)\n",
      "232.tdms ====> 96path (cutting)\n"
     ]
    },
    {
     "name": "stderr",
     "output_type": "stream",
     "text": [
      "\r",
      " 22%|██▏       | 198/920 [00:02<00:09, 79.57it/s]"
     ]
    },
    {
     "name": "stdout",
     "output_type": "stream",
     "text": [
      "233.tdms ====> 96path (non-cutting)\n",
      "234.tdms ====> 97path (cutting)\n",
      "235.tdms ====> 97path (non-cutting)\n",
      "236.tdms ====> 98path (cutting)\n",
      "237.tdms ====> 98path (non-cutting)\n",
      "238.tdms ====> 99path (cutting)\n",
      "239.tdms ====> 99path (non-cutting)\n",
      "240.tdms ====> 100path (cutting)\n",
      "241.tdms ====> 100path (non-cutting)\n",
      "242.tdms ====> 101path (cutting)\n",
      "243.tdms ====> 101path (non-cutting)\n",
      "244.tdms ====> 102path (cutting)\n",
      "245.tdms ====> 102path (non-cutting)"
     ]
    },
    {
     "name": "stderr",
     "output_type": "stream",
     "text": [
      " 23%|██▎       | 215/920 [00:02<00:10, 68.91it/s]"
     ]
    },
    {
     "name": "stdout",
     "output_type": "stream",
     "text": [
      "\n",
      "246.tdms ====> 103path (cutting)\n",
      "247.tdms ====> 103path (non-cutting)\n",
      "248.tdms ====> 104path (cutting)\n",
      "249.tdms ====> 104path (non-cutting)\n",
      "250.tdms ====> 105path (cutting)\n",
      "251.tdms ====> 105path (non-cutting)\n",
      "252.tdms ====> 106path (cutting)\n",
      "253.tdms ====> 106path (non-cutting)\n",
      "254.tdms ====> 107path (cutting)\n",
      "255.tdms ====> 107path (non-cutting)\n",
      "256.tdms ====> 108path (cutting)\n",
      "257.tdms ====> 108path (non-cutting)\n",
      "258.tdms ====> 109path (cutting)\n"
     ]
    },
    {
     "name": "stderr",
     "output_type": "stream",
     "text": [
      "\r",
      " 24%|██▍       | 225/920 [00:02<00:09, 75.68it/s]"
     ]
    },
    {
     "name": "stdout",
     "output_type": "stream",
     "text": [
      "259.tdms ====> 109path (non-cutting)\n",
      "260.tdms ====> 110path (cutting)\n",
      "261.tdms ====> 110path (non-cutting)\n",
      "262.tdms ====> 111path (cutting)\n",
      "263.tdms ====> 111path (non-cutting)\n",
      "264.tdms ====> 112path (cutting)\n",
      "265.tdms ====> 112path (non-cutting)\n",
      "266.tdms ====> 113path (cutting)\n",
      "267.tdms ====> 113path (non-cutting)\n",
      "268.tdms ====> 114path (cutting)\n",
      "269.tdms ====> 114path (non-cutting)\n",
      "270.tdms ====> 115path (cutting)\n",
      "271.tdms ====> 115path (non-cutting)\n",
      "272.tdms ====> 116path (cutting)\n",
      "273.tdms ====> 116path (non-cutting)\n",
      "274.tdms ====> 117path (cutting)\n",
      "275.tdms ====> 117path (non-cutting)\n"
     ]
    },
    {
     "name": "stderr",
     "output_type": "stream",
     "text": [
      " 26%|██▋       | 243/920 [00:03<00:10, 63.58it/s]"
     ]
    },
    {
     "name": "stdout",
     "output_type": "stream",
     "text": [
      "276.tdms ====> 118path (cutting)\n",
      "277.tdms ====> 118path (non-cutting)\n",
      "278.tdms ====> 119path (cutting)\n",
      "279.tdms ====> 119path (non-cutting)\n",
      "280.tdms ====> 120path (cutting)\n",
      "281.tdms ====> 120path (non-cutting)\n",
      "282.tdms ====> 121path (cutting)\n",
      "283.tdms ====> 121path (non-cutting)\n",
      "284.tdms ====> 122path (cutting)\n"
     ]
    },
    {
     "name": "stderr",
     "output_type": "stream",
     "text": [
      "\r",
      " 27%|██▋       | 251/920 [00:03<00:09, 67.50it/s]"
     ]
    },
    {
     "name": "stdout",
     "output_type": "stream",
     "text": [
      "285.tdms ====> 122path (non-cutting)\n",
      "286.tdms ====> 123path (cutting)\n",
      "287.tdms ====> 123path (non-cutting)\n",
      "288.tdms ====> 124path (cutting)\n",
      "289.tdms ====> 124path (non-cutting)\n",
      "290.tdms ====> 125path (cutting)\n",
      "291.tdms ====> 125path (non-cutting)\n",
      "292.tdms ====> 126path (cutting)\n",
      "293.tdms ====> 126path (non-cutting)\n",
      "294.tdms ====> 127path (cutting)\n",
      "295.tdms ====> 127path (non-cutting)\n",
      "296.tdms ====> 128path (cutting)\n",
      "297.tdms ====> 128path (non-cutting)\n",
      "298.tdms ====> 129path (cutting)\n",
      "299.tdms ====> 129path (non-cutting)"
     ]
    },
    {
     "name": "stderr",
     "output_type": "stream",
     "text": [
      " 29%|██▉       | 267/920 [00:03<00:09, 70.58it/s]"
     ]
    },
    {
     "name": "stdout",
     "output_type": "stream",
     "text": [
      "\n",
      "300.tdms ====> 130path (cutting)\n",
      "301.tdms ====> 130path (non-cutting)\n",
      "302.tdms ====> 131path (cutting)\n",
      "303.tdms ====> 131path (non-cutting)\n",
      "304.tdms ====> 132path (cutting)\n",
      "305.tdms ====> 132path (non-cutting)\n",
      "306.tdms ====> 133path (cutting)\n",
      "307.tdms ====> 133path (non-cutting)\n",
      "308.tdms ====> 134path (cutting)\n",
      "309.tdms ====> 134path (non-cutting)\n",
      "310.tdms ====> 135path (cutting)\n",
      "311.tdms ====> 135path (non-cutting)"
     ]
    },
    {
     "name": "stderr",
     "output_type": "stream",
     "text": [
      "\r",
      " 30%|██▉       | 275/920 [00:03<00:11, 55.90it/s]"
     ]
    },
    {
     "name": "stdout",
     "output_type": "stream",
     "text": [
      "\n",
      "312.tdms ====> 136path (cutting)\n",
      "313.tdms ====> 136path (non-cutting)\n",
      "314.tdms ====> 137path (cutting)\n",
      "315.tdms ====> 137path (non-cutting)\n",
      "316.tdms ====> 138path (cutting)\n",
      "317.tdms ====> 138path (non-cutting)\n",
      "318.tdms ====> 139path (cutting)\n",
      "319.tdms ====> 139path (non-cutting)"
     ]
    },
    {
     "name": "stderr",
     "output_type": "stream",
     "text": [
      " 32%|███▏      | 291/920 [00:04<00:09, 66.06it/s]"
     ]
    },
    {
     "name": "stdout",
     "output_type": "stream",
     "text": [
      "\n",
      "320.tdms ====> 140path (cutting)\n",
      "321.tdms ====> 140path (non-cutting)\n",
      "322.tdms ====> 141path (cutting)\n",
      "323.tdms ====> 141path (non-cutting)\n",
      "324.tdms ====> 142path (cutting)\n",
      "325.tdms ====> 142path (non-cutting)\n",
      "326.tdms ====> 143path (cutting)\n",
      "327.tdms ====> 143path (non-cutting)\n",
      "328.tdms ====> 144path (cutting)\n",
      "329.tdms ====> 144path (non-cutting)\n",
      "330.tdms ====> 145path (cutting)\n",
      "331.tdms ====> 145path (non-cutting)\n",
      "332.tdms ====> 146path (cutting)\n",
      "333.tdms ====> 146path (non-cutting)\n",
      "334.tdms ====> 147path (cutting)\n"
     ]
    },
    {
     "name": "stderr",
     "output_type": "stream",
     "text": [
      "\r",
      " 32%|███▎      | 299/920 [00:04<00:08, 69.51it/s]"
     ]
    },
    {
     "name": "stdout",
     "output_type": "stream",
     "text": [
      "335.tdms ====> 147path (non-cutting)\n",
      "336.tdms ====> 148path (cutting)\n",
      "337.tdms ====> 148path (non-cutting)\n",
      "338.tdms ====> 149path (cutting)\n",
      "339.tdms ====> 149path (non-cutting)\n",
      "340.tdms ====> 150path (cutting)\n",
      "341.tdms ====> 150path (non-cutting)\n",
      "342.tdms ====> 151path (cutting)\n",
      "343.tdms ====> 151path (non-cutting)\n",
      "344.tdms ====> 152path (cutting)\n",
      "345.tdms ====> 152path (non-cutting)\n",
      "346.tdms ====> 153path (cutting)\n"
     ]
    },
    {
     "name": "stderr",
     "output_type": "stream",
     "text": [
      " 34%|███▍      | 317/920 [00:04<00:09, 65.08it/s]"
     ]
    },
    {
     "name": "stdout",
     "output_type": "stream",
     "text": [
      "347.tdms ====> 153path (non-cutting)\n",
      "348.tdms ====> 154path (cutting)\n",
      "349.tdms ====> 154path (non-cutting)\n",
      "350.tdms ====> 155path (cutting)\n",
      "351.tdms ====> 155path (non-cutting)\n",
      "352.tdms ====> 156path (cutting)\n",
      "353.tdms ====> 156path (non-cutting)\n",
      "354.tdms ====> 157path (cutting)\n",
      "355.tdms ====> 157path (non-cutting)\n",
      "356.tdms ====> 158path (cutting)\n",
      "357.tdms ====> 158path (non-cutting)\n",
      "358.tdms ====> 159path (cutting)\n",
      "359.tdms ====> 159path (non-cutting)\n",
      "360.tdms ====> 160path (cutting)\n",
      "361.tdms ====> 160path (non-cutting)\n"
     ]
    },
    {
     "name": "stderr",
     "output_type": "stream",
     "text": [
      " 36%|███▋      | 335/920 [00:04<00:07, 73.75it/s]"
     ]
    },
    {
     "name": "stdout",
     "output_type": "stream",
     "text": [
      "362.tdms ====> 161path (cutting)\n",
      "363.tdms ====> 161path (non-cutting)\n",
      "364.tdms ====> 162path (cutting)\n",
      "365.tdms ====> 162path (non-cutting)\n",
      "366.tdms ====> 163path (cutting)\n",
      "367.tdms ====> 163path (non-cutting)\n",
      "368.tdms ====> 164path (cutting)\n",
      "369.tdms ====> 164path (non-cutting)\n",
      "370.tdms ====> 165path (cutting)\n",
      "371.tdms ====> 165path (non-cutting)\n",
      "372.tdms ====> 166path (cutting)\n",
      "373.tdms ====> 166path (non-cutting)\n",
      "374.tdms ====> 167path (cutting)\n",
      "375.tdms ====> 167path (non-cutting)\n",
      "376.tdms ====> 168path (cutting)\n",
      "377.tdms ====> 168path (non-cutting)\n",
      "378.tdms ====> 169path (cutting)\n"
     ]
    },
    {
     "name": "stderr",
     "output_type": "stream",
     "text": [
      "\r",
      " 37%|███▋      | 343/920 [00:04<00:09, 62.16it/s]"
     ]
    },
    {
     "name": "stdout",
     "output_type": "stream",
     "text": [
      "379.tdms ====> 169path (non-cutting)\n",
      "380.tdms ====> 170path (cutting)\n",
      "381.tdms ====> 170path (non-cutting)\n",
      "382.tdms ====> 171path (cutting)\n",
      "383.tdms ====> 171path (non-cutting)\n",
      "384.tdms ====> 172path (cutting)\n",
      "385.tdms ====> 172path (non-cutting)\n",
      "386.tdms ====> 173path (cutting)\n",
      "387.tdms ====> 173path (non-cutting)\n",
      "388.tdms ====> 174path (cutting)\n",
      "389.tdms ====> 174path (non-cutting)\n"
     ]
    },
    {
     "name": "stderr",
     "output_type": "stream",
     "text": [
      " 39%|███▉      | 361/920 [00:05<00:07, 71.78it/s]"
     ]
    },
    {
     "name": "stdout",
     "output_type": "stream",
     "text": [
      "390.tdms ====> 175path (cutting)\n",
      "391.tdms ====> 175path (non-cutting)\n",
      "392.tdms ====> 176path (cutting)\n",
      "393.tdms ====> 176path (non-cutting)\n",
      "394.tdms ====> 177path (cutting)\n",
      "395.tdms ====> 177path (non-cutting)\n",
      "396.tdms ====> 178path (cutting)\n",
      "397.tdms ====> 178path (non-cutting)\n",
      "398.tdms ====> 179path (cutting)\n",
      "399.tdms ====> 179path (non-cutting)\n",
      "400.tdms ====> 180path (cutting)\n",
      "401.tdms ====> 180path (non-cutting)\n",
      "402.tdms ====> 181path (cutting)\n",
      "403.tdms ====> 181path (non-cutting)\n",
      "404.tdms ====> 182path (cutting)\n",
      "405.tdms ====> 182path (non-cutting)\n"
     ]
    },
    {
     "name": "stderr",
     "output_type": "stream",
     "text": [
      " 41%|████      | 378/920 [00:05<00:07, 74.03it/s]"
     ]
    },
    {
     "name": "stdout",
     "output_type": "stream",
     "text": [
      "406.tdms ====> 183path (cutting)\n",
      "407.tdms ====> 183path (non-cutting)\n",
      "408.tdms ====> 184path (cutting)\n",
      "409.tdms ====> 184path (non-cutting)\n",
      "410.tdms ====> 185path (cutting)\n",
      "411.tdms ====> 185path (non-cutting)\n",
      "412.tdms ====> 186path (cutting)\n",
      "413.tdms ====> 186path (non-cutting)\n",
      "414.tdms ====> 187path (cutting)\n",
      "415.tdms ====> 187path (non-cutting)\n",
      "416.tdms ====> 188path (cutting)\n",
      "417.tdms ====> 188path (non-cutting)\n",
      "418.tdms ====> 189path (cutting)\n",
      "419.tdms ====> 189path (non-cutting)\n",
      "420.tdms ====> 190path (cutting)\n"
     ]
    },
    {
     "name": "stderr",
     "output_type": "stream",
     "text": [
      "\r",
      " 42%|████▏     | 386/920 [00:05<00:07, 70.67it/s]"
     ]
    },
    {
     "name": "stdout",
     "output_type": "stream",
     "text": [
      "421.tdms ====> 190path (non-cutting)\n",
      "422.tdms ====> 191path (cutting)\n",
      "423.tdms ====> 191path (non-cutting)\n",
      "424.tdms ====> 192path (cutting)\n",
      "425.tdms ====> 192path (non-cutting)\n",
      "426.tdms ====> 193path (cutting)\n",
      "427.tdms ====> 193path (non-cutting)\n",
      "428.tdms ====> 194path (cutting)\n",
      "429.tdms ====> 194path (non-cutting)\n",
      "430.tdms ====> 195path (cutting)\n",
      "431.tdms ====> 195path (non-cutting)\n",
      "432.tdms ====> 196path (cutting)\n",
      "433.tdms ====> 196path (non-cutting)\n",
      "434.tdms ====> 197path (cutting)\n",
      "435.tdms ====> 197path (non-cutting)\n",
      "436.tdms ====> 198path (cutting)\n"
     ]
    },
    {
     "name": "stderr",
     "output_type": "stream",
     "text": [
      " 44%|████▍     | 403/920 [00:05<00:06, 74.65it/s]"
     ]
    },
    {
     "name": "stdout",
     "output_type": "stream",
     "text": [
      "437.tdms ====> 198path (non-cutting)\n",
      "438.tdms ====> 199path (cutting)\n",
      "439.tdms ====> 199path (non-cutting)\n",
      "440.tdms ====> 200path (cutting)\n",
      "441.tdms ====> 200path (non-cutting)\n",
      "442.tdms ====> 201path (cutting)\n",
      "443.tdms ====> 201path (non-cutting)\n",
      "444.tdms ====> 202path (cutting)\n",
      "445.tdms ====> 202path (non-cutting)\n",
      "446.tdms ====> 203path (cutting)\n",
      "447.tdms ====> 203path (non-cutting)\n",
      "448.tdms ====> 204path (cutting)\n",
      "449.tdms ====> 204path (non-cutting)\n",
      "450.tdms ====> 205path (cutting)\n",
      "451.tdms ====> 205path (non-cutting)\n"
     ]
    },
    {
     "name": "stderr",
     "output_type": "stream",
     "text": [
      "\r",
      " 45%|████▍     | 411/920 [00:05<00:07, 71.80it/s]"
     ]
    },
    {
     "name": "stdout",
     "output_type": "stream",
     "text": [
      "452.tdms ====> 206path (cutting)\n",
      "453.tdms ====> 206path (non-cutting)\n",
      "454.tdms ====> 207path (cutting)\n",
      "455.tdms ====> 207path (non-cutting)\n",
      "456.tdms ====> 208path (cutting)\n",
      "457.tdms ====> 208path (non-cutting)\n",
      "458.tdms ====> 209path (cutting)\n",
      "459.tdms ====> 209path (non-cutting)"
     ]
    },
    {
     "name": "stderr",
     "output_type": "stream",
     "text": [
      " 47%|████▋     | 428/920 [00:06<00:07, 65.83it/s]"
     ]
    },
    {
     "name": "stdout",
     "output_type": "stream",
     "text": [
      "\n",
      "460.tdms ====> 210path (cutting)\n",
      "461.tdms ====> 210path (non-cutting)\n",
      "462.tdms ====> 211path (cutting)\n",
      "463.tdms ====> 211path (non-cutting)\n",
      "464.tdms ====> 212path (cutting)\n",
      "465.tdms ====> 212path (non-cutting)\n",
      "466.tdms ====> 213path (cutting)\n",
      "467.tdms ====> 213path (non-cutting)\n",
      "468.tdms ====> 214path (cutting)\n",
      "469.tdms ====> 214path (non-cutting)\n",
      "470.tdms ====> 215path (cutting)\n",
      "471.tdms ====> 215path (non-cutting)\n",
      "472.tdms ====> 216path (cutting)\n",
      "473.tdms ====> 216path (non-cutting)\n",
      "474.tdms ====> 217path (cutting)\n",
      "475.tdms ====> 217path (non-cutting)"
     ]
    },
    {
     "name": "stderr",
     "output_type": "stream",
     "text": [
      " 48%|████▊     | 446/920 [00:06<00:06, 72.35it/s]"
     ]
    },
    {
     "name": "stdout",
     "output_type": "stream",
     "text": [
      "\n",
      "476.tdms ====> 218path (cutting)\n",
      "477.tdms ====> 218path (non-cutting)\n",
      "478.tdms ====> 219path (cutting)\n",
      "479.tdms ====> 219path (non-cutting)\n",
      "480.tdms ====> 220path (cutting)\n",
      "481.tdms ====> 220path (non-cutting)\n",
      "482.tdms ====> 221path (cutting)\n",
      "483.tdms ====> 221path (non-cutting)\n",
      "484.tdms ====> 222path (cutting)\n",
      "485.tdms ====> 222path (non-cutting)\n",
      "486.tdms ====> 223path (cutting)\n",
      "487.tdms ====> 223path (non-cutting)\n",
      "488.tdms ====> 224path (cutting)\n",
      "489.tdms ====> 224path (non-cutting)\n"
     ]
    },
    {
     "name": "stderr",
     "output_type": "stream",
     "text": [
      "\r",
      " 49%|████▉     | 454/920 [00:06<00:07, 64.25it/s]"
     ]
    },
    {
     "name": "stdout",
     "output_type": "stream",
     "text": [
      "490.tdms ====> 225path (cutting)\n",
      "491.tdms ====> 225path (non-cutting)\n",
      "492.tdms ====> 226path (cutting)\n",
      "493.tdms ====> 226path (non-cutting)\n",
      "494.tdms ====> 227path (cutting)\n",
      "495.tdms ====> 227path (non-cutting)\n",
      "496.tdms ====> 228path (cutting)\n",
      "497.tdms ====> 228path (non-cutting)\n",
      "498.tdms ====> 229path (cutting)\n",
      "499.tdms ====> 229path (non-cutting)\n",
      "500.tdms ====> 230path (cutting)\n",
      "501.tdms ====> 230path (non-cutting)\n",
      "502.tdms ====> 231path (cutting)\n",
      "503.tdms ====> 231path (non-cutting)"
     ]
    },
    {
     "name": "stderr",
     "output_type": "stream",
     "text": [
      " 51%|█████▏    | 472/920 [00:06<00:06, 72.25it/s]"
     ]
    },
    {
     "name": "stdout",
     "output_type": "stream",
     "text": [
      "\n",
      "504.tdms ====> 232path (cutting)\n",
      "505.tdms ====> 232path (non-cutting)\n",
      "506.tdms ====> 233path (cutting)\n",
      "507.tdms ====> 233path (non-cutting)\n",
      "508.tdms ====> 234path (cutting)\n",
      "509.tdms ====> 234path (non-cutting)\n",
      "510.tdms ====> 235path (cutting)\n",
      "511.tdms ====> 235path (non-cutting)\n",
      "512.tdms ====> 236path (cutting)\n",
      "513.tdms ====> 236path (non-cutting)\n",
      "514.tdms ====> 237path (cutting)\n",
      "515.tdms ====> 237path (non-cutting)\n",
      "516.tdms ====> 238path (cutting)\n",
      "517.tdms ====> 238path (non-cutting)\n",
      "518.tdms ====> 239path (cutting)\n"
     ]
    },
    {
     "name": "stderr",
     "output_type": "stream",
     "text": [
      "\r",
      " 52%|█████▏    | 480/920 [00:06<00:05, 74.26it/s]"
     ]
    },
    {
     "name": "stdout",
     "output_type": "stream",
     "text": [
      "519.tdms ====> 239path (non-cutting)\n",
      "520.tdms ====> 240path (cutting)\n",
      "521.tdms ====> 240path (non-cutting)\n",
      "522.tdms ====> 241path (cutting)\n",
      "523.tdms ====> 241path (non-cutting)\n",
      "524.tdms ====> 242path (cutting)\n",
      "525.tdms ====> 242path (non-cutting)\n",
      "526.tdms ====> 243path (cutting)\n",
      "527.tdms ====> 243path (non-cutting)\n",
      "528.tdms ====> 244path (cutting)\n",
      "529.tdms ====> 244path (non-cutting)"
     ]
    },
    {
     "name": "stderr",
     "output_type": "stream",
     "text": [
      " 54%|█████▍    | 496/920 [00:07<00:06, 65.47it/s]"
     ]
    },
    {
     "name": "stdout",
     "output_type": "stream",
     "text": [
      "\n",
      "530.tdms ====> 245path (cutting)\n",
      "531.tdms ====> 245path (non-cutting)\n",
      "532.tdms ====> 246path (cutting)\n",
      "533.tdms ====> 246path (non-cutting)\n",
      "534.tdms ====> 247path (cutting)\n",
      "535.tdms ====> 247path (non-cutting)\n",
      "536.tdms ====> 248path (cutting)\n",
      "537.tdms ====> 248path (non-cutting)\n",
      "538.tdms ====> 249path (cutting)\n",
      "539.tdms ====> 249path (non-cutting)\n",
      "540.tdms ====> 250path (cutting)\n",
      "541.tdms ====> 250path (non-cutting)\n",
      "542.tdms ====> 251path (cutting)\n",
      "543.tdms ====> 251path (non-cutting)\n"
     ]
    },
    {
     "name": "stderr",
     "output_type": "stream",
     "text": [
      " 56%|█████▌    | 513/920 [00:07<00:05, 71.72it/s]"
     ]
    },
    {
     "name": "stdout",
     "output_type": "stream",
     "text": [
      "544.tdms ====> 252path (cutting)\n",
      "545.tdms ====> 252path (non-cutting)\n",
      "546.tdms ====> 253path (cutting)\n",
      "547.tdms ====> 253path (non-cutting)\n",
      "548.tdms ====> 254path (cutting)\n",
      "549.tdms ====> 254path (non-cutting)\n",
      "550.tdms ====> 255path (cutting)\n",
      "551.tdms ====> 255path (non-cutting)\n",
      "552.tdms ====> 256path (cutting)\n",
      "553.tdms ====> 256path (non-cutting)\n",
      "554.tdms ====> 257path (cutting)\n",
      "555.tdms ====> 257path (non-cutting)\n",
      "556.tdms ====> 258path (cutting)\n",
      "557.tdms ====> 258path (non-cutting)\n",
      "558.tdms ====> 259path (cutting)\n"
     ]
    },
    {
     "name": "stderr",
     "output_type": "stream",
     "text": [
      " 57%|█████▊    | 529/920 [00:07<00:05, 67.40it/s]"
     ]
    },
    {
     "name": "stdout",
     "output_type": "stream",
     "text": [
      "559.tdms ====> 259path (non-cutting)\n",
      "560.tdms ====> 260path (cutting)\n",
      "561.tdms ====> 260path (non-cutting)\n",
      "562.tdms ====> 261path (cutting)\n",
      "563.tdms ====> 261path (non-cutting)\n",
      "564.tdms ====> 262path (cutting)\n",
      "565.tdms ====> 262path (non-cutting)\n",
      "566.tdms ====> 263path (cutting)\n",
      "567.tdms ====> 263path (non-cutting)\n",
      "568.tdms ====> 264path (cutting)\n",
      "569.tdms ====> 264path (non-cutting)\n",
      "570.tdms ====> 265path (cutting)\n"
     ]
    },
    {
     "name": "stderr",
     "output_type": "stream",
     "text": [
      "\r",
      " 58%|█████▊    | 538/920 [00:07<00:05, 72.64it/s]"
     ]
    },
    {
     "name": "stdout",
     "output_type": "stream",
     "text": [
      "571.tdms ====> 265path (non-cutting)\n",
      "572.tdms ====> 266path (cutting)\n",
      "573.tdms ====> 266path (non-cutting)\n",
      "574.tdms ====> 267path (cutting)\n",
      "575.tdms ====> 267path (non-cutting)\n",
      "576.tdms ====> 268path (cutting)\n",
      "577.tdms ====> 268path (non-cutting)\n",
      "578.tdms ====> 269path (cutting)\n",
      "579.tdms ====> 269path (non-cutting)\n",
      "580.tdms ====> 270path (cutting)\n",
      "581.tdms ====> 270path (non-cutting)\n",
      "582.tdms ====> 271path (cutting)\n",
      "583.tdms ====> 271path (non-cutting)\n",
      "584.tdms ====> 272path (cutting)\n",
      "585.tdms ====> 272path (non-cutting)\n",
      "586.tdms ====> 273path (cutting)\n",
      "587.tdms ====> 273path (non-cutting)\n",
      "588.tdms ====> 274path (cutting)\n"
     ]
    },
    {
     "name": "stderr",
     "output_type": "stream",
     "text": [
      " 60%|██████    | 555/920 [00:07<00:05, 72.24it/s]"
     ]
    },
    {
     "name": "stdout",
     "output_type": "stream",
     "text": [
      "589.tdms ====> 274path (non-cutting)\n",
      "590.tdms ====> 275path (cutting)\n",
      "591.tdms ====> 275path (non-cutting)\n",
      "592.tdms ====> 276path (cutting)\n",
      "593.tdms ====> 276path (non-cutting)\n",
      "594.tdms ====> 277path (cutting)\n",
      "595.tdms ====> 277path (non-cutting)\n",
      "596.tdms ====> 278path (cutting)\n",
      "597.tdms ====> 278path (non-cutting)\n",
      "598.tdms ====> 279path (cutting)\n"
     ]
    },
    {
     "name": "stderr",
     "output_type": "stream",
     "text": [
      " 62%|██████▏   | 573/920 [00:08<00:04, 70.70it/s]"
     ]
    },
    {
     "name": "stdout",
     "output_type": "stream",
     "text": [
      "599.tdms ====> 279path (non-cutting)\n",
      "600.tdms ====> 280path (cutting)\n",
      "601.tdms ====> 280path (non-cutting)\n",
      "602.tdms ====> 281path (cutting)\n",
      "603.tdms ====> 281path (non-cutting)\n",
      "604.tdms ====> 282path (cutting)\n",
      "605.tdms ====> 282path (non-cutting)\n",
      "606.tdms ====> 283path (cutting)\n",
      "607.tdms ====> 283path (non-cutting)\n",
      "608.tdms ====> 284path (cutting)\n",
      "609.tdms ====> 284path (non-cutting)\n",
      "610.tdms ====> 285path (cutting)\n",
      "611.tdms ====> 285path (non-cutting)\n",
      "612.tdms ====> 286path (cutting)\n",
      "613.tdms ====> 286path (non-cutting)\n",
      "614.tdms ====> 287path (cutting)\n",
      "615.tdms ====> 287path (non-cutting)\n",
      "616.tdms ====> 288path (cutting)\n"
     ]
    },
    {
     "name": "stderr",
     "output_type": "stream",
     "text": [
      " 64%|██████▍   | 593/920 [00:08<00:03, 82.42it/s]"
     ]
    },
    {
     "name": "stdout",
     "output_type": "stream",
     "text": [
      "617.tdms ====> 288path (non-cutting)\n",
      "618.tdms ====> 289path (cutting)\n",
      "619.tdms ====> 289path (non-cutting)\n",
      "620.tdms ====> 290path (cutting)\n",
      "621.tdms ====> 290path (non-cutting)\n",
      "622.tdms ====> 291path (cutting)\n",
      "623.tdms ====> 291path (non-cutting)\n",
      "624.tdms ====> 292path (cutting)\n",
      "625.tdms ====> 292path (non-cutting)\n",
      "626.tdms ====> 293path (cutting)\n",
      "627.tdms ====> 293path (non-cutting)\n",
      "628.tdms ====> 294path (cutting)\n",
      "629.tdms ====> 294path (non-cutting)\n",
      "630.tdms ====> 295path (cutting)\n",
      "631.tdms ====> 295path (non-cutting)\n",
      "632.tdms ====> 296path (cutting)\n",
      "633.tdms ====> 296path (non-cutting)\n",
      "634.tdms ====> 297path (cutting)\n",
      "635.tdms ====> 297path (non-cutting)\n",
      "636.tdms ====> 298path (cutting)"
     ]
    },
    {
     "name": "stderr",
     "output_type": "stream",
     "text": [
      "\r",
      " 65%|██████▌   | 602/920 [00:08<00:04, 68.19it/s]"
     ]
    },
    {
     "name": "stdout",
     "output_type": "stream",
     "text": [
      "\n",
      "637.tdms ====> 298path (non-cutting)\n",
      "638.tdms ====> 299path (cutting)\n",
      "639.tdms ====> 299path (non-cutting)\n",
      "640.tdms ====> 300path (cutting)\n",
      "641.tdms ====> 300path (non-cutting)\n",
      "642.tdms ====> 301path (cutting)\n",
      "643.tdms ====> 301path (non-cutting)\n",
      "644.tdms ====> 302path (cutting)\n",
      "645.tdms ====> 302path (non-cutting)\n",
      "646.tdms ====> 303path (cutting)\n",
      "647.tdms ====> 303path (non-cutting)\n"
     ]
    },
    {
     "name": "stderr",
     "output_type": "stream",
     "text": [
      " 68%|██████▊   | 622/920 [00:08<00:03, 80.30it/s]"
     ]
    },
    {
     "name": "stdout",
     "output_type": "stream",
     "text": [
      "648.tdms ====> 304path (cutting)\n",
      "649.tdms ====> 304path (non-cutting)\n",
      "650.tdms ====> 305path (cutting)\n",
      "651.tdms ====> 305path (non-cutting)\n",
      "652.tdms ====> 306path (cutting)\n",
      "653.tdms ====> 306path (non-cutting)\n",
      "654.tdms ====> 307path (cutting)\n",
      "655.tdms ====> 307path (non-cutting)\n",
      "656.tdms ====> 308path (cutting)\n",
      "657.tdms ====> 308path (non-cutting)\n",
      "658.tdms ====> 309path (cutting)\n",
      "659.tdms ====> 309path (non-cutting)\n",
      "660.tdms ====> 310path (cutting)\n",
      "661.tdms ====> 310path (non-cutting)\n",
      "662.tdms ====> 311path (cutting)\n",
      "663.tdms ====> 311path (non-cutting)\n",
      "664.tdms ====> 312path (cutting)\n",
      "665.tdms ====> 312path (non-cutting)\n",
      "666.tdms ====> 313path (cutting)\n"
     ]
    },
    {
     "name": "stderr",
     "output_type": "stream",
     "text": [
      "\r",
      " 69%|██████▊   | 631/920 [00:08<00:03, 79.58it/s]"
     ]
    },
    {
     "name": "stdout",
     "output_type": "stream",
     "text": [
      "667.tdms ====> 313path (non-cutting)\n",
      "668.tdms ====> 314path (cutting)\n",
      "669.tdms ====> 314path (non-cutting)\n",
      "670.tdms ====> 315path (cutting)\n",
      "671.tdms ====> 315path (non-cutting)\n",
      "672.tdms ====> 316path (cutting)\n",
      "673.tdms ====> 316path (non-cutting)\n",
      "674.tdms ====> 317path (cutting)\n",
      "675.tdms ====> 317path (non-cutting)\n",
      "676.tdms ====> 318path (cutting)\n",
      "677.tdms ====> 318path (non-cutting)\n",
      "678.tdms ====> 319path (cutting)"
     ]
    },
    {
     "name": "stderr",
     "output_type": "stream",
     "text": [
      " 71%|███████   | 650/920 [00:09<00:03, 73.09it/s]"
     ]
    },
    {
     "name": "stdout",
     "output_type": "stream",
     "text": [
      "\n",
      "679.tdms ====> 319path (non-cutting)\n",
      "680.tdms ====> 320path (cutting)\n",
      "681.tdms ====> 320path (non-cutting)\n",
      "682.tdms ====> 321path (cutting)\n",
      "683.tdms ====> 321path (non-cutting)\n",
      "684.tdms ====> 322path (cutting)\n",
      "685.tdms ====> 322path (non-cutting)\n",
      "686.tdms ====> 323path (cutting)\n",
      "687.tdms ====> 323path (non-cutting)\n",
      "688.tdms ====> 324path (cutting)\n",
      "689.tdms ====> 324path (non-cutting)\n",
      "690.tdms ====> 325path (cutting)\n",
      "691.tdms ====> 325path (non-cutting)\n",
      "692.tdms ====> 326path (cutting)\n",
      "693.tdms ====> 326path (non-cutting)\n",
      "694.tdms ====> 327path (cutting)\n"
     ]
    },
    {
     "name": "stderr",
     "output_type": "stream",
     "text": [
      " 73%|███████▎  | 669/920 [00:09<00:03, 80.13it/s]"
     ]
    },
    {
     "name": "stdout",
     "output_type": "stream",
     "text": [
      "695.tdms ====> 327path (non-cutting)\n",
      "696.tdms ====> 328path (cutting)\n",
      "697.tdms ====> 328path (non-cutting)\n",
      "698.tdms ====> 329path (cutting)\n",
      "699.tdms ====> 329path (non-cutting)\n",
      "700.tdms ====> 330path (cutting)\n",
      "701.tdms ====> 330path (non-cutting)\n",
      "702.tdms ====> 331path (cutting)\n",
      "703.tdms ====> 331path (non-cutting)\n",
      "704.tdms ====> 332path (cutting)\n",
      "705.tdms ====> 332path (non-cutting)\n",
      "706.tdms ====> 333path (cutting)\n",
      "707.tdms ====> 333path (non-cutting)\n",
      "708.tdms ====> 334path (cutting)\n",
      "709.tdms ====> 334path (non-cutting)\n",
      "710.tdms ====> 335path (cutting)\n",
      "711.tdms ====> 335path (non-cutting)\n",
      "712.tdms ====> 336path (cutting)\n"
     ]
    },
    {
     "name": "stderr",
     "output_type": "stream",
     "text": [
      "\r",
      " 74%|███████▎  | 678/920 [00:09<00:03, 69.50it/s]"
     ]
    },
    {
     "name": "stdout",
     "output_type": "stream",
     "text": [
      "713.tdms ====> 336path (non-cutting)\n",
      "714.tdms ====> 337path (cutting)\n",
      "715.tdms ====> 337path (non-cutting)\n",
      "716.tdms ====> 338path (cutting)\n",
      "717.tdms ====> 338path (non-cutting)\n",
      "718.tdms ====> 339path (cutting)\n",
      "719.tdms ====> 339path (non-cutting)\n",
      "720.tdms ====> 340path (cutting)\n",
      "721.tdms ====> 340path (non-cutting)\n",
      "722.tdms ====> 341path (cutting)\n",
      "723.tdms ====> 341path (non-cutting)\n",
      "724.tdms ====> 342path (cutting)\n",
      "725.tdms ====> 342path (non-cutting)\n"
     ]
    },
    {
     "name": "stderr",
     "output_type": "stream",
     "text": [
      " 76%|███████▌  | 698/920 [00:09<00:02, 80.29it/s]"
     ]
    },
    {
     "name": "stdout",
     "output_type": "stream",
     "text": [
      "726.tdms ====> 343path (cutting)\n",
      "727.tdms ====> 343path (non-cutting)\n",
      "728.tdms ====> 344path (cutting)\n",
      "729.tdms ====> 344path (non-cutting)\n",
      "730.tdms ====> 345path (cutting)\n",
      "731.tdms ====> 345path (non-cutting)\n",
      "732.tdms ====> 346path (cutting)\n",
      "733.tdms ====> 346path (non-cutting)\n",
      "734.tdms ====> 347path (cutting)\n",
      "735.tdms ====> 347path (non-cutting)\n",
      "736.tdms ====> 348path (cutting)\n",
      "737.tdms ====> 348path (non-cutting)\n",
      "738.tdms ====> 349path (cutting)\n",
      "739.tdms ====> 349path (non-cutting)\n",
      "740.tdms ====> 350path (cutting)\n",
      "741.tdms ====> 350path (non-cutting)\n",
      "742.tdms ====> 351path (cutting)\n",
      "743.tdms ====> 351path (non-cutting)\n",
      "744.tdms ====> 352path (cutting)\n"
     ]
    },
    {
     "name": "stderr",
     "output_type": "stream",
     "text": [
      "\r",
      " 77%|███████▋  | 708/920 [00:09<00:02, 80.17it/s]"
     ]
    },
    {
     "name": "stdout",
     "output_type": "stream",
     "text": [
      "745.tdms ====> 352path (non-cutting)\n",
      "746.tdms ====> 353path (cutting)\n",
      "747.tdms ====> 353path (non-cutting)\n",
      "748.tdms ====> 354path (cutting)\n",
      "749.tdms ====> 354path (non-cutting)\n",
      "750.tdms ====> 355path (cutting)\n",
      "751.tdms ====> 355path (non-cutting)\n",
      "752.tdms ====> 356path (cutting)\n",
      "753.tdms ====> 356path (non-cutting)\n",
      "754.tdms ====> 357path (cutting)\n",
      "755.tdms ====> 357path (non-cutting)\n",
      "756.tdms ====> 358path (cutting)\n",
      "757.tdms ====> 358path (non-cutting)\n"
     ]
    },
    {
     "name": "stderr",
     "output_type": "stream",
     "text": [
      " 79%|███████▉  | 727/920 [00:10<00:02, 74.09it/s]"
     ]
    },
    {
     "name": "stdout",
     "output_type": "stream",
     "text": [
      "758.tdms ====> 359path (cutting)\n",
      "759.tdms ====> 359path (non-cutting)\n",
      "760.tdms ====> 360path (cutting)\n",
      "761.tdms ====> 360path (non-cutting)\n",
      "762.tdms ====> 361path (cutting)\n",
      "763.tdms ====> 361path (non-cutting)\n",
      "764.tdms ====> 362path (cutting)\n",
      "765.tdms ====> 362path (non-cutting)\n",
      "766.tdms ====> 363path (cutting)\n",
      "767.tdms ====> 363path (non-cutting)\n",
      "768.tdms ====> 364path (cutting)\n",
      "769.tdms ====> 364path (non-cutting)\n",
      "770.tdms ====> 365path (cutting)\n",
      "771.tdms ====> 365path (non-cutting)\n",
      "772.tdms ====> 366path (cutting)\n",
      "773.tdms ====> 366path (non-cutting)\n",
      "774.tdms ====> 367path (cutting)\n",
      "775.tdms ====> 367path (non-cutting)\n",
      "776.tdms ====> 368path (cutting)\n"
     ]
    },
    {
     "name": "stderr",
     "output_type": "stream",
     "text": [
      " 81%|████████  | 747/920 [00:10<00:02, 81.49it/s]"
     ]
    },
    {
     "name": "stdout",
     "output_type": "stream",
     "text": [
      "777.tdms ====> 368path (non-cutting)\n",
      "778.tdms ====> 369path (cutting)\n",
      "779.tdms ====> 369path (non-cutting)\n",
      "780.tdms ====> 370path (cutting)\n",
      "781.tdms ====> 370path (non-cutting)\n",
      "782.tdms ====> 371path (cutting)\n",
      "783.tdms ====> 371path (non-cutting)\n",
      "784.tdms ====> 372path (cutting)\n",
      "785.tdms ====> 372path (non-cutting)\n",
      "786.tdms ====> 373path (cutting)\n",
      "787.tdms ====> 373path (non-cutting)\n",
      "788.tdms ====> 374path (cutting)\n",
      "789.tdms ====> 374path (non-cutting)\n",
      "790.tdms ====> 375path (cutting)\n",
      "791.tdms ====> 375path (non-cutting)\n",
      "792.tdms ====> 376path (cutting)\n",
      "793.tdms ====> 376path (non-cutting)\n",
      "794.tdms ====> 377path (cutting)\n"
     ]
    },
    {
     "name": "stderr",
     "output_type": "stream",
     "text": [
      " 83%|████████▎ | 765/920 [00:10<00:02, 76.00it/s]"
     ]
    },
    {
     "name": "stdout",
     "output_type": "stream",
     "text": [
      "795.tdms ====> 377path (non-cutting)\n",
      "796.tdms ====> 378path (cutting)\n",
      "797.tdms ====> 378path (non-cutting)\n",
      "798.tdms ====> 379path (cutting)\n",
      "799.tdms ====> 379path (non-cutting)\n",
      "800.tdms ====> 380path (cutting)\n",
      "801.tdms ====> 380path (non-cutting)\n",
      "802.tdms ====> 381path (cutting)\n",
      "803.tdms ====> 381path (non-cutting)\n",
      "804.tdms ====> 382path (cutting)\n",
      "805.tdms ====> 382path (non-cutting)\n",
      "806.tdms ====> 383path (cutting)\n",
      "807.tdms ====> 383path (non-cutting)\n"
     ]
    },
    {
     "name": "stderr",
     "output_type": "stream",
     "text": [
      "\r",
      " 84%|████████▍ | 774/920 [00:10<00:02, 70.84it/s]"
     ]
    },
    {
     "name": "stdout",
     "output_type": "stream",
     "text": [
      "808.tdms ====> 384path (cutting)\n",
      "809.tdms ====> 384path (non-cutting)\n",
      "810.tdms ====> 385path (cutting)\n",
      "811.tdms ====> 385path (non-cutting)\n",
      "812.tdms ====> 386path (cutting)\n",
      "813.tdms ====> 386path (non-cutting)\n",
      "814.tdms ====> 387path (cutting)\n",
      "815.tdms ====> 387path (non-cutting)\n",
      "816.tdms ====> 388path (cutting)\n",
      "817.tdms ====> 388path (non-cutting)\n",
      "818.tdms ====> 389path (cutting)\n",
      "819.tdms ====> 389path (non-cutting)\n",
      "820.tdms ====> 390path (cutting)\n",
      "821.tdms ====> 390path (non-cutting)\n",
      "822.tdms ====> 391path (cutting)\n",
      "823.tdms ====> 391path (non-cutting)\n",
      "824.tdms ====> 392path (cutting)"
     ]
    },
    {
     "name": "stderr",
     "output_type": "stream",
     "text": [
      " 86%|████████▌ | 793/920 [00:10<00:01, 69.55it/s]"
     ]
    },
    {
     "name": "stdout",
     "output_type": "stream",
     "text": [
      "\n",
      "825.tdms ====> 392path (non-cutting)\n",
      "826.tdms ====> 393path (cutting)\n",
      "827.tdms ====> 393path (non-cutting)\n",
      "828.tdms ====> 394path (cutting)\n",
      "829.tdms ====> 394path (non-cutting)\n",
      "830.tdms ====> 395path (cutting)\n",
      "831.tdms ====> 395path (non-cutting)\n",
      "832.tdms ====> 396path (cutting)\n",
      "833.tdms ====> 396path (non-cutting)\n",
      "834.tdms ====> 397path (cutting)\n"
     ]
    },
    {
     "name": "stderr",
     "output_type": "stream",
     "text": [
      " 88%|████████▊ | 810/920 [00:11<00:01, 74.86it/s]"
     ]
    },
    {
     "name": "stdout",
     "output_type": "stream",
     "text": [
      "835.tdms ====> 397path (non-cutting)\n",
      "836.tdms ====> 398path (cutting)\n",
      "837.tdms ====> 398path (non-cutting)\n",
      "838.tdms ====> 399path (cutting)\n",
      "839.tdms ====> 399path (non-cutting)\n",
      "840.tdms ====> 400path (cutting)\n",
      "841.tdms ====> 400path (non-cutting)\n",
      "842.tdms ====> 401path (cutting)\n",
      "843.tdms ====> 401path (non-cutting)\n",
      "844.tdms ====> 402path (cutting)\n",
      "845.tdms ====> 402path (non-cutting)\n",
      "846.tdms ====> 403path (cutting)\n",
      "847.tdms ====> 403path (non-cutting)\n",
      "848.tdms ====> 404path (cutting)\n",
      "849.tdms ====> 404path (non-cutting)\n",
      "850.tdms ====> 405path (cutting)\n",
      "851.tdms ====> 405path (non-cutting)\n"
     ]
    },
    {
     "name": "stderr",
     "output_type": "stream",
     "text": [
      "\r",
      " 89%|████████▉ | 819/920 [00:11<00:01, 75.92it/s]"
     ]
    },
    {
     "name": "stdout",
     "output_type": "stream",
     "text": [
      "852.tdms ====> 406path (cutting)\n",
      "853.tdms ====> 406path (non-cutting)\n",
      "854.tdms ====> 407path (cutting)\n",
      "855.tdms ====> 407path (non-cutting)\n",
      "856.tdms ====> 408path (cutting)\n",
      "857.tdms ====> 408path (non-cutting)\n",
      "858.tdms ====> 409path (cutting)\n",
      "859.tdms ====> 409path (non-cutting)\n",
      "860.tdms ====> 410path (cutting)\n",
      "861.tdms ====> 410path (non-cutting)\n",
      "862.tdms ====> 411path (cutting)\n",
      "863.tdms ====> 411path (non-cutting)\n",
      "864.tdms ====> 412path (cutting)\n",
      "865.tdms ====> 412path (non-cutting)\n",
      "866.tdms ====> 413path (cutting)\n",
      "867.tdms ====> 413path (non-cutting)"
     ]
    },
    {
     "name": "stderr",
     "output_type": "stream",
     "text": [
      " 91%|█████████ | 835/920 [00:11<00:01, 71.52it/s]"
     ]
    },
    {
     "name": "stdout",
     "output_type": "stream",
     "text": [
      "\n",
      "868.tdms ====> 414path (cutting)\n",
      "869.tdms ====> 414path (non-cutting)\n",
      "870.tdms ====> 415path (cutting)\n",
      "871.tdms ====> 415path (non-cutting)\n",
      "872.tdms ====> 416path (cutting)\n",
      "873.tdms ====> 416path (non-cutting)\n",
      "874.tdms ====> 417path (cutting)\n",
      "875.tdms ====> 417path (non-cutting)\n",
      "876.tdms ====> 418path (cutting)\n",
      "877.tdms ====> 418path (non-cutting)\n",
      "878.tdms ====> 419path (cutting)\n",
      "879.tdms ====> 419path (non-cutting)"
     ]
    },
    {
     "name": "stderr",
     "output_type": "stream",
     "text": [
      "\r",
      " 92%|█████████▏| 843/920 [00:11<00:01, 67.03it/s]"
     ]
    },
    {
     "name": "stdout",
     "output_type": "stream",
     "text": [
      "\n",
      "880.tdms ====> 420path (cutting)\n",
      "881.tdms ====> 420path (non-cutting)\n",
      "882.tdms ====> 421path (cutting)\n",
      "883.tdms ====> 421path (non-cutting)\n",
      "884.tdms ====> 422path (cutting)\n",
      "885.tdms ====> 422path (non-cutting)\n",
      "886.tdms ====> 423path (cutting)\n",
      "887.tdms ====> 423path (non-cutting)\n",
      "888.tdms ====> 424path (cutting)\n",
      "889.tdms ====> 424path (non-cutting)\n",
      "890.tdms ====> 425path (cutting)\n",
      "891.tdms ====> 425path (non-cutting)\n",
      "892.tdms ====> 426path (cutting)\n"
     ]
    },
    {
     "name": "stderr",
     "output_type": "stream",
     "text": [
      " 93%|█████████▎| 860/920 [00:11<00:00, 73.19it/s]"
     ]
    },
    {
     "name": "stdout",
     "output_type": "stream",
     "text": [
      "893.tdms ====> 426path (non-cutting)\n",
      "894.tdms ====> 427path (cutting)\n",
      "895.tdms ====> 427path (non-cutting)\n",
      "896.tdms ====> 428path (cutting)\n",
      "897.tdms ====> 428path (non-cutting)\n",
      "898.tdms ====> 429path (cutting)\n",
      "899.tdms ====> 429path (non-cutting)\n",
      "900.tdms ====> 430path (cutting)\n",
      "901.tdms ====> 430path (non-cutting)\n",
      "902.tdms ====> 431path (cutting)\n",
      "903.tdms ====> 431path (non-cutting)\n",
      "904.tdms ====> 432path (cutting)\n",
      "905.tdms ====> 432path (non-cutting)\n",
      "906.tdms ====> 433path (cutting)\n"
     ]
    },
    {
     "name": "stderr",
     "output_type": "stream",
     "text": [
      " 95%|█████████▌| 877/920 [00:12<00:00, 68.05it/s]"
     ]
    },
    {
     "name": "stdout",
     "output_type": "stream",
     "text": [
      "907.tdms ====> 433path (non-cutting)\n",
      "908.tdms ====> 434path (cutting)\n",
      "909.tdms ====> 434path (non-cutting)\n",
      "910.tdms ====> 435path (cutting)\n",
      "911.tdms ====> 435path (non-cutting)\n",
      "912.tdms ====> 436path (cutting)\n",
      "913.tdms ====> 436path (non-cutting)\n",
      "914.tdms ====> 437path (cutting)\n",
      "915.tdms ====> 437path (non-cutting)\n",
      "916.tdms ====> 438path (cutting)\n",
      "917.tdms ====> 438path (non-cutting)\n",
      "918.tdms ====> 439path (cutting)\n",
      "919.tdms ====> 439path (non-cutting)\n",
      "920.tdms ====> 440path (cutting)\n",
      "921.tdms ====> 440path (non-cutting)\n",
      "922.tdms ====> 441path (cutting)\n",
      "923.tdms ====> 441path (non-cutting)\n"
     ]
    },
    {
     "name": "stderr",
     "output_type": "stream",
     "text": [
      " 97%|█████████▋| 895/920 [00:12<00:00, 74.24it/s]"
     ]
    },
    {
     "name": "stdout",
     "output_type": "stream",
     "text": [
      "924.tdms ====> 442path (cutting)\n",
      "925.tdms ====> 442path (non-cutting)\n",
      "926.tdms ====> 443path (cutting)\n",
      "927.tdms ====> 443path (non-cutting)\n",
      "928.tdms ====> 444path (cutting)\n",
      "929.tdms ====> 444path (non-cutting)\n",
      "930.tdms ====> 445path (cutting)\n",
      "931.tdms ====> 445path (non-cutting)\n",
      "932.tdms ====> 446path (cutting)\n",
      "933.tdms ====> 446path (non-cutting)\n",
      "934.tdms ====> 447path (cutting)\n",
      "935.tdms ====> 447path (non-cutting)\n",
      "936.tdms ====> 448path (cutting)\n",
      "937.tdms ====> 448path (non-cutting)\n",
      "938.tdms ====> 449path (cutting)\n",
      "939.tdms ====> 449path (non-cutting)\n"
     ]
    },
    {
     "name": "stderr",
     "output_type": "stream",
     "text": [
      "\r",
      " 98%|█████████▊| 903/920 [00:12<00:00, 64.03it/s]"
     ]
    },
    {
     "name": "stdout",
     "output_type": "stream",
     "text": [
      "940.tdms ====> 450path (cutting)\n",
      "941.tdms ====> 450path (non-cutting)\n",
      "942.tdms ====> 451path (cutting)\n",
      "943.tdms ====> 451path (non-cutting)\n",
      "944.tdms ====> 452path (cutting)\n",
      "945.tdms ====> 452path (non-cutting)\n",
      "946.tdms ====> 453path (cutting)\n",
      "947.tdms ====> 453path (non-cutting)\n",
      "948.tdms ====> 454path (cutting)\n",
      "949.tdms ====> 454path (non-cutting)\n",
      "950.tdms ====> 455path (cutting)\n"
     ]
    },
    {
     "name": "stderr",
     "output_type": "stream",
     "text": [
      "100%|██████████| 920/920 [00:12<00:00, 71.97it/s]"
     ]
    },
    {
     "name": "stdout",
     "output_type": "stream",
     "text": [
      "951.tdms ====> 455path (non-cutting)\n",
      "952.tdms ====> 456path (cutting)\n",
      "953.tdms ====> 456path (non-cutting)\n",
      "954.tdms ====> 457path (cutting)\n",
      "955.tdms ====> 457path (non-cutting)\n",
      "956.tdms ====> 458path (cutting)\n",
      "957.tdms ====> 458path (non-cutting)\n",
      "958.tdms ====> 459path (cutting)\n",
      "959.tdms ====> 459path (non-cutting)\n",
      "960.tdms ====> 460path (cutting)\n",
      "961.tdms ====> 460path (non-cutting)\n"
     ]
    },
    {
     "name": "stderr",
     "output_type": "stream",
     "text": [
      "\n"
     ]
    }
   ],
   "source": [
    "# os.rename(変更前ファイル、変更後ファイル)\n",
    "for i in tqdm(range(42, 962)):\n",
    "    if(i%2 == 1):\n",
    "        num = int((i - 43)/2) + 1\n",
    "        print(f\"{int(i)}.tdms ====> {int(num)}path (non-cutting)\")\n",
    "        old_name = rf\"Z:\\100 Raw_data\\20230120---切削実験\\raw\\AE\\AE_{i}.tdms\"\n",
    "        new_name = rf\"Z:\\100 Raw_data\\20230120---切削実験\\AE\\Non-Cutting\\AE_{num}.tdms\"\n",
    "        os.rename(old_name, new_name)\n",
    "        \n",
    "        old_name_cf = rf\"Z:\\100 Raw_data\\20230120---切削実験\\raw\\Dynamometer\\Dynamometer_{i}.tdms\"\n",
    "        new_name_cf = rf\"Z:\\100 Raw_data\\20230120---切削実験\\Dynamometer\\Non-Cutting\\Dynamo_{num}.tdms\"\n",
    "        os.rename(old_name_cf, new_name_cf)\n",
    "        \n",
    "    if(i%2 == 0):\n",
    "        num = int((i - 42)/2) + 1\n",
    "        print(f\"{int(i)}.tdms ====> {int(num)}path (cutting)\")\n",
    "        old_name = rf\"Z:\\100 Raw_data\\20230120---切削実験\\raw\\AE\\AE_{i}.tdms\"\n",
    "        new_name = rf\"Z:\\100 Raw_data\\20230120---切削実験\\AE\\Cutting\\AE_{num}.tdms\"\n",
    "        os.rename(old_name, new_name)\n",
    "        \n",
    "        old_name_cf = rf\"Z:\\100 Raw_data\\20230120---切削実験\\raw\\Dynamometer\\Dynamometer_{i}.tdms\"\n",
    "        new_name_cf = rf\"Z:\\100 Raw_data\\20230120---切削実験\\Dynamometer\\Cutting\\Dynamo_{num}.tdms\"\n",
    "        os.rename(old_name_cf, new_name_cf)"
   ]
  },
  {
   "cell_type": "markdown",
   "metadata": {},
   "source": [
    "# ------------------------------------------------------------------------------\n",
    "# 20230123"
   ]
  },
  {
   "cell_type": "code",
   "execution_count": 3,
   "metadata": {},
   "outputs": [
    {
     "name": "stderr",
     "output_type": "stream",
     "text": [
      " 11%|█         | 6/56 [00:00<00:00, 56.16it/s]"
     ]
    },
    {
     "name": "stdout",
     "output_type": "stream",
     "text": [
      "15.tdms ====> 1path (cutting)\n",
      "16.tdms ====> 1path (non-cutting)\n",
      "17.tdms ====> 2path (cutting)\n",
      "18.tdms ====> 2path (non-cutting)\n",
      "19.tdms ====> 3path (cutting)\n",
      "20.tdms ====> 3path (non-cutting)\n",
      "21.tdms ====> 4path (cutting)\n",
      "22.tdms ====> 4path (non-cutting)\n",
      "23.tdms ====> 5path (cutting)\n",
      "24.tdms ====> 5path (non-cutting)\n",
      "25.tdms ====> 6path (cutting)\n",
      "26.tdms ====> 6path (non-cutting)\n",
      "27.tdms ====> 7path (cutting)\n",
      "28.tdms ====> 7path (non-cutting)\n",
      "29.tdms ====> 8path (cutting)\n"
     ]
    },
    {
     "name": "stderr",
     "output_type": "stream",
     "text": [
      " 50%|█████     | 28/56 [00:00<00:00, 73.24it/s]"
     ]
    },
    {
     "name": "stdout",
     "output_type": "stream",
     "text": [
      "30.tdms ====> 8path (non-cutting)\n",
      "31.tdms ====> 9path (cutting)\n",
      "32.tdms ====> 9path (non-cutting)\n",
      "33.tdms ====> 10path (cutting)\n",
      "34.tdms ====> 10path (non-cutting)\n",
      "35.tdms ====> 11path (cutting)\n",
      "36.tdms ====> 11path (non-cutting)\n",
      "37.tdms ====> 12path (cutting)\n",
      "38.tdms ====> 12path (non-cutting)\n",
      "39.tdms ====> 13path (cutting)\n",
      "40.tdms ====> 13path (non-cutting)\n",
      "41.tdms ====> 14path (cutting)\n",
      "42.tdms ====> 14path (non-cutting)\n",
      "43.tdms ====> 15path (cutting)\n",
      "44.tdms ====> 15path (non-cutting)\n",
      "45.tdms ====> 16path (cutting)\n",
      "46.tdms ====> 16path (non-cutting)\n",
      "47.tdms ====> 17path (cutting)\n",
      "48.tdms ====> 17path (non-cutting)\n"
     ]
    },
    {
     "name": "stderr",
     "output_type": "stream",
     "text": [
      " 91%|█████████ | 51/56 [00:00<00:00, 85.62it/s]"
     ]
    },
    {
     "name": "stdout",
     "output_type": "stream",
     "text": [
      "49.tdms ====> 18path (cutting)\n",
      "50.tdms ====> 18path (non-cutting)\n",
      "51.tdms ====> 19path (cutting)\n",
      "52.tdms ====> 19path (non-cutting)\n",
      "53.tdms ====> 20path (cutting)\n",
      "54.tdms ====> 20path (non-cutting)\n",
      "55.tdms ====> 21path (cutting)\n",
      "56.tdms ====> 21path (non-cutting)\n",
      "57.tdms ====> 22path (cutting)\n",
      "58.tdms ====> 22path (non-cutting)\n",
      "59.tdms ====> 23path (cutting)\n",
      "60.tdms ====> 23path (non-cutting)\n",
      "61.tdms ====> 24path (cutting)\n",
      "62.tdms ====> 24path (non-cutting)\n",
      "63.tdms ====> 25path (cutting)\n",
      "64.tdms ====> 25path (non-cutting)\n",
      "65.tdms ====> 26path (cutting)\n",
      "66.tdms ====> 26path (non-cutting)\n",
      "67.tdms ====> 27path (cutting)\n"
     ]
    },
    {
     "name": "stderr",
     "output_type": "stream",
     "text": [
      "\r",
      "100%|██████████| 56/56 [00:00<00:00, 93.50it/s]"
     ]
    },
    {
     "name": "stdout",
     "output_type": "stream",
     "text": [
      "68.tdms ====> 27path (non-cutting)\n",
      "69.tdms ====> 28path (cutting)\n",
      "70.tdms ====> 28path (non-cutting)\n"
     ]
    },
    {
     "name": "stderr",
     "output_type": "stream",
     "text": [
      "\n"
     ]
    }
   ],
   "source": [
    "# os.rename(変更前ファイル、変更後ファイル)\n",
    "for i in tqdm(range(15,71)):\n",
    "    if(i%2 == 0):\n",
    "        num = int((i - 16)/2) + 1\n",
    "        print(f\"{int(i)}.tdms ====> {int(num)}path (non-cutting)\")\n",
    "        old_name = rf\"Z:\\100 Raw_data\\20230123---切削実験\\raw\\AE\\AE_{i}.tdms\"\n",
    "        new_name = rf\"Z:\\100 Raw_data\\20230123---切削実験\\AE\\Non-Cutting\\AE_{num}.tdms\"\n",
    "        os.rename(old_name, new_name)\n",
    "        \n",
    "        old_name_cf = rf\"Z:\\100 Raw_data\\20230123---切削実験\\raw\\Dynamometer\\Dynamometer_{i}.tdms\"\n",
    "        new_name_cf = rf\"Z:\\100 Raw_data\\20230123---切削実験\\Dynamometer\\Non-Cutting\\Dynamo_{num}.tdms\"\n",
    "        os.rename(old_name_cf, new_name_cf)\n",
    "        \n",
    "    if(i%2 == 1):\n",
    "        num = int((i - 15)/2) + 1\n",
    "        print(f\"{int(i)}.tdms ====> {int(num)}path (cutting)\")\n",
    "        old_name = rf\"Z:\\100 Raw_data\\20230123---切削実験\\raw\\AE\\AE_{i}.tdms\"\n",
    "        new_name = rf\"Z:\\100 Raw_data\\20230123---切削実験\\AE\\Cutting\\AE_{num}.tdms\"\n",
    "        os.rename(old_name, new_name)\n",
    "        \n",
    "        old_name_cf = rf\"Z:\\100 Raw_data\\20230123---切削実験\\raw\\Dynamometer\\Dynamometer_{i}.tdms\"\n",
    "        new_name_cf = rf\"Z:\\100 Raw_data\\20230123---切削実験\\Dynamometer\\Cutting\\Dynamo_{num}.tdms\"\n",
    "        os.rename(old_name_cf, new_name_cf)"
   ]
  },
  {
   "cell_type": "code",
   "execution_count": 7,
   "metadata": {},
   "outputs": [
    {
     "name": "stderr",
     "output_type": "stream",
     "text": [
      "100%|██████████| 12/12 [00:00<00:00, 85.11it/s]"
     ]
    },
    {
     "name": "stdout",
     "output_type": "stream",
     "text": [
      "74.tdms ====> 30path (cutting)\n",
      "75.tdms ====> 30path (non-cutting)\n",
      "76.tdms ====> 31path (cutting)\n",
      "77.tdms ====> 31path (non-cutting)\n",
      "78.tdms ====> 32path (cutting)\n",
      "79.tdms ====> 32path (non-cutting)\n",
      "80.tdms ====> 33path (cutting)\n",
      "81.tdms ====> 33path (non-cutting)\n",
      "82.tdms ====> 34path (cutting)\n",
      "83.tdms ====> 34path (non-cutting)\n",
      "84.tdms ====> 35path (cutting)\n",
      "85.tdms ====> 35path (non-cutting)\n"
     ]
    },
    {
     "name": "stderr",
     "output_type": "stream",
     "text": [
      "\n"
     ]
    }
   ],
   "source": [
    "# os.rename(変更前ファイル、変更後ファイル)\n",
    "for i in tqdm(range(74,86)):\n",
    "    if(i%2 == 1):\n",
    "        num = int((i - 75)/2) + 30\n",
    "        print(f\"{int(i)}.tdms ====> {int(num)}path (non-cutting)\")\n",
    "        old_name = rf\"Z:\\100 Raw_data\\20230123---切削実験\\raw\\AE\\AE_{i}.tdms\"\n",
    "        new_name = rf\"Z:\\100 Raw_data\\20230123---切削実験\\AE\\Non-Cutting\\AE_{num}.tdms\"\n",
    "        os.rename(old_name, new_name)\n",
    "        \n",
    "        old_name_cf = rf\"Z:\\100 Raw_data\\20230123---切削実験\\raw\\Dynamometer\\Dynamometer_{i}.tdms\"\n",
    "        new_name_cf = rf\"Z:\\100 Raw_data\\20230123---切削実験\\Dynamometer\\Non-Cutting\\Dynamo_{num}.tdms\"\n",
    "        os.rename(old_name_cf, new_name_cf)\n",
    "        \n",
    "    if(i%2 == 0):\n",
    "        num = int((i - 74)/2) + 30\n",
    "        print(f\"{int(i)}.tdms ====> {int(num)}path (cutting)\")\n",
    "        old_name = rf\"Z:\\100 Raw_data\\20230123---切削実験\\raw\\AE\\AE_{i}.tdms\"\n",
    "        new_name = rf\"Z:\\100 Raw_data\\20230123---切削実験\\AE\\Cutting\\AE_{num}.tdms\"\n",
    "        os.rename(old_name, new_name)\n",
    "        \n",
    "        old_name_cf = rf\"Z:\\100 Raw_data\\20230123---切削実験\\raw\\Dynamometer\\Dynamometer_{i}.tdms\"\n",
    "        new_name_cf = rf\"Z:\\100 Raw_data\\20230123---切削実験\\Dynamometer\\Cutting\\Dynamo_{num}.tdms\"\n",
    "        os.rename(old_name_cf, new_name_cf)"
   ]
  },
  {
   "cell_type": "code",
   "execution_count": 4,
   "metadata": {},
   "outputs": [
    {
     "name": "stderr",
     "output_type": "stream",
     "text": [
      "  3%|▎         | 10/356 [00:00<00:04, 86.26it/s]"
     ]
    },
    {
     "name": "stdout",
     "output_type": "stream",
     "text": [
      "93.tdms ====> 38path (cutting)\n",
      "94.tdms ====> 38path (non-cutting)\n",
      "95.tdms ====> 39path (cutting)\n",
      "96.tdms ====> 39path (non-cutting)\n",
      "97.tdms ====> 40path (cutting)\n",
      "98.tdms ====> 40path (non-cutting)\n",
      "99.tdms ====> 41path (cutting)\n",
      "100.tdms ====> 41path (non-cutting)\n",
      "101.tdms ====> 42path (cutting)\n",
      "102.tdms ====> 42path (non-cutting)\n",
      "103.tdms ====> 43path (cutting)\n",
      "104.tdms ====> 43path (non-cutting)\n",
      "105.tdms ====> 44path (cutting)\n",
      "106.tdms ====> 44path (non-cutting)\n",
      "107.tdms ====> 45path (cutting)\n",
      "108.tdms ====> 45path (non-cutting)\n",
      "109.tdms ====> 46path (cutting)\n",
      "110.tdms ====> 46path (non-cutting)\n",
      "111.tdms ====> 47path (cutting)\n"
     ]
    },
    {
     "name": "stderr",
     "output_type": "stream",
     "text": [
      "  9%|▉         | 32/356 [00:00<00:03, 94.27it/s]"
     ]
    },
    {
     "name": "stdout",
     "output_type": "stream",
     "text": [
      "112.tdms ====> 47path (non-cutting)\n",
      "113.tdms ====> 48path (cutting)\n",
      "114.tdms ====> 48path (non-cutting)\n",
      "115.tdms ====> 49path (cutting)\n",
      "116.tdms ====> 49path (non-cutting)\n",
      "117.tdms ====> 50path (cutting)\n",
      "118.tdms ====> 50path (non-cutting)\n",
      "119.tdms ====> 51path (cutting)\n",
      "120.tdms ====> 51path (non-cutting)\n",
      "121.tdms ====> 52path (cutting)\n",
      "122.tdms ====> 52path (non-cutting)\n",
      "123.tdms ====> 53path (cutting)\n",
      "124.tdms ====> 53path (non-cutting)\n",
      "125.tdms ====> 54path (cutting)\n",
      "126.tdms ====> 54path (non-cutting)\n",
      "127.tdms ====> 55path (cutting)\n",
      "128.tdms ====> 55path (non-cutting)\n",
      "129.tdms ====> 56path (cutting)\n"
     ]
    },
    {
     "name": "stderr",
     "output_type": "stream",
     "text": [
      " 15%|█▍        | 53/356 [00:00<00:03, 95.99it/s]"
     ]
    },
    {
     "name": "stdout",
     "output_type": "stream",
     "text": [
      "130.tdms ====> 56path (non-cutting)\n",
      "131.tdms ====> 57path (cutting)\n",
      "132.tdms ====> 57path (non-cutting)\n",
      "133.tdms ====> 58path (cutting)\n",
      "134.tdms ====> 58path (non-cutting)\n",
      "135.tdms ====> 59path (cutting)\n",
      "136.tdms ====> 59path (non-cutting)\n",
      "137.tdms ====> 60path (cutting)\n",
      "138.tdms ====> 60path (non-cutting)\n",
      "139.tdms ====> 61path (cutting)\n",
      "140.tdms ====> 61path (non-cutting)\n",
      "141.tdms ====> 62path (cutting)\n",
      "142.tdms ====> 62path (non-cutting)\n",
      "143.tdms ====> 63path (cutting)\n",
      "144.tdms ====> 63path (non-cutting)\n",
      "145.tdms ====> 64path (cutting)\n",
      "146.tdms ====> 64path (non-cutting)\n",
      "147.tdms ====> 65path (cutting)\n",
      "148.tdms ====> 65path (non-cutting)\n",
      "149.tdms ====> 66path (cutting)\n"
     ]
    },
    {
     "name": "stderr",
     "output_type": "stream",
     "text": [
      " 21%|██        | 75/356 [00:00<00:02, 98.92it/s]"
     ]
    },
    {
     "name": "stdout",
     "output_type": "stream",
     "text": [
      "150.tdms ====> 66path (non-cutting)\n",
      "151.tdms ====> 67path (cutting)\n",
      "152.tdms ====> 67path (non-cutting)\n",
      "153.tdms ====> 68path (cutting)\n",
      "154.tdms ====> 68path (non-cutting)\n",
      "155.tdms ====> 69path (cutting)\n",
      "156.tdms ====> 69path (non-cutting)\n",
      "157.tdms ====> 70path (cutting)\n",
      "158.tdms ====> 70path (non-cutting)\n",
      "159.tdms ====> 71path (cutting)\n",
      "160.tdms ====> 71path (non-cutting)\n",
      "161.tdms ====> 72path (cutting)\n",
      "162.tdms ====> 72path (non-cutting)\n",
      "163.tdms ====> 73path (cutting)\n",
      "164.tdms ====> 73path (non-cutting)\n",
      "165.tdms ====> 74path (cutting)\n",
      "166.tdms ====> 74path (non-cutting)\n",
      "167.tdms ====> 75path (cutting)\n",
      "168.tdms ====> 75path (non-cutting)\n",
      "169.tdms ====> 76path (cutting)\n"
     ]
    },
    {
     "name": "stderr",
     "output_type": "stream",
     "text": [
      " 27%|██▋       | 95/356 [00:00<00:02, 98.85it/s]"
     ]
    },
    {
     "name": "stdout",
     "output_type": "stream",
     "text": [
      "170.tdms ====> 76path (non-cutting)\n",
      "171.tdms ====> 77path (cutting)\n",
      "172.tdms ====> 77path (non-cutting)\n",
      "173.tdms ====> 78path (cutting)\n",
      "174.tdms ====> 78path (non-cutting)\n",
      "175.tdms ====> 79path (cutting)\n",
      "176.tdms ====> 79path (non-cutting)\n",
      "177.tdms ====> 80path (cutting)\n",
      "178.tdms ====> 80path (non-cutting)\n",
      "179.tdms ====> 81path (cutting)\n",
      "180.tdms ====> 81path (non-cutting)\n",
      "181.tdms ====> 82path (cutting)\n",
      "182.tdms ====> 82path (non-cutting)\n",
      "183.tdms ====> 83path (cutting)\n",
      "184.tdms ====> 83path (non-cutting)\n",
      "185.tdms ====> 84path (cutting)\n",
      "186.tdms ====> 84path (non-cutting)\n",
      "187.tdms ====> 85path (cutting)\n"
     ]
    },
    {
     "name": "stderr",
     "output_type": "stream",
     "text": [
      "\r",
      " 30%|██▉       | 106/356 [00:01<00:02, 97.85it/s]"
     ]
    },
    {
     "name": "stdout",
     "output_type": "stream",
     "text": [
      "188.tdms ====> 85path (non-cutting)\n",
      "189.tdms ====> 86path (cutting)\n",
      "190.tdms ====> 86path (non-cutting)\n",
      "191.tdms ====> 87path (cutting)\n",
      "192.tdms ====> 87path (non-cutting)\n",
      "193.tdms ====> 88path (cutting)\n",
      "194.tdms ====> 88path (non-cutting)\n",
      "195.tdms ====> 89path (cutting)\n",
      "196.tdms ====> 89path (non-cutting)\n",
      "197.tdms ====> 90path (cutting)\n",
      "198.tdms ====> 90path (non-cutting)\n",
      "199.tdms ====> 91path (cutting)\n",
      "200.tdms ====> 91path (non-cutting)\n",
      "201.tdms ====> 92path (cutting)\n",
      "202.tdms ====> 92path (non-cutting)\n",
      "203.tdms ====> 93path (cutting)\n",
      "204.tdms ====> 93path (non-cutting)\n",
      "205.tdms ====> 94path (cutting)\n"
     ]
    },
    {
     "name": "stderr",
     "output_type": "stream",
     "text": [
      " 36%|███▌      | 127/356 [00:01<00:02, 96.63it/s]"
     ]
    },
    {
     "name": "stdout",
     "output_type": "stream",
     "text": [
      "206.tdms ====> 94path (non-cutting)\n",
      "207.tdms ====> 95path (cutting)\n",
      "208.tdms ====> 95path (non-cutting)\n",
      "209.tdms ====> 96path (cutting)\n",
      "210.tdms ====> 96path (non-cutting)\n",
      "211.tdms ====> 97path (cutting)\n",
      "212.tdms ====> 97path (non-cutting)\n",
      "213.tdms ====> 98path (cutting)\n",
      "214.tdms ====> 98path (non-cutting)\n",
      "215.tdms ====> 99path (cutting)\n",
      "216.tdms ====> 99path (non-cutting)\n",
      "217.tdms ====> 100path (cutting)\n",
      "218.tdms ====> 100path (non-cutting)\n",
      "219.tdms ====> 101path (cutting)\n",
      "220.tdms ====> 101path (non-cutting)\n",
      "221.tdms ====> 102path (cutting)\n",
      "222.tdms ====> 102path (non-cutting)\n",
      "223.tdms ====> 103path (cutting)\n"
     ]
    },
    {
     "name": "stderr",
     "output_type": "stream",
     "text": [
      " 42%|████▏     | 148/356 [00:01<00:02, 98.83it/s]"
     ]
    },
    {
     "name": "stdout",
     "output_type": "stream",
     "text": [
      "224.tdms ====> 103path (non-cutting)\n",
      "225.tdms ====> 104path (cutting)\n",
      "226.tdms ====> 104path (non-cutting)\n",
      "227.tdms ====> 105path (cutting)\n",
      "228.tdms ====> 105path (non-cutting)\n",
      "229.tdms ====> 106path (cutting)\n",
      "230.tdms ====> 106path (non-cutting)\n",
      "231.tdms ====> 107path (cutting)\n",
      "232.tdms ====> 107path (non-cutting)\n",
      "233.tdms ====> 108path (cutting)\n",
      "234.tdms ====> 108path (non-cutting)\n",
      "235.tdms ====> 109path (cutting)\n",
      "236.tdms ====> 109path (non-cutting)\n",
      "237.tdms ====> 110path (cutting)\n",
      "238.tdms ====> 110path (non-cutting)\n",
      "239.tdms ====> 111path (cutting)\n",
      "240.tdms ====> 111path (non-cutting)\n",
      "241.tdms ====> 112path (cutting)\n",
      "242.tdms ====> 112path (non-cutting)\n"
     ]
    },
    {
     "name": "stderr",
     "output_type": "stream",
     "text": [
      " 47%|████▋     | 168/356 [00:01<00:01, 97.85it/s]"
     ]
    },
    {
     "name": "stdout",
     "output_type": "stream",
     "text": [
      "243.tdms ====> 113path (cutting)\n",
      "244.tdms ====> 113path (non-cutting)\n",
      "245.tdms ====> 114path (cutting)\n",
      "246.tdms ====> 114path (non-cutting)\n",
      "247.tdms ====> 115path (cutting)\n",
      "248.tdms ====> 115path (non-cutting)\n",
      "249.tdms ====> 116path (cutting)\n",
      "250.tdms ====> 116path (non-cutting)\n",
      "251.tdms ====> 117path (cutting)\n",
      "252.tdms ====> 117path (non-cutting)\n",
      "253.tdms ====> 118path (cutting)\n",
      "254.tdms ====> 118path (non-cutting)\n",
      "255.tdms ====> 119path (cutting)\n",
      "256.tdms ====> 119path (non-cutting)\n",
      "257.tdms ====> 120path (cutting)\n",
      "258.tdms ====> 120path (non-cutting)\n",
      "259.tdms ====> 121path (cutting)\n",
      "260.tdms ====> 121path (non-cutting)\n",
      "261.tdms ====> 122path (cutting)\n",
      "262.tdms ====> 122path (non-cutting)\n"
     ]
    },
    {
     "name": "stderr",
     "output_type": "stream",
     "text": [
      "\r",
      " 50%|█████     | 178/356 [00:01<00:01, 96.03it/s]"
     ]
    },
    {
     "name": "stdout",
     "output_type": "stream",
     "text": [
      "263.tdms ====> 123path (cutting)\n",
      "264.tdms ====> 123path (non-cutting)\n",
      "265.tdms ====> 124path (cutting)\n",
      "266.tdms ====> 124path (non-cutting)\n",
      "267.tdms ====> 125path (cutting)\n",
      "268.tdms ====> 125path (non-cutting)\n",
      "269.tdms ====> 126path (cutting)\n",
      "270.tdms ====> 126path (non-cutting)\n",
      "271.tdms ====> 127path (cutting)\n",
      "272.tdms ====> 127path (non-cutting)\n",
      "273.tdms ====> 128path (cutting)\n",
      "274.tdms ====> 128path (non-cutting)\n",
      "275.tdms ====> 129path (cutting)\n",
      "276.tdms ====> 129path (non-cutting)\n",
      "277.tdms ====> 130path (cutting)\n",
      "278.tdms ====> 130path (non-cutting)\n",
      "279.tdms ====> 131path (cutting)"
     ]
    },
    {
     "name": "stderr",
     "output_type": "stream",
     "text": [
      " 56%|█████▌    | 199/356 [00:02<00:01, 89.87it/s]"
     ]
    },
    {
     "name": "stdout",
     "output_type": "stream",
     "text": [
      "\n",
      "280.tdms ====> 131path (non-cutting)\n",
      "281.tdms ====> 132path (cutting)\n",
      "282.tdms ====> 132path (non-cutting)\n",
      "283.tdms ====> 133path (cutting)\n",
      "284.tdms ====> 133path (non-cutting)\n",
      "285.tdms ====> 134path (cutting)\n",
      "286.tdms ====> 134path (non-cutting)\n",
      "287.tdms ====> 135path (cutting)\n",
      "288.tdms ====> 135path (non-cutting)\n",
      "289.tdms ====> 136path (cutting)\n",
      "290.tdms ====> 136path (non-cutting)\n",
      "291.tdms ====> 137path (cutting)\n",
      "292.tdms ====> 137path (non-cutting)\n",
      "293.tdms ====> 138path (cutting)\n",
      "294.tdms ====> 138path (non-cutting)\n",
      "295.tdms ====> 139path (cutting)\n",
      "296.tdms ====> 139path (non-cutting)\n"
     ]
    },
    {
     "name": "stderr",
     "output_type": "stream",
     "text": [
      " 62%|██████▏   | 221/356 [00:02<00:01, 95.50it/s]"
     ]
    },
    {
     "name": "stdout",
     "output_type": "stream",
     "text": [
      "297.tdms ====> 140path (cutting)\n",
      "298.tdms ====> 140path (non-cutting)\n",
      "299.tdms ====> 141path (cutting)\n",
      "300.tdms ====> 141path (non-cutting)\n",
      "301.tdms ====> 142path (cutting)\n",
      "302.tdms ====> 142path (non-cutting)\n",
      "303.tdms ====> 143path (cutting)\n",
      "304.tdms ====> 143path (non-cutting)\n",
      "305.tdms ====> 144path (cutting)\n",
      "306.tdms ====> 144path (non-cutting)\n",
      "307.tdms ====> 145path (cutting)\n",
      "308.tdms ====> 145path (non-cutting)\n",
      "309.tdms ====> 146path (cutting)\n",
      "310.tdms ====> 146path (non-cutting)\n",
      "311.tdms ====> 147path (cutting)\n",
      "312.tdms ====> 147path (non-cutting)\n",
      "313.tdms ====> 148path (cutting)\n",
      "314.tdms ====> 148path (non-cutting)\n",
      "315.tdms ====> 149path (cutting)\n",
      "316.tdms ====> 149path (non-cutting)\n"
     ]
    },
    {
     "name": "stderr",
     "output_type": "stream",
     "text": [
      "\r",
      " 65%|██████▍   | 231/356 [00:02<00:01, 94.34it/s]"
     ]
    },
    {
     "name": "stdout",
     "output_type": "stream",
     "text": [
      "317.tdms ====> 150path (cutting)\n",
      "318.tdms ====> 150path (non-cutting)\n",
      "319.tdms ====> 151path (cutting)\n",
      "320.tdms ====> 151path (non-cutting)\n",
      "321.tdms ====> 152path (cutting)\n",
      "322.tdms ====> 152path (non-cutting)\n",
      "323.tdms ====> 153path (cutting)\n",
      "324.tdms ====> 153path (non-cutting)\n",
      "325.tdms ====> 154path (cutting)\n",
      "326.tdms ====> 154path (non-cutting)\n",
      "327.tdms ====> 155path (cutting)\n",
      "328.tdms ====> 155path (non-cutting)\n",
      "329.tdms ====> 156path (cutting)\n",
      "330.tdms ====> 156path (non-cutting)\n",
      "331.tdms ====> 157path (cutting)\n",
      "332.tdms ====> 157path (non-cutting)\n",
      "333.tdms ====> 158path (cutting)\n",
      "334.tdms ====> 158path (non-cutting)"
     ]
    },
    {
     "name": "stderr",
     "output_type": "stream",
     "text": [
      " 71%|███████   | 252/356 [00:02<00:01, 96.85it/s]"
     ]
    },
    {
     "name": "stdout",
     "output_type": "stream",
     "text": [
      "\n",
      "335.tdms ====> 159path (cutting)\n",
      "336.tdms ====> 159path (non-cutting)\n",
      "337.tdms ====> 160path (cutting)\n",
      "338.tdms ====> 160path (non-cutting)\n",
      "339.tdms ====> 161path (cutting)\n",
      "340.tdms ====> 161path (non-cutting)\n",
      "341.tdms ====> 162path (cutting)\n",
      "342.tdms ====> 162path (non-cutting)\n",
      "343.tdms ====> 163path (cutting)\n",
      "344.tdms ====> 163path (non-cutting)\n",
      "345.tdms ====> 164path (cutting)\n",
      "346.tdms ====> 164path (non-cutting)\n",
      "347.tdms ====> 165path (cutting)\n",
      "348.tdms ====> 165path (non-cutting)\n",
      "349.tdms ====> 166path (cutting)\n",
      "350.tdms ====> 166path (non-cutting)\n",
      "351.tdms ====> 167path (cutting)\n",
      "352.tdms ====> 167path (non-cutting)\n",
      "353.tdms ====> 168path (cutting)\n"
     ]
    },
    {
     "name": "stderr",
     "output_type": "stream",
     "text": [
      " 77%|███████▋  | 274/356 [00:02<00:00, 99.80it/s]"
     ]
    },
    {
     "name": "stdout",
     "output_type": "stream",
     "text": [
      "354.tdms ====> 168path (non-cutting)\n",
      "355.tdms ====> 169path (cutting)\n",
      "356.tdms ====> 169path (non-cutting)\n",
      "357.tdms ====> 170path (cutting)\n",
      "358.tdms ====> 170path (non-cutting)\n",
      "359.tdms ====> 171path (cutting)\n",
      "360.tdms ====> 171path (non-cutting)\n",
      "361.tdms ====> 172path (cutting)\n",
      "362.tdms ====> 172path (non-cutting)\n",
      "363.tdms ====> 173path (cutting)\n",
      "364.tdms ====> 173path (non-cutting)\n",
      "365.tdms ====> 174path (cutting)\n",
      "366.tdms ====> 174path (non-cutting)\n",
      "367.tdms ====> 175path (cutting)\n",
      "368.tdms ====> 175path (non-cutting)\n",
      "369.tdms ====> 176path (cutting)\n",
      "370.tdms ====> 176path (non-cutting)\n",
      "371.tdms ====> 177path (cutting)\n",
      "372.tdms ====> 177path (non-cutting)\n",
      "373.tdms ====> 178path (cutting)\n",
      "374.tdms ====> 178path (non-cutting)\n"
     ]
    },
    {
     "name": "stderr",
     "output_type": "stream",
     "text": [
      " 83%|████████▎ | 295/356 [00:03<00:00, 95.65it/s]"
     ]
    },
    {
     "name": "stdout",
     "output_type": "stream",
     "text": [
      "375.tdms ====> 179path (cutting)\n",
      "376.tdms ====> 179path (non-cutting)\n",
      "377.tdms ====> 180path (cutting)\n",
      "378.tdms ====> 180path (non-cutting)\n",
      "379.tdms ====> 181path (cutting)\n",
      "380.tdms ====> 181path (non-cutting)\n",
      "381.tdms ====> 182path (cutting)\n",
      "382.tdms ====> 182path (non-cutting)\n",
      "383.tdms ====> 183path (cutting)\n",
      "384.tdms ====> 183path (non-cutting)\n",
      "385.tdms ====> 184path (cutting)\n",
      "386.tdms ====> 184path (non-cutting)\n",
      "387.tdms ====> 185path (cutting)\n",
      "388.tdms ====> 185path (non-cutting)\n",
      "389.tdms ====> 186path (cutting)\n",
      "390.tdms ====> 186path (non-cutting)\n",
      "391.tdms ====> 187path (cutting)\n",
      "392.tdms ====> 187path (non-cutting)\n"
     ]
    },
    {
     "name": "stderr",
     "output_type": "stream",
     "text": [
      " 89%|████████▉ | 317/356 [00:03<00:00, 99.53it/s]"
     ]
    },
    {
     "name": "stdout",
     "output_type": "stream",
     "text": [
      "393.tdms ====> 188path (cutting)\n",
      "394.tdms ====> 188path (non-cutting)\n",
      "395.tdms ====> 189path (cutting)\n",
      "396.tdms ====> 189path (non-cutting)\n",
      "397.tdms ====> 190path (cutting)\n",
      "398.tdms ====> 190path (non-cutting)\n",
      "399.tdms ====> 191path (cutting)\n",
      "400.tdms ====> 191path (non-cutting)\n",
      "401.tdms ====> 192path (cutting)\n",
      "402.tdms ====> 192path (non-cutting)\n",
      "403.tdms ====> 193path (cutting)\n",
      "404.tdms ====> 193path (non-cutting)\n",
      "405.tdms ====> 194path (cutting)\n",
      "406.tdms ====> 194path (non-cutting)\n",
      "407.tdms ====> 195path (cutting)\n",
      "408.tdms ====> 195path (non-cutting)\n",
      "409.tdms ====> 196path (cutting)\n",
      "410.tdms ====> 196path (non-cutting)\n",
      "411.tdms ====> 197path (cutting)\n",
      "412.tdms ====> 197path (non-cutting)\n"
     ]
    },
    {
     "name": "stderr",
     "output_type": "stream",
     "text": [
      " 95%|█████████▍| 337/356 [00:03<00:00, 95.34it/s]"
     ]
    },
    {
     "name": "stdout",
     "output_type": "stream",
     "text": [
      "413.tdms ====> 198path (cutting)\n",
      "414.tdms ====> 198path (non-cutting)\n",
      "415.tdms ====> 199path (cutting)\n",
      "416.tdms ====> 199path (non-cutting)\n",
      "417.tdms ====> 200path (cutting)\n",
      "418.tdms ====> 200path (non-cutting)\n",
      "419.tdms ====> 201path (cutting)\n",
      "420.tdms ====> 201path (non-cutting)\n",
      "421.tdms ====> 202path (cutting)\n",
      "422.tdms ====> 202path (non-cutting)\n",
      "423.tdms ====> 203path (cutting)\n",
      "424.tdms ====> 203path (non-cutting)\n",
      "425.tdms ====> 204path (cutting)\n",
      "426.tdms ====> 204path (non-cutting)\n",
      "427.tdms ====> 205path (cutting)\n",
      "428.tdms ====> 205path (non-cutting)\n",
      "429.tdms ====> 206path (cutting)\n"
     ]
    },
    {
     "name": "stderr",
     "output_type": "stream",
     "text": [
      "\r",
      " 97%|█████████▋| 347/356 [00:03<00:00, 94.69it/s]"
     ]
    },
    {
     "name": "stdout",
     "output_type": "stream",
     "text": [
      "430.tdms ====> 206path (non-cutting)\n",
      "431.tdms ====> 207path (cutting)\n",
      "432.tdms ====> 207path (non-cutting)\n",
      "433.tdms ====> 208path (cutting)\n",
      "434.tdms ====> 208path (non-cutting)\n",
      "435.tdms ====> 209path (cutting)\n",
      "436.tdms ====> 209path (non-cutting)\n",
      "437.tdms ====> 210path (cutting)\n",
      "438.tdms ====> 210path (non-cutting)\n",
      "439.tdms ====> 211path (cutting)\n",
      "440.tdms ====> 211path (non-cutting)\n",
      "441.tdms ====> 212path (cutting)\n",
      "442.tdms ====> 212path (non-cutting)\n",
      "443.tdms ====> 213path (cutting)\n",
      "444.tdms ====> 213path (non-cutting)\n",
      "445.tdms ====> 214path (cutting)\n",
      "446.tdms ====> 214path (non-cutting)\n",
      "447.tdms ====> 215path (cutting)\n"
     ]
    },
    {
     "name": "stderr",
     "output_type": "stream",
     "text": [
      "\r",
      "100%|██████████| 356/356 [00:03<00:00, 96.93it/s]"
     ]
    },
    {
     "name": "stdout",
     "output_type": "stream",
     "text": [
      "448.tdms ====> 215path (non-cutting)\n"
     ]
    },
    {
     "name": "stderr",
     "output_type": "stream",
     "text": [
      "\n"
     ]
    }
   ],
   "source": [
    "# os.rename(変更前ファイル、変更後ファイル)\n",
    "for i in tqdm(range(93,449)):\n",
    "    if(i%2 == 0):\n",
    "        num = int((i - 94)/2) + 38\n",
    "        print(f\"{int(i)}.tdms ====> {int(num)}path (non-cutting)\")\n",
    "        old_name = rf\"Z:\\100 Raw_data\\20230123---切削実験\\raw\\AE\\AE_{i}.tdms\"\n",
    "        new_name = rf\"Z:\\100 Raw_data\\20230123---切削実験\\AE\\Non-Cutting\\AE_{num}.tdms\"\n",
    "        os.rename(old_name, new_name)\n",
    "        \n",
    "        old_name_cf = rf\"Z:\\100 Raw_data\\20230123---切削実験\\raw\\Dynamometer\\Dynamometer_{i}.tdms\"\n",
    "        new_name_cf = rf\"Z:\\100 Raw_data\\20230123---切削実験\\Dynamometer\\Non-Cutting\\Dynamo_{num}.tdms\"\n",
    "        os.rename(old_name_cf, new_name_cf)\n",
    "        \n",
    "    if(i%2 == 1):\n",
    "        num = int((i - 93)/2) + 38\n",
    "        print(f\"{int(i)}.tdms ====> {int(num)}path (cutting)\")\n",
    "        old_name = rf\"Z:\\100 Raw_data\\20230123---切削実験\\raw\\AE\\AE_{i}.tdms\"\n",
    "        new_name = rf\"Z:\\100 Raw_data\\20230123---切削実験\\AE\\Cutting\\AE_{num}.tdms\"\n",
    "        os.rename(old_name, new_name)\n",
    "        \n",
    "        old_name_cf = rf\"Z:\\100 Raw_data\\20230123---切削実験\\raw\\Dynamometer\\Dynamometer_{i}.tdms\"\n",
    "        new_name_cf = rf\"Z:\\100 Raw_data\\20230123---切削実験\\Dynamometer\\Cutting\\Dynamo_{num}.tdms\"\n",
    "        os.rename(old_name_cf, new_name_cf)"
   ]
  },
  {
   "cell_type": "code",
   "execution_count": 8,
   "metadata": {},
   "outputs": [
    {
     "name": "stderr",
     "output_type": "stream",
     "text": [
      "  2%|▏         | 9/490 [00:00<00:05, 84.17it/s]"
     ]
    },
    {
     "name": "stdout",
     "output_type": "stream",
     "text": [
      "450.tdms ====> 216path (cutting)\n",
      "451.tdms ====> 216path (non-cutting)\n",
      "452.tdms ====> 217path (cutting)\n",
      "453.tdms ====> 217path (non-cutting)\n",
      "454.tdms ====> 218path (cutting)\n",
      "455.tdms ====> 218path (non-cutting)\n",
      "456.tdms ====> 219path (cutting)\n",
      "457.tdms ====> 219path (non-cutting)\n",
      "458.tdms ====> 220path (cutting)\n",
      "459.tdms ====> 220path (non-cutting)\n",
      "460.tdms ====> 221path (cutting)\n",
      "461.tdms ====> 221path (non-cutting)\n",
      "462.tdms ====> 222path (cutting)\n",
      "463.tdms ====> 222path (non-cutting)\n",
      "464.tdms ====> 223path (cutting)\n",
      "465.tdms ====> 223path (non-cutting)\n",
      "466.tdms ====> 224path (cutting)\n"
     ]
    },
    {
     "name": "stderr",
     "output_type": "stream",
     "text": [
      "  6%|▋         | 31/490 [00:00<00:05, 91.51it/s]"
     ]
    },
    {
     "name": "stdout",
     "output_type": "stream",
     "text": [
      "467.tdms ====> 224path (non-cutting)\n",
      "468.tdms ====> 225path (cutting)\n",
      "469.tdms ====> 225path (non-cutting)\n",
      "470.tdms ====> 226path (cutting)\n",
      "471.tdms ====> 226path (non-cutting)\n",
      "472.tdms ====> 227path (cutting)\n",
      "473.tdms ====> 227path (non-cutting)\n",
      "474.tdms ====> 228path (cutting)\n",
      "475.tdms ====> 228path (non-cutting)\n",
      "476.tdms ====> 229path (cutting)\n",
      "477.tdms ====> 229path (non-cutting)\n",
      "478.tdms ====> 230path (cutting)\n",
      "479.tdms ====> 230path (non-cutting)\n",
      "480.tdms ====> 231path (cutting)\n",
      "481.tdms ====> 231path (non-cutting)\n",
      "482.tdms ====> 232path (cutting)\n",
      "483.tdms ====> 232path (non-cutting)\n",
      "484.tdms ====> 233path (cutting)\n",
      "485.tdms ====> 233path (non-cutting)\n",
      "486.tdms ====> 234path (cutting)\n"
     ]
    },
    {
     "name": "stderr",
     "output_type": "stream",
     "text": [
      " 11%|█         | 52/490 [00:00<00:04, 94.47it/s]"
     ]
    },
    {
     "name": "stdout",
     "output_type": "stream",
     "text": [
      "487.tdms ====> 234path (non-cutting)\n",
      "488.tdms ====> 235path (cutting)\n",
      "489.tdms ====> 235path (non-cutting)\n",
      "490.tdms ====> 236path (cutting)\n",
      "491.tdms ====> 236path (non-cutting)\n",
      "492.tdms ====> 237path (cutting)\n",
      "493.tdms ====> 237path (non-cutting)\n",
      "494.tdms ====> 238path (cutting)\n",
      "495.tdms ====> 238path (non-cutting)\n",
      "496.tdms ====> 239path (cutting)\n",
      "497.tdms ====> 239path (non-cutting)\n",
      "498.tdms ====> 240path (cutting)\n",
      "499.tdms ====> 240path (non-cutting)\n",
      "500.tdms ====> 241path (cutting)\n",
      "501.tdms ====> 241path (non-cutting)\n",
      "502.tdms ====> 242path (cutting)\n",
      "503.tdms ====> 242path (non-cutting)\n",
      "504.tdms ====> 243path (cutting)\n",
      "505.tdms ====> 243path (non-cutting)\n",
      "506.tdms ====> 244path (cutting)\n"
     ]
    },
    {
     "name": "stderr",
     "output_type": "stream",
     "text": [
      " 15%|█▍        | 72/490 [00:00<00:04, 93.54it/s]"
     ]
    },
    {
     "name": "stdout",
     "output_type": "stream",
     "text": [
      "507.tdms ====> 244path (non-cutting)\n",
      "508.tdms ====> 245path (cutting)\n",
      "509.tdms ====> 245path (non-cutting)\n",
      "510.tdms ====> 246path (cutting)\n",
      "511.tdms ====> 246path (non-cutting)\n",
      "512.tdms ====> 247path (cutting)\n",
      "513.tdms ====> 247path (non-cutting)\n",
      "514.tdms ====> 248path (cutting)\n",
      "515.tdms ====> 248path (non-cutting)\n",
      "516.tdms ====> 249path (cutting)\n",
      "517.tdms ====> 249path (non-cutting)\n",
      "518.tdms ====> 250path (cutting)\n",
      "519.tdms ====> 250path (non-cutting)\n",
      "520.tdms ====> 251path (cutting)\n",
      "521.tdms ====> 251path (non-cutting)\n",
      "522.tdms ====> 252path (cutting)\n",
      "523.tdms ====> 252path (non-cutting)\n",
      "524.tdms ====> 253path (cutting)\n",
      "525.tdms ====> 253path (non-cutting)\n"
     ]
    },
    {
     "name": "stderr",
     "output_type": "stream",
     "text": [
      " 19%|█▉        | 94/490 [00:00<00:04, 97.59it/s]"
     ]
    },
    {
     "name": "stdout",
     "output_type": "stream",
     "text": [
      "526.tdms ====> 254path (cutting)\n",
      "527.tdms ====> 254path (non-cutting)\n",
      "528.tdms ====> 255path (cutting)\n",
      "529.tdms ====> 255path (non-cutting)\n",
      "530.tdms ====> 256path (cutting)\n",
      "531.tdms ====> 256path (non-cutting)\n",
      "532.tdms ====> 257path (cutting)\n",
      "533.tdms ====> 257path (non-cutting)\n",
      "534.tdms ====> 258path (cutting)\n",
      "535.tdms ====> 258path (non-cutting)\n",
      "536.tdms ====> 259path (cutting)\n",
      "537.tdms ====> 259path (non-cutting)\n",
      "538.tdms ====> 260path (cutting)\n",
      "539.tdms ====> 260path (non-cutting)\n",
      "540.tdms ====> 261path (cutting)\n",
      "541.tdms ====> 261path (non-cutting)\n",
      "542.tdms ====> 262path (cutting)\n",
      "543.tdms ====> 262path (non-cutting)\n"
     ]
    },
    {
     "name": "stderr",
     "output_type": "stream",
     "text": [
      "\r",
      " 21%|██        | 104/490 [00:01<00:04, 93.25it/s]"
     ]
    },
    {
     "name": "stdout",
     "output_type": "stream",
     "text": [
      "544.tdms ====> 263path (cutting)\n",
      "545.tdms ====> 263path (non-cutting)\n",
      "546.tdms ====> 264path (cutting)\n",
      "547.tdms ====> 264path (non-cutting)\n",
      "548.tdms ====> 265path (cutting)\n",
      "549.tdms ====> 265path (non-cutting)\n",
      "550.tdms ====> 266path (cutting)\n",
      "551.tdms ====> 266path (non-cutting)\n",
      "552.tdms ====> 267path (cutting)\n",
      "553.tdms ====> 267path (non-cutting)\n",
      "554.tdms ====> 268path (cutting)\n",
      "555.tdms ====> 268path (non-cutting)\n",
      "556.tdms ====> 269path (cutting)\n",
      "557.tdms ====> 269path (non-cutting)\n",
      "558.tdms ====> 270path (cutting)\n",
      "559.tdms ====> 270path (non-cutting)\n",
      "560.tdms ====> 271path (cutting)\n"
     ]
    },
    {
     "name": "stderr",
     "output_type": "stream",
     "text": [
      " 25%|██▌       | 124/490 [00:01<00:03, 94.40it/s]"
     ]
    },
    {
     "name": "stdout",
     "output_type": "stream",
     "text": [
      "561.tdms ====> 271path (non-cutting)\n",
      "562.tdms ====> 272path (cutting)\n",
      "563.tdms ====> 272path (non-cutting)\n",
      "564.tdms ====> 273path (cutting)\n",
      "565.tdms ====> 273path (non-cutting)\n",
      "566.tdms ====> 274path (cutting)\n",
      "567.tdms ====> 274path (non-cutting)\n",
      "568.tdms ====> 275path (cutting)\n",
      "569.tdms ====> 275path (non-cutting)\n",
      "570.tdms ====> 276path (cutting)\n",
      "571.tdms ====> 276path (non-cutting)\n",
      "572.tdms ====> 277path (cutting)\n",
      "573.tdms ====> 277path (non-cutting)\n",
      "574.tdms ====> 278path (cutting)\n",
      "575.tdms ====> 278path (non-cutting)\n",
      "576.tdms ====> 279path (cutting)\n",
      "577.tdms ====> 279path (non-cutting)\n",
      "578.tdms ====> 280path (cutting)\n",
      "579.tdms ====> 280path (non-cutting)\n",
      "580.tdms ====> 281path (cutting)\n",
      "581.tdms ====> 281path (non-cutting)\n"
     ]
    },
    {
     "name": "stderr",
     "output_type": "stream",
     "text": [
      " 29%|██▉       | 144/490 [00:01<00:03, 91.68it/s]"
     ]
    },
    {
     "name": "stdout",
     "output_type": "stream",
     "text": [
      "582.tdms ====> 282path (cutting)\n",
      "583.tdms ====> 282path (non-cutting)\n",
      "584.tdms ====> 283path (cutting)\n",
      "585.tdms ====> 283path (non-cutting)\n",
      "586.tdms ====> 284path (cutting)\n",
      "587.tdms ====> 284path (non-cutting)\n",
      "588.tdms ====> 285path (cutting)\n",
      "589.tdms ====> 285path (non-cutting)\n",
      "590.tdms ====> 286path (cutting)\n",
      "591.tdms ====> 286path (non-cutting)\n",
      "592.tdms ====> 287path (cutting)\n",
      "593.tdms ====> 287path (non-cutting)\n",
      "594.tdms ====> 288path (cutting)\n",
      "595.tdms ====> 288path (non-cutting)\n",
      "596.tdms ====> 289path (cutting)\n",
      "597.tdms ====> 289path (non-cutting)\n",
      "598.tdms ====> 290path (cutting)\n"
     ]
    },
    {
     "name": "stderr",
     "output_type": "stream",
     "text": [
      " 33%|███▎      | 164/490 [00:01<00:03, 89.46it/s]"
     ]
    },
    {
     "name": "stdout",
     "output_type": "stream",
     "text": [
      "599.tdms ====> 290path (non-cutting)\n",
      "600.tdms ====> 291path (cutting)\n",
      "601.tdms ====> 291path (non-cutting)\n",
      "602.tdms ====> 292path (cutting)\n",
      "603.tdms ====> 292path (non-cutting)\n",
      "604.tdms ====> 293path (cutting)\n",
      "605.tdms ====> 293path (non-cutting)\n",
      "606.tdms ====> 294path (cutting)\n",
      "607.tdms ====> 294path (non-cutting)\n",
      "608.tdms ====> 295path (cutting)\n",
      "609.tdms ====> 295path (non-cutting)\n",
      "610.tdms ====> 296path (cutting)\n",
      "611.tdms ====> 296path (non-cutting)\n",
      "612.tdms ====> 297path (cutting)\n",
      "613.tdms ====> 297path (non-cutting)\n",
      "614.tdms ====> 298path (cutting)\n",
      "615.tdms ====> 298path (non-cutting)\n"
     ]
    },
    {
     "name": "stderr",
     "output_type": "stream",
     "text": [
      " 38%|███▊      | 186/490 [00:01<00:03, 97.10it/s]"
     ]
    },
    {
     "name": "stdout",
     "output_type": "stream",
     "text": [
      "616.tdms ====> 299path (cutting)\n",
      "617.tdms ====> 299path (non-cutting)\n",
      "618.tdms ====> 300path (cutting)\n",
      "619.tdms ====> 300path (non-cutting)\n",
      "620.tdms ====> 301path (cutting)\n",
      "621.tdms ====> 301path (non-cutting)\n",
      "622.tdms ====> 302path (cutting)\n",
      "623.tdms ====> 302path (non-cutting)\n",
      "624.tdms ====> 303path (cutting)\n",
      "625.tdms ====> 303path (non-cutting)\n",
      "626.tdms ====> 304path (cutting)\n",
      "627.tdms ====> 304path (non-cutting)\n",
      "628.tdms ====> 305path (cutting)\n",
      "629.tdms ====> 305path (non-cutting)\n",
      "630.tdms ====> 306path (cutting)\n",
      "631.tdms ====> 306path (non-cutting)\n",
      "632.tdms ====> 307path (cutting)\n",
      "633.tdms ====> 307path (non-cutting)\n",
      "634.tdms ====> 308path (cutting)\n",
      "635.tdms ====> 308path (non-cutting)\n"
     ]
    },
    {
     "name": "stderr",
     "output_type": "stream",
     "text": [
      "\r",
      " 40%|████      | 196/490 [00:02<00:03, 97.68it/s]"
     ]
    },
    {
     "name": "stdout",
     "output_type": "stream",
     "text": [
      "636.tdms ====> 309path (cutting)\n",
      "637.tdms ====> 309path (non-cutting)\n",
      "638.tdms ====> 310path (cutting)\n",
      "639.tdms ====> 310path (non-cutting)\n",
      "640.tdms ====> 311path (cutting)\n",
      "641.tdms ====> 311path (non-cutting)\n",
      "642.tdms ====> 312path (cutting)\n",
      "643.tdms ====> 312path (non-cutting)\n",
      "644.tdms ====> 313path (cutting)\n",
      "645.tdms ====> 313path (non-cutting)\n",
      "646.tdms ====> 314path (cutting)\n",
      "647.tdms ====> 314path (non-cutting)\n",
      "648.tdms ====> 315path (cutting)\n",
      "649.tdms ====> 315path (non-cutting)\n",
      "650.tdms ====> 316path (cutting)\n",
      "651.tdms ====> 316path (non-cutting)\n",
      "652.tdms ====> 317path (cutting)\n",
      "653.tdms ====> 317path (non-cutting)"
     ]
    },
    {
     "name": "stderr",
     "output_type": "stream",
     "text": [
      " 44%|████▍     | 216/490 [00:02<00:02, 95.49it/s]"
     ]
    },
    {
     "name": "stdout",
     "output_type": "stream",
     "text": [
      "\n",
      "654.tdms ====> 318path (cutting)\n",
      "655.tdms ====> 318path (non-cutting)\n",
      "656.tdms ====> 319path (cutting)\n",
      "657.tdms ====> 319path (non-cutting)\n",
      "658.tdms ====> 320path (cutting)\n",
      "659.tdms ====> 320path (non-cutting)\n",
      "660.tdms ====> 321path (cutting)\n",
      "661.tdms ====> 321path (non-cutting)\n",
      "662.tdms ====> 322path (cutting)\n",
      "663.tdms ====> 322path (non-cutting)\n",
      "664.tdms ====> 323path (cutting)\n",
      "665.tdms ====> 323path (non-cutting)\n",
      "666.tdms ====> 324path (cutting)\n",
      "667.tdms ====> 324path (non-cutting)\n",
      "668.tdms ====> 325path (cutting)\n",
      "669.tdms ====> 325path (non-cutting)\n",
      "670.tdms ====> 326path (cutting)\n",
      "671.tdms ====> 326path (non-cutting)\n",
      "672.tdms ====> 327path (cutting)\n",
      "673.tdms ====> 327path (non-cutting)\n"
     ]
    },
    {
     "name": "stderr",
     "output_type": "stream",
     "text": [
      " 49%|████▉     | 239/490 [00:02<00:02, 102.44it/s]"
     ]
    },
    {
     "name": "stdout",
     "output_type": "stream",
     "text": [
      "674.tdms ====> 328path (cutting)\n",
      "675.tdms ====> 328path (non-cutting)\n",
      "676.tdms ====> 329path (cutting)\n",
      "677.tdms ====> 329path (non-cutting)\n",
      "678.tdms ====> 330path (cutting)\n",
      "679.tdms ====> 330path (non-cutting)\n",
      "680.tdms ====> 331path (cutting)\n",
      "681.tdms ====> 331path (non-cutting)\n",
      "682.tdms ====> 332path (cutting)\n",
      "683.tdms ====> 332path (non-cutting)\n",
      "684.tdms ====> 333path (cutting)\n",
      "685.tdms ====> 333path (non-cutting)\n",
      "686.tdms ====> 334path (cutting)\n",
      "687.tdms ====> 334path (non-cutting)\n",
      "688.tdms ====> 335path (cutting)\n",
      "689.tdms ====> 335path (non-cutting)\n",
      "690.tdms ====> 336path (cutting)\n",
      "691.tdms ====> 336path (non-cutting)\n",
      "692.tdms ====> 337path (cutting)\n",
      "693.tdms ====> 337path (non-cutting)\n",
      "694.tdms ====> 338path (cutting)\n",
      "695.tdms ====> 338path (non-cutting)\n"
     ]
    },
    {
     "name": "stderr",
     "output_type": "stream",
     "text": [
      " 53%|█████▎    | 261/490 [00:02<00:02, 104.20it/s]"
     ]
    },
    {
     "name": "stdout",
     "output_type": "stream",
     "text": [
      "696.tdms ====> 339path (cutting)\n",
      "697.tdms ====> 339path (non-cutting)\n",
      "698.tdms ====> 340path (cutting)\n",
      "699.tdms ====> 340path (non-cutting)\n",
      "700.tdms ====> 341path (cutting)\n",
      "701.tdms ====> 341path (non-cutting)\n",
      "702.tdms ====> 342path (cutting)\n",
      "703.tdms ====> 342path (non-cutting)\n",
      "704.tdms ====> 343path (cutting)\n",
      "705.tdms ====> 343path (non-cutting)\n",
      "706.tdms ====> 344path (cutting)\n",
      "707.tdms ====> 344path (non-cutting)\n",
      "708.tdms ====> 345path (cutting)\n",
      "709.tdms ====> 345path (non-cutting)\n",
      "710.tdms ====> 346path (cutting)\n",
      "711.tdms ====> 346path (non-cutting)\n",
      "712.tdms ====> 347path (cutting)\n",
      "713.tdms ====> 347path (non-cutting)\n",
      "714.tdms ====> 348path (cutting)\n",
      "715.tdms ====> 348path (non-cutting)\n",
      "716.tdms ====> 349path (cutting)\n"
     ]
    },
    {
     "name": "stderr",
     "output_type": "stream",
     "text": [
      " 58%|█████▊    | 284/490 [00:02<00:01, 105.23it/s]"
     ]
    },
    {
     "name": "stdout",
     "output_type": "stream",
     "text": [
      "717.tdms ====> 349path (non-cutting)\n",
      "718.tdms ====> 350path (cutting)\n",
      "719.tdms ====> 350path (non-cutting)\n",
      "720.tdms ====> 351path (cutting)\n",
      "721.tdms ====> 351path (non-cutting)\n",
      "722.tdms ====> 352path (cutting)\n",
      "723.tdms ====> 352path (non-cutting)\n",
      "724.tdms ====> 353path (cutting)\n",
      "725.tdms ====> 353path (non-cutting)\n",
      "726.tdms ====> 354path (cutting)\n",
      "727.tdms ====> 354path (non-cutting)\n",
      "728.tdms ====> 355path (cutting)\n",
      "729.tdms ====> 355path (non-cutting)\n",
      "730.tdms ====> 356path (cutting)\n",
      "731.tdms ====> 356path (non-cutting)\n",
      "732.tdms ====> 357path (cutting)\n",
      "733.tdms ====> 357path (non-cutting)\n",
      "734.tdms ====> 358path (cutting)\n",
      "735.tdms ====> 358path (non-cutting)\n",
      "736.tdms ====> 359path (cutting)"
     ]
    },
    {
     "name": "stderr",
     "output_type": "stream",
     "text": [
      " 62%|██████▏   | 306/490 [00:03<00:01, 100.41it/s]"
     ]
    },
    {
     "name": "stdout",
     "output_type": "stream",
     "text": [
      "\n",
      "737.tdms ====> 359path (non-cutting)\n",
      "738.tdms ====> 360path (cutting)\n",
      "739.tdms ====> 360path (non-cutting)\n",
      "740.tdms ====> 361path (cutting)\n",
      "741.tdms ====> 361path (non-cutting)\n",
      "742.tdms ====> 362path (cutting)\n",
      "743.tdms ====> 362path (non-cutting)\n",
      "744.tdms ====> 363path (cutting)\n",
      "745.tdms ====> 363path (non-cutting)\n",
      "746.tdms ====> 364path (cutting)\n",
      "747.tdms ====> 364path (non-cutting)\n",
      "748.tdms ====> 365path (cutting)\n",
      "749.tdms ====> 365path (non-cutting)\n",
      "750.tdms ====> 366path (cutting)\n",
      "751.tdms ====> 366path (non-cutting)\n",
      "752.tdms ====> 367path (cutting)\n",
      "753.tdms ====> 367path (non-cutting)\n",
      "754.tdms ====> 368path (cutting)\n",
      "755.tdms ====> 368path (non-cutting)\n"
     ]
    },
    {
     "name": "stderr",
     "output_type": "stream",
     "text": [
      "\r",
      " 65%|██████▍   | 318/490 [00:03<00:01, 103.22it/s]"
     ]
    },
    {
     "name": "stdout",
     "output_type": "stream",
     "text": [
      "756.tdms ====> 369path (cutting)\n",
      "757.tdms ====> 369path (non-cutting)\n",
      "758.tdms ====> 370path (cutting)\n",
      "759.tdms ====> 370path (non-cutting)\n",
      "760.tdms ====> 371path (cutting)\n",
      "761.tdms ====> 371path (non-cutting)\n",
      "762.tdms ====> 372path (cutting)\n",
      "763.tdms ====> 372path (non-cutting)\n",
      "764.tdms ====> 373path (cutting)\n",
      "765.tdms ====> 373path (non-cutting)\n",
      "766.tdms ====> 374path (cutting)\n",
      "767.tdms ====> 374path (non-cutting)\n",
      "768.tdms ====> 375path (cutting)\n",
      "769.tdms ====> 375path (non-cutting)\n",
      "770.tdms ====> 376path (cutting)\n",
      "771.tdms ====> 376path (non-cutting)\n",
      "772.tdms ====> 377path (cutting)\n",
      "773.tdms ====> 377path (non-cutting)\n",
      "774.tdms ====> 378path (cutting)\n",
      "775.tdms ====> 378path (non-cutting)\n",
      "776.tdms ====> 379path (cutting)\n",
      "777.tdms ====> 379path (non-cutting)\n",
      "778.tdms ====> 380path (cutting)\n"
     ]
    },
    {
     "name": "stderr",
     "output_type": "stream",
     "text": [
      " 70%|██████▉   | 342/490 [00:03<00:01, 106.24it/s]"
     ]
    },
    {
     "name": "stdout",
     "output_type": "stream",
     "text": [
      "779.tdms ====> 380path (non-cutting)\n",
      "780.tdms ====> 381path (cutting)\n",
      "781.tdms ====> 381path (non-cutting)\n",
      "782.tdms ====> 382path (cutting)\n",
      "783.tdms ====> 382path (non-cutting)\n",
      "784.tdms ====> 383path (cutting)\n",
      "785.tdms ====> 383path (non-cutting)\n",
      "786.tdms ====> 384path (cutting)\n",
      "787.tdms ====> 384path (non-cutting)\n",
      "788.tdms ====> 385path (cutting)\n",
      "789.tdms ====> 385path (non-cutting)\n",
      "790.tdms ====> 386path (cutting)\n",
      "791.tdms ====> 386path (non-cutting)\n",
      "792.tdms ====> 387path (cutting)\n",
      "793.tdms ====> 387path (non-cutting)\n",
      "794.tdms ====> 388path (cutting)\n",
      "795.tdms ====> 388path (non-cutting)\n",
      "796.tdms ====> 389path (cutting)\n",
      "797.tdms ====> 389path (non-cutting)\n",
      "798.tdms ====> 390path (cutting)\n"
     ]
    },
    {
     "name": "stderr",
     "output_type": "stream",
     "text": [
      " 74%|███████▍  | 364/490 [00:03<00:01, 102.45it/s]"
     ]
    },
    {
     "name": "stdout",
     "output_type": "stream",
     "text": [
      "799.tdms ====> 390path (non-cutting)\n",
      "800.tdms ====> 391path (cutting)\n",
      "801.tdms ====> 391path (non-cutting)\n",
      "802.tdms ====> 392path (cutting)\n",
      "803.tdms ====> 392path (non-cutting)\n",
      "804.tdms ====> 393path (cutting)\n",
      "805.tdms ====> 393path (non-cutting)\n",
      "806.tdms ====> 394path (cutting)\n",
      "807.tdms ====> 394path (non-cutting)\n",
      "808.tdms ====> 395path (cutting)\n",
      "809.tdms ====> 395path (non-cutting)\n",
      "810.tdms ====> 396path (cutting)\n",
      "811.tdms ====> 396path (non-cutting)\n",
      "812.tdms ====> 397path (cutting)\n",
      "813.tdms ====> 397path (non-cutting)\n",
      "814.tdms ====> 398path (cutting)\n",
      "815.tdms ====> 398path (non-cutting)\n",
      "816.tdms ====> 399path (cutting)\n",
      "817.tdms ====> 399path (non-cutting)"
     ]
    },
    {
     "name": "stderr",
     "output_type": "stream",
     "text": [
      " 79%|███████▉  | 388/490 [00:03<00:00, 107.04it/s]"
     ]
    },
    {
     "name": "stdout",
     "output_type": "stream",
     "text": [
      "\n",
      "818.tdms ====> 400path (cutting)\n",
      "819.tdms ====> 400path (non-cutting)\n",
      "820.tdms ====> 401path (cutting)\n",
      "821.tdms ====> 401path (non-cutting)\n",
      "822.tdms ====> 402path (cutting)\n",
      "823.tdms ====> 402path (non-cutting)\n",
      "824.tdms ====> 403path (cutting)\n",
      "825.tdms ====> 403path (non-cutting)\n",
      "826.tdms ====> 404path (cutting)\n",
      "827.tdms ====> 404path (non-cutting)\n",
      "828.tdms ====> 405path (cutting)\n",
      "829.tdms ====> 405path (non-cutting)\n",
      "830.tdms ====> 406path (cutting)\n",
      "831.tdms ====> 406path (non-cutting)\n",
      "832.tdms ====> 407path (cutting)\n",
      "833.tdms ====> 407path (non-cutting)\n",
      "834.tdms ====> 408path (cutting)\n",
      "835.tdms ====> 408path (non-cutting)\n",
      "836.tdms ====> 409path (cutting)\n",
      "837.tdms ====> 409path (non-cutting)\n",
      "838.tdms ====> 410path (cutting)\n",
      "839.tdms ====> 410path (non-cutting)\n"
     ]
    },
    {
     "name": "stderr",
     "output_type": "stream",
     "text": [
      "\r",
      " 81%|████████▏ | 399/490 [00:04<00:00, 104.98it/s]"
     ]
    },
    {
     "name": "stdout",
     "output_type": "stream",
     "text": [
      "840.tdms ====> 411path (cutting)\n",
      "841.tdms ====> 411path (non-cutting)\n",
      "842.tdms ====> 412path (cutting)\n",
      "843.tdms ====> 412path (non-cutting)\n",
      "844.tdms ====> 413path (cutting)\n",
      "845.tdms ====> 413path (non-cutting)\n",
      "846.tdms ====> 414path (cutting)\n",
      "847.tdms ====> 414path (non-cutting)\n",
      "848.tdms ====> 415path (cutting)\n",
      "849.tdms ====> 415path (non-cutting)\n",
      "850.tdms ====> 416path (cutting)\n",
      "851.tdms ====> 416path (non-cutting)\n",
      "852.tdms ====> 417path (cutting)\n",
      "853.tdms ====> 417path (non-cutting)\n",
      "854.tdms ====> 418path (cutting)\n",
      "855.tdms ====> 418path (non-cutting)\n",
      "856.tdms ====> 419path (cutting)\n",
      "857.tdms ====> 419path (non-cutting)\n",
      "858.tdms ====> 420path (cutting)\n",
      "859.tdms ====> 420path (non-cutting)\n",
      "860.tdms ====> 421path (cutting)\n"
     ]
    },
    {
     "name": "stderr",
     "output_type": "stream",
     "text": [
      " 86%|████████▌ | 422/490 [00:04<00:00, 105.81it/s]"
     ]
    },
    {
     "name": "stdout",
     "output_type": "stream",
     "text": [
      "861.tdms ====> 421path (non-cutting)\n",
      "862.tdms ====> 422path (cutting)\n",
      "863.tdms ====> 422path (non-cutting)\n",
      "864.tdms ====> 423path (cutting)\n",
      "865.tdms ====> 423path (non-cutting)\n",
      "866.tdms ====> 424path (cutting)\n",
      "867.tdms ====> 424path (non-cutting)\n",
      "868.tdms ====> 425path (cutting)\n",
      "869.tdms ====> 425path (non-cutting)\n",
      "870.tdms ====> 426path (cutting)\n",
      "871.tdms ====> 426path (non-cutting)\n",
      "872.tdms ====> 427path (cutting)\n",
      "873.tdms ====> 427path (non-cutting)\n",
      "874.tdms ====> 428path (cutting)\n",
      "875.tdms ====> 428path (non-cutting)\n",
      "876.tdms ====> 429path (cutting)\n",
      "877.tdms ====> 429path (non-cutting)\n",
      "878.tdms ====> 430path (cutting)\n",
      "879.tdms ====> 430path (non-cutting)\n",
      "880.tdms ====> 431path (cutting)\n",
      "881.tdms ====> 431path (non-cutting)\n",
      "882.tdms ====> 432path (cutting)\n",
      "883.tdms ====> 432path (non-cutting)\n"
     ]
    },
    {
     "name": "stderr",
     "output_type": "stream",
     "text": [
      " 91%|█████████ | 445/490 [00:04<00:00, 107.37it/s]"
     ]
    },
    {
     "name": "stdout",
     "output_type": "stream",
     "text": [
      "884.tdms ====> 433path (cutting)\n",
      "885.tdms ====> 433path (non-cutting)\n",
      "886.tdms ====> 434path (cutting)\n",
      "887.tdms ====> 434path (non-cutting)\n",
      "888.tdms ====> 435path (cutting)\n",
      "889.tdms ====> 435path (non-cutting)\n",
      "890.tdms ====> 436path (cutting)\n",
      "891.tdms ====> 436path (non-cutting)\n",
      "892.tdms ====> 437path (cutting)\n",
      "893.tdms ====> 437path (non-cutting)\n",
      "894.tdms ====> 438path (cutting)\n",
      "895.tdms ====> 438path (non-cutting)\n",
      "896.tdms ====> 439path (cutting)\n",
      "897.tdms ====> 439path (non-cutting)\n",
      "898.tdms ====> 440path (cutting)\n",
      "899.tdms ====> 440path (non-cutting)\n",
      "900.tdms ====> 441path (cutting)\n",
      "901.tdms ====> 441path (non-cutting)\n",
      "902.tdms ====> 442path (cutting)\n",
      "903.tdms ====> 442path (non-cutting)\n",
      "904.tdms ====> 443path (cutting)\n"
     ]
    },
    {
     "name": "stderr",
     "output_type": "stream",
     "text": [
      " 95%|█████████▌| 467/490 [00:04<00:00, 102.20it/s]"
     ]
    },
    {
     "name": "stdout",
     "output_type": "stream",
     "text": [
      "905.tdms ====> 443path (non-cutting)\n",
      "906.tdms ====> 444path (cutting)\n",
      "907.tdms ====> 444path (non-cutting)\n",
      "908.tdms ====> 445path (cutting)\n",
      "909.tdms ====> 445path (non-cutting)\n",
      "910.tdms ====> 446path (cutting)\n",
      "911.tdms ====> 446path (non-cutting)\n",
      "912.tdms ====> 447path (cutting)\n",
      "913.tdms ====> 447path (non-cutting)\n",
      "914.tdms ====> 448path (cutting)\n",
      "915.tdms ====> 448path (non-cutting)\n",
      "916.tdms ====> 449path (cutting)\n",
      "917.tdms ====> 449path (non-cutting)\n",
      "918.tdms ====> 450path (cutting)\n",
      "919.tdms ====> 450path (non-cutting)\n",
      "920.tdms ====> 451path (cutting)\n",
      "921.tdms ====> 451path (non-cutting)\n",
      "922.tdms ====> 452path (cutting)\n"
     ]
    },
    {
     "name": "stderr",
     "output_type": "stream",
     "text": [
      "100%|██████████| 490/490 [00:04<00:00, 100.19it/s]"
     ]
    },
    {
     "name": "stdout",
     "output_type": "stream",
     "text": [
      "923.tdms ====> 452path (non-cutting)\n",
      "924.tdms ====> 453path (cutting)\n",
      "925.tdms ====> 453path (non-cutting)\n",
      "926.tdms ====> 454path (cutting)\n",
      "927.tdms ====> 454path (non-cutting)\n",
      "928.tdms ====> 455path (cutting)\n",
      "929.tdms ====> 455path (non-cutting)\n",
      "930.tdms ====> 456path (cutting)\n",
      "931.tdms ====> 456path (non-cutting)\n",
      "932.tdms ====> 457path (cutting)\n",
      "933.tdms ====> 457path (non-cutting)\n",
      "934.tdms ====> 458path (cutting)\n",
      "935.tdms ====> 458path (non-cutting)\n",
      "936.tdms ====> 459path (cutting)\n",
      "937.tdms ====> 459path (non-cutting)\n",
      "938.tdms ====> 460path (cutting)\n",
      "939.tdms ====> 460path (non-cutting)\n"
     ]
    },
    {
     "name": "stderr",
     "output_type": "stream",
     "text": [
      "\n"
     ]
    }
   ],
   "source": [
    "# os.rename(変更前ファイル、変更後ファイル)\n",
    "for i in tqdm(range(450,940)):\n",
    "    if(i%2 == 1):\n",
    "        num = int((i - 451)/2) + 216\n",
    "        print(f\"{int(i)}.tdms ====> {int(num)}path (non-cutting)\")\n",
    "        old_name = rf\"Z:\\100 Raw_data\\20230123---切削実験\\raw\\AE\\AE_{i}.tdms\"\n",
    "        new_name = rf\"Z:\\100 Raw_data\\20230123---切削実験\\AE\\Non-Cutting\\AE_{num}.tdms\"\n",
    "        os.rename(old_name, new_name)\n",
    "        \n",
    "        old_name_cf = rf\"Z:\\100 Raw_data\\20230123---切削実験\\raw\\Dynamometer\\Dynamometer_{i}.tdms\"\n",
    "        new_name_cf = rf\"Z:\\100 Raw_data\\20230123---切削実験\\Dynamometer\\Non-Cutting\\Dynamo_{num}.tdms\"\n",
    "        os.rename(old_name_cf, new_name_cf)\n",
    "        \n",
    "    if(i%2 == 0):\n",
    "        num = int((i - 450)/2) + 216\n",
    "        print(f\"{int(i)}.tdms ====> {int(num)}path (cutting)\")\n",
    "        old_name = rf\"Z:\\100 Raw_data\\20230123---切削実験\\raw\\AE\\AE_{i}.tdms\"\n",
    "        new_name = rf\"Z:\\100 Raw_data\\20230123---切削実験\\AE\\Cutting\\AE_{num}.tdms\"\n",
    "        os.rename(old_name, new_name)\n",
    "        \n",
    "        old_name_cf = rf\"Z:\\100 Raw_data\\20230123---切削実験\\raw\\Dynamometer\\Dynamometer_{i}.tdms\"\n",
    "        new_name_cf = rf\"Z:\\100 Raw_data\\20230123---切削実験\\Dynamometer\\Cutting\\Dynamo_{num}.tdms\"\n",
    "        os.rename(old_name_cf, new_name_cf)"
   ]
  },
  {
   "cell_type": "code",
   "execution_count": null,
   "metadata": {},
   "outputs": [],
   "source": []
  }
 ],
 "metadata": {
  "kernelspec": {
   "display_name": "Python 3",
   "language": "python",
   "name": "python3"
  },
  "language_info": {
   "codemirror_mode": {
    "name": "ipython",
    "version": 3
   },
   "file_extension": ".py",
   "mimetype": "text/x-python",
   "name": "python",
   "nbconvert_exporter": "python",
   "pygments_lexer": "ipython3",
   "version": "3.8.3"
  }
 },
 "nbformat": 4,
 "nbformat_minor": 5
}
