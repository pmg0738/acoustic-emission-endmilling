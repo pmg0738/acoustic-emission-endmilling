{
 "cells": [
  {
   "cell_type": "code",
   "execution_count": 1,
   "metadata": {},
   "outputs": [],
   "source": [
    "import cv2\n",
    "import numpy as np\n",
    "import glob"
   ]
  },
  {
   "cell_type": "code",
   "execution_count": 5,
   "metadata": {},
   "outputs": [],
   "source": [
    "frameSize = (500, 500)\n",
    "\n",
    "out = cv2.VideoWriter(rf'Z:\\200 Produced_data\\20221027\\CF\\menseki\\fig\\video.avi',cv2.VideoWriter_fourcc(*'DIVX'), 10, frameSize)\n",
    "# out = cv2.VideoWriter(rf'Z:\\200 Produced_data\\20221027\\CF\\menseki\\fig\\video.avi',cv2.VideoWriter_fourcc(*'DIVX'), 10)\n",
    "\n",
    "\n",
    "for num in range(1,170):\n",
    "    img = cv2.imread(rf\"Z:\\200 Produced_data\\20221027\\CF\\menseki\\fig/{num}.png\")\n",
    "    out.write(img)\n",
    "out.release()"
   ]
  },
  {
   "cell_type": "code",
   "execution_count": null,
   "metadata": {},
   "outputs": [],
   "source": []
  }
 ],
 "metadata": {
  "kernelspec": {
   "display_name": "Python 3",
   "language": "python",
   "name": "python3"
  },
  "language_info": {
   "codemirror_mode": {
    "name": "ipython",
    "version": 3
   },
   "file_extension": ".py",
   "mimetype": "text/x-python",
   "name": "python",
   "nbconvert_exporter": "python",
   "pygments_lexer": "ipython3",
   "version": "3.8.3"
  }
 },
 "nbformat": 4,
 "nbformat_minor": 4
}
