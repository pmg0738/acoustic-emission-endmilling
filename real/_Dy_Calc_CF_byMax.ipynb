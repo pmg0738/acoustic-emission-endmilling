{
 "cells": [
  {
   "cell_type": "code",
   "execution_count": 2,
   "metadata": {},
   "outputs": [],
   "source": [
    "import numpy as np\n",
    "# import pandas as pd\n",
    "import matplotlib.pyplot as plt\n",
    "from loadTDMS import *\n",
    "from tqdm import tqdm"
   ]
  },
  {
   "cell_type": "code",
   "execution_count": 6,
   "metadata": {},
   "outputs": [],
   "source": [
    "date = 20230117\n",
    "interval = 8308"
   ]
  },
  {
   "cell_type": "code",
   "execution_count": 10,
   "metadata": {},
   "outputs": [
    {
     "data": {
      "text/plain": [
       "[<matplotlib.lines.Line2D at 0x2c18318f550>]"
      ]
     },
     "execution_count": 10,
     "metadata": {},
     "output_type": "execute_result"
    }
   ],
   "source": [
    "%matplotlib qt\n",
    "num = 460\n",
    "fig = plt.figure()\n",
    "ax = fig.add_subplot()\n",
    "d = np.load(rf\"Z:\\200 Produced_data\\{date}\\CF\\max8308\\{num}.npy\")\n",
    "# d = np.load(rf\"Z:\\200 Produced_data\\{date}\\CF\\{num}.npy\")\n",
    "# ax.axhline(100, color = \"red\")\n",
    "plt.plot(d)"
   ]
  },
  {
   "cell_type": "code",
   "execution_count": 8,
   "metadata": {},
   "outputs": [
    {
     "data": {
      "text/plain": [
       "460"
      ]
     },
     "execution_count": 8,
     "metadata": {},
     "output_type": "execute_result"
    }
   ],
   "source": []
  },
  {
   "cell_type": "markdown",
   "metadata": {},
   "source": [
    "## new-non_cutting_avg 使用"
   ]
  },
  {
   "cell_type": "code",
   "execution_count": 3,
   "metadata": {},
   "outputs": [
    {
     "name": "stderr",
     "output_type": "stream",
     "text": [
      "100%|██████████| 340/340 [03:43<00:00,  1.52it/s]\n"
     ]
    }
   ],
   "source": [
    "for num in tqdm(range(121,461)):\n",
    "    d = np.load(rf\"Z:\\200 Produced_data\\{date}\\CF\\{num}.npy\")\n",
    "    cf_max = np.array([])\n",
    "    for rev in range(int(len(d)/interval)):\n",
    "        start = rev*interval\n",
    "        end = start + interval\n",
    "        cf_max = np.append(cf_max, np.max(d[start:end]))\n",
    "    np.save(rf\"Z:\\200 Produced_data\\{date}\\CF\\max8308\\{num}\", cf_max)"
   ]
  },
  {
   "cell_type": "code",
   "execution_count": 5,
   "metadata": {},
   "outputs": [
    {
     "name": "stderr",
     "output_type": "stream",
     "text": [
      "100%|██████████| 339/339 [00:10<00:00, 31.01it/s]\n"
     ]
    }
   ],
   "source": [
    "d1 = np.load(rf\"Z:\\200 Produced_data\\{date}\\CF\\max8308\\121.npy\")\n",
    "\n",
    "for num in tqdm(range(122,461)):\n",
    "    d2 = np.load(rf\"Z:\\200 Produced_data\\{date}\\CF\\max8308\\{num}.npy\")\n",
    "    d1 = np.concatenate([d1,d2], axis=0)\n",
    "np.save(rf\"Z:\\200 Produced_data\\{date}\\CF\\max8308\\All\",d1)"
   ]
  },
  {
   "cell_type": "markdown",
   "metadata": {},
   "source": [
    "## non-cutting_avg 使用"
   ]
  },
  {
   "cell_type": "code",
   "execution_count": 14,
   "metadata": {},
   "outputs": [
    {
     "name": "stderr",
     "output_type": "stream",
     "text": [
      "100%|██████████| 119/119 [00:03<00:00, 33.68it/s]\n"
     ]
    }
   ],
   "source": [
    "d1 = np.load(rf\"Z:\\200 Produced_data\\20230113\\CF\\max8308\\1.npy\")\n",
    "\n",
    "for num in tqdm(range(2,121)):\n",
    "    d2 = np.load(rf\"Z:\\200 Produced_data\\20230113\\CF\\max8308\\{num}.npy\")\n",
    "    d1 = np.concatenate([d1,d2], axis=0)\n",
    "np.save(rf\"Z:\\200 Produced_data\\20230113\\CF\\max8308\\All\",d1)"
   ]
  },
  {
   "cell_type": "code",
   "execution_count": null,
   "metadata": {},
   "outputs": [],
   "source": [
    "d1 = np.load(rf\"Z:\\200 Produced_data\\20230113\\CF\\max8308\\1.npy\")\n",
    "\n",
    "for num in tqdm(range(2,121)):\n",
    "    d2 = np.load(rf\"Z:\\200 Produced_data\\20230113\\CF\\max8308\\{num}.npy\")\n",
    "    d1 = np.concatenate([d1,d2], axis=0)\n",
    "np.save(rf\"Z:\\200 Produced_data\\20230113\\CF\\max8308\\All\",d1)"
   ]
  },
  {
   "cell_type": "code",
   "execution_count": null,
   "metadata": {},
   "outputs": [],
   "source": []
  },
  {
   "cell_type": "code",
   "execution_count": null,
   "metadata": {},
   "outputs": [],
   "source": []
  },
  {
   "cell_type": "code",
   "execution_count": null,
   "metadata": {},
   "outputs": [],
   "source": []
  },
  {
   "cell_type": "code",
   "execution_count": null,
   "metadata": {},
   "outputs": [],
   "source": []
  },
  {
   "cell_type": "markdown",
   "metadata": {},
   "source": [
    "# １回転分のmaxの推移表示（移動平均）"
   ]
  },
  {
   "cell_type": "code",
   "execution_count": 14,
   "metadata": {},
   "outputs": [
    {
     "data": {
      "text/plain": [
       "[<matplotlib.lines.Line2D at 0x2c18a581130>]"
      ]
     },
     "execution_count": 14,
     "metadata": {},
     "output_type": "execute_result"
    }
   ],
   "source": [
    "all_d = np.load(rf\"Z:\\200 Produced_data\\{date}\\CF\\max8308\\All.npy\")\n",
    "\n",
    "%matplotlib qt\n",
    "fig = plt.figure()\n",
    "ax = fig.add_subplot()\n",
    "ax.set_xticks(np.arange(0, 340*1200+1, 1200*5))\n",
    "ax.set_xticklabels(np.arange(121,460,5))\n",
    "ax.set_xlabel(xlabel='Path Number')\n",
    "ax.set_ylabel(ylabel='Cutting Force[N]')\n",
    "ax.tick_params(axis = 'x')\n",
    "ax.tick_params(axis = 'y')\n",
    "ax.grid()\n",
    "\n",
    "w_size = 1200*10\n",
    "x = np.linspace(-1,1,w_size)\n",
    "v = np.exp(-x**2 / 2) / np.sqrt(2 * np.pi)\n",
    "v = v / np.sum(v)\n",
    "v = np.sort(v)[::-1]\n",
    "\n",
    "\n",
    "plt.plot(all_d)\n",
    "plt.plot(np.convolve(all_d,v, mode='valid'))"
   ]
  },
  {
   "cell_type": "markdown",
   "metadata": {},
   "source": [
    "## ドリフト除去_20230113"
   ]
  },
  {
   "cell_type": "code",
   "execution_count": 62,
   "metadata": {},
   "outputs": [],
   "source": [
    "# データがドリフトしているところ\n",
    "drift_path = [24,25,26,33,34,44,53,72,73,82,99,101,120]"
   ]
  },
  {
   "cell_type": "code",
   "execution_count": 18,
   "metadata": {},
   "outputs": [],
   "source": [
    "all_d = np.load(rf\"Z:\\200 Produced_data\\20230113\\CF\\max8308\\All.npy\")"
   ]
  },
  {
   "cell_type": "code",
   "execution_count": 64,
   "metadata": {},
   "outputs": [],
   "source": [
    "for i in drift_path:\n",
    "    all_d[(i-1)*1200:(i-1)*1200+1200] = 200 + np.random.randint(-50,50,1200)\n",
    "np.save(rf\"Z:\\200 Produced_data\\20230113\\CF\\max8308\\All_delete_drift.npy\", all_d)"
   ]
  },
  {
   "cell_type": "code",
   "execution_count": 24,
   "metadata": {},
   "outputs": [],
   "source": [
    "all_d_d = np.load(rf\"Z:\\200 Produced_data\\20230113\\CF\\max8308\\All_delete_drift.npy\")"
   ]
  },
  {
   "cell_type": "markdown",
   "metadata": {},
   "source": [
    "## ドリフト除去_20230117"
   ]
  },
  {
   "cell_type": "code",
   "execution_count": 70,
   "metadata": {},
   "outputs": [],
   "source": [
    "# データがドリフトしているところ\n",
    "drift_path = [68,193,194,204,227,249,266,297,316,332]"
   ]
  },
  {
   "cell_type": "code",
   "execution_count": 71,
   "metadata": {},
   "outputs": [],
   "source": [
    "all_d = np.load(rf\"Z:\\200 Produced_data\\20230117\\CF\\max8308\\All.npy\")"
   ]
  },
  {
   "cell_type": "code",
   "execution_count": 72,
   "metadata": {},
   "outputs": [
    {
     "name": "stdout",
     "output_type": "stream",
     "text": [
      "5179178.282440186\n",
      "118121549.57003784\n",
      "112942371.28759766\n",
      "285.20800830201426\n"
     ]
    }
   ],
   "source": [
    "a = 0\n",
    "for i in drift_path:\n",
    "    a = a +  np.sum(all_d[(i-1)*1200:(i-1)*1200+1200])\n",
    "print(a)\n",
    "print(np.sum(all_d))\n",
    "print(np.sum(all_d) - a)\n",
    "print((np.sum(all_d) - a) / (330*1200))"
   ]
  },
  {
   "cell_type": "code",
   "execution_count": 79,
   "metadata": {},
   "outputs": [
    {
     "name": "stdout",
     "output_type": "stream",
     "text": [
      "-------------------------------------------\n",
      "210.4596121749878\n",
      "-------------------------------------------\n",
      "250.82261624336243\n",
      "-------------------------------------------\n",
      "264.00599705553054\n",
      "-------------------------------------------\n",
      "268.21050845718383\n",
      "-------------------------------------------\n",
      "267.5998315563202\n",
      "-------------------------------------------\n",
      "262.45836231803895\n",
      "-------------------------------------------\n",
      "264.1651168956757\n",
      "-------------------------------------------\n",
      "270.77298547744755\n",
      "-------------------------------------------\n",
      "255.7623646297455\n",
      "-------------------------------------------\n",
      "285.01300059700014\n"
     ]
    }
   ],
   "source": [
    "for i in drift_path:\n",
    "#     a = np.average(all_d[(i-5)*1200:(i)*1200])\n",
    "#     b = np.average(all_d[(i)*1200:(i+5)*1200])\n",
    "#     print(a)\n",
    "#     print(b)\n",
    "#     print((a+b)/2)\n",
    "    print(\"-------------------------------------------\")\n",
    "#     all_d[(i)*1200:(i)*1200+1200] = 285.2 + np.random.randint(-80,80,1200)\n",
    "    print(np.average(all_d[(i-1)*1200:(i-1)*1200+1200])*1.05)\n",
    "    all_d[(i)*1200:(i)*1200+1200] = np.average(all_d[(i-1)*1200:(i-1)*1200+1200])*1.05 + np.random.randint(-90,90,1200)\n",
    "np.save(rf\"Z:\\200 Produced_data\\20230117\\CF\\max8308\\All_delete_drift_2.npy\", all_d)"
   ]
  },
  {
   "cell_type": "code",
   "execution_count": 80,
   "metadata": {},
   "outputs": [],
   "source": [
    "all_d = np.load(rf\"Z:\\200 Produced_data\\20230117\\CF\\max8308\\All.npy\")\n",
    "all_d_d = np.load(rf\"Z:\\200 Produced_data\\20230117\\CF\\max8308\\All_delete_drift_2.npy\")"
   ]
  },
  {
   "cell_type": "code",
   "execution_count": 82,
   "metadata": {},
   "outputs": [
    {
     "data": {
      "text/plain": [
       "[<matplotlib.lines.Line2D at 0x2c200df9130>]"
      ]
     },
     "execution_count": 82,
     "metadata": {},
     "output_type": "execute_result"
    }
   ],
   "source": [
    "%matplotlib qt\n",
    "fig = plt.figure()\n",
    "ax = fig.add_subplot()\n",
    "ax.set_xticks(np.arange(121, 460*1200+1, 1200*5))\n",
    "ax.set_xticklabels(np.arange(121,461,5))\n",
    "ax.set_xticks(np.arange(1, 340*1200+1, 1200*5))\n",
    "ax.set_xticklabels(np.arange(1,341,5))\n",
    "ax.set_xlabel(xlabel='Path Number')\n",
    "ax.set_ylabel(ylabel='Cutting Force[N]')\n",
    "ax.tick_params(axis = 'x')\n",
    "ax.tick_params(axis = 'y')\n",
    "ax.grid()\n",
    "\n",
    "w_size = 1200*10\n",
    "x = np.linspace(-1,1,w_size)\n",
    "v = np.exp(-x**2 / 2) / np.sqrt(2 * np.pi)\n",
    "v = v / np.sum(v)\n",
    "v = np.sort(v)[::-1]\n",
    "\n",
    "\n",
    "# plt.plot(all_d)\n",
    "# plt.plot(all_d_d)\n",
    "plt.plot(np.convolve(all_d_d,v, mode='valid'))\n",
    "# plt.plot(np.convolve(all_d,v, mode='same'))\n",
    "# plt.plot(np.convolve(all_d,v, mode='full'))"
   ]
  },
  {
   "cell_type": "markdown",
   "metadata": {},
   "source": [
    "## 20230113 + 0117"
   ]
  },
  {
   "cell_type": "code",
   "execution_count": 4,
   "metadata": {},
   "outputs": [],
   "source": [
    "cf13 = np.load(rf\"Z:\\200 Produced_data\\20230113+0117\\CF\\All_delete_drift.npy\")\n",
    "cf17 = np.load(rf\"Z:\\200 Produced_data\\20230113+0117\\CF\\All_delete_drift_2.npy\")"
   ]
  },
  {
   "cell_type": "code",
   "execution_count": 7,
   "metadata": {},
   "outputs": [
    {
     "name": "stdout",
     "output_type": "stream",
     "text": [
      "120.0\n",
      "340.0\n"
     ]
    }
   ],
   "source": [
    "print(len(cf13)/1200)\n",
    "print(len(cf17)/1200)"
   ]
  },
  {
   "cell_type": "code",
   "execution_count": 8,
   "metadata": {},
   "outputs": [],
   "source": [
    "cf1317 = np.concatenate([cf13,cf17])"
   ]
  },
  {
   "cell_type": "code",
   "execution_count": 12,
   "metadata": {},
   "outputs": [
    {
     "name": "stdout",
     "output_type": "stream",
     "text": [
      "460.0\n"
     ]
    }
   ],
   "source": [
    "print(len(cf1317)/1200)"
   ]
  },
  {
   "cell_type": "code",
   "execution_count": 13,
   "metadata": {
    "scrolled": true
   },
   "outputs": [
    {
     "data": {
      "text/plain": [
       "[<matplotlib.lines.Line2D at 0x19bb640b880>]"
      ]
     },
     "execution_count": 13,
     "metadata": {},
     "output_type": "execute_result"
    },
    {
     "data": {
      "image/png": "[encoded data removed]",
      "text/plain": [
       "<Figure size 432x288 with 1 Axes>"
      ]
     },
     "metadata": {
      "needs_background": "light"
     },
     "output_type": "display_data"
    }
   ],
   "source": [
    "plt.plot(cf1317)"
   ]
  },
  {
   "cell_type": "code",
   "execution_count": 14,
   "metadata": {},
   "outputs": [],
   "source": [
    "np.save(rf\"Z:\\200 Produced_data\\20230113+0117\\CF\\All_delete_drift_460\",cf1317)"
   ]
  },
  {
   "cell_type": "markdown",
   "metadata": {},
   "source": []
  },
  {
   "cell_type": "markdown",
   "metadata": {},
   "source": [
    "# 1回転分のmaxを正規化して推移表示"
   ]
  },
  {
   "cell_type": "code",
   "execution_count": 30,
   "metadata": {},
   "outputs": [],
   "source": [
    "from sklearn import preprocessing\n",
    "all_d = np.load(rf\"Z:\\200 Produced_data\\20230113\\CF\\max8308\\All.npy\")\n",
    "all_d_norm = preprocessing.minmax_scale(all_d)\n",
    "np.save(rf\"Z:\\200 Produced_data\\20230113\\CF\\max8308\\All_Norm.npy\", all_d_norm)\n",
    "all_d_norm = np.load(rf\"Z:\\200 Produced_data\\20230113\\CF\\max8308\\All_Norm.npy\")"
   ]
  },
  {
   "cell_type": "code",
   "execution_count": 31,
   "metadata": {},
   "outputs": [
    {
     "data": {
      "text/plain": [
       "[<matplotlib.lines.Line2D at 0x1fe95ea3070>]"
      ]
     },
     "execution_count": 31,
     "metadata": {},
     "output_type": "execute_result"
    }
   ],
   "source": [
    "%matplotlib qt\n",
    "fig = plt.figure()\n",
    "fig = plt.figure()\n",
    "ax = fig.add_subplot()\n",
    "ax.set_xticks(np.arange(0, 120*1200+1, 1200*5))\n",
    "ax.set_xticklabels(np.arange(0,121,5))\n",
    "ax.set_xlabel(xlabel='Path Number')\n",
    "ax.set_ylabel(ylabel='Cutting Force[N]')\n",
    "ax.tick_params(axis = 'x')\n",
    "ax.tick_params(axis = 'y')\n",
    "ax.grid()\n",
    "\n",
    "w_size = 1200\n",
    "x = np.linspace(-1,1,w_size)\n",
    "v = np.exp(-x**2 / 2) / np.sqrt(2 * np.pi)\n",
    "v = v / np.sum(v)\n",
    "v = np.sort(v)[::-1]\n",
    "\n",
    "plt.plot(all_d_norm)\n",
    "plt.plot(np.convolve(all_d_norm,v, mode='valid'))"
   ]
  },
  {
   "cell_type": "code",
   "execution_count": null,
   "metadata": {},
   "outputs": [],
   "source": []
  },
  {
   "cell_type": "code",
   "execution_count": null,
   "metadata": {},
   "outputs": [],
   "source": []
  },
  {
   "cell_type": "code",
   "execution_count": 4,
   "metadata": {},
   "outputs": [
    {
     "data": {
      "text/plain": [
       "848148"
      ]
     },
     "execution_count": 4,
     "metadata": {},
     "output_type": "execute_result"
    }
   ],
   "source": [
    "date = 20221027\n",
    "nc_path = rf\"Z:\\100 Raw_data\\{date}---切削実験\\Dynamometer\\Non-Cutting\\Dynamo_1.tdms\"\n",
    "nc_d = load_tdms(nc_path, ch_num=3)\n",
    "len(nc_d[1])"
   ]
  },
  {
   "cell_type": "code",
   "execution_count": 19,
   "metadata": {},
   "outputs": [],
   "source": [
    "def get_min_drift(num, start_sample_num, end_sample_num, interval, CALC, START, INTERVAL):\n",
    "    date = 20220630\n",
    "    path = rf\"Z:\\100 Raw_data\\{date}---切削実験\\Dynamometer\\Cutting\\Dynamo_{num}.tdms\"\n",
    "    nc_path = rf\"Z:\\100 Raw_data\\{date}---切削実験\\Dynamometer\\Non-Cutting\\Dynamo_{num}.tdms\"\n",
    "    c_d = load_tdms(path, ch_num=3)\n",
    "    c_d = np.array(c_d[1][start_sample_num:end_sample_num])\n",
    "    nc_d = load_tdms(nc_path, ch_num=3)\n",
    "    nc_d = nc_d[1]\n",
    "\n",
    "    \n",
    "    cf = ( c_d - np.average(nc_d) ) * -500\n",
    "    \n",
    "    cf_max = []\n",
    "    \n",
    "    for rev in range(0,int(len(c_d)/ interval)):\n",
    "        start = rev*interval\n",
    "        end = start + interval\n",
    "        cf_max.append(np.max(cf[start:end]))\n",
    "    cf_max = np.array(cf_max)\n",
    "    np.save(rf\"Z:\\200 Produced_data\\20220630\\CF\\{CALC}_{START}_{INTERVAL}{interval}_{num}\",cf_max)"
   ]
  },
  {
   "cell_type": "markdown",
   "metadata": {},
   "source": [
    "### MAX / None / Constant 4069 "
   ]
  },
  {
   "cell_type": "code",
   "execution_count": 21,
   "metadata": {},
   "outputs": [
    {
     "name": "stderr",
     "output_type": "stream",
     "text": [
      "100%|██████████| 477/477 [08:26<00:00,  1.06s/it]\n"
     ]
    }
   ],
   "source": [
    "CALC = \"MAX\"\n",
    "START = \"None\"\n",
    "INTERVAL = \"Variable\"\n",
    "interval = 4069\n",
    "for i in tqdm(range(260,737)):\n",
    "#     get_min_drift(i, 0, 4930000, interval, CALC, START, INTERVAL)\n",
    "    get_min_drift(i, 0, 4650000, interval, CALC, START, INTERVAL)\n",
    "# get_min_drift(169, 0, 1000000, interval, CALC, START, INTERVAL)"
   ]
  },
  {
   "cell_type": "code",
   "execution_count": 2,
   "metadata": {},
   "outputs": [
    {
     "name": "stderr",
     "output_type": "stream",
     "text": [
      "100%|██████████| 168/168 [00:04<00:00, 38.90it/s]\n"
     ]
    }
   ],
   "source": [
    "CALC = \"MAX\"\n",
    "START = \"None\"\n",
    "INTERVAL = \"Variable\"\n",
    "interval = 4069\n",
    "\n",
    "d1 = np.load(rf\"Z:\\200 Produced_data\\20221027\\CF\\rerecalculate\\{CALC}_{START}_{INTERVAL}{interval}_1.npy\")\n",
    "\n",
    "for num in tqdm(range(2,170)):\n",
    "    d2 = np.load(rf\"Z:\\200 Produced_data\\20221027\\CF\\rerecalculate\\{CALC}_{START}_{INTERVAL}{interval}_{num}.npy\")\n",
    "    d1 = np.concatenate([d1, d2], axis=0)\n",
    "\n",
    "np.save(rf\"Z:\\200 Produced_data\\20221027\\CF\\rerecalculate\\{CALC}_{START}_{INTERVAL}{interval}_All\",d1)"
   ]
  },
  {
   "cell_type": "code",
   "execution_count": 4,
   "metadata": {},
   "outputs": [
    {
     "name": "stderr",
     "output_type": "stream",
     "text": [
      "100%|██████████| 735/735 [00:12<00:00, 61.14it/s] \n"
     ]
    }
   ],
   "source": [
    "d1 = np.load(rf\"Z:\\200 Produced_data\\20220630\\CF\\{CALC}_{START}_{INTERVAL}{interval}_1.npy\")\n",
    "\n",
    "for num in tqdm(range(2,737)):\n",
    "    d2 = np.load(rf\"Z:\\200 Produced_data\\20220630\\CF\\{CALC}_{START}_{INTERVAL}{interval}_{num}.npy\")\n",
    "    d1 = np.concatenate([d1, d2], axis=0)\n",
    "\n",
    "np.save(rf\"Z:\\200 Produced_data\\20220630\\CF\\{CALC}_{START}_{INTERVAL}{interval}_All\",d1)"
   ]
  },
  {
   "cell_type": "code",
   "execution_count": null,
   "metadata": {},
   "outputs": [],
   "source": []
  }
 ],
 "metadata": {
  "kernelspec": {
   "display_name": "Python 3",
   "language": "python",
   "name": "python3"
  },
  "language_info": {
   "codemirror_mode": {
    "name": "ipython",
    "version": 3
   },
   "file_extension": ".py",
   "mimetype": "text/x-python",
   "name": "python",
   "nbconvert_exporter": "python",
   "pygments_lexer": "ipython3",
   "version": "3.8.3"
  }
 },
 "nbformat": 4,
 "nbformat_minor": 4
}
