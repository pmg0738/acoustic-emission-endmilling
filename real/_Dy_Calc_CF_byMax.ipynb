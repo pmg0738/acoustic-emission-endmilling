{
 "cells": [
  {
   "cell_type": "code",
   "execution_count": 1,
   "metadata": {},
   "outputs": [],
   "source": [
    "import numpy as np\n",
    "# import pandas as pd\n",
    "import matplotlib.pyplot as plt\n",
    "from loadTDMS import *\n",
    "from tqdm import tqdm"
   ]
  },
  {
   "cell_type": "code",
   "execution_count": 4,
   "metadata": {},
   "outputs": [
    {
     "data": {
      "text/plain": [
       "848148"
      ]
     },
     "execution_count": 4,
     "metadata": {},
     "output_type": "execute_result"
    }
   ],
   "source": [
    "date = 20221027\n",
    "nc_path = rf\"Z:\\100 Raw_data\\{date}---切削実験\\Dynamometer\\Non-Cutting\\Dynamo_1.tdms\"\n",
    "nc_d = load_tdms(nc_path, ch_num=3)\n",
    "len(nc_d[1])"
   ]
  },
  {
   "cell_type": "code",
   "execution_count": 19,
   "metadata": {},
   "outputs": [],
   "source": [
    "def get_min_drift(num, start_sample_num, end_sample_num, interval, CALC, START, INTERVAL):\n",
    "    date = 20220630\n",
    "    path = rf\"Z:\\100 Raw_data\\{date}---切削実験\\Dynamometer\\Cutting\\Dynamo_{num}.tdms\"\n",
    "    nc_path = rf\"Z:\\100 Raw_data\\{date}---切削実験\\Dynamometer\\Non-Cutting\\Dynamo_{num}.tdms\"\n",
    "    c_d = load_tdms(path, ch_num=3)\n",
    "    c_d = np.array(c_d[1][start_sample_num:end_sample_num])\n",
    "    nc_d = load_tdms(nc_path, ch_num=3)\n",
    "    nc_d = nc_d[1]\n",
    "\n",
    "    \n",
    "    cf = ( c_d - np.average(nc_d) ) * -500\n",
    "    \n",
    "    cf_max = []\n",
    "    \n",
    "    for rev in range(0,int(len(c_d)/ interval)):\n",
    "        start = rev*interval\n",
    "        end = start + interval\n",
    "        cf_max.append(np.max(cf[start:end]))\n",
    "    cf_max = np.array(cf_max)\n",
    "    np.save(rf\"Z:\\200 Produced_data\\20220630\\CF\\{CALC}_{START}_{INTERVAL}{interval}_{num}\",cf_max)"
   ]
  },
  {
   "cell_type": "markdown",
   "metadata": {},
   "source": [
    "### MAX / None / Constant 4069 "
   ]
  },
  {
   "cell_type": "code",
   "execution_count": 21,
   "metadata": {},
   "outputs": [
    {
     "name": "stderr",
     "output_type": "stream",
     "text": [
      "100%|██████████| 477/477 [08:26<00:00,  1.06s/it]\n"
     ]
    }
   ],
   "source": [
    "CALC = \"MAX\"\n",
    "START = \"None\"\n",
    "INTERVAL = \"Variable\"\n",
    "interval = 4069\n",
    "for i in tqdm(range(260,737)):\n",
    "#     get_min_drift(i, 0, 4930000, interval, CALC, START, INTERVAL)\n",
    "    get_min_drift(i, 0, 4650000, interval, CALC, START, INTERVAL)\n",
    "# get_min_drift(169, 0, 1000000, interval, CALC, START, INTERVAL)"
   ]
  },
  {
   "cell_type": "code",
   "execution_count": 18,
   "metadata": {},
   "outputs": [
    {
     "name": "stderr",
     "output_type": "stream",
     "text": [
      "100%|██████████| 168/168 [00:02<00:00, 82.93it/s]\n"
     ]
    }
   ],
   "source": [
    "d1 = np.load(rf\"Z:\\200 Produced_data\\20221027\\CF\\rerecalculate\\{CALC}_{START}_{INTERVAL}{interval}_1.npy\")\n",
    "\n",
    "for num in tqdm(range(2,170)):\n",
    "    d2 = np.load(rf\"Z:\\200 Produced_data\\20221027\\CF\\rerecalculate\\{CALC}_{START}_{INTERVAL}{interval}_{num}.npy\")\n",
    "    d1 = np.concatenate([d1, d2], axis=0)\n",
    "\n",
    "np.save(rf\"Z:\\200 Produced_data\\20221027\\CF\\rerecalculate\\{CALC}_{START}_{INTERVAL}{interval}_All\",d1)"
   ]
  },
  {
   "cell_type": "code",
   "execution_count": 22,
   "metadata": {},
   "outputs": [
    {
     "name": "stderr",
     "output_type": "stream",
     "text": [
      "100%|██████████| 735/735 [00:13<00:00, 55.98it/s]\n"
     ]
    }
   ],
   "source": [
    "d1 = np.load(rf\"Z:\\200 Produced_data\\20220630\\CF\\{CALC}_{START}_{INTERVAL}{interval}_1.npy\")\n",
    "\n",
    "for num in tqdm(range(2,737)):\n",
    "    d2 = np.load(rf\"Z:\\200 Produced_data\\20220630\\CF\\{CALC}_{START}_{INTERVAL}{interval}_{num}.npy\")\n",
    "    d1 = np.concatenate([d1, d2], axis=0)\n",
    "\n",
    "np.save(rf\"Z:\\200 Produced_data\\20220630\\CF\\{CALC}_{START}_{INTERVAL}{interval}_All\",d1)"
   ]
  },
  {
   "cell_type": "code",
   "execution_count": null,
   "metadata": {},
   "outputs": [],
   "source": []
  }
 ],
 "metadata": {
  "kernelspec": {
   "display_name": "Python 3",
   "language": "python",
   "name": "python3"
  },
  "language_info": {
   "codemirror_mode": {
    "name": "ipython",
    "version": 3
   },
   "file_extension": ".py",
   "mimetype": "text/x-python",
   "name": "python",
   "nbconvert_exporter": "python",
   "pygments_lexer": "ipython3",
   "version": "3.8.3"
  }
 },
 "nbformat": 4,
 "nbformat_minor": 4
}
