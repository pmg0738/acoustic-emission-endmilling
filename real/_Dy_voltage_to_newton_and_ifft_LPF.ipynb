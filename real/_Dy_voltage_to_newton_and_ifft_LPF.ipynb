{
 "cells": [
  {
   "cell_type": "code",
   "execution_count": 1,
   "metadata": {},
   "outputs": [],
   "source": [
    "import numpy as np\n",
    "# import pandas as pd\n",
    "import matplotlib.pyplot as plt\n",
    "from loadTDMS import *\n",
    "from tqdm import tqdm\n",
    "# import seaborn as sns"
   ]
  },
  {
   "cell_type": "markdown",
   "metadata": {},
   "source": [
    "#### 日付 : 切削中のサンプル数 / last path \n",
    "- 20211025 : 5060000 / 24path\n",
    "- 20211115 : 5010000 / 238path\n",
    "- 20220630 : 4670000 / 735path\n",
    "- 20221027 : 4930000 / 168path\n",
    "- 20230113 : 9970000 / 120path\n",
    "- 20230117 : 9970000 / (121path ~ 460path) 340path"
   ]
  },
  {
   "cell_type": "code",
   "execution_count": 2,
   "metadata": {},
   "outputs": [
    {
     "name": "stdout",
     "output_type": "stream",
     "text": [
      "date=20230113, last_path=120, last_sample_num=9970000\n"
     ]
    }
   ],
   "source": [
    "# date = 20211025\n",
    "# date = 20211115\n",
    "# date = 20220630\n",
    "# date = 20221027\n",
    "date = 20230113\n",
    "# date = 20230117\n",
    "\n",
    "if date == 20211025:\n",
    "    last_path = 24\n",
    "    last_sample_num = 5060000\n",
    "if date == 20211115:\n",
    "    last_path = 238\n",
    "    last_sample_num = 5010000\n",
    "if date == 20220630:\n",
    "    last_path = 735\n",
    "    last_sample_num = 4670000 \n",
    "if date == 20221027:\n",
    "    last_path = 168\n",
    "    last_sample_num = 4930000\n",
    "    \n",
    "if date == 20230113:\n",
    "    last_path = 120\n",
    "    last_sample_num = 9970000\n",
    "\n",
    "if date == 20230117:\n",
    "    last_path = 460\n",
    "    last_sample_num = 9970000\n",
    "\n",
    "\n",
    "print(rf\"date={date}, last_path={last_path}, last_sample_num={last_sample_num}\")"
   ]
  },
  {
   "cell_type": "markdown",
   "metadata": {},
   "source": [
    "### new_non_cutting_avg : 非切削時の電圧平均（直線に補間したやつ）\n",
    "### non_cutting_avg: original 非切削時の電圧平均"
   ]
  },
  {
   "cell_type": "code",
   "execution_count": 6,
   "metadata": {},
   "outputs": [
    {
     "name": "stderr",
     "output_type": "stream",
     "text": [
      "100%|██████████| 340/340 [13:12<00:00,  2.33s/it]\n"
     ]
    }
   ],
   "source": [
    "ncd_avg = np.load(rf\"Z:\\200 Produced_data\\{date}\\CF\\new_non_cutting_avg.npy\")\n",
    "# ncd_avg = np.load(rf\"Z:\\200 Produced_data\\{date}\\CF\\non_cutting_avg.npy\")\n",
    "for num in tqdm(range(121,461)):\n",
    "    path = rf\"Z:\\100 Raw_data\\{date}---切削実験\\Dynamometer\\Cutting\\Dynamo_{num}.tdms\"\n",
    "    cd = load_tdms(path, ch_num=3)\n",
    "    cd = cd[1][:9970000]\n",
    "    cf = ( cd - ncd_avg[num - 121] ) * (-500)\n",
    "    np.save(rf\"Z:\\200 Produced_data\\{date}\\CF\\{num}\",cf)"
   ]
  },
  {
   "cell_type": "code",
   "execution_count": 132,
   "metadata": {
    "scrolled": true
   },
   "outputs": [
    {
     "name": "stderr",
     "output_type": "stream",
     "text": [
      "<ipython-input-132-66f4aa35a373>:6: MatplotlibDeprecationWarning: Adding an axes using the same arguments as a previous axes currently reuses the earlier instance.  In a future version, a new instance will always be created and returned.  Meanwhile, this warning can be suppressed, and the future behavior ensured, by passing a unique label to each axes instance.\n",
      "  ax = fig.add_subplot()\n"
     ]
    },
    {
     "name": "stdout",
     "output_type": "stream",
     "text": [
      "1200\n"
     ]
    }
   ],
   "source": [
    "%matplotlib qt\n",
    "interval = 8308\n",
    "d1 = np.load(rf\"Z:\\200 Produced_data\\20230113\\CF\\2.npy\")\n",
    "fig = plt.figure()\n",
    "plt.plot(d1)\n",
    "ax = fig.add_subplot()\n",
    "print(int(len(d1)/interval))\n",
    "\n",
    "for i in range(int(len(d1)/interval)):\n",
    "    ax.axvline(i*interval, color = \"red\")\n",
    "    i = i+interval"
   ]
  },
  {
   "cell_type": "code",
   "execution_count": 108,
   "metadata": {},
   "outputs": [
    {
     "name": "stdout",
     "output_type": "stream",
     "text": [
      "131072\n",
      "[2.54312897e+00 5.08625793e+00 7.62938690e+00 ... 1.66658871e+05\n",
      " 1.66661414e+05 1.66663957e+05]\n"
     ]
    }
   ],
   "source": [
    "d1 = np.load(rf\"Z:\\200 Produced_data\\20230113\\CF\\2.npy\")\n",
    "N= 2**17\n",
    "print(N)\n",
    "d1 = d1[:N]\n",
    "dt = 1/333333\n",
    "F = np.fft.fft(d1) # 変換結果\n",
    "freq = np.fft.fftfreq(N, d=dt) # 周波数\n",
    "print(freq[1:int(N/2)])\n",
    "\n",
    "Amp = np.abs(F/(N/2)) # 振幅\n",
    "\n",
    "fig, ax = plt.subplots()\n",
    "ax.plot(freq[1:int(N/2)], Amp[1:int(N/2)])\n",
    "ax.set_xlabel(\"Freqency [Hz]\")\n",
    "ax.set_ylabel(\"Amplitude\")\n",
    "ax.grid()\n",
    "plt.show()"
   ]
  },
  {
   "cell_type": "code",
   "execution_count": null,
   "metadata": {},
   "outputs": [],
   "source": [
    "# 配列Fをコピー\n",
    "F2 = F.copy()\n",
    "\n",
    "# ローパスフィル処理（カットオフ周波数を超える帯域の周波数信号を0にする）\n",
    "F2[(freq > fc)] = 0\n",
    "\n",
    "# 高速逆フーリエ変換（時間信号に戻す）\n",
    "f2 = np.fft.ifft(F2)\n",
    "\n",
    "# 振幅を元のスケールに戻す\n",
    "f2 = np.real(f2*N)"
   ]
  },
  {
   "cell_type": "code",
   "execution_count": null,
   "metadata": {},
   "outputs": [],
   "source": []
  },
  {
   "cell_type": "code",
   "execution_count": null,
   "metadata": {},
   "outputs": [],
   "source": []
  },
  {
   "cell_type": "code",
   "execution_count": null,
   "metadata": {},
   "outputs": [],
   "source": []
  },
  {
   "cell_type": "code",
   "execution_count": null,
   "metadata": {},
   "outputs": [],
   "source": []
  },
  {
   "cell_type": "markdown",
   "metadata": {},
   "source": [
    "## 切削抵抗ノイズ除去"
   ]
  },
  {
   "cell_type": "code",
   "execution_count": 110,
   "metadata": {},
   "outputs": [
    {
     "name": "stderr",
     "output_type": "stream",
     "text": [
      "C:\\Users\\pmg07\\anaconda3\\lib\\site-packages\\matplotlib\\cbook\\__init__.py:1317: ComplexWarning: Casting complex values to real discards the imaginary part\n",
      "  return np.asarray(x, float)\n"
     ]
    }
   ],
   "source": [
    "# データのパラメータ\n",
    "N = 2**17            # サンプル数\n",
    "dt = 1/333333          # サンプリング間隔\n",
    "fc = 500           # カットオフ周波数\n",
    "t = np.arange(0, N*dt, dt)  # 時間軸\n",
    "freq = np.linspace(0, 1.0/dt, N)  # 周波数軸\n",
    "f = d1[:N]\n",
    "\n",
    "# 高速フーリエ変換（周波数信号に変換）\n",
    "F = np.fft.fft(f)\n",
    "\n",
    "# # 正規化 + 交流成分2倍\n",
    "# F = F/(N/2)\n",
    "# F[0] = F[0]/2\n",
    "\n",
    "# 配列Fをコピー\n",
    "F2 = F.copy()\n",
    "\n",
    "# ローパスフィル処理（カットオフ周波数を超える帯域の周波数信号を0にする）\n",
    "F2[(freq > fc)] = 0\n",
    "\n",
    "# 高速逆フーリエ変換（時間信号に戻す）\n",
    "f2 = np.fft.ifft(F2)\n",
    "\n",
    "# 振幅を元のスケールに戻す\n",
    "# f2 = np.real(f2*N)\n",
    "\n",
    "# グラフ表示\n",
    "\n",
    "fig = plt.figure(figsize=(10.0, 8.0))\n",
    "plt.rcParams['font.family'] = 'Times New Roman'\n",
    "plt.rcParams['font.size'] = 12\n",
    "\n",
    "# 時間信号（元）\n",
    "plt.subplot(221)\n",
    "plt.plot(t, f, label='RAW')\n",
    "plt.xlabel(\"Time\", fontsize=12)\n",
    "plt.ylabel(\"Signal\", fontsize=12)\n",
    "plt.grid()\n",
    "leg = plt.legend(loc=1, fontsize=15)\n",
    "leg.get_frame().set_alpha(1)\n",
    "\n",
    "# 周波数信号(元)\n",
    "plt.subplot(222)\n",
    "plt.plot(freq, np.abs(F), label='RAW_FFT')\n",
    "plt.xlabel('Frequency', fontsize=12)\n",
    "plt.ylabel('Amplitude', fontsize=12)\n",
    "plt.grid()\n",
    "leg = plt.legend(loc=1, fontsize=15)\n",
    "leg.get_frame().set_alpha(1)\n",
    "\n",
    "# 時間信号(処理後)\n",
    "plt.subplot(223)\n",
    "plt.plot(t, f2, label='LPF500Hz')\n",
    "plt.xlabel(\"Time\", fontsize=12)\n",
    "plt.ylabel(\"Signal\", fontsize=12)\n",
    "plt.grid()\n",
    "leg = plt.legend(loc=1, fontsize=15)\n",
    "leg.get_frame().set_alpha(1)\n",
    "\n",
    "# 周波数信号(処理後)\n",
    "plt.subplot(224)\n",
    "plt.plot(freq, np.abs(F2), label='LPF500Hz_FFT')\n",
    "plt.xlabel('Frequency', fontsize=12)\n",
    "plt.ylabel('Amplitude', fontsize=12)\n",
    "plt.grid()\n",
    "leg = plt.legend(loc=1, fontsize=15)\n",
    "leg.get_frame().set_alpha(1)\n",
    "plt.savefig('切削抵抗500Hz_lowpass_filter.png')"
   ]
  },
  {
   "cell_type": "code",
   "execution_count": null,
   "metadata": {},
   "outputs": [],
   "source": []
  },
  {
   "cell_type": "code",
   "execution_count": null,
   "metadata": {},
   "outputs": [],
   "source": []
  },
  {
   "cell_type": "code",
   "execution_count": null,
   "metadata": {},
   "outputs": [],
   "source": []
  },
  {
   "cell_type": "code",
   "execution_count": null,
   "metadata": {},
   "outputs": [],
   "source": []
  },
  {
   "cell_type": "code",
   "execution_count": null,
   "metadata": {},
   "outputs": [],
   "source": []
  }
 ],
 "metadata": {
  "kernelspec": {
   "display_name": "Python 3",
   "language": "python",
   "name": "python3"
  },
  "language_info": {
   "codemirror_mode": {
    "name": "ipython",
    "version": 3
   },
   "file_extension": ".py",
   "mimetype": "text/x-python",
   "name": "python",
   "nbconvert_exporter": "python",
   "pygments_lexer": "ipython3",
   "version": "3.8.3"
  }
 },
 "nbformat": 4,
 "nbformat_minor": 4
}
