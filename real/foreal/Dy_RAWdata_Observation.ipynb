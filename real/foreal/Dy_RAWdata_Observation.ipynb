{
 "cells": [
  {
   "cell_type": "code",
   "execution_count": 10,
   "metadata": {},
   "outputs": [],
   "source": [
    "from loadTDMS import *\n",
    "from fft_test import *\n",
    "import numpy as np\n",
    "# import pandas as pd\n",
    "import matplotlib.pyplot as plt\n",
    "from tqdm import tqdm\n",
    "# import seaborn as sns"
   ]
  },
  {
   "cell_type": "markdown",
   "metadata": {},
   "source": [
    "# 実験日選択"
   ]
  },
  {
   "cell_type": "code",
   "execution_count": 9,
   "metadata": {},
   "outputs": [],
   "source": [
    "# date = 20211025\n",
    "# date = 20211115\n",
    "# date = 20220630\n",
    "# date = 20221027\n",
    "# date = 20230113\n",
    "# date = 20230117\n",
    "# date = 20230120\n",
    "date = 20230123"
   ]
  },
  {
   "cell_type": "markdown",
   "metadata": {},
   "source": [
    "# # cuttingﾌｫﾙﾀﾞの中の実切削中のサンプリング数特定"
   ]
  },
  {
   "cell_type": "code",
   "execution_count": 5,
   "metadata": {},
   "outputs": [
    {
     "name": "stdout",
     "output_type": "stream",
     "text": [
      "10460356\n",
      "652682\n"
     ]
    }
   ],
   "source": [
    "num = 3\n",
    "path = rf\"Z:\\100 Raw_data\\{date}---切削実験\\Dynamometer\\Cutting\\Dynamo_{num}.tdms\"\n",
    "npath = rf\"Z:\\100 Raw_data\\{date}---切削実験\\Dynamometer\\Non-Cutting\\Dynamo_{num}.tdms\"\n",
    "\n",
    "cd = load_tdms(path, ch_num=3)\n",
    "ncd = load_tdms(npath, ch_num=3)\n",
    "\n",
    "print(len(cd[1]))\n",
    "print(len(ncd[1]))"
   ]
  },
  {
   "cell_type": "code",
   "execution_count": 6,
   "metadata": {},
   "outputs": [
    {
     "data": {
      "text/plain": [
       "[<matplotlib.lines.Line2D at 0x19a21180490>]"
      ]
     },
     "execution_count": 6,
     "metadata": {},
     "output_type": "execute_result"
    }
   ],
   "source": [
    "%matplotlib qt\n",
    "plt.figure()\n",
    "plt.plot(cd[1])"
   ]
  },
  {
   "cell_type": "markdown",
   "metadata": {},
   "source": [
    "## 日付 : 切削中のサンプル数 / last path \n",
    "- 20211025 : 5060000 / 24path\n",
    "- 20211115 : 5010000 / 238path\n",
    "- 20220630 : 4670000 / 735path\n",
    "- 20221027 : 4930000 / 168path\n",
    "- 20230113 : 9970000 / 120path\n",
    "- 20230117 : 9970000 / 340path\n",
    "- 20230120 : 9970000 / 460path\n",
    "- 20230123 : [100000:9600000] / 460path"
   ]
  },
  {
   "cell_type": "code",
   "execution_count": 12,
   "metadata": {},
   "outputs": [
    {
     "name": "stdout",
     "output_type": "stream",
     "text": [
      "date=20230123, last_path=460, last_sample_num=9960000\n"
     ]
    }
   ],
   "source": [
    "if date == 20211025:\n",
    "    last_path = 24\n",
    "    last_sample_num = 5060000\n",
    "if date == 20211115:\n",
    "    last_path = 238\n",
    "    last_sample_num = 5010000\n",
    "if date == 20220630:\n",
    "    last_path = 735\n",
    "    last_sample_num = 4670000 \n",
    "if date == 20221027:\n",
    "    last_path = 168\n",
    "    last_sample_num = 4930000\n",
    "    \n",
    "if date == 20230113:\n",
    "    last_path = 120\n",
    "    last_sample_num = 9970000\n",
    "\n",
    "if date == 20230117:\n",
    "    last_path = 460\n",
    "    last_sample_num = 9970000\n",
    "    \n",
    "if date == 20230120:\n",
    "    last_path = 460\n",
    "    last_sample_num = 9970000\n",
    "\n",
    "if date == 20230123:\n",
    "    last_path = 460\n",
    "    last_sample_num = 9960000    \n",
    "    \n",
    "    print(rf\"date={date}, last_path={last_path}, last_sample_num={last_sample_num}\")"
   ]
  },
  {
   "cell_type": "markdown",
   "metadata": {},
   "source": [
    "## get cutting voltage avg\n",
    "cuttingの平均電圧値の推移調べ"
   ]
  },
  {
   "cell_type": "code",
   "execution_count": 13,
   "metadata": {},
   "outputs": [
    {
     "name": "stderr",
     "output_type": "stream",
     "text": [
      "100%|██████████| 460/460 [12:44<00:00,  1.66s/it]\n"
     ]
    }
   ],
   "source": [
    "cutting_avg = np.array([])\n",
    "for num in tqdm(range(1,last_path+1)):\n",
    "    path = rf\"Z:\\100 Raw_data\\{date}---切削実験\\Dynamometer\\Cutting\\Dynamo_{num}.tdms\"\n",
    "    cd = load_tdms(path, ch_num=3)\n",
    "    a = np.array(cd[1][100000:last_sample_num])\n",
    "    cutting_avg = np.append(cutting_avg, np.average(a))\n",
    "    \n",
    "np.save(rf\"Z:\\200 Produced_data\\{date}\\CF\\cutting_avg\",cutting_avg)\n",
    "cutting_avg = np.load(rf\"Z:\\200 Produced_data\\{date}\\CF\\cutting_avg.npy\")"
   ]
  },
  {
   "cell_type": "code",
   "execution_count": 14,
   "metadata": {},
   "outputs": [],
   "source": [
    "%matplotlib qt\n",
    "cutting_avg = np.load(rf\"Z:\\200 Produced_data\\{date}\\CF\\cutting_avg.npy\")\n",
    "plt.plot(cutting_avg)\n",
    "plt.savefig(rf\"Z:\\200 Produced_data\\{date}\\CF\\cutting_avg.png\")"
   ]
  },
  {
   "cell_type": "markdown",
   "metadata": {},
   "source": [
    "## get non cutting voltage avg\n",
    "non-cuttingの平均電圧値の推移調べ"
   ]
  },
  {
   "cell_type": "code",
   "execution_count": 15,
   "metadata": {},
   "outputs": [
    {
     "name": "stderr",
     "output_type": "stream",
     "text": [
      "100%|██████████| 460/460 [01:09<00:00,  6.63it/s]\n"
     ]
    }
   ],
   "source": [
    "non_cutting_avg = np.array([])\n",
    "for num in tqdm(range(1,last_path+1)):\n",
    "    path = rf\"Z:\\100 Raw_data\\{date}---切削実験\\Dynamometer\\Non-Cutting\\Dynamo_{num}.tdms\"\n",
    "    ncd = load_tdms(path, ch_num=3)\n",
    "    a = np.array(ncd[1])\n",
    "    non_cutting_avg = np.append(non_cutting_avg, np.average(a))\n",
    "\n",
    "np.save(rf\"Z:\\200 Produced_data\\{date}\\CF\\non_cutting_avg\",non_cutting_avg)"
   ]
  },
  {
   "cell_type": "code",
   "execution_count": 16,
   "metadata": {},
   "outputs": [],
   "source": [
    "%matplotlib qt\n",
    "non_cutting_avg = np.load(rf\"Z:\\200 Produced_data\\{date}\\CF\\non_cutting_avg.npy\")\n",
    "plt.plot(non_cutting_avg)\n",
    "plt.savefig(rf\"Z:\\200 Produced_data\\{date}\\CF\\non_cutting_avg.png\")"
   ]
  },
  {
   "cell_type": "markdown",
   "metadata": {},
   "source": [
    "## 発散除去工程"
   ]
  },
  {
   "cell_type": "markdown",
   "metadata": {},
   "source": [
    "### 2023 0113\n",
    "non-cuttingの平均電圧は、発散しているpathを除けば、おおよそ右肩下がりだったので  \n",
    "1path目(最初)と120path目(最後)を結ぶ1次関数に置き換えて、new_non_cutting_avgを算出した。"
   ]
  },
  {
   "cell_type": "code",
   "execution_count": 32,
   "metadata": {},
   "outputs": [
    {
     "name": "stdout",
     "output_type": "stream",
     "text": [
      "-0.0005201947914126019\n",
      "-0.00602323142811656\n"
     ]
    },
    {
     "data": {
      "text/plain": [
       "[<matplotlib.lines.Line2D at 0x1c6095e13d0>]"
      ]
     },
     "execution_count": 32,
     "metadata": {},
     "output_type": "execute_result"
    }
   ],
   "source": [
    "%matplotlib qt\n",
    "\n",
    "date = 20230113\n",
    "non_cutting_avg = np.load(rf\"Z:\\200 Produced_data\\{date}\\CF\\non_cutting_avg.npy\")\n",
    "\n",
    "katamuki = (non_cutting_avg[-1] - non_cutting_avg[0]) / len(non_cutting_avg)\n",
    "y_seppen = non_cutting_avg[-1] - (katamuki * 120)\n",
    "\n",
    "print(katamuki)\n",
    "print(y_seppen)\n",
    "\n",
    "new_non_cutting_avg = np.array([])\n",
    "for i in range(1,121):\n",
    "    new_non_cutting_avg = np.append(new_non_cutting_avg, katamuki * (i+1) + y_seppen)\n",
    "np.save(rf\"Z:\\200 Produced_data\\{date}\\CF\\new_non_cutting_avg\", new_non_cutting_avg)\n",
    "\n",
    "non_cutting_avg = np.load(rf\"Z:\\200 Produced_data\\{date}\\CF\\non_cutting_avg.npy\")\n",
    "new_non_cutting_avg = np.load(rf\"Z:\\200 Produced_data\\{date}\\CF\\new_non_cutting_avg.npy\")\n",
    "\n",
    "plt.plot(non_cutting_avg)\n",
    "plt.plot(new_non_cutting_avg)"
   ]
  },
  {
   "cell_type": "markdown",
   "metadata": {},
   "source": [
    "### 2023 0117\n",
    "non-cuttingの平均電圧は、発散しているpathを除いても、1次関数の直線には近似できなさそうだったので  \n",
    "発散しているpathの平均電圧に関しては、そのpathを中心として、自分を除く前後それぞれ12pathずつ、  \n",
    "合計24path分の平均値に置き換えて、new_non_cutting_avgを算出した。"
   ]
  },
  {
   "cell_type": "code",
   "execution_count": 43,
   "metadata": {},
   "outputs": [],
   "source": [
    "date = 20230117\n",
    "non_cutting_avg = np.load(rf\"Z:\\200 Produced_data\\{date}\\CF\\non_cutting_avg.npy\")\n",
    "\n",
    "ncd = np.where(non_cutting_avg < -0.8, 0, non_cutting_avg)\n",
    "ncd_origin = non_cutting_avg.copy()\n",
    "\n",
    "index = np.where(ncd == 0)\n",
    "for i in index[0]:\n",
    "    ncd[i] = np.average(ncd[i-12:i+12])\n",
    "# plt.plot(nnd_origin)\n",
    "# plt.plot(nnd)\n",
    "\n",
    "np.save(rf\"Z:\\200 Produced_data\\{date}\\CF\\new_non_cutting_avg\",ncd)\n",
    "\n",
    "non_cutting_avg = np.load(rf\"Z:\\200 Produced_data\\{date}\\CF\\non_cutting_avg.npy\")\n",
    "new_non_cutting_avg = np.load(rf\"Z:\\200 Produced_data\\{date}\\CF\\new_non_cutting_avg.npy\")\n",
    "\n",
    "plt.plot(non_cutting_avg)\n",
    "plt.plot(new_non_cutting_avg)"
   ]
  },
  {
   "cell_type": "markdown",
   "metadata": {},
   "source": [
    "### 2023 0120\n",
    "non-cuttingの平均電圧は、発散しているpathを除けば、おおよそ右肩下がりだったので  \n",
    "1path目(最初)と460path目(最後)を結ぶ1次関数に置き換えて、new_non_cutting_avgを算出した。"
   ]
  },
  {
   "cell_type": "code",
   "execution_count": 38,
   "metadata": {
    "scrolled": true
   },
   "outputs": [
    {
     "name": "stdout",
     "output_type": "stream",
     "text": [
      "-0.00028426609933376314\n",
      "0.03528834879398346\n"
     ]
    },
    {
     "data": {
      "text/plain": [
       "[<matplotlib.lines.Line2D at 0x1c60999b5e0>]"
      ]
     },
     "execution_count": 38,
     "metadata": {},
     "output_type": "execute_result"
    }
   ],
   "source": [
    "date = 20230120\n",
    "non_cutting_avg = np.load(rf\"Z:\\200 Produced_data\\{date}\\CF\\non_cutting_avg.npy\")\n",
    "\n",
    "katamuki = (non_cutting_avg[-1] - non_cutting_avg[0]) / len(non_cutting_avg)\n",
    "y_seppen = non_cutting_avg[-1] - (katamuki * 460)\n",
    "\n",
    "print(katamuki)\n",
    "print(y_seppen)\n",
    "\n",
    "new_non_cutting_avg = np.array([])\n",
    "for i in range(1,460):\n",
    "    new_non_cutting_avg = np.append(new_non_cutting_avg, katamuki * (i+1) + y_seppen)\n",
    "np.save(rf\"Z:\\200 Produced_data\\{date}\\CF\\new_non_cutting_avg\", new_non_cutting_avg)\n",
    "\n",
    "non_cutting_avg = np.load(rf\"Z:\\200 Produced_data\\{date}\\CF\\non_cutting_avg.npy\")\n",
    "new_non_cutting_avg = np.load(rf\"Z:\\200 Produced_data\\{date}\\CF\\new_non_cutting_avg.npy\")\n",
    "\n",
    "plt.plot(non_cutting_avg)\n",
    "plt.plot(new_non_cutting_avg)"
   ]
  },
  {
   "cell_type": "code",
   "execution_count": null,
   "metadata": {},
   "outputs": [],
   "source": []
  },
  {
   "cell_type": "code",
   "execution_count": null,
   "metadata": {},
   "outputs": [],
   "source": []
  }
 ],
 "metadata": {
  "kernelspec": {
   "display_name": "Python 3",
   "language": "python",
   "name": "python3"
  },
  "language_info": {
   "codemirror_mode": {
    "name": "ipython",
    "version": 3
   },
   "file_extension": ".py",
   "mimetype": "text/x-python",
   "name": "python",
   "nbconvert_exporter": "python",
   "pygments_lexer": "ipython3",
   "version": "3.8.3"
  }
 },
 "nbformat": 4,
 "nbformat_minor": 4
}
