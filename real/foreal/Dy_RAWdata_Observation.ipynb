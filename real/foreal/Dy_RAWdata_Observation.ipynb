{
 "cells": [
  {
   "cell_type": "code",
   "execution_count": 3,
   "metadata": {},
   "outputs": [],
   "source": [
    "from loadTDMS import *\n",
    "# from fft_test import *\n",
    "import numpy as np\n",
    "# import pandas as pd\n",
    "import matplotlib.pyplot as plt\n",
    "from tqdm import tqdm\n",
    "# import seaborn as sns"
   ]
  },
  {
   "cell_type": "markdown",
   "metadata": {},
   "source": [
    "# 実験日選択"
   ]
  },
  {
   "cell_type": "code",
   "execution_count": 4,
   "metadata": {},
   "outputs": [],
   "source": [
    "# date = 20211025\n",
    "# date = 20211115\n",
    "# date = 20220630\n",
    "# date = 20221027\n",
    "# date = 20230113\n",
    "# date = 20230117\n",
    "# date = 20230120\n",
    "date = 20230123"
   ]
  },
  {
   "cell_type": "markdown",
   "metadata": {},
   "source": [
    "# # cuttingﾌｫﾙﾀﾞの中の実切削中のサンプリング数特定"
   ]
  },
  {
   "cell_type": "code",
   "execution_count": 13,
   "metadata": {},
   "outputs": [
    {
     "name": "stdout",
     "output_type": "stream",
     "text": [
      "10422567\n"
     ]
    }
   ],
   "source": [
    "num = 300\n",
    "path = rf\"Z:\\100 Raw_data\\{date}---切削実験\\Dynamometer\\Cutting\\Dynamo_{num}.tdms\"\n",
    "# npath = rf\"Z:\\100 Raw_data\\{date}---切削実験\\Dynamometer\\Non-Cutting\\Dynamo_{num}.tdms\"\n",
    "\n",
    "cd = load_tdms(path, ch_num=3)\n",
    "# ncd = load_tdms(npath, ch_num=3)\n",
    "\n",
    "print(len(cd[1]))\n",
    "# print(len(ncd[1]))"
   ]
  },
  {
   "cell_type": "code",
   "execution_count": 14,
   "metadata": {},
   "outputs": [
    {
     "data": {
      "text/plain": [
       "[<matplotlib.lines.Line2D at 0x1df93d5b790>]"
      ]
     },
     "execution_count": 14,
     "metadata": {},
     "output_type": "execute_result"
    }
   ],
   "source": [
    "%matplotlib qt\n",
    "plt.figure()\n",
    "plt.plot(cd[1])"
   ]
  },
  {
   "cell_type": "markdown",
   "metadata": {},
   "source": [
    "## 日付 : 切削中のサンプル数 / last path \n",
    "- 20211025 : 5060000 / 24path\n",
    "- 20211115 : 5010000 / 238path\n",
    "- 20220630 : 4670000 / 735path\n",
    "- 20221027 : 4930000 / 168path\n",
    "- 20230113 : 9970000 / 120path\n",
    "- 20230117 : 9970000 / 340path\n",
    "- 20230120 : 9970000 / 460path\n",
    "- 20230123 : [100000:9600000] / 460path"
   ]
  },
  {
   "cell_type": "code",
   "execution_count": 12,
   "metadata": {},
   "outputs": [
    {
     "name": "stdout",
     "output_type": "stream",
     "text": [
      "date=20230123, last_path=460, last_sample_num=9960000\n"
     ]
    }
   ],
   "source": [
    "if date == 20211025:\n",
    "    last_path = 24\n",
    "    last_sample_num = 5060000\n",
    "if date == 20211115:\n",
    "    last_path = 238\n",
    "    last_sample_num = 5010000\n",
    "if date == 20220630:\n",
    "    last_path = 735\n",
    "    last_sample_num = 4670000 \n",
    "if date == 20221027:\n",
    "    last_path = 168\n",
    "    last_sample_num = 4930000\n",
    "    \n",
    "if date == 20230113:\n",
    "    last_path = 120\n",
    "    last_sample_num = 9970000\n",
    "\n",
    "if date == 20230117:\n",
    "    last_path = 460\n",
    "    last_sample_num = 9970000\n",
    "    \n",
    "if date == 20230120:\n",
    "    last_path = 460\n",
    "    last_sample_num = 9970000\n",
    "\n",
    "if date == 20230123:\n",
    "    last_path = 460\n",
    "    last_sample_num = 9960000    \n",
    "    \n",
    "print(rf\"date={date}, last_path={last_path}, last_sample_num={last_sample_num}\")"
   ]
  },
  {
   "cell_type": "markdown",
   "metadata": {},
   "source": [
    "## get cutting voltage avg\n",
    "cuttingの平均電圧値の推移調べ"
   ]
  },
  {
   "cell_type": "code",
   "execution_count": 13,
   "metadata": {},
   "outputs": [
    {
     "name": "stderr",
     "output_type": "stream",
     "text": [
      "100%|██████████| 460/460 [12:44<00:00,  1.66s/it]\n"
     ]
    }
   ],
   "source": [
    "cutting_avg = np.array([])\n",
    "for num in tqdm(range(1,last_path+1)):\n",
    "    path = rf\"Z:\\100 Raw_data\\{date}---切削実験\\Dynamometer\\Cutting\\Dynamo_{num}.tdms\"\n",
    "    cd = load_tdms(path, ch_num=3)\n",
    "    a = np.array(cd[1][100000:last_sample_num])\n",
    "    cutting_avg = np.append(cutting_avg, np.average(a))\n",
    "    \n",
    "np.save(rf\"Z:\\200 Produced_data\\{date}\\CF\\cutting_avg\",cutting_avg)\n",
    "cutting_avg = np.load(rf\"Z:\\200 Produced_data\\{date}\\CF\\cutting_avg.npy\")"
   ]
  },
  {
   "cell_type": "code",
   "execution_count": 9,
   "metadata": {},
   "outputs": [
    {
     "data": {
      "text/plain": [
       "[<matplotlib.lines.Line2D at 0x14ba80c7130>]"
      ]
     },
     "execution_count": 9,
     "metadata": {},
     "output_type": "execute_result"
    }
   ],
   "source": [
    "%matplotlib qt\n",
    "cutting_avg = np.load(rf\"Z:\\200 Produced_data\\{date}\\CF\\cutting_avg.npy\")\n",
    "plt.plot(cutting_avg)\n",
    "# plt.savefig(rf\"Z:\\200 Produced_data\\{date}\\CF\\cutting_avg.png\")"
   ]
  },
  {
   "cell_type": "markdown",
   "metadata": {},
   "source": [
    "## get non cutting voltage avg\n",
    "non-cuttingの平均電圧値の推移調べ"
   ]
  },
  {
   "cell_type": "code",
   "execution_count": 15,
   "metadata": {},
   "outputs": [
    {
     "name": "stderr",
     "output_type": "stream",
     "text": [
      "100%|██████████| 460/460 [01:09<00:00,  6.63it/s]\n"
     ]
    }
   ],
   "source": [
    "non_cutting_avg = np.array([])\n",
    "for num in tqdm(range(1,last_path+1)):\n",
    "    path = rf\"Z:\\100 Raw_data\\{date}---切削実験\\Dynamometer\\Non-Cutting\\Dynamo_{num}.tdms\"\n",
    "    ncd = load_tdms(path, ch_num=3)\n",
    "    a = np.array(ncd[1])\n",
    "    non_cutting_avg = np.append(non_cutting_avg, np.average(a))\n",
    "\n",
    "np.save(rf\"Z:\\200 Produced_data\\{date}\\CF\\non_cutting_avg\",non_cutting_avg)"
   ]
  },
  {
   "cell_type": "code",
   "execution_count": 16,
   "metadata": {},
   "outputs": [],
   "source": [
    "%matplotlib qt\n",
    "non_cutting_avg = np.load(rf\"Z:\\200 Produced_data\\{date}\\CF\\non_cutting_avg.npy\")\n",
    "plt.plot(non_cutting_avg)\n",
    "plt.savefig(rf\"Z:\\200 Produced_data\\{date}\\CF\\non_cutting_avg.png\")"
   ]
  },
  {
   "cell_type": "markdown",
   "metadata": {},
   "source": [
    "## 発散除去工程"
   ]
  },
  {
   "cell_type": "markdown",
   "metadata": {},
   "source": [
    "### 2023 0113\n",
    "non-cuttingの平均電圧は、発散しているpathを除けば、おおよそ右肩下がりだったので  \n",
    "1path目(最初)と120path目(最後)を結ぶ1次関数に置き換えて、new_non_cutting_avgを算出した。"
   ]
  },
  {
   "cell_type": "code",
   "execution_count": 32,
   "metadata": {},
   "outputs": [
    {
     "name": "stdout",
     "output_type": "stream",
     "text": [
      "-0.0005201947914126019\n",
      "-0.00602323142811656\n"
     ]
    },
    {
     "data": {
      "text/plain": [
       "[<matplotlib.lines.Line2D at 0x1c6095e13d0>]"
      ]
     },
     "execution_count": 32,
     "metadata": {},
     "output_type": "execute_result"
    }
   ],
   "source": [
    "%matplotlib qt\n",
    "\n",
    "date = 20230113\n",
    "non_cutting_avg = np.load(rf\"Z:\\200 Produced_data\\{date}\\CF\\non_cutting_avg.npy\")\n",
    "\n",
    "katamuki = (non_cutting_avg[-1] - non_cutting_avg[0]) / len(non_cutting_avg)\n",
    "y_seppen = non_cutting_avg[-1] - (katamuki * 120)\n",
    "\n",
    "print(katamuki)\n",
    "print(y_seppen)\n",
    "\n",
    "new_non_cutting_avg = np.array([])\n",
    "for i in range(1,121):\n",
    "    new_non_cutting_avg = np.append(new_non_cutting_avg, katamuki * (i+1) + y_seppen)\n",
    "np.save(rf\"Z:\\200 Produced_data\\{date}\\CF\\new_non_cutting_avg\", new_non_cutting_avg)\n",
    "\n",
    "non_cutting_avg = np.load(rf\"Z:\\200 Produced_data\\{date}\\CF\\non_cutting_avg.npy\")\n",
    "new_non_cutting_avg = np.load(rf\"Z:\\200 Produced_data\\{date}\\CF\\new_non_cutting_avg.npy\")\n",
    "\n",
    "plt.plot(non_cutting_avg)\n",
    "plt.plot(new_non_cutting_avg)"
   ]
  },
  {
   "cell_type": "markdown",
   "metadata": {},
   "source": [
    "### 2023 0117\n",
    "non-cuttingの平均電圧は、発散しているpathを除いても、1次関数の直線には近似できなさそうだったので  \n",
    "発散しているpathの平均電圧に関しては、そのpathを中心として、自分を除く前後それぞれ12pathずつ、  \n",
    "合計24path分の平均値に置き換えて、new_non_cutting_avgを算出した。"
   ]
  },
  {
   "cell_type": "code",
   "execution_count": 43,
   "metadata": {},
   "outputs": [],
   "source": [
    "date = 20230117\n",
    "non_cutting_avg = np.load(rf\"Z:\\200 Produced_data\\{date}\\CF\\non_cutting_avg.npy\")\n",
    "\n",
    "ncd = np.where(non_cutting_avg < -0.8, 0, non_cutting_avg)\n",
    "ncd_origin = non_cutting_avg.copy()\n",
    "\n",
    "index = np.where(ncd == 0)\n",
    "for i in index[0]:\n",
    "    ncd[i] = np.average(ncd[i-12:i+12])\n",
    "# plt.plot(nnd_origin)\n",
    "# plt.plot(nnd)\n",
    "\n",
    "np.save(rf\"Z:\\200 Produced_data\\{date}\\CF\\new_non_cutting_avg\",ncd)\n",
    "\n",
    "non_cutting_avg = np.load(rf\"Z:\\200 Produced_data\\{date}\\CF\\non_cutting_avg.npy\")\n",
    "new_non_cutting_avg = np.load(rf\"Z:\\200 Produced_data\\{date}\\CF\\new_non_cutting_avg.npy\")\n",
    "\n",
    "plt.plot(non_cutting_avg)\n",
    "plt.plot(new_non_cutting_avg)"
   ]
  },
  {
   "cell_type": "markdown",
   "metadata": {},
   "source": [
    "### 2023 0120\n",
    "non-cuttingの平均電圧は、発散しているpathを除けば、おおよそ右肩下がりだったので  \n",
    "1path目(最初)と460path目(最後)を結ぶ1次関数に置き換えて、new_non_cutting_avgを算出した。"
   ]
  },
  {
   "cell_type": "code",
   "execution_count": 23,
   "metadata": {
    "scrolled": true
   },
   "outputs": [
    {
     "name": "stdout",
     "output_type": "stream",
     "text": [
      "-0.00028426609933376314\n",
      "0.03528834879398346\n"
     ]
    },
    {
     "data": {
      "text/plain": [
       "[<matplotlib.lines.Line2D at 0x14ba94f13d0>]"
      ]
     },
     "execution_count": 23,
     "metadata": {},
     "output_type": "execute_result"
    }
   ],
   "source": [
    "date = 20230120\n",
    "non_cutting_avg = np.load(rf\"Z:\\200 Produced_data\\{date}\\CF\\non_cutting_avg.npy\")\n",
    "\n",
    "katamuki = (non_cutting_avg[-1] - non_cutting_avg[0]) / len(non_cutting_avg)\n",
    "y_seppen = non_cutting_avg[-1] - (katamuki * 460)\n",
    "\n",
    "print(katamuki)\n",
    "print(y_seppen)\n",
    "\n",
    "new_non_cutting_avg = np.array([])\n",
    "for i in range(1,461):\n",
    "    new_non_cutting_avg = np.append(new_non_cutting_avg, katamuki * (i+1) + y_seppen)\n",
    "np.save(rf\"Z:\\200 Produced_data\\{date}\\CF\\new_non_cutting_avg\", new_non_cutting_avg)\n",
    "\n",
    "non_cutting_avg = np.load(rf\"Z:\\200 Produced_data\\{date}\\CF\\non_cutting_avg.npy\")\n",
    "new_non_cutting_avg = np.load(rf\"Z:\\200 Produced_data\\{date}\\CF\\new_non_cutting_avg.npy\")\n",
    "\n",
    "plt.plot(non_cutting_avg)\n",
    "plt.plot(new_non_cutting_avg)"
   ]
  },
  {
   "cell_type": "markdown",
   "metadata": {},
   "source": [
    "## 2023 0123"
   ]
  },
  {
   "cell_type": "code",
   "execution_count": 15,
   "metadata": {},
   "outputs": [],
   "source": [
    "# date = 20230113\n",
    "# date = 20230117\n",
    "# date = 20230120\n",
    "date = 20230123"
   ]
  },
  {
   "cell_type": "code",
   "execution_count": 16,
   "metadata": {},
   "outputs": [],
   "source": [
    "ca = np.load(rf\"Z:\\200 Produced_data\\{date}\\CF\\cutting_avg.npy\")\n",
    "nca = np.load(rf\"Z:\\200 Produced_data\\{date}\\CF\\non_cutting_avg.npy\")\n",
    "# nnca = np.load(rf\"Z:\\200 Produced_data\\{date}\\CF\\new_non_cutting_avg.npy\")"
   ]
  },
  {
   "cell_type": "code",
   "execution_count": 22,
   "metadata": {},
   "outputs": [
    {
     "data": {
      "text/plain": [
       "[<matplotlib.lines.Line2D at 0x1df963f9040>]"
      ]
     },
     "execution_count": 22,
     "metadata": {},
     "output_type": "execute_result"
    }
   ],
   "source": [
    "# plt.plot(ca)\n",
    "plt.plot(nca)"
   ]
  },
  {
   "cell_type": "code",
   "execution_count": 53,
   "metadata": {},
   "outputs": [
    {
     "name": "stdout",
     "output_type": "stream",
     "text": [
      "0.14459306886419654\n",
      "0.27179546654224396\n"
     ]
    }
   ],
   "source": [
    "date = 20230123\n",
    "non_cutting_avg = np.load(rf\"Z:\\200 Produced_data\\{date}\\CF\\non_cutting_avg.npy\")\n",
    "\n",
    "ncd = np.where(non_cutting_avg < -0.6, 0, non_cutting_avg)\n",
    "ncd_origin = non_cutting_avg.copy()\n",
    "\n",
    "index = np.where(ncd == 0)\n",
    "for i in index[0]:\n",
    "    ncd[i] = (np.average(ncd[i-2:i]) + np.average(ncd[i+1:i+2]))/2\n",
    "\n",
    "\n",
    "ncd[42] = (ncd[41] + ncd[43])/2\n",
    "ncd[282] =  (ncd[281] + ncd[284])/2\n",
    "ncd[283] = (ncd[282] + ncd[284])/2\n",
    "ncd[60] = (ncd[59] + ncd[61] )/2\n",
    "ncd[61] = (ncd[62] + ncd[59]) /2\n",
    "ncd[43] = (ncd[42] + ncd[44])/2\n",
    "# print(ncd[42])\n",
    "# print(ncd[282])\n",
    "    \n",
    "# plt.plot(ncd)\n",
    "# plt.plot(nnd_origin)\n",
    "\n",
    "np.save(rf\"Z:\\200 Produced_data\\{date}\\CF\\new_non_cutting_avg\",ncd)\n",
    "\n"
   ]
  },
  {
   "cell_type": "code",
   "execution_count": 56,
   "metadata": {},
   "outputs": [
    {
     "data": {
      "text/plain": [
       "[<matplotlib.lines.Line2D at 0x1dfa37f1640>]"
      ]
     },
     "execution_count": 56,
     "metadata": {},
     "output_type": "execute_result"
    }
   ],
   "source": [
    "ca = np.load(rf\"Z:\\200 Produced_data\\{date}\\CF\\cutting_avg.npy\")\n",
    "new_non_cutting_avg = np.load(rf\"Z:\\200 Produced_data\\{date}\\CF\\new_non_cutting_avg.npy\")\n",
    "\n",
    "plt.plot(ca)\n",
    "plt.plot(new_non_cutting_avg)"
   ]
  },
  {
   "cell_type": "code",
   "execution_count": 57,
   "metadata": {},
   "outputs": [
    {
     "data": {
      "text/plain": [
       "array([ 19,  60,  63,  65,  66,  72,  73,  74,  75,  81,  84,  85,  90,\n",
       "        91,  92,  95,  97, 100, 102, 103, 104, 105, 106, 117, 118, 119,\n",
       "       120, 123, 124, 125, 126, 127, 128, 129, 130, 131, 132, 133, 134,\n",
       "       135, 137, 138, 139, 141, 142, 143, 144, 145, 146, 147, 150, 154,\n",
       "       155, 158, 161, 164, 168, 169, 170, 173, 174, 176, 179, 180, 181,\n",
       "       182, 183, 184, 185, 186, 188, 190, 191, 192, 193, 194, 195, 198,\n",
       "       201, 211, 217, 218, 220, 221, 234, 237, 238, 239, 241, 242, 245,\n",
       "       246, 248, 251, 252, 255, 258, 260, 261, 263, 264, 265, 266, 268,\n",
       "       270, 275, 277, 278, 279, 280, 281, 282, 283, 286, 287, 288, 289,\n",
       "       290, 291, 293, 294, 295, 296, 299, 300, 302, 303, 304, 305, 306,\n",
       "       307, 308, 309, 311, 314, 315, 318, 320, 321, 322, 323, 324, 325,\n",
       "       328, 329, 331, 332, 333, 335, 336, 338, 343, 344, 345, 346, 347,\n",
       "       350, 351, 352, 354, 355, 357, 358, 359, 360, 362, 363, 364, 365,\n",
       "       367, 368, 369, 370, 371, 372, 373, 374, 377, 378, 380, 381, 382,\n",
       "       384, 385, 387, 388, 389, 390, 398, 399, 401, 402, 403, 404, 405,\n",
       "       407, 408, 409, 411, 412, 414, 416, 425, 429, 433, 435, 442, 443,\n",
       "       445, 448, 449, 451, 452, 454, 457, 458, 459, 460], dtype=int64)"
      ]
     },
     "execution_count": 57,
     "metadata": {},
     "output_type": "execute_result"
    }
   ],
   "source": [
    "ca_p = np.where(ca < -0.24, 0, ca)\n",
    "ca_o = np.copy(ca)\n",
    "index = np.where(ca_p == 0)\n",
    "index = index[0] + 1\n",
    "index"
   ]
  },
  {
   "cell_type": "code",
   "execution_count": null,
   "metadata": {},
   "outputs": [],
   "source": []
  },
  {
   "cell_type": "code",
   "execution_count": null,
   "metadata": {},
   "outputs": [],
   "source": []
  },
  {
   "cell_type": "code",
   "execution_count": 117,
   "metadata": {
    "scrolled": true
   },
   "outputs": [
    {
     "data": {
      "text/plain": [
       "[<matplotlib.lines.Line2D at 0x1d63df874c0>]"
      ]
     },
     "execution_count": 117,
     "metadata": {},
     "output_type": "execute_result"
    }
   ],
   "source": [
    "%matplotlib qt\n",
    "ca_p = np.where(ca < -0.24, 0, ca)\n",
    "ca_o = np.copy(ca)\n",
    "index = np.where(ca_p == 0)\n",
    "index = index[0] + 1\n",
    "# np.save(rf\"Z:\\200 Produced_data\\{date}\\CF\\drift_path\",index)\n",
    "plt.plot(ca_p)\n",
    "# plt.plot(nca)\n",
    "nnnca = nnca+np.random.randint(-6,6,460)*0.001\n",
    "\n",
    "# plt.plot(nnnca)\n",
    "# plt.plot(ca_p + nnnca)\n",
    "# plt.plot(ca_p + nnca)\n",
    "plt.plot(ca_p)\n",
    "# plt.plot((ca_p - nca)*500)"
   ]
  },
  {
   "cell_type": "code",
   "execution_count": 126,
   "metadata": {
    "scrolled": true
   },
   "outputs": [],
   "source": [
    "np.save(rf\"Z:\\200 Produced_data\\{date}\\CF\\new_non_cutting_avg2\", nnnca)"
   ]
  },
  {
   "cell_type": "code",
   "execution_count": 119,
   "metadata": {},
   "outputs": [
    {
     "data": {
      "text/plain": [
       "286"
      ]
     },
     "execution_count": 119,
     "metadata": {},
     "output_type": "execute_result"
    }
   ],
   "source": [
    "len(index)"
   ]
  },
  {
   "cell_type": "code",
   "execution_count": 25,
   "metadata": {},
   "outputs": [
    {
     "data": {
      "text/plain": [
       "[<matplotlib.lines.Line2D at 0x1d6928aa9a0>]"
      ]
     },
     "execution_count": 25,
     "metadata": {},
     "output_type": "execute_result"
    }
   ],
   "source": [
    "# plt.plot((ca - nca)*100)\n",
    "plt.plot(ca)"
   ]
  },
  {
   "cell_type": "code",
   "execution_count": 120,
   "metadata": {
    "scrolled": true
   },
   "outputs": [
    {
     "data": {
      "text/plain": [
       "array([  2,   3,   4,   5,   6,   7,   9,  10,  11,  12,  13,  14,  16,\n",
       "        17,  18,  19,  21,  22,  23,  24,  25,  26,  27,  28,  29,  30,\n",
       "        31,  32,  33,  34,  35,  36,  37,  38,  40,  41,  43,  44,  46,\n",
       "        47,  48,  49,  50,  51,  52,  53,  54,  55,  56,  57,  59,  60,\n",
       "        61,  62,  64,  65,  66,  67,  69,  70,  72,  73,  74,  75,  76,\n",
       "        77,  78,  79,  80,  81,  82,  84,  85,  86,  87,  88,  90,  91,\n",
       "        92,  93,  94,  95,  97,  98,  99, 100, 101, 102, 103, 104, 106,\n",
       "       109, 111, 113, 115, 116, 117, 119, 120, 121, 122, 124, 125, 127,\n",
       "       129, 130, 131, 132, 133, 134, 135, 139, 144, 146, 148, 150, 152,\n",
       "       155, 156, 158, 159, 160, 161, 163, 164, 165, 167, 169, 172, 173,\n",
       "       174, 175, 177, 179, 182, 185, 187, 189, 191, 193, 194, 195, 196,\n",
       "       198, 201, 202, 205, 206, 207, 208, 209, 210, 212, 216, 218, 219,\n",
       "       220, 221, 222, 223, 226, 227, 229, 231, 232, 234, 237, 238, 241,\n",
       "       243, 244, 245, 246, 247, 248, 250, 251, 252, 253, 255, 257, 258,\n",
       "       259, 261, 263, 264, 265, 266, 269, 270, 271, 272, 274, 275, 277,\n",
       "       278, 279, 280, 282, 285, 286, 289, 291, 292, 293, 298, 300, 302,\n",
       "       305, 306, 309, 312, 316, 318, 320, 322, 324, 325, 326, 327, 328,\n",
       "       329, 332, 333, 334, 336, 337, 338, 339, 340, 341, 342, 343, 345,\n",
       "       346, 347, 348, 349, 351, 352, 355, 357, 359, 360, 361, 362, 363,\n",
       "       365, 366, 367, 368, 370, 371, 372, 374, 376, 379, 380, 381, 384,\n",
       "       385, 386, 387, 389, 393, 395, 400, 401, 402, 406, 407, 413, 415,\n",
       "       417, 418, 423, 425, 432, 435, 437, 442, 444, 446, 447, 448, 458],\n",
       "      dtype=int64)"
      ]
     },
     "execution_count": 120,
     "metadata": {},
     "output_type": "execute_result"
    }
   ],
   "source": [
    "drift_path = np.load(rf\"Z:\\200 Produced_data\\{date}\\CF\\drift_path.npy\")\n",
    "drift_path"
   ]
  },
  {
   "cell_type": "code",
   "execution_count": 131,
   "metadata": {
    "scrolled": true
   },
   "outputs": [
    {
     "data": {
      "text/plain": [
       "array([  1,   8,  15,  20,  39,  42,  45,  58,  63,  68,  71,  83,  89,\n",
       "        96, 105, 107, 108, 110, 112, 114, 118, 123, 126, 128, 136, 137,\n",
       "       138, 140, 141, 142, 143, 145, 147, 149, 151, 153, 154, 157, 162,\n",
       "       166, 168, 170, 171, 176, 178, 180, 181, 183, 184, 186, 188, 190,\n",
       "       192, 197, 199, 200, 203, 204, 211, 213, 214, 215, 217, 224, 225,\n",
       "       228, 230, 233, 235, 236, 239, 240, 242, 249, 254, 256, 260, 262,\n",
       "       267, 268, 273, 276, 281, 283, 284, 287, 288, 290, 294, 295, 296,\n",
       "       297, 299, 301, 303, 304, 307, 308, 310, 311, 313, 314, 315, 317,\n",
       "       319, 321, 323, 330, 331, 335, 344, 350, 353, 354, 356, 358, 364,\n",
       "       369, 373, 375, 377, 378, 382, 383, 388, 390, 391, 392, 394, 396,\n",
       "       397, 398, 399, 403, 404, 405, 408, 409, 410, 411, 412, 414, 416,\n",
       "       419, 420, 421, 422, 424, 426, 427, 428, 429, 430, 431, 433, 434,\n",
       "       436, 438, 439, 440, 441, 443, 445, 449, 450, 451, 452, 453, 454,\n",
       "       455, 456, 457, 459, 460])"
      ]
     },
     "execution_count": 131,
     "metadata": {},
     "output_type": "execute_result"
    }
   ],
   "source": [
    "a = np.arange(1,461)\n",
    "normal = np.delete(a, drift_path-1)\n",
    "normal"
   ]
  },
  {
   "cell_type": "code",
   "execution_count": 132,
   "metadata": {},
   "outputs": [
    {
     "data": {
      "text/plain": [
       "[<matplotlib.lines.Line2D at 0x1d607368430>]"
      ]
     },
     "execution_count": 132,
     "metadata": {},
     "output_type": "execute_result"
    }
   ],
   "source": [
    "num = 344\n",
    "path = rf\"Z:\\100 Raw_data\\{date}---切削実験\\Dynamometer\\Cutting\\Dynamo_{num}.tdms\"\n",
    "cd = load_tdms(path, ch_num=3)\n",
    "# cd = cd[1][36000:10006000]\n",
    "cd = cd[1]\n",
    "plt.plot(cd*-500)"
   ]
  },
  {
   "cell_type": "code",
   "execution_count": 130,
   "metadata": {},
   "outputs": [
    {
     "name": "stdout",
     "output_type": "stream",
     "text": [
      "-0.054437585175037384\n"
     ]
    },
    {
     "data": {
      "text/plain": [
       "[<matplotlib.lines.Line2D at 0x1d607705c40>]"
      ]
     },
     "execution_count": 130,
     "metadata": {},
     "output_type": "execute_result"
    }
   ],
   "source": [
    "num = 343\n",
    "path = rf\"Z:\\100 Raw_data\\{date}---切削実験\\Dynamometer\\Cutting\\Dynamo_{num}.tdms\"\n",
    "cd = load_tdms(path, ch_num=3)\n",
    "# cd = cd[1][36000:10006000]\n",
    "cd = cd[1]\n",
    "print(nca[num+1])\n",
    "cd_v = (cd - np.average(cd[-8303*10:-1]))\n",
    "cd_a = (cd - np.average(cd[-8303*10:-1]) - nca[num+1])\n",
    "\n",
    "# plt.plot(cd)\n",
    "# plt.plot(cd_v)\n",
    "plt.plot(cd_a*-500)"
   ]
  },
  {
   "cell_type": "code",
   "execution_count": 30,
   "metadata": {},
   "outputs": [
    {
     "name": "stderr",
     "output_type": "stream",
     "text": [
      "100%|██████████| 251/251 [09:07<00:00,  2.18s/it]\n"
     ]
    }
   ],
   "source": [
    "for num in tqdm(drift_path):\n",
    "    fig = plt.figure()\n",
    "    ax = fig.add_subplot(111)\n",
    "    path = rf\"Z:\\100 Raw_data\\{date}---切削実験\\Dynamometer\\Cutting\\Dynamo_{num}.tdms\"\n",
    "    cd = load_tdms(path, ch_num=3)\n",
    "    cd = cd[1][-8303*10:-1]\n",
    "    plt.plot(cd)\n",
    "    plt.vlines(x = 0, ymin=np.min(cd) , ymax=np.max(cd) , colors=\"red\")\n",
    "    plt.savefig(rf\"0120\\{num}.jpg\")\n",
    "    plt.close()\n",
    "# noise_a = np.average(cd[1][35000:55000])\n",
    "# print(noise_a)\n",
    "# plt.plot(cd[1]- noise_a)\n",
    "# plt.plot(cd[1]- (-3.92))\n",
    "# plt.plot(cd[1][-10000:-1])"
   ]
  },
  {
   "cell_type": "markdown",
   "metadata": {},
   "source": [
    "20230120  \n",
    "cd[1] - np.average(cd[1][-10000:-1])\n",
    "\n",
    "20230123  \n",
    "\n",
    "- cd[1][33000:35000]  \n",
    "[63, 65, 66, 75, 84, 90, 91, 92, 95, 97, 100, 102, 103, 104, 105, 106, 117, 118, 119,120, 124, 125, 126, 127, 128, 129, 130, 131, 132, 133, 134, 137, 138, 139, 141, 142, 143, 144, 145, 146, 147, 150, 154, 155, 158, 161, 164, 168, 169, 170, 173, 176, 179, 180, 181,182, 183, 185, 188, 190, 191, 192, 193, 194, 195, 198, 201, 211, 217, 218, 220, 221, 234, 237, 241, 246, 251, 252, 255, 258, 260, 261, 263, 264, 266, 282, 283, 288, 289,290, 291, 293, 300, 304, 305, 307, 308, 309, 311, 314, 315, 318, 320, 323, 325, 328, 329, 333, 343, 345, 351, 352, 358, 364, 369, 370, 372, 381, 382, 387, 402, 404, 414]\n",
    "\n",
    "- cd[1][-2000:-1]  \n",
    "[19, 336, 360, 374, 389, 398, 399, 409, 416, 425, 429, 433, 443, 448, 449, 454, 457, 60, 72, 73,\n",
    "81, 85, 123, 135, 174, 184, 238, 242, 245, 248, 265,268, 270, 277, 281, 286, 287, 296, 299, 302, 306, 321, 322,324, 331, 332, 335, 338, 346, 347, 350, 355, 359, 363, 365,367, 371, 373, 377, 384, 385, 388, 401, 403, 405, 407, 408, 412, 435, 451, 452, 458, 459, 460]\n",
    "\n",
    "- cd[1][-5000:-3000]  \n",
    "[186, 239, 275, 278, 279, 280, 294, 295, 303, 344, 354, 357, 362, 368, 378, 380, 390, 411, 442, 445]\n",
    "\n",
    "- x、ｙ逆転\n",
    "74, \n",
    "\n"
   ]
  },
  {
   "cell_type": "code",
   "execution_count": 66,
   "metadata": {},
   "outputs": [],
   "source": [
    "b= [19, 60, 72, 73, 74, 81, 85, 123, 135, 174, 184, 186, 238, 239, 242, 245, 248, 265,268, 270, 275, 277, 278, 279, 280, 281, 286, 287, 294, 295, 296, 299, 302, 303, 306, 321, 322,324, 331, 332, 335, 336, 338, 344, 346, 347, 350, 354, 355, 357, 359, 360, 362, 363, 365,367, 368, 371, 373, 374, 377, 378, 380, 384, 385, 388, 389, 390, 398, 399, 401, 403, 405, 407, 408, 409, 411, 412, 416, 425, 429, 433, 435, 442, 443, 445, 448, 449, 451, 452, 454, 457, 458, 459, 460]"
   ]
  },
  {
   "cell_type": "code",
   "execution_count": 70,
   "metadata": {},
   "outputs": [
    {
     "name": "stderr",
     "output_type": "stream",
     "text": [
      "100%|██████████| 95/95 [02:38<00:00,  1.67s/it]\n"
     ]
    }
   ],
   "source": [
    "for i in tqdm(b):\n",
    "    path = rf\"Z:\\100 Raw_data\\{date}---切削実験\\Dynamometer\\Cutting\\Dynamo_{i}.tdms\"\n",
    "    cd = load_tdms(path, ch_num=3)\n",
    "    cd = cd[1][-8303*5 -10000:-1]\n",
    "    plt.vlines(x = 8303*5+8000 , ymin=np.min(cd) , ymax=np.max(cd) , colors=\"red\")\n",
    "    plt.plot(cd)\n",
    "    plt.savefig(rf\"b\\{i}.jpg\")\n",
    "    plt.close()"
   ]
  },
  {
   "cell_type": "code",
   "execution_count": 78,
   "metadata": {},
   "outputs": [
    {
     "data": {
      "text/plain": [
       "[<matplotlib.lines.Line2D at 0x1dfdc67cee0>]"
      ]
     },
     "execution_count": 78,
     "metadata": {},
     "output_type": "execute_result"
    }
   ],
   "source": [
    "path = rf\"Z:\\100 Raw_data\\{date}---切削実験\\Dynamometer\\Cutting\\Dynamo_1.tdms\"\n",
    "cd = load_tdms(path, ch_num=3)\n",
    "plt.plot(cd[0])"
   ]
  },
  {
   "cell_type": "code",
   "execution_count": 73,
   "metadata": {},
   "outputs": [],
   "source": [
    "a = np.array([63, 65, 66, 75, 84, 90, 91, 92, 95, 97, 100, 102, 103, 104, 105, 106, 117, 118, 119,120, 124, 125, 126, 127, 128, 129, 130, 131, 132, 133, 134, 137, 138, 139, 141, 142, 143, 144, 145, 146, 147, 150, 154, 155, 158, 161, 164, 168, 169, 170, 173, 176, 179, 180, 181,182, 183, 185, 188, 190, 191, 192, 193, 194, 195, 198, 201, 211, 217, 218, 220, 221, 234, 237, 241, 246, 251, 252, 255, 258, 260, 261, 263, 264, 266, 282, 283, 288, 289,290, 291, 293, 300, 304, 305, 307, 308, 309, 311, 314, 315, 318, 320, 323, 325, 328, 329, 333, 343, 345, 351, 352, 358, 364, 369, 370, 372, 381, 382, 387, 402, 404, 414])\n",
    "b = np.array([19, 336, 360, 374, 389, 398, 399, 409, 416, 425, 429, 433, 443, 448, 449, 454, 457, 60, 72, 73, 81, 85, 123, 135, 174, 184, 238, 242, 245, 248, 265,268, 270, 277, 281, 286, 287, 296, 299, 302, 306, 321, 322,324, 331, 332, 335, 338, 346, 347, 350, 355, 359, 363, 365,367, 371, 373, 377, 384, 385, 388, 401, 403, 405, 407, 408, 412, 435, 451, 452, 458, 459, 460])\n",
    "c = np.array([186, 239, 275, 278, 279, 280, 294, 295, 303, 344, 354, 357, 362, 368, 378, 380, 390, 411, 442, 445])"
   ]
  },
  {
   "cell_type": "code",
   "execution_count": 75,
   "metadata": {},
   "outputs": [],
   "source": [
    "a = np.sort(a)\n",
    "b = np.sort(b)\n",
    "c = np.sort(c)"
   ]
  },
  {
   "cell_type": "code",
   "execution_count": 76,
   "metadata": {},
   "outputs": [],
   "source": [
    "np.save(rf\"Z:\\200 Produced_data\\20230123\\CF\\drift_path1\",a)\n",
    "np.save(rf\"Z:\\200 Produced_data\\20230123\\CF\\drift_path2\",b)\n",
    "np.save(rf\"Z:\\200 Produced_data\\20230123\\CF\\drift_path3\",c)"
   ]
  },
  {
   "cell_type": "code",
   "execution_count": null,
   "metadata": {},
   "outputs": [],
   "source": []
  }
 ],
 "metadata": {
  "kernelspec": {
   "display_name": "Python 3",
   "language": "python",
   "name": "python3"
  },
  "language_info": {
   "codemirror_mode": {
    "name": "ipython",
    "version": 3
   },
   "file_extension": ".py",
   "mimetype": "text/x-python",
   "name": "python",
   "nbconvert_exporter": "python",
   "pygments_lexer": "ipython3",
   "version": "3.8.3"
  }
 },
 "nbformat": 4,
 "nbformat_minor": 4
}
