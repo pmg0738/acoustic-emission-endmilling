{
 "cells": [
  {
   "cell_type": "code",
   "execution_count": 173,
   "metadata": {},
   "outputs": [],
   "source": [
    "import numpy as np\n",
    "import pandas as pd\n",
    "import matplotlib.pyplot as plt\n",
    "from loadTDMS import *\n",
    "from tqdm import tqdm"
   ]
  },
  {
   "cell_type": "code",
   "execution_count": 3,
   "metadata": {},
   "outputs": [],
   "source": [
    "date = 20230113"
   ]
  },
  {
   "cell_type": "code",
   "execution_count": 4,
   "metadata": {},
   "outputs": [],
   "source": [
    "cd = np.load(rf\"Z:\\200 Produced_data\\{date}\\CF\\cutting_avg.npy\")\n",
    "nd = np.load(rf\"Z:\\200 Produced_data\\{date}\\CF\\non_cutting_avg.npy\")"
   ]
  },
  {
   "cell_type": "code",
   "execution_count": 10,
   "metadata": {},
   "outputs": [
    {
     "data": {
      "text/plain": [
       "[<matplotlib.lines.Line2D at 0x235c319c3d0>]"
      ]
     },
     "execution_count": 10,
     "metadata": {},
     "output_type": "execute_result"
    }
   ],
   "source": [
    "%matplotlib qt\n",
    "plt.plot(cd)"
   ]
  },
  {
   "cell_type": "code",
   "execution_count": 19,
   "metadata": {},
   "outputs": [],
   "source": [
    "index = np.where(cd<-0.25)\n",
    "index = index[0] + 1"
   ]
  },
  {
   "cell_type": "code",
   "execution_count": 22,
   "metadata": {},
   "outputs": [
    {
     "data": {
      "text/plain": [
       "array([  5,   6,   9,  25,  26,  33,  34,  44,  53,  72,  73,  82,  99,\n",
       "       101, 120], dtype=int64)"
      ]
     },
     "execution_count": 22,
     "metadata": {},
     "output_type": "execute_result"
    }
   ],
   "source": [
    "index"
   ]
  },
  {
   "cell_type": "code",
   "execution_count": 30,
   "metadata": {},
   "outputs": [
    {
     "data": {
      "text/plain": [
       "[<matplotlib.lines.Line2D at 0x23580345b50>]"
      ]
     },
     "execution_count": 30,
     "metadata": {},
     "output_type": "execute_result"
    }
   ],
   "source": [
    "path = rf\"Z:\\100 Raw_data\\{date}---切削実験\\Dynamometer\\Cutting\\Dynamo_4.tdms\"\n",
    "cd = load_tdms(path, ch_num = 3)\n",
    "cf = (cd[1][:9970000] - np.average(cd[1][-5000:-1]))*-500\n",
    "plt.plot(cf)\n",
    "# plt.plot(cd[1])"
   ]
  },
  {
   "cell_type": "code",
   "execution_count": 39,
   "metadata": {},
   "outputs": [
    {
     "name": "stderr",
     "output_type": "stream",
     "text": [
      "100%|██████████| 120/120 [04:34<00:00,  2.29s/it]\n"
     ]
    }
   ],
   "source": [
    "ncd_avg = np.load(rf\"Z:\\200 Produced_data\\{date}\\CF\\new_non_cutting_avg.npy\")\n",
    "# ncd_avg = np.load(rf\"Z:\\200 Produced_data\\{date}\\CF\\non_cutting_avg.npy\")\n",
    "for num in tqdm(range(1,121)):\n",
    "    path = rf\"Z:\\100 Raw_data\\{date}---切削実験\\Dynamometer\\Cutting\\Dynamo_{num}.tdms\"\n",
    "    cd = load_tdms(path, ch_num=3)\n",
    "    ncd = np.average(cd[1][-5000:-1])\n",
    "    cd = cd[1][:9970000]\n",
    "    cf = (cd - ncd + ncd_avg[num-1])*-500\n",
    "    np.save(rf\"Z:\\200 Produced_data\\{date}\\CF\\{num}_n2\",cf)"
   ]
  },
  {
   "cell_type": "code",
   "execution_count": 42,
   "metadata": {},
   "outputs": [
    {
     "name": "stderr",
     "output_type": "stream",
     "text": [
      "100%|██████████| 120/120 [00:55<00:00,  2.15it/s]\n"
     ]
    }
   ],
   "source": [
    "interval = 8308\n",
    "for num in tqdm(range(1,121)):\n",
    "    d = np.load(rf\"Z:\\200 Produced_data\\{date}\\CF\\{num}_n2.npy\")\n",
    "    cf_max = np.array([])\n",
    "    for rev in range(int(len(d)/interval)):\n",
    "        start = rev*interval\n",
    "        end = start + interval\n",
    "        cf_max = np.append(cf_max, np.max(d[start:end]))\n",
    "    np.save(rf\"Z:\\200 Produced_data\\{date}\\CF\\max8308\\{num}_n2\", cf_max)"
   ]
  },
  {
   "cell_type": "code",
   "execution_count": 43,
   "metadata": {},
   "outputs": [
    {
     "name": "stderr",
     "output_type": "stream",
     "text": [
      "100%|██████████| 119/119 [00:01<00:00, 62.70it/s]\n"
     ]
    }
   ],
   "source": [
    "d1 = np.load(rf\"Z:\\200 Produced_data\\{date}\\CF\\max8308\\1_n2.npy\")\n",
    "\n",
    "for num in tqdm(range(2,121)):\n",
    "    d2 = np.load(rf\"Z:\\200 Produced_data\\{date}\\CF\\max8308\\{num}_n2.npy\")\n",
    "    d1 = np.concatenate([d1,d2], axis=0)\n",
    "np.save(rf\"Z:\\200 Produced_data\\{date}\\CF\\max8308\\All_n2\",d1)"
   ]
  },
  {
   "cell_type": "code",
   "execution_count": null,
   "metadata": {},
   "outputs": [],
   "source": [
    "all_d = np.load(rf\"Z:\\200 Produced_data\\{date}\\CF\\max8308\\All_n.npy\")\n",
    "all_d_d = np.where(all_d < )"
   ]
  },
  {
   "cell_type": "code",
   "execution_count": 44,
   "metadata": {},
   "outputs": [],
   "source": [
    "all_d = np.load(rf\"Z:\\200 Produced_data\\{date}\\CF\\max8308\\All_n2.npy\")\n",
    "w_size = 1200*10\n",
    "x = np.linspace(-1,1,w_size)\n",
    "v = np.exp(-x**2 / 2) / np.sqrt(2 * np.pi)\n",
    "v = v / np.sum(v)\n",
    "v = np.sort(v)[::-1]\n",
    "all_d_ma = np.convolve(all_d, v, mode='valid')\n",
    "np.save(rf\"Z:\\200 Produced_data\\{date}\\CF\\max8308\\All_n2_MA\",all_d_ma)"
   ]
  },
  {
   "cell_type": "code",
   "execution_count": 45,
   "metadata": {},
   "outputs": [
    {
     "data": {
      "text/plain": [
       "[<matplotlib.lines.Line2D at 0x235c326b7f0>]"
      ]
     },
     "execution_count": 45,
     "metadata": {},
     "output_type": "execute_result"
    }
   ],
   "source": [
    "all_d = np.load(rf\"Z:\\200 Produced_data\\{date}\\CF\\max8308\\All_n2.npy\")\n",
    "all_d_ma = np.load(rf\"Z:\\200 Produced_data\\{date}\\CF\\max8308\\All_n2_MA.npy\")\n",
    "\n",
    "%matplotlib qt\n",
    "fig = plt.figure()\n",
    "ax = fig.add_subplot()\n",
    "ax.set_xticks(np.arange(0, 120*1200+1, 1200*10))\n",
    "ax.set_xticklabels(np.arange(0,121,10))\n",
    "ax.set_xlabel(xlabel='Path Number')\n",
    "ax.set_ylabel(ylabel='Cutting Force[N]')\n",
    "ax.tick_params(axis = 'x')\n",
    "ax.tick_params(axis = 'y')\n",
    "ax.grid()\n",
    "\n",
    "\n",
    "# plt.plot(all_d)\n",
    "plt.plot(all_d_ma)"
   ]
  },
  {
   "cell_type": "code",
   "execution_count": 58,
   "metadata": {},
   "outputs": [
    {
     "name": "stdout",
     "output_type": "stream",
     "text": [
      "144000\n",
      "132000\n"
     ]
    }
   ],
   "source": [
    "print(len(all_d))\n",
    "print(len(all_d_ma)-1)"
   ]
  },
  {
   "cell_type": "code",
   "execution_count": 63,
   "metadata": {},
   "outputs": [],
   "source": [
    "all_d = np.load(rf\"Z:\\200 Produced_data\\20230120\\CF\\max8308\\All_n.npy\")\n",
    "all_d_ma = np.load(rf\"Z:\\200 Produced_data\\20230120\\CF\\max8308\\All_MA_n.npy\")"
   ]
  },
  {
   "cell_type": "code",
   "execution_count": 121,
   "metadata": {
    "scrolled": true
   },
   "outputs": [
    {
     "name": "stdout",
     "output_type": "stream",
     "text": [
      "450.0\n",
      "460.0\n"
     ]
    }
   ],
   "source": [
    "new = all_d_ma[:-1]\n",
    "print(len(new)/1200)\n",
    "new = new.reshape(1200, int(len(new)/1200))\n",
    "# print(new.shape)\n",
    "avg = np.average(new,axis=1)\n",
    "# print(avg.shape)\n",
    "avg = avg.reshape(len(avg),1)\n",
    "avg = np.repeat(avg, 10, axis=1)\n",
    "# print(avg.shape)\n",
    "new_n = np.block([new,avg])\n",
    "# print(new_n.shape)\n",
    "new_n = new_n.ravel()\n",
    "print(len(new_n)/1200)"
   ]
  },
  {
   "cell_type": "code",
   "execution_count": 182,
   "metadata": {
    "scrolled": true
   },
   "outputs": [
    {
     "name": "stdout",
     "output_type": "stream",
     "text": [
      "396001\n",
      "330.0\n",
      "340.0\n",
      "------------------\n",
      "396001\n",
      "330.0\n",
      "340.0\n",
      "------------------\n",
      "396001\n",
      "330.0\n",
      "340.0\n",
      "------------------\n",
      "396001\n",
      "330.0\n",
      "340.0\n",
      "------------------\n",
      "396001\n",
      "330.0\n",
      "340.0\n",
      "------------------\n",
      "396001\n",
      "330.0\n",
      "340.0\n",
      "------------------\n",
      "396001\n",
      "330.0\n",
      "340.0\n",
      "------------------\n",
      "396001\n",
      "330.0\n",
      "340.0\n",
      "------------------\n",
      "396001\n",
      "330.0\n",
      "340.0\n",
      "------------------\n",
      "396001\n",
      "330.0\n",
      "340.0\n",
      "------------------\n"
     ]
    }
   ],
   "source": [
    "for num in range(1,11):\n",
    "    interval = 1200\n",
    "    d = np.load(rf\"Z:\\200 Produced_data\\20230117\\AE\\menseki\\50khz\\work\\All{num}Norm_flatten_MA.npy\")\n",
    "    print(len(d))\n",
    "    new = d[:-1]\n",
    "    print(len(new)/interval)\n",
    "    new = new.reshape(interval, int(len(new)/interval))\n",
    "    avg = np.average(new,axis=1)\n",
    "    avg = avg.reshape(len(avg),1)\n",
    "    avg = np.repeat(avg, 10, axis=1)\n",
    "    new_n = np.block([new,avg])\n",
    "    new_n = new_n.ravel()\n",
    "    print(len(new_n)/interval)\n",
    "    print(\"------------------\")\n",
    "    np.save(rf\"Z:\\200 Produced_data\\20230117\\AE\\menseki\\50khz\\work\\_extend_All{num}Norm_flatten_MA\", new_n)"
   ]
  },
  {
   "cell_type": "code",
   "execution_count": 172,
   "metadata": {},
   "outputs": [
    {
     "name": "stdout",
     "output_type": "stream",
     "text": [
      "330.0\n",
      "340.0\n",
      "------------------\n"
     ]
    }
   ],
   "source": [
    "interval = 1023\n",
    "d = np.load(rf\"Z:\\200 Produced_data\\20230123\\CF\\max8308\\All_121-460_MA.npy\")\n",
    "new = d[:-1]\n",
    "print(len(new)/interval)\n",
    "new = new.reshape(interval, int(len(new)/interval))\n",
    "avg = np.average(new,axis=1)\n",
    "avg = avg.reshape(len(avg),1)\n",
    "avg = np.repeat(avg, 10, axis=1)\n",
    "new_n = np.block([new,avg])\n",
    "new_n = new_n.ravel()\n",
    "print(len(new_n)/interval)\n",
    "print(\"------------------\")\n",
    "np.save(rf\"Z:\\200 Produced_data\\20230123\\CF\\max8308\\_extend_All_121-460_MA\", new_n)"
   ]
  },
  {
   "cell_type": "code",
   "execution_count": 256,
   "metadata": {},
   "outputs": [],
   "source": [
    "a = np.load(rf\"Z:\\200 Produced_data\\20230113+0117\\CF\\_extend_All_n2_MA.npy\")\n",
    "b = np.load(rf\"Z:\\200 Produced_data\\20230113+0117\\CF\\_extend_All_delete_drift_2_MA.npy\")"
   ]
  },
  {
   "cell_type": "code",
   "execution_count": 257,
   "metadata": {},
   "outputs": [],
   "source": [
    "n = np.concatenate([a,b+74])\n",
    "np.save(rf\"Z:\\200 Produced_data\\20230113+0117\\CF\\_extend_All22_MA\",n)"
   ]
  },
  {
   "cell_type": "code",
   "execution_count": 258,
   "metadata": {},
   "outputs": [
    {
     "data": {
      "text/plain": [
       "[<matplotlib.lines.Line2D at 0x236a53b9e80>]"
      ]
     },
     "execution_count": 258,
     "metadata": {},
     "output_type": "execute_result"
    }
   ],
   "source": [
    "s = np.load(rf\"Z:\\200 Produced_data\\20230113+0117\\CF\\_extend_All22_MA.npy\")\n",
    "plt.plot(s)"
   ]
  },
  {
   "cell_type": "code",
   "execution_count": 259,
   "metadata": {},
   "outputs": [
    {
     "data": {
      "text/plain": [
       "460.0"
      ]
     },
     "execution_count": 259,
     "metadata": {},
     "output_type": "execute_result"
    }
   ],
   "source": [
    "len(s)/1200"
   ]
  },
  {
   "cell_type": "code",
   "execution_count": 188,
   "metadata": {},
   "outputs": [],
   "source": [
    "a = np.load(rf\"\\\\DAISY05\\users\\park\\200 Produced_data\\20230113\\CF\\max8308\\All_n2_MA.npy\")"
   ]
  },
  {
   "cell_type": "code",
   "execution_count": 252,
   "metadata": {},
   "outputs": [
    {
     "data": {
      "text/plain": [
       "[<matplotlib.lines.Line2D at 0x236e748ad90>]"
      ]
     },
     "execution_count": 252,
     "metadata": {},
     "output_type": "execute_result"
    }
   ],
   "source": [
    "plt.plot(b)"
   ]
  },
  {
   "cell_type": "code",
   "execution_count": 203,
   "metadata": {
    "scrolled": true
   },
   "outputs": [
    {
     "data": {
      "text/plain": [
       "[<matplotlib.lines.Line2D at 0x236e74a2190>]"
      ]
     },
     "execution_count": 203,
     "metadata": {},
     "output_type": "execute_result"
    }
   ],
   "source": [
    "a = np.load(rf\"Z:\\200 Produced_data\\20230113+0117\\CF\\_extend_All_MA.npy\")\n",
    "plt.plot(b)"
   ]
  },
  {
   "cell_type": "code",
   "execution_count": 200,
   "metadata": {},
   "outputs": [
    {
     "data": {
      "text/plain": [
       "array([1, 2, 3, 4, 5, 6])"
      ]
     },
     "execution_count": 200,
     "metadata": {},
     "output_type": "execute_result"
    }
   ],
   "source": [
    "a = np.array([1,2,3])\n",
    "b = np.array([4,5,6])\n",
    "c = np.concatenate([a,b])\n",
    "c"
   ]
  },
  {
   "cell_type": "code",
   "execution_count": 205,
   "metadata": {},
   "outputs": [],
   "source": [
    "import os"
   ]
  },
  {
   "cell_type": "code",
   "execution_count": 209,
   "metadata": {},
   "outputs": [],
   "source": [
    "for i in range(1,121):\n",
    "    old_name = rf\"\\\\DAISY05\\users\\park\\200 Produced_data\\20230113+0117\\CF\\{i}_n2.npy\"\n",
    "    new_name = rf\"\\\\DAISY05\\users\\park\\200 Produced_data\\20230113+0117\\CF\\{i}.npy\"\n",
    "    os.rename(old_name, new_name)"
   ]
  },
  {
   "cell_type": "code",
   "execution_count": 212,
   "metadata": {},
   "outputs": [
    {
     "name": "stderr",
     "output_type": "stream",
     "text": [
      "100%|██████████| 459/459 [00:06<00:00, 67.57it/s]\n"
     ]
    }
   ],
   "source": [
    "d1 = np.load(rf\"Z:\\200 Produced_data\\20230113+0117\\CF\\1.npy\")\n",
    "for i in tqdm(range(2,461)):\n",
    "    d2 = np.load(rf\"Z:\\200 Produced_data\\20230113+0117\\CF\\{i}.npy\")\n",
    "    d1 = np.concatenate([d1,d2], axis=0)\n",
    "\n",
    "np.save(rf\"Z:\\200 Produced_data\\20230113+0117\\CF\\All\",d1)"
   ]
  },
  {
   "cell_type": "code",
   "execution_count": 245,
   "metadata": {},
   "outputs": [
    {
     "data": {
      "text/plain": [
       "[<matplotlib.lines.Line2D at 0x23729450e50>]"
      ]
     },
     "execution_count": 245,
     "metadata": {},
     "output_type": "execute_result"
    }
   ],
   "source": [
    "a = np.load(rf\"Z:\\200 Produced_data\\20230113+0117\\CF\\All.npy\")\n",
    "plt.plot(a)"
   ]
  },
  {
   "cell_type": "code",
   "execution_count": 246,
   "metadata": {},
   "outputs": [
    {
     "data": {
      "text/plain": [
       "[<matplotlib.lines.Line2D at 0x2372cab8910>]"
      ]
     },
     "execution_count": 246,
     "metadata": {},
     "output_type": "execute_result"
    }
   ],
   "source": [
    "a_n = np.where(a>800, 200, a)\n",
    "a_n = np.where(a_n<100, 200 , a_n)\n",
    "# a_n[1200*120:] = np.where(a_n[1200*120:] < 250, 250, a_n[1200*120:])\n",
    "plt.plot(a_n)"
   ]
  },
  {
   "cell_type": "code",
   "execution_count": 247,
   "metadata": {},
   "outputs": [],
   "source": [
    "w_size = 1200*10\n",
    "x = np.linspace(-1,1,w_size)\n",
    "v = np.exp(-x**2 / 2) / np.sqrt(2 * np.pi)\n",
    "v = v / np.sum(v)\n",
    "v = np.sort(v)[::-1]\n",
    "all_d_ma = np.convolve(a_n, v, mode='valid')\n",
    "np.save(rf\"Z:\\200 Produced_data\\20230113+0117\\CF\\All_n5_MA\",all_d_ma)"
   ]
  },
  {
   "cell_type": "code",
   "execution_count": 248,
   "metadata": {},
   "outputs": [
    {
     "data": {
      "text/plain": [
       "[<matplotlib.lines.Line2D at 0x2372d8f9b50>]"
      ]
     },
     "execution_count": 248,
     "metadata": {},
     "output_type": "execute_result"
    }
   ],
   "source": [
    "dd = np.load(rf\"Z:\\200 Produced_data\\20230113+0117\\CF\\All_n4_MA.npy\")\n",
    "plt.plot(dd)"
   ]
  },
  {
   "cell_type": "code",
   "execution_count": 264,
   "metadata": {},
   "outputs": [],
   "source": [
    "_1 = np.load(rf\"Z:\\200 Produced_data\\master_paper_data\\C\\CF\\CF_1-120.npy\")\n",
    "_2 = np.load(rf\"Z:\\200 Produced_data\\master_paper_data\\C\\CF\\CF_1-460.npy\")\n",
    "_3 = np.load(rf\"Z:\\200 Produced_data\\master_paper_data\\C\\CF\\CF_121-460.npy\")"
   ]
  },
  {
   "cell_type": "code",
   "execution_count": 265,
   "metadata": {},
   "outputs": [],
   "source": [
    "a = _1 - 110\n",
    "b = _2 - 110\n",
    "c = _3 - 110"
   ]
  },
  {
   "cell_type": "code",
   "execution_count": 266,
   "metadata": {},
   "outputs": [],
   "source": [
    "np.save(rf\"Z:\\200 Produced_data\\master_paper_data\\C\\CF\\CF_1-120_\",a)\n",
    "np.save(rf\"Z:\\200 Produced_data\\master_paper_data\\C\\CF\\CF_1-460_\",b)\n",
    "np.save(rf\"Z:\\200 Produced_data\\master_paper_data\\C\\CF\\CF_121-460_\",c)"
   ]
  },
  {
   "cell_type": "code",
   "execution_count": null,
   "metadata": {},
   "outputs": [],
   "source": []
  }
 ],
 "metadata": {
  "kernelspec": {
   "display_name": "Python 3",
   "language": "python",
   "name": "python3"
  },
  "language_info": {
   "codemirror_mode": {
    "name": "ipython",
    "version": 3
   },
   "file_extension": ".py",
   "mimetype": "text/x-python",
   "name": "python",
   "nbconvert_exporter": "python",
   "pygments_lexer": "ipython3",
   "version": "3.8.3"
  }
 },
 "nbformat": 4,
 "nbformat_minor": 4
}
