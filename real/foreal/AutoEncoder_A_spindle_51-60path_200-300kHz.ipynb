{
 "cells": [
  {
   "cell_type": "code",
   "execution_count": 1,
   "metadata": {},
   "outputs": [],
   "source": [
    "import keras\n",
    "from keras import layers\n",
    "import tensorflow as tf\n",
    "import pydot\n",
    "\n",
    "from loadTDMS import *\n",
    "from fft_test import *\n",
    "\n",
    "import numpy as np\n",
    "import pandas as pd\n",
    "\n",
    "import seaborn as sns\n",
    "import matplotlib.pyplot as plt\n",
    "from matplotlib.ticker import ScalarFormatter\n",
    "\n",
    "from tqdm import tqdm"
   ]
  },
  {
   "cell_type": "code",
   "execution_count": 2,
   "metadata": {},
   "outputs": [],
   "source": [
    "# Training Data取得\n",
    "# train_d = np.load(rf\"Z:\\200 Produced_data\\20230113+0117\\train_data\\_TrainData_A_51-60path_spindle_200-300kHz.npy\")\n",
    "train_d = np.load(rf\"Z:\\200 Produced_data\\MashineLearning\\trainD\\case1_A.npy\")"
   ]
  },
  {
   "cell_type": "code",
   "execution_count": 3,
   "metadata": {},
   "outputs": [
    {
     "data": {
      "text/plain": [
       "12000.0"
      ]
     },
     "execution_count": 3,
     "metadata": {},
     "output_type": "execute_result"
    }
   ],
   "source": [
    "# Train dataのセット数　164個のFFTデータが120000セットある\n",
    "len(train_d)/164"
   ]
  },
  {
   "cell_type": "code",
   "execution_count": 4,
   "metadata": {},
   "outputs": [],
   "source": [
    "# Test Data取得\n",
    "# test_A = np.load(rf\"Z:\\200 Produced_data\\20230113+0117\\test_data\\_TestData_A_51-60path_spindle_200-300kHz_A.npy\")\n",
    "# test_B = np.load(rf\"Z:\\200 Produced_data\\20230113+0117\\test_data\\_TestData_A_51-60path_spindle_200-300kHz_B.npy\")\n",
    "# test_C = np.load(rf\"Z:\\200 Produced_data\\20230113+0117\\test_data\\_TestData_A_51-60path_spindle_200-300kHz_C.npy\")\n",
    "\n",
    "test_A = np.load(rf\"Z:\\200 Produced_data\\MashineLearning\\testD\\case1_A.npy\")\n",
    "test_B = np.load(rf\"Z:\\200 Produced_data\\MashineLearning\\testD\\case1_B.npy\")\n",
    "test_C = np.load(rf\"Z:\\200 Produced_data\\MashineLearning\\testD\\case1_C.npy\")"
   ]
  },
  {
   "cell_type": "code",
   "execution_count": 5,
   "metadata": {},
   "outputs": [
    {
     "name": "stdout",
     "output_type": "stream",
     "text": [
      "552000.0\n",
      "552000.0\n",
      "470580.0\n"
     ]
    }
   ],
   "source": [
    "print(len(test_A)/164) #552000セット\n",
    "print(len(test_B)/164) #552000セット\n",
    "print(len(test_C)/164) #470580セット"
   ]
  },
  {
   "cell_type": "code",
   "execution_count": 6,
   "metadata": {},
   "outputs": [],
   "source": [
    "# reshape for train and test\n",
    "# 164 = fft 200-300kHzのampの返り値の数（0-500kHz:820個) \n",
    "train_d = train_d.reshape(int(len(train_d)/164),164)\n",
    "test_A = test_A.reshape(int(len(test_A)/164),164)\n",
    "test_B = test_B.reshape(int(len(test_B)/164),164)\n",
    "test_C = test_C.reshape(int(len(test_C)/164),164)"
   ]
  },
  {
   "cell_type": "code",
   "execution_count": 7,
   "metadata": {},
   "outputs": [
    {
     "name": "stdout",
     "output_type": "stream",
     "text": [
      "(12000, 164)\n",
      "(552000, 164)\n",
      "(552000, 164)\n",
      "(470580, 164)\n"
     ]
    }
   ],
   "source": [
    "print(train_d.shape)\n",
    "print(test_A.shape)\n",
    "print(test_B.shape)\n",
    "print(test_C.shape)"
   ]
  },
  {
   "cell_type": "code",
   "execution_count": 8,
   "metadata": {},
   "outputs": [
    {
     "data": {
      "text/plain": [
       "164"
      ]
     },
     "execution_count": 8,
     "metadata": {},
     "output_type": "execute_result"
    }
   ],
   "source": [
    "train_d.shape[1]"
   ]
  },
  {
   "cell_type": "code",
   "execution_count": 9,
   "metadata": {
    "scrolled": true
   },
   "outputs": [
    {
     "name": "stdout",
     "output_type": "stream",
     "text": [
      "Model: \"sequential\"\n",
      "_________________________________________________________________\n",
      " Layer (type)                Output Shape              Param #   \n",
      "=================================================================\n",
      " conv1d (Conv1D)             (None, 164, 32)           256       \n",
      "                                                                 \n",
      " dropout (Dropout)           (None, 164, 32)           0         \n",
      "                                                                 \n",
      " conv1d_1 (Conv1D)           (None, 164, 16)           3600      \n",
      "                                                                 \n",
      " conv1d_transpose (Conv1DTra  (None, 164, 16)          1808      \n",
      " nspose)                                                         \n",
      "                                                                 \n",
      " dropout_1 (Dropout)         (None, 164, 16)           0         \n",
      "                                                                 \n",
      " conv1d_transpose_1 (Conv1DT  (None, 164, 32)          3616      \n",
      " ranspose)                                                       \n",
      "                                                                 \n",
      " conv1d_transpose_2 (Conv1DT  (None, 164, 1)           225       \n",
      " ranspose)                                                       \n",
      "                                                                 \n",
      "=================================================================\n",
      "Total params: 9,505\n",
      "Trainable params: 9,505\n",
      "Non-trainable params: 0\n",
      "_________________________________________________________________\n"
     ]
    }
   ],
   "source": [
    "#モデルの定義\n",
    "model =keras.initializers.Initializer()\n",
    "model = keras.Sequential(\n",
    "    [\n",
    "        layers.Input(shape=(train_d.shape[1],1)),\n",
    "        layers.Conv1D(\n",
    "            filters=32, kernel_size=7, padding=\"same\", strides=1, activation=\"relu\"\n",
    "        ),\n",
    "        layers.Dropout(rate=0.2),\n",
    "        layers.Conv1D(\n",
    "            filters=16, kernel_size=7, padding=\"same\", strides=1, activation=\"relu\"\n",
    "        ),\n",
    "        layers.Conv1DTranspose(\n",
    "            filters=16, kernel_size=7, padding=\"same\", strides=1, activation=\"relu\"\n",
    "        ),\n",
    "        layers.Dropout(rate=0.2),\n",
    "        layers.Conv1DTranspose(\n",
    "            filters=32, kernel_size=7, padding=\"same\", strides=1, activation=\"relu\"\n",
    "        ),b\n",
    "        layers.Conv1DTranspose(filters=1, kernel_size=7, padding=\"same\"),\n",
    "    ]\n",
    ")\n",
    "model.compile(optimizer=keras.optimizers.Adam(learning_rate=0.001), loss=\"mse\")\n",
    "model.summary()"
   ]
  },
  {
   "cell_type": "code",
   "execution_count": 10,
   "metadata": {},
   "outputs": [
    {
     "name": "stdout",
     "output_type": "stream",
     "text": [
      "Epoch 1/200\n",
      "108/108 [==============================] - 8s 63ms/step - loss: 0.1557 - val_loss: 0.0110\n",
      "Epoch 2/200\n",
      "108/108 [==============================] - 7s 61ms/step - loss: 0.0343 - val_loss: 0.0060\n",
      "Epoch 3/200\n",
      "108/108 [==============================] - 7s 61ms/step - loss: 0.0265 - val_loss: 0.0050\n",
      "Epoch 4/200\n",
      "108/108 [==============================] - 7s 62ms/step - loss: 0.0232 - val_loss: 0.0044\n",
      "Epoch 5/200\n",
      "108/108 [==============================] - 7s 62ms/step - loss: 0.0206 - val_loss: 0.0051\n",
      "Epoch 6/200\n",
      "108/108 [==============================] - 7s 60ms/step - loss: 0.0188 - val_loss: 0.0069\n",
      "Epoch 7/200\n",
      "108/108 [==============================] - 7s 61ms/step - loss: 0.0173 - val_loss: 0.0071\n",
      "Epoch 8/200\n",
      "108/108 [==============================] - 7s 61ms/step - loss: 0.0162 - val_loss: 0.0071\n",
      "Epoch 9/200\n",
      "108/108 [==============================] - 7s 62ms/step - loss: 0.0151 - val_loss: 0.0074\n"
     ]
    }
   ],
   "source": [
    "history = model.fit(\n",
    "    train_d,\n",
    "    train_d,\n",
    "    epochs=200,\n",
    "    batch_size=100,\n",
    "    validation_split=0.1,\n",
    "    callbacks=[\n",
    "        keras.callbacks.EarlyStopping(monitor=\"val_loss\", patience=5, mode=\"min\")\n",
    "    ],\n",
    ")"
   ]
  },
  {
   "cell_type": "code",
   "execution_count": 14,
   "metadata": {},
   "outputs": [
    {
     "data": {
      "image/png": "[encoded data removed]",
      "text/plain": [
       "<Figure size 432x288 with 1 Axes>"
      ]
     },
     "metadata": {
      "needs_background": "light"
     },
     "output_type": "display_data"
    }
   ],
   "source": [
    "plt.plot(history.history[\"loss\"], label=\"Training Loss\")\n",
    "plt.plot(history.history[\"val_loss\"], label=\"Validation Loss\")\n",
    "plt.legend()\n",
    "plt.show()"
   ]
  },
  {
   "cell_type": "code",
   "execution_count": 12,
   "metadata": {},
   "outputs": [
    {
     "name": "stdout",
     "output_type": "stream",
     "text": [
      "375/375 [==============================] - 3s 7ms/step\n",
      "(12000, 164, 1)\n"
     ]
    }
   ],
   "source": [
    "#predict(train data)\n",
    "train_d_pred = model.predict(train_d)\n",
    "print(train_d_pred.shape)\n",
    "\n",
    "#reshape(12000, 164, 1) -> (12000, 164)\n",
    "train_d_pred = train_d_pred.reshape(12000, 164)\n",
    "\n",
    "#再構成誤差計算\n",
    "train_mae_loss = np.mean(np.square(np.abs(train_d_pred - train_d)), axis=1)\n",
    "\n",
    "\n",
    "#再構成誤差の平均値\n",
    "train_mae_loss_mean = np.mean(train_mae_loss)\n",
    "\n",
    "#再構成誤差の標準偏差\n",
    "train_mae_loss_std = np.std(train_mae_loss)\n",
    "\n",
    "#閾値設定\n",
    "#閾値T = μ+3σ (μ:train_dの再構成誤差の平均値、σ:train_d（A（51~60path）200-300kHz）の再構成誤差のの標準偏差)\n",
    "\n",
    "threshold = train_mae_loss_mean + train_mae_loss_std * 3"
   ]
  },
  {
   "cell_type": "code",
   "execution_count": 13,
   "metadata": {},
   "outputs": [
    {
     "name": "stdout",
     "output_type": "stream",
     "text": [
      "0.02926096694219461\n",
      "0.05162089926575669\n",
      "0.18412366473946468\n"
     ]
    }
   ],
   "source": [
    "print(train_mae_loss_mean)\n",
    "print(train_mae_loss_std)\n",
    "print(threshold)"
   ]
  },
  {
   "cell_type": "code",
   "execution_count": 15,
   "metadata": {},
   "outputs": [
    {
     "name": "stdout",
     "output_type": "stream",
     "text": [
      "17250/17250 [==============================] - 124s 7ms/step\n",
      "17250/17250 [==============================] - 128s 7ms/step\n",
      "14706/14706 [==============================] - 109s 7ms/step\n",
      "Wall time: 6min 32s\n"
     ]
    }
   ],
   "source": [
    "%%time\n",
    "# test(A,B,C 1-460pah) predict & reshape & get reconstruction error\n",
    "test_A_pred = model.predict(test_A)\n",
    "test_A_pred = test_A_pred.reshape(552000,164)\n",
    "\n",
    "test_B_pred = model.predict(test_B)\n",
    "test_B_pred = test_B_pred.reshape(552000,164)\n",
    "\n",
    "test_C_pred = model.predict(test_C)\n",
    "test_C_pred = test_C_pred.reshape(470580,164)\n",
    "\n",
    "\n",
    "test_A_mae_loss = np.mean(np.square(np.abs(test_A_pred - test_A)), axis=1)\n",
    "test_B_mae_loss = np.mean(np.square(np.abs(test_B_pred - test_B)), axis=1)\n",
    "test_C_mae_loss = np.mean(np.square(np.abs(test_C_pred - test_C)), axis=1)"
   ]
  },
  {
   "cell_type": "code",
   "execution_count": 16,
   "metadata": {},
   "outputs": [
    {
     "name": "stdout",
     "output_type": "stream",
     "text": [
      "(552000,)\n",
      "(552000,)\n",
      "(470580,)\n"
     ]
    }
   ],
   "source": [
    "#RE は　Reconstruction Errorの略\n",
    "test_A_RE = test_A_mae_loss.reshape(-1)\n",
    "test_B_RE = test_B_mae_loss.reshape(-1)\n",
    "test_C_RE = test_C_mae_loss.reshape(-1)\n",
    "\n",
    "print(test_A_RE.shape)\n",
    "print(test_B_RE.shape)\n",
    "print(test_C_RE.shape)"
   ]
  },
  {
   "cell_type": "code",
   "execution_count": 17,
   "metadata": {},
   "outputs": [],
   "source": [
    "# np.save(rf\"Z:\\200 Produced_data\\20230113+0117\\RE\\A_spindle_51-60_200-300_A\", test_A_RE)\n",
    "# np.save(rf\"Z:\\200 Produced_data\\20230113+0117\\RE\\A_spindle_51-60_200-300_B\", test_B_RE)\n",
    "# np.save(rf\"Z:\\200 Produced_data\\20230113+0117\\RE\\A_spindle_51-60_200-300_C\", test_C_RE)\n",
    "\n",
    "np.save(rf\"Z:\\200 Produced_data\\MashineLearning\\RE\\case1_A_A\", test_A_RE)\n",
    "np.save(rf\"Z:\\200 Produced_data\\MashineLearning\\RE\\case1_A_B\", test_B_RE)\n",
    "np.save(rf\"Z:\\200 Produced_data\\MashineLearning\\RE\\case1_A_C\", test_C_RE)"
   ]
  },
  {
   "cell_type": "code",
   "execution_count": 60,
   "metadata": {},
   "outputs": [],
   "source": [
    "# test_A_RE = np.load(rf\"Z:\\200 Produced_data\\20230113+0117\\RE\\A_spindle_51-60_200-300_A.npy\")\n",
    "# test_B_RE = np.load(rf\"Z:\\200 Produced_data\\20230113+0117\\RE\\A_spindle_51-60_200-300_B.npy\")\n",
    "# test_C_RE = np.load(rf\"Z:\\200 Produced_data\\20230113+0117\\RE\\A_spindle_51-60_200-300_C.npy\")\n",
    "\n",
    "\n",
    "test_A_RE = np.load(rf\"Z:\\200 Produced_data\\MashineLearning\\RE\\case1_A_A.npy\")\n",
    "test_B_RE = np.load(rf\"Z:\\200 Produced_data\\MashineLearning\\RE\\case1_A_B.npy\")\n",
    "test_C_RE = np.load(rf\"Z:\\200 Produced_data\\MashineLearning\\RE\\case1_A_C.npy\")"
   ]
  },
  {
   "cell_type": "code",
   "execution_count": 61,
   "metadata": {},
   "outputs": [
    {
     "name": "stdout",
     "output_type": "stream",
     "text": [
      "460.0\n",
      "460.0\n",
      "460.0\n"
     ]
    }
   ],
   "source": [
    "print(len(test_A_RE)/1200)\n",
    "print(len(test_B_RE)/1200)\n",
    "print(len(test_C_RE)/1023)"
   ]
  },
  {
   "cell_type": "code",
   "execution_count": 64,
   "metadata": {},
   "outputs": [
    {
     "data": {
      "text/plain": [
       "[<matplotlib.lines.Line2D at 0x1fec42f2130>]"
      ]
     },
     "execution_count": 64,
     "metadata": {},
     "output_type": "execute_result"
    }
   ],
   "source": [
    "plt.plot(test_A_RE)\n",
    "plt.plot(test_B_RE)\n",
    "plt.plot(test_C_RE)"
   ]
  },
  {
   "cell_type": "code",
   "execution_count": 39,
   "metadata": {},
   "outputs": [],
   "source": [
    "plt.plot(test_B_RE)\n",
    "#all_path_num\n",
    "a_p_n = 460\n",
    "#all_rotation_num\n",
    "a_r_n = 1200\n",
    "a_r_n_2 = 1023\n",
    "#moving avg path step\n",
    "m_a_p_s = 10\n",
    "\n",
    "w_size = a_r_n*m_a_p_s\n",
    "w_size2 = a_r_n_2*m_a_p_s\n",
    "\n",
    "x = np.linspace(-1,1,w_size)\n",
    "x2 = np.linspace(-1,1,w_size2)\n",
    "v = np.exp(-x**2 / 2) / np.sqrt(2 * np.pi)\n",
    "v2 = np.exp(-x2**2 / 2) / np.sqrt(2 * np.pi)\n",
    "v = v / np.sum(v)\n",
    "v2 = v2 / np.sum(v2)\n",
    "v = np.sort(v)[::-1]\n",
    "v2 = np.sort(v2)[::-1]"
   ]
  },
  {
   "cell_type": "code",
   "execution_count": 40,
   "metadata": {},
   "outputs": [
    {
     "name": "stdout",
     "output_type": "stream",
     "text": [
      "Wall time: 1min 13s\n"
     ]
    }
   ],
   "source": [
    "%%time\n",
    "RE_MA_A = np.convolve(test_A_RE,v, mode='valid')\n",
    "RE_MA_B = np.convolve(test_B_RE,v, mode='valid')\n",
    "RE_MA_C = np.convolve(test_C_RE,v2, mode='valid')"
   ]
  },
  {
   "cell_type": "code",
   "execution_count": 51,
   "metadata": {},
   "outputs": [
    {
     "data": {
      "text/plain": [
       "[<matplotlib.lines.Line2D at 0x1fec58c1b50>]"
      ]
     },
     "execution_count": 51,
     "metadata": {},
     "output_type": "execute_result"
    }
   ],
   "source": [
    "%matplotlib qt\n",
    "plt.plot(RE_MA_A)\n",
    "plt.plot(RE_MA_B)\n",
    "plt.plot(RE_MA_C)"
   ]
  },
  {
   "cell_type": "code",
   "execution_count": 41,
   "metadata": {
    "scrolled": true
   },
   "outputs": [],
   "source": [
    "np.save(rf\"Z:\\200 Produced_data\\MashineLearning\\RE\\case1_A_A_MA\", RE_MA_A)\n",
    "np.save(rf\"Z:\\200 Produced_data\\MashineLearning\\RE\\case1_A_B_MA\", RE_MA_B)\n",
    "np.save(rf\"Z:\\200 Produced_data\\MashineLearning\\RE\\case1_A_C_MA\", RE_MA_C)"
   ]
  },
  {
   "cell_type": "code",
   "execution_count": 81,
   "metadata": {},
   "outputs": [],
   "source": [
    "tools = [\"A\", \"B\", \"C\"]\n",
    "intervals = [1200, 1200, 1023]"
   ]
  },
  {
   "cell_type": "code",
   "execution_count": 87,
   "metadata": {
    "scrolled": true
   },
   "outputs": [
    {
     "name": "stdout",
     "output_type": "stream",
     "text": [
      "450.0\n",
      "(12000, 45)\n",
      "(12000,)\n",
      "(12000, 1)\n",
      "(12000, 1)\n",
      "460.0\n",
      "450.0\n",
      "(12000, 45)\n",
      "(12000,)\n",
      "(12000, 1)\n",
      "(12000, 1)\n",
      "460.0\n",
      "450.0\n",
      "(10230, 45)\n",
      "(10230,)\n",
      "(10230, 1)\n",
      "(10230, 1)\n",
      "460.0\n",
      "(460, 1023)\n",
      "(460, 1200)\n",
      "460.0\n"
     ]
    }
   ],
   "source": [
    "for tool, interval in zip(tools, intervals):\n",
    "    RE_MA = np.load(rf\"Z:\\200 Produced_data\\MashineLearning\\RE\\case1_A_{tool}_MA.npy\")\n",
    "    new = RE_MA[:-1]\n",
    "    print(len(new)/interval)\n",
    "    new = new.reshape(interval*10, int(len(new)/(interval*10)))\n",
    "    print(new.shape)\n",
    "    avg = np.average(new,axis=1)\n",
    "    print(avg.shape)\n",
    "    avg = avg.reshape(len(avg),1)\n",
    "    print(avg.shape)\n",
    "    avg = np.repeat(avg, 1, axis=1)\n",
    "    print(avg.shape)\n",
    "    new_n = np.block([new,avg])\n",
    "    new_n = new_n.ravel()\n",
    "    print(len(new_n)/interval)\n",
    "    \n",
    "    if tool == \"C\":\n",
    "        new_nn = new_n.reshape(int(len(new_n)/interval), interval)\n",
    "        print(new_nn.shape)\n",
    "        hokan = 1200-1023\n",
    "        avg = np.average(new_nn, axis=1)\n",
    "        avg = avg.reshape(len(avg), 1)\n",
    "        avg = np.repeat(avg, hokan, axis=1)\n",
    "        new_nn  = np.block([new_nn, avg])\n",
    "        print(new_nn.shape)\n",
    "        new_nn = new_nn.ravel()\n",
    "        print(len(new_nn)/1200)\n",
    "        np.save(rf\"Z:\\200 Produced_data\\MashineLearning\\RE\\case1_A_{tool}_MA_EX.npy\",new_nn)\n",
    "    else:\n",
    "        np.save(rf\"Z:\\200 Produced_data\\MashineLearning\\RE\\case1_A_{tool}_MA_EX.npy\",new_n)\n"
   ]
  },
  {
   "cell_type": "code",
   "execution_count": null,
   "metadata": {},
   "outputs": [],
   "source": []
  },
  {
   "cell_type": "code",
   "execution_count": null,
   "metadata": {},
   "outputs": [],
   "source": []
  },
  {
   "cell_type": "code",
   "execution_count": null,
   "metadata": {},
   "outputs": [],
   "source": [
    "np.save(rf\"Z:\\200 Produced_data\\20230113+0117\\RE\\A_spindle_51-60_200-300_A_MA\", RE_MA_A)\n",
    "np.save(rf\"Z:\\200 Produced_data\\20230113+0117\\RE\\A_spindle_51-60_200-300_B_MA\", RE_MA_B)\n",
    "np.save(rf\"Z:\\200 Produced_data\\20230113+0117\\RE\\A_spindle_51-60_200-300_C_MA\", RE_MA_C)"
   ]
  },
  {
   "cell_type": "code",
   "execution_count": 94,
   "metadata": {},
   "outputs": [],
   "source": [
    "RE_MA_A = np.load(rf\"Z:\\200 Produced_data\\20230113+0117\\RE\\A_spindle_51-60_200-300_A_MA.npy\")\n",
    "RE_MA_B = np.load(rf\"Z:\\200 Produced_data\\20230113+0117\\RE\\A_spindle_51-60_200-300_B_MA.npy\")\n",
    "RE_MA_C = np.load(rf\"Z:\\200 Produced_data\\20230113+0117\\RE\\A_spindle_51-60_200-300_C_MA.npy\")"
   ]
  },
  {
   "cell_type": "code",
   "execution_count": 130,
   "metadata": {},
   "outputs": [],
   "source": [
    "RE_B = RE_MA_B[:300*1200]\n",
    "RE_C = RE_MA_C[:300*1200]"
   ]
  },
  {
   "cell_type": "code",
   "execution_count": 133,
   "metadata": {},
   "outputs": [],
   "source": [
    "cfm_B = np.load(rf\"Z:\\200 Produced_data\\master_paper_data\\B\\CF\\CF_1-460.npy\")\n",
    "cfm_C = np.load(rf\"Z:\\200 Produced_data\\master_paper_data\\C\\CF\\CF_1-460.npy\")\n",
    "\n",
    "cfm_B = cfm_B[:300*1200]\n",
    "cfm_C = cfm_C[:300*1200]"
   ]
  },
  {
   "cell_type": "code",
   "execution_count": 111,
   "metadata": {},
   "outputs": [],
   "source": [
    "%matplotlib qt\n",
    "#all_path_num\n",
    "a_p_n = 300\n",
    "#all_rotation_num\n",
    "a_r_n = 1200\n",
    "#moving avg path step\n",
    "m_a_p_s = 30\n",
    "\n",
    "\n",
    "fig = plt.figure()\n",
    "ax = fig.add_subplot()\n",
    "ax.set_xticks(np.arange(0, a_p_n*a_r_n + 1, a_r_n*m_a_p_s))\n",
    "ax.set_xticklabels(np.arange(0,a_p_n + 1,m_a_p_s))\n",
    "ax.set_xlabel(xlabel='Path Number')\n",
    "ax.set_ylabel(ylabel='Reconstruction Error')\n",
    "ax.tick_params(axis = 'x')\n",
    "ax.tick_params(axis = 'y')\n",
    "# ax.plot(test_A_RE, label=\"A\")\n",
    "# ax.plot(test_B_RE, label=\"B\")\n",
    "# ax.plot(test_C_RE, label=\"C\")\n",
    "# ax.plot(RE_MA_A, label=\"A_MA\")\n",
    "# ax.plot(RE_MA_B, label=\"B_MA\")\n",
    "# ax.plot(RE_MA_C, label=\"C_MA\")\n",
    "\n",
    "\n",
    "# ax.plot(RE_MA_A[1200*:], label=\"A_MA\")\n",
    "# ax.plot(RE_MA_C, label=\"C_MA\")\n",
    "\n",
    "\n",
    "\n",
    "# plt.legend()\n",
    "plt.grid()"
   ]
  },
  {
   "cell_type": "code",
   "execution_count": 128,
   "metadata": {},
   "outputs": [],
   "source": [
    "cfm = np.load(rf\"Z:\\200 Produced_data\\master_paper_data\\A\\CF\\CF_1-460.npy\")\n",
    "cfm = cfm[:300*1200]\n",
    "RE = RE_MA_A[:300*1200]"
   ]
  },
  {
   "cell_type": "code",
   "execution_count": 136,
   "metadata": {},
   "outputs": [
    {
     "data": {
      "text/plain": [
       "[<matplotlib.lines.Line2D at 0x1a2398878e0>]"
      ]
     },
     "execution_count": 136,
     "metadata": {},
     "output_type": "execute_result"
    }
   ],
   "source": [
    "%matplotlib qt\n",
    "#all_path_num\n",
    "a_p_n = 300\n",
    "#all_rotation_num\n",
    "a_r_n = 1200\n",
    "#moving avg path step\n",
    "m_a_p_s = 30\n",
    "\n",
    "\n",
    "fig = plt.figure()\n",
    "ax = fig.add_subplot()\n",
    "ax.set_xticks(np.arange(0, a_p_n*a_r_n + 1, a_r_n*m_a_p_s))\n",
    "ax.set_xticklabels(np.arange(0,a_p_n + 1,m_a_p_s))\n",
    "ax.set_xlabel(xlabel='Path Number')\n",
    "ax.set_ylabel(ylabel='Cutting Force[N]')\n",
    "ax.tick_params(axis = 'x')\n",
    "ax.tick_params(axis = 'y')\n",
    "\n",
    "ax2 = ax.twinx()\n",
    "ax2.set_ylabel(ylabel='Reconstruction Error')\n",
    "\n",
    "\n",
    "ax.plot(cfm_C, label=\"Cutting Force\", linewidth=\"5\")\n",
    "ax2.plot(RE_C, label=\"Reconstruction Error\", color=\"magenta\")\n",
    "\n",
    "# ax.plot(RE_MA_B, label=\"B_MA\")\n",
    "# ax.plot(RE_MA_C, label=\"C_MA\")\n",
    "\n",
    "\n",
    "# ax.plot(RE_MA_A[1200*:], label=\"A_MA\")\n",
    "# ax.plot(RE_MA_C, label=\"C_MA\")\n",
    "\n",
    "\n",
    "\n",
    "# plt.legend()\n",
    "# plt.grid()"
   ]
  },
  {
   "cell_type": "code",
   "execution_count": null,
   "metadata": {},
   "outputs": [],
   "source": [
    "    fig = plt.figure()\n",
    "    ax = fig.add_subplot()\n",
    "    ax.set_xticks(np.arange(1, a_p_n*a_r_n, a_r_n*m_a_p_s))\n",
    "    ax.set_xticklabels(np.arange(0,a_p_n,m_a_p_s))\n",
    "    ax.set_xlabel(xlabel='Path Number')\n",
    "    ax.set_ylabel(ylabel='S (AE spectrum area)')\n",
    "    ax.set_ylabel(ylabel='Cutting Force[N]')\n",
    "    ax.tick_params(axis = 'x')\n",
    "    ax.tick_params(axis = 'y')\n",
    "    ax2 = ax.twinx()\n",
    "    ax2.set_ylabel(ylabel='S (AE spectrum area)')\n",
    "    ax.grid()\n",
    "    ax.plot(cfm, lineWidth=\"3\", label=\"cutting force\")\n",
    "    ax2.plot(aem, color=\"magenta\")"
   ]
  },
  {
   "cell_type": "code",
   "execution_count": null,
   "metadata": {},
   "outputs": [],
   "source": []
  }
 ],
 "metadata": {
  "kernelspec": {
   "display_name": "Python 3",
   "language": "python",
   "name": "python3"
  },
  "language_info": {
   "codemirror_mode": {
    "name": "ipython",
    "version": 3
   },
   "file_extension": ".py",
   "mimetype": "text/x-python",
   "name": "python",
   "nbconvert_exporter": "python",
   "pygments_lexer": "ipython3",
   "version": "3.8.3"
  }
 },
 "nbformat": 4,
 "nbformat_minor": 4
}
