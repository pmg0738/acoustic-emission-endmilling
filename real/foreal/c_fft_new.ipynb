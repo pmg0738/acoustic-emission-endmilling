{
 "cells": [
  {
   "cell_type": "code",
   "execution_count": 4,
   "metadata": {},
   "outputs": [],
   "source": [
    "from loadTDMS import *\n",
    "from fft_test import *\n",
    "\n",
    "import numpy as np\n",
    "# import pandas as pd\n",
    "\n",
    "# import seaborn as sns\n",
    "import matplotlib.pyplot as plt\n",
    "# from matplotlib.ticker import ScalarFormatter\n",
    "\n",
    "from tqdm import tqdm"
   ]
  },
  {
   "cell_type": "code",
   "execution_count": 28,
   "metadata": {},
   "outputs": [],
   "source": [
    "path = 100\n",
    "A = np.load(rf\"Z:\\200 Produced_data\\20230113+0117\\FFT\\spindle\\{path}.npy\")\n",
    "B = np.load(rf\"Z:\\200 Produced_data\\20230123\\FFT\\spindle\\{path}.npy\")\n",
    "C = np.load(rf\"Z:\\200 Produced_data\\20230120\\FFT\\spindle\\{path}.npy\")"
   ]
  },
  {
   "cell_type": "code",
   "execution_count": 29,
   "metadata": {},
   "outputs": [
    {
     "data": {
      "text/plain": [
       "[<matplotlib.lines.Line2D at 0x2032954ba60>]"
      ]
     },
     "execution_count": 29,
     "metadata": {},
     "output_type": "execute_result"
    }
   ],
   "source": [
    "%matplotlib qt\n",
    "num = 100\n",
    "plt.plot(A[820*num:820*(num+1)])\n",
    "plt.plot(B[820*num:820*(num+1)])\n",
    "plt.plot(C[820*num:820*(num+1)])"
   ]
  },
  {
   "cell_type": "code",
   "execution_count": 13,
   "metadata": {},
   "outputs": [
    {
     "name": "stdout",
     "output_type": "stream",
     "text": [
      "-70.81043903358494\n",
      "-77.3613103720227\n"
     ]
    }
   ],
   "source": [
    "print(np.average(d))\n",
    "print(np.average(dc))"
   ]
  },
  {
   "cell_type": "code",
   "execution_count": 36,
   "metadata": {},
   "outputs": [],
   "source": [
    "# path = 100\n",
    "A = load_tdms(rf\"Z:\\100 Raw_data\\20230113---切削実験\\AE\\Cutting\\AE_{path}.tdms\", ch_num=3)\n",
    "B = load_tdms(rf\"Z:\\100 Raw_data\\20230120---切削実験\\AE\\Cutting\\AE_{path}.tdms\", ch_num=3)\n",
    "C = load_tdms(rf\"Z:\\100 Raw_data\\20230123---切削実験\\AE\\Cutting\\AE_{path}.tdms\", ch_num=3)"
   ]
  },
  {
   "cell_type": "code",
   "execution_count": 44,
   "metadata": {},
   "outputs": [],
   "source": [
    "A_n = load_tdms(rf\"Z:\\100 Raw_data\\20230113---切削実験\\AE\\Non-Cutting\\AE_{path}.tdms\", ch_num=3)\n",
    "C_n = load_tdms(rf\"Z:\\100 Raw_data\\20230123---切削実験\\AE\\Non-Cutting\\AE_{path}.tdms\", ch_num=3)"
   ]
  },
  {
   "cell_type": "code",
   "execution_count": 48,
   "metadata": {},
   "outputs": [
    {
     "data": {
      "text/plain": [
       "[<matplotlib.lines.Line2D at 0x2032e060fa0>]"
      ]
     },
     "execution_count": 48,
     "metadata": {},
     "output_type": "execute_result"
    }
   ],
   "source": [
    "start = 3000000\n",
    "interval = 25000\n",
    "# plt.plot(A[1][start:start+interval])\n",
    "# plt.plot(A_n[1][:25000])\n",
    "\n",
    "# plt.plot(B[1][1000000:1000000+25000])\n",
    "\n",
    "plt.plot(C[1][start:start+interval])\n",
    "plt.plot(C_n[1][:25000])\n"
   ]
  },
  {
   "cell_type": "code",
   "execution_count": 57,
   "metadata": {},
   "outputs": [],
   "source": [
    "def fft_both(date, path, start):\n",
    "    c_p = rf\"Z:\\100 Raw_data\\{date}---切削実験\\AE\\Cutting\\AE_{path}.tdms\"\n",
    "    n_p = rf\"Z:\\100 Raw_data\\{date}---切削実験\\AE\\Non-Cutting\\AE_{path}.tdms\"\n",
    "    \n",
    "    c = load_tdms(c_p, ch_num=3)\n",
    "    n = load_tdms(n_p, ch_num=3)\n",
    "    \n",
    "    \n",
    "    dt = 1/10**6\n",
    "    N = 2**14\n",
    "    \n",
    "    c = c[1][start:start+N]\n",
    "    n = n[1][:N]\n",
    "    \n",
    "\n",
    "    \n",
    "    F_c = np.fft.fft(c)\n",
    "    F_n = np.fft.fft(n)\n",
    "    \n",
    "    freq = np.fft.fftfreq(N, d=dt)\n",
    "    \n",
    "    Amp_c = np.abs(F_c/(N/2))\n",
    "    Amp_n = np.abs(F_n/(N/2))\n",
    "    \n",
    "    return 20*np.log10(Amp_c[1:int(N/2)]), 20*np.log10(Amp_n[1:int(N/2)]), freq[1:int(N/2)]\n",
    "    "
   ]
  },
  {
   "cell_type": "code",
   "execution_count": 68,
   "metadata": {},
   "outputs": [],
   "source": [
    "amp_c23, amp_n23, fq = fft_both(\"20230123\", 10, 1000000)\n",
    "amp_c13, amp_n13, fq = fft_both(\"20230113\", 10, 1000000)"
   ]
  },
  {
   "cell_type": "code",
   "execution_count": 70,
   "metadata": {},
   "outputs": [],
   "source": [
    "amp_c20, amp_n20, fq = fft_both(\"20230120\", 10, 1000000)"
   ]
  },
  {
   "cell_type": "code",
   "execution_count": 91,
   "metadata": {},
   "outputs": [
    {
     "data": {
      "text/plain": [
       "[<matplotlib.lines.Line2D at 0x2040e7b5a00>]"
      ]
     },
     "execution_count": 91,
     "metadata": {},
     "output_type": "execute_result"
    }
   ],
   "source": [
    "# plt.plot(fq, amp_c13 - amp_n13)\n",
    "# plt.plot(fq, amp_c20 - amp_n20)\n",
    "# plt.plot(fq, amp_c23 - amp_n23)\n",
    "\n",
    "plt.plot(fq, amp_c23)\n",
    "plt.plot(fq, amp_c13)\n",
    "plt.plot(fq, amp_c20)\n",
    "# plt.plot(fq, amp_c23)\n",
    "\n",
    "\n",
    "# plt.plot(fq, amp_n13)\n",
    "# plt.plot(fq, amp_n20)\n",
    "# plt.plot(fq, amp_n23)"
   ]
  },
  {
   "cell_type": "code",
   "execution_count": null,
   "metadata": {},
   "outputs": [],
   "source": []
  },
  {
   "cell_type": "code",
   "execution_count": 53,
   "metadata": {},
   "outputs": [
    {
     "name": "stdout",
     "output_type": "stream",
     "text": [
      "[6.10351562e+01 1.22070312e+02 1.83105469e+02 ... 4.99816895e+05\n",
      " 4.99877930e+05 4.99938965e+05]\n"
     ]
    }
   ],
   "source": [
    "%matplotlib qt\n",
    "\n",
    "date = 20230113\n",
    "N = 2**14\n",
    "load_path = rf\"Z:\\100 Raw_data\\{date}---切削実験\\AE\\Cutting\\AE_10.tdms\"\n",
    "load_path_n = rf\"Z:\\100 Raw_data\\{date}---切削実験\\AE\\Non-Cutting\\AE_10.tdms\"\n",
    "ae_d = load_tdms(load_path, ch_num=3)\n",
    "ae_d = ae_d[1][0:N]\n",
    "ae_dn = load_tdms(load_path, ch_num=3)\n",
    "ae_dn = ae_d[1][0:N]\n",
    "dt = 1/10**6\n",
    "F = np.fft.fft(ae_d) # 変換結果\n",
    "freq = np.fft.fftfreq(N, d=dt) # 周波数\n",
    "print(freq[1:int(N/2)])\n",
    "\n",
    "Amp = np.abs(F/(N/2)) # 振幅\n",
    "\n",
    "fig, ax = plt.subplots()\n",
    "ax.plot(freq[1:int(N/2)], 20*np.log10(Amp[1:int(N/2)]))\n",
    "\n",
    "ax.set_xlabel(\"Freqency [Hz]\")\n",
    "ax.set_ylabel(\"Amplitude\")\n",
    "ax.grid()\n",
    "plt.show()\n"
   ]
  },
  {
   "cell_type": "code",
   "execution_count": null,
   "metadata": {},
   "outputs": [],
   "source": []
  }
 ],
 "metadata": {
  "kernelspec": {
   "display_name": "Python 3",
   "language": "python",
   "name": "python3"
  },
  "language_info": {
   "codemirror_mode": {
    "name": "ipython",
    "version": 3
   },
   "file_extension": ".py",
   "mimetype": "text/x-python",
   "name": "python",
   "nbconvert_exporter": "python",
   "pygments_lexer": "ipython3",
   "version": "3.8.3"
  }
 },
 "nbformat": 4,
 "nbformat_minor": 4
}
