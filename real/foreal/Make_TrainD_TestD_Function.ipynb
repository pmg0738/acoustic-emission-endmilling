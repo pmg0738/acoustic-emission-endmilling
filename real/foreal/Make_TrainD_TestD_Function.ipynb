{
 "cells": [
  {
   "cell_type": "code",
   "execution_count": 1,
   "metadata": {},
   "outputs": [],
   "source": [
    "from sklearn.preprocessing import StandardScaler,MinMaxScaler\n",
    "from loadTDMS import *\n",
    "from fft_test import *\n",
    "import numpy as np\n",
    "from tqdm import tqdm\n",
    "import pandas as pd"
   ]
  },
  {
   "cell_type": "code",
   "execution_count": 2,
   "metadata": {},
   "outputs": [],
   "source": [
    "# Normalization class\n",
    "mmsc=MinMaxScaler()\n",
    "# Standardize class\n",
    "stdsc = StandardScaler()"
   ]
  },
  {
   "cell_type": "code",
   "execution_count": 3,
   "metadata": {},
   "outputs": [],
   "source": [
    "def make_trainD(case, tool, start, end, fq, AE_s_l):\n",
    "    \n",
    "    if tool == \"A\":\n",
    "        date = \"20230113+0117\"\n",
    "        interval = 1200\n",
    "    if tool == \"B\":\n",
    "        date = \"20230120\"\n",
    "        interval = 1200\n",
    "    if tool == \"C\":\n",
    "        date = \"20230123\"\n",
    "        interval = 1023\n",
    "    \n",
    "    d = np.array([])\n",
    "\n",
    "    for i in range(start,end+1):\n",
    "        d_n = np.load(rf\"Z:\\200 Produced_data\\{date}\\FFT\\{AE_s_l}\\{i}.npy\")\n",
    "        d_n = d_n.reshape(interval,820)\n",
    "        d_n = d_n.reshape(interval,10,82)\n",
    "        d_n = d_n[:,[fq]]\n",
    "        d_n = d_n.reshape(interval,82*len(fq))\n",
    "        d_n = d_n.ravel()\n",
    "        d = np.append(d,d_n)\n",
    "    \n",
    "    d_stdsc = stdsc.fit_transform(d.reshape(-1,1))\n",
    "    np.save(rf\"Z:\\200 Produced_data\\MashineLearning\\trainD\\case{case}_{tool}\",d_stdsc)\n",
    "    np.save(rf\"Z:\\200 Produced_data\\MashineLearning\\trainD\\case{case}_{tool}_mean\",stdsc.mean_)\n",
    "    np.save(rf\"Z:\\200 Produced_data\\MashineLearning\\trainD\\case{case}_{tool}_std\",np.sqrt(stdsc.var_))\n",
    "    \n",
    "    \n",
    "    make_testD(case, tool, fq, AE_s_l)"
   ]
  },
  {
   "cell_type": "code",
   "execution_count": 4,
   "metadata": {},
   "outputs": [],
   "source": [
    "def make_testD(case, tool, fq, AE_s_l):\n",
    "    \n",
    "    mean = np.load(rf\"Z:\\200 Produced_data\\MashineLearning\\trainD\\case{case}_{tool}_mean.npy\")\n",
    "    std = np.load(rf\"Z:\\200 Produced_data\\MashineLearning\\trainD\\case{case}_{tool}_std.npy\")\n",
    "    \n",
    "    for test_tool in [\"A\",\"B\",\"C\"]:\n",
    "        if test_tool == \"A\":\n",
    "            date = \"20230113+0117\"\n",
    "            interval = 1200\n",
    "        if test_tool == \"B\":\n",
    "            date = \"20230120\"\n",
    "            interval = 1200\n",
    "        if test_tool == \"C\":\n",
    "            date = \"20230123\"\n",
    "            interval = 1023\n",
    "    \n",
    "        d = np.array([])\n",
    "\n",
    "        for i in tqdm(range(1,461)):\n",
    "            d_n = np.load(rf\"Z:\\200 Produced_data\\{date}\\FFT\\{AE_s_l}\\{i}.npy\")\n",
    "            d_n = d_n.reshape(interval,820)\n",
    "            d_n = d_n.reshape(interval,10,82)\n",
    "            d_n = d_n[:,[fq]]\n",
    "            d_n = d_n.reshape(interval,82*len(fq))\n",
    "            d_n = d_n.ravel()\n",
    "            d = np.append(d,d_n)\n",
    "\n",
    "        test_stdsc = (d - mean) / std\n",
    "\n",
    "        np.save(rf\"Z:\\200 Produced_data\\MashineLearning\\testD\\case{case}_{tool}_{test_tool}\", test_stdsc)"
   ]
  },
  {
   "cell_type": "markdown",
   "metadata": {},
   "source": [
    "## case1"
   ]
  },
  {
   "cell_type": "code",
   "execution_count": 5,
   "metadata": {},
   "outputs": [
    {
     "name": "stderr",
     "output_type": "stream",
     "text": [
      "100%|██████████| 460/460 [01:49<00:00,  4.21it/s]\n",
      "100%|██████████| 460/460 [01:52<00:00,  4.10it/s]\n",
      "100%|██████████| 460/460 [01:41<00:00,  4.53it/s]\n"
     ]
    },
    {
     "name": "stdout",
     "output_type": "stream",
     "text": [
      "Wall time: 5min 44s\n"
     ]
    }
   ],
   "source": [
    "%%time\n",
    "# case_info\n",
    "caseNum = 1\n",
    "trainTool =\"A\"\n",
    "AE_location = \"spindle\"\n",
    "fq = np.array([5,6])\n",
    "fq_num = len(fq)\n",
    "path_start = 51\n",
    "path_end = 60\n",
    "dict1 = dict(caseNum=caseNum, trainTool=trainTool, AE_location=AE_location, fq=[fq], fq_num=fq_num, path_start=path_start, path_end=path_end)\n",
    "df1 = pd.DataFrame(data=dict1)\n",
    "df1.to_csv(rf\"Z:\\200 Produced_data\\MashineLearning\\case_info.csv\", mode='a', header=False)\n",
    "\n",
    "\n",
    "# make trainD and testD\n",
    "fq = fq-1\n",
    "make_trainD(caseNum, trainTool, path_start, path_end, fq, AE_location)"
   ]
  },
  {
   "cell_type": "code",
   "execution_count": null,
   "metadata": {},
   "outputs": [],
   "source": []
  },
  {
   "cell_type": "code",
   "execution_count": null,
   "metadata": {},
   "outputs": [],
   "source": []
  },
  {
   "cell_type": "code",
   "execution_count": null,
   "metadata": {},
   "outputs": [],
   "source": []
  },
  {
   "cell_type": "code",
   "execution_count": null,
   "metadata": {},
   "outputs": [],
   "source": []
  }
 ],
 "metadata": {
  "kernelspec": {
   "display_name": "Python 3",
   "language": "python",
   "name": "python3"
  },
  "language_info": {
   "codemirror_mode": {
    "name": "ipython",
    "version": 3
   },
   "file_extension": ".py",
   "mimetype": "text/x-python",
   "name": "python",
   "nbconvert_exporter": "python",
   "pygments_lexer": "ipython3",
   "version": "3.8.3"
  }
 },
 "nbformat": 4,
 "nbformat_minor": 4
}
