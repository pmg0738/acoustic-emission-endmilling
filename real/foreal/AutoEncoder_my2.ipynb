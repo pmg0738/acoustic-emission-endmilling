{
 "cells": [
  {
   "cell_type": "code",
   "execution_count": 21,
   "metadata": {},
   "outputs": [],
   "source": [
    "import pandas as pd\n",
    "from matplotlib import pyplot as plt\n",
    "import keras\n",
    "from keras import layers\n",
    "from keras import models\n",
    "import numpy as np\n",
    "from matplotlib.ticker import ScalarFormatter\n",
    "import tensorflow as tf\n",
    "import pydot"
   ]
  },
  {
   "cell_type": "code",
   "execution_count": 22,
   "metadata": {},
   "outputs": [],
   "source": [
    "#Training Data取得\n",
    "\n",
    "train_d = []\n",
    "for i in range(200,300):\n",
    "    d = np.loadtxt(rf\"Z:\\200 実験データ加工\\20220630\\TrainingData\\FFT_Norm\\csv\\FFT_Norm_{i}.csv\", delimiter=',')\n",
    "    train_d.append(d)\n",
    "\n",
    "train_d = np.array(train_d)"
   ]
  },
  {
   "cell_type": "code",
   "execution_count": 23,
   "metadata": {},
   "outputs": [],
   "source": [
    "#Test Data取得\n",
    "\n",
    "#test_d1 : 2021年11月15日\n",
    "test_d1 = []\n",
    "\n",
    "#test_d2：2022年6月30日\n",
    "test_d2 = []\n",
    "\n",
    "for i in range(1,242):\n",
    "    d = np.loadtxt(rf\"Z:\\200 実験データ加工\\20211115---切削実験---AE+切削抵抗\\TrainingData\\FFT_Norm\\csv\\FFT_Norm_{i}.csv\")\n",
    "    test_d1.append(d)\n",
    "test_d1 = np.array(test_d1)\n",
    "\n",
    "for i in range(1,737):\n",
    "    d = np.loadtxt(rf\"Z:\\200 実験データ加工\\20220630\\TrainingData\\FFT_Norm\\csv\\FFT_Norm_{i}.csv\", delimiter=',')\n",
    "    test_d2.append(d)\n",
    "test_d2 = np.array(test_d2)"
   ]
  },
  {
   "cell_type": "code",
   "execution_count": 24,
   "metadata": {},
   "outputs": [
    {
     "name": "stdout",
     "output_type": "stream",
     "text": [
      "(100, 820)\n",
      "(241, 820)\n",
      "(736, 820)\n"
     ]
    }
   ],
   "source": [
    "print(train_d.shape)\n",
    "print(test_d1.shape)\n",
    "print(test_d2.shape)"
   ]
  },
  {
   "cell_type": "code",
   "execution_count": 25,
   "metadata": {},
   "outputs": [
    {
     "name": "stdout",
     "output_type": "stream",
     "text": [
      "Model: \"sequential_4\"\n",
      "_________________________________________________________________\n",
      " Layer (type)                Output Shape              Param #   \n",
      "=================================================================\n",
      " dense_8 (Dense)             (None, 30)                24630     \n",
      "                                                                 \n",
      " dense_9 (Dense)             (None, 820)               25420     \n",
      "                                                                 \n",
      "=================================================================\n",
      "Total params: 50,050\n",
      "Trainable params: 50,050\n",
      "Non-trainable params: 0\n",
      "_________________________________________________________________\n"
     ]
    }
   ],
   "source": [
    "encoding_dim = 30\n",
    "model = models.Sequential()\n",
    "model.add(layers.Dense(encoding_dim, activation='relu',\n",
    "                       input_shape=(train_d.shape[1],)))\n",
    "model.add(layers.Dense(train_d.shape[1],\n",
    "                       activation='sigmoid'))\n",
    "model.compile(optimizer=keras.optimizers.Adam(learning_rate=0.001), loss=\"mse\")\n",
    "model.summary()"
   ]
  },
  {
   "cell_type": "code",
   "execution_count": 26,
   "metadata": {},
   "outputs": [
    {
     "name": "stdout",
     "output_type": "stream",
     "text": [
      "Epoch 1/200\n",
      "1/1 [==============================] - 0s 458ms/step - loss: 0.1295 - val_loss: 0.1120\n",
      "Epoch 2/200\n",
      "1/1 [==============================] - 0s 50ms/step - loss: 0.1284 - val_loss: 0.1110\n",
      "Epoch 3/200\n",
      "1/1 [==============================] - 0s 33ms/step - loss: 0.1274 - val_loss: 0.1098\n",
      "Epoch 4/200\n",
      "1/1 [==============================] - 0s 42ms/step - loss: 0.1261 - val_loss: 0.1082\n",
      "Epoch 5/200\n",
      "1/1 [==============================] - 0s 42ms/step - loss: 0.1244 - val_loss: 0.1062\n",
      "Epoch 6/200\n",
      "1/1 [==============================] - 0s 39ms/step - loss: 0.1224 - val_loss: 0.1036\n",
      "Epoch 7/200\n",
      "1/1 [==============================] - 0s 46ms/step - loss: 0.1198 - val_loss: 0.1007\n",
      "Epoch 8/200\n",
      "1/1 [==============================] - 0s 43ms/step - loss: 0.1168 - val_loss: 0.0972\n",
      "Epoch 9/200\n",
      "1/1 [==============================] - 0s 40ms/step - loss: 0.1133 - val_loss: 0.0934\n",
      "Epoch 10/200\n",
      "1/1 [==============================] - 0s 40ms/step - loss: 0.1094 - val_loss: 0.0891\n",
      "Epoch 11/200\n",
      "1/1 [==============================] - 0s 40ms/step - loss: 0.1050 - val_loss: 0.0844\n",
      "Epoch 12/200\n",
      "1/1 [==============================] - 0s 42ms/step - loss: 0.1002 - val_loss: 0.0795\n",
      "Epoch 13/200\n",
      "1/1 [==============================] - 0s 45ms/step - loss: 0.0950 - val_loss: 0.0743\n",
      "Epoch 14/200\n",
      "1/1 [==============================] - 0s 42ms/step - loss: 0.0896 - val_loss: 0.0689\n",
      "Epoch 15/200\n",
      "1/1 [==============================] - 0s 39ms/step - loss: 0.0839 - val_loss: 0.0634\n",
      "Epoch 16/200\n",
      "1/1 [==============================] - 0s 46ms/step - loss: 0.0780 - val_loss: 0.0579\n",
      "Epoch 17/200\n",
      "1/1 [==============================] - 0s 41ms/step - loss: 0.0720 - val_loss: 0.0525\n",
      "Epoch 18/200\n",
      "1/1 [==============================] - 0s 42ms/step - loss: 0.0660 - val_loss: 0.0472\n",
      "Epoch 19/200\n",
      "1/1 [==============================] - 0s 41ms/step - loss: 0.0601 - val_loss: 0.0422\n",
      "Epoch 20/200\n",
      "1/1 [==============================] - 0s 41ms/step - loss: 0.0543 - val_loss: 0.0374\n",
      "Epoch 21/200\n",
      "1/1 [==============================] - 0s 49ms/step - loss: 0.0486 - val_loss: 0.0330\n",
      "Epoch 22/200\n",
      "1/1 [==============================] - 0s 45ms/step - loss: 0.0433 - val_loss: 0.0290\n",
      "Epoch 23/200\n",
      "1/1 [==============================] - 0s 41ms/step - loss: 0.0383 - val_loss: 0.0253\n",
      "Epoch 24/200\n",
      "1/1 [==============================] - 0s 44ms/step - loss: 0.0336 - val_loss: 0.0221\n",
      "Epoch 25/200\n",
      "1/1 [==============================] - 0s 43ms/step - loss: 0.0293 - val_loss: 0.0194\n",
      "Epoch 26/200\n",
      "1/1 [==============================] - 0s 41ms/step - loss: 0.0255 - val_loss: 0.0170\n",
      "Epoch 27/200\n",
      "1/1 [==============================] - 0s 41ms/step - loss: 0.0220 - val_loss: 0.0151\n",
      "Epoch 28/200\n",
      "1/1 [==============================] - 0s 43ms/step - loss: 0.0190 - val_loss: 0.0135\n",
      "Epoch 29/200\n",
      "1/1 [==============================] - 0s 55ms/step - loss: 0.0164 - val_loss: 0.0122\n",
      "Epoch 30/200\n",
      "1/1 [==============================] - 0s 54ms/step - loss: 0.0141 - val_loss: 0.0112\n",
      "Epoch 31/200\n",
      "1/1 [==============================] - 0s 70ms/step - loss: 0.0122 - val_loss: 0.0104\n",
      "Epoch 32/200\n",
      "1/1 [==============================] - 0s 51ms/step - loss: 0.0106 - val_loss: 0.0099\n",
      "Epoch 33/200\n",
      "1/1 [==============================] - 0s 38ms/step - loss: 0.0092 - val_loss: 0.0095\n",
      "Epoch 34/200\n",
      "1/1 [==============================] - 0s 49ms/step - loss: 0.0081 - val_loss: 0.0093\n",
      "Epoch 35/200\n",
      "1/1 [==============================] - 0s 45ms/step - loss: 0.0073 - val_loss: 0.0091\n",
      "Epoch 36/200\n",
      "1/1 [==============================] - 0s 46ms/step - loss: 0.0065 - val_loss: 0.0090\n",
      "Epoch 37/200\n",
      "1/1 [==============================] - 0s 43ms/step - loss: 0.0059 - val_loss: 0.0090\n",
      "Epoch 38/200\n",
      "1/1 [==============================] - 0s 45ms/step - loss: 0.0055 - val_loss: 0.0090\n",
      "Epoch 39/200\n",
      "1/1 [==============================] - 0s 41ms/step - loss: 0.0051 - val_loss: 0.0091\n",
      "Epoch 40/200\n",
      "1/1 [==============================] - 0s 40ms/step - loss: 0.0048 - val_loss: 0.0091\n",
      "Epoch 41/200\n",
      "1/1 [==============================] - 0s 37ms/step - loss: 0.0046 - val_loss: 0.0091\n",
      "Epoch 42/200\n",
      "1/1 [==============================] - 0s 41ms/step - loss: 0.0044 - val_loss: 0.0092\n"
     ]
    }
   ],
   "source": [
    "history = model.fit(\n",
    "    train_d,\n",
    "    train_d,\n",
    "    epochs=200,\n",
    "    batch_size=100,\n",
    "    validation_split=0.1,\n",
    "    callbacks=[\n",
    "        keras.callbacks.EarlyStopping(monitor=\"val_loss\", patience=5, mode=\"min\")\n",
    "    ],\n",
    ")"
   ]
  },
  {
   "cell_type": "code",
   "execution_count": 27,
   "metadata": {},
   "outputs": [
    {
     "data": {
      "image/png": "[encoded data removed]",
      "text/plain": [
       "<Figure size 432x288 with 1 Axes>"
      ]
     },
     "metadata": {
      "needs_background": "light"
     },
     "output_type": "display_data"
    }
   ],
   "source": [
    "plt.plot(history.history[\"loss\"], label=\"Training Loss\")\n",
    "plt.plot(history.history[\"val_loss\"], label=\"Validation Loss\")\n",
    "plt.legend()\n",
    "plt.show()"
   ]
  },
  {
   "cell_type": "code",
   "execution_count": 28,
   "metadata": {},
   "outputs": [
    {
     "name": "stdout",
     "output_type": "stream",
     "text": [
      "4/4 [==============================] - 0s 3ms/step\n"
     ]
    }
   ],
   "source": [
    "#predict\n",
    "train_d_pred = model.predict(train_d)\n",
    "\n",
    "#reshape(100,820,1) -> (100,820)\n",
    "train_d_pred = train_d_pred.reshape(100,820)\n",
    "\n",
    "#再構成誤差計算\n",
    "train_mae_loss = np.mean(np.square(np.abs(train_d_pred - train_d)), axis=1)\n",
    "\n",
    "\n",
    "#再構成誤差の平均値\n",
    "train_mae_loss_mean = np.mean(train_mae_loss)\n",
    "\n",
    "#再構成誤差の標準偏差\n",
    "train_mae_loss_std = np.std(train_mae_loss)\n",
    "\n",
    "#閾値設定\n",
    "#閾値T = μ+3σ (μ:train_dの再構成誤差の平均値、σ:train_dの再構成誤差のの標準偏差)\n",
    "\n",
    "threshold = train_mae_loss_mean + train_mae_loss_std * 3"
   ]
  },
  {
   "cell_type": "code",
   "execution_count": 30,
   "metadata": {},
   "outputs": [
    {
     "name": "stdout",
     "output_type": "stream",
     "text": [
      "0.004714211120973968\n",
      "0.002775901459638671\n",
      "0.013041915499889981\n"
     ]
    }
   ],
   "source": [
    "print(train_mae_loss_mean)\n",
    "print(train_mae_loss_std)\n",
    "print(threshold)"
   ]
  },
  {
   "cell_type": "code",
   "execution_count": 44,
   "metadata": {},
   "outputs": [
    {
     "name": "stdout",
     "output_type": "stream",
     "text": [
      "8/8 [==============================] - 0s 1ms/step\n",
      "23/23 [==============================] - 0s 2ms/step\n"
     ]
    }
   ],
   "source": [
    "# test1 predict & reshape & get reconstruction error\n",
    "test1_pred = model.predict(test_d1)\n",
    "test1_pred = test1_pred.reshape(241,820)\n",
    "test1_mae_loss = np.mean(np.square(np.abs(test1_pred - test_d1)), axis=1)\n",
    "\n",
    "#再構成誤差の平均値\n",
    "test1_mae_loss_mean = np.mean(test1_mae_loss)\n",
    "\n",
    "#再構成誤差の標準偏差\n",
    "test1_mae_loss_std = np.std(test1_mae_loss)\n",
    "\n",
    "#閾値T = μ+3σ (μ:train_dの再構成誤差の平均値、σ:2021年11月全データ（1~241path）の再構成誤差のの標準偏差)\n",
    "threshold2 = train_mae_loss_mean + test1_mae_loss_std * 3\n",
    "\n",
    "\n",
    "#-----------------------------------------------------------------------------------------\n",
    "\n",
    "\n",
    "\n",
    "# test2 predict & reshape & get reconstruction error\n",
    "test2_pred = model.predict(test_d2)\n",
    "test2_pred = test2_pred.reshape(736,820)\n",
    "test2_mae_loss = np.mean(np.square(np.abs(test2_pred - test_d2)), axis=1)\n",
    "\n",
    "\n",
    "#再構成誤差の平均値\n",
    "test2_mae_loss_mean = np.mean(test2_mae_loss)\n",
    "\n",
    "#再構成誤差の標準偏差\n",
    "test2_mae_loss_std = np.std(test2_mae_loss)\n",
    "\n",
    "#閾値T = μ+3σ (μ:train_dの再構成誤差の平均値、σ:2022年6月全データ（1~736path）の再構成誤差のの標準偏差)\n",
    "threshold3 = train_mae_loss_mean + test2_mae_loss_std * 3"
   ]
  },
  {
   "cell_type": "code",
   "execution_count": 32,
   "metadata": {},
   "outputs": [
    {
     "name": "stdout",
     "output_type": "stream",
     "text": [
      "(241,)\n",
      "(736,)\n"
     ]
    }
   ],
   "source": [
    "#RE は　Reconstruction Errorの略\n",
    "test1_RE = test1_mae_loss.reshape(-1)\n",
    "test2_RE = test2_mae_loss.reshape(-1)\n",
    "\n",
    "print(test1_RE.shape)\n",
    "print(test2_RE.shape)"
   ]
  },
  {
   "cell_type": "code",
   "execution_count": 33,
   "metadata": {},
   "outputs": [],
   "source": [
    "distance1 = 49*241/1000\n",
    "distance2 = 49*736/1000\n",
    "test1_distance = np.linspace(0,distance1,241)\n",
    "test2_distance = np.linspace(0,distance2,736)"
   ]
  },
  {
   "cell_type": "code",
   "execution_count": 45,
   "metadata": {},
   "outputs": [
    {
     "data": {
      "image/png": "[encoded data removed]",
      "text/plain": [
       "<Figure size 432x288 with 1 Axes>"
      ]
     },
     "metadata": {
      "needs_background": "light"
     },
     "output_type": "display_data"
    }
   ],
   "source": [
    "fig, ax = plt.subplots()\n",
    "\n",
    "ax.set_xlabel(\"cutting distance (m)\")\n",
    "ax.set_ylabel(\"Reconstruction Error\")\n",
    "ax.axvspan(test2_distance[200], test2_distance[300], color=\"gray\", alpha=0.3)\n",
    "\n",
    "plt.plot(test1_distance, test1_RE, label=\"test1\")\n",
    "plt.plot(test2_distance, test2_RE, label=\"test2\")\n",
    "\n",
    "plt.axhline(y = threshold, color='red', linestyle = '-', label=\"Threshold1\")\n",
    "plt.axhline(y = threshold2, color='green', linestyle = 'dotted', label=\"Threshold2\")\n",
    "plt.axhline(y = threshold3, color='green', linestyle = 'dashed', label=\"Threshold3\")\n",
    "# plt.axhline(y = threshold4, color='black', linestyle = 'dotted', label=\"Threshold2\")\n",
    "# plt.axhline(y = threshold5, color='black', linestyle = 'dashed', label=\"Threshold3\")\n",
    "\n",
    "ax.yaxis.set_major_formatter(ScalarFormatter(useMathText=True))\n",
    "ax.ticklabel_format(style=\"sci\",  axis=\"y\",scilimits=(0,0))\n",
    "\n",
    "\n",
    "plt.legend()\n",
    "# plt.savefig(\"RE_test2_simple_model.png\", dpi=300)\n",
    "plt.show()"
   ]
  },
  {
   "cell_type": "code",
   "execution_count": 35,
   "metadata": {},
   "outputs": [],
   "source": [
    "#モデル保存\n",
    "model.save(\"nn_simple.h5\")  # .h5 = HDF5"
   ]
  },
  {
   "cell_type": "code",
   "execution_count": 40,
   "metadata": {},
   "outputs": [
    {
     "data": {
      "image/png": "[encoded data removed]",
      "text/plain": [
       "<IPython.core.display.Image object>"
      ]
     },
     "execution_count": 40,
     "metadata": {},
     "output_type": "execute_result"
    }
   ],
   "source": [
    "#モデルの可視化\n",
    "from keras.utils import plot_model\n",
    "plot_model(model, to_file='modelsimple_with_shape.png', show_shapes=True)\n",
    "plot_model(model, to_file='modelsimple_without_shape.png', show_shapes=False)"
   ]
  },
  {
   "cell_type": "code",
   "execution_count": 36,
   "metadata": {},
   "outputs": [
    {
     "data": {
      "text/plain": [
       "[<matplotlib.lines.Line2D at 0x25a8dfa59a0>]"
      ]
     },
     "execution_count": 36,
     "metadata": {},
     "output_type": "execute_result"
    },
    {
     "data": {
      "image/png": "[encoded data removed]",
      "text/plain": [
       "<Figure size 432x288 with 1 Axes>"
      ]
     },
     "metadata": {
      "needs_background": "light"
     },
     "output_type": "display_data"
    }
   ],
   "source": [
    "anomalies2 = test2_RE > threshold\n",
    "plt.plot(anomalies2)"
   ]
  },
  {
   "cell_type": "code",
   "execution_count": 37,
   "metadata": {},
   "outputs": [
    {
     "data": {
      "text/plain": [
       "(array([291, 408], dtype=int64),)"
      ]
     },
     "execution_count": 37,
     "metadata": {},
     "output_type": "execute_result"
    }
   ],
   "source": [
    "ind = np.where(anomalies2 == 1)\n",
    "ind"
   ]
  },
  {
   "cell_type": "code",
   "execution_count": null,
   "metadata": {},
   "outputs": [],
   "source": []
  }
 ],
 "metadata": {
  "kernelspec": {
   "display_name": "Python 3",
   "language": "python",
   "name": "python3"
  },
  "language_info": {
   "codemirror_mode": {
    "name": "ipython",
    "version": 3
   },
   "file_extension": ".py",
   "mimetype": "text/x-python",
   "name": "python",
   "nbconvert_exporter": "python",
   "pygments_lexer": "ipython3",
   "version": "3.8.3"
  }
 },
 "nbformat": 4,
 "nbformat_minor": 4
}
