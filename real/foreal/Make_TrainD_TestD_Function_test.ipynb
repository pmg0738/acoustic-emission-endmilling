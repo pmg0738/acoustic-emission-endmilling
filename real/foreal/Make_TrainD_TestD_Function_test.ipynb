{
 "cells": [
  {
   "cell_type": "code",
   "execution_count": 1,
   "metadata": {},
   "outputs": [],
   "source": [
    "from sklearn.preprocessing import StandardScaler,MinMaxScaler\n",
    "from loadTDMS import *\n",
    "from fft_test import *\n",
    "import numpy as np\n",
    "from tqdm import tqdm"
   ]
  },
  {
   "cell_type": "code",
   "execution_count": 2,
   "metadata": {},
   "outputs": [],
   "source": [
    "# Normalization class\n",
    "mmsc=MinMaxScaler()\n",
    "# Standardize class\n",
    "stdsc = StandardScaler()"
   ]
  },
  {
   "cell_type": "markdown",
   "metadata": {},
   "source": [
    "### how to handle 3d nparray\n",
    "get items from list of 2d co-ordinates  \n",
    "https://stackoverflow.com/questions/73369106/numpy-3d-array-get-items-from-a-list-of-2d-co-ordinates"
   ]
  },
  {
   "cell_type": "code",
   "execution_count": 187,
   "metadata": {},
   "outputs": [],
   "source": [
    "img = np.random.randint(1,10,(3,10,8))\n",
    "crds = np.array([[1,3], [2,2]])"
   ]
  },
  {
   "cell_type": "code",
   "execution_count": 188,
   "metadata": {},
   "outputs": [
    {
     "data": {
      "text/plain": [
       "array([[[9, 5, 9, 6, 3, 9, 3, 2],\n",
       "        [8, 6, 4, 6, 2, 5, 1, 8],\n",
       "        [2, 1, 1, 9, 1, 3, 2, 9],\n",
       "        [9, 2, 2, 8, 2, 7, 3, 7],\n",
       "        [5, 1, 5, 5, 4, 1, 5, 7],\n",
       "        [9, 5, 5, 8, 4, 5, 2, 3],\n",
       "        [9, 7, 7, 3, 9, 6, 1, 6],\n",
       "        [9, 8, 1, 3, 4, 5, 2, 1],\n",
       "        [8, 9, 8, 8, 5, 1, 2, 5],\n",
       "        [7, 3, 5, 2, 6, 3, 5, 5]],\n",
       "\n",
       "       [[8, 8, 7, 4, 5, 5, 2, 8],\n",
       "        [2, 5, 5, 9, 6, 3, 9, 8],\n",
       "        [8, 3, 1, 2, 2, 7, 3, 4],\n",
       "        [4, 2, 5, 7, 5, 7, 5, 9],\n",
       "        [9, 7, 4, 8, 8, 9, 2, 2],\n",
       "        [5, 7, 7, 5, 6, 1, 3, 2],\n",
       "        [5, 4, 1, 2, 2, 5, 2, 3],\n",
       "        [4, 2, 6, 2, 8, 9, 3, 5],\n",
       "        [3, 7, 2, 4, 2, 8, 2, 7],\n",
       "        [7, 9, 5, 6, 1, 9, 9, 8]],\n",
       "\n",
       "       [[4, 3, 2, 3, 2, 6, 9, 3],\n",
       "        [1, 7, 9, 2, 4, 7, 2, 4],\n",
       "        [4, 5, 2, 6, 3, 5, 6, 2],\n",
       "        [5, 3, 3, 6, 5, 3, 4, 8],\n",
       "        [8, 7, 5, 4, 7, 9, 1, 6],\n",
       "        [8, 8, 5, 9, 4, 5, 4, 5],\n",
       "        [3, 1, 9, 2, 5, 9, 1, 1],\n",
       "        [2, 8, 1, 4, 3, 2, 3, 8],\n",
       "        [7, 6, 3, 4, 7, 2, 9, 5],\n",
       "        [5, 1, 8, 3, 4, 6, 2, 1]]])"
      ]
     },
     "execution_count": 188,
     "metadata": {},
     "output_type": "execute_result"
    }
   ],
   "source": [
    "img"
   ]
  },
  {
   "cell_type": "code",
   "execution_count": 189,
   "metadata": {},
   "outputs": [
    {
     "data": {
      "text/plain": [
       "array([[4, 2, 5, 7, 5, 7, 5, 9],\n",
       "       [4, 5, 2, 6, 3, 5, 6, 2]])"
      ]
     },
     "execution_count": 189,
     "metadata": {},
     "output_type": "execute_result"
    }
   ],
   "source": [
    "img[crds[:,0],crds[:,1]]"
   ]
  },
  {
   "cell_type": "code",
   "execution_count": 264,
   "metadata": {},
   "outputs": [],
   "source": [
    "d = np.load(rf\"Z:\\200 Produced_data\\20230113+0117\\FFT\\spindle\\121.npy\")\n",
    "d_n = d.reshape(1200,820)\n",
    "d_n = d_n.reshape(1200,10,82)"
   ]
  },
  {
   "cell_type": "code",
   "execution_count": 265,
   "metadata": {},
   "outputs": [],
   "source": [
    "fq = np.array([1,10])\n",
    "fq = fq -1"
   ]
  },
  {
   "cell_type": "code",
   "execution_count": 266,
   "metadata": {},
   "outputs": [
    {
     "data": {
      "text/plain": [
       "(1200, 1, 2, 82)"
      ]
     },
     "execution_count": 266,
     "metadata": {},
     "output_type": "execute_result"
    }
   ],
   "source": [
    "d_n = d_n[:,[fq]]\n",
    "d_n.shape"
   ]
  },
  {
   "cell_type": "code",
   "execution_count": 267,
   "metadata": {},
   "outputs": [
    {
     "data": {
      "text/plain": [
       "(1200, 164)"
      ]
     },
     "execution_count": 267,
     "metadata": {},
     "output_type": "execute_result"
    }
   ],
   "source": [
    "d_n = d_n.reshape(1200,82*len(fq))\n",
    "d_n.shape"
   ]
  },
  {
   "cell_type": "code",
   "execution_count": 276,
   "metadata": {},
   "outputs": [
    {
     "data": {
      "text/plain": [
       "(196800,)"
      ]
     },
     "execution_count": 276,
     "metadata": {},
     "output_type": "execute_result"
    }
   ],
   "source": [
    "d_n = d_n.ravel()\n",
    "d_n.shape"
   ]
  },
  {
   "cell_type": "code",
   "execution_count": 233,
   "metadata": {},
   "outputs": [],
   "source": [
    "dd = np.load(rf\"Z:\\200 Produced_data\\20230113+0117\\train_data\\TrainData_A_51-60path_spindle_200-300kHz\\_TrainData_A_51-60path_spindle_200-300kHz.npy\")"
   ]
  },
  {
   "cell_type": "code",
   "execution_count": 242,
   "metadata": {},
   "outputs": [
    {
     "data": {
      "text/plain": [
       "(1968000, 1)"
      ]
     },
     "execution_count": 242,
     "metadata": {},
     "output_type": "execute_result"
    }
   ],
   "source": [
    "dd.shape"
   ]
  },
  {
   "cell_type": "code",
   "execution_count": 275,
   "metadata": {},
   "outputs": [
    {
     "data": {
      "text/plain": [
       "1968000"
      ]
     },
     "execution_count": 275,
     "metadata": {},
     "output_type": "execute_result"
    }
   ],
   "source": [
    "1200*164*10"
   ]
  },
  {
   "cell_type": "code",
   "execution_count": null,
   "metadata": {},
   "outputs": [],
   "source": [
    "d_nn[]"
   ]
  },
  {
   "cell_type": "code",
   "execution_count": 138,
   "metadata": {},
   "outputs": [
    {
     "data": {
      "text/plain": [
       "array([[[8, 3, 9, 5, 2],\n",
       "        [2, 1, 6, 5, 6],\n",
       "        [5, 5, 9, 3, 8]],\n",
       "\n",
       "       [[1, 1, 8, 2, 7],\n",
       "        [8, 9, 2, 4, 7],\n",
       "        [1, 5, 7, 7, 2]]])"
      ]
     },
     "execution_count": 138,
     "metadata": {},
     "output_type": "execute_result"
    }
   ],
   "source": [
    "a = np.random.randint(1,10, (2,3,5))\n",
    "a"
   ]
  },
  {
   "cell_type": "code",
   "execution_count": 149,
   "metadata": {},
   "outputs": [
    {
     "data": {
      "text/plain": [
       "array([[8, 3, 9, 5, 2],\n",
       "       [2, 1, 6, 5, 6],\n",
       "       [5, 5, 9, 3, 8]])"
      ]
     },
     "execution_count": 149,
     "metadata": {},
     "output_type": "execute_result"
    }
   ],
   "source": [
    "a[0]"
   ]
  },
  {
   "cell_type": "code",
   "execution_count": 154,
   "metadata": {},
   "outputs": [],
   "source": [
    "crds = np.array([[1,3], [2,2]])"
   ]
  },
  {
   "cell_type": "code",
   "execution_count": 180,
   "metadata": {},
   "outputs": [],
   "source": [
    "img = np.random.randint(1,10,(3,10,8))"
   ]
  },
  {
   "cell_type": "code",
   "execution_count": 181,
   "metadata": {},
   "outputs": [
    {
     "data": {
      "text/plain": [
       "array([[[3, 2, 2, 7, 1, 1, 4, 8],\n",
       "        [6, 5, 5, 4, 9, 5, 3, 1],\n",
       "        [1, 3, 5, 8, 4, 1, 9, 2],\n",
       "        [4, 8, 2, 6, 5, 1, 8, 2],\n",
       "        [6, 1, 9, 5, 7, 2, 2, 6],\n",
       "        [5, 9, 1, 4, 6, 2, 3, 1],\n",
       "        [4, 9, 3, 3, 3, 7, 1, 5],\n",
       "        [4, 6, 9, 1, 8, 8, 3, 1],\n",
       "        [6, 3, 1, 6, 9, 8, 4, 7],\n",
       "        [4, 9, 6, 1, 7, 3, 9, 2]],\n",
       "\n",
       "       [[2, 1, 3, 8, 4, 5, 1, 6],\n",
       "        [4, 9, 5, 5, 9, 9, 2, 1],\n",
       "        [1, 3, 7, 4, 1, 1, 2, 9],\n",
       "        [6, 6, 7, 9, 1, 9, 4, 4],\n",
       "        [6, 8, 2, 5, 1, 8, 7, 2],\n",
       "        [1, 7, 7, 1, 8, 2, 5, 4],\n",
       "        [5, 8, 3, 2, 7, 9, 1, 1],\n",
       "        [1, 6, 1, 4, 7, 8, 1, 5],\n",
       "        [7, 7, 2, 8, 4, 7, 3, 1],\n",
       "        [6, 6, 8, 9, 4, 2, 1, 5]],\n",
       "\n",
       "       [[5, 1, 8, 5, 8, 8, 9, 8],\n",
       "        [4, 1, 5, 7, 6, 8, 2, 7],\n",
       "        [3, 5, 3, 5, 7, 4, 5, 1],\n",
       "        [3, 8, 2, 4, 5, 7, 2, 8],\n",
       "        [7, 2, 1, 8, 5, 3, 3, 9],\n",
       "        [9, 8, 2, 3, 1, 7, 2, 3],\n",
       "        [8, 8, 7, 6, 4, 4, 3, 6],\n",
       "        [7, 4, 9, 1, 6, 9, 9, 9],\n",
       "        [8, 9, 9, 7, 5, 4, 4, 5],\n",
       "        [1, 2, 1, 6, 8, 6, 4, 3]]])"
      ]
     },
     "execution_count": 181,
     "metadata": {},
     "output_type": "execute_result"
    }
   ],
   "source": [
    "img"
   ]
  },
  {
   "cell_type": "code",
   "execution_count": 176,
   "metadata": {},
   "outputs": [
    {
     "data": {
      "text/plain": [
       "array([1, 2])"
      ]
     },
     "execution_count": 176,
     "metadata": {},
     "output_type": "execute_result"
    }
   ],
   "source": [
    "crds[:,0]"
   ]
  },
  {
   "cell_type": "code",
   "execution_count": 177,
   "metadata": {},
   "outputs": [
    {
     "data": {
      "text/plain": [
       "array([3, 2])"
      ]
     },
     "execution_count": 177,
     "metadata": {},
     "output_type": "execute_result"
    }
   ],
   "source": [
    "crds[:,1]"
   ]
  },
  {
   "cell_type": "code",
   "execution_count": 185,
   "metadata": {},
   "outputs": [],
   "source": [
    "fq = [0,1,2]"
   ]
  },
  {
   "cell_type": "code",
   "execution_count": 193,
   "metadata": {},
   "outputs": [
    {
     "data": {
      "text/plain": [
       "array([[[[9, 5, 9, 6, 3, 9, 3, 2],\n",
       "         [8, 6, 4, 6, 2, 5, 1, 8],\n",
       "         [2, 1, 1, 9, 1, 3, 2, 9]]],\n",
       "\n",
       "\n",
       "       [[[8, 8, 7, 4, 5, 5, 2, 8],\n",
       "         [2, 5, 5, 9, 6, 3, 9, 8],\n",
       "         [8, 3, 1, 2, 2, 7, 3, 4]]],\n",
       "\n",
       "\n",
       "       [[[4, 3, 2, 3, 2, 6, 9, 3],\n",
       "         [1, 7, 9, 2, 4, 7, 2, 4],\n",
       "         [4, 5, 2, 6, 3, 5, 6, 2]]]])"
      ]
     },
     "execution_count": 193,
     "metadata": {},
     "output_type": "execute_result"
    }
   ],
   "source": [
    "# img[crds[:,0],crds[:,1]]\n",
    "img[:,[fq]]\n",
    "# img[crds[:,0],crds[:,1]]"
   ]
  },
  {
   "cell_type": "code",
   "execution_count": 109,
   "metadata": {},
   "outputs": [],
   "source": [
    "d_nn = d_n.reshape(1200,10,82)"
   ]
  },
  {
   "cell_type": "markdown",
   "metadata": {},
   "source": [
    "## Select arguments\n",
    "- tool : date\n",
    "  - A : 20230113+0117\n",
    "  - B : 20230120 \n",
    "  - C : 20230123  \n",
    "- path_range  \n",
    "  ex) 51-60path  \n",
    "\n",
    "- frequency\n",
    "  ex) 200-300kHz\n",
    " \n",
    "- AE_sensor_location\n",
    "  - spindle\n",
    "  - work"
   ]
  },
  {
   "cell_type": "code",
   "execution_count": 8,
   "metadata": {},
   "outputs": [],
   "source": [
    "def make_trainD(case, tool, start, end, fq, AE_s_l):\n",
    "    \n",
    "    if tool == \"A\":\n",
    "        date = \"20230113+0117\"\n",
    "        interval = 1200\n",
    "    if tool == \"B\":\n",
    "        date = \"20230120\"\n",
    "        interval = 1200\n",
    "    if tool == \"C\":\n",
    "        date = \"20230123\"\n",
    "        interval = 1023\n",
    "    \n",
    "    d = np.array([])\n",
    "\n",
    "    for i in range(start,end+1):\n",
    "        d_n = np.load(rf\"Z:\\200 Produced_data\\{date}\\FFT\\{AE_s_l}\\{i}.npy\")\n",
    "        d_n = d_n.reshape(interval,820)\n",
    "        d_n = d_n.reshape(interval,10,82)\n",
    "        d_n = d_n[:,[fq]]\n",
    "        d_n = d_n.reshape(interval,82*len(fq))\n",
    "        d_n = d_n.ravel()\n",
    "        d = np.append(d,d_n)\n",
    "    \n",
    "    d_stdsc = stdsc.fit_transform(d.reshape(-1,1))\n",
    "    np.save(rf\"Z:\\200 Produced_data\\MashineLearning\\trainD\\case{case}_{tool}\",d_stdsc)\n",
    "    np.save(rf\"Z:\\200 Produced_data\\MashineLearning\\trainD\\case{case}_{tool}_mean\",stdsc.mean_)\n",
    "    np.save(rf\"Z:\\200 Produced_data\\MashineLearning\\trainD\\case{case}_{tool}_std\",np.sqrt(stdsc.var_))\n",
    "    \n",
    "\n",
    "    make_testD(case, tool, fq, AE_s_l)"
   ]
  },
  {
   "cell_type": "code",
   "execution_count": 9,
   "metadata": {},
   "outputs": [],
   "source": [
    "def make_testD(case, tool, fq, AE_s_l):\n",
    "    \n",
    "    mean = np.load(rf\"Z:\\200 Produced_data\\MashineLearning\\trainD\\case{case}_{tool}_mean.npy\")\n",
    "    std = np.load(rf\"Z:\\200 Produced_data\\MashineLearning\\trainD\\case{case}_{tool}_std.npy\")\n",
    "    \n",
    "    for test_tool in [\"A\",\"B\",\"C\"]:\n",
    "        if test_tool == \"A\":\n",
    "            date = \"20230113+0117\"\n",
    "            interval = 1200\n",
    "        if test_tool == \"B\":\n",
    "            date = \"20230120\"\n",
    "            interval = 1200\n",
    "        if test_tool == \"C\":\n",
    "            date = \"20230123\"\n",
    "            interval = 1023\n",
    "    \n",
    "        d = np.array([])\n",
    "\n",
    "        for i in tqdm(range(1,461)):\n",
    "            d_n = np.load(rf\"Z:\\200 Produced_data\\{date}\\FFT\\{AE_s_l}\\{i}.npy\")\n",
    "            d_n = d_n.reshape(interval,820)\n",
    "            d_n = d_n.reshape(interval,10,82)\n",
    "            d_n = d_n[:,[fq]]\n",
    "            d_n = d_n.reshape(interval,82*len(fq))\n",
    "            d_n = d_n.ravel()\n",
    "            d = np.append(d,d_n)\n",
    "\n",
    "        test_stdsc = (d - mean) / std\n",
    "\n",
    "        np.save(rf\"Z:\\200 Produced_data\\MashineLearning\\testD\\case{case}_{test_tool}\", test_stdsc)"
   ]
  },
  {
   "cell_type": "code",
   "execution_count": 10,
   "metadata": {},
   "outputs": [
    {
     "name": "stderr",
     "output_type": "stream",
     "text": [
      "100%|██████████| 460/460 [01:51<00:00,  4.13it/s]\n",
      "100%|██████████| 460/460 [02:13<00:00,  3.45it/s]\n",
      "100%|██████████| 460/460 [01:53<00:00,  4.05it/s]\n"
     ]
    },
    {
     "name": "stdout",
     "output_type": "stream",
     "text": [
      "Wall time: 6min 19s\n"
     ]
    }
   ],
   "source": [
    "%%time\n",
    "fq = np.array([5,6])\n",
    "fq = fq-1\n",
    "a = make_trainD(1,\"A\",51,60,fq,\"spindle\")"
   ]
  },
  {
   "cell_type": "code",
   "execution_count": 23,
   "metadata": {},
   "outputs": [],
   "source": [
    "case1_A = np.load(rf\"Z:\\200 Produced_data\\MashineLearning\\testD\\case1_A.npy\")\n",
    "case1_B = np.load(rf\"Z:\\200 Produced_data\\MashineLearning\\testD\\case1_B.npy\")\n",
    "case1_C = np.load(rf\"Z:\\200 Produced_data\\MashineLearning\\testD\\case1_C.npy\")"
   ]
  },
  {
   "cell_type": "code",
   "execution_count": 13,
   "metadata": {},
   "outputs": [
    {
     "data": {
      "text/plain": [
       "90528000"
      ]
     },
     "execution_count": 13,
     "metadata": {},
     "output_type": "execute_result"
    }
   ],
   "source": [
    "len(case1_A)"
   ]
  },
  {
   "cell_type": "code",
   "execution_count": 19,
   "metadata": {},
   "outputs": [
    {
     "data": {
      "text/plain": [
       "470580.0"
      ]
     },
     "execution_count": 19,
     "metadata": {},
     "output_type": "execute_result"
    }
   ],
   "source": [
    "len(case1_C)/164"
   ]
  },
  {
   "cell_type": "code",
   "execution_count": 24,
   "metadata": {},
   "outputs": [
    {
     "data": {
      "text/plain": [
       "[<matplotlib.lines.Line2D at 0x270df28f6d0>]"
      ]
     },
     "execution_count": 24,
     "metadata": {},
     "output_type": "execute_result"
    }
   ],
   "source": [
    "%matplotlib qt\n",
    "plt.plot(case1_B)"
   ]
  },
  {
   "cell_type": "code",
   "execution_count": 26,
   "metadata": {},
   "outputs": [
    {
     "data": {
      "text/plain": [
       "[<matplotlib.lines.Line2D at 0x270abbb0040>]"
      ]
     },
     "execution_count": 26,
     "metadata": {},
     "output_type": "execute_result"
    }
   ],
   "source": [
    "plt.plot(case1_B[:164])"
   ]
  },
  {
   "cell_type": "code",
   "execution_count": 27,
   "metadata": {},
   "outputs": [],
   "source": [
    "train_d = np.load(rf\"Z:\\200 Produced_data\\MashineLearning\\trainD\\case1_A.npy\")"
   ]
  },
  {
   "cell_type": "code",
   "execution_count": 29,
   "metadata": {},
   "outputs": [
    {
     "data": {
      "text/plain": [
       "12000.0"
      ]
     },
     "execution_count": 29,
     "metadata": {},
     "output_type": "execute_result"
    }
   ],
   "source": [
    "len(train_d)/164"
   ]
  },
  {
   "cell_type": "code",
   "execution_count": null,
   "metadata": {},
   "outputs": [],
   "source": []
  }
 ],
 "metadata": {
  "kernelspec": {
   "display_name": "Python 3",
   "language": "python",
   "name": "python3"
  },
  "language_info": {
   "codemirror_mode": {
    "name": "ipython",
    "version": 3
   },
   "file_extension": ".py",
   "mimetype": "text/x-python",
   "name": "python",
   "nbconvert_exporter": "python",
   "pygments_lexer": "ipython3",
   "version": "3.8.3"
  }
 },
 "nbformat": 4,
 "nbformat_minor": 4
}
