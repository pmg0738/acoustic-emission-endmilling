{
 "cells": [
  {
   "cell_type": "code",
   "execution_count": 2,
   "metadata": {},
   "outputs": [],
   "source": [
    "import keras\n",
    "from keras import layers\n",
    "import tensorflow as tf\n",
    "import pydot\n",
    "\n",
    "from loadTDMS import *\n",
    "from fft_test import *\n",
    "\n",
    "import numpy as np\n",
    "import pandas as pd\n",
    "\n",
    "import seaborn as sns\n",
    "import matplotlib.pyplot as plt\n",
    "from matplotlib.ticker import ScalarFormatter\n",
    "\n",
    "from tqdm import tqdm"
   ]
  },
  {
   "cell_type": "markdown",
   "metadata": {},
   "source": [
    "### Select caseNum, trainTool"
   ]
  },
  {
   "cell_type": "code",
   "execution_count": 14,
   "metadata": {},
   "outputs": [],
   "source": [
    "caseNum = 1\n",
    "trainTool = \"A\""
   ]
  },
  {
   "cell_type": "code",
   "execution_count": 15,
   "metadata": {},
   "outputs": [],
   "source": [
    "info = pd.read_csv(rf\"Z:\\200 Produced_data\\MashineLearning\\case_info.csv\")"
   ]
  },
  {
   "cell_type": "code",
   "execution_count": 16,
   "metadata": {
    "scrolled": false
   },
   "outputs": [
    {
     "data": {
      "text/html": [
       "<div>\n",
       "<style scoped>\n",
       "    .dataframe tbody tr th:only-of-type {\n",
       "        vertical-align: middle;\n",
       "    }\n",
       "\n",
       "    .dataframe tbody tr th {\n",
       "        vertical-align: top;\n",
       "    }\n",
       "\n",
       "    .dataframe thead th {\n",
       "        text-align: right;\n",
       "    }\n",
       "</style>\n",
       "<table border=\"1\" class=\"dataframe\">\n",
       "  <thead>\n",
       "    <tr style=\"text-align: right;\">\n",
       "      <th></th>\n",
       "      <th>Unnamed: 0</th>\n",
       "      <th>caseNum</th>\n",
       "      <th>trainTool</th>\n",
       "      <th>AE_location</th>\n",
       "      <th>fq</th>\n",
       "      <th>fq_num</th>\n",
       "      <th>path_start</th>\n",
       "      <th>path_end</th>\n",
       "    </tr>\n",
       "  </thead>\n",
       "  <tbody>\n",
       "    <tr>\n",
       "      <th>0</th>\n",
       "      <td>0</td>\n",
       "      <td>1</td>\n",
       "      <td>A</td>\n",
       "      <td>spindle</td>\n",
       "      <td>[5 6]</td>\n",
       "      <td>2</td>\n",
       "      <td>51</td>\n",
       "      <td>60</td>\n",
       "    </tr>\n",
       "  </tbody>\n",
       "</table>\n",
       "</div>"
      ],
      "text/plain": [
       "   Unnamed: 0  caseNum trainTool AE_location     fq  fq_num  path_start  \\\n",
       "0           0        1         A     spindle  [5 6]       2          51   \n",
       "\n",
       "   path_end  \n",
       "0        60  "
      ]
     },
     "execution_count": 16,
     "metadata": {},
     "output_type": "execute_result"
    }
   ],
   "source": [
    "# info[info['caseNum'] == caseNum and info['trainTool'] == trainTool]\n",
    "info = info[info['caseNum'] == caseNum]\n",
    "info = info[info['trainTool'] == trainTool]\n",
    "info"
   ]
  },
  {
   "cell_type": "markdown",
   "metadata": {},
   "source": [
    "### Get fq_num, path_start, path_end, interval"
   ]
  },
  {
   "cell_type": "code",
   "execution_count": 34,
   "metadata": {
    "scrolled": true
   },
   "outputs": [
    {
     "name": "stdout",
     "output_type": "stream",
     "text": [
      "fq_num: 164\n",
      "path_start: 51\n",
      "path_end: 60\n",
      "total_path: 10\n",
      "interval: 1200\n"
     ]
    }
   ],
   "source": [
    "fq_num = info['fq_num'][0]\n",
    "fq_num = fq_num*82\n",
    "print(f\"fq_num: {fq_num}\")\n",
    "\n",
    "path_start = info['path_start'][0]\n",
    "print(f\"path_start: {path_start}\")\n",
    "\n",
    "path_end = info['path_end'][0]\n",
    "print(f\"path_end: {path_end}\")\n",
    "\n",
    "total_path = path_end - path_start + 1\n",
    "print(f\"total_path: {total_path}\")\n",
    "\n",
    "if trainTool ==\"A\":\n",
    "    interval = 1200\n",
    "if trainTool ==\"B\":\n",
    "    interval = 1200\n",
    "if trainTool ==\"C\":\n",
    "    interval = 1023\n",
    "\n",
    "print(f\"interval: {interval}\")"
   ]
  },
  {
   "cell_type": "markdown",
   "metadata": {},
   "source": [
    "### Load TrainD"
   ]
  },
  {
   "cell_type": "code",
   "execution_count": 39,
   "metadata": {},
   "outputs": [],
   "source": [
    "# Load Train D\n",
    "train_d = np.load(rf\"Z:\\200 Produced_data\\MashineLearning\\trainD\\case{caseNum}_{trainTool}.npy\")"
   ]
  },
  {
   "cell_type": "code",
   "execution_count": 40,
   "metadata": {},
   "outputs": [
    {
     "data": {
      "text/plain": [
       "12000.0"
      ]
     },
     "execution_count": 40,
     "metadata": {},
     "output_type": "execute_result"
    }
   ],
   "source": [
    "# print Train data's set number\n",
    "len(train_d)/fq_num"
   ]
  },
  {
   "cell_type": "markdown",
   "metadata": {},
   "source": [
    "### Load TestD"
   ]
  },
  {
   "cell_type": "code",
   "execution_count": 42,
   "metadata": {},
   "outputs": [],
   "source": [
    "test_A = np.load(rf\"Z:\\200 Produced_data\\MashineLearning\\testD\\case{caseNum}_{trainTool}_A.npy\")\n",
    "test_B = np.load(rf\"Z:\\200 Produced_data\\MashineLearning\\testD\\case{caseNum}_{trainTool}_B.npy\")\n",
    "test_C = np.load(rf\"Z:\\200 Produced_data\\MashineLearning\\testD\\case{caseNum}_{trainTool}_C.npy\")"
   ]
  },
  {
   "cell_type": "code",
   "execution_count": 43,
   "metadata": {
    "scrolled": true
   },
   "outputs": [
    {
     "name": "stdout",
     "output_type": "stream",
     "text": [
      "552000.0\n",
      "552000.0\n",
      "470580.0\n"
     ]
    }
   ],
   "source": [
    "print(len(test_A)/164) #552000 sets\n",
    "print(len(test_B)/164) #552000 sets\n",
    "print(len(test_C)/164) #470580 sets"
   ]
  },
  {
   "cell_type": "markdown",
   "metadata": {},
   "source": [
    "### reshape for train and test"
   ]
  },
  {
   "cell_type": "code",
   "execution_count": 44,
   "metadata": {},
   "outputs": [],
   "source": [
    "# reshape for train and test\n",
    "# 164 = fft 200-300kHzのampの返り値の数（0-500kHz:820個) \n",
    "train_d = train_d.reshape(int(len(train_d)/fq_num),fq_num)\n",
    "test_A = test_A.reshape(int(len(test_A)/fq_num),fq_num)\n",
    "test_B = test_B.reshape(int(len(test_B)/fq_num),fq_num)\n",
    "test_C = test_C.reshape(int(len(test_C)/fq_num),fq_num)"
   ]
  },
  {
   "cell_type": "code",
   "execution_count": 45,
   "metadata": {},
   "outputs": [
    {
     "name": "stdout",
     "output_type": "stream",
     "text": [
      "(12000, 164)\n",
      "(552000, 164)\n",
      "(552000, 164)\n",
      "(470580, 164)\n"
     ]
    }
   ],
   "source": [
    "print(train_d.shape)\n",
    "print(test_A.shape)\n",
    "print(test_B.shape)\n",
    "print(test_C.shape)"
   ]
  },
  {
   "cell_type": "code",
   "execution_count": 46,
   "metadata": {},
   "outputs": [
    {
     "data": {
      "text/plain": [
       "164"
      ]
     },
     "execution_count": 46,
     "metadata": {},
     "output_type": "execute_result"
    }
   ],
   "source": [
    "train_d.shape[1]"
   ]
  },
  {
   "cell_type": "markdown",
   "metadata": {},
   "source": [
    "### Define Model"
   ]
  },
  {
   "cell_type": "code",
   "execution_count": 47,
   "metadata": {},
   "outputs": [
    {
     "name": "stdout",
     "output_type": "stream",
     "text": [
      "Model: \"sequential\"\n",
      "_________________________________________________________________\n",
      " Layer (type)                Output Shape              Param #   \n",
      "=================================================================\n",
      " conv1d (Conv1D)             (None, 164, 32)           256       \n",
      "                                                                 \n",
      " dropout (Dropout)           (None, 164, 32)           0         \n",
      "                                                                 \n",
      " conv1d_1 (Conv1D)           (None, 164, 16)           3600      \n",
      "                                                                 \n",
      " conv1d_transpose (Conv1DTra  (None, 164, 16)          1808      \n",
      " nspose)                                                         \n",
      "                                                                 \n",
      " dropout_1 (Dropout)         (None, 164, 16)           0         \n",
      "                                                                 \n",
      " conv1d_transpose_1 (Conv1DT  (None, 164, 32)          3616      \n",
      " ranspose)                                                       \n",
      "                                                                 \n",
      " conv1d_transpose_2 (Conv1DT  (None, 164, 1)           225       \n",
      " ranspose)                                                       \n",
      "                                                                 \n",
      "=================================================================\n",
      "Total params: 9,505\n",
      "Trainable params: 9,505\n",
      "Non-trainable params: 0\n",
      "_________________________________________________________________\n"
     ]
    }
   ],
   "source": [
    "#モデルの定義\n",
    "model =keras.initializers.Initializer()\n",
    "model = keras.Sequential(\n",
    "    [\n",
    "        layers.Input(shape=(train_d.shape[1],1)),\n",
    "        layers.Conv1D(\n",
    "            filters=32, kernel_size=7, padding=\"same\", strides=1, activation=\"relu\"\n",
    "        ),\n",
    "        layers.Dropout(rate=0.2),\n",
    "        layers.Conv1D(\n",
    "            filters=16, kernel_size=7, padding=\"same\", strides=1, activation=\"relu\"\n",
    "        ),\n",
    "        layers.Conv1DTranspose(\n",
    "            filters=16, kernel_size=7, padding=\"same\", strides=1, activation=\"relu\"\n",
    "        ),\n",
    "        layers.Dropout(rate=0.2),\n",
    "        layers.Conv1DTranspose(\n",
    "            filters=32, kernel_size=7, padding=\"same\", strides=1, activation=\"relu\"\n",
    "        ),\n",
    "        layers.Conv1DTranspose(filters=1, kernel_size=7, padding=\"same\"),\n",
    "    ]\n",
    ")\n",
    "model.compile(optimizer=keras.optimizers.Adam(learning_rate=0.001), loss=\"mse\")\n",
    "model.summary()"
   ]
  },
  {
   "cell_type": "markdown",
   "metadata": {},
   "source": [
    "### Train Model"
   ]
  },
  {
   "cell_type": "code",
   "execution_count": 48,
   "metadata": {},
   "outputs": [
    {
     "name": "stdout",
     "output_type": "stream",
     "text": [
      "Epoch 1/200\n",
      "108/108 [==============================] - 9s 72ms/step - loss: 0.1663 - val_loss: 0.0124\n",
      "Epoch 2/200\n",
      "108/108 [==============================] - 7s 63ms/step - loss: 0.0355 - val_loss: 0.0066\n",
      "Epoch 3/200\n",
      "108/108 [==============================] - 7s 69ms/step - loss: 0.0277 - val_loss: 0.0058\n",
      "Epoch 4/200\n",
      "108/108 [==============================] - 7s 66ms/step - loss: 0.0246 - val_loss: 0.0049\n",
      "Epoch 5/200\n",
      "108/108 [==============================] - 7s 68ms/step - loss: 0.0223 - val_loss: 0.0045\n",
      "Epoch 6/200\n",
      "108/108 [==============================] - 7s 65ms/step - loss: 0.0208 - val_loss: 0.0049\n",
      "Epoch 7/200\n",
      "108/108 [==============================] - 7s 67ms/step - loss: 0.0192 - val_loss: 0.0055\n",
      "Epoch 8/200\n",
      "108/108 [==============================] - 7s 67ms/step - loss: 0.0178 - val_loss: 0.0069\n",
      "Epoch 9/200\n",
      "108/108 [==============================] - 7s 63ms/step - loss: 0.0164 - val_loss: 0.0074\n",
      "Epoch 10/200\n",
      "108/108 [==============================] - 7s 66ms/step - loss: 0.0151 - val_loss: 0.0094\n"
     ]
    }
   ],
   "source": [
    "history = model.fit(\n",
    "    train_d,\n",
    "    train_d,\n",
    "    epochs=200,\n",
    "    batch_size=100,\n",
    "    validation_split=0.1,\n",
    "    callbacks=[\n",
    "        keras.callbacks.EarlyStopping(monitor=\"val_loss\", patience=5, mode=\"min\")\n",
    "    ],\n",
    ")"
   ]
  },
  {
   "cell_type": "markdown",
   "metadata": {},
   "source": [
    "### Show the Training data Loss and Validation data Loss"
   ]
  },
  {
   "cell_type": "code",
   "execution_count": 49,
   "metadata": {},
   "outputs": [
    {
     "data": {
      "image/png": "[encoded data removed]",
      "text/plain": [
       "<Figure size 432x288 with 1 Axes>"
      ]
     },
     "metadata": {
      "needs_background": "light"
     },
     "output_type": "display_data"
    }
   ],
   "source": [
    "plt.plot(history.history[\"loss\"], label=\"Training Loss\")\n",
    "plt.plot(history.history[\"val_loss\"], label=\"Validation Loss\")\n",
    "plt.legend()\n",
    "plt.show()"
   ]
  },
  {
   "cell_type": "markdown",
   "metadata": {},
   "source": [
    "### Predict with TrainData and Get threshold(μ+3σ)"
   ]
  },
  {
   "cell_type": "code",
   "execution_count": 50,
   "metadata": {},
   "outputs": [
    {
     "name": "stdout",
     "output_type": "stream",
     "text": [
      "375/375 [==============================] - 3s 7ms/step\n",
      "(12000, 164, 1)\n"
     ]
    }
   ],
   "source": [
    "#predict(train data)\n",
    "train_d_pred = model.predict(train_d)\n",
    "print(train_d_pred.shape)\n",
    "\n",
    "# ex) if trainTool is A or B reshape(1200×total_path, fq_num, 1) -> (1200×total_path, fq_num)\n",
    "#     if trainTool is C reshape(1023×total_path, fq_num, 1) -> (1023×total_path, fq_num)\n",
    "train_d_pred = train_d_pred.reshape(interval*total_path, fq_num)\n",
    "\n",
    "#再構成誤差計算\n",
    "train_mae_loss = np.mean(np.square(np.abs(train_d_pred - train_d)), axis=1)\n",
    "\n",
    "#再構成誤差の平均値\n",
    "train_mae_loss_mean = np.mean(train_mae_loss)\n",
    "\n",
    "#再構成誤差の標準偏差\n",
    "train_mae_loss_std = np.std(train_mae_loss)\n",
    "\n",
    "#閾値設定\n",
    "#閾値T = μ+3σ (μ:train_dの再構成誤差の平均値、σ:train_d（A（51~60path）200-300kHz）の再構成誤差のの標準偏差)\n",
    "\n",
    "threshold = train_mae_loss_mean + train_mae_loss_std * 3"
   ]
  },
  {
   "cell_type": "code",
   "execution_count": 51,
   "metadata": {},
   "outputs": [
    {
     "name": "stdout",
     "output_type": "stream",
     "text": [
      "0.024319136699250735\n",
      "0.03671900860908415\n",
      "0.13447616252650318\n"
     ]
    }
   ],
   "source": [
    "print(train_mae_loss_mean)\n",
    "print(train_mae_loss_std)\n",
    "print(threshold)"
   ]
  },
  {
   "cell_type": "markdown",
   "metadata": {},
   "source": [
    "### Predict with TestData and Get Reconstruction Error of TestData"
   ]
  },
  {
   "cell_type": "code",
   "execution_count": 52,
   "metadata": {
    "scrolled": true
   },
   "outputs": [
    {
     "name": "stdout",
     "output_type": "stream",
     "text": [
      "17250/17250 [==============================] - 129s 7ms/step\n",
      "17250/17250 [==============================] - 128s 7ms/step\n",
      "14706/14706 [==============================] - 117s 8ms/step\n",
      "Wall time: 7min 23s\n"
     ]
    }
   ],
   "source": [
    "%%time\n",
    "# test(A,B,C 1-460pah) predict & reshape & get reconstruction error\n",
    "test_A_pred = model.predict(test_A)\n",
    "test_A_pred = test_A_pred.reshape(552000,164)\n",
    "\n",
    "test_B_pred = model.predict(test_B)\n",
    "test_B_pred = test_B_pred.reshape(552000,164)\n",
    "\n",
    "test_C_pred = model.predict(test_C)\n",
    "test_C_pred = test_C_pred.reshape(470580,164)\n",
    "\n",
    "\n",
    "test_A_mae_loss = np.mean(np.square(np.abs(test_A_pred - test_A)), axis=1)\n",
    "test_B_mae_loss = np.mean(np.square(np.abs(test_B_pred - test_B)), axis=1)\n",
    "test_C_mae_loss = np.mean(np.square(np.abs(test_C_pred - test_C)), axis=1)"
   ]
  },
  {
   "cell_type": "code",
   "execution_count": 59,
   "metadata": {},
   "outputs": [
    {
     "name": "stdout",
     "output_type": "stream",
     "text": [
      "(552000,)\n",
      "(552000,)\n",
      "(470580,)\n"
     ]
    }
   ],
   "source": [
    "#RE は　Reconstruction Errorの略\n",
    "test_A_RE = test_A_mae_loss.reshape(-1)\n",
    "test_B_RE = test_B_mae_loss.reshape(-1)\n",
    "test_C_RE = test_C_mae_loss.reshape(-1)\n",
    "\n",
    "print(test_A_RE.shape)\n",
    "print(test_B_RE.shape)\n",
    "print(test_C_RE.shape)\n",
    "\n",
    "# save RE\n",
    "np.save(rf\"Z:\\200 Produced_data\\MashineLearning\\RE\\case{caseNum}_{trainTool}_A\", test_A_RE)\n",
    "np.save(rf\"Z:\\200 Produced_data\\MashineLearning\\RE\\case{caseNum}_{trainTool}_B\", test_B_RE)\n",
    "np.save(rf\"Z:\\200 Produced_data\\MashineLearning\\RE\\case{caseNum}_{trainTool}_C\", test_C_RE)"
   ]
  },
  {
   "cell_type": "markdown",
   "metadata": {},
   "source": [
    "### some calc for matching the size"
   ]
  },
  {
   "cell_type": "code",
   "execution_count": 60,
   "metadata": {},
   "outputs": [
    {
     "name": "stdout",
     "output_type": "stream",
     "text": [
      "460.0\n",
      "460.0\n",
      "460.0\n"
     ]
    }
   ],
   "source": [
    "test_A_RE = np.load(rf\"Z:\\200 Produced_data\\MashineLearning\\RE\\case{caseNum}_{trainTool}_A.npy\")\n",
    "test_B_RE = np.load(rf\"Z:\\200 Produced_data\\MashineLearning\\RE\\case{caseNum}_{trainTool}_B.npy\")\n",
    "test_C_RE = np.load(rf\"Z:\\200 Produced_data\\MashineLearning\\RE\\case{caseNum}_{trainTool}_C.npy\")\n",
    "\n",
    "print(len(test_A_RE)/1200)\n",
    "print(len(test_B_RE)/1200)\n",
    "print(len(test_C_RE)/1023)"
   ]
  },
  {
   "cell_type": "code",
   "execution_count": 62,
   "metadata": {},
   "outputs": [],
   "source": [
    "#all_path_num\n",
    "a_p_n = 460\n",
    "#all_rotation_num\n",
    "a_r_n = 1200\n",
    "a_r_n_2 = 1023\n",
    "#moving avg path step\n",
    "m_a_p_s = 10\n",
    "\n",
    "w_size = a_r_n*m_a_p_s\n",
    "w_size2 = a_r_n_2*m_a_p_s\n",
    "\n",
    "x = np.linspace(-1,1,w_size)\n",
    "x2 = np.linspace(-1,1,w_size2)\n",
    "v = np.exp(-x**2 / 2) / np.sqrt(2 * np.pi)\n",
    "v2 = np.exp(-x2**2 / 2) / np.sqrt(2 * np.pi)\n",
    "v = v / np.sum(v)\n",
    "v2 = v2 / np.sum(v2)\n",
    "v = np.sort(v)[::-1]\n",
    "v2 = np.sort(v2)[::-1]"
   ]
  },
  {
   "cell_type": "code",
   "execution_count": 63,
   "metadata": {},
   "outputs": [
    {
     "name": "stdout",
     "output_type": "stream",
     "text": [
      "Wall time: 1min 12s\n"
     ]
    }
   ],
   "source": [
    "%%time\n",
    "RE_MA_A = np.convolve(test_A_RE,v, mode='valid')\n",
    "RE_MA_B = np.convolve(test_B_RE,v, mode='valid')\n",
    "RE_MA_C = np.convolve(test_C_RE,v2, mode='valid')"
   ]
  },
  {
   "cell_type": "code",
   "execution_count": 64,
   "metadata": {},
   "outputs": [],
   "source": [
    "np.save(rf\"Z:\\200 Produced_data\\MashineLearning\\RE\\case{caseNum}_{trainTool}_A_MA\", RE_MA_A)\n",
    "np.save(rf\"Z:\\200 Produced_data\\MashineLearning\\RE\\case{caseNum}_{trainTool}_B_MA\", RE_MA_B)\n",
    "np.save(rf\"Z:\\200 Produced_data\\MashineLearning\\RE\\case{caseNum}_{trainTool}_C_MA\", RE_MA_C)"
   ]
  },
  {
   "cell_type": "code",
   "execution_count": 65,
   "metadata": {},
   "outputs": [],
   "source": [
    "tools = [\"A\", \"B\", \"C\"]\n",
    "intervals = [1200, 1200, 1023]"
   ]
  },
  {
   "cell_type": "code",
   "execution_count": 67,
   "metadata": {},
   "outputs": [
    {
     "name": "stdout",
     "output_type": "stream",
     "text": [
      "450.0\n",
      "(12000, 45)\n",
      "(12000,)\n",
      "(12000, 1)\n",
      "(12000, 1)\n",
      "460.0\n",
      "-----------------\n",
      "450.0\n",
      "(12000, 45)\n",
      "(12000,)\n",
      "(12000, 1)\n",
      "(12000, 1)\n",
      "460.0\n",
      "-----------------\n",
      "450.0\n",
      "(10230, 45)\n",
      "(10230,)\n",
      "(10230, 1)\n",
      "(10230, 1)\n",
      "460.0\n",
      "(460, 1023)\n",
      "(460, 1200)\n",
      "460.0\n",
      "-----------------\n"
     ]
    }
   ],
   "source": [
    "for tool, interval in zip(tools, intervals):\n",
    "    RE_MA = np.load(rf\"Z:\\200 Produced_data\\MashineLearning\\RE\\case{caseNum}_{trainTool}_{tool}_MA.npy\")\n",
    "    new = RE_MA[:-1]\n",
    "    print(len(new)/interval)\n",
    "    new = new.reshape(interval*10, int(len(new)/(interval*10)))\n",
    "    print(new.shape)\n",
    "    avg = np.average(new,axis=1)\n",
    "    print(avg.shape)\n",
    "    avg = avg.reshape(len(avg),1)\n",
    "    print(avg.shape)\n",
    "    avg = np.repeat(avg, 1, axis=1)\n",
    "    print(avg.shape)\n",
    "    new_n = np.block([new,avg])\n",
    "    new_n = new_n.ravel()\n",
    "    print(len(new_n)/interval)\n",
    "    \n",
    "    if tool == \"C\":\n",
    "        new_nn = new_n.reshape(int(len(new_n)/interval), interval)\n",
    "        print(new_nn.shape)\n",
    "        hokan = 1200-1023\n",
    "        avg = np.average(new_nn, axis=1)\n",
    "        avg = avg.reshape(len(avg), 1)\n",
    "        avg = np.repeat(avg, hokan, axis=1)\n",
    "        new_nn  = np.block([new_nn, avg])\n",
    "        print(new_nn.shape)\n",
    "        new_nn = new_nn.ravel()\n",
    "        print(len(new_nn)/1200)\n",
    "        np.save(rf\"Z:\\200 Produced_data\\MashineLearning\\RE\\case{caseNum}_{trainTool}_{tool}_MA_EX.npy\",new_nn)\n",
    "    else:\n",
    "        np.save(rf\"Z:\\200 Produced_data\\MashineLearning\\RE\\case{caseNum}_{trainTool}_{tool}_MA_EX.npy\",new_n)\n",
    "    print(\"-----------------\")"
   ]
  },
  {
   "cell_type": "code",
   "execution_count": 69,
   "metadata": {},
   "outputs": [],
   "source": [
    "A = np.load(rf\"Z:\\200 Produced_data\\MashineLearning\\RE\\case{caseNum}_{trainTool}_A_MA_EX.npy\")\n",
    "B = np.load(rf\"Z:\\200 Produced_data\\MashineLearning\\RE\\case{caseNum}_{trainTool}_B_MA_EX.npy\")\n",
    "C = np.load(rf\"Z:\\200 Produced_data\\MashineLearning\\RE\\case{caseNum}_{trainTool}_C_MA_EX.npy\")\n",
    "\n",
    "A_ = np.load(rf\"Z:\\200 Produced_data\\MashineLearning\\RE\\hinan\\case{caseNum}_{trainTool}_A_MA_EX.npy\")\n",
    "B_ = np.load(rf\"Z:\\200 Produced_data\\MashineLearning\\RE\\hinan\\case{caseNum}_{trainTool}_B_MA_EX.npy\")\n",
    "C_ = np.load(rf\"Z:\\200 Produced_data\\MashineLearning\\RE\\hinan\\case{caseNum}_{trainTool}_C_MA_EX.npy\")"
   ]
  },
  {
   "cell_type": "code",
   "execution_count": 71,
   "metadata": {},
   "outputs": [
    {
     "data": {
      "text/plain": [
       "[<matplotlib.lines.Line2D at 0x1bbb5bf9d00>]"
      ]
     },
     "execution_count": 71,
     "metadata": {},
     "output_type": "execute_result"
    }
   ],
   "source": [
    "%matplotlib qt\n",
    "plt.plot(A)\n",
    "plt.plot(A_)"
   ]
  },
  {
   "cell_type": "code",
   "execution_count": 72,
   "metadata": {},
   "outputs": [
    {
     "data": {
      "text/plain": [
       "[<matplotlib.lines.Line2D at 0x1bbb5fe6820>]"
      ]
     },
     "execution_count": 72,
     "metadata": {},
     "output_type": "execute_result"
    }
   ],
   "source": [
    "%matplotlib qt\n",
    "plt.plot(B)\n",
    "plt.plot(B_)"
   ]
  },
  {
   "cell_type": "code",
   "execution_count": 73,
   "metadata": {},
   "outputs": [
    {
     "data": {
      "text/plain": [
       "[<matplotlib.lines.Line2D at 0x1bbb6091c70>]"
      ]
     },
     "execution_count": 73,
     "metadata": {},
     "output_type": "execute_result"
    }
   ],
   "source": [
    "%matplotlib qt\n",
    "plt.plot(C)\n",
    "plt.plot(C_)"
   ]
  },
  {
   "cell_type": "code",
   "execution_count": 76,
   "metadata": {},
   "outputs": [
    {
     "data": {
      "text/plain": [
       "[<matplotlib.lines.Line2D at 0x1bbb63920d0>]"
      ]
     },
     "execution_count": 76,
     "metadata": {},
     "output_type": "execute_result"
    }
   ],
   "source": [
    "%matplotlib qt\n",
    "plt.plot(A)\n",
    "plt.plot(B)\n",
    "plt.plot(C)"
   ]
  },
  {
   "cell_type": "code",
   "execution_count": 75,
   "metadata": {},
   "outputs": [
    {
     "data": {
      "text/plain": [
       "[<matplotlib.lines.Line2D at 0x1bbb619e490>]"
      ]
     },
     "execution_count": 75,
     "metadata": {},
     "output_type": "execute_result"
    }
   ],
   "source": [
    "%matplotlib qt\n",
    "plt.plot(A_)\n",
    "plt.plot(B_)\n",
    "plt.plot(C_)"
   ]
  },
  {
   "cell_type": "code",
   "execution_count": 79,
   "metadata": {},
   "outputs": [
    {
     "data": {
      "text/plain": [
       "[<matplotlib.lines.Line2D at 0x1bb33ed1610>]"
      ]
     },
     "execution_count": 79,
     "metadata": {},
     "output_type": "execute_result"
    }
   ],
   "source": [
    "%matplotlib qt\n",
    "#all_path_num\n",
    "a_p_n = 300\n",
    "#all_rotation_num\n",
    "a_r_n = 1200\n",
    "#moving avg path step\n",
    "m_a_p_s = 30\n",
    "\n",
    "\n",
    "fig = plt.figure()\n",
    "ax = fig.add_subplot()\n",
    "ax.set_xticks(np.arange(0, a_p_n*a_r_n + 1, a_r_n*m_a_p_s))\n",
    "ax.set_xticklabels(np.arange(0,a_p_n + 1,m_a_p_s))\n",
    "ax.set_xlabel(xlabel='Path Number')\n",
    "# ax.set_ylabel(ylabel='Cutting Force[N]')\n",
    "ax.tick_params(axis = 'x')\n",
    "ax.tick_params(axis = 'y')\n",
    "\n",
    "ax2 = ax.twinx()\n",
    "ax2.set_ylabel(ylabel='Reconstruction Error')\n",
    "\n",
    "\n",
    "# ax.plot(cfm_C, label=\"Cutting Force\", linewidth=\"5\")\n",
    "# ax2.plot(A_, label=\"Reconstruction Error\", color=\"magenta\")\n",
    "ax2.plot(A[:a_p_n*a_r_n])\n",
    "ax2.plot(B[:a_p_n*a_r_n])\n",
    "ax2.plot(C[:a_p_n*a_r_n])"
   ]
  },
  {
   "cell_type": "code",
   "execution_count": null,
   "metadata": {},
   "outputs": [],
   "source": []
  }
 ],
 "metadata": {
  "kernelspec": {
   "display_name": "Python 3",
   "language": "python",
   "name": "python3"
  },
  "language_info": {
   "codemirror_mode": {
    "name": "ipython",
    "version": 3
   },
   "file_extension": ".py",
   "mimetype": "text/x-python",
   "name": "python",
   "nbconvert_exporter": "python",
   "pygments_lexer": "ipython3",
   "version": "3.8.3"
  }
 },
 "nbformat": 4,
 "nbformat_minor": 4
}
