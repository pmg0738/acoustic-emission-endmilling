{
 "cells": [
  {
   "cell_type": "code",
   "execution_count": 2,
   "metadata": {},
   "outputs": [],
   "source": [
    "import keras\n",
    "from keras import layers\n",
    "import tensorflow as tf\n",
    "import pydot\n",
    "from tensorflow.python.keras.models import load_model\n",
    "\n",
    "\n",
    "from loadTDMS import *\n",
    "from fft_test import *\n",
    "\n",
    "import numpy as np\n",
    "import pandas as pd\n",
    "\n",
    "import seaborn as sns\n",
    "import matplotlib.pyplot as plt\n",
    "from matplotlib.ticker import ScalarFormatter\n",
    "\n",
    "from tqdm import tqdm"
   ]
  },
  {
   "cell_type": "markdown",
   "metadata": {},
   "source": [
    "### Select caseNum, trainTool"
   ]
  },
  {
   "cell_type": "code",
   "execution_count": 6,
   "metadata": {},
   "outputs": [],
   "source": [
    "caseNum = 6\n",
    "trainTool = \"A\""
   ]
  },
  {
   "cell_type": "code",
   "execution_count": 7,
   "metadata": {},
   "outputs": [],
   "source": [
    "info = pd.read_csv(rf\"Z:\\200 Produced_data\\MashineLearning\\case_info.csv\")"
   ]
  },
  {
   "cell_type": "code",
   "execution_count": 8,
   "metadata": {
    "scrolled": true
   },
   "outputs": [
    {
     "data": {
      "text/html": [
       "<div>\n",
       "<style scoped>\n",
       "    .dataframe tbody tr th:only-of-type {\n",
       "        vertical-align: middle;\n",
       "    }\n",
       "\n",
       "    .dataframe tbody tr th {\n",
       "        vertical-align: top;\n",
       "    }\n",
       "\n",
       "    .dataframe thead th {\n",
       "        text-align: right;\n",
       "    }\n",
       "</style>\n",
       "<table border=\"1\" class=\"dataframe\">\n",
       "  <thead>\n",
       "    <tr style=\"text-align: right;\">\n",
       "      <th></th>\n",
       "      <th>Unnamed: 0</th>\n",
       "      <th>caseNum</th>\n",
       "      <th>trainTool</th>\n",
       "      <th>AE_location</th>\n",
       "      <th>fq</th>\n",
       "      <th>fq_num</th>\n",
       "      <th>path_start</th>\n",
       "      <th>path_end</th>\n",
       "    </tr>\n",
       "  </thead>\n",
       "  <tbody>\n",
       "    <tr>\n",
       "      <th>9</th>\n",
       "      <td>0</td>\n",
       "      <td>6</td>\n",
       "      <td>A</td>\n",
       "      <td>spindle</td>\n",
       "      <td>[ 1  2  3  4  5  6  7  8  9 10]</td>\n",
       "      <td>10</td>\n",
       "      <td>11</td>\n",
       "      <td>20</td>\n",
       "    </tr>\n",
       "  </tbody>\n",
       "</table>\n",
       "</div>"
      ],
      "text/plain": [
       "   Unnamed: 0  caseNum trainTool AE_location                               fq  \\\n",
       "9           0        6         A     spindle  [ 1  2  3  4  5  6  7  8  9 10]   \n",
       "\n",
       "   fq_num  path_start  path_end  \n",
       "9      10          11        20  "
      ]
     },
     "execution_count": 8,
     "metadata": {},
     "output_type": "execute_result"
    }
   ],
   "source": [
    "# info[info['caseNum'] == caseNum and info['trainTool'] == trainTool]\n",
    "info = info[info['caseNum'] == caseNum]\n",
    "info = info[info['trainTool'] == trainTool]\n",
    "info"
   ]
  },
  {
   "cell_type": "markdown",
   "metadata": {},
   "source": [
    "### Get fq_num, path_start, path_end, interval"
   ]
  },
  {
   "cell_type": "code",
   "execution_count": 9,
   "metadata": {
    "scrolled": true
   },
   "outputs": [
    {
     "name": "stdout",
     "output_type": "stream",
     "text": [
      "fq_num: 820\n",
      "path_start: 11\n",
      "path_end: 20\n",
      "total_path: 10\n",
      "interval: 1200\n"
     ]
    }
   ],
   "source": [
    "info['fq_num']\n",
    "fq_num = info['fq_num'].values[0]\n",
    "fq_num = fq_num*82\n",
    "print(f\"fq_num: {fq_num}\")\n",
    "\n",
    "path_start = info['path_start'].values[0]\n",
    "print(f\"path_start: {path_start}\")\n",
    "\n",
    "path_end = info['path_end'].values[0]\n",
    "print(f\"path_end: {path_end}\")\n",
    "\n",
    "total_path = path_end - path_start + 1\n",
    "print(f\"total_path: {total_path}\")\n",
    "\n",
    "if trainTool ==\"A\":\n",
    "    interval = 1200\n",
    "if trainTool ==\"B\":\n",
    "    interval = 1200\n",
    "if trainTool ==\"C\":\n",
    "    interval = 1023\n",
    "\n",
    "print(f\"interval: {interval}\")"
   ]
  },
  {
   "cell_type": "markdown",
   "metadata": {},
   "source": [
    "### Load TrainD"
   ]
  },
  {
   "cell_type": "code",
   "execution_count": 10,
   "metadata": {},
   "outputs": [],
   "source": [
    "# Load Train D\n",
    "train_d = np.load(rf\"Z:\\200 Produced_data\\MashineLearning\\trainD\\case{caseNum}_{trainTool}.npy\")"
   ]
  },
  {
   "cell_type": "code",
   "execution_count": 11,
   "metadata": {},
   "outputs": [
    {
     "data": {
      "text/plain": [
       "12000.0"
      ]
     },
     "execution_count": 11,
     "metadata": {},
     "output_type": "execute_result"
    }
   ],
   "source": [
    "# print Train data's set number\n",
    "len(train_d)/fq_num"
   ]
  },
  {
   "cell_type": "markdown",
   "metadata": {},
   "source": [
    "### Load TestD"
   ]
  },
  {
   "cell_type": "code",
   "execution_count": 12,
   "metadata": {},
   "outputs": [
    {
     "ename": "KeyboardInterrupt",
     "evalue": "",
     "output_type": "error",
     "traceback": [
      "\u001b[1;31m---------------------------------------------------------------------------\u001b[0m",
      "\u001b[1;31mKeyboardInterrupt\u001b[0m                         Traceback (most recent call last)",
      "\u001b[1;32m<ipython-input-12-a62cfb8214e2>\u001b[0m in \u001b[0;36m<module>\u001b[1;34m\u001b[0m\n\u001b[0;32m      1\u001b[0m \u001b[0mtest_A\u001b[0m \u001b[1;33m=\u001b[0m \u001b[0mnp\u001b[0m\u001b[1;33m.\u001b[0m\u001b[0mload\u001b[0m\u001b[1;33m(\u001b[0m\u001b[1;34mrf\"Z:\\200 Produced_data\\MashineLearning\\testD\\case{caseNum}_{trainTool}_A.npy\"\u001b[0m\u001b[1;33m)\u001b[0m\u001b[1;33m\u001b[0m\u001b[1;33m\u001b[0m\u001b[0m\n\u001b[1;32m----> 2\u001b[1;33m \u001b[0mtest_B\u001b[0m \u001b[1;33m=\u001b[0m \u001b[0mnp\u001b[0m\u001b[1;33m.\u001b[0m\u001b[0mload\u001b[0m\u001b[1;33m(\u001b[0m\u001b[1;34mrf\"Z:\\200 Produced_data\\MashineLearning\\testD\\case{caseNum}_{trainTool}_B.npy\"\u001b[0m\u001b[1;33m)\u001b[0m\u001b[1;33m\u001b[0m\u001b[1;33m\u001b[0m\u001b[0m\n\u001b[0m\u001b[0;32m      3\u001b[0m \u001b[0mtest_C\u001b[0m \u001b[1;33m=\u001b[0m \u001b[0mnp\u001b[0m\u001b[1;33m.\u001b[0m\u001b[0mload\u001b[0m\u001b[1;33m(\u001b[0m\u001b[1;34mrf\"Z:\\200 Produced_data\\MashineLearning\\testD\\case{caseNum}_{trainTool}_C.npy\"\u001b[0m\u001b[1;33m)\u001b[0m\u001b[1;33m\u001b[0m\u001b[1;33m\u001b[0m\u001b[0m\n",
      "\u001b[1;32m~\\anaconda3\\lib\\site-packages\\numpy\\lib\\npyio.py\u001b[0m in \u001b[0;36mload\u001b[1;34m(file, mmap_mode, allow_pickle, fix_imports, encoding)\u001b[0m\n\u001b[0;32m    428\u001b[0m                 \u001b[1;32mreturn\u001b[0m \u001b[0mformat\u001b[0m\u001b[1;33m.\u001b[0m\u001b[0mopen_memmap\u001b[0m\u001b[1;33m(\u001b[0m\u001b[0mfile\u001b[0m\u001b[1;33m,\u001b[0m \u001b[0mmode\u001b[0m\u001b[1;33m=\u001b[0m\u001b[0mmmap_mode\u001b[0m\u001b[1;33m)\u001b[0m\u001b[1;33m\u001b[0m\u001b[1;33m\u001b[0m\u001b[0m\n\u001b[0;32m    429\u001b[0m             \u001b[1;32melse\u001b[0m\u001b[1;33m:\u001b[0m\u001b[1;33m\u001b[0m\u001b[1;33m\u001b[0m\u001b[0m\n\u001b[1;32m--> 430\u001b[1;33m                 return format.read_array(fid, allow_pickle=allow_pickle,\n\u001b[0m\u001b[0;32m    431\u001b[0m                                          pickle_kwargs=pickle_kwargs)\n\u001b[0;32m    432\u001b[0m         \u001b[1;32melse\u001b[0m\u001b[1;33m:\u001b[0m\u001b[1;33m\u001b[0m\u001b[1;33m\u001b[0m\u001b[0m\n",
      "\u001b[1;32m~\\anaconda3\\lib\\site-packages\\numpy\\lib\\format.py\u001b[0m in \u001b[0;36mread_array\u001b[1;34m(fp, allow_pickle, pickle_kwargs)\u001b[0m\n\u001b[0;32m    754\u001b[0m         \u001b[1;32mif\u001b[0m \u001b[0misfileobj\u001b[0m\u001b[1;33m(\u001b[0m\u001b[0mfp\u001b[0m\u001b[1;33m)\u001b[0m\u001b[1;33m:\u001b[0m\u001b[1;33m\u001b[0m\u001b[1;33m\u001b[0m\u001b[0m\n\u001b[0;32m    755\u001b[0m             \u001b[1;31m# We can use the fast fromfile() function.\u001b[0m\u001b[1;33m\u001b[0m\u001b[1;33m\u001b[0m\u001b[1;33m\u001b[0m\u001b[0m\n\u001b[1;32m--> 756\u001b[1;33m             \u001b[0marray\u001b[0m \u001b[1;33m=\u001b[0m \u001b[0mnumpy\u001b[0m\u001b[1;33m.\u001b[0m\u001b[0mfromfile\u001b[0m\u001b[1;33m(\u001b[0m\u001b[0mfp\u001b[0m\u001b[1;33m,\u001b[0m \u001b[0mdtype\u001b[0m\u001b[1;33m=\u001b[0m\u001b[0mdtype\u001b[0m\u001b[1;33m,\u001b[0m \u001b[0mcount\u001b[0m\u001b[1;33m=\u001b[0m\u001b[0mcount\u001b[0m\u001b[1;33m)\u001b[0m\u001b[1;33m\u001b[0m\u001b[1;33m\u001b[0m\u001b[0m\n\u001b[0m\u001b[0;32m    757\u001b[0m         \u001b[1;32melse\u001b[0m\u001b[1;33m:\u001b[0m\u001b[1;33m\u001b[0m\u001b[1;33m\u001b[0m\u001b[0m\n\u001b[0;32m    758\u001b[0m             \u001b[1;31m# This is not a real file. We have to read it the\u001b[0m\u001b[1;33m\u001b[0m\u001b[1;33m\u001b[0m\u001b[1;33m\u001b[0m\u001b[0m\n",
      "\u001b[1;31mKeyboardInterrupt\u001b[0m: "
     ]
    }
   ],
   "source": [
    "test_A = np.load(rf\"Z:\\200 Produced_data\\MashineLearning\\testD\\case{caseNum}_{trainTool}_A.npy\")\n",
    "test_B = np.load(rf\"Z:\\200 Produced_data\\MashineLearning\\testD\\case{caseNum}_{trainTool}_B.npy\")\n",
    "test_C = np.load(rf\"Z:\\200 Produced_data\\MashineLearning\\testD\\case{caseNum}_{trainTool}_C.npy\")"
   ]
  },
  {
   "cell_type": "code",
   "execution_count": 9,
   "metadata": {
    "scrolled": true
   },
   "outputs": [
    {
     "name": "stdout",
     "output_type": "stream",
     "text": [
      "552000.0\n",
      "552000.0\n",
      "470580.0\n"
     ]
    }
   ],
   "source": [
    "print(len(test_A)/fq_num) #552000 sets\n",
    "print(len(test_B)/fq_num) #552000 sets\n",
    "print(len(test_C)/fq_num) #470580 sets"
   ]
  },
  {
   "cell_type": "markdown",
   "metadata": {},
   "source": [
    "### reshape for train and test"
   ]
  },
  {
   "cell_type": "code",
   "execution_count": 10,
   "metadata": {},
   "outputs": [],
   "source": [
    "# reshape for train and test\n",
    "# 164 = fft 200-300kHzのampの返り値の数（0-500kHz:820個) \n",
    "train_d = train_d.reshape(int(len(train_d)/fq_num),fq_num)\n",
    "test_A = test_A.reshape(int(len(test_A)/fq_num),fq_num)\n",
    "test_B = test_B.reshape(int(len(test_B)/fq_num),fq_num)\n",
    "test_C = test_C.reshape(int(len(test_C)/fq_num),fq_num)"
   ]
  },
  {
   "cell_type": "code",
   "execution_count": 11,
   "metadata": {},
   "outputs": [
    {
     "name": "stdout",
     "output_type": "stream",
     "text": [
      "(10230, 82)\n",
      "(552000, 82)\n",
      "(552000, 82)\n",
      "(470580, 82)\n"
     ]
    }
   ],
   "source": [
    "print(train_d.shape)\n",
    "print(test_A.shape)\n",
    "print(test_B.shape)\n",
    "print(test_C.shape)"
   ]
  },
  {
   "cell_type": "code",
   "execution_count": 12,
   "metadata": {},
   "outputs": [
    {
     "data": {
      "text/plain": [
       "82"
      ]
     },
     "execution_count": 12,
     "metadata": {},
     "output_type": "execute_result"
    }
   ],
   "source": [
    "train_d.shape[1]"
   ]
  },
  {
   "cell_type": "markdown",
   "metadata": {},
   "source": [
    "### Define Model"
   ]
  },
  {
   "cell_type": "code",
   "execution_count": 13,
   "metadata": {
    "scrolled": true
   },
   "outputs": [
    {
     "name": "stdout",
     "output_type": "stream",
     "text": [
      "Model: \"sequential\"\n",
      "_________________________________________________________________\n",
      " Layer (type)                Output Shape              Param #   \n",
      "=================================================================\n",
      " conv1d (Conv1D)             (None, 82, 32)            256       \n",
      "                                                                 \n",
      " dropout (Dropout)           (None, 82, 32)            0         \n",
      "                                                                 \n",
      " conv1d_1 (Conv1D)           (None, 82, 16)            3600      \n",
      "                                                                 \n",
      " conv1d_transpose (Conv1DTra  (None, 82, 16)           1808      \n",
      " nspose)                                                         \n",
      "                                                                 \n",
      " dropout_1 (Dropout)         (None, 82, 16)            0         \n",
      "                                                                 \n",
      " conv1d_transpose_1 (Conv1DT  (None, 82, 32)           3616      \n",
      " ranspose)                                                       \n",
      "                                                                 \n",
      " conv1d_transpose_2 (Conv1DT  (None, 82, 1)            225       \n",
      " ranspose)                                                       \n",
      "                                                                 \n",
      "=================================================================\n",
      "Total params: 9,505\n",
      "Trainable params: 9,505\n",
      "Non-trainable params: 0\n",
      "_________________________________________________________________\n"
     ]
    }
   ],
   "source": [
    "#モデルの定義\n",
    "model =keras.initializers.Initializer()\n",
    "model = keras.Sequential(\n",
    "    [\n",
    "        layers.Input(shape=(train_d.shape[1],1)),\n",
    "        layers.Conv1D(\n",
    "            filters=32, kernel_size=7, padding=\"same\", strides=1, activation=\"relu\"\n",
    "        ),\n",
    "        layers.Dropout(rate=0.2),\n",
    "        layers.Conv1D(\n",
    "            filters=16, kernel_size=7, padding=\"same\", strides=1, activation=\"relu\"\n",
    "        ),\n",
    "        layers.Conv1DTranspose(\n",
    "            filters=16, kernel_size=7, padding=\"same\", strides=1, activation=\"relu\"\n",
    "        ),\n",
    "        layers.Dropout(rate=0.2),\n",
    "        layers.Conv1DTranspose(\n",
    "            filters=32, kernel_size=7, padding=\"same\", strides=1, activation=\"relu\"\n",
    "        ),\n",
    "        layers.Conv1DTranspose(filters=1, kernel_size=7, padding=\"same\"),\n",
    "    ]\n",
    ")\n",
    "model.compile(optimizer=keras.optimizers.Adam(learning_rate=0.001), loss=\"mse\")\n",
    "model.summary()"
   ]
  },
  {
   "cell_type": "markdown",
   "metadata": {},
   "source": [
    "### Train Model"
   ]
  },
  {
   "cell_type": "code",
   "execution_count": 14,
   "metadata": {},
   "outputs": [
    {
     "name": "stdout",
     "output_type": "stream",
     "text": [
      "Epoch 1/80\n",
      "93/93 [==============================] - 4s 36ms/step - loss: 0.1484 - val_loss: 0.0157\n",
      "Epoch 2/80\n",
      "93/93 [==============================] - 3s 33ms/step - loss: 0.0226 - val_loss: 0.0110\n",
      "Epoch 3/80\n",
      "93/93 [==============================] - 3s 33ms/step - loss: 0.0148 - val_loss: 0.0072\n",
      "Epoch 4/80\n",
      "93/93 [==============================] - 3s 36ms/step - loss: 0.0114 - val_loss: 0.0074\n",
      "Epoch 5/80\n",
      "93/93 [==============================] - 3s 35ms/step - loss: 0.0099 - val_loss: 0.0067\n",
      "Epoch 6/80\n",
      "93/93 [==============================] - 3s 33ms/step - loss: 0.0088 - val_loss: 0.0119\n",
      "Epoch 7/80\n",
      "93/93 [==============================] - 3s 33ms/step - loss: 0.0079 - val_loss: 0.0145\n",
      "Epoch 8/80\n",
      "93/93 [==============================] - 3s 34ms/step - loss: 0.0072 - val_loss: 0.0152\n",
      "Epoch 9/80\n",
      "93/93 [==============================] - 3s 34ms/step - loss: 0.0066 - val_loss: 0.0149\n",
      "Epoch 10/80\n",
      "93/93 [==============================] - 3s 33ms/step - loss: 0.0061 - val_loss: 0.0222\n",
      "Epoch 11/80\n",
      "93/93 [==============================] - 3s 33ms/step - loss: 0.0056 - val_loss: 0.0221\n",
      "Epoch 12/80\n",
      "93/93 [==============================] - 3s 34ms/step - loss: 0.0052 - val_loss: 0.0268\n",
      "Epoch 13/80\n",
      "93/93 [==============================] - 3s 34ms/step - loss: 0.0048 - val_loss: 0.0251\n",
      "Epoch 14/80\n",
      "93/93 [==============================] - 3s 34ms/step - loss: 0.0045 - val_loss: 0.0249\n",
      "Epoch 15/80\n",
      "93/93 [==============================] - 3s 34ms/step - loss: 0.0042 - val_loss: 0.0284\n",
      "Epoch 16/80\n",
      "93/93 [==============================] - 3s 34ms/step - loss: 0.0040 - val_loss: 0.0228\n",
      "Epoch 17/80\n",
      "93/93 [==============================] - 3s 34ms/step - loss: 0.0038 - val_loss: 0.0259\n",
      "Epoch 18/80\n",
      "93/93 [==============================] - 3s 34ms/step - loss: 0.0036 - val_loss: 0.0247\n",
      "Epoch 19/80\n",
      "93/93 [==============================] - 3s 35ms/step - loss: 0.0034 - val_loss: 0.0294\n",
      "Epoch 20/80\n",
      "93/93 [==============================] - 3s 35ms/step - loss: 0.0033 - val_loss: 0.0298\n",
      "Epoch 21/80\n",
      "93/93 [==============================] - 3s 35ms/step - loss: 0.0032 - val_loss: 0.0319\n",
      "Epoch 22/80\n",
      "93/93 [==============================] - 3s 36ms/step - loss: 0.0031 - val_loss: 0.0314\n",
      "Epoch 23/80\n",
      "93/93 [==============================] - 3s 36ms/step - loss: 0.0030 - val_loss: 0.0343\n",
      "Epoch 24/80\n",
      "93/93 [==============================] - 3s 36ms/step - loss: 0.0029 - val_loss: 0.0335\n",
      "Epoch 25/80\n",
      "93/93 [==============================] - 3s 36ms/step - loss: 0.0028 - val_loss: 0.0346\n",
      "Epoch 26/80\n",
      "93/93 [==============================] - 3s 36ms/step - loss: 0.0026 - val_loss: 0.0359\n",
      "Epoch 27/80\n",
      "93/93 [==============================] - 3s 35ms/step - loss: 0.0026 - val_loss: 0.0341\n",
      "Epoch 28/80\n",
      "93/93 [==============================] - 3s 36ms/step - loss: 0.0025 - val_loss: 0.0400\n",
      "Epoch 29/80\n",
      "93/93 [==============================] - 3s 37ms/step - loss: 0.0024 - val_loss: 0.0382\n",
      "Epoch 30/80\n",
      "93/93 [==============================] - 3s 35ms/step - loss: 0.0023 - val_loss: 0.0391\n",
      "Epoch 31/80\n",
      "93/93 [==============================] - 3s 35ms/step - loss: 0.0022 - val_loss: 0.0420\n",
      "Epoch 32/80\n",
      "93/93 [==============================] - 3s 35ms/step - loss: 0.0022 - val_loss: 0.0465\n",
      "Epoch 33/80\n",
      "93/93 [==============================] - 3s 35ms/step - loss: 0.0021 - val_loss: 0.0424\n",
      "Epoch 34/80\n",
      "93/93 [==============================] - 3s 34ms/step - loss: 0.0020 - val_loss: 0.0458\n",
      "Epoch 35/80\n",
      "93/93 [==============================] - 3s 34ms/step - loss: 0.0020 - val_loss: 0.0526\n",
      "Epoch 36/80\n",
      "93/93 [==============================] - 3s 36ms/step - loss: 0.0020 - val_loss: 0.0502\n",
      "Epoch 37/80\n",
      "93/93 [==============================] - 3s 35ms/step - loss: 0.0019 - val_loss: 0.0481\n",
      "Epoch 38/80\n",
      "93/93 [==============================] - 3s 34ms/step - loss: 0.0019 - val_loss: 0.0470\n",
      "Epoch 39/80\n",
      "93/93 [==============================] - 3s 34ms/step - loss: 0.0018 - val_loss: 0.0483\n",
      "Epoch 40/80\n",
      "93/93 [==============================] - 3s 35ms/step - loss: 0.0018 - val_loss: 0.0528\n",
      "Epoch 41/80\n",
      "93/93 [==============================] - 3s 35ms/step - loss: 0.0017 - val_loss: 0.0540\n",
      "Epoch 42/80\n",
      "93/93 [==============================] - 3s 34ms/step - loss: 0.0017 - val_loss: 0.0538\n",
      "Epoch 43/80\n",
      "93/93 [==============================] - 3s 34ms/step - loss: 0.0017 - val_loss: 0.0562\n",
      "Epoch 44/80\n",
      "93/93 [==============================] - 3s 35ms/step - loss: 0.0016 - val_loss: 0.0561\n",
      "Epoch 45/80\n",
      "93/93 [==============================] - 3s 34ms/step - loss: 0.0016 - val_loss: 0.0607\n",
      "Epoch 46/80\n",
      "93/93 [==============================] - 3s 35ms/step - loss: 0.0016 - val_loss: 0.0604\n",
      "Epoch 47/80\n",
      "93/93 [==============================] - 3s 35ms/step - loss: 0.0016 - val_loss: 0.0574\n",
      "Epoch 48/80\n",
      "93/93 [==============================] - 3s 37ms/step - loss: 0.0015 - val_loss: 0.0548\n",
      "Epoch 49/80\n",
      "93/93 [==============================] - 3s 37ms/step - loss: 0.0015 - val_loss: 0.0619\n",
      "Epoch 50/80\n",
      "93/93 [==============================] - 3s 35ms/step - loss: 0.0015 - val_loss: 0.0581\n",
      "Epoch 51/80\n",
      "93/93 [==============================] - 3s 36ms/step - loss: 0.0014 - val_loss: 0.0590\n",
      "Epoch 52/80\n",
      "93/93 [==============================] - 3s 35ms/step - loss: 0.0014 - val_loss: 0.0601\n",
      "Epoch 53/80\n",
      "93/93 [==============================] - 3s 35ms/step - loss: 0.0014 - val_loss: 0.0601\n",
      "Epoch 54/80\n",
      "93/93 [==============================] - 3s 37ms/step - loss: 0.0014 - val_loss: 0.0636\n",
      "Epoch 55/80\n",
      "93/93 [==============================] - 3s 37ms/step - loss: 0.0013 - val_loss: 0.0598\n",
      "Epoch 56/80\n",
      "93/93 [==============================] - 3s 36ms/step - loss: 0.0013 - val_loss: 0.0614\n",
      "Epoch 57/80\n",
      "93/93 [==============================] - 3s 36ms/step - loss: 0.0013 - val_loss: 0.0570\n",
      "Epoch 58/80\n",
      "93/93 [==============================] - 3s 35ms/step - loss: 0.0013 - val_loss: 0.0616\n",
      "Epoch 59/80\n",
      "93/93 [==============================] - 3s 36ms/step - loss: 0.0013 - val_loss: 0.0630\n",
      "Epoch 60/80\n",
      "93/93 [==============================] - 3s 36ms/step - loss: 0.0013 - val_loss: 0.0664\n",
      "Epoch 61/80\n",
      "93/93 [==============================] - 3s 36ms/step - loss: 0.0013 - val_loss: 0.0643\n",
      "Epoch 62/80\n",
      "93/93 [==============================] - 3s 36ms/step - loss: 0.0012 - val_loss: 0.0648\n",
      "Epoch 63/80\n",
      "93/93 [==============================] - 3s 36ms/step - loss: 0.0012 - val_loss: 0.0640\n",
      "Epoch 64/80\n",
      "93/93 [==============================] - 3s 36ms/step - loss: 0.0012 - val_loss: 0.0606\n",
      "Epoch 65/80\n",
      "93/93 [==============================] - 3s 36ms/step - loss: 0.0012 - val_loss: 0.0630\n",
      "Epoch 66/80\n",
      "93/93 [==============================] - 3s 36ms/step - loss: 0.0011 - val_loss: 0.0638\n",
      "Epoch 67/80\n",
      "93/93 [==============================] - 3s 37ms/step - loss: 0.0011 - val_loss: 0.0642\n",
      "Epoch 68/80\n",
      "93/93 [==============================] - 3s 37ms/step - loss: 0.0011 - val_loss: 0.0604\n",
      "Epoch 69/80\n",
      "93/93 [==============================] - 4s 38ms/step - loss: 0.0011 - val_loss: 0.0617\n",
      "Epoch 70/80\n",
      "93/93 [==============================] - 3s 36ms/step - loss: 0.0011 - val_loss: 0.0655\n",
      "Epoch 71/80\n",
      "93/93 [==============================] - 4s 40ms/step - loss: 0.0011 - val_loss: 0.0592\n",
      "Epoch 72/80\n",
      "93/93 [==============================] - 3s 37ms/step - loss: 0.0011 - val_loss: 0.0560\n",
      "Epoch 73/80\n",
      "93/93 [==============================] - 3s 36ms/step - loss: 0.0010 - val_loss: 0.0640\n",
      "Epoch 74/80\n",
      "93/93 [==============================] - 3s 36ms/step - loss: 0.0010 - val_loss: 0.0633\n",
      "Epoch 75/80\n",
      "93/93 [==============================] - 3s 36ms/step - loss: 0.0010 - val_loss: 0.0614\n",
      "Epoch 76/80\n",
      "93/93 [==============================] - 4s 40ms/step - loss: 9.9316e-04 - val_loss: 0.0608\n",
      "Epoch 77/80\n",
      "93/93 [==============================] - 4s 38ms/step - loss: 9.8796e-04 - val_loss: 0.0598\n",
      "Epoch 78/80\n",
      "93/93 [==============================] - 3s 37ms/step - loss: 9.8569e-04 - val_loss: 0.0615\n",
      "Epoch 79/80\n",
      "93/93 [==============================] - 3s 36ms/step - loss: 9.7080e-04 - val_loss: 0.0608\n",
      "Epoch 80/80\n",
      "93/93 [==============================] - 3s 37ms/step - loss: 9.4427e-04 - val_loss: 0.0603\n"
     ]
    }
   ],
   "source": [
    "history = model.fit(\n",
    "    train_d,\n",
    "    train_d,\n",
    "    epochs=80,\n",
    "    batch_size=100,\n",
    "    validation_split=0.1,\n",
    "#     callbacks=[\n",
    "#         keras.callbacks.EarlyStopping(monitor=\"val_loss\", patience=5, mode=\"min\")\n",
    "#     ],\n",
    ")"
   ]
  },
  {
   "cell_type": "markdown",
   "metadata": {},
   "source": [
    "### Save model weight"
   ]
  },
  {
   "cell_type": "code",
   "execution_count": 16,
   "metadata": {},
   "outputs": [],
   "source": [
    "# model.save(rf\"Z:\\200 Produced_data\\MashineLearning\\Weight\\case{caseNum}_{trainTool}.h5\")\n",
    "model.save(rf\"Z:\\200 Produced_data\\MashineLearning\\Weight\\case{caseNum}_{trainTool}_NC.h5\")"
   ]
  },
  {
   "cell_type": "markdown",
   "metadata": {},
   "source": [
    "### Show the Training data Loss and Validation data Loss"
   ]
  },
  {
   "cell_type": "code",
   "execution_count": 15,
   "metadata": {},
   "outputs": [
    {
     "data": {
      "image/png": "[encoded data removed]",
      "text/plain": [
       "<Figure size 432x288 with 1 Axes>"
      ]
     },
     "metadata": {
      "needs_background": "light"
     },
     "output_type": "display_data"
    }
   ],
   "source": [
    "plt.plot(history.history[\"loss\"], label=\"Training Loss\")\n",
    "plt.plot(history.history[\"val_loss\"], label=\"Validation Loss\")\n",
    "plt.legend()\n",
    "plt.show()"
   ]
  },
  {
   "cell_type": "markdown",
   "metadata": {},
   "source": [
    "### Predict with TrainData and Get threshold(μ+3σ)"
   ]
  },
  {
   "cell_type": "code",
   "execution_count": 17,
   "metadata": {},
   "outputs": [
    {
     "name": "stdout",
     "output_type": "stream",
     "text": [
      "320/320 [==============================] - 2s 5ms/step\n",
      "(10230, 82, 1)\n"
     ]
    }
   ],
   "source": [
    "#predict(train data)\n",
    "train_d_pred = model.predict(train_d)\n",
    "print(train_d_pred.shape)\n",
    "\n",
    "# ex) if trainTool is A or B reshape(1200×total_path, fq_num, 1) -> (1200×total_path, fq_num)\n",
    "#     if trainTool is C reshape(1023×total_path, fq_num, 1) -> (1023×total_path, fq_num)\n",
    "train_d_pred = train_d_pred.reshape(interval*total_path, fq_num)\n",
    "\n",
    "#再構成誤差計算\n",
    "train_mae_loss = np.mean(np.square(np.abs(train_d_pred - train_d)), axis=1)\n",
    "\n",
    "#再構成誤差の平均値\n",
    "train_mae_loss_mean = np.mean(train_mae_loss)\n",
    "\n",
    "#再構成誤差の標準偏差\n",
    "train_mae_loss_std = np.std(train_mae_loss)\n",
    "\n",
    "#閾値設定\n",
    "#閾値T = μ+3σ (μ:train_dの再構成誤差の平均値、σ:train_d（A（51~60path）200-300kHz）の再構成誤差のの標準偏差)\n",
    "\n",
    "threshold = train_mae_loss_mean + train_mae_loss_std * 3"
   ]
  },
  {
   "cell_type": "code",
   "execution_count": 18,
   "metadata": {},
   "outputs": [
    {
     "name": "stdout",
     "output_type": "stream",
     "text": [
      "0.060719089529037484\n",
      "0.003713750413066046\n",
      "0.07186034076823562\n"
     ]
    }
   ],
   "source": [
    "print(train_mae_loss_mean)\n",
    "print(train_mae_loss_std)\n",
    "print(threshold)"
   ]
  },
  {
   "cell_type": "markdown",
   "metadata": {},
   "source": [
    "### Predict with TestData and Get Reconstruction Error of TestData"
   ]
  },
  {
   "cell_type": "code",
   "execution_count": 19,
   "metadata": {
    "scrolled": true
   },
   "outputs": [
    {
     "name": "stdout",
     "output_type": "stream",
     "text": [
      "17250/17250 [==============================] - 82s 5ms/step\n",
      "17250/17250 [==============================] - 83s 5ms/step\n",
      "14706/14706 [==============================] - 69s 5ms/step\n",
      "Wall time: 4min 7s\n"
     ]
    }
   ],
   "source": [
    "%%time\n",
    "# 5-6分かかる\n",
    "# test(A,B,C 1-460pah) predict & reshape & get reconstruction error\n",
    "test_A_pred = model.predict(test_A)\n",
    "test_A_pred = test_A_pred.reshape(552000,fq_num)\n",
    "\n",
    "test_B_pred = model.predict(test_B)\n",
    "test_B_pred = test_B_pred.reshape(552000,fq_num)\n",
    "\n",
    "test_C_pred = model.predict(test_C)\n",
    "test_C_pred = test_C_pred.reshape(470580,fq_num)\n",
    "\n",
    "\n",
    "test_A_mae_loss = np.mean(np.square(np.abs(test_A_pred - test_A)), axis=1)\n",
    "test_B_mae_loss = np.mean(np.square(np.abs(test_B_pred - test_B)), axis=1)\n",
    "test_C_mae_loss = np.mean(np.square(np.abs(test_C_pred - test_C)), axis=1)"
   ]
  },
  {
   "cell_type": "code",
   "execution_count": 20,
   "metadata": {},
   "outputs": [
    {
     "name": "stdout",
     "output_type": "stream",
     "text": [
      "(552000,)\n",
      "(552000,)\n",
      "(470580,)\n"
     ]
    }
   ],
   "source": [
    "#RE は　Reconstruction Errorの略\n",
    "test_A_RE = test_A_mae_loss.reshape(-1)\n",
    "test_B_RE = test_B_mae_loss.reshape(-1)\n",
    "test_C_RE = test_C_mae_loss.reshape(-1)\n",
    "\n",
    "print(test_A_RE.shape)\n",
    "print(test_B_RE.shape)\n",
    "print(test_C_RE.shape)\n",
    "\n",
    "# save RE\n",
    "# np.save(rf\"Z:\\200 Produced_data\\MashineLearning\\RE\\case{caseNum}_{trainTool}_A\", test_A_RE)\n",
    "# np.save(rf\"Z:\\200 Produced_data\\MashineLearning\\RE\\case{caseNum}_{trainTool}_B\", test_B_RE)\n",
    "# np.save(rf\"Z:\\200 Produced_data\\MashineLearning\\RE\\case{caseNum}_{trainTool}_C\", test_C_RE)\n",
    "\n",
    "np.save(rf\"Z:\\200 Produced_data\\MashineLearning\\RE\\case{caseNum}_{trainTool}_A_NC\", test_A_RE)\n",
    "np.save(rf\"Z:\\200 Produced_data\\MashineLearning\\RE\\case{caseNum}_{trainTool}_B_NC\", test_B_RE)\n",
    "np.save(rf\"Z:\\200 Produced_data\\MashineLearning\\RE\\case{caseNum}_{trainTool}_C_NC\", test_C_RE)"
   ]
  },
  {
   "cell_type": "code",
   "execution_count": 23,
   "metadata": {},
   "outputs": [
    {
     "data": {
      "text/plain": [
       "[<matplotlib.lines.Line2D at 0x1f602a37d00>]"
      ]
     },
     "execution_count": 23,
     "metadata": {},
     "output_type": "execute_result"
    },
    {
     "data": {
      "image/png": "[encoded data removed]",
      "text/plain": [
       "<Figure size 432x288 with 1 Axes>"
      ]
     },
     "metadata": {
      "needs_background": "light"
     },
     "output_type": "display_data"
    }
   ],
   "source": [
    "# plt.plot(test_A_RE)\n",
    "# plt.plot(test_B_RE)\n",
    "# plt.plot(test_C_RE)"
   ]
  },
  {
   "cell_type": "markdown",
   "metadata": {},
   "source": [
    "### some calc for matching the size"
   ]
  },
  {
   "cell_type": "code",
   "execution_count": 24,
   "metadata": {},
   "outputs": [
    {
     "name": "stdout",
     "output_type": "stream",
     "text": [
      "460.0\n",
      "460.0\n",
      "460.0\n"
     ]
    }
   ],
   "source": [
    "# test_A_RE = np.load(rf\"Z:\\200 Produced_data\\MashineLearning\\RE\\case{caseNum}_{trainTool}_A.npy\")\n",
    "# test_B_RE = np.load(rf\"Z:\\200 Produced_data\\MashineLearning\\RE\\case{caseNum}_{trainTool}_B.npy\")\n",
    "# test_C_RE = np.load(rf\"Z:\\200 Produced_data\\MashineLearning\\RE\\case{caseNum}_{trainTool}_C.npy\")\n",
    "\n",
    "\n",
    "test_A_RE = np.load(rf\"Z:\\200 Produced_data\\MashineLearning\\RE\\case{caseNum}_{trainTool}_A_NC.npy\")\n",
    "test_B_RE = np.load(rf\"Z:\\200 Produced_data\\MashineLearning\\RE\\case{caseNum}_{trainTool}_B_NC.npy\")\n",
    "test_C_RE = np.load(rf\"Z:\\200 Produced_data\\MashineLearning\\RE\\case{caseNum}_{trainTool}_C_NC.npy\")\n",
    "\n",
    "\n",
    "print(len(test_A_RE)/1200)\n",
    "print(len(test_B_RE)/1200)\n",
    "print(len(test_C_RE)/1023)"
   ]
  },
  {
   "cell_type": "code",
   "execution_count": 25,
   "metadata": {},
   "outputs": [],
   "source": [
    "#all_path_num\n",
    "a_p_n = 460\n",
    "#all_rotation_num\n",
    "a_r_n = 1200\n",
    "a_r_n_2 = 1023\n",
    "#moving avg path step\n",
    "m_a_p_s = 10\n",
    "\n",
    "w_size = a_r_n*m_a_p_s\n",
    "w_size2 = a_r_n_2*m_a_p_s\n",
    "\n",
    "x = np.linspace(-1,1,w_size)\n",
    "x2 = np.linspace(-1,1,w_size2)\n",
    "v = np.exp(-x**2 / 2) / np.sqrt(2 * np.pi)\n",
    "v2 = np.exp(-x2**2 / 2) / np.sqrt(2 * np.pi)\n",
    "v = v / np.sum(v)\n",
    "v2 = v2 / np.sum(v2)\n",
    "v = np.sort(v)[::-1]\n",
    "v2 = np.sort(v2)[::-1]"
   ]
  },
  {
   "cell_type": "code",
   "execution_count": 26,
   "metadata": {},
   "outputs": [
    {
     "name": "stdout",
     "output_type": "stream",
     "text": [
      "Wall time: 1min 13s\n"
     ]
    }
   ],
   "source": [
    "%%time\n",
    "#1-2分かかる\n",
    "RE_MA_A = np.convolve(test_A_RE,v, mode='valid')\n",
    "RE_MA_B = np.convolve(test_B_RE,v, mode='valid')\n",
    "RE_MA_C = np.convolve(test_C_RE,v2, mode='valid')"
   ]
  },
  {
   "cell_type": "code",
   "execution_count": 27,
   "metadata": {},
   "outputs": [],
   "source": [
    "# np.save(rf\"Z:\\200 Produced_data\\MashineLearning\\RE\\case{caseNum}_{trainTool}_A_MA\", RE_MA_A)\n",
    "# np.save(rf\"Z:\\200 Produced_data\\MashineLearning\\RE\\case{caseNum}_{trainTool}_B_MA\", RE_MA_B)\n",
    "# np.save(rf\"Z:\\200 Produced_data\\MashineLearning\\RE\\case{caseNum}_{trainTool}_C_MA\", RE_MA_C)\n",
    "\n",
    "\n",
    "np.save(rf\"Z:\\200 Produced_data\\MashineLearning\\RE\\case{caseNum}_{trainTool}_A_MA_NC\", RE_MA_A)\n",
    "np.save(rf\"Z:\\200 Produced_data\\MashineLearning\\RE\\case{caseNum}_{trainTool}_B_MA_NC\", RE_MA_B)\n",
    "np.save(rf\"Z:\\200 Produced_data\\MashineLearning\\RE\\case{caseNum}_{trainTool}_C_MA_NC\", RE_MA_C)"
   ]
  },
  {
   "cell_type": "code",
   "execution_count": 28,
   "metadata": {},
   "outputs": [],
   "source": [
    "tools = [\"A\", \"B\", \"C\"]\n",
    "intervals = [1200, 1200, 1023]"
   ]
  },
  {
   "cell_type": "code",
   "execution_count": 29,
   "metadata": {
    "scrolled": true
   },
   "outputs": [
    {
     "name": "stdout",
     "output_type": "stream",
     "text": [
      "450.0\n",
      "(12000, 45)\n",
      "(12000,)\n",
      "(12000, 1)\n",
      "(12000, 1)\n",
      "460.0\n",
      "-----------------\n",
      "450.0\n",
      "(12000, 45)\n",
      "(12000,)\n",
      "(12000, 1)\n",
      "(12000, 1)\n",
      "460.0\n",
      "-----------------\n",
      "450.0\n",
      "(10230, 45)\n",
      "(10230,)\n",
      "(10230, 1)\n",
      "(10230, 1)\n",
      "460.0\n",
      "(460, 1023)\n",
      "(460, 1200)\n",
      "460.0\n",
      "-----------------\n"
     ]
    }
   ],
   "source": [
    "for tool, interval in zip(tools, intervals):\n",
    "#     RE_MA = np.load(rf\"Z:\\200 Produced_data\\MashineLearning\\RE\\case{caseNum}_{trainTool}_{tool}_MA.npy\")\n",
    "    RE_MA = np.load(rf\"Z:\\200 Produced_data\\MashineLearning\\RE\\case{caseNum}_{trainTool}_{tool}_MA_NC.npy\")    \n",
    "    new = RE_MA[:-1]\n",
    "    print(len(new)/interval)\n",
    "    new = new.reshape(interval*10, int(len(new)/(interval*10)))\n",
    "    print(new.shape)\n",
    "    avg = np.average(new,axis=1)\n",
    "    print(avg.shape)\n",
    "    avg = avg.reshape(len(avg),1)\n",
    "    print(avg.shape)\n",
    "    avg = np.repeat(avg, 1, axis=1)\n",
    "    print(avg.shape)\n",
    "    new_n = np.block([new,avg])\n",
    "    new_n = new_n.ravel()\n",
    "    print(len(new_n)/interval)\n",
    "    \n",
    "    if tool == \"C\":\n",
    "        new_nn = new_n.reshape(int(len(new_n)/interval), interval)\n",
    "        print(new_nn.shape)\n",
    "        hokan = 1200-1023\n",
    "        avg = np.average(new_nn, axis=1)\n",
    "        avg = avg.reshape(len(avg), 1)\n",
    "        avg = np.repeat(avg, hokan, axis=1)\n",
    "        new_nn  = np.block([new_nn, avg])\n",
    "        print(new_nn.shape)\n",
    "        new_nn = new_nn.ravel()\n",
    "        print(len(new_nn)/1200)\n",
    "#         np.save(rf\"Z:\\200 Produced_data\\MashineLearning\\RE\\case{caseNum}_{trainTool}_{tool}_MA_EX.npy\",new_nn)\n",
    "        np.save(rf\"Z:\\200 Produced_data\\MashineLearning\\RE\\case{caseNum}_{trainTool}_{tool}_MA_EX_NC.npy\",new_nn)\n",
    "\n",
    "    else:\n",
    "#         np.save(rf\"Z:\\200 Produced_data\\MashineLearning\\RE\\case{caseNum}_{trainTool}_{tool}_MA_EX.npy\",new_n)\n",
    "        np.save(rf\"Z:\\200 Produced_data\\MashineLearning\\RE\\case{caseNum}_{trainTool}_{tool}_MA_EX_NC.npy\",new_n)\n",
    "\n",
    "    print(\"-----------------\")"
   ]
  },
  {
   "cell_type": "code",
   "execution_count": 30,
   "metadata": {},
   "outputs": [],
   "source": [
    "# A = np.load(rf\"Z:\\200 Produced_data\\MashineLearning\\RE\\case{caseNum}_{trainTool}_A_MA_EX.npy\")\n",
    "# B = np.load(rf\"Z:\\200 Produced_data\\MashineLearning\\RE\\case{caseNum}_{trainTool}_B_MA_EX.npy\")\n",
    "# C = np.load(rf\"Z:\\200 Produced_data\\MashineLearning\\RE\\case{caseNum}_{trainTool}_C_MA_EX.npy\")\n",
    "\n",
    "A = np.load(rf\"Z:\\200 Produced_data\\MashineLearning\\RE\\case{caseNum}_{trainTool}_A_MA_EX_NC.npy\")\n",
    "B = np.load(rf\"Z:\\200 Produced_data\\MashineLearning\\RE\\case{caseNum}_{trainTool}_B_MA_EX_NC.npy\")\n",
    "C = np.load(rf\"Z:\\200 Produced_data\\MashineLearning\\RE\\case{caseNum}_{trainTool}_C_MA_EX_NC.npy\")\n",
    "\n",
    "\n",
    "\n",
    "\n",
    "# A_ = np.load(rf\"Z:\\200 Produced_data\\MashineLearning\\RE\\hinan\\case{caseNum}_{trainTool}_A_MA_EX.npy\")\n",
    "# B_ = np.load(rf\"Z:\\200 Produced_data\\MashineLearning\\RE\\hinan\\case{caseNum}_{trainTool}_B_MA_EX.npy\")\n",
    "# C_ = np.load(rf\"Z:\\200 Produced_data\\MashineLearning\\RE\\hinan\\case{caseNum}_{trainTool}_C_MA_EX.npy\")"
   ]
  },
  {
   "cell_type": "code",
   "execution_count": 28,
   "metadata": {},
   "outputs": [
    {
     "name": "stdout",
     "output_type": "stream",
     "text": [
      "1\n",
      "B\n"
     ]
    }
   ],
   "source": [
    "print(caseNum)\n",
    "print(trainTool)"
   ]
  },
  {
   "cell_type": "code",
   "execution_count": 55,
   "metadata": {},
   "outputs": [
    {
     "data": {
      "text/plain": [
       "[<matplotlib.lines.Line2D at 0x2ba9f26c430>]"
      ]
     },
     "execution_count": 55,
     "metadata": {},
     "output_type": "execute_result"
    }
   ],
   "source": [
    "%matplotlib qt\n",
    "plt.plot(A)\n",
    "# plt.plot(A_)"
   ]
  },
  {
   "cell_type": "code",
   "execution_count": 56,
   "metadata": {},
   "outputs": [
    {
     "data": {
      "text/plain": [
       "[<matplotlib.lines.Line2D at 0x2ba9f2ca130>]"
      ]
     },
     "execution_count": 56,
     "metadata": {},
     "output_type": "execute_result"
    }
   ],
   "source": [
    "%matplotlib qt\n",
    "plt.plot(B)\n",
    "# plt.plot(B_)"
   ]
  },
  {
   "cell_type": "code",
   "execution_count": 57,
   "metadata": {},
   "outputs": [
    {
     "data": {
      "text/plain": [
       "[<matplotlib.lines.Line2D at 0x2bab6cf01f0>]"
      ]
     },
     "execution_count": 57,
     "metadata": {},
     "output_type": "execute_result"
    }
   ],
   "source": [
    "%matplotlib qt\n",
    "plt.plot(C)\n",
    "# plt.plot(C_)"
   ]
  },
  {
   "cell_type": "code",
   "execution_count": 33,
   "metadata": {},
   "outputs": [
    {
     "data": {
      "text/plain": [
       "[<matplotlib.lines.Line2D at 0x1aba3600400>]"
      ]
     },
     "execution_count": 33,
     "metadata": {},
     "output_type": "execute_result"
    }
   ],
   "source": [
    "%matplotlib qt\n",
    "plt.plot(A)\n",
    "plt.plot(B)\n",
    "plt.plot(C)"
   ]
  },
  {
   "cell_type": "code",
   "execution_count": 62,
   "metadata": {},
   "outputs": [
    {
     "ename": "NameError",
     "evalue": "name 'B_' is not defined",
     "output_type": "error",
     "traceback": [
      "\u001b[1;31m---------------------------------------------------------------------------\u001b[0m",
      "\u001b[1;31mNameError\u001b[0m                                 Traceback (most recent call last)",
      "\u001b[1;32m<ipython-input-62-df2ee2a0a260>\u001b[0m in \u001b[0;36m<module>\u001b[1;34m\u001b[0m\n\u001b[0;32m      1\u001b[0m \u001b[1;31m# %matplotlib qt\u001b[0m\u001b[1;33m\u001b[0m\u001b[1;33m\u001b[0m\u001b[1;33m\u001b[0m\u001b[0m\n\u001b[0;32m      2\u001b[0m \u001b[1;31m# plt.plot(A_)\u001b[0m\u001b[1;33m\u001b[0m\u001b[1;33m\u001b[0m\u001b[1;33m\u001b[0m\u001b[0m\n\u001b[1;32m----> 3\u001b[1;33m \u001b[0mplt\u001b[0m\u001b[1;33m.\u001b[0m\u001b[0mplot\u001b[0m\u001b[1;33m(\u001b[0m\u001b[0mB_\u001b[0m\u001b[1;33m)\u001b[0m\u001b[1;33m\u001b[0m\u001b[1;33m\u001b[0m\u001b[0m\n\u001b[0m\u001b[0;32m      4\u001b[0m \u001b[0mplt\u001b[0m\u001b[1;33m.\u001b[0m\u001b[0mplot\u001b[0m\u001b[1;33m(\u001b[0m\u001b[0mC_\u001b[0m\u001b[1;33m)\u001b[0m\u001b[1;33m\u001b[0m\u001b[1;33m\u001b[0m\u001b[0m\n",
      "\u001b[1;31mNameError\u001b[0m: name 'B_' is not defined"
     ]
    }
   ],
   "source": [
    "# %matplotlib qt\n",
    "# plt.plot(A_)\n",
    "# plt.plot(B_)\n",
    "# plt.plot(C_)"
   ]
  },
  {
   "cell_type": "code",
   "execution_count": 37,
   "metadata": {},
   "outputs": [
    {
     "data": {
      "text/plain": [
       "[<matplotlib.lines.Line2D at 0x1f60c98d7c0>]"
      ]
     },
     "execution_count": 37,
     "metadata": {},
     "output_type": "execute_result"
    }
   ],
   "source": [
    "%matplotlib qt\n",
    "#all_path_num\n",
    "a_p_n = 120\n",
    "#all_rotation_num\n",
    "a_r_n = 1200\n",
    "#moving avg path step\n",
    "m_a_p_s = 30\n",
    "\n",
    "\n",
    "fig = plt.figure()\n",
    "ax = fig.add_subplot()\n",
    "ax.set_xticks(np.arange(0, a_p_n*a_r_n + 1, a_r_n*m_a_p_s))\n",
    "ax.set_xticklabels(np.arange(0,a_p_n + 1,m_a_p_s))\n",
    "ax.set_xlabel(xlabel='Path Number')\n",
    "# ax.set_ylabel(ylabel='Cutting Force[N]')\n",
    "ax.tick_params(axis = 'x')\n",
    "ax.tick_params(axis = 'y')\n",
    "\n",
    "ax = ax.twinx()\n",
    "ax.set_ylabel(ylabel='Reconstruction Error')\n",
    "\n",
    "\n",
    "# ax.plot(cfm_C, label=\"Cutting Force\", linewidth=\"5\")\n",
    "# ax.plot(A_, label=\"Reconstruction Error\", color=\"magenta\")\n",
    "# ax.plot(A[:a_p_n*a_r_n])\n",
    "# ax.plot(B[:a_p_n*a_r_n])\n",
    "ax.plot(C[:a_p_n*a_r_n])"
   ]
  },
  {
   "cell_type": "code",
   "execution_count": null,
   "metadata": {},
   "outputs": [],
   "source": []
  }
 ],
 "metadata": {
  "kernelspec": {
   "display_name": "Python 3",
   "language": "python",
   "name": "python3"
  },
  "language_info": {
   "codemirror_mode": {
    "name": "ipython",
    "version": 3
   },
   "file_extension": ".py",
   "mimetype": "text/x-python",
   "name": "python",
   "nbconvert_exporter": "python",
   "pygments_lexer": "ipython3",
   "version": "3.8.3"
  }
 },
 "nbformat": 4,
 "nbformat_minor": 4
}
