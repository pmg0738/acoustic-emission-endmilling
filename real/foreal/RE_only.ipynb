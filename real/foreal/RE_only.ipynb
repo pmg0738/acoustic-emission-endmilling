{
 "cells": [
  {
   "cell_type": "code",
   "execution_count": 1,
   "metadata": {},
   "outputs": [],
   "source": [
    "import numpy as np\n",
    "import matplotlib.pyplot as plt\n",
    "from tqdm import tqdm"
   ]
  },
  {
   "cell_type": "code",
   "execution_count": 18,
   "metadata": {},
   "outputs": [],
   "source": [
    "case_num = 1\n",
    "train_tool = \"C\""
   ]
  },
  {
   "cell_type": "code",
   "execution_count": 19,
   "metadata": {},
   "outputs": [],
   "source": [
    "a = np.load(rf\"Z:\\200 Produced_data\\MashineLearning\\RE\\case{case_num}_{train_tool}_A_MA_EX.npy\")\n",
    "b = np.load(rf\"Z:\\200 Produced_data\\MashineLearning\\RE\\case{case_num}_{train_tool}_B_MA_EX.npy\")\n",
    "c = np.load(rf\"Z:\\200 Produced_data\\MashineLearning\\RE\\case{case_num}_{train_tool}_C_MA_EX.npy\")"
   ]
  },
  {
   "cell_type": "code",
   "execution_count": 38,
   "metadata": {},
   "outputs": [],
   "source": [
    "start = 41\n",
    "end = 220"
   ]
  },
  {
   "cell_type": "code",
   "execution_count": 39,
   "metadata": {},
   "outputs": [
    {
     "data": {
      "text/plain": [
       "[<matplotlib.lines.Line2D at 0x23a50acb430>]"
      ]
     },
     "execution_count": 39,
     "metadata": {},
     "output_type": "execute_result"
    }
   ],
   "source": [
    "%matplotlib qt\n",
    "#all_path_num\n",
    "a_p_n = end - start + 1\n",
    "#all_rotation_num\n",
    "a_r_n = 1200\n",
    "#moving avg path step\n",
    "m_a_p_s = 20\n",
    "\n",
    "\n",
    "\n",
    "x = np.arange((start-1)*a_r_n, end*a_r_n)\n",
    "\n",
    "\n",
    "fig = plt.figure()\n",
    "ax = fig.add_subplot()\n",
    "ax.set_xticks(np.arange((start)*a_r_n, end*a_r_n + 1, a_r_n*m_a_p_s))\n",
    "ax.set_xticklabels(np.arange((start),end + 1,m_a_p_s))\n",
    "ax.set_xlabel(xlabel='Path Number')\n",
    "ax.set_ylabel(ylabel='Reconstruction Error')\n",
    "ax.tick_params(axis = 'x')\n",
    "ax.tick_params(axis = 'y')\n",
    "\n",
    "\n",
    "ax.plot(x, c[(start-1)*a_r_n:(end*a_r_n)], label=\"A\", linestyle=\"solid\", linewidth=\"3\")\n",
    "# plt.savefig(rf\"\")"
   ]
  },
  {
   "cell_type": "code",
   "execution_count": null,
   "metadata": {},
   "outputs": [],
   "source": []
  }
 ],
 "metadata": {
  "kernelspec": {
   "display_name": "Python 3",
   "language": "python",
   "name": "python3"
  },
  "language_info": {
   "codemirror_mode": {
    "name": "ipython",
    "version": 3
   },
   "file_extension": ".py",
   "mimetype": "text/x-python",
   "name": "python",
   "nbconvert_exporter": "python",
   "pygments_lexer": "ipython3",
   "version": "3.8.3"
  }
 },
 "nbformat": 4,
 "nbformat_minor": 4
}
