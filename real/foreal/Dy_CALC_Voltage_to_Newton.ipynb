{
 "cells": [
  {
   "cell_type": "code",
   "execution_count": 1,
   "metadata": {},
   "outputs": [],
   "source": [
    "from loadTDMS import *\n",
    "import numpy as np\n",
    "import matplotlib.pyplot as plt\n",
    "from tqdm import tqdm"
   ]
  },
  {
   "cell_type": "markdown",
   "metadata": {},
   "source": [
    "## 日付 : 切削中のサンプル数 / last path \n",
    "- 20211025 : 5060000 / 24path\n",
    "- 20211115 : 5010000 / 238path\n",
    "- 20220630 : 4670000 / 735path\n",
    "- 20221027 : 4930000 / 168path\n",
    "- 20230113 : 9970000 / 120path\n",
    "- 20230117 : 9970000 / 340path\n",
    "- 20230120 : [36000:10006000] / 460path\n",
    "- 20230123 :  [1000000:9500000]/ 460path"
   ]
  },
  {
   "cell_type": "code",
   "execution_count": 5,
   "metadata": {},
   "outputs": [
    {
     "name": "stdout",
     "output_type": "stream",
     "text": [
      "date=20230123, last_path=460, last_sample_num=9950000\n"
     ]
    }
   ],
   "source": [
    "# date = 20211025\n",
    "# date = 20211115\n",
    "# date = 20220630\n",
    "# date = 20221027\n",
    "# date = 20230113\n",
    "# date = 20230117\n",
    "# date = 20230120\n",
    "date = 20230123\n",
    "\n",
    "if date == 20211025:\n",
    "    last_path = 24\n",
    "    last_sample_num = 5060000\n",
    "if date == 20211115:\n",
    "    last_path = 238\n",
    "    last_sample_num = 5010000\n",
    "if date == 20220630:\n",
    "    last_path = 735\n",
    "    last_sample_num = 4670000 \n",
    "if date == 20221027:\n",
    "    last_path = 168\n",
    "    last_sample_num = 4930000\n",
    "    \n",
    "if date == 20230113:\n",
    "    last_path = 120\n",
    "    last_sample_num = 9970000\n",
    "\n",
    "if date == 20230117:\n",
    "    last_path = 460\n",
    "    last_sample_num = 9970000\n",
    "\n",
    "if date == 20230120:\n",
    "    last_path = 460\n",
    "    last_sample_num = 10006000\n",
    "\n",
    "if date == 20230123:\n",
    "    last_path = 460\n",
    "    last_sample_num = 9950000\n",
    "\n",
    "print(rf\"date={date}, last_path={last_path}, last_sample_num={last_sample_num}\")"
   ]
  },
  {
   "cell_type": "markdown",
   "metadata": {},
   "source": [
    "## ドリフトがあまりない実験\n",
    "- 20230113\n",
    "- 20230117"
   ]
  },
  {
   "cell_type": "code",
   "execution_count": null,
   "metadata": {},
   "outputs": [],
   "source": [
    "ncd_avg = np.load(rf\"Z:\\200 Produced_data\\{date}\\CF\\new_non_cutting_avg.npy\")\n",
    "# ncd_avg = np.load(rf\"Z:\\200 Produced_data\\{date}\\CF\\non_cutting_avg.npy\")\n",
    "for num in tqdm(range(1,461)):\n",
    "    path = rf\"Z:\\100 Raw_data\\{date}---切削実験\\Dynamometer\\Cutting\\Dynamo_{num}.tdms\"\n",
    "    cd = load_tdms(path, ch_num=3)\n",
    "    cd = cd[1][:9970000]\n",
    "    cf = ( cd - ncd_avg[num - 121] ) * (-500)\n",
    "    np.save(rf\"Z:\\200 Produced_data\\{date}\\CF\\{num}\",cf)"
   ]
  },
  {
   "cell_type": "markdown",
   "metadata": {},
   "source": [
    "## ドリフトが沢山あり、pathによって違う操作をする実験\n",
    "- 20230120\n",
    "- 20230123"
   ]
  },
  {
   "cell_type": "code",
   "execution_count": 15,
   "metadata": {},
   "outputs": [],
   "source": [
    "a = np.arange(1,461)\n",
    "drift = np.load(rf\"Z:\\200 Produced_data\\{date}\\CF\\drift_path.npy\")\n",
    "drift_1 = np.load(rf\"Z:\\200 Produced_data\\{date}\\CF\\drift_path1.npy\")\n",
    "drift_2 = np.load(rf\"Z:\\200 Produced_data\\{date}\\CF\\drift_path2.npy\")\n",
    "drift_3 = np.load(rf\"Z:\\200 Produced_data\\{date}\\CF\\drift_path3.npy\")\n",
    "normal = np.delete(a, drift - 1)"
   ]
  },
  {
   "cell_type": "code",
   "execution_count": 22,
   "metadata": {},
   "outputs": [
    {
     "data": {
      "text/plain": [
       "460"
      ]
     },
     "execution_count": 22,
     "metadata": {},
     "output_type": "execute_result"
    }
   ],
   "source": [
    "len(normal) + len(drift)"
   ]
  },
  {
   "cell_type": "code",
   "execution_count": 23,
   "metadata": {},
   "outputs": [
    {
     "name": "stdout",
     "output_type": "stream",
     "text": [
      "123\n",
      "74\n",
      "20\n",
      "244\n",
      "461\n",
      "217\n"
     ]
    }
   ],
   "source": [
    "print(len(drift_1))\n",
    "print(len(drift_2))\n",
    "print(len(drift_3))\n",
    "print(len(normal))\n",
    "print(len(drift_1) + len(drift_2) +  len(drift_3) + len(normal))\n",
    "print(len(drift_1) + len(drift_2) +  len(drift_3))"
   ]
  },
  {
   "cell_type": "code",
   "execution_count": 10,
   "metadata": {},
   "outputs": [
    {
     "data": {
      "text/plain": [
       "array([ 63,  65,  66,  75,  84,  90,  91,  92,  95,  97, 100, 102, 103,\n",
       "       104, 105, 106, 117, 118, 119, 120, 124, 125, 126, 127, 128, 129,\n",
       "       130, 131, 132, 133, 134, 137, 138, 139, 141, 142, 143, 144, 145,\n",
       "       146, 147, 150, 154, 155, 158, 161, 164, 168, 169, 170, 173, 176,\n",
       "       179, 180, 181, 182, 183, 185, 188, 190, 191, 192, 193, 194, 195,\n",
       "       198, 201, 211, 217, 218, 220, 221, 234, 237, 241, 246, 251, 252,\n",
       "       255, 258, 260, 261, 263, 264, 266, 282, 283, 288, 289, 290, 291,\n",
       "       293, 300, 304, 305, 307, 308, 309, 311, 314, 315, 318, 320, 323,\n",
       "       325, 328, 329, 333, 343, 345, 351, 352, 358, 364, 369, 370, 372,\n",
       "       381, 382, 387, 402, 404, 414])"
      ]
     },
     "execution_count": 10,
     "metadata": {},
     "output_type": "execute_result"
    }
   ],
   "source": [
    "drift_1"
   ]
  },
  {
   "cell_type": "code",
   "execution_count": 33,
   "metadata": {},
   "outputs": [
    {
     "name": "stderr",
     "output_type": "stream",
     "text": [
      "100%|██████████| 244/244 [09:49<00:00,  2.41s/it]\n"
     ]
    }
   ],
   "source": [
    "#normal\n",
    "#2023 0120\n",
    "\n",
    "ncd_avg = np.load(rf\"Z:\\200 Produced_data\\{date}\\CF\\new_non_cutting_avg.npy\")\n",
    "\n",
    "for num in tqdm(normal):\n",
    "    path = rf\"Z:\\100 Raw_data\\{date}---切削実験\\Dynamometer\\Cutting\\Dynamo_{num}.tdms\"\n",
    "    cd = load_tdms(path, ch_num=3)\n",
    "    cd = cd[1][1000000:9500000]\n",
    "    cf = (cd - ncd_avg[num-1]) * (-500)\n",
    "    np.save(rf\"Z:\\200 Produced_data\\{date}\\CF\\{num}\",cf)"
   ]
  },
  {
   "cell_type": "code",
   "execution_count": 70,
   "metadata": {},
   "outputs": [],
   "source": [
    "nca = np.load(rf\"Z:\\200 Produced_data\\{date}\\CF\\new_non_cutting_avg2.npy\")"
   ]
  },
  {
   "cell_type": "code",
   "execution_count": 34,
   "metadata": {},
   "outputs": [
    {
     "name": "stderr",
     "output_type": "stream",
     "text": [
      "100%|██████████| 123/123 [04:48<00:00,  2.34s/it]\n"
     ]
    }
   ],
   "source": [
    "#drift1\n",
    "for num in tqdm(drift_1):\n",
    "    path = rf\"Z:\\100 Raw_data\\{date}---切削実験\\Dynamometer\\Cutting\\Dynamo_{num}.tdms\"\n",
    "    cd = load_tdms(path, ch_num=3)\n",
    "    ncd = np.average(cd[1][33000:35000])\n",
    "#     print(ncd)\n",
    "    cd = cd[1][1000000:9500000]\n",
    "    \n",
    "    cf = (cd - ncd - ncd_avg[num-1]) * (-500)\n",
    "    np.save(rf\"Z:\\200 Produced_data\\{date}\\CF\\{num}\",cf)"
   ]
  },
  {
   "cell_type": "code",
   "execution_count": 35,
   "metadata": {},
   "outputs": [
    {
     "name": "stderr",
     "output_type": "stream",
     "text": [
      "100%|██████████| 74/74 [02:50<00:00,  2.31s/it]\n"
     ]
    }
   ],
   "source": [
    "#drift2\n",
    "for num in tqdm(drift_2):\n",
    "    path = rf\"Z:\\100 Raw_data\\{date}---切削実験\\Dynamometer\\Cutting\\Dynamo_{num}.tdms\"\n",
    "    cd = load_tdms(path, ch_num=3)\n",
    "    ncd = np.average(cd[1][-2000:-1])\n",
    "#     print(ncd)\n",
    "    cd = cd[1][1000000:9500000]\n",
    "    \n",
    "    cf = (cd - ncd - ncd_avg[num-1]) * (-500)\n",
    "    np.save(rf\"Z:\\200 Produced_data\\{date}\\CF\\{num}\",cf)"
   ]
  },
  {
   "cell_type": "code",
   "execution_count": 32,
   "metadata": {},
   "outputs": [
    {
     "data": {
      "text/plain": [
       "0.26267510652542114"
      ]
     },
     "execution_count": 32,
     "metadata": {},
     "output_type": "execute_result"
    }
   ],
   "source": [
    "ncd_avg[459]"
   ]
  },
  {
   "cell_type": "code",
   "execution_count": null,
   "metadata": {},
   "outputs": [],
   "source": [
    "path = rf\"Z:\\100 Raw_data\\{date}---切削実験\\Dynamometer\\Cutting\\Dynamo_59.tdms\"\n",
    "cd = load_tdms(path, ch_num=3)\n",
    "ncd = np.average(cd[1][-2000:-1])\n",
    "cd = cd[1][1000000:9500000]\n",
    "cf = (cd - ncd - ncd_avg[num+1]) * (-500)\n",
    "np.save(rf\"Z:\\200 Produced_data\\{date}\\CF\\{num}\",cf)"
   ]
  },
  {
   "cell_type": "code",
   "execution_count": 36,
   "metadata": {},
   "outputs": [
    {
     "name": "stderr",
     "output_type": "stream",
     "text": [
      "100%|██████████| 20/20 [00:46<00:00,  2.34s/it]\n"
     ]
    }
   ],
   "source": [
    "#drift3\n",
    "for num in tqdm(drift_3):\n",
    "    path = rf\"Z:\\100 Raw_data\\{date}---切削実験\\Dynamometer\\Cutting\\Dynamo_{num}.tdms\"\n",
    "    cd = load_tdms(path, ch_num=3)\n",
    "    ncd = np.average(cd[1][-5000:-3000])\n",
    "#     print(ncd)\n",
    "    cd = cd[1][1000000:9500000]\n",
    "    \n",
    "    cf = (cd - ncd - ncd_avg[num+1]) * (-500)\n",
    "    np.save(rf\"Z:\\200 Produced_data\\{date}\\CF\\{num}\",cf)"
   ]
  },
  {
   "cell_type": "code",
   "execution_count": 25,
   "metadata": {},
   "outputs": [],
   "source": [
    "d = np.load(rf\"Z:\\200 Produced_data\\{date}\\CF\\301.npy\")"
   ]
  },
  {
   "cell_type": "code",
   "execution_count": 26,
   "metadata": {},
   "outputs": [
    {
     "data": {
      "text/plain": [
       "[<matplotlib.lines.Line2D at 0x24b91978ac0>]"
      ]
     },
     "execution_count": 26,
     "metadata": {},
     "output_type": "execute_result"
    }
   ],
   "source": [
    "%matplotlib qt\n",
    "plt.plot(d)"
   ]
  },
  {
   "cell_type": "code",
   "execution_count": null,
   "metadata": {},
   "outputs": [],
   "source": [
    "    cf = ( cd - np.average(cd[-8303*10:-1]) * (-500))\n"
   ]
  }
 ],
 "metadata": {
  "kernelspec": {
   "display_name": "Python 3",
   "language": "python",
   "name": "python3"
  },
  "language_info": {
   "codemirror_mode": {
    "name": "ipython",
    "version": 3
   },
   "file_extension": ".py",
   "mimetype": "text/x-python",
   "name": "python",
   "nbconvert_exporter": "python",
   "pygments_lexer": "ipython3",
   "version": "3.8.3"
  }
 },
 "nbformat": 4,
 "nbformat_minor": 4
}
