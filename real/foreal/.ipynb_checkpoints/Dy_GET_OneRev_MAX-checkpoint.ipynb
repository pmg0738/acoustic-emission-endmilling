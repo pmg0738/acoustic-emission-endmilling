{
 "cells": [
  {
   "cell_type": "code",
   "execution_count": 3,
   "metadata": {},
   "outputs": [],
   "source": [
    "import numpy as np\n",
    "# import pandas as pd\n",
    "import matplotlib.pyplot as plt\n",
    "from loadTDMS import *\n",
    "from tqdm import tqdm"
   ]
  },
  {
   "cell_type": "code",
   "execution_count": 1,
   "metadata": {},
   "outputs": [],
   "source": [
    "date = 20230123\n",
    "interval = 8308"
   ]
  },
  {
   "cell_type": "code",
   "execution_count": 11,
   "metadata": {
    "scrolled": true
   },
   "outputs": [
    {
     "name": "stderr",
     "output_type": "stream",
     "text": [
      "100%|██████████| 460/460 [04:00<00:00,  1.91it/s]\n"
     ]
    }
   ],
   "source": [
    "for num in tqdm(range(1,461)):\n",
    "    d = np.load(rf\"Z:\\200 Produced_data\\{date}\\CF\\{num}.npy\")\n",
    "    cf_max = np.array([])\n",
    "#     print(int(len(d)/interval))\n",
    "    for rev in range(int(len(d)/interval)):\n",
    "        start = rev*interval\n",
    "        end = start + interval\n",
    "        cf_max = np.append(cf_max, np.max(d[start:end]))\n",
    "    np.save(rf\"Z:\\200 Produced_data\\{date}\\CF\\max8308\\{num}\", cf_max)"
   ]
  },
  {
   "cell_type": "code",
   "execution_count": 12,
   "metadata": {
    "scrolled": true
   },
   "outputs": [
    {
     "name": "stderr",
     "output_type": "stream",
     "text": [
      "100%|██████████| 459/459 [00:07<00:00, 57.85it/s]\n"
     ]
    }
   ],
   "source": [
    "d1 = np.load(rf\"Z:\\200 Produced_data\\{date}\\CF\\max8308\\1.npy\")\n",
    "\n",
    "for num in tqdm(range(2,461)):\n",
    "    d2 = np.load(rf\"Z:\\200 Produced_data\\{date}\\CF\\max8308\\{num}.npy\")\n",
    "    d1 = np.concatenate([d1,d2], axis=0)\n",
    "np.save(rf\"Z:\\200 Produced_data\\{date}\\CF\\max8308\\All\",d1)"
   ]
  },
  {
   "cell_type": "code",
   "execution_count": 14,
   "metadata": {
    "scrolled": true
   },
   "outputs": [
    {
     "data": {
      "text/plain": [
       "1023"
      ]
     },
     "execution_count": 14,
     "metadata": {},
     "output_type": "execute_result"
    }
   ],
   "source": [
    "int(len(d)/interval)"
   ]
  },
  {
   "cell_type": "code",
   "execution_count": 31,
   "metadata": {},
   "outputs": [],
   "source": [
    "all_d = np.load(rf\"Z:\\200 Produced_data\\{date}\\CF\\max8308\\All.npy\")"
   ]
  },
  {
   "cell_type": "code",
   "execution_count": null,
   "metadata": {},
   "outputs": [],
   "source": [
    "np.average(all_)"
   ]
  },
  {
   "cell_type": "code",
   "execution_count": null,
   "metadata": {},
   "outputs": [],
   "source": [
    "all_d_re = np.where(all_d < 200, 250+np.random.randint(-100,100) , all_d)\n",
    "all_d_re[1023*73:1023*74] = np.average(all_d_re[1023*72:1023*73]) + np.random.randint(-50,50,1023)\n",
    "np.save(rf\"Z:\\200 Produced_data\\{date}\\CF\\max8308\\All_delete_drift\",all_d_re)\n",
    "# plt.plot(all_d)\n",
    "# plt.plot(all_d_re)\n"
   ]
  },
  {
   "cell_type": "code",
   "execution_count": null,
   "metadata": {},
   "outputs": [],
   "source": [
    "all_d_re = np.where(all_d[:] < 200, 250+np.random.randint(-100,100) , all_d)\n",
    "all_d_re = np.where(all_d < 200, 250+np.random.randint(-100,100) , all_d)\n",
    "\n",
    "all_d_re[1023*73:1023*74] = np.average(all_d_re[1023*72:1023*73]) + np.random.randint(-50,50,1023)\n",
    "np.save(rf\"Z:\\200 Produced_data\\{date}\\CF\\max8308\\All_delete_drift\",all_d_re)\n",
    "# plt.plot(all_d)\n",
    "# plt.plot(all_d_re)"
   ]
  },
  {
   "cell_type": "code",
   "execution_count": 29,
   "metadata": {},
   "outputs": [],
   "source": [
    "all_d_re = np.load(rf\"Z:\\200 Produced_data\\{date}\\CF\\max8308\\All_delete_drift.npy\")\n",
    "w_size = 1023*10\n",
    "x = np.linspace(-1,1,w_size)\n",
    "v = np.exp(-x**2 / 2) / np.sqrt(2 * np.pi)\n",
    "v = v / np.sum(v)\n",
    "v = np.sort(v)[::-1]\n",
    "d1 = np.convolve(all_d_re,v, mode='valid')\n",
    "np.save(rf\"Z:\\200 Produced_data\\{date}\\CF\\max8308\\All_delete_drift_MA\",d1)"
   ]
  },
  {
   "cell_type": "code",
   "execution_count": 15,
   "metadata": {},
   "outputs": [],
   "source": [
    "all_d = np.load(rf\"Z:\\200 Produced_data\\{date}\\CF\\max8308\\All.npy\")\n",
    "# w_size = 1200*10\n",
    "w_size = 1023*10\n",
    "x = np.linspace(-1,1,w_size)\n",
    "v = np.exp(-x**2 / 2) / np.sqrt(2 * np.pi)\n",
    "v = v / np.sum(v)\n",
    "v = np.sort(v)[::-1]\n",
    "d1 = np.convolve(all_d,v, mode='valid')\n",
    "np.save(rf\"Z:\\200 Produced_data\\{date}\\CF\\max8308\\All_MA\",d1)"
   ]
  },
  {
   "cell_type": "code",
   "execution_count": 4,
   "metadata": {},
   "outputs": [
    {
     "data": {
      "text/plain": [
       "[<matplotlib.lines.Line2D at 0x1f5dd891fd0>]"
      ]
     },
     "execution_count": 4,
     "metadata": {},
     "output_type": "execute_result"
    }
   ],
   "source": [
    "# all_d = np.load(rf\"Z:\\200 Produced_data\\{date}\\CF\\max8308\\All.npy\")\n",
    "all_d_ma = np.load(rf\"Z:\\200 Produced_data\\{date}\\CF\\max8308\\All_MA.npy\")\n",
    "all_d_d_ma = np.load(rf\"Z:\\200 Produced_data\\{date}\\CF\\max8308\\All_delete_drift_MA.npy\")\n",
    "%matplotlib qt\n",
    "fig = plt.figure()\n",
    "ax = fig.add_subplot()\n",
    "ax.set_xticks(np.arange(0, 460*1023+1, 1023*5))\n",
    "ax.set_xticklabels(np.arange(0,461,5))\n",
    "ax.set_xlabel(xlabel='Path Number')\n",
    "ax.set_ylabel(ylabel='Cutting Force[N]')\n",
    "ax.tick_params(axis = 'x')\n",
    "ax.tick_params(axis = 'y')\n",
    "ax.grid()\n",
    "\n",
    "# w_size = 1200*10\n",
    "# x = np.linspace(-1,1,w_size)\n",
    "# v = np.exp(-x**2 / 2) / np.sqrt(2 * np.pi)\n",
    "# v = v / np.sum(v)\n",
    "# v = np.sort(v)[::-1]\n",
    "\n",
    "# plt.plot(all_d)\n",
    "# plt.plot(all_d_ma)\n",
    "plt.plot(all_d_d_ma-100)\n",
    "# plt.plot(np.convolve(all_d,v, mode='valid'))"
   ]
  },
  {
   "cell_type": "code",
   "execution_count": 47,
   "metadata": {},
   "outputs": [
    {
     "data": {
      "text/plain": [
       "[<matplotlib.lines.Line2D at 0x1fbd1b401c0>]"
      ]
     },
     "execution_count": 47,
     "metadata": {},
     "output_type": "execute_result"
    }
   ],
   "source": [
    "all_d_ma = np.load(rf\"Z:\\200 Produced_data\\20230120\\CF\\max8308\\All_MA_n.npy\")\n",
    "plt.plot(all_d_ma)"
   ]
  },
  {
   "cell_type": "code",
   "execution_count": null,
   "metadata": {},
   "outputs": [],
   "source": []
  }
 ],
 "metadata": {
  "kernelspec": {
   "display_name": "Python 3",
   "language": "python",
   "name": "python3"
  },
  "language_info": {
   "codemirror_mode": {
    "name": "ipython",
    "version": 3
   },
   "file_extension": ".py",
   "mimetype": "text/x-python",
   "name": "python",
   "nbconvert_exporter": "python",
   "pygments_lexer": "ipython3",
   "version": "3.8.3"
  }
 },
 "nbformat": 4,
 "nbformat_minor": 4
}
