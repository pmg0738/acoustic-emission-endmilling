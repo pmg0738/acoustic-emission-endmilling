{
 "cells": [
  {
   "cell_type": "code",
   "execution_count": 1,
   "metadata": {},
   "outputs": [],
   "source": [
    "from loadTDMS import *\n",
    "from fft_test import *\n",
    "import numpy as np\n",
    "# import pandas as pd\n",
    "import matplotlib.pyplot as plt\n",
    "from tqdm import tqdm\n",
    "# import seaborn as sns"
   ]
  },
  {
   "cell_type": "code",
   "execution_count": 2,
   "metadata": {},
   "outputs": [],
   "source": [
    "# date = 20211025\n",
    "# date = 20211115\n",
    "# date = 20220630\n",
    "# date = 20221027\n",
    "# date = 20230113\n",
    "# date = 20230117\n",
    "date = 20230120\n",
    "# date = 20230123"
   ]
  },
  {
   "cell_type": "markdown",
   "metadata": {},
   "source": [
    "# 特定区間（1path ~ npath)"
   ]
  },
  {
   "cell_type": "markdown",
   "metadata": {},
   "source": [
    "###  20230123 (99,155,303,308,404) :  spindle, work データ逆"
   ]
  },
  {
   "cell_type": "code",
   "execution_count": 13,
   "metadata": {},
   "outputs": [],
   "source": [
    "dt = 1/10**6\n",
    "split_t_r = 0.1 # 1つの枠で全体のどの割合のデータを分析するか。\n",
    "overlap = 0.5  # オーバーラップ率\n",
    "window_F = \"hamming\"  # 窓関数選択: hanning, hamming, blackman\n",
    "y_label = \"amplitude\"\n",
    "y_unit = \"V\"\n",
    "start = 15000000\n",
    "interval = 25000"
   ]
  },
  {
   "cell_type": "code",
   "execution_count": 14,
   "metadata": {},
   "outputs": [
    {
     "name": "stderr",
     "output_type": "stream",
     "text": [
      "100%|██████████| 460/460 [37:12<00:00,  4.85s/it]\n"
     ]
    }
   ],
   "source": [
    "for num in tqdm(range(1,461)):\n",
    "    load_path = rf\"Z:\\100 Raw_data\\{date}---切削実験\\AE\\Cutting\\AE_{num}.tdms\"\n",
    "    ae_d = load_tdms(load_path, ch_num=3)\n",
    "    ae_w = ae_d[0][start:start+interval]\n",
    "    ae_s = ae_d[1][start:start+interval]\n",
    "\n",
    "    N = len(ae_w)\n",
    "    fq = np.linspace(0, N*dt, N)  # 周波数軸　linspace(開始,終了,分割数)\n",
    "\n",
    "    fq_w, amp_w = FFT_main(fq, ae_w, dt, split_t_r, overlap, window_F)\n",
    "    output_FN = rf\"Z:\\200 Produced_data\\{date}\\FFT\\work\\focus_on_one_rotation\\{num}.png\"\n",
    "    plot_FFT(fq_w, amp_w, output_FN, y_label, y_unit,num)\n",
    "    \n",
    "    fq_s, amp_s = FFT_main(fq, ae_s, dt, split_t_r, overlap, window_F)\n",
    "    output_FN = rf\"Z:\\200 Produced_data\\{date}\\FFT\\focus_on_one_rotation\\spindle\\{num}.png\"\n",
    "    plot_FFT(fq_s, amp_s, output_FN, y_label, y_unit,num)"
   ]
  },
  {
   "cell_type": "markdown",
   "metadata": {},
   "source": [
    "# 特定path (1th rotation ～ Nth rotation)"
   ]
  },
  {
   "cell_type": "markdown",
   "metadata": {},
   "source": [
    "## 特定のpathを選択"
   ]
  },
  {
   "cell_type": "code",
   "execution_count": 4,
   "metadata": {},
   "outputs": [],
   "source": [
    "#20230120\n",
    "import os\n",
    "path = np.array([7])\n",
    "path = np.append(path,np.arange(20,461,20))\n",
    "\n",
    "# for num in path:\n",
    "#     mkpath = rf\"Z:\\200 Produced_data\\{date}\\FFT\\spindle\\focus_on_one_path\\{num}\"\n",
    "#     os.mkdir(mkpath)\n",
    "#     mkpath = rf\"Z:\\200 Produced_data\\{date}\\FFT\\work\\focus_on_one_path\\{num}\"\n",
    "#     os.mkdir(mkpath)"
   ]
  },
  {
   "cell_type": "code",
   "execution_count": 5,
   "metadata": {},
   "outputs": [],
   "source": [
    "dt = 1/10**6\n",
    "split_t_r = 0.1 # 1つの枠で全体のどの割合のデータを分析するか。\n",
    "overlap = 0.5  # オーバーラップ率\n",
    "window_F = \"hamming\"  # 窓関数選択: hanning, hamming, blackman\n",
    "y_label = \"amplitude\"\n",
    "y_unit = \"V\"\n",
    "start = 100000\n",
    "interval = 25000"
   ]
  },
  {
   "cell_type": "code",
   "execution_count": 6,
   "metadata": {},
   "outputs": [
    {
     "name": "stderr",
     "output_type": "stream",
     "text": [
      "100%|██████████| 4/4 [00:01<00:00,  2.74it/s]\n",
      "100%|██████████| 4/4 [00:02<00:00,  1.99it/s]\n",
      "100%|██████████| 4/4 [00:01<00:00,  2.66it/s]\n",
      "100%|██████████| 4/4 [00:01<00:00,  3.13it/s]\n",
      "100%|██████████| 4/4 [00:01<00:00,  2.82it/s]\n",
      "100%|██████████| 4/4 [00:02<00:00,  1.89it/s]\n",
      "100%|██████████| 4/4 [00:01<00:00,  2.51it/s]\n",
      "100%|██████████| 4/4 [00:01<00:00,  2.53it/s]\n",
      "100%|██████████| 4/4 [00:01<00:00,  3.10it/s]\n",
      "100%|██████████| 4/4 [00:01<00:00,  2.80it/s]\n",
      "100%|██████████| 4/4 [00:01<00:00,  2.54it/s]\n"
     ]
    },
    {
     "ename": "KeyboardInterrupt",
     "evalue": "",
     "output_type": "error",
     "traceback": [
      "\u001b[1;31m---------------------------------------------------------------------------\u001b[0m",
      "\u001b[1;31mKeyboardInterrupt\u001b[0m                         Traceback (most recent call last)",
      "\u001b[1;32m<ipython-input-6-91fdb8a796a8>\u001b[0m in \u001b[0;36m<module>\u001b[1;34m\u001b[0m\n\u001b[0;32m      1\u001b[0m \u001b[1;32mfor\u001b[0m \u001b[0mnum\u001b[0m \u001b[1;32min\u001b[0m \u001b[0mpath\u001b[0m\u001b[1;33m:\u001b[0m\u001b[1;33m\u001b[0m\u001b[1;33m\u001b[0m\u001b[0m\n\u001b[0;32m      2\u001b[0m     \u001b[0mload_path\u001b[0m \u001b[1;33m=\u001b[0m \u001b[1;34mrf\"Z:\\100 Raw_data\\{date}---切削実験\\AE\\Cutting\\AE_{num}.tdms\"\u001b[0m\u001b[1;33m\u001b[0m\u001b[1;33m\u001b[0m\u001b[0m\n\u001b[1;32m----> 3\u001b[1;33m     \u001b[0mae_d\u001b[0m \u001b[1;33m=\u001b[0m \u001b[0mload_tdms\u001b[0m\u001b[1;33m(\u001b[0m\u001b[0mload_path\u001b[0m\u001b[1;33m,\u001b[0m \u001b[0mch_num\u001b[0m\u001b[1;33m=\u001b[0m\u001b[1;36m3\u001b[0m\u001b[1;33m)\u001b[0m\u001b[1;33m\u001b[0m\u001b[1;33m\u001b[0m\u001b[0m\n\u001b[0m\u001b[0;32m      4\u001b[0m     \u001b[0mrevolution_num\u001b[0m \u001b[1;33m=\u001b[0m \u001b[0mint\u001b[0m\u001b[1;33m(\u001b[0m\u001b[0mlen\u001b[0m\u001b[1;33m(\u001b[0m\u001b[0mae_d\u001b[0m\u001b[1;33m[\u001b[0m\u001b[1;36m0\u001b[0m\u001b[1;33m]\u001b[0m\u001b[1;33m[\u001b[0m\u001b[1;36m100000\u001b[0m\u001b[1;33m*\u001b[0m\u001b[1;36m3\u001b[0m\u001b[1;33m:\u001b[0m\u001b[1;36m9600000\u001b[0m\u001b[1;33m*\u001b[0m\u001b[1;36m3\u001b[0m\u001b[1;33m]\u001b[0m\u001b[1;33m)\u001b[0m\u001b[1;33m/\u001b[0m\u001b[1;36m25000\u001b[0m\u001b[1;33m)\u001b[0m\u001b[1;33m\u001b[0m\u001b[1;33m\u001b[0m\u001b[0m\n\u001b[0;32m      5\u001b[0m \u001b[1;33m\u001b[0m\u001b[0m\n",
      "\u001b[1;32m~\\m2\\acoustic-emission-endmilling\\real\\foreal\\loadTDMS.py\u001b[0m in \u001b[0;36mload_tdms\u001b[1;34m(path, ch_num)\u001b[0m\n\u001b[0;32m     41\u001b[0m             \u001b[1;31m#    head=tdms\u001b[0m\u001b[1;33m\u001b[0m\u001b[1;33m\u001b[0m\u001b[1;33m\u001b[0m\u001b[0m\n\u001b[0;32m     42\u001b[0m             \u001b[1;31m# データ部分の読み込み\u001b[0m\u001b[1;33m\u001b[0m\u001b[1;33m\u001b[0m\u001b[1;33m\u001b[0m\u001b[0m\n\u001b[1;32m---> 43\u001b[1;33m             \u001b[0mtdms\u001b[0m \u001b[1;33m=\u001b[0m \u001b[0mf\u001b[0m\u001b[1;33m.\u001b[0m\u001b[0mread\u001b[0m\u001b[1;33m(\u001b[0m\u001b[0mseg_ofs\u001b[0m\u001b[1;33m-\u001b[0m\u001b[0mdata_ofs\u001b[0m\u001b[1;33m)\u001b[0m\u001b[1;33m\u001b[0m\u001b[1;33m\u001b[0m\u001b[0m\n\u001b[0m\u001b[0;32m     44\u001b[0m             \u001b[0mby\u001b[0m \u001b[1;33m=\u001b[0m \u001b[0marray\u001b[0m\u001b[1;33m.\u001b[0m\u001b[0marray\u001b[0m\u001b[1;33m(\u001b[0m\u001b[1;34m'f'\u001b[0m\u001b[1;33m)\u001b[0m\u001b[1;33m\u001b[0m\u001b[1;33m\u001b[0m\u001b[0m\n\u001b[0;32m     45\u001b[0m             \u001b[0mby\u001b[0m\u001b[1;33m.\u001b[0m\u001b[0mfrombytes\u001b[0m\u001b[1;33m(\u001b[0m\u001b[0mtdms\u001b[0m\u001b[1;33m)\u001b[0m\u001b[1;33m\u001b[0m\u001b[1;33m\u001b[0m\u001b[0m\n",
      "\u001b[1;31mKeyboardInterrupt\u001b[0m: "
     ]
    }
   ],
   "source": [
    "for num in path:\n",
    "    load_path = rf\"Z:\\100 Raw_data\\{date}---切削実験\\AE\\Cutting\\AE_{num}.tdms\"\n",
    "    ae_d = load_tdms(load_path, ch_num=3)\n",
    "    revolution_num = int(len(ae_d[0][100000*3:9600000*3])/25000)\n",
    "    \n",
    "#     for rev in tqdm(range(1,revolution_num+1)):\n",
    "    for rev in tqdm(range(1,revolution_num-1135)):\n",
    "        title = str(num) + \" (\" +str(rev) + \") \"\n",
    "        ae_w = ae_d[0][start:start+interval]\n",
    "        ae_s = ae_d[1][start:start+interval]\n",
    "\n",
    "        N = len(ae_w)\n",
    "        fq = np.linspace(0, N*dt, N)  # 周波数軸　linspace(開始,終了,分割数)\n",
    "\n",
    "        fq_w, amp_w = FFT_main(fq, ae_w, dt, split_t_r, overlap, window_F)\n",
    "        output_FN = rf\"Z:\\200 Produced_data\\{date}\\FFT\\work\\focus_on_one_path\\{num}\\{num}_{rev}.png\"\n",
    "        plot_FFT(fq_w, amp_w, output_FN, y_label, y_unit,title)\n",
    "\n",
    "        fq_s, amp_s = FFT_main(fq, ae_s, dt, split_t_r, overlap, window_F)\n",
    "        output_FN = rf\"Z:\\200 Produced_data\\{date}\\FFT\\spindle\\focus_on_one_path\\{num}\\{num}_{rev}.png\"\n",
    "        plot_FFT(fq_s, amp_s, output_FN, y_label, y_unit,title)\n",
    "        start = start + 25000"
   ]
  },
  {
   "cell_type": "code",
   "execution_count": 7,
   "metadata": {},
   "outputs": [],
   "source": [
    "from moviepy.editor import *\n",
    "from pathlib import Path\n",
    "import numpy as np\n",
    "import cv2"
   ]
  },
  {
   "cell_type": "code",
   "execution_count": null,
   "metadata": {},
   "outputs": [],
   "source": []
  }
 ],
 "metadata": {
  "kernelspec": {
   "display_name": "Python 3",
   "language": "python",
   "name": "python3"
  },
  "language_info": {
   "codemirror_mode": {
    "name": "ipython",
    "version": 3
   },
   "file_extension": ".py",
   "mimetype": "text/x-python",
   "name": "python",
   "nbconvert_exporter": "python",
   "pygments_lexer": "ipython3",
   "version": "3.8.3"
  }
 },
 "nbformat": 4,
 "nbformat_minor": 4
}
