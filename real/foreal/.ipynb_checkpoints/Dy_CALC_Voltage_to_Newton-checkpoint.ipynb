{
 "cells": [
  {
   "cell_type": "code",
   "execution_count": 1,
   "metadata": {},
   "outputs": [],
   "source": [
    "from loadTDMS import *\n",
    "import numpy as np\n",
    "import matplotlib.pyplot as plt\n",
    "from tqdm import tqdm"
   ]
  },
  {
   "cell_type": "markdown",
   "metadata": {},
   "source": [
    "## 日付 : 切削中のサンプル数 / last path \n",
    "- 20211025 : 5060000 / 24path\n",
    "- 20211115 : 5010000 / 238path\n",
    "- 20220630 : 4670000 / 735path\n",
    "- 20221027 : 4930000 / 168path\n",
    "- 20230113 : 9970000 / 120path\n",
    "- 20230117 : 9970000 / 340path\n",
    "- 20230120 : 9970000 / 460path\n",
    "- 20230123 : [100000:9600000] / 460path"
   ]
  },
  {
   "cell_type": "code",
   "execution_count": 57,
   "metadata": {},
   "outputs": [
    {
     "name": "stdout",
     "output_type": "stream",
     "text": [
      "date=20230120, last_path=460, last_sample_num=9970000\n"
     ]
    }
   ],
   "source": [
    "# date = 20211025\n",
    "# date = 20211115\n",
    "# date = 20220630\n",
    "# date = 20221027\n",
    "# date = 20230113\n",
    "# date = 20230117\n",
    "date = 20230120\n",
    "# date = 20230123\n",
    "\n",
    "if date == 20211025:\n",
    "    last_path = 24\n",
    "    last_sample_num = 5060000\n",
    "if date == 20211115:\n",
    "    last_path = 238\n",
    "    last_sample_num = 5010000\n",
    "if date == 20220630:\n",
    "    last_path = 735\n",
    "    last_sample_num = 4670000 \n",
    "if date == 20221027:\n",
    "    last_path = 168\n",
    "    last_sample_num = 4930000\n",
    "    \n",
    "if date == 20230113:\n",
    "    last_path = 120\n",
    "    last_sample_num = 9970000\n",
    "\n",
    "if date == 20230117:\n",
    "    last_path = 460\n",
    "    last_sample_num = 9970000\n",
    "\n",
    "if date == 20230120:\n",
    "    last_path = 460\n",
    "    last_sample_Num = 9970000\n",
    "\n",
    "if date == 20230123:\n",
    "    last_path = 460\n",
    "    last_sample_Num = 9960000\n",
    "\n",
    "print(rf\"date={date}, last_path={last_path}, last_sample_num={last_sample_num}\")"
   ]
  },
  {
   "cell_type": "markdown",
   "metadata": {},
   "source": [
    "## ドリフトがあまりない実験\n",
    "- 20230113\n",
    "- 20230117"
   ]
  },
  {
   "cell_type": "code",
   "execution_count": null,
   "metadata": {},
   "outputs": [],
   "source": [
    "ncd_avg = np.load(rf\"Z:\\200 Produced_data\\{date}\\CF\\new_non_cutting_avg.npy\")\n",
    "# ncd_avg = np.load(rf\"Z:\\200 Produced_data\\{date}\\CF\\non_cutting_avg.npy\")\n",
    "for num in tqdm(range(1,461)):\n",
    "    path = rf\"Z:\\100 Raw_data\\{date}---切削実験\\Dynamometer\\Cutting\\Dynamo_{num}.tdms\"\n",
    "    cd = load_tdms(path, ch_num=3)\n",
    "    cd = cd[1][:9970000]\n",
    "    cf = ( cd - ncd_avg[num - 121] ) * (-500)\n",
    "    np.save(rf\"Z:\\200 Produced_data\\{date}\\CF\\{num}\",cf)"
   ]
  },
  {
   "cell_type": "markdown",
   "metadata": {},
   "source": [
    "## ドリフトが沢山あり、pathによって違う操作をする実験\n",
    "- 20230120\n",
    "- 20230123"
   ]
  },
  {
   "cell_type": "code",
   "execution_count": 65,
   "metadata": {},
   "outputs": [],
   "source": [
    "a = np.arange(1,461)\n",
    "drift = np.load(rf\"Z:\\200 Produced_data\\{date}\\CF\\drift_path.npy\")\n",
    "normal = np.delete(a, drift-1)"
   ]
  },
  {
   "cell_type": "code",
   "execution_count": 68,
   "metadata": {},
   "outputs": [
    {
     "name": "stdout",
     "output_type": "stream",
     "text": [
      "286\n",
      "174\n"
     ]
    }
   ],
   "source": [
    "print(len(drift))\n",
    "print(len(normal))"
   ]
  },
  {
   "cell_type": "code",
   "execution_count": 69,
   "metadata": {},
   "outputs": [
    {
     "name": "stderr",
     "output_type": "stream",
     "text": [
      "100%|██████████| 174/174 [06:38<00:00,  2.29s/it]\n"
     ]
    }
   ],
   "source": [
    "#normal\n",
    "#2023 0120\n",
    "\n",
    "ncd_avg = np.load(rf\"Z:\\200 Produced_data\\{date}\\CF\\new_non_cutting_avg.npy\")\n",
    "\n",
    "for num in tqdm(normal):\n",
    "    path = rf\"Z:\\100 Raw_data\\{date}---切削実験\\Dynamometer\\Cutting\\Dynamo_{num}.tdms\"\n",
    "    cd = load_tdms(path, ch_num=3)\n",
    "    cd = cd[1][36000:10006000]\n",
    "    cf = cd * (-500)\n",
    "    np.save(rf\"Z:\\200 Produced_data\\{date}\\CF\\{num}_n\",cf)"
   ]
  },
  {
   "cell_type": "code",
   "execution_count": 70,
   "metadata": {},
   "outputs": [],
   "source": [
    "nca = np.load(rf\"Z:\\200 Produced_data\\{date}\\CF\\new_non_cutting_avg2.npy\")"
   ]
  },
  {
   "cell_type": "code",
   "execution_count": 73,
   "metadata": {},
   "outputs": [
    {
     "name": "stderr",
     "output_type": "stream",
     "text": [
      "100%|██████████| 286/286 [11:10<00:00,  2.35s/it]\n"
     ]
    }
   ],
   "source": [
    "#drift\n",
    "for num in tqdm(drift):\n",
    "    path = rf\"Z:\\100 Raw_data\\{date}---切削実験\\Dynamometer\\Cutting\\Dynamo_{num}.tdms\"\n",
    "    cd = load_tdms(path, ch_num=3)\n",
    "    ncd = np.average(cd[1][-8303*10:-1])\n",
    "#     print(ncd)\n",
    "    cd = cd[1][36000:10006000]\n",
    "    \n",
    "    cf = (cd - ncd - nca[num+1]) * (-500)\n",
    "    np.save(rf\"Z:\\200 Produced_data\\{date}\\CF\\{num}_n\",cf)"
   ]
  },
  {
   "cell_type": "code",
   "execution_count": 25,
   "metadata": {},
   "outputs": [],
   "source": [
    "d = np.load(rf\"Z:\\200 Produced_data\\{date}\\CF\\301.npy\")"
   ]
  },
  {
   "cell_type": "code",
   "execution_count": 26,
   "metadata": {},
   "outputs": [
    {
     "data": {
      "text/plain": [
       "[<matplotlib.lines.Line2D at 0x24b91978ac0>]"
      ]
     },
     "execution_count": 26,
     "metadata": {},
     "output_type": "execute_result"
    }
   ],
   "source": [
    "%matplotlib qt\n",
    "plt.plot(d)"
   ]
  },
  {
   "cell_type": "code",
   "execution_count": null,
   "metadata": {},
   "outputs": [],
   "source": [
    "    cf = ( cd - np.average(cd[-8303*10:-1]) * (-500))\n"
   ]
  }
 ],
 "metadata": {
  "kernelspec": {
   "display_name": "Python 3",
   "language": "python",
   "name": "python3"
  },
  "language_info": {
   "codemirror_mode": {
    "name": "ipython",
    "version": 3
   },
   "file_extension": ".py",
   "mimetype": "text/x-python",
   "name": "python",
   "nbconvert_exporter": "python",
   "pygments_lexer": "ipython3",
   "version": "3.8.3"
  }
 },
 "nbformat": 4,
 "nbformat_minor": 4
}
