{
 "cells": [
  {
   "cell_type": "code",
   "execution_count": 1,
   "metadata": {},
   "outputs": [],
   "source": [
    "import numpy as np"
   ]
  },
  {
   "cell_type": "code",
   "execution_count": 3,
   "metadata": {},
   "outputs": [],
   "source": [
    "# date = 20230113\n",
    "# date = 20230117\n",
    "# date = 20230120\n",
    "# date = 20230123"
   ]
  },
  {
   "cell_type": "code",
   "execution_count": 5,
   "metadata": {},
   "outputs": [],
   "source": [
    "cf_20 = np.load(rf\"Z:\\200 Produced_data\\20230120\\CF\\max8308\\All_n.npy\")\n",
    "cf_23 = np.load(rf\"Z:\\200 Produced_data\\20230123\\CF\\max8308\\All_delete_drift.npy\")"
   ]
  },
  {
   "cell_type": "code",
   "execution_count": 6,
   "metadata": {},
   "outputs": [
    {
     "name": "stdout",
     "output_type": "stream",
     "text": [
      "460.0\n",
      "460.0\n"
     ]
    }
   ],
   "source": [
    "print(len(cf_20)/1200)\n",
    "print(len(cf_23)/1023)"
   ]
  },
  {
   "cell_type": "code",
   "execution_count": 21,
   "metadata": {},
   "outputs": [],
   "source": [
    "cf_20_p1 = cf_20[:1200*120]\n",
    "cf_20_p2 = cf_20[1200*120:]\n",
    "\n",
    "cf_23_p1 = cf_23[:1023*120]\n",
    "cf_23_p2 = cf_23[1023*120:]"
   ]
  },
  {
   "cell_type": "code",
   "execution_count": 27,
   "metadata": {},
   "outputs": [],
   "source": [
    "np.save(rf\"Z:\\200 Produced_data\\20230120\\CF\\max8308\\All_1-120\",cf_20_p1)\n",
    "np.save(rf\"Z:\\200 Produced_data\\20230120\\CF\\max8308\\All_121-460\",cf_20_p2)\n",
    "\n",
    "np.save(rf\"Z:\\200 Produced_data\\20230123\\CF\\max8308\\All_1-120\",cf_23_p1)\n",
    "np.save(rf\"Z:\\200 Produced_data\\20230123\\CF\\max8308\\All_121-460\",cf_23_p2)"
   ]
  },
  {
   "cell_type": "code",
   "execution_count": 35,
   "metadata": {},
   "outputs": [],
   "source": [
    "#all_path_num\n",
    "a_p_n = 340\n",
    "#all_rotation_num\n",
    "a_r_n = 1023\n",
    "#moving avg path step\n",
    "m_a_p_s = 10\n",
    "\n",
    "w_size = a_r_n*m_a_p_s\n",
    "x = np.linspace(-1,1,w_size)\n",
    "v = np.exp(-x**2 / 2) / np.sqrt(2 * np.pi)\n",
    "v = v / np.sum(v)\n",
    "v = np.sort(v)[::-1]\n",
    "\n",
    "cf_23_p2_ma = np.convolve(cf_23_p2,v, mode='valid')\n",
    "np.save(rf\"Z:\\200 Produced_data\\20230123\\CF\\max8308\\All_121-460_MA\", cf_23_p2_ma)"
   ]
  },
  {
   "cell_type": "code",
   "execution_count": null,
   "metadata": {},
   "outputs": [],
   "source": []
  }
 ],
 "metadata": {
  "kernelspec": {
   "display_name": "Python 3",
   "language": "python",
   "name": "python3"
  },
  "language_info": {
   "codemirror_mode": {
    "name": "ipython",
    "version": 3
   },
   "file_extension": ".py",
   "mimetype": "text/x-python",
   "name": "python",
   "nbconvert_exporter": "python",
   "pygments_lexer": "ipython3",
   "version": "3.8.3"
  }
 },
 "nbformat": 4,
 "nbformat_minor": 4
}
