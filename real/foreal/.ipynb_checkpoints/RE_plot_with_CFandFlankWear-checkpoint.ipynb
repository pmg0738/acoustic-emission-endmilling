{
 "cells": [
  {
   "cell_type": "code",
   "execution_count": 1,
   "metadata": {},
   "outputs": [],
   "source": [
    "import numpy as np\n",
    "import matplotlib.pyplot as plt\n",
    "from tqdm import tqdm"
   ]
  },
  {
   "cell_type": "code",
   "execution_count": 2,
   "metadata": {},
   "outputs": [],
   "source": [
    "caseNum = 1\n",
    "trainTool = \"A\""
   ]
  },
  {
   "cell_type": "code",
   "execution_count": 3,
   "metadata": {},
   "outputs": [],
   "source": [
    "A = np.load(rf\"Z:\\200 Produced_data\\MashineLearning\\RE\\case{caseNum}_{trainTool}_A_MA_EX.npy\")\n",
    "B = np.load(rf\"Z:\\200 Produced_data\\MashineLearning\\RE\\case{caseNum}_{trainTool}_B_MA_EX.npy\")\n",
    "C = np.load(rf\"Z:\\200 Produced_data\\MashineLearning\\RE\\case{caseNum}_{trainTool}_C_MA_EX.npy\")"
   ]
  },
  {
   "cell_type": "code",
   "execution_count": 15,
   "metadata": {},
   "outputs": [],
   "source": [
    "A_f = np.load(rf\"Z:\\200 Produced_data\\master_paper_data\\flank wear\\A_FlankWear.npy\")\n",
    "B_f = np.load(rf\"Z:\\200 Produced_data\\master_paper_data\\flank wear\\B_FlankWear.npy\")\n",
    "C_f = np.load(rf\"Z:\\200 Produced_data\\master_paper_data\\flank wear\\C_FlankWear.npy\")"
   ]
  },
  {
   "cell_type": "code",
   "execution_count": 19,
   "metadata": {},
   "outputs": [],
   "source": [
    "C = C-0.111"
   ]
  },
  {
   "cell_type": "code",
   "execution_count": 20,
   "metadata": {},
   "outputs": [
    {
     "data": {
      "text/plain": [
       "[<matplotlib.lines.Line2D at 0x20b9df02eb0>]"
      ]
     },
     "execution_count": 20,
     "metadata": {},
     "output_type": "execute_result"
    }
   ],
   "source": [
    "plt.plot(A)\n",
    "plt.plot(B)\n",
    "plt.plot(C)"
   ]
  },
  {
   "cell_type": "code",
   "execution_count": null,
   "metadata": {},
   "outputs": [],
   "source": [
    "np.load(rf\"Z:\\200 Produced_data\\20230113+0117\\RE\\\")"
   ]
  },
  {
   "cell_type": "code",
   "execution_count": null,
   "metadata": {},
   "outputs": [],
   "source": []
  },
  {
   "cell_type": "code",
   "execution_count": 21,
   "metadata": {},
   "outputs": [
    {
     "name": "stdout",
     "output_type": "stream",
     "text": [
      "15\n",
      "16\n"
     ]
    },
    {
     "data": {
      "text/plain": [
       "[<matplotlib.lines.Line2D at 0x20b9dfb0670>]"
      ]
     },
     "execution_count": 21,
     "metadata": {},
     "output_type": "execute_result"
    }
   ],
   "source": [
    "%matplotlib qt\n",
    "#all_path_num\n",
    "a_p_n = 300\n",
    "#all_rotation_num\n",
    "a_r_n = 1200\n",
    "#moving avg path step\n",
    "m_a_p_s = 20\n",
    "\n",
    "\n",
    "#flank sample num\n",
    "f_s_n = int(a_p_n / 20)\n",
    "print(f_s_n)\n",
    "\n",
    "x_f = np.arange(0, a_p_n*a_r_n + 1, a_r_n*m_a_p_s)\n",
    "print(len(x_f))\n",
    "\n",
    "fig = plt.figure()\n",
    "ax = fig.add_subplot()\n",
    "ax.set_xticks(np.arange(0, a_p_n*a_r_n + 1, a_r_n*m_a_p_s))\n",
    "ax.set_xticklabels(np.arange(0,a_p_n + 1,m_a_p_s))\n",
    "ax.set_xlabel(xlabel='Path Number')\n",
    "ax.set_ylabel(ylabel='flank wear area[mm^2]')\n",
    "ax.tick_params(axis = 'x')\n",
    "ax.tick_params(axis = 'y')\n",
    "\n",
    "ax2 = ax.twinx()\n",
    "ax2.set_ylabel(ylabel='Reconstruction Error')\n",
    "\n",
    "\n",
    "\n",
    "# ax.plot(x_f,A_f, label=\"flank wear\", linewidth=\"1\", marker=\"o\" ,markersize=10)\n",
    "# ax2.plot(A[:a_p_n*a_r_n], label=\"Reconstruction Error\", color=\"magenta\", lineWidth=\"5\")\n",
    "\n",
    "\n",
    "\n",
    "\n",
    "# ax.plot(x_f,B_f, label=\"flank wear\", linewidth=\"1\", marker=\"o\" ,markersize=10)\n",
    "# ax2.plot(B[:a_p_n*a_r_n], label=\"Reconstruction Error\", color=\"magenta\", lineWidth=\"5\")\n",
    "\n",
    "\n",
    "\n",
    "ax2.plot(C[:a_p_n*a_r_n], label=\"Reconstruction Error\", color=\"magenta\", lineWidth=\"5\")\n",
    "ax.plot(x_f,C_f, label=\"flank wear\", linewidth=\"1\", marker=\"o\" ,markersize=10)\n",
    "\n",
    "# ax2.plot(C[:a_p_n*a_r_n], label=\"Reconstruction Error\")"
   ]
  },
  {
   "cell_type": "code",
   "execution_count": 25,
   "metadata": {},
   "outputs": [
    {
     "name": "stdout",
     "output_type": "stream",
     "text": [
      "15\n",
      "16\n"
     ]
    },
    {
     "data": {
      "text/plain": [
       "[<matplotlib.lines.Line2D at 0x20bb87992e0>]"
      ]
     },
     "execution_count": 25,
     "metadata": {},
     "output_type": "execute_result"
    }
   ],
   "source": [
    "%matplotlib qt\n",
    "#all_path_num\n",
    "a_p_n = 300\n",
    "#all_rotation_num\n",
    "a_r_n = 1200\n",
    "#moving avg path step\n",
    "m_a_p_s = 20\n",
    "\n",
    "\n",
    "#flank sample num\n",
    "f_s_n = int(a_p_n / 20)\n",
    "print(f_s_n)\n",
    "\n",
    "x_f = np.arange(0, a_p_n*a_r_n + 1, a_r_n*m_a_p_s)\n",
    "print(len(x_f))\n",
    "\n",
    "fig = plt.figure()\n",
    "ax = fig.add_subplot()\n",
    "ax.set_xticks(np.arange(0, a_p_n*a_r_n + 1, a_r_n*m_a_p_s))\n",
    "ax.set_xticklabels(np.arange(0,a_p_n + 1,m_a_p_s))\n",
    "ax.set_xlabel(xlabel='Path Number')\n",
    "ax.tick_params(axis = 'x')\n",
    "ax.tick_params(axis = 'y')\n",
    "\n",
    "ax.set_ylabel(ylabel='Reconstruction Error')\n",
    "\n",
    "\n",
    "\n",
    "ax.plot(A[:a_p_n*a_r_n], label=\"Reconstruction Error\",  lineWidth=\"5\")\n",
    "\n",
    "ax.plot(B[:a_p_n*a_r_n], label=\"Reconstruction Error\", lineWidth=\"5\")\n",
    "\n",
    "ax.plot(C[:a_p_n*a_r_n], label=\"Reconstruction Error\",lineWidth=\"5\")\n"
   ]
  },
  {
   "cell_type": "code",
   "execution_count": null,
   "metadata": {},
   "outputs": [],
   "source": []
  }
 ],
 "metadata": {
  "kernelspec": {
   "display_name": "Python 3",
   "language": "python",
   "name": "python3"
  },
  "language_info": {
   "codemirror_mode": {
    "name": "ipython",
    "version": 3
   },
   "file_extension": ".py",
   "mimetype": "text/x-python",
   "name": "python",
   "nbconvert_exporter": "python",
   "pygments_lexer": "ipython3",
   "version": "3.8.3"
  }
 },
 "nbformat": 4,
 "nbformat_minor": 4
}
