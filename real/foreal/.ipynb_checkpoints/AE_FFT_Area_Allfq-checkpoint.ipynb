{
 "cells": [
  {
   "cell_type": "code",
   "execution_count": 1,
   "metadata": {},
   "outputs": [],
   "source": [
    "from loadTDMS import *\n",
    "from fft_test import *\n",
    "import numpy as np\n",
    "import pandas as pd\n",
    "import matplotlib.pyplot as plt\n",
    "from tqdm import tqdm\n",
    "import seaborn as sns"
   ]
  },
  {
   "cell_type": "code",
   "execution_count": null,
   "metadata": {},
   "outputs": [],
   "source": []
  },
  {
   "cell_type": "code",
   "execution_count": null,
   "metadata": {},
   "outputs": [],
   "source": [
    "for i in range(1,121):\n",
    "    mensekis = []\n",
    "    for j in tqdm(range(0,1200)):#1200回転分（切削抵抗のところで1回転のサンプル数を8308と仮定した時の話\n",
    "        num = i\n",
    "        sample_num = 2**14  #2のn乗を優先\n",
    "#         sample_num = 25000  #1回転のサンプル数を優先\n",
    "        start = j * 25000\n",
    "        end = start + sample_num\n",
    "        fft_result = fft_integrated_one_rotation_do_not_to_csv(start,end,num,j)\n",
    "        menseki = time_hist_integrator_rect(1,fft_result)\n",
    "        mensekis.append(menseki)\n",
    "    d = np.array(mensekis)\n",
    "    np.save(rf\"Z:\\200 Produced_data\\{date}\\AE\\menseki\\50khz\\{num}\", d)"
   ]
  }
 ],
 "metadata": {
  "kernelspec": {
   "display_name": "Python 3",
   "language": "python",
   "name": "python3"
  },
  "language_info": {
   "codemirror_mode": {
    "name": "ipython",
    "version": 3
   },
   "file_extension": ".py",
   "mimetype": "text/x-python",
   "name": "python",
   "nbconvert_exporter": "python",
   "pygments_lexer": "ipython3",
   "version": "3.8.3"
  }
 },
 "nbformat": 4,
 "nbformat_minor": 4
}
