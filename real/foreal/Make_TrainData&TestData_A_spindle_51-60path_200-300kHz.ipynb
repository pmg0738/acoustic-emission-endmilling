{
 "cells": [
  {
   "cell_type": "code",
   "execution_count": 5,
   "metadata": {},
   "outputs": [],
   "source": [
    "from loadTDMS import *\n",
    "from fft_test import *\n",
    "import numpy as np\n",
    "from tqdm import tqdm"
   ]
  },
  {
   "cell_type": "markdown",
   "metadata": {},
   "source": [
    "# Do FFT in all path and in all revolution Before Normalization"
   ]
  },
  {
   "cell_type": "code",
   "execution_count": 6,
   "metadata": {},
   "outputs": [],
   "source": [
    "date = 20230117"
   ]
  },
  {
   "cell_type": "code",
   "execution_count": 7,
   "metadata": {},
   "outputs": [],
   "source": [
    "dt = 1/10**6\n",
    "split_t_r = 0.1 # 1つの枠で全体のどの割合のデータを分析するか。\n",
    "overlap = 0.5  # オーバーラップ率\n",
    "window_F = \"hamming\"  # 窓関数選択: hanning, hamming, blackman\n",
    "y_label = \"amplitude\"\n",
    "y_unit = \"V\""
   ]
  },
  {
   "cell_type": "code",
   "execution_count": 8,
   "metadata": {},
   "outputs": [],
   "source": [
    "def get_tdms(num):\n",
    "    load_path = rf\"Z:\\100 Raw_data\\{date}---切削実験\\AE\\Cutting\\AE_{num}.tdms\"\n",
    "#     load_path = rf\"D:\\users\\park\\100 Raw_data\\20230113---切削実験\\AE\\Cutting\\AE_{num}.tdms\"\n",
    "\n",
    "    d = load_tdms(load_path, ch_num=3)\n",
    "    return d[1]\n",
    "#     return d[1][36000*3:]\n",
    "#     reurn d[1][[1000000*3:]"
   ]
  },
  {
   "cell_type": "code",
   "execution_count": 9,
   "metadata": {},
   "outputs": [
    {
     "name": "stderr",
     "output_type": "stream",
     "text": [
      "100%|██████████| 340/340 [1:39:59<00:00, 17.64s/it]"
     ]
    },
    {
     "name": "stdout",
     "output_type": "stream",
     "text": [
      "Wall time: 1h 39min 59s\n"
     ]
    },
    {
     "name": "stderr",
     "output_type": "stream",
     "text": [
      "\n"
     ]
    }
   ],
   "source": [
    "%%time\n",
    "for i in tqdm(range(121,461)):\n",
    "    d = get_tdms(i)\n",
    "    fft_amp = np.array([])\n",
    "    \n",
    "    for j in range(0,1200):\n",
    "        sample_num = 2**14\n",
    "        start = j * 25000\n",
    "        end = start + sample_num\n",
    "\n",
    "        ds = d[start:end]\n",
    "        \n",
    "        N = len(ds)\n",
    "        fq = np.linspace(0, N*dt, N)  # 周波数軸　linspace(開始,終了,分割数)\n",
    "        \n",
    "        fq_, amp_ = FFT_main(fq, ds, dt, split_t_r, overlap, window_F)\n",
    "        amp_ = 20*np.log10(amp_)\n",
    "#         amp_ = amp_[int(len(amp_)/10) * 0 : int(len(amp_)/10 * 1)]\n",
    "    \n",
    "        fft_amp = np.append(fft_amp, amp_)\n",
    "        \n",
    "    np.save(rf\"Z:\\200 Produced_data\\20230113+0117\\FFT\\work\\{i}\",fft_amp)    \n",
    "#     np.save(rf\"D:\\users\\park\\200 Produced_data\\{date}\\train_data\\{i}\",fft_amp)"
   ]
  },
  {
   "cell_type": "markdown",
   "metadata": {},
   "source": [
    "# Standardize with A(51-60path / 200-300kHz)\n",
    "train data: A (51-60path / 200-300kHz)  \n",
    "so i'll standardize not only train data but also test data with using A's avg and std"
   ]
  },
  {
   "cell_type": "code",
   "execution_count": 6,
   "metadata": {},
   "outputs": [],
   "source": [
    "from sklearn.preprocessing import StandardScaler,MinMaxScaler"
   ]
  },
  {
   "cell_type": "code",
   "execution_count": 7,
   "metadata": {},
   "outputs": [],
   "source": [
    "# Normalization class\n",
    "mmsc=MinMaxScaler()\n",
    "# Standardize class\n",
    "stdsc = StandardScaler()"
   ]
  },
  {
   "cell_type": "markdown",
   "metadata": {},
   "source": [
    "## Make Train Data"
   ]
  },
  {
   "cell_type": "code",
   "execution_count": 8,
   "metadata": {},
   "outputs": [],
   "source": [
    "d = np.array([])\n",
    "for i in range(51,61):\n",
    "    temp = np.load(rf\"Z:\\200 Produced_data\\20230113+0117\\train_data\\{i}.npy\")\n",
    "    d = np.append(d,temp)"
   ]
  },
  {
   "cell_type": "code",
   "execution_count": 14,
   "metadata": {},
   "outputs": [
    {
     "name": "stdout",
     "output_type": "stream",
     "text": [
      "[-84.4855937]\n",
      "[2.92236362]\n"
     ]
    }
   ],
   "source": [
    "d_stdsc = stdsc.fit_transform(d.reshape(-1,1))\n",
    "print(stdsc.mean_)\n",
    "print(np.sqrt(stdsc.var_))"
   ]
  },
  {
   "cell_type": "code",
   "execution_count": 16,
   "metadata": {},
   "outputs": [
    {
     "data": {
      "text/plain": [
       "[<matplotlib.lines.Line2D at 0x2482de91cd0>]"
      ]
     },
     "execution_count": 16,
     "metadata": {},
     "output_type": "execute_result"
    }
   ],
   "source": [
    "%matplotlib qt\n",
    "# Check if there's outlier(smaller than -3 and bigger than 3 is usually outlier)\n",
    "# After Checking there's some values bigger than 3 for example like over 5 but i'll just ignore it this time.\n",
    "plt.plot(d_stdsc)"
   ]
  },
  {
   "cell_type": "code",
   "execution_count": 20,
   "metadata": {},
   "outputs": [],
   "source": [
    "# Save Train data / Train data's mean / Train data's standard deviation\n",
    "np.save(rf\"Z:\\200 Produced_data\\20230113+0117\\train_data\\_TrainData_A_51-60path_spindle_200-300kHz\",d_stdsc)\n",
    "np.save(rf\"Z:\\200 Produced_data\\20230113+0117\\train_data\\_TrainData_A_51-60path_spindle_200-300kHz_mean\",stdsc.mean_)\n",
    "np.save(rf\"Z:\\200 Produced_data\\20230113+0117\\train_data\\_TrainData_A_51-60path_spindle_200-300kHz_std\",np.sqrt(stdsc.var_))"
   ]
  },
  {
   "cell_type": "code",
   "execution_count": 21,
   "metadata": {},
   "outputs": [
    {
     "name": "stdout",
     "output_type": "stream",
     "text": [
      "[-84.4855937]\n",
      "[2.92236362]\n"
     ]
    }
   ],
   "source": [
    "mean = np.load(rf\"Z:\\200 Produced_data\\20230113+0117\\train_data\\_TrainData_A_51-60path_spindle_200-300kHz_mean.npy\")\n",
    "std = np.load(rf\"Z:\\200 Produced_data\\20230113+0117\\train_data\\_TrainData_A_51-60path_spindle_200-300kHz_std.npy\")\n",
    "print(mean)\n",
    "print(std)"
   ]
  },
  {
   "cell_type": "markdown",
   "metadata": {},
   "source": [
    "## Make Test Data"
   ]
  },
  {
   "cell_type": "markdown",
   "metadata": {},
   "source": [
    "### A's All path(2023 0113 + 0117)"
   ]
  },
  {
   "cell_type": "code",
   "execution_count": 22,
   "metadata": {},
   "outputs": [],
   "source": [
    "d = np.array([])\n",
    "for i in tqdm(range(1,461)):\n",
    "    temp = np.load(rf\"Z:\\200 Produced_data\\20230113+0117\\train_data\\{i}.npy\")\n",
    "    d = np.append(d,temp)"
   ]
  },
  {
   "cell_type": "code",
   "execution_count": 23,
   "metadata": {},
   "outputs": [
    {
     "name": "stdout",
     "output_type": "stream",
     "text": [
      "[-84.4855937]\n",
      "[2.92236362]\n"
     ]
    }
   ],
   "source": [
    "# get train data's mean and std\n",
    "mean = np.load(rf\"Z:\\200 Produced_data\\20230113+0117\\train_data\\_TrainData_A_51-60path_spindle_200-300kHz_mean.npy\")\n",
    "std = np.load(rf\"Z:\\200 Produced_data\\20230113+0117\\train_data\\_TrainData_A_51-60path_spindle_200-300kHz_std.npy\")\n",
    "print(mean)\n",
    "print(std)"
   ]
  },
  {
   "cell_type": "code",
   "execution_count": 24,
   "metadata": {},
   "outputs": [],
   "source": [
    "test_stdsc = (d - mean) / std"
   ]
  },
  {
   "cell_type": "code",
   "execution_count": 25,
   "metadata": {},
   "outputs": [
    {
     "data": {
      "text/plain": [
       "[<matplotlib.lines.Line2D at 0x2482df20a00>]"
      ]
     },
     "execution_count": 25,
     "metadata": {},
     "output_type": "execute_result"
    }
   ],
   "source": [
    "%matplotlib qt\n",
    "# Check if there's outlier(smaller than -3 and bigger than 3 is usually outlier)\n",
    "# After Checking there's some values bigger than 3 for example like over 7 but i'll just ignore it this time.\n",
    "plt.plot(test_stdsc)"
   ]
  },
  {
   "cell_type": "markdown",
   "metadata": {},
   "source": [
    "#### _TestData_①A_②51-60path_③spindle_④200-300kHz_⑤A.npy <-explanation\n",
    "_ testData _ { trained tool name } _ { traind path range } _ { trained sensor location } _ { trained fq range } _ { test tool name } \n",
    "\n",
    "- ①trained tool name\n",
    "- ②trained path range\n",
    "- ③trained sensor location\n",
    "- ④trained fq range\n",
    "- ⑤test tool name"
   ]
  },
  {
   "cell_type": "code",
   "execution_count": 26,
   "metadata": {},
   "outputs": [],
   "source": [
    "np.save(rf\"Z:\\200 Produced_data\\20230113+0117\\test_data\\_TestData_A_51-60path_spindle_200-300kHz_A\",test_stdsc)"
   ]
  },
  {
   "cell_type": "markdown",
   "metadata": {},
   "source": [
    "### B's All path(20230120)"
   ]
  },
  {
   "cell_type": "code",
   "execution_count": null,
   "metadata": {},
   "outputs": [],
   "source": [
    "%%time\n",
    "d = np.array([])\n",
    "for i in tqdm(range(1,461)):\n",
    "    temp = np.load(rf\"Z:\\200 Produced_data\\20230120\\train_data\\{i}.npy\")\n",
    "    d = np.append(d,temp)"
   ]
  },
  {
   "cell_type": "code",
   "execution_count": null,
   "metadata": {},
   "outputs": [],
   "source": [
    "# get train data's mean and std\n",
    "mean = np.load(rf\"Z:\\200 Produced_data\\20230113+0117\\train_data\\_TrainData_A_51-60path_spindle_200-300kHz_mean.npy\")\n",
    "std = np.load(rf\"Z:\\200 Produced_data\\20230113+0117\\train_data\\_TrainData_A_51-60path_spindle_200-300kHz_std.npy\")\n",
    "print(mean)\n",
    "print(std)"
   ]
  },
  {
   "cell_type": "code",
   "execution_count": null,
   "metadata": {},
   "outputs": [],
   "source": [
    "test_stdsc = (d - mean) / std"
   ]
  },
  {
   "cell_type": "code",
   "execution_count": null,
   "metadata": {},
   "outputs": [],
   "source": [
    "%matplotlib qt\n",
    "# Check if there's outlier(smaller than -3 and bigger than 3 is usually outlier)\n",
    "# After Checking there's some values bigger than 3 for example like over 5 but i'll just ignore it this time.\n",
    "plt.plot(test_stdsc)"
   ]
  },
  {
   "cell_type": "code",
   "execution_count": null,
   "metadata": {},
   "outputs": [],
   "source": [
    "np.save(rf\"Z:\\200 Produced_data\\20230113+0117\\test_data\\_TestData_A_51-60path_spindle_200-300kHz_B\",test_stdsc)"
   ]
  },
  {
   "cell_type": "markdown",
   "metadata": {},
   "source": [
    "### C's All path(20230123)"
   ]
  },
  {
   "cell_type": "code",
   "execution_count": 27,
   "metadata": {},
   "outputs": [
    {
     "name": "stderr",
     "output_type": "stream",
     "text": [
      "100%|██████████| 460/460 [01:37<00:00,  4.70it/s]\n"
     ]
    }
   ],
   "source": [
    "d = np.array([])\n",
    "for i in tqdm(range(1,461)):\n",
    "    temp = np.load(rf\"Z:\\200 Produced_data\\20230123\\train_data\\{i}.npy\")\n",
    "    d = np.append(d,temp)"
   ]
  },
  {
   "cell_type": "code",
   "execution_count": 28,
   "metadata": {},
   "outputs": [
    {
     "name": "stdout",
     "output_type": "stream",
     "text": [
      "[-84.4855937]\n",
      "[2.92236362]\n"
     ]
    }
   ],
   "source": [
    "# get train data's mean and std\n",
    "mean = np.load(rf\"Z:\\200 Produced_data\\20230113+0117\\train_data\\_TrainData_A_51-60path_spindle_200-300kHz_mean.npy\")\n",
    "std = np.load(rf\"Z:\\200 Produced_data\\20230113+0117\\train_data\\_TrainData_A_51-60path_spindle_200-300kHz_std.npy\")\n",
    "print(mean)\n",
    "print(std)"
   ]
  },
  {
   "cell_type": "code",
   "execution_count": 29,
   "metadata": {},
   "outputs": [],
   "source": [
    "test_stdsc = (d - mean) / std"
   ]
  },
  {
   "cell_type": "code",
   "execution_count": 31,
   "metadata": {},
   "outputs": [
    {
     "data": {
      "text/plain": [
       "[<matplotlib.lines.Line2D at 0x24809fd7070>]"
      ]
     },
     "execution_count": 31,
     "metadata": {},
     "output_type": "execute_result"
    },
    {
     "data": {
      "image/png": "[encoded data removed]",
      "text/plain": [
       "<Figure size 432x288 with 1 Axes>"
      ]
     },
     "metadata": {
      "needs_background": "light"
     },
     "output_type": "display_data"
    }
   ],
   "source": [
    "%matplotlib inline\n",
    "# Check if there's outlier(smaller than -3 and bigger than 3 is usually outlier)\n",
    "# After Checking there's some values bigger than 3 for example like over 5 but i'll just ignore it this time.\n",
    "plt.plot(test_stdsc)"
   ]
  },
  {
   "cell_type": "code",
   "execution_count": 32,
   "metadata": {},
   "outputs": [],
   "source": [
    "np.save(rf\"Z:\\200 Produced_data\\20230113+0117\\test_data\\_TestData_A_51-60path_spindle_200-300kHz_C\",test_stdsc)"
   ]
  },
  {
   "cell_type": "code",
   "execution_count": 33,
   "metadata": {},
   "outputs": [
    {
     "data": {
      "text/plain": [
       "77175120"
      ]
     },
     "execution_count": 33,
     "metadata": {},
     "output_type": "execute_result"
    }
   ],
   "source": [
    "len(test_stdsc)"
   ]
  },
  {
   "cell_type": "code",
   "execution_count": 35,
   "metadata": {
    "scrolled": true
   },
   "outputs": [
    {
     "data": {
      "text/plain": [
       "164.0"
      ]
     },
     "execution_count": 35,
     "metadata": {},
     "output_type": "execute_result"
    }
   ],
   "source": []
  },
  {
   "cell_type": "markdown",
   "metadata": {},
   "source": [
    "# Standardize with A(41-50path / 0-50kHz)"
   ]
  },
  {
   "cell_type": "code",
   "execution_count": null,
   "metadata": {},
   "outputs": [],
   "source": []
  }
 ],
 "metadata": {
  "kernelspec": {
   "display_name": "Python 3",
   "language": "python",
   "name": "python3"
  },
  "language_info": {
   "codemirror_mode": {
    "name": "ipython",
    "version": 3
   },
   "file_extension": ".py",
   "mimetype": "text/x-python",
   "name": "python",
   "nbconvert_exporter": "python",
   "pygments_lexer": "ipython3",
   "version": "3.8.3"
  }
 },
 "nbformat": 4,
 "nbformat_minor": 4
}
