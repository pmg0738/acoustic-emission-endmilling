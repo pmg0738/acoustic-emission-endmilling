{
 "cells": [
  {
   "cell_type": "code",
   "execution_count": 8,
   "metadata": {},
   "outputs": [],
   "source": [
    "from loadTDMS import *\n",
    "from fft_test import *\n",
    "import numpy as np\n",
    "# import pandas as pd\n",
    "import matplotlib.pyplot as plt\n",
    "from tqdm import tqdm\n",
    "# import seaborn as sns"
   ]
  },
  {
   "cell_type": "code",
   "execution_count": 11,
   "metadata": {},
   "outputs": [],
   "source": [
    "# date = 20211025\n",
    "# date = 20211115\n",
    "# date = 20220630\n",
    "# date = 20221027\n",
    "# date = 20230113\n",
    "# date = 20230117\n",
    "date = 20230120\n",
    "# date = 20230123"
   ]
  },
  {
   "cell_type": "markdown",
   "metadata": {},
   "source": [
    "# 特定区間（1path ~ npath)"
   ]
  },
  {
   "cell_type": "markdown",
   "metadata": {},
   "source": [
    "###  20230123 (99,155,303,308,404) :  spindle, work データ逆"
   ]
  },
  {
   "cell_type": "code",
   "execution_count": 13,
   "metadata": {},
   "outputs": [],
   "source": [
    "dt = 1/10**6\n",
    "split_t_r = 0.1 # 1つの枠で全体のどの割合のデータを分析するか。\n",
    "overlap = 0.5  # オーバーラップ率\n",
    "window_F = \"hamming\"  # 窓関数選択: hanning, hamming, blackman\n",
    "y_label = \"amplitude\"\n",
    "y_unit = \"V\"\n",
    "start = 15000000\n",
    "interval = 25000"
   ]
  },
  {
   "cell_type": "code",
   "execution_count": 14,
   "metadata": {},
   "outputs": [
    {
     "name": "stderr",
     "output_type": "stream",
     "text": [
      "100%|██████████| 460/460 [37:12<00:00,  4.85s/it]\n"
     ]
    }
   ],
   "source": [
    "for num in tqdm(range(1,461)):\n",
    "    load_path = rf\"Z:\\100 Raw_data\\{date}---切削実験\\AE\\Cutting\\AE_{num}.tdms\"\n",
    "    ae_d = load_tdms(load_path, ch_num=3)\n",
    "    ae_w = ae_d[0][start:start+interval]\n",
    "    ae_s = ae_d[1][start:start+interval]\n",
    "\n",
    "    N = len(ae_w)\n",
    "    fq = np.linspace(0, N*dt, N)  # 周波数軸　linspace(開始,終了,分割数)\n",
    "\n",
    "    fq_w, amp_w = FFT_main(fq, ae_w, dt, split_t_r, overlap, window_F)\n",
    "    output_FN = rf\"Z:\\200 Produced_data\\{date}\\FFT\\work\\focus_on_one_rotation\\{num}.png\"\n",
    "    plot_FFT(fq_w, amp_w, output_FN, y_label, y_unit,num)\n",
    "    \n",
    "    fq_s, amp_s = FFT_main(fq, ae_s, dt, split_t_r, overlap, window_F)\n",
    "    output_FN = rf\"Z:\\200 Produced_data\\{date}\\FFT\\focus_on_one_rotation\\spindle\\{num}.png\"\n",
    "    plot_FFT(fq_s, amp_s, output_FN, y_label, y_unit,num)"
   ]
  },
  {
   "cell_type": "markdown",
   "metadata": {},
   "source": [
    "# 特定path (1th rotation ～ Nth rotation)"
   ]
  },
  {
   "cell_type": "markdown",
   "metadata": {},
   "source": [
    "## 特定のpathを選択"
   ]
  },
  {
   "cell_type": "code",
   "execution_count": 12,
   "metadata": {},
   "outputs": [],
   "source": [
    "#20230120\n",
    "import os\n",
    "path = np.array([7])\n",
    "path = np.append(path,np.arange(20,461,20))\n",
    "\n",
    "for num in path:\n",
    "    mkpath = rf\"Z:\\200 Produced_data\\{date}\\FFT\\spindle\\focus_on_one_path\\{num}\"\n",
    "    os.mkdir(mkpath)\n",
    "    mkpath = rf\"Z:\\200 Produced_data\\{date}\\FFT\\work\\focus_on_one_path\\{num}\"\n",
    "    os.mkdir(mkpath)"
   ]
  },
  {
   "cell_type": "code",
   "execution_count": 13,
   "metadata": {},
   "outputs": [],
   "source": [
    "dt = 1/10**6\n",
    "split_t_r = 0.1 # 1つの枠で全体のどの割合のデータを分析するか。\n",
    "overlap = 0.5  # オーバーラップ率\n",
    "window_F = \"hamming\"  # 窓関数選択: hanning, hamming, blackman\n",
    "y_label = \"amplitude\"\n",
    "y_unit = \"V\"\n",
    "start = 100000\n",
    "interval = 25000"
   ]
  },
  {
   "cell_type": "code",
   "execution_count": 14,
   "metadata": {},
   "outputs": [
    {
     "name": "stderr",
     "output_type": "stream",
     "text": [
      "100%|██████████| 1140/1140 [07:21<00:00,  2.58it/s]\n",
      " 10%|█         | 115/1140 [21:27<3:11:11, 11.19s/it]\n"
     ]
    },
    {
     "ename": "MemoryError",
     "evalue": "",
     "output_type": "error",
     "traceback": [
      "\u001b[1;31m---------------------------------------------------------------------------\u001b[0m",
      "\u001b[1;31mMemoryError\u001b[0m                               Traceback (most recent call last)",
      "\u001b[1;32m<ipython-input-14-824f938225fc>\u001b[0m in \u001b[0;36m<module>\u001b[1;34m\u001b[0m\n\u001b[0;32m     13\u001b[0m         \u001b[0mfq\u001b[0m \u001b[1;33m=\u001b[0m \u001b[0mnp\u001b[0m\u001b[1;33m.\u001b[0m\u001b[0mlinspace\u001b[0m\u001b[1;33m(\u001b[0m\u001b[1;36m0\u001b[0m\u001b[1;33m,\u001b[0m \u001b[0mN\u001b[0m\u001b[1;33m*\u001b[0m\u001b[0mdt\u001b[0m\u001b[1;33m,\u001b[0m \u001b[0mN\u001b[0m\u001b[1;33m)\u001b[0m  \u001b[1;31m# 周波数軸　linspace(開始,終了,分割数)\u001b[0m\u001b[1;33m\u001b[0m\u001b[1;33m\u001b[0m\u001b[0m\n\u001b[0;32m     14\u001b[0m \u001b[1;33m\u001b[0m\u001b[0m\n\u001b[1;32m---> 15\u001b[1;33m         \u001b[0mfq_w\u001b[0m\u001b[1;33m,\u001b[0m \u001b[0mamp_w\u001b[0m \u001b[1;33m=\u001b[0m \u001b[0mFFT_main\u001b[0m\u001b[1;33m(\u001b[0m\u001b[0mfq\u001b[0m\u001b[1;33m,\u001b[0m \u001b[0mae_w\u001b[0m\u001b[1;33m,\u001b[0m \u001b[0mdt\u001b[0m\u001b[1;33m,\u001b[0m \u001b[0msplit_t_r\u001b[0m\u001b[1;33m,\u001b[0m \u001b[0moverlap\u001b[0m\u001b[1;33m,\u001b[0m \u001b[0mwindow_F\u001b[0m\u001b[1;33m)\u001b[0m\u001b[1;33m\u001b[0m\u001b[1;33m\u001b[0m\u001b[0m\n\u001b[0m\u001b[0;32m     16\u001b[0m         \u001b[0moutput_FN\u001b[0m \u001b[1;33m=\u001b[0m \u001b[1;34mrf\"Z:\\200 Produced_data\\{date}\\FFT\\work\\focus_on_one_path\\{num}\\{num}_{rev}.png\"\u001b[0m\u001b[1;33m\u001b[0m\u001b[1;33m\u001b[0m\u001b[0m\n\u001b[0;32m     17\u001b[0m         \u001b[0mplot_FFT\u001b[0m\u001b[1;33m(\u001b[0m\u001b[0mfq_w\u001b[0m\u001b[1;33m,\u001b[0m \u001b[0mamp_w\u001b[0m\u001b[1;33m,\u001b[0m \u001b[0moutput_FN\u001b[0m\u001b[1;33m,\u001b[0m \u001b[0my_label\u001b[0m\u001b[1;33m,\u001b[0m \u001b[0my_unit\u001b[0m\u001b[1;33m,\u001b[0m\u001b[0mtitle\u001b[0m\u001b[1;33m)\u001b[0m\u001b[1;33m\u001b[0m\u001b[1;33m\u001b[0m\u001b[0m\n",
      "\u001b[1;32m~\\m2\\acoustic-emission-endmilling\\real\\foreal\\fft_test.py\u001b[0m in \u001b[0;36mFFT_main\u001b[1;34m(t, x, dt, split_t_r, overlap, window_F)\u001b[0m\n\u001b[0;32m      8\u001b[0m \u001b[1;33m\u001b[0m\u001b[0m\n\u001b[0;32m      9\u001b[0m     \u001b[1;31m# データをオーバーラップして分割する。\u001b[0m\u001b[1;33m\u001b[0m\u001b[1;33m\u001b[0m\u001b[1;33m\u001b[0m\u001b[0m\n\u001b[1;32m---> 10\u001b[1;33m     \u001b[0msplit_data\u001b[0m \u001b[1;33m=\u001b[0m \u001b[0mdata_split\u001b[0m\u001b[1;33m(\u001b[0m\u001b[0mt\u001b[0m\u001b[1;33m,\u001b[0m \u001b[0mx\u001b[0m\u001b[1;33m,\u001b[0m \u001b[0msplit_t_r\u001b[0m\u001b[1;33m,\u001b[0m \u001b[0moverlap\u001b[0m\u001b[1;33m)\u001b[0m\u001b[1;33m\u001b[0m\u001b[1;33m\u001b[0m\u001b[0m\n\u001b[0m\u001b[0;32m     11\u001b[0m \u001b[1;33m\u001b[0m\u001b[0m\n\u001b[0;32m     12\u001b[0m     \u001b[1;31m# FFTを行う。\u001b[0m\u001b[1;33m\u001b[0m\u001b[1;33m\u001b[0m\u001b[1;33m\u001b[0m\u001b[0m\n",
      "\u001b[1;32m~\\m2\\acoustic-emission-endmilling\\real\\foreal\\fft_test.py\u001b[0m in \u001b[0;36mdata_split\u001b[1;34m(t, x, split_t_r, overlap)\u001b[0m\n\u001b[0;32m     80\u001b[0m         \u001b[0mt_cont\u001b[0m \u001b[1;33m=\u001b[0m \u001b[0mt\u001b[0m\u001b[1;33m[\u001b[0m\u001b[0mstart_S\u001b[0m\u001b[1;33m:\u001b[0m\u001b[0mend_S\u001b[0m\u001b[1;33m]\u001b[0m\u001b[1;33m\u001b[0m\u001b[1;33m\u001b[0m\u001b[0m\n\u001b[0;32m     81\u001b[0m         \u001b[0mx_cont\u001b[0m \u001b[1;33m=\u001b[0m \u001b[0mx\u001b[0m\u001b[1;33m[\u001b[0m\u001b[0mstart_S\u001b[0m\u001b[1;33m:\u001b[0m\u001b[0mend_S\u001b[0m\u001b[1;33m]\u001b[0m\u001b[1;33m\u001b[0m\u001b[1;33m\u001b[0m\u001b[0m\n\u001b[1;32m---> 82\u001b[1;33m         \u001b[0msplit_data\u001b[0m\u001b[1;33m.\u001b[0m\u001b[0mappend\u001b[0m\u001b[1;33m(\u001b[0m\u001b[1;33m[\u001b[0m\u001b[0mt_cont\u001b[0m\u001b[1;33m,\u001b[0m \u001b[0mx_cont\u001b[0m\u001b[1;33m]\u001b[0m\u001b[1;33m)\u001b[0m\u001b[1;33m\u001b[0m\u001b[1;33m\u001b[0m\u001b[0m\n\u001b[0m\u001b[0;32m     83\u001b[0m \u001b[1;33m\u001b[0m\u001b[0m\n\u001b[0;32m     84\u001b[0m         \u001b[0mstart_S\u001b[0m \u001b[1;33m=\u001b[0m \u001b[0mstart_S\u001b[0m \u001b[1;33m+\u001b[0m \u001b[1;33m(\u001b[0m\u001b[0mone_frame_N\u001b[0m \u001b[1;33m-\u001b[0m \u001b[0moverlap_N\u001b[0m\u001b[1;33m)\u001b[0m\u001b[1;33m\u001b[0m\u001b[1;33m\u001b[0m\u001b[0m\n",
      "\u001b[1;31mMemoryError\u001b[0m: "
     ]
    }
   ],
   "source": [
    "for num in path:\n",
    "    load_path = rf\"Z:\\100 Raw_data\\{date}---切削実験\\AE\\Cutting\\AE_{num}.tdms\"\n",
    "    ae_d = load_tdms(load_path, ch_num=3)\n",
    "    revolution_num = int(len(ae_d[0][100000*3:9600000*3])/25000)\n",
    "    \n",
    "    for rev in tqdm(range(1,revolution_num+1)):\n",
    "#     for rev in tqdm(range(1,revolution_num-1135)):\n",
    "        title = str(num) + \" (\" +str(rev) + \") \"\n",
    "        ae_w = ae_d[0][start:start+interval]\n",
    "        ae_s = ae_d[1][start:start+interval]\n",
    "\n",
    "        N = len(ae_w)\n",
    "        fq = np.linspace(0, N*dt, N)  # 周波数軸　linspace(開始,終了,分割数)\n",
    "\n",
    "        fq_w, amp_w = FFT_main(fq, ae_w, dt, split_t_r, overlap, window_F)\n",
    "        output_FN = rf\"Z:\\200 Produced_data\\{date}\\FFT\\work\\focus_on_one_path\\{num}\\{num}_{rev}.png\"\n",
    "        plot_FFT(fq_w, amp_w, output_FN, y_label, y_unit,title)\n",
    "\n",
    "        fq_s, amp_s = FFT_main(fq, ae_s, dt, split_t_r, overlap, window_F)\n",
    "        output_FN = rf\"Z:\\200 Produced_data\\{date}\\FFT\\spindle\\focus_on_one_path\\{num}\\{num}_{rev}.png\"\n",
    "        plot_FFT(fq_s, amp_s, output_FN, y_label, y_unit,title)\n",
    "        start = start + 25000"
   ]
  },
  {
   "cell_type": "code",
   "execution_count": null,
   "metadata": {},
   "outputs": [],
   "source": [
    "from moviepy.editor import *\n",
    "from pathlib import Path\n",
    "# import numpy as np\n",
    "# import cv2"
   ]
  },
  {
   "cell_type": "code",
   "execution_count": 15,
   "metadata": {},
   "outputs": [
    {
     "ename": "IndentationError",
     "evalue": "expected an indented block (<ipython-input-15-6e5f4a8fc34f>, line 11)",
     "output_type": "error",
     "traceback": [
      "\u001b[1;36m  File \u001b[1;32m\"<ipython-input-15-6e5f4a8fc34f>\"\u001b[1;36m, line \u001b[1;32m11\u001b[0m\n\u001b[1;33m    path_list.append(rf'Z:\\200 Produced_data\\{date}\\FFT\\spindle\\focus_on_one_path\\{i}\\{i}_{j}.png')\u001b[0m\n\u001b[1;37m    ^\u001b[0m\n\u001b[1;31mIndentationError\u001b[0m\u001b[1;31m:\u001b[0m expected an indented block\n"
     ]
    }
   ],
   "source": [
    "img_clips = []\n",
    "path_list=[]\n",
    "#accessing path of each image\n",
    "\n",
    "path = np.array([7])\n",
    "path = np.append(path,np.arange(20,461,20))\n",
    "num = np.arange(1,1141)\n",
    "\n",
    "for i in path:\n",
    "    for j in num:\n",
    "        path_list.append(rf'Z:\\200 Produced_data\\{date}\\FFT\\spindle\\focus_on_one_path\\{i}\\{i}_{j}.png')\n",
    "\n",
    "    for img_path in path_list:\n",
    "        slide = ImageClip(img_path,duration=0.05)\n",
    "        img_clips.append(slide)\n",
    "    video_slides = concatenate_videoclips(img_clips, method='compose')\n",
    "    video_slides.write_videofile(rf\"Z:\\200 Produced_data\\{date}\\FFT\\spindle\\focus_on_one_path\\{i}\\video_0.05.mp4\", fps=24)\n",
    "\n",
    "for i in path:\n",
    "    for j in num:\n",
    "        path_list.append(rf'Z:\\200 Produced_data\\{date}\\FFT\\work\\focus_on_one_path\\{i}\\{i}_{j}.png')\n",
    "\n",
    "    for img_path in path_list:\n",
    "        slide = ImageClip(img_path,duration=0.05)\n",
    "        img_clips.append(slide)\n",
    "    video_slides = concatenate_videoclips(img_clips, method='compose')\n",
    "    video_slides.write_videofile(rf\"Z:\\200 Produced_data\\{date}\\FFT\\work\\focus_on_one_path\\{i}\\video_0.05.mp4\", fps=24)"
   ]
  },
  {
   "cell_type": "code",
   "execution_count": null,
   "metadata": {},
   "outputs": [],
   "source": []
  }
 ],
 "metadata": {
  "kernelspec": {
   "display_name": "Python 3",
   "language": "python",
   "name": "python3"
  },
  "language_info": {
   "codemirror_mode": {
    "name": "ipython",
    "version": 3
   },
   "file_extension": ".py",
   "mimetype": "text/x-python",
   "name": "python",
   "nbconvert_exporter": "python",
   "pygments_lexer": "ipython3",
   "version": "3.8.3"
  }
 },
 "nbformat": 4,
 "nbformat_minor": 4
}
