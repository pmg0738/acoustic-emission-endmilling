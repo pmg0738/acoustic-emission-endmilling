{
 "cells": [
  {
   "cell_type": "code",
   "execution_count": 1,
   "metadata": {},
   "outputs": [],
   "source": [
    "from loadTDMS import *\n",
    "from fft_test import *\n",
    "import numpy as np\n",
    "import pandas as pd\n",
    "import matplotlib.pyplot as plt\n",
    "from tqdm import tqdm\n",
    "import seaborn as sns"
   ]
  },
  {
   "cell_type": "code",
   "execution_count": 2,
   "metadata": {},
   "outputs": [],
   "source": [
    "# date = 20211025\n",
    "# date = 20211115\n",
    "# date = 20220630\n",
    "# date = 20221027\n",
    "date = 20230113"
   ]
  },
  {
   "cell_type": "code",
   "execution_count": 3,
   "metadata": {},
   "outputs": [],
   "source": [
    "def fft_integrated_one_rotation_fig(start,end,num,j):\n",
    "    load_path = rf\"Z:\\100 Raw_data\\{date}---切削実験\\AE\\Cutting\\AE_{num}.tdms\"\n",
    "    d = load_tdms(load_path, ch_num=3)\n",
    "    d = d[0][start:end]\n",
    "    \n",
    "    dt = 1/10**6\n",
    "    split_t_r = 0.1 # 1つの枠で全体のどの割合のデータを分析するか。\n",
    "    overlap = 0.5  # オーバーラップ率\n",
    "    window_F = \"hamming\"  # 窓関数選択: hanning, hamming, blackman\n",
    "    y_label = \"amplitude\"\n",
    "    y_unit = \"V\"\n",
    "    N = len(d)\n",
    "    fq = np.linspace(0, N*dt, N)  # 周波数軸　linspace(開始,終了,分割数)\n",
    "    \n",
    "    \n",
    "    fq_, amp_ = FFT_main(fq, d, dt, split_t_r, overlap, window_F)\n",
    "\n",
    "    output_FN = rf\"Z:\\200 Produced_data\\{date}\\FFTonePath_Focus\\fig\\FFT_{num}_{x}\"\n",
    "    plot_FFT(fq_, amp_, output_FN, y_label, y_unit,num)\n",
    "    \n",
    "    return 20*np.log10(amp_) +85"
   ]
  },
  {
   "cell_type": "markdown",
   "metadata": {},
   "source": [
    "## 各pathごとの面積のnpy生成"
   ]
  },
  {
   "cell_type": "code",
   "execution_count": null,
   "metadata": {},
   "outputs": [],
   "source": [
    "for i in range(1,170):\n",
    "    mensekis = []\n",
    "    for j in tqdm(range(0,591)):\n",
    "        num = i\n",
    "        sample_num = 2**14\n",
    "        start = j * 25000\n",
    "        end = start + sample_num\n",
    "        fft_result = fft_integrated_one_rotation_do_not_to_csv(start,end,num,j)\n",
    "        menseki = time_hist_integrator_rect(1,fft_result)\n",
    "        mensekis.append(menseki)\n",
    "    d = np.array(mensekis)\n",
    "    np.save(rf\"Z:\\200 Produced_data\\20221027\\FFTonePath_Focus\\menseki\\Aligned\\{num}\", d)"
   ]
  },
  {
   "cell_type": "markdown",
   "metadata": {},
   "source": [
    "## 各pathごとの面積の推移"
   ]
  },
  {
   "cell_type": "code",
   "execution_count": null,
   "metadata": {},
   "outputs": [],
   "source": [
    "for num in tqdm(range(1,170)):\n",
    "    fig = plt.figure()\n",
    "    dd = np.load(rf\"Z:\\200 Produced_data\\20221027\\FFTonePath_Focus\\menseki\\Aligned\\{num}.npy\")\n",
    "    \n",
    "    ax = fig.add_subplot(ylim=(11000,18000))\n",
    "\n",
    "    plt.plot(dd)\n",
    "    fig.savefig(rf\"Z:\\200 Produced_data\\20221027\\FFTonePath_Focus\\menseki\\Aligned\\推移\\{num}.png\")"
   ]
  },
  {
   "cell_type": "markdown",
   "metadata": {},
   "source": [
    "## 各pathごとの面積histogram生成"
   ]
  },
  {
   "cell_type": "code",
   "execution_count": null,
   "metadata": {},
   "outputs": [],
   "source": [
    "x_min = 10000\n",
    "x_max = 18000\n",
    "range_bin_width = range(x_min, x_max, 60)\n",
    "\n",
    "\n",
    "for num in tqdm(range(1,170)):\n",
    "    figure, ax = plt.subplots()\n",
    "    dd = np.load(rf\"Z:\\200 Produced_data\\20221027\\FFTonePath_Focus\\menseki\\Aligned\\{num}.npy\")\n",
    "    hist_p = sns.distplot(dd, bins=range_bin_width, kde=False, rug=False)\n",
    "    figure = hist_p.get_figure()\n",
    "    hist_p.set_title(rf\"{num}path\")\n",
    "    ax.set_ylim(0, 140)\n",
    "    figure.savefig(rf\"Z:\\200 Produced_data\\20221027\\FFTonePath_Focus\\menseki\\Aligned\\{num}.png\")"
   ]
  },
  {
   "cell_type": "markdown",
   "metadata": {},
   "source": [
    "## 全pathの面積のheatmap"
   ]
  },
  {
   "cell_type": "code",
   "execution_count": null,
   "metadata": {},
   "outputs": [],
   "source": [
    "dd3 = np.load(rf\"Z:\\200 Produced_data\\20221027\\FFTonePath_Focus\\menseki\\Aligned\\1.npy\")\n",
    "for num in tqdm(range(2,170)):\n",
    "    dd2 = np.load(rf\"Z:\\200 Produced_data\\20221027\\FFTonePath_Focus\\menseki\\Aligned\\{num}.npy\")\n",
    "    dd3 = np.concatenate([dd3, dd2], axis=0)\n",
    "\n",
    "dd4 = dd3.reshape(int(len(dd3)/591),591)\n",
    "\n",
    "print(dd4.shape)\n",
    "\n",
    "np.save(rf\"Z:\\200 Produced_data\\20221027\\FFTonePath_Focus\\menseki\\Aligned\\All\", dd4)"
   ]
  },
  {
   "cell_type": "markdown",
   "metadata": {},
   "source": [
    "## 全部の面積をプロット"
   ]
  },
  {
   "cell_type": "code",
   "execution_count": null,
   "metadata": {},
   "outputs": [],
   "source": [
    "d = np.load(rf\"Z:\\200 Produced_data\\20221027\\FFTonePath_Focus\\menseki\\Aligned\\All.npy\")\n",
    "d = d.ravel()"
   ]
  },
  {
   "cell_type": "code",
   "execution_count": null,
   "metadata": {},
   "outputs": [],
   "source": [
    "%matplotlib qt\n",
    "\n",
    "fig = plt.figure()\n",
    "\n",
    "w_size = 591 * 10\n",
    "v = np.ones(w_size) / w_size\n",
    "d_moving_avg = np.convolve(d, v, mode='valid') \n",
    "\n",
    "ax = fig.add_subplot()\n",
    "ax.set_xticks(np.arange(1, 169*591, 591*40))\n",
    "ax.set_xticklabels(np.arange(0,170,40))\n",
    "\n",
    "# plt.plot(d, lineWidth=\"2\")\n",
    "plt.plot(d_moving_avg, lineWidth=\"4\")"
   ]
  },
  {
   "cell_type": "markdown",
   "metadata": {},
   "source": [
    "## 周波数帯に区切って、面積出す"
   ]
  },
  {
   "cell_type": "code",
   "execution_count": 4,
   "metadata": {},
   "outputs": [],
   "source": [
    "def get_tdms(num):\n",
    "    load_path = rf\"Z:\\100 Raw_data\\20221027---切削実験\\AE\\Cutting\\AE_{num}.tdms\"\n",
    "    d = load_tdms(load_path, ch_num=3)\n",
    "    return d[0]"
   ]
  },
  {
   "cell_type": "code",
   "execution_count": null,
   "metadata": {},
   "outputs": [],
   "source": [
    "for i in range(1,170):\n",
    "    d = get_tdms(i)\n",
    "    mensekis = []\n",
    "    \n",
    "    for j in tqdm(range(0,591)):\n",
    "        sample_num = 2**14\n",
    "        start = j * 25000\n",
    "        end = start + sample_num\n",
    "\n",
    "        ds = d[start:end]\n",
    "        fq_, amp_ = FFT_main(fq, ds, dt, split_t_r, overlap, window_F)\n",
    "        amp_ = np.array(np.split(20*np.log10(amp_) +85, 10))\n",
    "\n",
    "        menseki = np.sum(amp_, axis=1)\n",
    "        mensekis.append(menseki)\n",
    "    np.save(rf\"Z:\\200 Produced_data\\20221027\\FFTonePath_Focus\\menseki\\100khz\\{i}\", np.array(mensekis))           "
   ]
  },
  {
   "cell_type": "code",
   "execution_count": null,
   "metadata": {},
   "outputs": [],
   "source": [
    "for i in range(0,10):\n",
    "    d1 = np.load(rf\"Z:\\200 Produced_data\\20221027\\FFTonePath_Focus\\menseki\\100khz\\1.npy\")\n",
    "    d1 = d1.T\n",
    "    dd = d1[i]\n",
    "#     print(dd.shape)\n",
    "    for num in range(2,170):\n",
    "        d2 = np.load(rf\"Z:\\200 Produced_data\\20221027\\FFTonePath_Focus\\menseki\\100khz\\{num}.npy\")\n",
    "        d2 = d2.T\n",
    "        dd = np.concatenate([dd,d2[i]])\n",
    "#         print(dd.shape)\n",
    "    start = i * 50\n",
    "    end = (i+1) *50\n",
    "    dd = dd.reshape(int(len(dd3)/591),591)\n",
    "    print(dd.shape)\n",
    "    np.save(rf\"Z:\\200 Produced_data\\20221027\\FFTonePath_Focus\\menseki\\100khz\\All_{start}-{end}khz\",dd)"
   ]
  },
  {
   "cell_type": "markdown",
   "metadata": {},
   "source": [
    "## 各周波数帯の中で、正規化してばらつきが一番大きい周波数帯を特定"
   ]
  },
  {
   "cell_type": "code",
   "execution_count": 5,
   "metadata": {},
   "outputs": [],
   "source": [
    "from sklearn import preprocessing"
   ]
  },
  {
   "cell_type": "code",
   "execution_count": null,
   "metadata": {},
   "outputs": [],
   "source": [
    "d_min = []\n",
    "d_max = []\n",
    "spectrum = []\n",
    "d_std = []\n",
    "\n",
    "for i in range(0,10):\n",
    "    start = i * 50\n",
    "    end = (i+1) *50\n",
    "\n",
    "    d = np.load(rf\"Z:\\200 Produced_data\\20221027\\FFTonePath_Focus\\menseki\\100khz\\All_{start}-{end}khz.npy\")\n",
    "    d = d.T\n",
    "    d = d.ravel()\n",
    "    \n",
    "    d_min.append(np.min(d))\n",
    "    d_max.append(np.max(d))\n",
    "    spectrum.append(f\"{start}-{end}\")\n",
    "    \n",
    "    d = preprocessing.minmax_scale(d)\n",
    "    d_std.append(np.std(d))\n",
    "\n",
    "d_min = np.array(d_min)\n",
    "d_max = np.array(d_max)\n",
    "d_minmax_diff = d_max - d_min\n",
    "\n",
    "\n",
    "dict1 = dict(spectrum = spectrum[:] ,min_ = d_min[:], max_ = d_max[:], diff_ = d_minmax_diff[:], d_std = d_std[:])\n",
    "df1 = pd.DataFrame(data=dict1)\n",
    "df1.to_csv(rf'Z:\\200 Produced_data\\20221027\\FFTonePath_Focus\\menseki\\100khz\\EachSpectrumMinMax.csv')\n"
   ]
  },
  {
   "cell_type": "code",
   "execution_count": 3,
   "metadata": {},
   "outputs": [
    {
     "data": {
      "text/html": [
       "<div>\n",
       "<style scoped>\n",
       "    .dataframe tbody tr th:only-of-type {\n",
       "        vertical-align: middle;\n",
       "    }\n",
       "\n",
       "    .dataframe tbody tr th {\n",
       "        vertical-align: top;\n",
       "    }\n",
       "\n",
       "    .dataframe thead th {\n",
       "        text-align: right;\n",
       "    }\n",
       "</style>\n",
       "<table border=\"1\" class=\"dataframe\">\n",
       "  <thead>\n",
       "    <tr style=\"text-align: right;\">\n",
       "      <th></th>\n",
       "      <th>Unnamed: 0</th>\n",
       "      <th>spectrum</th>\n",
       "      <th>min_</th>\n",
       "      <th>max_</th>\n",
       "      <th>diff_</th>\n",
       "      <th>d_std</th>\n",
       "    </tr>\n",
       "  </thead>\n",
       "  <tbody>\n",
       "    <tr>\n",
       "      <th>0</th>\n",
       "      <td>0</td>\n",
       "      <td>0-50</td>\n",
       "      <td>3267.916454</td>\n",
       "      <td>3515.587947</td>\n",
       "      <td>247.671493</td>\n",
       "      <td>0.126595</td>\n",
       "    </tr>\n",
       "    <tr>\n",
       "      <th>1</th>\n",
       "      <td>1</td>\n",
       "      <td>50-100</td>\n",
       "      <td>1226.037395</td>\n",
       "      <td>1580.073237</td>\n",
       "      <td>354.035841</td>\n",
       "      <td>0.130699</td>\n",
       "    </tr>\n",
       "    <tr>\n",
       "      <th>2</th>\n",
       "      <td>2</td>\n",
       "      <td>100-150</td>\n",
       "      <td>672.278194</td>\n",
       "      <td>1226.979336</td>\n",
       "      <td>554.701142</td>\n",
       "      <td>0.177593</td>\n",
       "    </tr>\n",
       "    <tr>\n",
       "      <th>3</th>\n",
       "      <td>3</td>\n",
       "      <td>150-200</td>\n",
       "      <td>704.127523</td>\n",
       "      <td>1846.797518</td>\n",
       "      <td>1142.669995</td>\n",
       "      <td>0.330833</td>\n",
       "    </tr>\n",
       "    <tr>\n",
       "      <th>4</th>\n",
       "      <td>4</td>\n",
       "      <td>200-250</td>\n",
       "      <td>852.593928</td>\n",
       "      <td>2483.618922</td>\n",
       "      <td>1631.024994</td>\n",
       "      <td>0.364196</td>\n",
       "    </tr>\n",
       "    <tr>\n",
       "      <th>5</th>\n",
       "      <td>5</td>\n",
       "      <td>250-300</td>\n",
       "      <td>635.260184</td>\n",
       "      <td>2417.593962</td>\n",
       "      <td>1782.333777</td>\n",
       "      <td>0.361176</td>\n",
       "    </tr>\n",
       "    <tr>\n",
       "      <th>6</th>\n",
       "      <td>6</td>\n",
       "      <td>300-350</td>\n",
       "      <td>747.367688</td>\n",
       "      <td>1600.990057</td>\n",
       "      <td>853.622369</td>\n",
       "      <td>0.249105</td>\n",
       "    </tr>\n",
       "    <tr>\n",
       "      <th>7</th>\n",
       "      <td>7</td>\n",
       "      <td>350-400</td>\n",
       "      <td>833.016668</td>\n",
       "      <td>1428.203034</td>\n",
       "      <td>595.186366</td>\n",
       "      <td>0.205763</td>\n",
       "    </tr>\n",
       "    <tr>\n",
       "      <th>8</th>\n",
       "      <td>8</td>\n",
       "      <td>400-450</td>\n",
       "      <td>767.329430</td>\n",
       "      <td>1011.294667</td>\n",
       "      <td>243.965237</td>\n",
       "      <td>0.114431</td>\n",
       "    </tr>\n",
       "    <tr>\n",
       "      <th>9</th>\n",
       "      <td>9</td>\n",
       "      <td>450-500</td>\n",
       "      <td>836.406420</td>\n",
       "      <td>1109.115482</td>\n",
       "      <td>272.709062</td>\n",
       "      <td>0.108178</td>\n",
       "    </tr>\n",
       "  </tbody>\n",
       "</table>\n",
       "</div>"
      ],
      "text/plain": [
       "   Unnamed: 0 spectrum         min_         max_        diff_     d_std\n",
       "0           0     0-50  3267.916454  3515.587947   247.671493  0.126595\n",
       "1           1   50-100  1226.037395  1580.073237   354.035841  0.130699\n",
       "2           2  100-150   672.278194  1226.979336   554.701142  0.177593\n",
       "3           3  150-200   704.127523  1846.797518  1142.669995  0.330833\n",
       "4           4  200-250   852.593928  2483.618922  1631.024994  0.364196\n",
       "5           5  250-300   635.260184  2417.593962  1782.333777  0.361176\n",
       "6           6  300-350   747.367688  1600.990057   853.622369  0.249105\n",
       "7           7  350-400   833.016668  1428.203034   595.186366  0.205763\n",
       "8           8  400-450   767.329430  1011.294667   243.965237  0.114431\n",
       "9           9  450-500   836.406420  1109.115482   272.709062  0.108178"
      ]
     },
     "execution_count": 3,
     "metadata": {},
     "output_type": "execute_result"
    }
   ],
   "source": [
    "df = pd.read_csv(rf\"Z:\\200 Produced_data\\20221027\\FFTonePath_Focus\\menseki\\100khz\\EachSpectrumMinMax.csv\")\n",
    "df"
   ]
  },
  {
   "cell_type": "markdown",
   "metadata": {},
   "source": [
    "## 各周波数帯の中で正規化(normalization)し、heatmap表示"
   ]
  },
  {
   "cell_type": "code",
   "execution_count": null,
   "metadata": {},
   "outputs": [],
   "source": [
    "for i in range(0,10):\n",
    "    figure, ax = plt.subplots()\n",
    "    start = i * 50\n",
    "    end = (i+1) *50\n",
    "    d = np.load(rf\"Z:\\200 Produced_data\\20221027\\FFTonePath_Focus\\menseki\\100khz\\All_{start}-{end}khz.npy\")\n",
    "    d = d.ravel()\n",
    "#     print(\"---------------------\")\n",
    "    d = preprocessing.minmax_scale(d)\n",
    "#     print(len(d)/169)\n",
    "    d = d.reshape(169, int(len(d)/169))\n",
    "#     print(d.shape)\n",
    "    np.save(rf\"Z:\\200 Produced_data\\20221027\\FFTonePath_Focus\\menseki\\100khz\\AllNorm_{start}-{end}khz_test\",d)\n",
    "    sns.heatmap(d.T)\n",
    "    figure.savefig(rf\"Z:\\200 Produced_data\\20221027\\FFTonePath_Focus\\menseki\\100khz\\fig\\NormT\\AllNorm_{start}-{end}khz_heatmap_T_test.png\", dpi=500)\n"
   ]
  },
  {
   "cell_type": "code",
   "execution_count": null,
   "metadata": {},
   "outputs": [],
   "source": []
  },
  {
   "cell_type": "code",
   "execution_count": null,
   "metadata": {},
   "outputs": [],
   "source": []
  }
 ],
 "metadata": {
  "kernelspec": {
   "display_name": "Python 3",
   "language": "python",
   "name": "python3"
  },
  "language_info": {
   "codemirror_mode": {
    "name": "ipython",
    "version": 3
   },
   "file_extension": ".py",
   "mimetype": "text/x-python",
   "name": "python",
   "nbconvert_exporter": "python",
   "pygments_lexer": "ipython3",
   "version": "3.8.3"
  }
 },
 "nbformat": 4,
 "nbformat_minor": 4
}
