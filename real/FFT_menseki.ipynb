{
 "cells": [
  {
   "cell_type": "code",
   "execution_count": 2,
   "metadata": {},
   "outputs": [],
   "source": [
    "from loadTDMS import *\n",
    "from fft_test import *\n",
    "import numpy as np\n",
    "import pandas as pd\n",
    "import matplotlib.pyplot as plt\n",
    "from tqdm import tqdm\n",
    "import seaborn as sns"
   ]
  },
  {
   "cell_type": "code",
   "execution_count": 3,
   "metadata": {},
   "outputs": [],
   "source": [
    "def fft_integrated_one_rotation_fig(start,end,num,j):\n",
    "    load_path = rf\"Z:\\100 Raw_data\\20221027---切削実験\\AE\\Cutting\\AE_{num}.tdms\"\n",
    "    d = load_tdms(load_path, ch_num=3)\n",
    "    d = d[0][start:end]\n",
    "    \n",
    "    dt = 1/10**6\n",
    "    split_t_r = 0.1 # 1つの枠で全体のどの割合のデータを分析するか。\n",
    "    overlap = 0.5  # オーバーラップ率\n",
    "    window_F = \"hamming\"  # 窓関数選択: hanning, hamming, blackman\n",
    "    y_label = \"amplitude\"\n",
    "    y_unit = \"V\"\n",
    "    N = len(d)\n",
    "    fq = np.linspace(0, N*dt, N)  # 周波数軸　linspace(開始,終了,分割数)\n",
    "    \n",
    "    \n",
    "    fq_, amp_ = FFT_main(fq, d, dt, split_t_r, overlap, window_F)\n",
    "\n",
    "    output_FN = fr\"Z:\\200 Produced_data\\20221027\\FFTonePath_Focus\\fig\\FFT_{num}_{x}\"\n",
    "    plot_FFT(fq_, amp_, output_FN, y_label, y_unit,num)\n",
    "    \n",
    "    return 20*np.log10(amp_) +85"
   ]
  },
  {
   "cell_type": "markdown",
   "metadata": {},
   "source": [
    "## 各pathごとの面積のnpy生成"
   ]
  },
  {
   "cell_type": "code",
   "execution_count": null,
   "metadata": {},
   "outputs": [],
   "source": [
    "for i in range(1,170):\n",
    "    mensekis = []\n",
    "    for j in tqdm(range(0,591)):\n",
    "        num = i\n",
    "        sample_num = 2**14\n",
    "        start = j * 25000\n",
    "        end = start + sample_num\n",
    "        fft_result = fft_integrated_one_rotation_do_not_to_csv(start,end,num,j)\n",
    "        menseki = time_hist_integrator_rect(1,fft_result)\n",
    "        mensekis.append(menseki)\n",
    "    d = np.array(mensekis)\n",
    "    np.save(rf\"Z:\\200 Produced_data\\20221027\\FFTonePath_Focus\\menseki\\Aligned\\{num}\", d)"
   ]
  },
  {
   "cell_type": "markdown",
   "metadata": {},
   "source": [
    "## 各pathごとの面積の推移"
   ]
  },
  {
   "cell_type": "code",
   "execution_count": null,
   "metadata": {},
   "outputs": [],
   "source": [
    "for num in tqdm(range(1,170)):\n",
    "    fig = plt.figure()\n",
    "    dd = np.load(rf\"Z:\\200 Produced_data\\20221027\\FFTonePath_Focus\\menseki\\Aligned\\{num}.npy\")\n",
    "    \n",
    "    ax = fig.add_subplot(ylim=(11000,18000))\n",
    "\n",
    "    plt.plot(dd)\n",
    "    fig.savefig(rf\"Z:\\200 Produced_data\\20221027\\FFTonePath_Focus\\menseki\\Aligned\\推移\\{num}.png\")"
   ]
  },
  {
   "cell_type": "markdown",
   "metadata": {},
   "source": [
    "## 各pathごとの面積histogram生成"
   ]
  },
  {
   "cell_type": "code",
   "execution_count": null,
   "metadata": {},
   "outputs": [],
   "source": [
    "x_min = 10000\n",
    "x_max = 18000\n",
    "range_bin_width = range(x_min, x_max, 60)\n",
    "\n",
    "\n",
    "for num in tqdm(range(1,170)):\n",
    "    figure, ax = plt.subplots()\n",
    "    dd = np.load(rf\"Z:\\200 Produced_data\\20221027\\FFTonePath_Focus\\menseki\\Aligned\\{num}.npy\")\n",
    "    hist_p = sns.distplot(dd, bins=range_bin_width, kde=False, rug=False)\n",
    "    figure = hist_p.get_figure()\n",
    "    hist_p.set_title(rf\"{num}path\")\n",
    "    ax.set_ylim(0, 140)\n",
    "    figure.savefig(rf\"Z:\\200 Produced_data\\20221027\\FFTonePath_Focus\\menseki\\Aligned\\{num}.png\")"
   ]
  },
  {
   "cell_type": "markdown",
   "metadata": {},
   "source": [
    "## 全pathの面積のheatmap"
   ]
  },
  {
   "cell_type": "code",
   "execution_count": null,
   "metadata": {},
   "outputs": [],
   "source": [
    "dd3 = np.load(rf\"Z:\\200 Produced_data\\20221027\\FFTonePath_Focus\\menseki\\Aligned\\1.npy\")\n",
    "for num in tqdm(range(2,170)):\n",
    "    dd2 = np.load(rf\"Z:\\200 Produced_data\\20221027\\FFTonePath_Focus\\menseki\\Aligned\\{num}.npy\")\n",
    "    dd3 = np.concatenate([dd3, dd2], axis=0)\n",
    "\n",
    "dd4 = dd3.reshape(int(len(dd3)/591),591)\n",
    "\n",
    "print(dd4.shape)\n",
    "\n",
    "np.save(rf\"Z:\\200 Produced_data\\20221027\\FFTonePath_Focus\\menseki\\Aligned\\All\", dd4)"
   ]
  },
  {
   "cell_type": "markdown",
   "metadata": {},
   "source": [
    "## 全部の面積をプロット"
   ]
  },
  {
   "cell_type": "code",
   "execution_count": null,
   "metadata": {},
   "outputs": [],
   "source": [
    "d = np.load(rf\"Z:\\200 Produced_data\\20221027\\FFTonePath_Focus\\menseki\\Aligned\\All.npy\")\n",
    "d = d.ravel()"
   ]
  },
  {
   "cell_type": "code",
   "execution_count": null,
   "metadata": {},
   "outputs": [],
   "source": [
    "%matplotlib qt\n",
    "\n",
    "fig = plt.figure()\n",
    "\n",
    "w_size = 591 * 10\n",
    "v = np.ones(w_size) / w_size\n",
    "d_moving_avg = np.convolve(d, v, mode='valid') \n",
    "\n",
    "ax = fig.add_subplot()\n",
    "ax.set_xticks(np.arange(1, 169*591, 591*40))\n",
    "ax.set_xticklabels(np.arange(0,170,40))\n",
    "\n",
    "# plt.plot(d, lineWidth=\"2\")\n",
    "plt.plot(d_moving_avg, lineWidth=\"4\")"
   ]
  },
  {
   "cell_type": "markdown",
   "metadata": {},
   "source": [
    "## 周波数帯に区切って、面積出す"
   ]
  },
  {
   "cell_type": "code",
   "execution_count": 4,
   "metadata": {},
   "outputs": [],
   "source": [
    "def get_tdms(num):\n",
    "    load_path = rf\"Z:\\100 Raw_data\\20221027---切削実験\\AE\\Cutting\\AE_{num}.tdms\"\n",
    "    d = load_tdms(load_path, ch_num=3)\n",
    "    return d[0]"
   ]
  },
  {
   "cell_type": "code",
   "execution_count": null,
   "metadata": {},
   "outputs": [],
   "source": [
    "for i in range(1,170):\n",
    "    d = get_tdms(i)\n",
    "    mensekis = []\n",
    "    \n",
    "    for j in tqdm(range(0,591)):\n",
    "        sample_num = 2**14\n",
    "        start = j * 25000\n",
    "        end = start + sample_num\n",
    "\n",
    "        ds = d[start:end]\n",
    "        fq_, amp_ = FFT_main(fq, ds, dt, split_t_r, overlap, window_F)\n",
    "        amp_ = np.array(np.split(20*np.log10(amp_) +85, 10))\n",
    "\n",
    "        menseki = np.sum(amp_, axis=1)\n",
    "        mensekis.append(menseki)\n",
    "    np.save(rf\"Z:\\200 Produced_data\\20221027\\FFTonePath_Focus\\menseki\\100khz\\{i}\", np.array(mensekis))           "
   ]
  },
  {
   "cell_type": "code",
   "execution_count": null,
   "metadata": {},
   "outputs": [],
   "source": [
    "for i in range(0,10):\n",
    "    d1 = np.load(rf\"Z:\\200 Produced_data\\20221027\\FFTonePath_Focus\\menseki\\100khz\\1.npy\")\n",
    "    d1 = d1.T\n",
    "    dd = d1[i]\n",
    "#     print(dd.shape)\n",
    "    for num in range(2,170):\n",
    "        d2 = np.load(rf\"Z:\\200 Produced_data\\20221027\\FFTonePath_Focus\\menseki\\100khz\\{num}.npy\")\n",
    "        d2 = d2.T\n",
    "        dd = np.concatenate([dd,d2[i]])\n",
    "#         print(dd.shape)\n",
    "    start = i * 50\n",
    "    end = (i+1) *50\n",
    "    dd = dd.reshape(int(len(dd3)/591),591)\n",
    "    print(dd.shape)\n",
    "    np.save(rf\"Z:\\200 Produced_data\\20221027\\FFTonePath_Focus\\menseki\\100khz\\All_{start}-{end}khz\",dd)"
   ]
  },
  {
   "cell_type": "markdown",
   "metadata": {},
   "source": [
    "## 各周波数帯の中で、正規化してばらつきが一番大きい周波数帯を特定"
   ]
  },
  {
   "cell_type": "code",
   "execution_count": 5,
   "metadata": {},
   "outputs": [],
   "source": [
    "from sklearn import preprocessing"
   ]
  },
  {
   "cell_type": "code",
   "execution_count": null,
   "metadata": {},
   "outputs": [],
   "source": [
    "d_min = []\n",
    "d_max = []\n",
    "spectrum = []\n",
    "d_std = []\n",
    "\n",
    "for i in range(0,10):\n",
    "    start = i * 50\n",
    "    end = (i+1) *50\n",
    "\n",
    "    d = np.load(rf\"Z:\\200 Produced_data\\20221027\\FFTonePath_Focus\\menseki\\100khz\\All_{start}-{end}khz.npy\")\n",
    "    d = d.T\n",
    "    d = d.ravel()\n",
    "    \n",
    "    d_min.append(np.min(d))\n",
    "    d_max.append(np.max(d))\n",
    "    spectrum.append(f\"{start}-{end}\")\n",
    "    \n",
    "    d = preprocessing.minmax_scale(d)\n",
    "    d_std.append(np.std(d))\n",
    "\n",
    "d_min = np.array(d_min)\n",
    "d_max = np.array(d_max)\n",
    "d_minmax_diff = d_max - d_min\n",
    "\n",
    "\n",
    "dict1 = dict(spectrum = spectrum[:] ,min_ = d_min[:], max_ = d_max[:], diff_ = d_minmax_diff[:], d_std = d_std[:])\n",
    "df1 = pd.DataFrame(data=dict1)\n",
    "df1.to_csv(rf'Z:\\200 Produced_data\\20221027\\FFTonePath_Focus\\menseki\\100khz\\EachSpectrumMinMax.csv')\n"
   ]
  },
  {
   "cell_type": "code",
   "execution_count": null,
   "metadata": {},
   "outputs": [],
   "source": [
    "df = pd.read_csv(rf\"Z:\\200 Produced_data\\20221027\\FFTonePath_Focus\\menseki\\100khz\\EachSpectrumMinMax.csv\")\n",
    "df"
   ]
  },
  {
   "cell_type": "markdown",
   "metadata": {},
   "source": [
    "## 各周波数帯の中で正規化(normalization)し、heatmap表示"
   ]
  },
  {
   "cell_type": "code",
   "execution_count": null,
   "metadata": {},
   "outputs": [],
   "source": [
    "for i in range(0,10):\n",
    "    figure, ax = plt.subplots()\n",
    "    start = i * 50\n",
    "    end = (i+1) *50\n",
    "    d = np.load(rf\"Z:\\200 Produced_data\\20221027\\FFTonePath_Focus\\menseki\\100khz\\All_{start}-{end}khz.npy\")\n",
    "    d = d.ravel()\n",
    "#     print(\"---------------------\")\n",
    "    d = preprocessing.minmax_scale(d)\n",
    "#     print(len(d)/169)\n",
    "    d = d.reshape(169, int(len(d)/169))\n",
    "#     print(d.shape)\n",
    "    np.save(rf\"Z:\\200 Produced_data\\20221027\\FFTonePath_Focus\\menseki\\100khz\\AllNorm_{start}-{end}khz_test\",d)\n",
    "    sns.heatmap(d.T)\n",
    "    figure.savefig(rf\"Z:\\200 Produced_data\\20221027\\FFTonePath_Focus\\menseki\\100khz\\fig\\NormT\\AllNorm_{start}-{end}khz_heatmap_T_test.png\", dpi=500)\n"
   ]
  },
  {
   "cell_type": "code",
   "execution_count": null,
   "metadata": {},
   "outputs": [],
   "source": []
  },
  {
   "cell_type": "code",
   "execution_count": null,
   "metadata": {},
   "outputs": [],
   "source": []
  }
 ],
 "metadata": {
  "kernelspec": {
   "display_name": "Python 3",
   "language": "python",
   "name": "python3"
  },
  "language_info": {
   "codemirror_mode": {
    "name": "ipython",
    "version": 3
   },
   "file_extension": ".py",
   "mimetype": "text/x-python",
   "name": "python",
   "nbconvert_exporter": "python",
   "pygments_lexer": "ipython3",
   "version": "3.8.3"
  }
 },
 "nbformat": 4,
 "nbformat_minor": 4
}
