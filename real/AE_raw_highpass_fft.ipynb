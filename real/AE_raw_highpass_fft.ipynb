{
 "cells": [
  {
   "cell_type": "code",
   "execution_count": 1,
   "metadata": {},
   "outputs": [],
   "source": [
    "from loadTDMS import *\n",
    "from fft_test import *\n",
    "import numpy as np\n",
    "import pandas as pd\n",
    "import matplotlib.pyplot as plt\n",
    "from tqdm import tqdm\n",
    "import seaborn as sns"
   ]
  },
  {
   "cell_type": "code",
   "execution_count": 5,
   "metadata": {},
   "outputs": [],
   "source": [
    "date = 20230123\n",
    "num = 50\n",
    "start  = 5000000\n",
    "end = 6000000"
   ]
  },
  {
   "cell_type": "code",
   "execution_count": 6,
   "metadata": {},
   "outputs": [],
   "source": [
    "load_path = rf\"Z:\\100 Raw_data\\{date}---切削実験\\AE\\Cutting\\AE_{num}.tdms\"\n",
    "d = load_tdms(load_path, ch_num=3)\n",
    "d = d[0][start:end]"
   ]
  },
  {
   "cell_type": "code",
   "execution_count": 7,
   "metadata": {},
   "outputs": [
    {
     "data": {
      "text/plain": [
       "[<matplotlib.lines.Line2D at 0x1ea32425fd0>]"
      ]
     },
     "execution_count": 7,
     "metadata": {},
     "output_type": "execute_result"
    }
   ],
   "source": [
    "%matplotlib qt\n",
    "plt.plot(d)"
   ]
  },
  {
   "cell_type": "code",
   "execution_count": 9,
   "metadata": {
    "scrolled": true
   },
   "outputs": [
    {
     "name": "stdout",
     "output_type": "stream",
     "text": [
      "[6.10351562e+01 1.22070312e+02 1.83105469e+02 ... 4.99816895e+05\n",
      " 4.99877930e+05 4.99938965e+05]\n"
     ]
    }
   ],
   "source": [
    "%matplotlib qt\n",
    "\n",
    "N = 2**14\n",
    "load_path = rf\"Z:\\100 Raw_data\\{date}---切削実験\\AE\\Cutting\\AE_10.tdms\"\n",
    "ae_d = load_tdms(load_path, ch_num=3)\n",
    "ae_d = ae_d[1][0:N]\n",
    "dt = 1/10**6\n",
    "F = np.fft.fft(ae_d) # 変換結果\n",
    "freq = np.fft.fftfreq(N, d=dt) # 周波数\n",
    "print(freq[1:int(N/2)])\n",
    "\n",
    "Amp = np.abs(F/(N/2)) # 振幅\n",
    "\n",
    "fig, ax = plt.subplots()\n",
    "ax.plot(freq[1:int(N/2)], 20*np.log10(Amp[1:int(N/2)]))\n",
    "\n",
    "ax.set_xlabel(\"Freqency [Hz]\")\n",
    "ax.set_ylabel(\"Amplitude\")\n",
    "ax.grid()\n",
    "plt.show()"
   ]
  },
  {
   "cell_type": "code",
   "execution_count": 11,
   "metadata": {},
   "outputs": [],
   "source": [
    "#配列Fをコピー\n",
    "F2 = F.copy()\n",
    "\n",
    "fc = 100000\n",
    "\n",
    "# ローパスフィル処理（カットオフ周波数を超える帯域の周波数信号を0にする）\n",
    "F2[(freq > fc)] = 0\n",
    "\n",
    "# 高速逆フーリエ変換（時間信号に戻す）\n",
    "f2 = np.fft.ifft(F2)\n",
    "\n",
    "# 振幅を元のスケールに戻す\n",
    "f2 = np.real(f2*N)"
   ]
  },
  {
   "cell_type": "code",
   "execution_count": 21,
   "metadata": {},
   "outputs": [
    {
     "name": "stdout",
     "output_type": "stream",
     "text": [
      "25000\n"
     ]
    },
    {
     "name": "stderr",
     "output_type": "stream",
     "text": [
      "C:\\Users\\pmg07\\anaconda3\\lib\\site-packages\\matplotlib\\cbook\\__init__.py:1317: ComplexWarning: Casting complex values to real discards the imaginary part\n",
      "  return np.asarray(x, float)\n",
      "<ipython-input-21-acaa9f2b1b35>:72: RuntimeWarning: divide by zero encountered in log10\n",
      "  plt.plot(freq[1:int(N/2)], 20*np.log10(np.abs(F2)[1:int(N/2)]), label='LPF500Hz_FFT')\n"
     ]
    }
   ],
   "source": [
    "%matplotlib qt\n",
    "# データのパラメータ\n",
    "N = int(25000)           # サンプル数\n",
    "\n",
    "load_path = rf\"Z:\\100 Raw_data\\{date}---切削実験\\AE\\Cutting\\AE_10.tdms\"\n",
    "ae_d = load_tdms(load_path, ch_num=3)\n",
    "ae_d = ae_d[1][start:start+N]\n",
    "\n",
    "dt = 1/10**6          # サンプリング間隔\n",
    "fc = 500000           # カットオフ周波数\n",
    "t = np.arange(0, N*dt, dt)  # 時間軸\n",
    "freq = np.linspace(0, 1.0/dt, N)  # 周波数軸\n",
    "f = ae_d[:N]\n",
    "\n",
    "# 高速フーリエ変換（周波数信号に変換）\n",
    "F = np.fft.fft(f)\n",
    "\n",
    "# # 正規化 + 交流成分2倍\n",
    "# F = F/(N/2)\n",
    "# F[0] = F[0]/2\n",
    "\n",
    "# 配列Fをコピー\n",
    "F2 = F.copy()\n",
    "print(len(F2))\n",
    "\n",
    "# ローパスフィル処理（カットオフ周波数を超える帯域の周波数信号を0にする）\n",
    "F2[(freq < fc)] = 0\n",
    "\n",
    "# 高速逆フーリエ変換（時間信号に戻す）\n",
    "f2 = np.fft.ifft(F2)\n",
    "\n",
    "# 振幅を元のスケールに戻す\n",
    "# f2 = np.real(f2*N)\n",
    "\n",
    "# グラフ表示\n",
    "\n",
    "fig = plt.figure(figsize=(10.0, 8.0))\n",
    "plt.rcParams['font.family'] = 'Times New Roman'\n",
    "plt.rcParams['font.size'] = 12\n",
    "\n",
    "# 時間信号（元）\n",
    "plt.subplot(221)\n",
    "plt.plot(t, f, label='RAW')\n",
    "plt.xlabel(\"Time\")\n",
    "plt.ylabel(\"Signal\")\n",
    "plt.grid()\n",
    "leg = plt.legend(loc=1, fontsize=15)\n",
    "leg.get_frame().set_alpha(1)\n",
    "\n",
    "# 周波数信号(元)\n",
    "plt.subplot(222)\n",
    "plt.plot(freq[1:int(N/2)], 20*np.log10(np.abs(F)[1:int(N/2)]), label='RAW_FFT')\n",
    "# plt.plot(freq[1:int(N/2)], np.abs(F)[1:int(N/2)], label='RAW_FFT')\n",
    "\n",
    "plt.xlabel('Frequency')\n",
    "plt.ylabel('Amplitude')\n",
    "plt.grid()\n",
    "leg = plt.legend(loc=1)\n",
    "leg.get_frame().set_alpha(1)\n",
    "\n",
    "# 時間信号(処理後)\n",
    "plt.subplot(223)\n",
    "plt.plot(t, f2, label='LPF500Hz')\n",
    "plt.xlabel(\"Time\")\n",
    "plt.ylabel(\"Signal\")\n",
    "plt.grid()\n",
    "leg = plt.legend(loc=1)\n",
    "leg.get_frame().set_alpha(1)\n",
    "\n",
    "# 周波数信号(処理後)\n",
    "plt.subplot(224)\n",
    "plt.plot(freq[1:int(N/2)], 20*np.log10(np.abs(F2)[1:int(N/2)]), label='LPF500Hz_FFT')\n",
    "# plt.plot(freq[1:int(N/2)], np.abs(F2)[1:int(N/2)], label='LPF500Hz_FFT')\n",
    "\n",
    "plt.xlabel('Frequency')\n",
    "plt.ylabel('Amplitude')\n",
    "plt.grid()\n",
    "leg = plt.legend(loc=1)\n",
    "leg.get_frame().set_alpha(1)\n",
    "# plt.savefig('切削抵抗500Hz_lowpass_filter.png')"
   ]
  },
  {
   "cell_type": "code",
   "execution_count": 24,
   "metadata": {},
   "outputs": [
    {
     "name": "stdout",
     "output_type": "stream",
     "text": [
      "■■■　入力条件　■■■\n",
      "サンプル数 : 64\n",
      "サンプリング周期 : 0.025 sec\n",
      "サンプリング周波数 : 40.0 Hz\n",
      "入力波１\n",
      "　　周波数 : 10 Hz\n",
      "　　振　幅 : 1\n",
      "入力波２\n",
      "　　周波数 : 15 Hz\n",
      "　　振　幅 : 1\n",
      "サンプリング時間 : 1.5750000000000002 sec\n",
      "サンプリング時刻 : [0.    0.025 0.05  0.075 0.1   0.125 0.15  0.175 0.2   0.225 0.25  0.275\n",
      " 0.3   0.325 0.35  0.375 0.4   0.425 0.45  0.475 0.5   0.525 0.55  0.575\n",
      " 0.6   0.625 0.65  0.675 0.7   0.725 0.75  0.775 0.8   0.825 0.85  0.875\n",
      " 0.9   0.925 0.95  0.975 1.    1.025 1.05  1.075 1.1   1.125 1.15  1.175\n",
      " 1.2   1.225 1.25  1.275 1.3   1.325 1.35  1.375 1.4   1.425 1.45  1.475\n",
      " 1.5   1.525 1.55  1.575]\n",
      "\n",
      "■■■　入力信号特性　■■■\n",
      "入力信号の最大idx : 57\n",
      "入力信号の最大振幅 : 1.707106781186552\n",
      "入力信号の最大時刻 : 1.425\n",
      "\n",
      "■■■　フーリエ変換信号特性　■■■\n",
      "フーリエ変換信号の最大idx : 16\n",
      "フーリエ変換信号の最大振幅 : 0.9999999999999996\n",
      "フーリエ変換信号の最大周波数 : 10.158730158730158\n",
      "\n",
      "フーリエ変換信号の次点idx : 24\n",
      "フーリエ変換信号の次点振幅 : 0.9999999999999996\n",
      "フーリエ変換信号の次点周波数 : 15.238095238095237\n",
      "\n",
      "■■■　逆フーリエ変換信号特性　■■■\n",
      "逆フーリエ変換信号の最大idx : 41\n",
      "逆フーリエ変換信号の最大振幅 : 1.2071067811865523\n",
      "逆フーリエ変換信号の最大時刻 : 1.0250000000000001\n"
     ]
    },
    {
     "ename": "FileNotFoundError",
     "evalue": "[Errno 2] No such file or directory: 'C:\\\\Users\\\\UserName\\\\Desktop\\\\ifft0.0.jpg'",
     "output_type": "error",
     "traceback": [
      "\u001b[1;31m---------------------------------------------------------------------------\u001b[0m",
      "\u001b[1;31mFileNotFoundError\u001b[0m                         Traceback (most recent call last)",
      "\u001b[1;32m<ipython-input-24-7fbe96030deb>\u001b[0m in \u001b[0;36m<module>\u001b[1;34m\u001b[0m\n\u001b[0;32m    119\u001b[0m \u001b[0mfile_dir\u001b[0m  \u001b[1;33m=\u001b[0m \u001b[1;34m'C:\\\\Users\\\\UserName\\\\Desktop\\\\'\u001b[0m\u001b[1;33m\u001b[0m\u001b[1;33m\u001b[0m\u001b[0m\n\u001b[0;32m    120\u001b[0m \u001b[0mfile_name\u001b[0m \u001b[1;33m=\u001b[0m \u001b[1;34m'ifft'\u001b[0m\u001b[1;33m\u001b[0m\u001b[1;33m\u001b[0m\u001b[0m\n\u001b[1;32m--> 121\u001b[1;33m \u001b[0mfig\u001b[0m\u001b[1;33m.\u001b[0m\u001b[0msavefig\u001b[0m\u001b[1;33m(\u001b[0m\u001b[0mfile_dir\u001b[0m \u001b[1;33m+\u001b[0m \u001b[0mfile_name\u001b[0m \u001b[1;33m+\u001b[0m \u001b[1;34m'0.0.jpg'\u001b[0m\u001b[1;33m,\u001b[0m \u001b[0mbbox_unches\u001b[0m\u001b[1;33m=\u001b[0m\u001b[1;34m\"tight\"\u001b[0m\u001b[1;33m)\u001b[0m\u001b[1;33m\u001b[0m\u001b[1;33m\u001b[0m\u001b[0m\n\u001b[0m",
      "\u001b[1;32m~\\anaconda3\\lib\\site-packages\\matplotlib\\figure.py\u001b[0m in \u001b[0;36msavefig\u001b[1;34m(self, fname, transparent, **kwargs)\u001b[0m\n\u001b[0;32m   2201\u001b[0m             \u001b[0mself\u001b[0m\u001b[1;33m.\u001b[0m\u001b[0mpatch\u001b[0m\u001b[1;33m.\u001b[0m\u001b[0mset_visible\u001b[0m\u001b[1;33m(\u001b[0m\u001b[0mframeon\u001b[0m\u001b[1;33m)\u001b[0m\u001b[1;33m\u001b[0m\u001b[1;33m\u001b[0m\u001b[0m\n\u001b[0;32m   2202\u001b[0m \u001b[1;33m\u001b[0m\u001b[0m\n\u001b[1;32m-> 2203\u001b[1;33m         \u001b[0mself\u001b[0m\u001b[1;33m.\u001b[0m\u001b[0mcanvas\u001b[0m\u001b[1;33m.\u001b[0m\u001b[0mprint_figure\u001b[0m\u001b[1;33m(\u001b[0m\u001b[0mfname\u001b[0m\u001b[1;33m,\u001b[0m \u001b[1;33m**\u001b[0m\u001b[0mkwargs\u001b[0m\u001b[1;33m)\u001b[0m\u001b[1;33m\u001b[0m\u001b[1;33m\u001b[0m\u001b[0m\n\u001b[0m\u001b[0;32m   2204\u001b[0m \u001b[1;33m\u001b[0m\u001b[0m\n\u001b[0;32m   2205\u001b[0m         \u001b[1;32mif\u001b[0m \u001b[0mframeon\u001b[0m\u001b[1;33m:\u001b[0m\u001b[1;33m\u001b[0m\u001b[1;33m\u001b[0m\u001b[0m\n",
      "\u001b[1;32m~\\anaconda3\\lib\\site-packages\\matplotlib\\backends\\backend_qt5agg.py\u001b[0m in \u001b[0;36mprint_figure\u001b[1;34m(self, *args, **kwargs)\u001b[0m\n\u001b[0;32m     91\u001b[0m \u001b[1;33m\u001b[0m\u001b[0m\n\u001b[0;32m     92\u001b[0m     \u001b[1;32mdef\u001b[0m \u001b[0mprint_figure\u001b[0m\u001b[1;33m(\u001b[0m\u001b[0mself\u001b[0m\u001b[1;33m,\u001b[0m \u001b[1;33m*\u001b[0m\u001b[0margs\u001b[0m\u001b[1;33m,\u001b[0m \u001b[1;33m**\u001b[0m\u001b[0mkwargs\u001b[0m\u001b[1;33m)\u001b[0m\u001b[1;33m:\u001b[0m\u001b[1;33m\u001b[0m\u001b[1;33m\u001b[0m\u001b[0m\n\u001b[1;32m---> 93\u001b[1;33m         \u001b[0msuper\u001b[0m\u001b[1;33m(\u001b[0m\u001b[1;33m)\u001b[0m\u001b[1;33m.\u001b[0m\u001b[0mprint_figure\u001b[0m\u001b[1;33m(\u001b[0m\u001b[1;33m*\u001b[0m\u001b[0margs\u001b[0m\u001b[1;33m,\u001b[0m \u001b[1;33m**\u001b[0m\u001b[0mkwargs\u001b[0m\u001b[1;33m)\u001b[0m\u001b[1;33m\u001b[0m\u001b[1;33m\u001b[0m\u001b[0m\n\u001b[0m\u001b[0;32m     94\u001b[0m         \u001b[0mself\u001b[0m\u001b[1;33m.\u001b[0m\u001b[0mdraw\u001b[0m\u001b[1;33m(\u001b[0m\u001b[1;33m)\u001b[0m\u001b[1;33m\u001b[0m\u001b[1;33m\u001b[0m\u001b[0m\n\u001b[0;32m     95\u001b[0m \u001b[1;33m\u001b[0m\u001b[0m\n",
      "\u001b[1;32m~\\anaconda3\\lib\\site-packages\\matplotlib\\backend_bases.py\u001b[0m in \u001b[0;36mprint_figure\u001b[1;34m(self, filename, dpi, facecolor, edgecolor, orientation, format, bbox_inches, **kwargs)\u001b[0m\n\u001b[0;32m   2117\u001b[0m \u001b[1;33m\u001b[0m\u001b[0m\n\u001b[0;32m   2118\u001b[0m             \u001b[1;32mtry\u001b[0m\u001b[1;33m:\u001b[0m\u001b[1;33m\u001b[0m\u001b[1;33m\u001b[0m\u001b[0m\n\u001b[1;32m-> 2119\u001b[1;33m                 result = print_method(\n\u001b[0m\u001b[0;32m   2120\u001b[0m                     \u001b[0mfilename\u001b[0m\u001b[1;33m,\u001b[0m\u001b[1;33m\u001b[0m\u001b[1;33m\u001b[0m\u001b[0m\n\u001b[0;32m   2121\u001b[0m                     \u001b[0mdpi\u001b[0m\u001b[1;33m=\u001b[0m\u001b[0mdpi\u001b[0m\u001b[1;33m,\u001b[0m\u001b[1;33m\u001b[0m\u001b[1;33m\u001b[0m\u001b[0m\n",
      "\u001b[1;32m~\\anaconda3\\lib\\site-packages\\matplotlib\\cbook\\deprecation.py\u001b[0m in \u001b[0;36mwrapper\u001b[1;34m(*args, **kwargs)\u001b[0m\n\u001b[0;32m    356\u001b[0m                 \u001b[1;34mf\"%(removal)s.  If any parameter follows {name!r}, they \"\u001b[0m\u001b[1;33m\u001b[0m\u001b[1;33m\u001b[0m\u001b[0m\n\u001b[0;32m    357\u001b[0m                 f\"should be pass as keyword, not positionally.\")\n\u001b[1;32m--> 358\u001b[1;33m         \u001b[1;32mreturn\u001b[0m \u001b[0mfunc\u001b[0m\u001b[1;33m(\u001b[0m\u001b[1;33m*\u001b[0m\u001b[0margs\u001b[0m\u001b[1;33m,\u001b[0m \u001b[1;33m**\u001b[0m\u001b[0mkwargs\u001b[0m\u001b[1;33m)\u001b[0m\u001b[1;33m\u001b[0m\u001b[1;33m\u001b[0m\u001b[0m\n\u001b[0m\u001b[0;32m    359\u001b[0m \u001b[1;33m\u001b[0m\u001b[0m\n\u001b[0;32m    360\u001b[0m     \u001b[1;32mreturn\u001b[0m \u001b[0mwrapper\u001b[0m\u001b[1;33m\u001b[0m\u001b[1;33m\u001b[0m\u001b[0m\n",
      "\u001b[1;32m~\\anaconda3\\lib\\site-packages\\matplotlib\\backends\\backend_agg.py\u001b[0m in \u001b[0;36mprint_jpg\u001b[1;34m(self, filename_or_obj, dryrun, pil_kwargs, *args, **kwargs)\u001b[0m\n\u001b[0;32m    597\u001b[0m             \u001b[0mpil_kwargs\u001b[0m\u001b[1;33m.\u001b[0m\u001b[0msetdefault\u001b[0m\u001b[1;33m(\u001b[0m\u001b[1;34m\"quality\"\u001b[0m\u001b[1;33m,\u001b[0m \u001b[0mrcParams\u001b[0m\u001b[1;33m[\u001b[0m\u001b[1;34m\"savefig.jpeg_quality\"\u001b[0m\u001b[1;33m]\u001b[0m\u001b[1;33m)\u001b[0m\u001b[1;33m\u001b[0m\u001b[1;33m\u001b[0m\u001b[0m\n\u001b[0;32m    598\u001b[0m             \u001b[0mpil_kwargs\u001b[0m\u001b[1;33m.\u001b[0m\u001b[0msetdefault\u001b[0m\u001b[1;33m(\u001b[0m\u001b[1;34m\"dpi\"\u001b[0m\u001b[1;33m,\u001b[0m \u001b[1;33m(\u001b[0m\u001b[0mself\u001b[0m\u001b[1;33m.\u001b[0m\u001b[0mfigure\u001b[0m\u001b[1;33m.\u001b[0m\u001b[0mdpi\u001b[0m\u001b[1;33m,\u001b[0m \u001b[0mself\u001b[0m\u001b[1;33m.\u001b[0m\u001b[0mfigure\u001b[0m\u001b[1;33m.\u001b[0m\u001b[0mdpi\u001b[0m\u001b[1;33m)\u001b[0m\u001b[1;33m)\u001b[0m\u001b[1;33m\u001b[0m\u001b[1;33m\u001b[0m\u001b[0m\n\u001b[1;32m--> 599\u001b[1;33m             return background.save(\n\u001b[0m\u001b[0;32m    600\u001b[0m                 filename_or_obj, format='jpeg', **pil_kwargs)\n\u001b[0;32m    601\u001b[0m \u001b[1;33m\u001b[0m\u001b[0m\n",
      "\u001b[1;32m~\\anaconda3\\lib\\site-packages\\PIL\\Image.py\u001b[0m in \u001b[0;36msave\u001b[1;34m(self, fp, format, **params)\u001b[0m\n\u001b[0;32m   2153\u001b[0m                 \u001b[0mfp\u001b[0m \u001b[1;33m=\u001b[0m \u001b[0mbuiltins\u001b[0m\u001b[1;33m.\u001b[0m\u001b[0mopen\u001b[0m\u001b[1;33m(\u001b[0m\u001b[0mfilename\u001b[0m\u001b[1;33m,\u001b[0m \u001b[1;34m\"r+b\"\u001b[0m\u001b[1;33m)\u001b[0m\u001b[1;33m\u001b[0m\u001b[1;33m\u001b[0m\u001b[0m\n\u001b[0;32m   2154\u001b[0m             \u001b[1;32melse\u001b[0m\u001b[1;33m:\u001b[0m\u001b[1;33m\u001b[0m\u001b[1;33m\u001b[0m\u001b[0m\n\u001b[1;32m-> 2155\u001b[1;33m                 \u001b[0mfp\u001b[0m \u001b[1;33m=\u001b[0m \u001b[0mbuiltins\u001b[0m\u001b[1;33m.\u001b[0m\u001b[0mopen\u001b[0m\u001b[1;33m(\u001b[0m\u001b[0mfilename\u001b[0m\u001b[1;33m,\u001b[0m \u001b[1;34m\"w+b\"\u001b[0m\u001b[1;33m)\u001b[0m\u001b[1;33m\u001b[0m\u001b[1;33m\u001b[0m\u001b[0m\n\u001b[0m\u001b[0;32m   2156\u001b[0m \u001b[1;33m\u001b[0m\u001b[0m\n\u001b[0;32m   2157\u001b[0m         \u001b[1;32mtry\u001b[0m\u001b[1;33m:\u001b[0m\u001b[1;33m\u001b[0m\u001b[1;33m\u001b[0m\u001b[0m\n",
      "\u001b[1;31mFileNotFoundError\u001b[0m: [Errno 2] No such file or directory: 'C:\\\\Users\\\\UserName\\\\Desktop\\\\ifft0.0.jpg'"
     ]
    }
   ],
   "source": [
    "###############################################################################\n",
    "# 逆高速フーリエ変換（ IFFT ）を計算するプログラム\n",
    "###############################################################################\n",
    "# インポート\n",
    "import matplotlib.pyplot as plt\n",
    "import numpy as np\n",
    " \n",
    "# 簡単な信号の作成\n",
    "N     = 2**6 # サンプル数\n",
    "dt    = 0.025 # サンプリング周期（ sec ）\n",
    "freq1 = 10 # 周波数（ Hz ）\n",
    "ampl1 = 1 # 振幅\n",
    "freq2 = 15 # 周波数（ Hz ）\n",
    "ampl2 = 1 # 振幅\n",
    "print(\"■■■　入力条件　■■■\")\n",
    "print(\"サンプル数 : \" + str(N))\n",
    "print(\"サンプリング周期 : \" + str(dt) + ' sec')\n",
    "print(\"サンプリング周波数 : \" + str(1/dt) + ' Hz')\n",
    "print(\"入力波１\")\n",
    "print(\"　　周波数 : \" + str(freq1) + ' Hz')\n",
    "print(\"　　振　幅 : \" + str(ampl1))\n",
    "print(\"入力波２\")\n",
    "print(\"　　周波数 : \" + str(freq2) + ' Hz')\n",
    "print(\"　　振　幅 : \" + str(ampl2))\n",
    " \n",
    "# 時間軸\n",
    "t = np.arange(0, N*dt, dt)\n",
    "print(\"サンプリング時間 : \" + str(N*dt-dt) + ' sec')\n",
    "print(\"サンプリング時刻 : \" + str(t))\n",
    " \n",
    "# ｛周波数　freq1, 振幅　amp1　の正弦入力波｝ + ｛周波数　freq2, 振幅　amp2　の正弦入力波｝\n",
    "f = ampl1*np.sin(2*np.pi*freq1*t) + ampl2*np.sin(2*np.pi*freq2*t)\n",
    "# 周波数　freq1, 振幅　amp1　の正弦入力波\n",
    "#f = amp1 * np.sin(2*np.pi*freq1*t)\n",
    " \n",
    "# 高速フーリエ変換（ FFT ）\n",
    "F = np.fft.fft(f)\n",
    " \n",
    "# FFT の複素数結果を絶対に変換\n",
    "absf = np.abs(F)\n",
    " \n",
    "# 振幅をもとの信号に揃える\n",
    "absf_amp = absf / N * 2\n",
    "absf_amp[0] = absf_amp[0] / 2\n",
    " \n",
    "# 周波数軸のデータ作成\n",
    "fq = np.linspace(0, 1.0/dt, N) # 周波数軸　linspace(開始, 終了, 分割数)\n",
    " \n",
    "idx = np.argmax(f)\n",
    "print(\"\\n■■■　入力信号特性　■■■\")\n",
    "print(\"入力信号の最大idx : \" + str(idx))\n",
    "print(\"入力信号の最大振幅 : \" + str(f[idx]))\n",
    "print(\"入力信号の最大時刻 : \" + str(t[idx]))\n",
    " \n",
    "idx = np.array(absf_amp[:int(N/2)+1]) # コピー\n",
    "idx = idx.argsort()[::-1] # 降順に並べ替えた時のインデックスを取得する\n",
    "print(\"\\n■■■　フーリエ変換信号特性　■■■\")\n",
    "print(\"フーリエ変換信号の最大idx : \" + str(idx[0]))\n",
    "print(\"フーリエ変換信号の最大振幅 : \" + str(absf_amp[idx[0]]))\n",
    "print(\"フーリエ変換信号の最大周波数 : \" + str(fq[idx[0]]))\n",
    " \n",
    "print(\"\\nフーリエ変換信号の次点idx : \" + str(idx[1]))\n",
    "print(\"フーリエ変換信号の次点振幅 : \" + str(absf_amp[idx[1]]))\n",
    "print(\"フーリエ変換信号の次点周波数 : \" + str(fq[idx[1]]))\n",
    " \n",
    "# 逆フーリエ変換（ IFFT ）\n",
    "fc = 11\n",
    "F2 = F.copy()\n",
    "F2[(fq < fc)] = 0\n",
    "\n",
    "\n",
    "F_ifft = np.fft.ifft(F2)\n",
    " \n",
    "# 実数部の取得\n",
    "F_ifft_real = F_ifft.real\n",
    " \n",
    "# スライス\n",
    "F_ifft_real[:10]\n",
    " \n",
    "idx = np.argmax(F_ifft_real)\n",
    "print(\"\\n■■■　逆フーリエ変換信号特性　■■■\")\n",
    "print(\"逆フーリエ変換信号の最大idx : \" + str(idx))\n",
    "print(\"逆フーリエ変換信号の最大振幅 : \" + str(F_ifft_real[idx]))\n",
    "print(\"逆フーリエ変換信号の最大時刻 : \" + str(t[idx]))\n",
    " \n",
    "# グラフ表示\n",
    "fig, axes = plt.subplots(nrows=2, ncols=2, figsize=(10, 12))\n",
    " \n",
    "# 信号のグラフ（時間軸）\n",
    "axes[0, 0].plot(t, f)\n",
    "axes[0, 0].set_title('Input Wave')\n",
    "axes[0, 0].set_xlabel('time[sec]')\n",
    "axes[0, 0].set_ylabel('amplitude')\n",
    "axes[0, 0].grid(True)\n",
    " \n",
    "# FFTのグラフ（周波数軸）\n",
    "axes[0, 1].plot(fq[:int(N/2)+1], absf_amp[:int(N/2)+1])\n",
    "axes[0, 1].set_title('Fast Fourier Transform')\n",
    "axes[0, 1].set_xlabel('freqency[Hz]')\n",
    "axes[0, 1].set_ylabel('amplitude')\n",
    "axes[0, 1].grid(True)\n",
    " \n",
    "# IFFTのグラフ（時間軸）\n",
    "axes[1, 0].plot(t, F_ifft_real, c=\"g\")\n",
    "axes[1, 0].set_title('Inverse Fast Fourier Transform')\n",
    "axes[1, 0].set_xlabel('time[sec]')\n",
    "axes[1, 0].set_ylabel('amplitude')\n",
    "axes[1, 0].grid(True)\n",
    " \n",
    "# Input Wave と IFFT Wave の重ね合わせ\n",
    "axes[1, 1].plot(t, f, c=\"g\")\n",
    "axes[1, 1].plot(t, F_ifft_real, c=\"b\")\n",
    "axes[1, 1].set_title('Input Wave and IFFT')\n",
    "axes[1, 1].set_xlabel('time[sec]')\n",
    "axes[1, 1].set_ylabel('amplitude')\n",
    "axes[1, 1].grid(True)\n",
    " \n",
    "# グラフの出力\n",
    "file_dir  = 'C:\\\\Users\\\\UserName\\\\Desktop\\\\'\n",
    "file_name = 'ifft'\n",
    "fig.savefig(file_dir + file_name + '0.0.jpg', bbox_unches=\"tight\")"
   ]
  },
  {
   "cell_type": "code",
   "execution_count": 15,
   "metadata": {
    "scrolled": true
   },
   "outputs": [
    {
     "name": "stdout",
     "output_type": "stream",
     "text": [
      "\n",
      "■■■　入力信号特性　■■■\n",
      "入力信号の最大idx : 18744\n",
      "入力信号の最大振幅 : 0.90208244\n",
      "入力信号の最大時刻 : 0.018744\n",
      "\n",
      "■■■　フーリエ変換信号特性　■■■\n",
      "フーリエ変換信号の最大idx : 2\n",
      "フーリエ変換信号の最大振幅 : 0.25279209540553077\n",
      "フーリエ変換信号の最大周波数 : 80.00320012800512\n",
      "\n",
      "フーリエ変換信号の次点idx : 9\n",
      "フーリエ変換信号の次点振幅 : 0.11563654469418347\n",
      "フーリエ変換信号の次点周波数 : 360.01440057602304\n",
      "\n",
      "■■■　逆フーリエ変換信号特性　■■■\n",
      "逆フーリエ変換信号の最大idx : 18744\n",
      "逆フーリエ変換信号の最大振幅 : 0.47430681371394673\n",
      "逆フーリエ変換信号の最大時刻 : 0.018744\n"
     ]
    }
   ],
   "source": [
    "%matplotlib qt\n",
    " \n",
    "# 簡単な信号の作成\n",
    "N     = 25000 # サンプル数\n",
    "dt = 1/10**6  # サンプリング周期（ sec ）\n",
    "\n",
    "# 時間軸\n",
    "t = np.arange(0, N*dt, dt)\n",
    "\n",
    "\n",
    "date = 20230113\n",
    "start = 2000000\n",
    "end = start + N\n",
    "load_path = rf\"Z:\\100 Raw_data\\{date}---切削実験\\AE\\Cutting\\AE_50.tdms\"\n",
    "d = load_tdms(load_path, ch_num=3)\n",
    "d = d[1][start:end]\n",
    "\n",
    "f = d\n",
    " \n",
    "# 高速フーリエ変換（ FFT ）\n",
    "F = np.fft.fft(f)\n",
    " \n",
    "# FFT の複素数結果を絶対に変換\n",
    "absf = np.abs(F)\n",
    " \n",
    "# 振幅をもとの信号に揃える\n",
    "absf_amp = absf / N * 2\n",
    "absf_amp[0] = absf_amp[0] / 2\n",
    " \n",
    "# 周波数軸のデータ作成\n",
    "fq = np.linspace(0, 1.0/dt, N) # 周波数軸　linspace(開始, 終了, 分割数)\n",
    " \n",
    "idx = np.argmax(f)\n",
    "print(\"\\n■■■　入力信号特性　■■■\")\n",
    "print(\"入力信号の最大idx : \" + str(idx))\n",
    "print(\"入力信号の最大振幅 : \" + str(f[idx]))\n",
    "print(\"入力信号の最大時刻 : \" + str(t[idx]))\n",
    " \n",
    "idx = np.array(absf_amp[:int(N/2)+1]) # コピー\n",
    "idx = idx.argsort()[::-1] # 降順に並べ替えた時のインデックスを取得する\n",
    "print(\"\\n■■■　フーリエ変換信号特性　■■■\")\n",
    "print(\"フーリエ変換信号の最大idx : \" + str(idx[0]))\n",
    "print(\"フーリエ変換信号の最大振幅 : \" + str(absf_amp[idx[0]]))\n",
    "print(\"フーリエ変換信号の最大周波数 : \" + str(fq[idx[0]]))\n",
    " \n",
    "print(\"\\nフーリエ変換信号の次点idx : \" + str(idx[1]))\n",
    "print(\"フーリエ変換信号の次点振幅 : \" + str(absf_amp[idx[1]]))\n",
    "print(\"フーリエ変換信号の次点周波数 : \" + str(fq[idx[1]]))\n",
    " \n",
    "# 逆フーリエ変換（ IFFT ）\n",
    "fc = 400000\n",
    "F2 = F.copy()\n",
    "F2[(fq < fc)] = 0\n",
    "\n",
    "\n",
    "F_ifft = np.fft.ifft(F2)\n",
    " \n",
    "# 実数部の取得\n",
    "F_ifft_real = F_ifft.real\n",
    " \n",
    "# スライス\n",
    "F_ifft_real[:10]\n",
    " \n",
    "idx = np.argmax(F_ifft_real)\n",
    "print(\"\\n■■■　逆フーリエ変換信号特性　■■■\")\n",
    "print(\"逆フーリエ変換信号の最大idx : \" + str(idx))\n",
    "print(\"逆フーリエ変換信号の最大振幅 : \" + str(F_ifft_real[idx]))\n",
    "print(\"逆フーリエ変換信号の最大時刻 : \" + str(t[idx]))\n",
    " \n",
    "# グラフ表示\n",
    "fig, axes = plt.subplots(nrows=2, ncols=2)\n",
    " \n",
    "# 信号のグラフ（時間軸）\n",
    "axes[0, 0].plot(t, f)\n",
    "axes[0, 0].set_title('Input Wave')\n",
    "axes[0, 0].set_xlabel('time[sec]')\n",
    "axes[0, 0].set_ylabel('amplitude')\n",
    "axes[0, 0].grid(True)\n",
    " \n",
    "# FFTのグラフ（周波数軸）\n",
    "axes[0, 1].plot(fq[:int(N/2)+1], 20*np.log10(absf_amp[:int(N/2)+1]))\n",
    "axes[0, 1].set_title('Fast Fourier Transform')\n",
    "axes[0, 1].set_xlabel('freqency[Hz]')\n",
    "axes[0, 1].set_ylabel('amplitude')\n",
    "axes[0, 1].grid(True)\n",
    " \n",
    "# IFFTのグラフ（時間軸）\n",
    "axes[1, 0].plot(t, F_ifft_real, c=\"g\")\n",
    "axes[1, 0].set_title('Inverse Fast Fourier Transform')\n",
    "axes[1, 0].set_xlabel('time[sec]')\n",
    "axes[1, 0].set_ylabel('amplitude')\n",
    "axes[1, 0].grid(True)\n",
    " \n",
    "# Input Wave と IFFT Wave の重ね合わせ\n",
    "axes[1, 1].plot(t, f, c=\"g\")\n",
    "axes[1, 1].plot(t, F_ifft_real, c=\"b\")\n",
    "axes[1, 1].set_title('Input Wave and IFFT')\n",
    "axes[1, 1].set_xlabel('time[sec]')\n",
    "axes[1, 1].set_ylabel('amplitude')\n",
    "axes[1, 1].grid(True)\n",
    " \n",
    "# グラフの出力\n",
    "# file_dir  = 'C:\\\\Users\\\\UserName\\\\Desktop\\\\'\n",
    "# file_name = 'ifft'\n",
    "# fig.savefig(file_dir + file_name + '0.0.jpg', bbox_unches=\"tight\")"
   ]
  },
  {
   "cell_type": "code",
   "execution_count": 18,
   "metadata": {},
   "outputs": [],
   "source": [
    "F_ = np.fft.fft(F_ifft_real)\n",
    "absf_ = np.abs(F_)\n",
    "absf_amp_ = absf_ / N * 2\n",
    "absf_amp_[0] = absf_amp_[0] / 2"
   ]
  },
  {
   "cell_type": "code",
   "execution_count": 20,
   "metadata": {},
   "outputs": [
    {
     "data": {
      "text/plain": [
       "[<matplotlib.lines.Line2D at 0x28a03a53e50>]"
      ]
     },
     "execution_count": 20,
     "metadata": {},
     "output_type": "execute_result"
    }
   ],
   "source": [
    "plt.plot(fq[:int(N/2)+1], 20*np.log10(absf_amp[:int(N/2)+1]), c=\"g\")\n",
    "plt.plot(fq[:int(N/2)+1], 20*np.log10(absf_amp_[:int(N/2)+1]), c=\"b\")"
   ]
  },
  {
   "cell_type": "code",
   "execution_count": 70,
   "metadata": {},
   "outputs": [],
   "source": [
    "num = 60\n",
    "date = 20230113\n",
    "N     = 25000\n",
    "dt = 1/10**6\n",
    "fc = 300000"
   ]
  },
  {
   "cell_type": "code",
   "execution_count": 71,
   "metadata": {},
   "outputs": [],
   "source": [
    "t = np.arange(0, N*dt, dt)\n",
    "start = 2000000\n",
    "end = start + N\n",
    "load_path = rf\"Z:\\100 Raw_data\\{date}---切削実験\\AE\\Cutting\\AE_{num}.tdms\"\n",
    "d = load_tdms(load_path, ch_num=3)\n",
    "d = d[1][start:end]\n",
    "f = d"
   ]
  },
  {
   "cell_type": "code",
   "execution_count": 79,
   "metadata": {},
   "outputs": [],
   "source": [
    "F = np.fft.fft(f)\n",
    "absf = np.abs(F)\n",
    "absf_amp = absf / N * 2\n",
    "absf_amp[0] = absf_amp[0] /2\n",
    "fq = np.linspace(0, 1.0/dt, N)\n",
    "# 逆フーリエ変換（ IFFT ）\n",
    "F_t = F.copy()\n",
    "F_t[(fq < fc)] = 0\n",
    "F_ifft = np.fft.ifft(F_t)\n",
    "F_ifft_real = F_ifft.real\n",
    "F2 = np.fft.fft(F_t)\n",
    "absf2 = np.abs(F2)\n",
    "absf_amp2 = absf2 / N * 2\n",
    "absf_amp2[0] = absf_amp2[0] / 2\n",
    "fq2 = np.linspace(0, 1.0/dt, N)\n",
    "F2 = np.fft.fft(F_ifft_real)\n",
    "absf2 = np.abs(F2)\n",
    "absf_amp2 = absf2 / N * 2\n",
    "absf_amp2[0] = absf_amp2[0] / 2\n",
    "fq2 = np.linspace(0, 1.0/dt, N)"
   ]
  },
  {
   "cell_type": "code",
   "execution_count": 80,
   "metadata": {},
   "outputs": [],
   "source": [
    "fig, axes = plt.subplots(nrows=2, ncols=1)\n",
    "axes[0].plot(t, f)\n",
    "axes[0].plot(t, F_ifft_real)\n",
    "axes[0].grid(True)\n",
    "\n",
    "axes[1].plot(fq[1:int(N/2)+1],  20*np.log10(absf_amp[1:int(N/2)+1]))\n",
    "axes[1].plot(fq2[1:int(N/2)+1],  20*np.log10(absf_amp2[1:int(N/2)+1]))\n",
    "axes[1].grid(True)"
   ]
  },
  {
   "cell_type": "code",
   "execution_count": 42,
   "metadata": {},
   "outputs": [],
   "source": [
    "date = 20230113\n",
    "N     = 25000\n",
    "dt = 1/10**6\n",
    "t = np.arange(0, N*dt, dt)\n",
    "\n",
    "start = 2000000\n",
    "end = start + N\n",
    "load_path = rf\"Z:\\100 Raw_data\\{date}---切削実験\\AE\\Cutting\\AE_{num}.tdms\"\n",
    "d = load_tdms(load_path, ch_num=3)\n",
    "d = d[1][start:end]\n",
    "f = d"
   ]
  },
  {
   "cell_type": "code",
   "execution_count": 34,
   "metadata": {},
   "outputs": [],
   "source": [
    "F = np.fft.fft(f)\n",
    "absf = np.abs(F)\n",
    "absf_amp = absf / N * 2\n",
    "absf_amp[0] = absf_amp[0] / 2\n",
    "fq = np.linspace(0, 1.0/dt, N)"
   ]
  },
  {
   "cell_type": "code",
   "execution_count": 35,
   "metadata": {},
   "outputs": [],
   "source": [
    "# 逆フーリエ変換（ IFFT ）\n",
    "fc = 400000\n",
    "F_t = F.copy()\n",
    "F_t[(fq < fc)] = 0\n",
    "F_ifft = np.fft.ifft(F_t)\n",
    "F_ifft_real = F_ifft.real"
   ]
  },
  {
   "cell_type": "code",
   "execution_count": 36,
   "metadata": {},
   "outputs": [
    {
     "name": "stdout",
     "output_type": "stream",
     "text": [
      "25000\n",
      "25000\n"
     ]
    }
   ],
   "source": [
    "print(len(F_ifft_real))\n",
    "print(len(f))"
   ]
  },
  {
   "cell_type": "code",
   "execution_count": 37,
   "metadata": {},
   "outputs": [],
   "source": [
    "F2 = np.fft.fft(F_ifft_real)\n",
    "absf2 = np.abs(F2)\n",
    "absf_amp2 = absf2 / N * 2\n",
    "absf_amp2[0] = absf_amp2[0] / 2\n",
    "fq2 = np.linspace(0, 1.0/dt, N)"
   ]
  },
  {
   "cell_type": "code",
   "execution_count": 47,
   "metadata": {
    "scrolled": true
   },
   "outputs": [],
   "source": [
    "fig, axes = plt.subplots(nrows=2, ncols=1)\n",
    "axes[0].plot(t, f)\n",
    "axes[0].plot(t, F_ifft_real)\n",
    "axes[0].grid(True)\n",
    "\n",
    "axes[1].plot(fq[:int(N/2)+1],  20*np.log10(absf_amp[:int(N/2)+1]))\n",
    "axes[1].plot(fq2[:int(N/2)+1],  20*np.log10(absf_amp2[:int(N/2)+1]))\n",
    "axes[1].grid(True)\n"
   ]
  },
  {
   "cell_type": "code",
   "execution_count": 154,
   "metadata": {},
   "outputs": [],
   "source": [
    "d = np.load(rf\"Z:\\200 Produced_data\\20230120\\AE\\menseki\\50khz\\NOoutlier\\All6Norm_flatten_1-120.npy\")"
   ]
  },
  {
   "cell_type": "code",
   "execution_count": 155,
   "metadata": {},
   "outputs": [
    {
     "data": {
      "text/plain": [
       "[<matplotlib.lines.Line2D at 0x28a2a5ac430>]"
      ]
     },
     "execution_count": 155,
     "metadata": {},
     "output_type": "execute_result"
    }
   ],
   "source": [
    "plt.plot(d)"
   ]
  },
  {
   "cell_type": "code",
   "execution_count": 145,
   "metadata": {},
   "outputs": [],
   "source": [
    "d = np.load(rf\"Z:\\200 Produced_data\\20230113\\AE\\menseki\\50khz\\All1_Norm.npy\")"
   ]
  },
  {
   "cell_type": "code",
   "execution_count": 143,
   "metadata": {},
   "outputs": [
    {
     "data": {
      "text/plain": [
       "(120, 1200)"
      ]
     },
     "execution_count": 143,
     "metadata": {},
     "output_type": "execute_result"
    }
   ],
   "source": [
    "d.shape"
   ]
  },
  {
   "cell_type": "code",
   "execution_count": 140,
   "metadata": {},
   "outputs": [],
   "source": [
    "d_ = d.reshape(120,1200)"
   ]
  },
  {
   "cell_type": "code",
   "execution_count": null,
   "metadata": {},
   "outputs": [],
   "source": []
  },
  {
   "cell_type": "code",
   "execution_count": 146,
   "metadata": {},
   "outputs": [
    {
     "data": {
      "text/plain": [
       "<matplotlib.axes._subplots.AxesSubplot at 0x28a24c2a700>"
      ]
     },
     "execution_count": 146,
     "metadata": {},
     "output_type": "execute_result"
    }
   ],
   "source": [
    "sns.heatmap(d)"
   ]
  },
  {
   "cell_type": "code",
   "execution_count": 147,
   "metadata": {},
   "outputs": [
    {
     "data": {
      "text/plain": [
       "[<matplotlib.lines.Line2D at 0x28a28690130>]"
      ]
     },
     "execution_count": 147,
     "metadata": {},
     "output_type": "execute_result"
    }
   ],
   "source": [
    "df = d.ravel()\n",
    "plt.plot(df)"
   ]
  },
  {
   "cell_type": "code",
   "execution_count": null,
   "metadata": {},
   "outputs": [],
   "source": []
  }
 ],
 "metadata": {
  "kernelspec": {
   "display_name": "Python 3",
   "language": "python",
   "name": "python3"
  },
  "language_info": {
   "codemirror_mode": {
    "name": "ipython",
    "version": 3
   },
   "file_extension": ".py",
   "mimetype": "text/x-python",
   "name": "python",
   "nbconvert_exporter": "python",
   "pygments_lexer": "ipython3",
   "version": "3.8.3"
  }
 },
 "nbformat": 4,
 "nbformat_minor": 4
}
