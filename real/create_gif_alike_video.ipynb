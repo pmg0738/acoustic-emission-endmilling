{
 "cells": [
  {
   "cell_type": "code",
   "execution_count": 1,
   "metadata": {},
   "outputs": [],
   "source": [
    "from moviepy.editor import *\n",
    "from pathlib import Path\n",
    "import numpy as np\n",
    "import cv2"
   ]
  },
  {
   "cell_type": "code",
   "execution_count": null,
   "metadata": {},
   "outputs": [],
   "source": []
  },
  {
   "cell_type": "code",
   "execution_count": 2,
   "metadata": {},
   "outputs": [
    {
     "data": {
      "text/plain": [
       "array([  0,  20,  40,  60,  80, 100, 120, 140, 160, 180, 200, 220, 240,\n",
       "       260, 280, 300, 320, 340, 360, 380, 400, 420, 440, 460])"
      ]
     },
     "execution_count": 2,
     "metadata": {},
     "output_type": "execute_result"
    }
   ],
   "source": [
    "num_list = np.arange(0,461,20)\n",
    "num_list"
   ]
  },
  {
   "cell_type": "code",
   "execution_count": 21,
   "metadata": {},
   "outputs": [
    {
     "name": "stdout",
     "output_type": "stream",
     "text": [
      "0\n"
     ]
    },
    {
     "ename": "error",
     "evalue": "OpenCV(4.6.0) D:\\a\\opencv-python\\opencv-python\\opencv\\modules\\imgcodecs\\src\\loadsave.cpp:801: error: (-215:Assertion failed) !_img.empty() in function 'cv::imwrite'\n",
     "output_type": "error",
     "traceback": [
      "\u001b[1;31m---------------------------------------------------------------------------\u001b[0m",
      "\u001b[1;31merror\u001b[0m                                     Traceback (most recent call last)",
      "\u001b[1;32m<ipython-input-21-aff1cbe33935>\u001b[0m in \u001b[0;36m<module>\u001b[1;34m\u001b[0m\n\u001b[0;32m     10\u001b[0m                 thickness=2,)\n\u001b[0;32m     11\u001b[0m \u001b[1;33m\u001b[0m\u001b[0m\n\u001b[1;32m---> 12\u001b[1;33m     \u001b[0mcv2\u001b[0m\u001b[1;33m.\u001b[0m\u001b[0mimwrite\u001b[0m\u001b[1;33m(\u001b[0m\u001b[1;34mrf'Z:\\200 Produced_data\\20230113\\microscope\\bottom\\{num}.jpg'\u001b[0m\u001b[1;33m,\u001b[0m \u001b[0mimg\u001b[0m\u001b[1;33m)\u001b[0m\u001b[1;33m\u001b[0m\u001b[1;33m\u001b[0m\u001b[0m\n\u001b[0m\u001b[0;32m     13\u001b[0m \u001b[1;31m#     cv2.imwrite(rf'./{num}jpg', img)\u001b[0m\u001b[1;33m\u001b[0m\u001b[1;33m\u001b[0m\u001b[1;33m\u001b[0m\u001b[0m\n",
      "\u001b[1;31merror\u001b[0m: OpenCV(4.6.0) D:\\a\\opencv-python\\opencv-python\\opencv\\modules\\imgcodecs\\src\\loadsave.cpp:801: error: (-215:Assertion failed) !_img.empty() in function 'cv::imwrite'\n"
     ]
    }
   ],
   "source": [
    "for num in num_list:\n",
    "    print(num)\n",
    "    img = cv2.imread(rf'C:\\Users\\pmg07\\Desktop\\修論ppt\\工具\\底面\\_{num}.jpg')\n",
    "    cv2.putText(img,\n",
    "                text=rf'{num}path',\n",
    "                org=(0, 500),\n",
    "                fontFace=cv2.FONT_HERSHEY_SIMPLEX,\n",
    "                fontScale=1.0,\n",
    "                color=(0, 255, 0),\n",
    "                thickness=2,)\n",
    "\n",
    "    cv2.imwrite(rf'Z:\\200 Produced_data\\20230113\\microscope\\bottom\\{num}.jpg', img)\n",
    "#     cv2.imwrite(rf'./{num}jpg', img)    "
   ]
  },
  {
   "cell_type": "code",
   "execution_count": 3,
   "metadata": {
    "scrolled": true
   },
   "outputs": [
    {
     "data": {
      "text/plain": [
       "array([  0,  20,  40,  60,  80, 100, 120, 140, 160, 180, 200, 220, 240,\n",
       "       260, 280, 300, 320, 340, 360, 380, 400, 420, 440, 460])"
      ]
     },
     "execution_count": 3,
     "metadata": {},
     "output_type": "execute_result"
    }
   ],
   "source": []
  },
  {
   "cell_type": "code",
   "execution_count": 36,
   "metadata": {
    "scrolled": true
   },
   "outputs": [
    {
     "name": "stderr",
     "output_type": "stream",
     "text": [
      "t:   5%|▌         | 3/58 [00:00<00:01, 29.41it/s, now=None]"
     ]
    },
    {
     "name": "stdout",
     "output_type": "stream",
     "text": [
      "Moviepy - Building video C:\\Users\\pmg07\\Desktop\\修論ppt\\工具\\側面\\_output_video0.1.mp4.\n",
      "Moviepy - Writing video C:\\Users\\pmg07\\Desktop\\修論ppt\\工具\\側面\\_output_video0.1.mp4\n",
      "\n"
     ]
    },
    {
     "name": "stderr",
     "output_type": "stream",
     "text": [
      "                                                            \r"
     ]
    },
    {
     "name": "stdout",
     "output_type": "stream",
     "text": [
      "Moviepy - Done !\n",
      "Moviepy - video ready C:\\Users\\pmg07\\Desktop\\修論ppt\\工具\\側面\\_output_video0.1.mp4\n"
     ]
    }
   ],
   "source": [
    "img_clips = []\n",
    "path_list=[]\n",
    "duration_t = 0.1\n",
    "#accessing path of each image\n",
    "for num in num_list:\n",
    "    path_list.append(rf'C:\\Users\\pmg07\\Desktop\\修論ppt\\工具\\側面\\_a_{num}.jpg')\n",
    "#creating slide for each image\n",
    "for img_path in path_list:\n",
    "#     print(img_path)\n",
    "    slide = ImageClip(img_path,duration=duration_t)\n",
    "    img_clips.append(slide)\n",
    "#concatenating slides\n",
    "video_slides = concatenate_videoclips(img_clips, method='compose')\n",
    "#exporting final video\n",
    "video_slides.write_videofile(rf\"C:\\Users\\pmg07\\Desktop\\修論ppt\\工具\\側面\\_output_video{duration_t}.mp4\", fps=24)"
   ]
  },
  {
   "cell_type": "code",
   "execution_count": 7,
   "metadata": {},
   "outputs": [],
   "source": [
    "num_list = np.arange(1,1140)"
   ]
  },
  {
   "cell_type": "code",
   "execution_count": 9,
   "metadata": {},
   "outputs": [
    {
     "name": "stderr",
     "output_type": "stream",
     "text": [
      "\r",
      "t:   0%|          | 0/553 [00:00<?, ?it/s, now=None]"
     ]
    },
    {
     "name": "stdout",
     "output_type": "stream",
     "text": [
      "Moviepy - Building video Z:\\200 Produced_data\\20230123\\FFT\\spindle\\focus_on_one_path\\output_video0.1.mp4.\n",
      "Moviepy - Writing video Z:\\200 Produced_data\\20230123\\FFT\\spindle\\focus_on_one_path\\output_video0.1.mp4\n",
      "\n"
     ]
    },
    {
     "name": "stderr",
     "output_type": "stream",
     "text": [
      "                                                              \r"
     ]
    },
    {
     "name": "stdout",
     "output_type": "stream",
     "text": [
      "Moviepy - Done !\n",
      "Moviepy - video ready Z:\\200 Produced_data\\20230123\\FFT\\spindle\\focus_on_one_path\\output_video0.1.mp4\n"
     ]
    }
   ],
   "source": [
    "img_clips = []\n",
    "path_list=[]\n",
    "#accessing path of each image\n",
    "for num in num_list:\n",
    "    path_list.append(rf'Z:\\200 Produced_data\\20230123\\FFT\\spindle\\focus_on_one_path\\20_{num}.png')\n",
    "#creating slide for each image\n",
    "for img_path in path_list:\n",
    "#     print(img_path)\n",
    "    slide = ImageClip(img_path,duration=0.05)\n",
    "    img_clips.append(slide)\n",
    "#concatenating slides\n",
    "video_slides = concatenate_videoclips(img_clips, method='compose')\n",
    "#exporting final video\n",
    "video_slides.write_videofile(rf\"Z:\\200 Produced_data\\20230123\\FFT\\spindle\\focus_on_one_path\\output_video0.1.mp4\", fps=24)"
   ]
  },
  {
   "cell_type": "code",
   "execution_count": 12,
   "metadata": {},
   "outputs": [
    {
     "data": {
      "text/plain": [
       "1197"
      ]
     },
     "execution_count": 12,
     "metadata": {},
     "output_type": "execute_result"
    }
   ],
   "source": [
    "int(9950000/8308)"
   ]
  },
  {
   "cell_type": "code",
   "execution_count": null,
   "metadata": {},
   "outputs": [],
   "source": []
  }
 ],
 "metadata": {
  "kernelspec": {
   "display_name": "Python 3",
   "language": "python",
   "name": "python3"
  },
  "language_info": {
   "codemirror_mode": {
    "name": "ipython",
    "version": 3
   },
   "file_extension": ".py",
   "mimetype": "text/x-python",
   "name": "python",
   "nbconvert_exporter": "python",
   "pygments_lexer": "ipython3",
   "version": "3.8.3"
  }
 },
 "nbformat": 4,
 "nbformat_minor": 4
}
