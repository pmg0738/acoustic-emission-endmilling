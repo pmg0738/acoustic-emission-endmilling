{
 "cells": [
  {
   "cell_type": "code",
   "execution_count": 1,
   "metadata": {},
   "outputs": [],
   "source": [
    "from loadTDMS import *\n",
    "from fft_test import *\n",
    "import numpy as np\n",
    "import pandas as pd\n",
    "import matplotlib.pyplot as plt\n",
    "from tqdm import tqdm\n",
    "import seaborn as sns"
   ]
  },
  {
   "cell_type": "code",
   "execution_count": 2,
   "metadata": {},
   "outputs": [],
   "source": [
    "#　移動平均のための np_array作成\n",
    "x = np.linspace(-1,1,100)\n",
    "v = np.exp(-x**2 / 2) / np.sqrt(2 * np.pi)\n",
    "v = v / np.sum(v)\n",
    "v = np.sort(v)[::-1]"
   ]
  },
  {
   "cell_type": "code",
   "execution_count": 3,
   "metadata": {},
   "outputs": [],
   "source": [
    "# FFT条件\n",
    "dt = 1/10**6\n",
    "split_t_r = 0.1 # 1つの枠で全体のどの割合のデータを分析するか。\n",
    "overlap = 0.5  # オーバーラップ率\n",
    "window_F = \"hamming\"  # 窓関数選択: hanning, hamming, blackman\n",
    "y_label = \"amplitude\"\n",
    "y_unit = \"V\""
   ]
  },
  {
   "cell_type": "code",
   "execution_count": 4,
   "metadata": {},
   "outputs": [],
   "source": [
    "# FFTするpathのリスト\n",
    "# ex_path = [3,61,100,150,164]\n",
    "ex_path = [2,4]"
   ]
  },
  {
   "cell_type": "code",
   "execution_count": 5,
   "metadata": {},
   "outputs": [],
   "source": [
    "def execute_fft(num,start,end,output_FN,title):\n",
    "    load_path = rf\"Z:\\100 Raw_data\\20221027---切削実験\\AE\\Cutting\\AE_{num}.tdms\"\n",
    "    d = load_tdms(load_path, ch_num=3)\n",
    "    d = d[0][start:end]\n",
    "    \n",
    "    N = len(d)\n",
    "    t = np.linspace(0, N*dt, N)  # 周波数軸　linspace(開始,終了,分割数)\n",
    "   \n",
    "    fq_, amp_ = FFT_main(t, d, dt, split_t_r, overlap, window_F)\n",
    "    plot_FFT(fq_, amp_, output_FN, y_label, y_unit, title)"
   ]
  },
  {
   "cell_type": "code",
   "execution_count": 7,
   "metadata": {},
   "outputs": [
    {
     "name": "stderr",
     "output_type": "stream",
     "text": [
      "100%|██████████| 2/2 [01:19<00:00, 39.64s/it]\n"
     ]
    }
   ],
   "source": [
    "for num in tqdm(ex_path):\n",
    "    \n",
    "    #　データ読み込み\n",
    "    cf = np.load(rf\"Z:\\200 Produced_data\\20221027\\CF\\{num}.npy\")\n",
    "    \n",
    "    #　負の値を0に\n",
    "    cf[cf < 0] = 0\n",
    "    \n",
    "    #　移動平均でノイズ除去\n",
    "    cf_m_avg = np.convolve(cf,v, mode='valid')\n",
    "    cf_m_avg[cf_m_avg < 5] = 0\n",
    "\n",
    "    \n",
    "    #　0であるところのstartとendを特定する.高速ver\n",
    "    cf_w = np.where(cf_m_avg != 0)[0]\n",
    "    cf_wd = cf_w[1:] - cf_w[:-1]\n",
    "    cf_wdd = np.where(cf_wd > 1600)[0]\n",
    "    cf_wdd = cf_wdd + 1\n",
    "    \n",
    "    \n",
    "    \n",
    "    for i in range(len(cf_wdd)-1 - 1050):\n",
    "        start = cf_w[cf_wdd[i]]*3\n",
    "        end = cf_w[cf_wdd[i+1]]*3\n",
    "#         print(f\"{start}:{end}\")\n",
    "        output_FN = rf\"Z:\\200 Produced_data\\20221027\\CF\\menseki\\fig\\100&1600\\AE\\{num}_{i}\"\n",
    "        title = str(num) + \"_\" + str(i)\n",
    "        execute_fft(num,start,end,output_FN,title)"
   ]
  },
  {
   "cell_type": "code",
   "execution_count": null,
   "metadata": {},
   "outputs": [],
   "source": []
  }
 ],
 "metadata": {
  "kernelspec": {
   "display_name": "Python 3",
   "language": "python",
   "name": "python3"
  },
  "language_info": {
   "codemirror_mode": {
    "name": "ipython",
    "version": 3
   },
   "file_extension": ".py",
   "mimetype": "text/x-python",
   "name": "python",
   "nbconvert_exporter": "python",
   "pygments_lexer": "ipython3",
   "version": "3.8.3"
  }
 },
 "nbformat": 4,
 "nbformat_minor": 4
}
