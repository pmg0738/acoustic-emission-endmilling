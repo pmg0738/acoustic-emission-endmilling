{
 "cells": [
  {
   "cell_type": "code",
   "execution_count": 1,
   "metadata": {},
   "outputs": [],
   "source": [
    "from loadTDMS import *\n",
    "from fft_test import *\n",
    "import numpy as np\n",
    "import pandas as pd\n",
    "import matplotlib.pyplot as plt\n",
    "from tqdm import tqdm\n",
    "import seaborn as sns"
   ]
  },
  {
   "cell_type": "code",
   "execution_count": 2,
   "metadata": {},
   "outputs": [],
   "source": [
    "#　移動平均のための np_array作成\n",
    "x = np.linspace(-1,1,100)\n",
    "v = np.exp(-x**2 / 2) / np.sqrt(2 * np.pi)\n",
    "v = v / np.sum(v)\n",
    "v = np.sort(v)[::-1]"
   ]
  },
  {
   "cell_type": "code",
   "execution_count": 21,
   "metadata": {},
   "outputs": [
    {
     "name": "stderr",
     "output_type": "stream",
     "text": [
      "100%|██████████| 1/1 [00:01<00:00,  1.66s/it]\n"
     ]
    }
   ],
   "source": [
    "%matplotlib qt\n",
    "\n",
    "for num in tqdm(range(1,2)):\n",
    "    figure, ax = plt.subplots()\n",
    "    \n",
    "    #　データ読み込み\n",
    "    cf = np.load(rf\"Z:\\200 Produced_data\\20221027\\CF\\{num}.npy\")\n",
    "    \n",
    "    #　負の値を0に\n",
    "    cf[cf < 30] = 0\n",
    "    \n",
    "    #　移動平均でノイズ除去\n",
    "#     cf_m_avg = np.convolve(cf,v, mode='valid')\n",
    "#     cf_m_avg[cf_m_avg < 5] = 0\n",
    "\n",
    "    #　0であるところのstartとendを特定する.高速ver\n",
    "    cf_w = np.where(cf != 0)[0]\n",
    "    cf_wd = cf_w[1:] - cf_w[:-1]\n",
    "    cf_wdd = np.where((cf_wd > 1300) & (cf_wd < 5000))[0]\n",
    "    cf_wdd = cf_wdd + 1\n",
    "    \n",
    "    plt.plot(cf[4083*150:], linewidth=3)\n",
    "#     plt.plot(cf_m_avg)\n",
    "    \n",
    "#     cf_w[cf_wdd[i]]\n",
    "    \n",
    "    # mapの中（どんな処理、対象のリスト）\n",
    "    list(map(lambda x_: plt.axvline(x=cf_w[x_],color=\"red\"), cf_wdd))\n",
    "    for i in range(len(cf_wdd)):\n",
    "        if i%2 ==0:\n",
    "            ax.axvspan(cf_w[cf_wdd[i]], cf_w[cf_wdd[i+1]], color=\"olive\", alpha = 0.3)\n",
    "#         else:\n",
    "#             ax.axvspan(cf_w[cf_wdd[i]], cf_w[cf_wdd[i+1]], color=\"gray\", alpha = 0.3)\n",
    "\n",
    "        \n",
    "#     list(map(lambda x_: ax.axvspan(cf_w[x_], cf_w[x_], color = \"coral\"), cf_wdd))\n",
    "\n",
    "    \n",
    "    \n"
   ]
  },
  {
   "cell_type": "code",
   "execution_count": 24,
   "metadata": {},
   "outputs": [
    {
     "name": "stderr",
     "output_type": "stream",
     "text": [
      "100%|██████████| 3/3 [00:01<00:00,  2.84it/s]\n"
     ]
    }
   ],
   "source": [
    "for num in tqdm(range(1,4)):    \n",
    "    #　データ読み込み\n",
    "    cf = np.load(rf\"Z:\\200 Produced_data\\20221027\\CF\\{num}.npy\")\n",
    "    \n",
    "    #　負の値を0に\n",
    "    cf[cf < 0] = 0\n",
    "    \n",
    "    #　移動平均でノイズ除去\n",
    "    cf_m_avg = np.convolve(cf,v, mode='valid')\n",
    "    cf_m_avg[cf_m_avg < 5] = 0\n",
    "\n",
    "    #　0であるところのstartとendを特定する.高速ver\n",
    "    cf_w = np.where(cf_m_avg != 0)[0]\n",
    "    cf_wd = cf_w[1:] - cf_w[:-1]\n",
    "#     cf_wdd = np.where(cf_wd > 1300)[0]\n",
    "    cf_wdd = np.where((cf_wd > 1300) & (cf_wd < 5000))[0]\n",
    "    cf_wdd = cf_wdd + 1\n",
    "    \n",
    "    sample_n = []\n",
    "\n",
    "    list(map(lambda i: sample_n.append(cf_w[i]), cf_wdd))\n",
    "#     list(map(lambda i: print(cf_w[i]), cf_wdd))\n",
    "\n",
    "    \n",
    "    np.save(rf\"Z:\\200 Produced_data\\20221027\\CF\\find_best_interval\\{num}_1300_5000\", sample_n)"
   ]
  },
  {
   "cell_type": "code",
   "execution_count": 32,
   "metadata": {},
   "outputs": [
    {
     "data": {
      "text/plain": [
       "1209"
      ]
     },
     "execution_count": 32,
     "metadata": {},
     "output_type": "execute_result"
    }
   ],
   "source": [
    "d = np.load(rf\"Z:\\200 Produced_data\\20221027\\CF\\find_best_interval\\1_1300_5000.npy\")\n",
    "len(d)"
   ]
  },
  {
   "cell_type": "code",
   "execution_count": 33,
   "metadata": {},
   "outputs": [
    {
     "data": {
      "text/plain": [
       "1109"
      ]
     },
     "execution_count": 33,
     "metadata": {},
     "output_type": "execute_result"
    }
   ],
   "source": [
    "d = d[:-100]\n",
    "len(d)"
   ]
  },
  {
   "cell_type": "code",
   "execution_count": 36,
   "metadata": {},
   "outputs": [
    {
     "data": {
      "text/plain": [
       "4073.075812274368"
      ]
     },
     "execution_count": 36,
     "metadata": {},
     "output_type": "execute_result"
    }
   ],
   "source": [
    "a = d[1:] - d[:-1]\n",
    "sns.distplot(a, kde=False, rug=False)\n",
    "# plt.plot(a)\n",
    "np.average(a)"
   ]
  },
  {
   "cell_type": "code",
   "execution_count": 12,
   "metadata": {},
   "outputs": [],
   "source": [
    "import statistics\n",
    "import math"
   ]
  },
  {
   "cell_type": "code",
   "execution_count": 16,
   "metadata": {},
   "outputs": [
    {
     "data": {
      "text/plain": [
       "4059.5"
      ]
     },
     "execution_count": 16,
     "metadata": {},
     "output_type": "execute_result"
    }
   ],
   "source": [
    "# statistics.mode(a)\n",
    "statistics.median(a)"
   ]
  },
  {
   "cell_type": "code",
   "execution_count": 39,
   "metadata": {},
   "outputs": [],
   "source": [
    "h = np.arange(1,10)"
   ]
  },
  {
   "cell_type": "code",
   "execution_count": 47,
   "metadata": {},
   "outputs": [],
   "source": [
    "h_s = np.array(np.split(h, 3))"
   ]
  },
  {
   "cell_type": "code",
   "execution_count": 48,
   "metadata": {},
   "outputs": [
    {
     "data": {
      "text/plain": [
       "(3, 3)"
      ]
     },
     "execution_count": 48,
     "metadata": {},
     "output_type": "execute_result"
    }
   ],
   "source": []
  },
  {
   "cell_type": "code",
   "execution_count": null,
   "metadata": {},
   "outputs": [],
   "source": []
  }
 ],
 "metadata": {
  "kernelspec": {
   "display_name": "Python 3",
   "language": "python",
   "name": "python3"
  },
  "language_info": {
   "codemirror_mode": {
    "name": "ipython",
    "version": 3
   },
   "file_extension": ".py",
   "mimetype": "text/x-python",
   "name": "python",
   "nbconvert_exporter": "python",
   "pygments_lexer": "ipython3",
   "version": "3.8.3"
  }
 },
 "nbformat": 4,
 "nbformat_minor": 4
}
